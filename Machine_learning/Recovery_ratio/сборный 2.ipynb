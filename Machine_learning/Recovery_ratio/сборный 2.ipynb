{
 "cells": [
  {
   "cell_type": "markdown",
   "metadata": {},
   "source": [
    "# Восстановление золота из руды"
   ]
  },
  {
   "cell_type": "markdown",
   "metadata": {},
   "source": [
    "Подготовьте прототип модели машинного обучения для «Цифры». Компания разрабатывает решения для эффективной работы промышленных предприятий.\n",
    "\n",
    "Модель должна предсказать коэффициент восстановления золота из золотосодержащей руды. Используйте данные с параметрами добычи и очистки. \n",
    "\n",
    "Модель поможет оптимизировать производство, чтобы не запускать предприятие с убыточными характеристиками."
   ]
  },
  {
   "cell_type": "markdown",
   "metadata": {},
   "source": [
    "## Подготовка данных"
   ]
  },
  {
   "cell_type": "code",
   "execution_count": 1,
   "metadata": {},
   "outputs": [],
   "source": [
    "import pandas as pd\n",
    "import matplotlib.pyplot as plt\n",
    "import seaborn as sns\n",
    "import warnings\n",
    "import scipy as sc\n",
    "import numpy as np\n",
    "from sklearn.tree import DecisionTreeRegressor\n",
    "from sklearn.ensemble import RandomForestRegressor\n",
    "from sklearn.linear_model import LinearRegression\n",
    "from sklearn.model_selection import cross_val_score\n",
    "from sklearn.preprocessing import StandardScaler\n",
    "from sklearn.metrics import make_scorer, mean_absolute_error\n",
    "from sklearn.dummy import DummyRegressor"
   ]
  },
  {
   "cell_type": "code",
   "execution_count": 5,
   "metadata": {},
   "outputs": [
    {
     "data": {
      "text/plain": [
       "(14149, 87)"
      ]
     },
     "execution_count": 5,
     "metadata": {},
     "output_type": "execute_result"
    }
   ],
   "source": [
    "data_train.shape"
   ]
  },
  {
   "cell_type": "code",
   "execution_count": 6,
   "metadata": {},
   "outputs": [
    {
     "data": {
      "text/plain": [
       "(5290, 53)"
      ]
     },
     "execution_count": 6,
     "metadata": {},
     "output_type": "execute_result"
    }
   ],
   "source": [
    "data_test.shape"
   ]
  },
  {
   "cell_type": "code",
   "execution_count": 7,
   "metadata": {
    "scrolled": true
   },
   "outputs": [
    {
     "data": {
      "text/plain": [
       "(19439, 87)"
      ]
     },
     "execution_count": 7,
     "metadata": {},
     "output_type": "execute_result"
    }
   ],
   "source": [
    "data_full.shape"
   ]
  },
  {
   "cell_type": "markdown",
   "metadata": {},
   "source": [
    "### Проверка эффективности обогащения"
   ]
  },
  {
   "cell_type": "code",
   "execution_count": 8,
   "metadata": {},
   "outputs": [],
   "source": [
    "def recovery (outp, inp, diff):\n",
    "    return (outp*(inp-diff))/(inp*(outp-diff))*100"
   ]
  },
  {
   "cell_type": "code",
   "execution_count": 9,
   "metadata": {},
   "outputs": [
    {
     "data": {
      "text/plain": [
       "0"
      ]
     },
     "execution_count": 9,
     "metadata": {},
     "output_type": "execute_result"
    }
   ],
   "source": [
    "data_train['rougher.output.concentrate_au'].isna().sum()"
   ]
  },
  {
   "cell_type": "code",
   "execution_count": 10,
   "metadata": {
    "scrolled": true
   },
   "outputs": [
    {
     "data": {
      "text/plain": [
       "0"
      ]
     },
     "execution_count": 10,
     "metadata": {},
     "output_type": "execute_result"
    }
   ],
   "source": [
    "data_train['rougher.input.feed_au'].isna().sum()"
   ]
  },
  {
   "cell_type": "code",
   "execution_count": 11,
   "metadata": {
    "scrolled": true
   },
   "outputs": [
    {
     "data": {
      "text/plain": [
       "1"
      ]
     },
     "execution_count": 11,
     "metadata": {},
     "output_type": "execute_result"
    }
   ],
   "source": [
    "data_train['rougher.output.tail_ag'].isna().sum()"
   ]
  },
  {
   "cell_type": "code",
   "execution_count": 12,
   "metadata": {
    "scrolled": false
   },
   "outputs": [
    {
     "data": {
      "text/html": [
       "<div>\n",
       "<style scoped>\n",
       "    .dataframe tbody tr th:only-of-type {\n",
       "        vertical-align: middle;\n",
       "    }\n",
       "\n",
       "    .dataframe tbody tr th {\n",
       "        vertical-align: top;\n",
       "    }\n",
       "\n",
       "    .dataframe thead th {\n",
       "        text-align: right;\n",
       "    }\n",
       "</style>\n",
       "<table border=\"1\" class=\"dataframe\">\n",
       "  <thead>\n",
       "    <tr style=\"text-align: right;\">\n",
       "      <th></th>\n",
       "      <th>date</th>\n",
       "      <th>final.output.concentrate_ag</th>\n",
       "      <th>final.output.concentrate_pb</th>\n",
       "      <th>final.output.concentrate_sol</th>\n",
       "      <th>final.output.concentrate_au</th>\n",
       "      <th>final.output.recovery</th>\n",
       "      <th>final.output.tail_ag</th>\n",
       "      <th>final.output.tail_pb</th>\n",
       "      <th>final.output.tail_sol</th>\n",
       "      <th>final.output.tail_au</th>\n",
       "      <th>...</th>\n",
       "      <th>secondary_cleaner.state.floatbank4_a_air</th>\n",
       "      <th>secondary_cleaner.state.floatbank4_a_level</th>\n",
       "      <th>secondary_cleaner.state.floatbank4_b_air</th>\n",
       "      <th>secondary_cleaner.state.floatbank4_b_level</th>\n",
       "      <th>secondary_cleaner.state.floatbank5_a_air</th>\n",
       "      <th>secondary_cleaner.state.floatbank5_a_level</th>\n",
       "      <th>secondary_cleaner.state.floatbank5_b_air</th>\n",
       "      <th>secondary_cleaner.state.floatbank5_b_level</th>\n",
       "      <th>secondary_cleaner.state.floatbank6_a_air</th>\n",
       "      <th>secondary_cleaner.state.floatbank6_a_level</th>\n",
       "    </tr>\n",
       "  </thead>\n",
       "  <tbody>\n",
       "    <tr>\n",
       "      <th>5471</th>\n",
       "      <td>2017-02-09 19:59:59</td>\n",
       "      <td>8.300065</td>\n",
       "      <td>8.496812</td>\n",
       "      <td>15.253318</td>\n",
       "      <td>42.335997</td>\n",
       "      <td>71.999297</td>\n",
       "      <td>12.764777</td>\n",
       "      <td>3.038042</td>\n",
       "      <td>9.255924</td>\n",
       "      <td>3.458364</td>\n",
       "      <td>...</td>\n",
       "      <td>25.090962</td>\n",
       "      <td>-400.553311</td>\n",
       "      <td>23.032821</td>\n",
       "      <td>-399.929649</td>\n",
       "      <td>22.993873</td>\n",
       "      <td>-449.404418</td>\n",
       "      <td>19.994596</td>\n",
       "      <td>-450.102943</td>\n",
       "      <td>25.010323</td>\n",
       "      <td>-599.840144</td>\n",
       "    </tr>\n",
       "  </tbody>\n",
       "</table>\n",
       "<p>1 rows × 87 columns</p>\n",
       "</div>"
      ],
      "text/plain": [
       "                     date  final.output.concentrate_ag  \\\n",
       "5471  2017-02-09 19:59:59                     8.300065   \n",
       "\n",
       "      final.output.concentrate_pb  final.output.concentrate_sol  \\\n",
       "5471                     8.496812                     15.253318   \n",
       "\n",
       "      final.output.concentrate_au  final.output.recovery  \\\n",
       "5471                    42.335997              71.999297   \n",
       "\n",
       "      final.output.tail_ag  final.output.tail_pb  final.output.tail_sol  \\\n",
       "5471             12.764777              3.038042               9.255924   \n",
       "\n",
       "      final.output.tail_au  ...  secondary_cleaner.state.floatbank4_a_air  \\\n",
       "5471              3.458364  ...                                 25.090962   \n",
       "\n",
       "      secondary_cleaner.state.floatbank4_a_level  \\\n",
       "5471                                 -400.553311   \n",
       "\n",
       "      secondary_cleaner.state.floatbank4_b_air  \\\n",
       "5471                                 23.032821   \n",
       "\n",
       "      secondary_cleaner.state.floatbank4_b_level  \\\n",
       "5471                                 -399.929649   \n",
       "\n",
       "      secondary_cleaner.state.floatbank5_a_air  \\\n",
       "5471                                 22.993873   \n",
       "\n",
       "      secondary_cleaner.state.floatbank5_a_level  \\\n",
       "5471                                 -449.404418   \n",
       "\n",
       "      secondary_cleaner.state.floatbank5_b_air  \\\n",
       "5471                                 19.994596   \n",
       "\n",
       "      secondary_cleaner.state.floatbank5_b_level  \\\n",
       "5471                                 -450.102943   \n",
       "\n",
       "      secondary_cleaner.state.floatbank6_a_air  \\\n",
       "5471                                 25.010323   \n",
       "\n",
       "      secondary_cleaner.state.floatbank6_a_level  \n",
       "5471                                 -599.840144  \n",
       "\n",
       "[1 rows x 87 columns]"
      ]
     },
     "execution_count": 12,
     "metadata": {},
     "output_type": "execute_result"
    }
   ],
   "source": [
    "data_train[data_train['rougher.output.tail_ag'].isna()]"
   ]
  },
  {
   "cell_type": "code",
   "execution_count": 13,
   "metadata": {},
   "outputs": [
    {
     "data": {
      "text/plain": [
       "9.735811566353847e-15"
      ]
     },
     "execution_count": 13,
     "metadata": {},
     "output_type": "execute_result"
    }
   ],
   "source": [
    "mean_absolute_error(\n",
    "    recovery(data_train[data_train['rougher.output.tail_ag'].index!=5471]\\\n",
    "           ['rougher.output.concentrate_au'],\n",
    "             data_train[data_train['rougher.output.tail_ag'].index!=5471]\\\n",
    "           ['rougher.input.feed_au'],\n",
    "             data_train[data_train['rougher.output.tail_ag'].index!=5471]\\\n",
    "           ['rougher.output.tail_au']),\n",
    "    data_train[data_train['rougher.output.tail_ag'].index!=5471]\\\n",
    "    ['rougher.output.recovery']\n",
    ")"
   ]
  },
  {
   "cell_type": "markdown",
   "metadata": {},
   "source": [
    "15 знаков после нуля, будем считать что ошибки нет"
   ]
  },
  {
   "cell_type": "markdown",
   "metadata": {},
   "source": [
    "### Анализ признаков недоступных в тестовой выборке"
   ]
  },
  {
   "cell_type": "code",
   "execution_count": 14,
   "metadata": {},
   "outputs": [
    {
     "data": {
      "text/plain": [
       "Index(['final.output.concentrate_ag', 'final.output.concentrate_pb',\n",
       "       'final.output.concentrate_sol', 'final.output.concentrate_au',\n",
       "       'final.output.recovery', 'final.output.tail_ag', 'final.output.tail_pb',\n",
       "       'final.output.tail_sol', 'final.output.tail_au',\n",
       "       'primary_cleaner.output.concentrate_ag',\n",
       "       'primary_cleaner.output.concentrate_pb',\n",
       "       'primary_cleaner.output.concentrate_sol',\n",
       "       'primary_cleaner.output.concentrate_au',\n",
       "       'primary_cleaner.output.tail_ag', 'primary_cleaner.output.tail_pb',\n",
       "       'primary_cleaner.output.tail_sol', 'primary_cleaner.output.tail_au',\n",
       "       'rougher.calculation.sulfate_to_au_concentrate',\n",
       "       'rougher.calculation.floatbank10_sulfate_to_au_feed',\n",
       "       'rougher.calculation.floatbank11_sulfate_to_au_feed',\n",
       "       'rougher.calculation.au_pb_ratio', 'rougher.output.concentrate_ag',\n",
       "       'rougher.output.concentrate_pb', 'rougher.output.concentrate_sol',\n",
       "       'rougher.output.concentrate_au', 'rougher.output.recovery',\n",
       "       'rougher.output.tail_ag', 'rougher.output.tail_pb',\n",
       "       'rougher.output.tail_sol', 'rougher.output.tail_au',\n",
       "       'secondary_cleaner.output.tail_ag', 'secondary_cleaner.output.tail_pb',\n",
       "       'secondary_cleaner.output.tail_sol',\n",
       "       'secondary_cleaner.output.tail_au'],\n",
       "      dtype='object')"
      ]
     },
     "execution_count": 14,
     "metadata": {},
     "output_type": "execute_result"
    }
   ],
   "source": [
    "data_train.drop(data_test.columns, axis=1).columns"
   ]
  },
  {
   "cell_type": "markdown",
   "metadata": {},
   "source": [
    "В тренировочной выборке отсутствуют:\n",
    "\n",
    "- расчетные характеристики флотации\n",
    "- продукт после флотации\n",
    "- продукт после первой очистки\n",
    "- продукт после второй очистки\n",
    "- финальный продукт\n",
    "\n",
    "Расчетные характеристики флотации и количество продукта на после каждого этапа обработки. По этим данным модели будет проще обучиться, но их не будет при разработке новых месторождений руды."
   ]
  },
  {
   "cell_type": "markdown",
   "metadata": {},
   "source": [
    "### Предобработка данных"
   ]
  },
  {
   "cell_type": "code",
   "execution_count": 15,
   "metadata": {},
   "outputs": [
    {
     "data": {
      "text/plain": [
       "25"
      ]
     },
     "execution_count": 15,
     "metadata": {},
     "output_type": "execute_result"
    }
   ],
   "source": [
    "data_test.isna().sum().max()"
   ]
  },
  {
   "cell_type": "code",
   "execution_count": 16,
   "metadata": {},
   "outputs": [
    {
     "data": {
      "text/plain": [
       "1605"
      ]
     },
     "execution_count": 16,
     "metadata": {},
     "output_type": "execute_result"
    }
   ],
   "source": [
    "data_train.isna().sum().max()"
   ]
  },
  {
   "cell_type": "code",
   "execution_count": 17,
   "metadata": {},
   "outputs": [
    {
     "data": {
      "text/plain": [
       "1748"
      ]
     },
     "execution_count": 17,
     "metadata": {},
     "output_type": "execute_result"
    }
   ],
   "source": [
    "data_full.isna().sum().max()"
   ]
  },
  {
   "cell_type": "code",
   "execution_count": 18,
   "metadata": {
    "scrolled": true
   },
   "outputs": [],
   "source": [
    "data_full = data_full.ffill()"
   ]
  },
  {
   "cell_type": "code",
   "execution_count": 19,
   "metadata": {},
   "outputs": [],
   "source": [
    "data_test = data_test.ffill()"
   ]
  },
  {
   "cell_type": "code",
   "execution_count": 20,
   "metadata": {},
   "outputs": [],
   "source": [
    "data_train = data_train.ffill()"
   ]
  },
  {
   "cell_type": "markdown",
   "metadata": {},
   "source": [
    "Пропуски заменены ближайшими по дате значениями т.к. соседние по времени параметры часто похожи."
   ]
  },
  {
   "cell_type": "markdown",
   "metadata": {},
   "source": [
    "## Анализ данных"
   ]
  },
  {
   "cell_type": "markdown",
   "metadata": {},
   "source": [
    "### Концентрация металлов (Au, Ag, Pb) на различных этапах очистки"
   ]
  },
  {
   "cell_type": "code",
   "execution_count": 21,
   "metadata": {
    "scrolled": false
   },
   "outputs": [
    {
     "data": {
      "image/png": "[encoded data removed]",
      "text/plain": [
       "<Figure size 1080x360 with 1 Axes>"
      ]
     },
     "metadata": {
      "needs_background": "light"
     },
     "output_type": "display_data"
    }
   ],
   "source": [
    "warnings.filterwarnings('ignore')\n",
    "plt.figure(figsize=(15,5))\n",
    "x = ['До флотации', 'После флотации',\n",
    "      'После первой очистки','После второй очистки']\n",
    "y = [data_full[x].mean() for x in ['rougher.input.feed_au', \n",
    "                                         'rougher.output.concentrate_au',\n",
    "      'primary_cleaner.output.concentrate_au','final.output.concentrate_au']]\n",
    "sns.lineplot(x, y ,color='gold',label='Золото')\n",
    "\n",
    "x = ['До флотации', 'После флотации',\n",
    "      'После первой очистки','После второй очистки']\n",
    "y = [data_full[x].mean() for x in ['rougher.input.feed_ag', \n",
    "                                         'rougher.output.concentrate_ag',\n",
    "      'primary_cleaner.output.concentrate_ag','final.output.concentrate_ag']]\n",
    "sns.lineplot(x, y ,color='silver',label='Серебро')\n",
    "\n",
    "x = ['До флотации', 'После флотации',\n",
    "      'После первой очистки','После второй очистки']\n",
    "y = [data_full[x].mean() for x in ['rougher.input.feed_pb', \n",
    "                                         'rougher.output.concentrate_pb',\n",
    "      'primary_cleaner.output.concentrate_pb','final.output.concentrate_pb']]\n",
    "sns.lineplot(x, y ,color='blue',label='Свинец');"
   ]
  },
  {
   "cell_type": "markdown",
   "metadata": {},
   "source": [
    "После флотации общая доля всех металлов в концентрате возрастает. \n",
    "\n",
    "После первой очистки доля золота и свинца растет, доля серебра уменьшается. \n",
    "\n",
    "После второй очистки растет только доля золота. Доля свинца не меняется, доля серебра уменьшается."
   ]
  },
  {
   "cell_type": "markdown",
   "metadata": {},
   "source": [
    "### Распределение размеров гранул сырья на обучающей и тестовой выборках"
   ]
  },
  {
   "cell_type": "code",
   "execution_count": 22,
   "metadata": {},
   "outputs": [
    {
     "name": "stdout",
     "output_type": "stream",
     "text": [
      "0.0014798278819131475\n",
      "Размеры гранул сырья не сильно отличаются\n",
      "\n",
      "0.01264468452246764\n",
      "Размеры гранул сырья не сильно отличаются\n",
      "\n",
      "0.01277984063624031\n",
      "Размеры гранул сырья не сильно отличаются\n",
      "\n",
      "0.011217371815270216\n",
      "Размеры гранул сырья не сильно отличаются\n",
      "\n",
      "0.004222812660910318\n",
      "Размеры гранул сырья не сильно отличаются\n",
      "\n"
     ]
    }
   ],
   "source": [
    "state = np.random.RandomState(12345)\n",
    "values = []\n",
    "for i in range(1000):\n",
    "    test_subsample = data_test['rougher.input.feed_size'].sample(\n",
    "        n=500, replace=True, random_state=state)\n",
    "    train_subsample = data_train['rougher.input.feed_size'].sample(\n",
    "        n=1500, replace=True, random_state=state)\n",
    "    values.append(sc.stats.ttest_ind(test_subsample, \n",
    "                             train_subsample,\n",
    "                             equal_var=False).pvalue)\n",
    "\n",
    "alpha = .05\n",
    "values = pd.Series(values)\n",
    "for i in range(1,6):\n",
    "    values_subsample=values.sample(\n",
    "        n=100, replace=True, random_state=state)\n",
    "    print(values_subsample.mean())\n",
    "    if values_subsample.mean()>alpha:\n",
    "        print('Размеры гранул сырья сильно отличаются')\n",
    "        print('')\n",
    "    else:\n",
    "        print('Размеры гранул сырья не сильно отличаются')\n",
    "        print('')"
   ]
  },
  {
   "cell_type": "markdown",
   "metadata": {},
   "source": [
    "### Cуммарная концентрация всех веществ на разных стадиях"
   ]
  },
  {
   "cell_type": "markdown",
   "metadata": {},
   "source": [
    "#### В сырье"
   ]
  },
  {
   "cell_type": "code",
   "execution_count": 23,
   "metadata": {},
   "outputs": [],
   "source": [
    "raw_reagent_sum=0\n",
    "for i in ['rougher.input.feed_ag','rougher.input.feed_pb',\n",
    "          'rougher.input.feed_sol','rougher.input.feed_au',\n",
    "          'rougher.input.floatbank10_sulfate','rougher.input.floatbank10_xanthate',\n",
    "          'rougher.input.floatbank11_sulfate','rougher.input.floatbank11_xanthate'\n",
    "         ]:\n",
    "    raw_reagent_sum+= data_full[i].mean()"
   ]
  },
  {
   "cell_type": "code",
   "execution_count": 24,
   "metadata": {},
   "outputs": [],
   "source": [
    "raw_sum=0\n",
    "for i in ['rougher.input.feed_ag','rougher.input.feed_pb',\n",
    "          'rougher.input.feed_sol','rougher.input.feed_au']:\n",
    "    raw_sum+= data_full[i].mean()"
   ]
  },
  {
   "cell_type": "markdown",
   "metadata": {},
   "source": [
    "#### В черновом концентрате"
   ]
  },
  {
   "cell_type": "code",
   "execution_count": 25,
   "metadata": {},
   "outputs": [],
   "source": [
    "rougher_sum=0\n",
    "for i in ['rougher.output.concentrate_ag','rougher.output.concentrate_pb',\n",
    "          'rougher.output.concentrate_sol','rougher.output.concentrate_au']:\n",
    "    rougher_sum+=data_full[i].mean()"
   ]
  },
  {
   "cell_type": "markdown",
   "metadata": {},
   "source": [
    "#### В финальном концентрате"
   ]
  },
  {
   "cell_type": "code",
   "execution_count": 26,
   "metadata": {},
   "outputs": [],
   "source": [
    "final_sum=0\n",
    "for i in ['final.output.concentrate_ag','final.output.concentrate_pb',\n",
    "          'final.output.concentrate_sol','final.output.concentrate_au']:\n",
    "    final_sum+=data_full[i].mean()"
   ]
  },
  {
   "cell_type": "code",
   "execution_count": 27,
   "metadata": {
    "scrolled": true
   },
   "outputs": [
    {
     "data": {
      "image/png": "[encoded data removed]",
      "text/plain": [
       "<Figure size 1080x720 with 1 Axes>"
      ]
     },
     "metadata": {
      "needs_background": "light"
     },
     "output_type": "display_data"
    }
   ],
   "source": [
    "plt.figure(figsize=(15,10))\n",
    "x = ['Сырье','Сырье+реагент', 'Черновой концентрат',\n",
    "      'Финальный концентрат']\n",
    "y = [raw_sum,raw_reagent_sum,rougher_sum,final_sum]\n",
    "sns.barplot(x, y)\n",
    "plt.title('Cуммарная концентрация всех веществ');"
   ]
  },
  {
   "cell_type": "markdown",
   "metadata": {},
   "source": [
    "Суммарная концентрация веществ в черновом концентрате больше, чем в сырье, но в процессе флотации используется много реагента"
   ]
  },
  {
   "cell_type": "markdown",
   "metadata": {},
   "source": [
    "### Cуммарная концентрация всех веществ на разных стадиях (изменения)"
   ]
  },
  {
   "cell_type": "markdown",
   "metadata": {},
   "source": [
    "#### В сырье"
   ]
  },
  {
   "cell_type": "code",
   "execution_count": 28,
   "metadata": {
    "scrolled": true
   },
   "outputs": [
    {
     "data": {
      "image/png": "[encoded data removed]",
      "text/plain": [
       "<Figure size 1080x360 with 1 Axes>"
      ]
     },
     "metadata": {
      "needs_background": "light"
     },
     "output_type": "display_data"
    }
   ],
   "source": [
    "plt.figure(figsize=(15,5))\n",
    "sns.boxplot(data_full['rougher.input.feed_ag']+data_full['rougher.input.feed_pb']+data_full['rougher.input.feed_sol']\\\n",
    "            +data_full['rougher.input.feed_au'])\n",
    "plt.title('Диаграмма размаха суммарных значений всех веществ в сырье');"
   ]
  },
  {
   "cell_type": "code",
   "execution_count": 29,
   "metadata": {},
   "outputs": [
    {
     "data": {
      "text/plain": [
       "93"
      ]
     },
     "execution_count": 29,
     "metadata": {},
     "output_type": "execute_result"
    }
   ],
   "source": [
    "((data_full['rougher.input.feed_ag']+data_full['rougher.input.feed_pb']+data_full['rougher.input.feed_sol']\\\n",
    "+data_full['rougher.input.feed_au'])<30).sum()"
   ]
  },
  {
   "cell_type": "code",
   "execution_count": 30,
   "metadata": {
    "scrolled": true
   },
   "outputs": [
    {
     "data": {
      "image/png": "[encoded data removed]",
      "text/plain": [
       "<Figure size 1080x360 with 1 Axes>"
      ]
     },
     "metadata": {
      "needs_background": "light"
     },
     "output_type": "display_data"
    }
   ],
   "source": [
    "state = np.random.RandomState(12345)\n",
    "values = []\n",
    "cols= ['rougher.input.feed_ag','rougher.input.feed_pb',\n",
    "       'rougher.input.feed_sol','rougher.input.feed_au']\n",
    "x=[]\n",
    "for i in range(30):\n",
    "    x.append(i)\n",
    "    subsample = data_full[cols].sample(n=50, replace=True, random_state=state)\n",
    "    sum_values=0\n",
    "    for j in cols:\n",
    "        sum_values+=subsample[j].mean()\n",
    "    values.append(sum_values)\n",
    "plt.figure(figsize=(15,5))\n",
    "sns.barplot(x=x,y=values)\n",
    "plt.title('Cуммарная концентрация всех веществ в сырье');"
   ]
  },
  {
   "cell_type": "markdown",
   "metadata": {},
   "source": [
    "#### В черновом концентрате"
   ]
  },
  {
   "cell_type": "code",
   "execution_count": 31,
   "metadata": {
    "scrolled": true
   },
   "outputs": [
    {
     "data": {
      "image/png": "[encoded data removed]",
      "text/plain": [
       "<Figure size 1080x360 with 1 Axes>"
      ]
     },
     "metadata": {
      "needs_background": "light"
     },
     "output_type": "display_data"
    }
   ],
   "source": [
    "plt.figure(figsize=(15,5))\n",
    "sns.boxplot(data_full['rougher.output.concentrate_ag']+data_full['rougher.output.concentrate_pb']+\\\n",
    "            data_full['rougher.output.concentrate_sol']+data_full['rougher.output.concentrate_au'])\n",
    "plt.title('Диаграмма размаха суммарных значений всех веществ в черновом концентрате');"
   ]
  },
  {
   "cell_type": "code",
   "execution_count": 32,
   "metadata": {},
   "outputs": [
    {
     "data": {
      "text/plain": [
       "410"
      ]
     },
     "execution_count": 32,
     "metadata": {},
     "output_type": "execute_result"
    }
   ],
   "source": [
    "((data_full['rougher.output.concentrate_ag']+data_full['rougher.output.concentrate_pb']+\\\n",
    "data_full['rougher.output.concentrate_sol']+data_full['rougher.output.concentrate_au'])<20).sum()"
   ]
  },
  {
   "cell_type": "code",
   "execution_count": 33,
   "metadata": {
    "scrolled": false
   },
   "outputs": [
    {
     "data": {
      "image/png": "[encoded data removed]",
      "text/plain": [
       "<Figure size 1080x360 with 1 Axes>"
      ]
     },
     "metadata": {
      "needs_background": "light"
     },
     "output_type": "display_data"
    }
   ],
   "source": [
    "state = np.random.RandomState(12345)\n",
    "values = []\n",
    "cols= ['rougher.output.concentrate_ag','rougher.output.concentrate_pb',\n",
    "       'rougher.output.concentrate_sol','rougher.output.concentrate_au']\n",
    "x=[]\n",
    "for i in range(30):\n",
    "    x.append(i)\n",
    "    subsample = data_full[cols].sample(n=50, replace=True, random_state=state)\n",
    "    sum_values=0\n",
    "    for j in cols:\n",
    "        sum_values+=subsample[j].mean()\n",
    "    values.append(sum_values)\n",
    "plt.figure(figsize=(15,5))\n",
    "sns.barplot(x=x,y=values)\n",
    "plt.title('Cуммарная концентрация всех веществ в черновом концентрате');"
   ]
  },
  {
   "cell_type": "markdown",
   "metadata": {},
   "source": [
    "#### В финальном концентрате"
   ]
  },
  {
   "cell_type": "code",
   "execution_count": 34,
   "metadata": {},
   "outputs": [
    {
     "data": {
      "image/png": "[encoded data removed]",
      "text/plain": [
       "<Figure size 1080x360 with 1 Axes>"
      ]
     },
     "metadata": {
      "needs_background": "light"
     },
     "output_type": "display_data"
    }
   ],
   "source": [
    "plt.figure(figsize=(15,5))\n",
    "sns.boxplot(data_full['final.output.concentrate_ag']+data_full['final.output.concentrate_pb']+\\\n",
    "            data_full['final.output.concentrate_sol']+data_full['final.output.concentrate_au'])\n",
    "plt.title('Диаграмма размаха суммарных значений всех веществ в финальном концентрате');"
   ]
  },
  {
   "cell_type": "code",
   "execution_count": 35,
   "metadata": {},
   "outputs": [
    {
     "data": {
      "text/plain": [
       "192"
      ]
     },
     "execution_count": 35,
     "metadata": {},
     "output_type": "execute_result"
    }
   ],
   "source": [
    "((data_full['final.output.concentrate_ag']+data_full['final.output.concentrate_pb']+\\\n",
    "data_full['final.output.concentrate_sol']+data_full['final.output.concentrate_au'])<30).sum()"
   ]
  },
  {
   "cell_type": "code",
   "execution_count": 36,
   "metadata": {},
   "outputs": [
    {
     "data": {
      "image/png": "[encoded data removed]",
      "text/plain": [
       "<Figure size 1080x360 with 1 Axes>"
      ]
     },
     "metadata": {
      "needs_background": "light"
     },
     "output_type": "display_data"
    }
   ],
   "source": [
    "state = np.random.RandomState(12345)\n",
    "values = []\n",
    "cols= ['final.output.concentrate_ag','final.output.concentrate_pb',\n",
    "       'final.output.concentrate_sol','final.output.concentrate_au']\n",
    "x=[]\n",
    "for i in range(30):\n",
    "    x.append(i)\n",
    "    subsample = data_full[cols].sample(n=50, replace=True, random_state=state)\n",
    "    sum_values=0\n",
    "    for j in cols:\n",
    "        sum_values+=subsample[j].mean()\n",
    "    values.append(sum_values)\n",
    "plt.figure(figsize=(15,5))\n",
    "sns.barplot(x=x,y=values)\n",
    "plt.title('Cуммарная концентрация всех веществ в финальном концентрате');"
   ]
  },
  {
   "cell_type": "markdown",
   "metadata": {},
   "source": [
    "В данных имеется незначительное количество выбросов"
   ]
  },
  {
   "cell_type": "markdown",
   "metadata": {},
   "source": [
    "## Модель"
   ]
  },
  {
   "cell_type": "markdown",
   "metadata": {},
   "source": [
    "### Функция для вычисления итоговой sMAPE"
   ]
  },
  {
   "cell_type": "code",
   "execution_count": 37,
   "metadata": {},
   "outputs": [],
   "source": [
    "def sMAPE (target, pred):\n",
    "    return (abs(target-pred)/((abs(target)+abs(pred))/2)).mean()*100\n",
    "def final_sMAPE(rough,final):\n",
    "    return rough/4+3*final/4"
   ]
  },
  {
   "cell_type": "markdown",
   "metadata": {},
   "source": [
    "### Выбор признаков"
   ]
  },
  {
   "cell_type": "code",
   "execution_count": 38,
   "metadata": {},
   "outputs": [],
   "source": [
    "features_rough=pd.DataFrame({})\n",
    "row=0\n",
    "cols=data_test.columns\n",
    "for i in cols[1:]:\n",
    "    features_rough.loc[row,'feature']= i\n",
    "    features_rough.loc[row,'corr']= data_train[i].corr(\n",
    "        data_train['rougher.output.recovery'])\n",
    "    row+=1"
   ]
  },
  {
   "cell_type": "code",
   "execution_count": 39,
   "metadata": {},
   "outputs": [],
   "source": [
    "features_rough=features_rough[(\n",
    "    features_rough['corr']>=0.2)]"
   ]
  },
  {
   "cell_type": "code",
   "execution_count": 40,
   "metadata": {
    "scrolled": true
   },
   "outputs": [
    {
     "data": {
      "text/html": [
       "<div>\n",
       "<style scoped>\n",
       "    .dataframe tbody tr th:only-of-type {\n",
       "        vertical-align: middle;\n",
       "    }\n",
       "\n",
       "    .dataframe tbody tr th {\n",
       "        vertical-align: top;\n",
       "    }\n",
       "\n",
       "    .dataframe thead th {\n",
       "        text-align: right;\n",
       "    }\n",
       "</style>\n",
       "<table border=\"1\" class=\"dataframe\">\n",
       "  <thead>\n",
       "    <tr style=\"text-align: right;\">\n",
       "      <th></th>\n",
       "      <th>feature</th>\n",
       "      <th>corr</th>\n",
       "    </tr>\n",
       "  </thead>\n",
       "  <tbody>\n",
       "    <tr>\n",
       "      <th>0</th>\n",
       "      <td>primary_cleaner.input.sulfate</td>\n",
       "      <td>0.272823</td>\n",
       "    </tr>\n",
       "    <tr>\n",
       "      <th>19</th>\n",
       "      <td>rougher.input.floatbank10_xanthate</td>\n",
       "      <td>0.238468</td>\n",
       "    </tr>\n",
       "    <tr>\n",
       "      <th>21</th>\n",
       "      <td>rougher.input.floatbank11_xanthate</td>\n",
       "      <td>0.216100</td>\n",
       "    </tr>\n",
       "    <tr>\n",
       "      <th>42</th>\n",
       "      <td>secondary_cleaner.state.floatbank4_a_air</td>\n",
       "      <td>0.250773</td>\n",
       "    </tr>\n",
       "    <tr>\n",
       "      <th>44</th>\n",
       "      <td>secondary_cleaner.state.floatbank4_b_air</td>\n",
       "      <td>0.240501</td>\n",
       "    </tr>\n",
       "  </tbody>\n",
       "</table>\n",
       "</div>"
      ],
      "text/plain": [
       "                                     feature      corr\n",
       "0              primary_cleaner.input.sulfate  0.272823\n",
       "19        rougher.input.floatbank10_xanthate  0.238468\n",
       "21        rougher.input.floatbank11_xanthate  0.216100\n",
       "42  secondary_cleaner.state.floatbank4_a_air  0.250773\n",
       "44  secondary_cleaner.state.floatbank4_b_air  0.240501"
      ]
     },
     "execution_count": 40,
     "metadata": {},
     "output_type": "execute_result"
    }
   ],
   "source": [
    "features_rough"
   ]
  },
  {
   "cell_type": "code",
   "execution_count": 41,
   "metadata": {},
   "outputs": [],
   "source": [
    "features_final=pd.DataFrame({})\n",
    "row=0\n",
    "cols=data_test.columns\n",
    "for i in cols[1:]:\n",
    "    features_final.loc[row,'feature']= i\n",
    "    features_final.loc[row,'corr']= data_train[i].corr(\n",
    "        data_train['final.output.recovery'])\n",
    "    row+=1"
   ]
  },
  {
   "cell_type": "code",
   "execution_count": 42,
   "metadata": {},
   "outputs": [],
   "source": [
    "features_final=features_final[(\n",
    "    features_final['corr']>=0.3)]"
   ]
  },
  {
   "cell_type": "code",
   "execution_count": 43,
   "metadata": {
    "scrolled": false
   },
   "outputs": [
    {
     "data": {
      "text/html": [
       "<div>\n",
       "<style scoped>\n",
       "    .dataframe tbody tr th:only-of-type {\n",
       "        vertical-align: middle;\n",
       "    }\n",
       "\n",
       "    .dataframe tbody tr th {\n",
       "        vertical-align: top;\n",
       "    }\n",
       "\n",
       "    .dataframe thead th {\n",
       "        text-align: right;\n",
       "    }\n",
       "</style>\n",
       "<table border=\"1\" class=\"dataframe\">\n",
       "  <thead>\n",
       "    <tr style=\"text-align: right;\">\n",
       "      <th></th>\n",
       "      <th>feature</th>\n",
       "      <th>corr</th>\n",
       "    </tr>\n",
       "  </thead>\n",
       "  <tbody>\n",
       "    <tr>\n",
       "      <th>0</th>\n",
       "      <td>primary_cleaner.input.sulfate</td>\n",
       "      <td>0.384798</td>\n",
       "    </tr>\n",
       "    <tr>\n",
       "      <th>12</th>\n",
       "      <td>rougher.input.feed_ag</td>\n",
       "      <td>0.310574</td>\n",
       "    </tr>\n",
       "    <tr>\n",
       "      <th>17</th>\n",
       "      <td>rougher.input.feed_au</td>\n",
       "      <td>0.308561</td>\n",
       "    </tr>\n",
       "    <tr>\n",
       "      <th>19</th>\n",
       "      <td>rougher.input.floatbank10_xanthate</td>\n",
       "      <td>0.328838</td>\n",
       "    </tr>\n",
       "    <tr>\n",
       "      <th>21</th>\n",
       "      <td>rougher.input.floatbank11_xanthate</td>\n",
       "      <td>0.305498</td>\n",
       "    </tr>\n",
       "  </tbody>\n",
       "</table>\n",
       "</div>"
      ],
      "text/plain": [
       "                               feature      corr\n",
       "0        primary_cleaner.input.sulfate  0.384798\n",
       "12               rougher.input.feed_ag  0.310574\n",
       "17               rougher.input.feed_au  0.308561\n",
       "19  rougher.input.floatbank10_xanthate  0.328838\n",
       "21  rougher.input.floatbank11_xanthate  0.305498"
      ]
     },
     "execution_count": 43,
     "metadata": {},
     "output_type": "execute_result"
    }
   ],
   "source": [
    "features_final"
   ]
  },
  {
   "cell_type": "markdown",
   "metadata": {},
   "source": [
    "### Выборки"
   ]
  },
  {
   "cell_type": "code",
   "execution_count": 44,
   "metadata": {},
   "outputs": [],
   "source": [
    "rougher_features_train = data_train[features_rough['feature'].to_list()]\n",
    "final_features_train = data_train[features_final['feature'].to_list()]\n",
    "\n",
    "rougher_features_test = data_test[features_rough['feature'].to_list()]\n",
    "final_features_test = data_test[features_final['feature'].to_list()]\n",
    "\n",
    "rougher_target_train = data_train['rougher.output.recovery']\n",
    "final_target_train = data_train['final.output.recovery']\n",
    "\n",
    "rougher_target_test = data_full.query('date in @data_test[\"date\"]')\\\n",
    "['rougher.output.recovery']\n",
    "final_target_test = data_full.query('date in @data_test[\"date\"]')\\\n",
    "['final.output.recovery']"
   ]
  },
  {
   "cell_type": "markdown",
   "metadata": {},
   "source": [
    "### Масштабирование"
   ]
  },
  {
   "cell_type": "code",
   "execution_count": 45,
   "metadata": {},
   "outputs": [],
   "source": [
    "scaler = StandardScaler()\n",
    "\n",
    "numeric = features_rough['feature'].to_list()\n",
    "scaler.fit(rougher_features_train[numeric])\n",
    "rougher_features_train[numeric] = scaler.transform(rougher_features_train[numeric])\n",
    "rougher_features_test[numeric] = scaler.transform(rougher_features_test[numeric])\n",
    "\n",
    "numeric = features_final['feature'].to_list()\n",
    "scaler.fit(final_features_train[numeric])\n",
    "final_features_train[numeric] = scaler.transform(final_features_train[numeric])\n",
    "final_features_test[numeric] = scaler.transform(final_features_test[numeric])"
   ]
  },
  {
   "cell_type": "markdown",
   "metadata": {},
   "source": [
    "### Выбор модели"
   ]
  },
  {
   "cell_type": "code",
   "execution_count": 46,
   "metadata": {},
   "outputs": [],
   "source": [
    "smape_scorer = make_scorer(sMAPE)"
   ]
  },
  {
   "cell_type": "markdown",
   "metadata": {},
   "source": [
    "#### DecisionTreeRegressor"
   ]
  },
  {
   "cell_type": "code",
   "execution_count": 133,
   "metadata": {
    "scrolled": true
   },
   "outputs": [
    {
     "name": "stdout",
     "output_type": "stream",
     "text": [
      "Оценка DecisionTreeClassifier для предсказания продукта после флотации: 11.038882538643959 \n",
      " Максимальная глубина: 3\n"
     ]
    }
   ],
   "source": [
    "best_result = 100\n",
    "best_depth = 0\n",
    "result =[]\n",
    "for depth in range(1,20):\n",
    "    model = DecisionTreeRegressor(random_state=12345, max_depth=depth)\n",
    "    model.fit(rougher_features_train,rougher_target_train)\n",
    "    result = cross_val_score(model, rougher_features_train, rougher_target_train, scoring=smape_scorer)\n",
    "    if abs(pd.Series(result).mean()) < best_result:\n",
    "        best_result = pd.Series(result).mean()\n",
    "        best_depth = depth\n",
    "                             \n",
    "\n",
    "print(\"Cимметричное среднее абсолютное процентное отклонение для предсказания продукта после флотации:\",\n",
    "      best_result,\\\n",
    "      \"\\n Максимальная глубина:\", best_depth)"
   ]
  },
  {
   "cell_type": "code",
   "execution_count": 136,
   "metadata": {},
   "outputs": [
    {
     "name": "stdout",
     "output_type": "stream",
     "text": [
      "Cимметричное среднее абсолютное процентное отклонение для предсказания финального продукта: 10.48806488415443 \n",
      " Максимальная глубина: 4\n"
     ]
    }
   ],
   "source": [
    "best_result = 100\n",
    "best_depth = 0\n",
    "result =[]\n",
    "for depth in range(1,20):\n",
    "    model = DecisionTreeRegressor(random_state=12345, max_depth=depth)\n",
    "    model.fit(final_features_train,final_target_train)\n",
    "    result = cross_val_score(model, final_features_train, final_target_train, scoring=smape_scorer) \n",
    "    if abs(pd.Series(result).mean()) < best_result:\n",
    "        best_result = pd.Series(result).mean()\n",
    "        best_depth = depth\n",
    "                             \n",
    "\n",
    "print(\"Cимметричное среднее абсолютное процентное отклонение для предсказания финального продукта:\",\n",
    "      best_result,\\\n",
    "      \"\\n Максимальная глубина:\", best_depth)"
   ]
  },
  {
   "cell_type": "markdown",
   "metadata": {},
   "source": [
    "#### RandomForestRegressor"
   ]
  },
  {
   "cell_type": "code",
   "execution_count": 137,
   "metadata": {
    "scrolled": true
   },
   "outputs": [
    {
     "name": "stdout",
     "output_type": "stream",
     "text": [
      "Cимметричное среднее абсолютное процентное отклонение для предсказания продукта после флотации: 10.86618230394103 \n",
      " Максимальная глубина: 7 Количество деревьев 21\n"
     ]
    }
   ],
   "source": [
    "best_result = 100\n",
    "best_depth = 0\n",
    "best_est = 0\n",
    "result =[]\n",
    "for est in range(1,31,10):\n",
    "    for depth in range(1,41,3):\n",
    "        model = RandomForestRegressor(random_state=12345, max_depth=depth,\n",
    "                                      n_estimators=est)\n",
    "        model.fit(rougher_features_train,rougher_target_train)\n",
    "        result = cross_val_score(model,rougher_features_train,rougher_target_train, scoring=smape_scorer)\n",
    "        if abs(pd.Series(result).mean()) < best_result:\n",
    "            best_result = pd.Series(result).mean()\n",
    "            best_depth = depth\n",
    "            best_est = est\n",
    "            \n",
    "print(\"Cимметричное среднее абсолютное процентное отклонение для предсказания продукта после флотации:\",\n",
    "      best_result,\\\n",
    "      \"\\n Максимальная глубина:\", best_depth, 'Количество деревьев', best_est)"
   ]
  },
  {
   "cell_type": "code",
   "execution_count": 138,
   "metadata": {
    "scrolled": true
   },
   "outputs": [
    {
     "name": "stdout",
     "output_type": "stream",
     "text": [
      "Cимметричное среднее абсолютное процентное отклонение для предсказания финального продукта: 10.245727148181833 \n",
      " Максимальная глубина: 4 Количество деревьев 41\n"
     ]
    }
   ],
   "source": [
    "best_result = 100\n",
    "best_depth = 0\n",
    "best_est = 0\n",
    "result =[]\n",
    "for est in range(1,51,10):\n",
    "    for depth in range(1,20,3):\n",
    "        model = RandomForestRegressor(random_state=12345, max_depth=depth,\n",
    "                                      n_estimators=est)\n",
    "        model.fit(final_features_train,final_target_train)\n",
    "        result = cross_val_score(model,final_features_train,final_target_train, scoring=smape_scorer) \n",
    "        if abs(pd.Series(result).mean()) < best_result:\n",
    "            best_result = pd.Series(result).mean()\n",
    "            best_depth = depth\n",
    "            best_est = est\n",
    "            \n",
    "print(\"Cимметричное среднее абсолютное процентное отклонение для предсказания финального продукта:\",\n",
    "      best_result,\\\n",
    "      \"\\n Максимальная глубина:\", best_depth, 'Количество деревьев', best_est)"
   ]
  },
  {
   "cell_type": "markdown",
   "metadata": {},
   "source": [
    "#### LinearRegression"
   ]
  },
  {
   "cell_type": "code",
   "execution_count": 139,
   "metadata": {
    "scrolled": true
   },
   "outputs": [
    {
     "name": "stdout",
     "output_type": "stream",
     "text": [
      "Cимметричное среднее абсолютное процентное отклонение для предсказания продукта после флотации: 10.771614594539974\n"
     ]
    }
   ],
   "source": [
    "model = LinearRegression()\n",
    "model.fit(rougher_features_train,rougher_target_train)\n",
    "result = cross_val_score(model,rougher_features_train,rougher_target_train, scoring=smape_scorer)\n",
    "print(\"Cимметричное среднее абсолютное процентное отклонение для предсказания продукта после флотации:\",\n",
    "      pd.Series(result).mean())"
   ]
  },
  {
   "cell_type": "code",
   "execution_count": 140,
   "metadata": {
    "scrolled": true
   },
   "outputs": [
    {
     "name": "stdout",
     "output_type": "stream",
     "text": [
      "Cимметричное среднее абсолютное процентное отклонение для предсказания финального продукта: 10.185132134457362\n"
     ]
    }
   ],
   "source": [
    "model = LinearRegression()\n",
    "model.fit(final_features_train,final_target_train)\n",
    "result = cross_val_score(model,final_features_train,final_target_train, scoring=smape_scorer)\n",
    "print(\"Cимметричное среднее абсолютное процентное отклонение для предсказания финального продукта:\",\n",
    "      pd.Series(result).mean())"
   ]
  },
  {
   "cell_type": "markdown",
   "metadata": {},
   "source": [
    "#### Константная модель"
   ]
  },
  {
   "cell_type": "code",
   "execution_count": 52,
   "metadata": {},
   "outputs": [
    {
     "name": "stdout",
     "output_type": "stream",
     "text": [
      "Cимметричное среднее абсолютное процентное отклонение для предсказания финального продукта: 10.379799283438492\n"
     ]
    }
   ],
   "source": [
    "dummy_model_rougher = DummyRegressor(strategy='constant',constant=data_full['rougher.output.recovery'].mean())\n",
    "dummy_model_rougher.fit(rougher_features_train, rougher_target_train)\n",
    "result = cross_val_score(dummy_model_rougher,rougher_features_train,rougher_target_train, scoring=smape_scorer)\n",
    "print(\"Cимметричное среднее абсолютное процентное отклонение для предсказания финального продукта:\",\n",
    "      pd.Series(result).mean())"
   ]
  },
  {
   "cell_type": "code",
   "execution_count": 53,
   "metadata": {},
   "outputs": [
    {
     "name": "stdout",
     "output_type": "stream",
     "text": [
      "Cимметричное среднее абсолютное процентное отклонение для предсказания финального продукта: 10.25957407354855\n"
     ]
    }
   ],
   "source": [
    "dummy_model_final = DummyRegressor(strategy='constant',constant=data_full['final.output.recovery'].mean())\n",
    "dummy_model_final.fit(final_features_train, final_target_train)\n",
    "result = cross_val_score(dummy_model_final,final_features_train,final_target_train, scoring=smape_scorer)\n",
    "print(\"Cимметричное среднее абсолютное процентное отклонение для предсказания финального продукта:\",\n",
    "      pd.Series(result).mean())"
   ]
  },
  {
   "cell_type": "markdown",
   "metadata": {},
   "source": [
    "Лучшая модель для предсказания продукта после флотации и финального продукта: LinearRegression"
   ]
  },
  {
   "cell_type": "markdown",
   "metadata": {},
   "source": [
    "### Модель на тестовой выборке"
   ]
  },
  {
   "cell_type": "code",
   "execution_count": 47,
   "metadata": {},
   "outputs": [
    {
     "name": "stdout",
     "output_type": "stream",
     "text": [
      "Cимметричное среднее абсолютное процентное отклонение для предсказания продукта после флотации: 8.555286833166214\n"
     ]
    }
   ],
   "source": [
    "model = LinearRegression()\n",
    "model.fit(rougher_features_train,rougher_target_train)\n",
    "rougher_pred = model.predict(rougher_features_test)\n",
    "result = sMAPE(rougher_target_test, rougher_pred)\n",
    "print(\"Cимметричное среднее абсолютное процентное отклонение для предсказания продукта после флотации:\",\n",
    "      pd.Series(result).mean())"
   ]
  },
  {
   "cell_type": "code",
   "execution_count": 48,
   "metadata": {
    "scrolled": true
   },
   "outputs": [
    {
     "name": "stdout",
     "output_type": "stream",
     "text": [
      "Cимметричное среднее абсолютное процентное отклонение для предсказания финального продукта: 9.54399582939016\n"
     ]
    }
   ],
   "source": [
    "model = LinearRegression()\n",
    "model.fit(final_features_train,final_target_train)\n",
    "final_pred = model.predict(final_features_test)\n",
    "result = sMAPE(final_target_test, final_pred)\n",
    "print(\"Cимметричное среднее абсолютное процентное отклонение для предсказания финального продукта:\",\n",
    "      pd.Series(result).mean())"
   ]
  },
  {
   "cell_type": "code",
   "execution_count": 49,
   "metadata": {
    "scrolled": true
   },
   "outputs": [
    {
     "name": "stdout",
     "output_type": "stream",
     "text": [
      "sMAPE константной модели для продукта флотации на тестовой выборке: 9.885165061706179\n",
      "sMAPE константной модели для финального продукта на тестовой выборке: 9.954530653964758\n"
     ]
    }
   ],
   "source": [
    "print('sMAPE константной модели для продукта флотации на тестовой выборке:'\n",
    "     ,sMAPE(rougher_target_test,data_full['rougher.output.recovery'].mean()))\n",
    "print('sMAPE константной модели для финального продукта на тестовой выборке:'\n",
    "     ,sMAPE(final_target_test,data_full['final.output.recovery'].mean()))"
   ]
  },
  {
   "cell_type": "markdown",
   "metadata": {},
   "source": [
    "### Итоговое sMAPE"
   ]
  },
  {
   "cell_type": "code",
   "execution_count": 54,
   "metadata": {
    "scrolled": false
   },
   "outputs": [
    {
     "data": {
      "text/plain": [
       "9.296818580334174"
      ]
     },
     "execution_count": 54,
     "metadata": {},
     "output_type": "execute_result"
    }
   ],
   "source": [
    "final_sMAPE(sMAPE(rougher_target_test, rougher_pred),\n",
    "            sMAPE(final_target_test, final_pred))"
   ]
  },
  {
   "cell_type": "code",
   "execution_count": 55,
   "metadata": {},
   "outputs": [
    {
     "data": {
      "text/plain": [
       "9.937189255900112"
      ]
     },
     "execution_count": 55,
     "metadata": {},
     "output_type": "execute_result"
    }
   ],
   "source": [
    "final_sMAPE(sMAPE(rougher_target_test, data_full['rougher.output.recovery'].mean()),\n",
    "            sMAPE(final_target_test, data_full['final.output.recovery'].mean()))"
   ]
  },
  {
   "cell_type": "markdown",
   "metadata": {},
   "source": [
    "Итоговое симметричное среднее абсолютное процентное отклонение модели LinearRegression: 9.3%\n",
    "\n",
    "Константная модель: 9.94%"
   ]
  },
  {
   "cell_type": "markdown",
   "metadata": {},
   "source": [
    "### Вывод"
   ]
  },
  {
   "cell_type": "markdown",
   "metadata": {},
   "source": [
    "После флотации общая доля всех металлов в концентрате возрастает.\n",
    "\n",
    "После первой очистки доля золота и свинца растет, доля серебра уменьшается.\n",
    "\n",
    "После второй очистки растет только доля золота. Доля свинца не меняется, доля серебра уменьшается.\n",
    "\n",
    "Размеры гранул сырья равно распределен по выборкам\n",
    "\n",
    "В данных имеется незначительное количество выбросов\n",
    "\n",
    "Наибольшую корреляцию с продуктом флотации и финальным продуктом имеет показатель сульфида натрия при первичной очистке\n",
    "\n",
    "Лучшая модель для предсказания продукта после флотации и финального продукта: LinearRegression\n",
    "\n",
    "Пусть и не намного, но LinearRegression справляется лучше, чем константная модель - разница в итоговом sMAPE: 0.64%"
   ]
  },
  {
   "cell_type": "code",
   "execution_count": null,
   "metadata": {},
   "outputs": [],
   "source": []
  }
 ],
 "metadata": {
  "ExecuteTimeLog": [
   {
    "duration": 390,
    "start_time": "2023-03-28T08:28:24.079Z"
   },
   {
    "duration": 75,
    "start_time": "2023-03-28T08:28:54.639Z"
   },
   {
    "duration": 1467,
    "start_time": "2023-03-28T08:29:26.070Z"
   },
   {
    "duration": 136,
    "start_time": "2023-03-28T08:29:55.963Z"
   },
   {
    "duration": 470,
    "start_time": "2023-03-28T08:29:56.131Z"
   },
   {
    "duration": 243,
    "start_time": "2023-03-28T08:30:25.780Z"
   },
   {
    "duration": 70,
    "start_time": "2023-03-28T08:30:26.025Z"
   },
   {
    "duration": 314,
    "start_time": "2023-03-28T08:30:26.097Z"
   },
   {
    "duration": 15,
    "start_time": "2023-03-28T08:30:37.502Z"
   },
   {
    "duration": 23,
    "start_time": "2023-03-28T08:31:46.963Z"
   },
   {
    "duration": 6,
    "start_time": "2023-03-28T08:32:10.674Z"
   },
   {
    "duration": 3,
    "start_time": "2023-03-28T08:32:13.120Z"
   },
   {
    "duration": 4,
    "start_time": "2023-03-28T08:35:18.376Z"
   },
   {
    "duration": 3,
    "start_time": "2023-03-28T08:35:18.502Z"
   },
   {
    "duration": 590,
    "start_time": "2023-03-28T08:36:56.535Z"
   },
   {
    "duration": 41,
    "start_time": "2023-03-28T08:37:32.974Z"
   },
   {
    "duration": 8,
    "start_time": "2023-03-28T08:37:40.243Z"
   },
   {
    "duration": 5,
    "start_time": "2023-03-28T08:37:48.577Z"
   },
   {
    "duration": 2,
    "start_time": "2023-03-28T08:41:18.711Z"
   },
   {
    "duration": 13,
    "start_time": "2023-03-28T08:42:02.658Z"
   },
   {
    "duration": 3,
    "start_time": "2023-03-28T09:23:49.996Z"
   },
   {
    "duration": 7,
    "start_time": "2023-03-28T09:36:41.082Z"
   },
   {
    "duration": 8,
    "start_time": "2023-03-28T09:37:04.436Z"
   },
   {
    "duration": 41,
    "start_time": "2023-03-28T09:40:17.879Z"
   },
   {
    "duration": 5,
    "start_time": "2023-03-28T09:40:25.000Z"
   },
   {
    "duration": 3,
    "start_time": "2023-03-28T09:42:29.216Z"
   },
   {
    "duration": 8,
    "start_time": "2023-03-28T09:42:37.535Z"
   },
   {
    "duration": 5,
    "start_time": "2023-03-28T09:42:39.638Z"
   },
   {
    "duration": 15,
    "start_time": "2023-03-28T09:42:40.258Z"
   },
   {
    "duration": 5,
    "start_time": "2023-03-28T09:43:26.343Z"
   },
   {
    "duration": 5,
    "start_time": "2023-03-28T09:43:32.617Z"
   },
   {
    "duration": 4,
    "start_time": "2023-03-28T09:43:36.229Z"
   },
   {
    "duration": 5,
    "start_time": "2023-03-28T09:43:52.656Z"
   },
   {
    "duration": 4,
    "start_time": "2023-03-28T09:43:52.986Z"
   },
   {
    "duration": 4,
    "start_time": "2023-03-28T09:44:08.151Z"
   },
   {
    "duration": 7,
    "start_time": "2023-03-28T09:44:57.132Z"
   },
   {
    "duration": 16,
    "start_time": "2023-03-28T09:45:02.090Z"
   },
   {
    "duration": 4,
    "start_time": "2023-03-28T09:46:25.931Z"
   },
   {
    "duration": 13,
    "start_time": "2023-03-28T09:56:14.301Z"
   },
   {
    "duration": 3,
    "start_time": "2023-03-28T09:57:16.404Z"
   },
   {
    "duration": 15,
    "start_time": "2023-03-28T09:57:38.125Z"
   },
   {
    "duration": 18,
    "start_time": "2023-03-28T09:57:45.454Z"
   },
   {
    "duration": 19,
    "start_time": "2023-03-28T09:58:36.854Z"
   },
   {
    "duration": 10,
    "start_time": "2023-03-28T10:01:35.362Z"
   },
   {
    "duration": 7,
    "start_time": "2023-03-28T10:01:47.901Z"
   },
   {
    "duration": 48,
    "start_time": "2023-03-28T10:02:00.968Z"
   },
   {
    "duration": 53,
    "start_time": "2023-03-28T10:02:04.173Z"
   },
   {
    "duration": 64,
    "start_time": "2023-03-28T10:02:06.850Z"
   },
   {
    "duration": 722,
    "start_time": "2023-03-28T10:02:08.386Z"
   },
   {
    "duration": 7,
    "start_time": "2023-03-28T10:05:39.478Z"
   },
   {
    "duration": 7,
    "start_time": "2023-03-28T10:05:53.531Z"
   },
   {
    "duration": 7,
    "start_time": "2023-03-28T10:06:05.308Z"
   },
   {
    "duration": 2710,
    "start_time": "2023-03-28T12:14:10.597Z"
   },
   {
    "duration": 1435,
    "start_time": "2023-03-28T12:14:14.328Z"
   },
   {
    "duration": 246,
    "start_time": "2023-03-28T12:14:15.765Z"
   },
   {
    "duration": 1138,
    "start_time": "2023-03-28T12:14:16.063Z"
   },
   {
    "duration": 11,
    "start_time": "2023-03-28T12:14:17.202Z"
   },
   {
    "duration": 5,
    "start_time": "2023-03-28T12:14:17.263Z"
   },
   {
    "duration": 16,
    "start_time": "2023-03-28T12:14:17.270Z"
   },
   {
    "duration": 12,
    "start_time": "2023-03-28T12:14:17.289Z"
   },
   {
    "duration": 74,
    "start_time": "2023-03-28T12:14:17.303Z"
   },
   {
    "duration": 29,
    "start_time": "2023-03-28T12:14:31.677Z"
   },
   {
    "duration": 9,
    "start_time": "2023-03-28T12:14:36.062Z"
   },
   {
    "duration": 8,
    "start_time": "2023-03-28T12:15:12.322Z"
   },
   {
    "duration": 3,
    "start_time": "2023-03-28T12:15:21.410Z"
   },
   {
    "duration": 56,
    "start_time": "2023-03-28T12:15:51.661Z"
   },
   {
    "duration": 106,
    "start_time": "2023-03-28T12:16:00.967Z"
   },
   {
    "duration": 10,
    "start_time": "2023-03-28T12:17:00.263Z"
   },
   {
    "duration": 20,
    "start_time": "2023-03-28T12:18:06.368Z"
   },
   {
    "duration": 4,
    "start_time": "2023-03-28T12:19:13.577Z"
   },
   {
    "duration": 21,
    "start_time": "2023-03-28T12:19:14.913Z"
   },
   {
    "duration": 4,
    "start_time": "2023-03-28T12:19:43.712Z"
   },
   {
    "duration": 5,
    "start_time": "2023-03-28T12:19:45.322Z"
   },
   {
    "duration": 4,
    "start_time": "2023-03-28T12:19:51.955Z"
   },
   {
    "duration": 2,
    "start_time": "2023-03-28T12:20:02.405Z"
   },
   {
    "duration": 296,
    "start_time": "2023-03-28T12:20:02.665Z"
   },
   {
    "duration": 80,
    "start_time": "2023-03-28T12:20:02.963Z"
   },
   {
    "duration": 417,
    "start_time": "2023-03-28T12:20:03.346Z"
   },
   {
    "duration": 5,
    "start_time": "2023-03-28T12:20:04.597Z"
   },
   {
    "duration": 5,
    "start_time": "2023-03-28T12:20:04.795Z"
   },
   {
    "duration": 4,
    "start_time": "2023-03-28T12:20:05.062Z"
   },
   {
    "duration": 4,
    "start_time": "2023-03-28T12:20:09.241Z"
   },
   {
    "duration": 9,
    "start_time": "2023-03-28T12:20:14.746Z"
   },
   {
    "duration": 12,
    "start_time": "2023-03-28T12:20:33.631Z"
   },
   {
    "duration": 11,
    "start_time": "2023-03-28T12:20:55.297Z"
   },
   {
    "duration": 4,
    "start_time": "2023-03-28T12:20:56.985Z"
   },
   {
    "duration": 3,
    "start_time": "2023-03-28T12:21:00.621Z"
   },
   {
    "duration": 38,
    "start_time": "2023-03-28T12:21:16.908Z"
   },
   {
    "duration": 14,
    "start_time": "2023-03-28T12:21:52.558Z"
   },
   {
    "duration": 3,
    "start_time": "2023-03-28T12:22:02.406Z"
   },
   {
    "duration": 9,
    "start_time": "2023-03-28T12:22:13.822Z"
   },
   {
    "duration": 5,
    "start_time": "2023-03-28T12:22:15.252Z"
   },
   {
    "duration": 4,
    "start_time": "2023-03-28T12:22:26.272Z"
   },
   {
    "duration": 3,
    "start_time": "2023-03-28T12:22:41.876Z"
   },
   {
    "duration": 4,
    "start_time": "2023-03-28T12:22:47.126Z"
   },
   {
    "duration": 6,
    "start_time": "2023-03-28T12:22:53.965Z"
   },
   {
    "duration": 5,
    "start_time": "2023-03-28T12:23:28.075Z"
   },
   {
    "duration": 5,
    "start_time": "2023-03-28T12:23:33.799Z"
   },
   {
    "duration": 16,
    "start_time": "2023-03-28T12:30:11.952Z"
   },
   {
    "duration": 4,
    "start_time": "2023-03-28T12:30:23.246Z"
   },
   {
    "duration": 6,
    "start_time": "2023-03-28T12:30:27.101Z"
   },
   {
    "duration": 3,
    "start_time": "2023-03-28T12:30:48.057Z"
   },
   {
    "duration": 4,
    "start_time": "2023-03-28T12:30:55.510Z"
   },
   {
    "duration": 7,
    "start_time": "2023-03-28T12:32:28.949Z"
   },
   {
    "duration": 5,
    "start_time": "2023-03-28T13:05:41.172Z"
   },
   {
    "duration": 3,
    "start_time": "2023-03-28T13:08:41.326Z"
   },
   {
    "duration": 4,
    "start_time": "2023-03-28T13:08:46.463Z"
   },
   {
    "duration": 9,
    "start_time": "2023-03-28T13:08:59.970Z"
   },
   {
    "duration": 4,
    "start_time": "2023-03-28T13:09:07.637Z"
   },
   {
    "duration": 4,
    "start_time": "2023-03-28T13:09:12.572Z"
   },
   {
    "duration": 8,
    "start_time": "2023-03-28T13:09:21.979Z"
   },
   {
    "duration": 4,
    "start_time": "2023-03-28T13:09:27.882Z"
   },
   {
    "duration": 4,
    "start_time": "2023-03-28T13:09:33.352Z"
   },
   {
    "duration": 9,
    "start_time": "2023-03-28T13:09:36.821Z"
   },
   {
    "duration": 4,
    "start_time": "2023-03-28T13:09:43.555Z"
   },
   {
    "duration": 4,
    "start_time": "2023-03-28T13:09:51.133Z"
   },
   {
    "duration": 9,
    "start_time": "2023-03-28T13:20:39.920Z"
   },
   {
    "duration": 39,
    "start_time": "2023-03-28T13:20:57.898Z"
   },
   {
    "duration": 28,
    "start_time": "2023-03-28T13:22:46.097Z"
   },
   {
    "duration": 12,
    "start_time": "2023-03-28T13:23:25.837Z"
   },
   {
    "duration": 7,
    "start_time": "2023-03-28T13:23:30.456Z"
   },
   {
    "duration": 5,
    "start_time": "2023-03-28T13:29:41.321Z"
   },
   {
    "duration": 8,
    "start_time": "2023-03-28T13:30:05.361Z"
   },
   {
    "duration": 9,
    "start_time": "2023-03-28T13:30:43.053Z"
   },
   {
    "duration": 7,
    "start_time": "2023-03-28T13:31:15.155Z"
   },
   {
    "duration": 45,
    "start_time": "2023-03-29T08:44:03.432Z"
   },
   {
    "duration": 1037,
    "start_time": "2023-03-29T08:44:05.559Z"
   },
   {
    "duration": 1217,
    "start_time": "2023-03-29T08:44:06.598Z"
   },
   {
    "duration": 150,
    "start_time": "2023-03-29T08:44:07.817Z"
   },
   {
    "duration": 519,
    "start_time": "2023-03-29T08:44:07.969Z"
   },
   {
    "duration": 8,
    "start_time": "2023-03-29T08:44:09.424Z"
   },
   {
    "duration": 6,
    "start_time": "2023-03-29T08:44:13.600Z"
   },
   {
    "duration": 4,
    "start_time": "2023-03-29T08:44:15.424Z"
   },
   {
    "duration": 354,
    "start_time": "2023-03-29T08:44:17.454Z"
   },
   {
    "duration": 4,
    "start_time": "2023-03-29T08:44:23.389Z"
   },
   {
    "duration": 11,
    "start_time": "2023-03-29T08:44:27.493Z"
   },
   {
    "duration": 3,
    "start_time": "2023-03-29T08:44:29.461Z"
   },
   {
    "duration": 3,
    "start_time": "2023-03-29T08:54:52.301Z"
   },
   {
    "duration": 275,
    "start_time": "2023-03-29T08:54:52.306Z"
   },
   {
    "duration": 85,
    "start_time": "2023-03-29T08:54:52.583Z"
   },
   {
    "duration": 354,
    "start_time": "2023-03-29T08:54:52.670Z"
   },
   {
    "duration": 5,
    "start_time": "2023-03-29T08:54:53.026Z"
   },
   {
    "duration": 14,
    "start_time": "2023-03-29T08:54:53.032Z"
   },
   {
    "duration": 8,
    "start_time": "2023-03-29T08:54:53.047Z"
   },
   {
    "duration": 11,
    "start_time": "2023-03-29T08:54:53.057Z"
   },
   {
    "duration": 17,
    "start_time": "2023-03-29T08:54:53.069Z"
   },
   {
    "duration": 6,
    "start_time": "2023-03-29T08:54:53.088Z"
   },
   {
    "duration": 6,
    "start_time": "2023-03-29T08:54:53.095Z"
   },
   {
    "duration": 42,
    "start_time": "2023-03-29T08:54:53.103Z"
   },
   {
    "duration": 7,
    "start_time": "2023-03-29T08:54:53.148Z"
   },
   {
    "duration": 26,
    "start_time": "2023-03-29T08:54:53.157Z"
   },
   {
    "duration": 23,
    "start_time": "2023-03-29T08:54:53.184Z"
   },
   {
    "duration": 13,
    "start_time": "2023-03-29T08:54:53.209Z"
   },
   {
    "duration": 13,
    "start_time": "2023-03-29T08:54:53.224Z"
   },
   {
    "duration": 7,
    "start_time": "2023-03-29T08:59:33.285Z"
   },
   {
    "duration": 7,
    "start_time": "2023-03-29T09:00:06.889Z"
   },
   {
    "duration": 8,
    "start_time": "2023-03-29T09:00:16.232Z"
   },
   {
    "duration": 8,
    "start_time": "2023-03-29T09:00:31.256Z"
   },
   {
    "duration": 7,
    "start_time": "2023-03-29T09:19:08.697Z"
   },
   {
    "duration": 3,
    "start_time": "2023-03-29T09:20:57.294Z"
   },
   {
    "duration": 38,
    "start_time": "2023-03-29T09:21:14.006Z"
   },
   {
    "duration": 24,
    "start_time": "2023-03-29T09:22:20.581Z"
   },
   {
    "duration": 10,
    "start_time": "2023-03-29T09:22:28.020Z"
   },
   {
    "duration": 62,
    "start_time": "2023-03-29T09:23:07.896Z"
   },
   {
    "duration": 10,
    "start_time": "2023-03-29T09:23:15.753Z"
   },
   {
    "duration": 7,
    "start_time": "2023-03-29T09:26:16.235Z"
   },
   {
    "duration": 12,
    "start_time": "2023-03-29T09:27:34.853Z"
   },
   {
    "duration": 10,
    "start_time": "2023-03-29T09:27:45.697Z"
   },
   {
    "duration": 9,
    "start_time": "2023-03-29T09:27:54.036Z"
   },
   {
    "duration": 9,
    "start_time": "2023-03-29T09:38:37.303Z"
   },
   {
    "duration": 7,
    "start_time": "2023-03-29T09:38:55.042Z"
   },
   {
    "duration": 7,
    "start_time": "2023-03-29T09:38:58.201Z"
   },
   {
    "duration": 21,
    "start_time": "2023-03-29T09:39:31.263Z"
   },
   {
    "duration": 13,
    "start_time": "2023-03-29T09:42:36.793Z"
   },
   {
    "duration": 11,
    "start_time": "2023-03-29T09:42:43.856Z"
   },
   {
    "duration": 11,
    "start_time": "2023-03-29T09:43:01.116Z"
   },
   {
    "duration": 14,
    "start_time": "2023-03-29T09:43:13.729Z"
   },
   {
    "duration": 11,
    "start_time": "2023-03-29T09:43:20.658Z"
   },
   {
    "duration": 19,
    "start_time": "2023-03-29T09:45:24.349Z"
   },
   {
    "duration": 9,
    "start_time": "2023-03-29T09:46:10.814Z"
   },
   {
    "duration": 11,
    "start_time": "2023-03-29T09:46:23.526Z"
   },
   {
    "duration": 15,
    "start_time": "2023-03-29T09:48:34.653Z"
   },
   {
    "duration": 19,
    "start_time": "2023-03-29T09:49:04.579Z"
   },
   {
    "duration": 95,
    "start_time": "2023-03-29T09:50:02.198Z"
   },
   {
    "duration": 14,
    "start_time": "2023-03-29T09:50:06.577Z"
   },
   {
    "duration": 60,
    "start_time": "2023-03-29T09:50:20.730Z"
   },
   {
    "duration": 227,
    "start_time": "2023-03-29T09:50:34.488Z"
   },
   {
    "duration": 1126,
    "start_time": "2023-03-29T09:50:37.248Z"
   },
   {
    "duration": 54,
    "start_time": "2023-03-29T09:51:33.977Z"
   },
   {
    "duration": 23,
    "start_time": "2023-03-29T09:51:38.919Z"
   },
   {
    "duration": 682,
    "start_time": "2023-03-29T09:54:23.877Z"
   },
   {
    "duration": 18,
    "start_time": "2023-03-29T09:55:28.213Z"
   },
   {
    "duration": 9,
    "start_time": "2023-03-29T09:58:29.412Z"
   },
   {
    "duration": 21,
    "start_time": "2023-03-29T10:09:11.918Z"
   },
   {
    "duration": 11,
    "start_time": "2023-03-29T10:09:21.512Z"
   },
   {
    "duration": 5,
    "start_time": "2023-03-29T10:09:39.872Z"
   },
   {
    "duration": 36,
    "start_time": "2023-03-29T10:10:34.374Z"
   },
   {
    "duration": 14,
    "start_time": "2023-03-29T10:10:38.501Z"
   },
   {
    "duration": 12,
    "start_time": "2023-03-29T10:11:03.814Z"
   },
   {
    "duration": 19,
    "start_time": "2023-03-29T10:13:17.867Z"
   },
   {
    "duration": 11,
    "start_time": "2023-03-29T10:16:16.891Z"
   },
   {
    "duration": 11,
    "start_time": "2023-03-29T10:16:20.734Z"
   },
   {
    "duration": 24,
    "start_time": "2023-03-29T10:18:16.695Z"
   },
   {
    "duration": 10,
    "start_time": "2023-03-29T10:18:36.913Z"
   },
   {
    "duration": 7,
    "start_time": "2023-03-29T10:18:40.020Z"
   },
   {
    "duration": 48,
    "start_time": "2023-03-29T10:19:07.983Z"
   },
   {
    "duration": 47,
    "start_time": "2023-03-29T10:19:12.735Z"
   },
   {
    "duration": 736,
    "start_time": "2023-03-29T10:19:21.556Z"
   },
   {
    "duration": 6,
    "start_time": "2023-03-29T10:19:28.756Z"
   },
   {
    "duration": 64,
    "start_time": "2023-03-29T10:20:28.536Z"
   },
   {
    "duration": 59,
    "start_time": "2023-03-29T10:20:35.088Z"
   },
   {
    "duration": 8,
    "start_time": "2023-03-29T10:20:45.541Z"
   },
   {
    "duration": 58,
    "start_time": "2023-03-29T10:20:48.529Z"
   },
   {
    "duration": 6,
    "start_time": "2023-03-29T10:21:32.553Z"
   },
   {
    "duration": 9,
    "start_time": "2023-03-29T10:21:35.889Z"
   },
   {
    "duration": 9,
    "start_time": "2023-03-29T10:21:36.953Z"
   },
   {
    "duration": 5,
    "start_time": "2023-03-29T10:21:50.738Z"
   },
   {
    "duration": 4,
    "start_time": "2023-03-29T10:22:06.412Z"
   },
   {
    "duration": 10,
    "start_time": "2023-03-29T10:22:08.989Z"
   },
   {
    "duration": 53,
    "start_time": "2023-03-29T10:22:28.997Z"
   },
   {
    "duration": 70,
    "start_time": "2023-03-29T10:22:37.313Z"
   },
   {
    "duration": 45,
    "start_time": "2023-03-29T10:22:59.433Z"
   },
   {
    "duration": 7,
    "start_time": "2023-03-29T10:23:32.462Z"
   },
   {
    "duration": 4,
    "start_time": "2023-03-29T10:23:36.706Z"
   },
   {
    "duration": 11,
    "start_time": "2023-03-29T10:23:38.453Z"
   },
   {
    "duration": 10,
    "start_time": "2023-03-29T10:29:42.478Z"
   },
   {
    "duration": 8,
    "start_time": "2023-03-29T10:29:49.121Z"
   },
   {
    "duration": 11,
    "start_time": "2023-03-29T10:29:55.656Z"
   },
   {
    "duration": 11,
    "start_time": "2023-03-29T10:31:11.657Z"
   },
   {
    "duration": 3,
    "start_time": "2023-03-29T10:31:29.955Z"
   },
   {
    "duration": 9,
    "start_time": "2023-03-29T10:31:30.770Z"
   },
   {
    "duration": 10,
    "start_time": "2023-03-29T10:31:32.095Z"
   },
   {
    "duration": 3,
    "start_time": "2023-03-29T10:31:43.920Z"
   },
   {
    "duration": 9,
    "start_time": "2023-03-29T10:31:44.712Z"
   },
   {
    "duration": 11,
    "start_time": "2023-03-29T10:31:51.565Z"
   },
   {
    "duration": 3,
    "start_time": "2023-03-29T10:35:01.472Z"
   },
   {
    "duration": 4,
    "start_time": "2023-03-29T10:35:29.912Z"
   },
   {
    "duration": 4,
    "start_time": "2023-03-29T10:35:33.960Z"
   },
   {
    "duration": 3,
    "start_time": "2023-03-29T10:35:53.496Z"
   },
   {
    "duration": 10,
    "start_time": "2023-03-29T10:35:55.072Z"
   },
   {
    "duration": 3,
    "start_time": "2023-03-29T10:35:56.758Z"
   },
   {
    "duration": 4,
    "start_time": "2023-03-29T10:35:59.419Z"
   },
   {
    "duration": 4,
    "start_time": "2023-03-29T10:36:13.132Z"
   },
   {
    "duration": 3,
    "start_time": "2023-03-29T10:52:33.758Z"
   },
   {
    "duration": 3,
    "start_time": "2023-03-29T10:52:40.229Z"
   },
   {
    "duration": 3,
    "start_time": "2023-03-29T10:52:48.128Z"
   },
   {
    "duration": 4,
    "start_time": "2023-03-29T10:52:56.359Z"
   },
   {
    "duration": 9,
    "start_time": "2023-03-29T10:52:56.868Z"
   },
   {
    "duration": 4,
    "start_time": "2023-03-29T10:53:06.534Z"
   },
   {
    "duration": 10,
    "start_time": "2023-03-29T10:53:07.685Z"
   },
   {
    "duration": 3,
    "start_time": "2023-03-29T10:53:27.425Z"
   },
   {
    "duration": 10,
    "start_time": "2023-03-29T10:53:28.415Z"
   },
   {
    "duration": 3,
    "start_time": "2023-03-29T10:53:39.216Z"
   },
   {
    "duration": 9,
    "start_time": "2023-03-29T10:53:42.270Z"
   },
   {
    "duration": 3,
    "start_time": "2023-03-29T10:53:47.187Z"
   },
   {
    "duration": 12,
    "start_time": "2023-03-29T10:53:48.094Z"
   },
   {
    "duration": 2,
    "start_time": "2023-03-29T10:54:09.960Z"
   },
   {
    "duration": 3,
    "start_time": "2023-03-29T10:54:12.525Z"
   },
   {
    "duration": 10,
    "start_time": "2023-03-29T10:54:13.937Z"
   },
   {
    "duration": 4,
    "start_time": "2023-03-29T10:54:19.386Z"
   },
   {
    "duration": 3,
    "start_time": "2023-03-29T10:54:22.462Z"
   },
   {
    "duration": 3,
    "start_time": "2023-03-29T10:54:24.810Z"
   },
   {
    "duration": 3,
    "start_time": "2023-03-29T10:54:26.658Z"
   },
   {
    "duration": 10,
    "start_time": "2023-03-29T10:54:27.658Z"
   },
   {
    "duration": 2,
    "start_time": "2023-03-29T10:54:32.674Z"
   },
   {
    "duration": 10,
    "start_time": "2023-03-29T10:54:33.305Z"
   },
   {
    "duration": 5,
    "start_time": "2023-03-29T10:54:48.565Z"
   },
   {
    "duration": 5,
    "start_time": "2023-03-29T10:54:54.407Z"
   },
   {
    "duration": 25,
    "start_time": "2023-03-29T10:55:03.266Z"
   },
   {
    "duration": 6,
    "start_time": "2023-03-29T10:56:07.269Z"
   },
   {
    "duration": 16,
    "start_time": "2023-03-29T10:56:10.982Z"
   },
   {
    "duration": 63,
    "start_time": "2023-03-29T10:57:37.351Z"
   },
   {
    "duration": 13,
    "start_time": "2023-03-29T10:58:24.062Z"
   },
   {
    "duration": 11,
    "start_time": "2023-03-29T10:58:38.723Z"
   },
   {
    "duration": 5,
    "start_time": "2023-03-29T10:58:41.938Z"
   },
   {
    "duration": 13,
    "start_time": "2023-03-29T10:58:53.566Z"
   },
   {
    "duration": 15,
    "start_time": "2023-03-29T10:59:19.544Z"
   },
   {
    "duration": 12,
    "start_time": "2023-03-29T10:59:30.062Z"
   },
   {
    "duration": 13,
    "start_time": "2023-03-29T10:59:41.509Z"
   },
   {
    "duration": 15,
    "start_time": "2023-03-29T10:59:45.732Z"
   },
   {
    "duration": 13,
    "start_time": "2023-03-29T11:01:09.220Z"
   },
   {
    "duration": 6,
    "start_time": "2023-03-29T11:01:27.484Z"
   },
   {
    "duration": 172,
    "start_time": "2023-03-29T11:01:30.334Z"
   },
   {
    "duration": 316,
    "start_time": "2023-03-29T11:02:20.239Z"
   },
   {
    "duration": 4,
    "start_time": "2023-03-29T11:03:28.411Z"
   },
   {
    "duration": 3,
    "start_time": "2023-03-29T11:03:29.536Z"
   },
   {
    "duration": 18,
    "start_time": "2023-03-29T11:03:29.540Z"
   },
   {
    "duration": 12,
    "start_time": "2023-03-29T11:03:29.560Z"
   },
   {
    "duration": 2,
    "start_time": "2023-03-29T11:03:36.578Z"
   },
   {
    "duration": 10,
    "start_time": "2023-03-29T11:03:37.812Z"
   },
   {
    "duration": 227,
    "start_time": "2023-03-29T11:03:44.230Z"
   },
   {
    "duration": 4,
    "start_time": "2023-03-29T11:04:31.408Z"
   },
   {
    "duration": 9,
    "start_time": "2023-03-29T11:04:32.152Z"
   },
   {
    "duration": 4,
    "start_time": "2023-03-29T11:04:40.471Z"
   },
   {
    "duration": 8,
    "start_time": "2023-03-29T11:04:41.611Z"
   },
   {
    "duration": 172,
    "start_time": "2023-03-29T11:04:42.476Z"
   },
   {
    "duration": 3,
    "start_time": "2023-03-29T11:04:49.837Z"
   },
   {
    "duration": 9,
    "start_time": "2023-03-29T11:04:50.454Z"
   },
   {
    "duration": 169,
    "start_time": "2023-03-29T11:04:51.660Z"
   },
   {
    "duration": 3,
    "start_time": "2023-03-29T11:05:20.664Z"
   },
   {
    "duration": 8,
    "start_time": "2023-03-29T11:05:21.807Z"
   },
   {
    "duration": 4,
    "start_time": "2023-03-29T11:05:33.152Z"
   },
   {
    "duration": 8,
    "start_time": "2023-03-29T11:05:33.731Z"
   },
   {
    "duration": 4,
    "start_time": "2023-03-29T11:05:44.036Z"
   },
   {
    "duration": 8,
    "start_time": "2023-03-29T11:05:44.868Z"
   },
   {
    "duration": 9,
    "start_time": "2023-03-29T11:05:46.357Z"
   },
   {
    "duration": 3,
    "start_time": "2023-03-29T11:05:52.770Z"
   },
   {
    "duration": 8,
    "start_time": "2023-03-29T11:05:53.108Z"
   },
   {
    "duration": 143,
    "start_time": "2023-03-29T11:05:54.278Z"
   },
   {
    "duration": 3,
    "start_time": "2023-03-29T11:07:00.223Z"
   },
   {
    "duration": 8,
    "start_time": "2023-03-29T11:07:01.231Z"
   },
   {
    "duration": 4,
    "start_time": "2023-03-29T11:07:05.045Z"
   },
   {
    "duration": 9,
    "start_time": "2023-03-29T11:07:06.696Z"
   },
   {
    "duration": 4,
    "start_time": "2023-03-29T11:07:11.134Z"
   },
   {
    "duration": 9,
    "start_time": "2023-03-29T11:07:11.494Z"
   },
   {
    "duration": 218,
    "start_time": "2023-03-29T11:07:13.303Z"
   },
   {
    "duration": 18,
    "start_time": "2023-03-29T11:08:22.257Z"
   },
   {
    "duration": 10,
    "start_time": "2023-03-29T11:09:13.016Z"
   },
   {
    "duration": 10,
    "start_time": "2023-03-29T11:09:25.775Z"
   },
   {
    "duration": 5,
    "start_time": "2023-03-29T11:09:32.253Z"
   },
   {
    "duration": 6,
    "start_time": "2023-03-29T11:09:47.883Z"
   },
   {
    "duration": 6,
    "start_time": "2023-03-29T11:09:51.105Z"
   },
   {
    "duration": 8,
    "start_time": "2023-03-29T11:09:53.792Z"
   },
   {
    "duration": 5,
    "start_time": "2023-03-29T11:10:17.013Z"
   },
   {
    "duration": 11,
    "start_time": "2023-03-29T11:10:20.133Z"
   },
   {
    "duration": 4,
    "start_time": "2023-03-29T11:10:41.835Z"
   },
   {
    "duration": 8,
    "start_time": "2023-03-29T11:10:42.389Z"
   },
   {
    "duration": 5,
    "start_time": "2023-03-29T11:10:43.284Z"
   },
   {
    "duration": 4,
    "start_time": "2023-03-29T11:11:04.989Z"
   },
   {
    "duration": 7,
    "start_time": "2023-03-29T11:11:05.831Z"
   },
   {
    "duration": 5,
    "start_time": "2023-03-29T11:11:06.950Z"
   },
   {
    "duration": 4,
    "start_time": "2023-03-29T11:12:13.444Z"
   },
   {
    "duration": 11,
    "start_time": "2023-03-29T11:12:14.099Z"
   },
   {
    "duration": 8,
    "start_time": "2023-03-29T11:12:16.869Z"
   },
   {
    "duration": 4,
    "start_time": "2023-03-29T11:12:22.660Z"
   },
   {
    "duration": 11,
    "start_time": "2023-03-29T11:12:25.508Z"
   },
   {
    "duration": 12,
    "start_time": "2023-03-29T11:12:26.838Z"
   },
   {
    "duration": 5,
    "start_time": "2023-03-29T11:12:28.257Z"
   },
   {
    "duration": 4,
    "start_time": "2023-03-29T11:12:32.002Z"
   },
   {
    "duration": 14,
    "start_time": "2023-03-29T11:12:32.595Z"
   },
   {
    "duration": 5,
    "start_time": "2023-03-29T11:12:33.672Z"
   },
   {
    "duration": 12,
    "start_time": "2023-03-29T11:14:07.511Z"
   },
   {
    "duration": 5,
    "start_time": "2023-03-29T11:14:15.248Z"
   },
   {
    "duration": 904,
    "start_time": "2023-03-29T11:14:19.253Z"
   },
   {
    "duration": 5,
    "start_time": "2023-03-29T11:14:28.188Z"
   },
   {
    "duration": 338,
    "start_time": "2023-03-29T11:15:48.601Z"
   },
   {
    "duration": 21,
    "start_time": "2023-03-29T11:16:41.719Z"
   },
   {
    "duration": 92,
    "start_time": "2023-03-29T11:17:53.567Z"
   },
   {
    "duration": 5,
    "start_time": "2023-03-29T11:18:49.241Z"
   },
   {
    "duration": 750544,
    "start_time": "2023-03-29T11:18:52.831Z"
   },
   {
    "duration": 14,
    "start_time": "2023-03-29T12:10:19.203Z"
   },
   {
    "duration": 12,
    "start_time": "2023-03-29T12:15:01.887Z"
   },
   {
    "duration": 7,
    "start_time": "2023-03-29T12:15:09.867Z"
   },
   {
    "duration": 5,
    "start_time": "2023-03-29T12:15:18.502Z"
   },
   {
    "duration": 5,
    "start_time": "2023-03-29T12:15:28.235Z"
   },
   {
    "duration": 6,
    "start_time": "2023-03-29T12:15:34.180Z"
   },
   {
    "duration": 24,
    "start_time": "2023-03-29T12:15:45.264Z"
   },
   {
    "duration": 3,
    "start_time": "2023-03-29T12:16:23.531Z"
   },
   {
    "duration": 10,
    "start_time": "2023-03-29T12:16:36.826Z"
   },
   {
    "duration": 9,
    "start_time": "2023-03-29T12:16:41.862Z"
   },
   {
    "duration": 1162,
    "start_time": "2023-03-29T12:17:07.324Z"
   },
   {
    "duration": 11,
    "start_time": "2023-03-29T12:17:11.561Z"
   },
   {
    "duration": 36,
    "start_time": "2023-03-29T12:17:38.287Z"
   },
   {
    "duration": 42,
    "start_time": "2023-03-29T12:17:38.452Z"
   },
   {
    "duration": 1021,
    "start_time": "2023-03-29T12:17:38.588Z"
   },
   {
    "duration": 6,
    "start_time": "2023-03-29T12:18:36.010Z"
   },
   {
    "duration": 8,
    "start_time": "2023-03-29T12:18:36.224Z"
   },
   {
    "duration": 9,
    "start_time": "2023-03-29T12:18:36.420Z"
   },
   {
    "duration": 24,
    "start_time": "2023-03-29T12:22:23.155Z"
   },
   {
    "duration": 3,
    "start_time": "2023-03-29T12:22:30.676Z"
   },
   {
    "duration": 306,
    "start_time": "2023-03-29T12:22:30.681Z"
   },
   {
    "duration": 73,
    "start_time": "2023-03-29T12:22:30.989Z"
   },
   {
    "duration": 349,
    "start_time": "2023-03-29T12:22:31.064Z"
   },
   {
    "duration": 6,
    "start_time": "2023-03-29T12:22:31.416Z"
   },
   {
    "duration": 17,
    "start_time": "2023-03-29T12:22:31.424Z"
   },
   {
    "duration": 10,
    "start_time": "2023-03-29T12:22:31.443Z"
   },
   {
    "duration": 25,
    "start_time": "2023-03-29T12:22:31.455Z"
   },
   {
    "duration": 33,
    "start_time": "2023-03-29T12:22:31.482Z"
   },
   {
    "duration": 34,
    "start_time": "2023-03-29T12:22:31.518Z"
   },
   {
    "duration": 22,
    "start_time": "2023-03-29T12:22:31.553Z"
   },
   {
    "duration": 29,
    "start_time": "2023-03-29T12:22:31.577Z"
   },
   {
    "duration": 12,
    "start_time": "2023-03-29T12:22:31.608Z"
   },
   {
    "duration": 12,
    "start_time": "2023-03-29T12:22:31.624Z"
   },
   {
    "duration": 22,
    "start_time": "2023-03-29T12:22:31.637Z"
   },
   {
    "duration": 22,
    "start_time": "2023-03-29T12:22:31.661Z"
   },
   {
    "duration": 14,
    "start_time": "2023-03-29T12:22:31.685Z"
   },
   {
    "duration": 22,
    "start_time": "2023-03-29T12:22:31.701Z"
   },
   {
    "duration": 11,
    "start_time": "2023-03-29T12:22:31.725Z"
   },
   {
    "duration": 9,
    "start_time": "2023-03-29T12:22:31.737Z"
   },
   {
    "duration": 3,
    "start_time": "2023-03-29T12:22:31.748Z"
   },
   {
    "duration": 1179,
    "start_time": "2023-03-29T12:22:31.752Z"
   },
   {
    "duration": 47,
    "start_time": "2023-03-29T12:22:32.932Z"
   },
   {
    "duration": 1004,
    "start_time": "2023-03-29T12:22:32.981Z"
   },
   {
    "duration": 3,
    "start_time": "2023-03-29T12:23:35.569Z"
   },
   {
    "duration": 282,
    "start_time": "2023-03-29T12:23:35.574Z"
   },
   {
    "duration": 73,
    "start_time": "2023-03-29T12:23:35.857Z"
   },
   {
    "duration": 330,
    "start_time": "2023-03-29T12:23:35.932Z"
   },
   {
    "duration": 4,
    "start_time": "2023-03-29T12:23:36.265Z"
   },
   {
    "duration": 11,
    "start_time": "2023-03-29T12:23:36.270Z"
   },
   {
    "duration": 9,
    "start_time": "2023-03-29T12:23:36.282Z"
   },
   {
    "duration": 19,
    "start_time": "2023-03-29T12:23:36.293Z"
   },
   {
    "duration": 23,
    "start_time": "2023-03-29T12:23:36.313Z"
   },
   {
    "duration": 5,
    "start_time": "2023-03-29T12:23:36.338Z"
   },
   {
    "duration": 6,
    "start_time": "2023-03-29T12:23:36.345Z"
   },
   {
    "duration": 27,
    "start_time": "2023-03-29T12:23:36.353Z"
   },
   {
    "duration": 37,
    "start_time": "2023-03-29T12:23:36.381Z"
   },
   {
    "duration": 19,
    "start_time": "2023-03-29T12:24:16.751Z"
   },
   {
    "duration": 3,
    "start_time": "2023-03-29T12:25:15.534Z"
   },
   {
    "duration": 254,
    "start_time": "2023-03-29T12:25:15.538Z"
   },
   {
    "duration": 71,
    "start_time": "2023-03-29T12:25:15.794Z"
   },
   {
    "duration": 317,
    "start_time": "2023-03-29T12:25:15.866Z"
   },
   {
    "duration": 4,
    "start_time": "2023-03-29T12:25:16.185Z"
   },
   {
    "duration": 4,
    "start_time": "2023-03-29T12:25:16.190Z"
   },
   {
    "duration": 3,
    "start_time": "2023-03-29T12:25:16.196Z"
   },
   {
    "duration": 5,
    "start_time": "2023-03-29T12:25:16.200Z"
   },
   {
    "duration": 7,
    "start_time": "2023-03-29T12:25:16.206Z"
   },
   {
    "duration": 26,
    "start_time": "2023-03-29T12:25:16.215Z"
   },
   {
    "duration": 4,
    "start_time": "2023-03-29T12:25:16.243Z"
   },
   {
    "duration": 18,
    "start_time": "2023-03-29T12:25:16.249Z"
   },
   {
    "duration": 22,
    "start_time": "2023-03-29T12:25:16.268Z"
   },
   {
    "duration": 6,
    "start_time": "2023-03-29T12:25:16.292Z"
   },
   {
    "duration": 11,
    "start_time": "2023-03-29T12:25:16.299Z"
   },
   {
    "duration": 30,
    "start_time": "2023-03-29T12:25:16.312Z"
   },
   {
    "duration": 9,
    "start_time": "2023-03-29T12:25:16.343Z"
   },
   {
    "duration": 3,
    "start_time": "2023-03-29T12:25:16.354Z"
   },
   {
    "duration": 1201,
    "start_time": "2023-03-29T12:25:16.358Z"
   },
   {
    "duration": 44,
    "start_time": "2023-03-29T12:25:17.561Z"
   },
   {
    "duration": 989,
    "start_time": "2023-03-29T12:25:17.606Z"
   },
   {
    "duration": 5,
    "start_time": "2023-03-29T12:41:51.943Z"
   },
   {
    "duration": 731,
    "start_time": "2023-03-29T12:42:43.074Z"
   },
   {
    "duration": 5,
    "start_time": "2023-03-29T12:42:49.358Z"
   },
   {
    "duration": 736,
    "start_time": "2023-03-29T12:43:02.346Z"
   },
   {
    "duration": 9,
    "start_time": "2023-03-29T12:49:17.129Z"
   },
   {
    "duration": 509,
    "start_time": "2023-03-29T12:49:32.092Z"
   },
   {
    "duration": 805,
    "start_time": "2023-03-29T12:49:35.646Z"
   },
   {
    "duration": 117,
    "start_time": "2023-03-29T12:49:45.476Z"
   },
   {
    "duration": 12,
    "start_time": "2023-03-29T12:50:14.975Z"
   },
   {
    "duration": 53,
    "start_time": "2023-03-29T12:51:19.728Z"
   },
   {
    "duration": 13,
    "start_time": "2023-03-29T12:51:26.100Z"
   },
   {
    "duration": 4,
    "start_time": "2023-03-29T12:51:45.385Z"
   },
   {
    "duration": 12,
    "start_time": "2023-03-29T12:51:50.163Z"
   },
   {
    "duration": 45,
    "start_time": "2023-03-29T12:53:16.554Z"
   },
   {
    "duration": 745,
    "start_time": "2023-03-29T12:53:27.301Z"
   },
   {
    "duration": 32,
    "start_time": "2023-03-29T12:53:45.520Z"
   },
   {
    "duration": 53,
    "start_time": "2023-03-29T12:56:37.954Z"
   },
   {
    "duration": 153,
    "start_time": "2023-03-29T12:56:45.173Z"
   },
   {
    "duration": 11,
    "start_time": "2023-03-29T12:57:18.056Z"
   },
   {
    "duration": 3,
    "start_time": "2023-03-29T12:57:42.480Z"
   },
   {
    "duration": 11,
    "start_time": "2023-03-29T12:57:55.274Z"
   },
   {
    "duration": 11,
    "start_time": "2023-03-29T12:58:02.343Z"
   },
   {
    "duration": 3,
    "start_time": "2023-03-29T12:58:36.866Z"
   },
   {
    "duration": 177,
    "start_time": "2023-03-29T12:58:41.838Z"
   },
   {
    "duration": 190,
    "start_time": "2023-03-29T13:01:09.595Z"
   },
   {
    "duration": 206,
    "start_time": "2023-03-29T13:02:39.985Z"
   },
   {
    "duration": 254,
    "start_time": "2023-03-29T13:05:08.101Z"
   },
   {
    "duration": 268,
    "start_time": "2023-03-29T13:07:01.693Z"
   },
   {
    "duration": 4,
    "start_time": "2023-03-29T13:09:29.696Z"
   },
   {
    "duration": 3,
    "start_time": "2023-03-29T13:09:38.286Z"
   },
   {
    "duration": 239,
    "start_time": "2023-03-29T13:09:40.506Z"
   },
   {
    "duration": 213,
    "start_time": "2023-03-29T13:10:08.268Z"
   },
   {
    "duration": 231,
    "start_time": "2023-03-29T13:18:24.377Z"
   },
   {
    "duration": 226,
    "start_time": "2023-03-29T13:19:37.499Z"
   },
   {
    "duration": 6,
    "start_time": "2023-03-29T13:24:00.546Z"
   },
   {
    "duration": 7,
    "start_time": "2023-03-29T13:27:17.063Z"
   },
   {
    "duration": 7,
    "start_time": "2023-03-29T13:28:19.637Z"
   },
   {
    "duration": 7,
    "start_time": "2023-03-29T13:28:36.103Z"
   },
   {
    "duration": 4,
    "start_time": "2023-03-29T13:33:41.309Z"
   },
   {
    "duration": 165,
    "start_time": "2023-03-29T13:34:42.499Z"
   },
   {
    "duration": 5,
    "start_time": "2023-03-29T13:36:55.185Z"
   },
   {
    "duration": 197,
    "start_time": "2023-03-29T14:03:29.268Z"
   },
   {
    "duration": 30,
    "start_time": "2023-03-29T14:03:49.580Z"
   },
   {
    "duration": 12,
    "start_time": "2023-03-29T14:17:33.009Z"
   },
   {
    "duration": 7,
    "start_time": "2023-03-29T14:17:42.059Z"
   },
   {
    "duration": 4,
    "start_time": "2023-03-29T14:17:54.352Z"
   },
   {
    "duration": 5,
    "start_time": "2023-03-29T14:20:24.062Z"
   },
   {
    "duration": 5,
    "start_time": "2023-03-29T14:20:25.025Z"
   },
   {
    "duration": 12,
    "start_time": "2023-03-29T14:24:14.502Z"
   },
   {
    "duration": 5,
    "start_time": "2023-03-29T14:24:39.968Z"
   },
   {
    "duration": 4,
    "start_time": "2023-03-29T14:24:41.258Z"
   },
   {
    "duration": 5,
    "start_time": "2023-03-29T14:24:42.069Z"
   },
   {
    "duration": 117,
    "start_time": "2023-03-29T14:24:42.958Z"
   },
   {
    "duration": 112,
    "start_time": "2023-03-29T14:25:21.022Z"
   },
   {
    "duration": 119,
    "start_time": "2023-03-29T14:28:45.143Z"
   },
   {
    "duration": 118,
    "start_time": "2023-03-29T14:28:57.959Z"
   },
   {
    "duration": 124,
    "start_time": "2023-03-29T14:29:05.910Z"
   },
   {
    "duration": 149,
    "start_time": "2023-03-29T14:29:59.007Z"
   },
   {
    "duration": 124,
    "start_time": "2023-03-29T14:35:01.361Z"
   },
   {
    "duration": 4,
    "start_time": "2023-03-29T14:35:12.455Z"
   },
   {
    "duration": 237,
    "start_time": "2023-03-29T14:35:16.222Z"
   },
   {
    "duration": 4,
    "start_time": "2023-03-29T14:35:17.782Z"
   },
   {
    "duration": 4,
    "start_time": "2023-03-29T14:35:22.665Z"
   },
   {
    "duration": 145,
    "start_time": "2023-03-29T14:35:45.700Z"
   },
   {
    "duration": 235,
    "start_time": "2023-03-29T14:39:29.072Z"
   },
   {
    "duration": 6,
    "start_time": "2023-03-29T14:41:11.908Z"
   },
   {
    "duration": 144,
    "start_time": "2023-03-29T14:41:16.698Z"
   },
   {
    "duration": 6,
    "start_time": "2023-03-29T14:41:33.188Z"
   },
   {
    "duration": 134,
    "start_time": "2023-03-29T14:41:34.301Z"
   },
   {
    "duration": 6,
    "start_time": "2023-03-29T14:43:45.873Z"
   },
   {
    "duration": 5,
    "start_time": "2023-03-29T14:43:57.886Z"
   },
   {
    "duration": 5,
    "start_time": "2023-03-29T14:43:58.356Z"
   },
   {
    "duration": 138,
    "start_time": "2023-03-29T14:45:20.561Z"
   },
   {
    "duration": 46,
    "start_time": "2023-03-30T06:18:37.463Z"
   },
   {
    "duration": 1517,
    "start_time": "2023-03-30T06:18:41.945Z"
   },
   {
    "duration": 1132,
    "start_time": "2023-03-30T06:18:43.464Z"
   },
   {
    "duration": 168,
    "start_time": "2023-03-30T06:18:44.597Z"
   },
   {
    "duration": 550,
    "start_time": "2023-03-30T06:18:44.767Z"
   },
   {
    "duration": 6,
    "start_time": "2023-03-30T06:18:45.319Z"
   },
   {
    "duration": 19,
    "start_time": "2023-03-30T06:18:45.326Z"
   },
   {
    "duration": 15,
    "start_time": "2023-03-30T06:18:45.348Z"
   },
   {
    "duration": 12,
    "start_time": "2023-03-30T06:18:45.364Z"
   },
   {
    "duration": 29,
    "start_time": "2023-03-30T06:18:45.377Z"
   },
   {
    "duration": 17,
    "start_time": "2023-03-30T06:18:45.408Z"
   },
   {
    "duration": 22,
    "start_time": "2023-03-30T06:18:45.427Z"
   },
   {
    "duration": 49,
    "start_time": "2023-03-30T06:18:45.452Z"
   },
   {
    "duration": 39,
    "start_time": "2023-03-30T06:18:45.502Z"
   },
   {
    "duration": 6,
    "start_time": "2023-03-30T06:18:45.544Z"
   },
   {
    "duration": 25,
    "start_time": "2023-03-30T06:18:45.553Z"
   },
   {
    "duration": 14,
    "start_time": "2023-03-30T06:18:45.580Z"
   },
   {
    "duration": 12,
    "start_time": "2023-03-30T06:18:45.596Z"
   },
   {
    "duration": 3,
    "start_time": "2023-03-30T06:18:45.609Z"
   },
   {
    "duration": 1243,
    "start_time": "2023-03-30T06:18:45.614Z"
   },
   {
    "duration": 50,
    "start_time": "2023-03-30T06:18:46.859Z"
   },
   {
    "duration": 1139,
    "start_time": "2023-03-30T06:18:46.911Z"
   },
   {
    "duration": 263,
    "start_time": "2023-03-30T06:18:48.051Z"
   },
   {
    "duration": 11,
    "start_time": "2023-03-30T06:18:48.315Z"
   },
   {
    "duration": 10,
    "start_time": "2023-03-30T06:18:48.328Z"
   },
   {
    "duration": 19,
    "start_time": "2023-03-30T06:18:48.340Z"
   },
   {
    "duration": 21,
    "start_time": "2023-03-30T06:18:48.361Z"
   },
   {
    "duration": 15,
    "start_time": "2023-03-30T06:18:48.384Z"
   },
   {
    "duration": 213,
    "start_time": "2023-03-30T06:18:48.401Z"
   },
   {
    "duration": 14,
    "start_time": "2023-03-30T06:18:48.616Z"
   },
   {
    "duration": 73,
    "start_time": "2023-03-30T06:22:43.411Z"
   },
   {
    "duration": 4,
    "start_time": "2023-03-30T06:22:59.349Z"
   },
   {
    "duration": 6,
    "start_time": "2023-03-30T06:23:36.750Z"
   },
   {
    "duration": 10,
    "start_time": "2023-03-30T06:23:39.023Z"
   },
   {
    "duration": 9,
    "start_time": "2023-03-30T06:23:43.621Z"
   },
   {
    "duration": 5,
    "start_time": "2023-03-30T06:24:09.293Z"
   },
   {
    "duration": 6,
    "start_time": "2023-03-30T06:25:18.794Z"
   },
   {
    "duration": 6,
    "start_time": "2023-03-30T06:25:32.391Z"
   },
   {
    "duration": 5,
    "start_time": "2023-03-30T06:26:07.466Z"
   },
   {
    "duration": 6,
    "start_time": "2023-03-30T06:26:09.007Z"
   },
   {
    "duration": 6,
    "start_time": "2023-03-30T06:26:23.675Z"
   },
   {
    "duration": 10,
    "start_time": "2023-03-30T06:27:22.377Z"
   },
   {
    "duration": 4,
    "start_time": "2023-03-30T06:27:39.888Z"
   },
   {
    "duration": 4,
    "start_time": "2023-03-30T06:28:57.900Z"
   },
   {
    "duration": 13,
    "start_time": "2023-03-30T06:29:24.730Z"
   },
   {
    "duration": 4,
    "start_time": "2023-03-30T06:29:55.054Z"
   },
   {
    "duration": 5,
    "start_time": "2023-03-30T06:29:56.239Z"
   },
   {
    "duration": 6,
    "start_time": "2023-03-30T06:29:58.263Z"
   },
   {
    "duration": 6,
    "start_time": "2023-03-30T06:30:35.059Z"
   },
   {
    "duration": 4,
    "start_time": "2023-03-30T06:30:53.676Z"
   },
   {
    "duration": 9,
    "start_time": "2023-03-30T06:31:06.728Z"
   },
   {
    "duration": 7,
    "start_time": "2023-03-30T06:31:45.085Z"
   },
   {
    "duration": 7,
    "start_time": "2023-03-30T06:31:59.420Z"
   },
   {
    "duration": 10,
    "start_time": "2023-03-30T06:38:49.769Z"
   },
   {
    "duration": 4,
    "start_time": "2023-03-30T06:39:10.230Z"
   },
   {
    "duration": 605,
    "start_time": "2023-03-30T06:39:19.473Z"
   },
   {
    "duration": 681,
    "start_time": "2023-03-30T06:39:40.428Z"
   },
   {
    "duration": 566,
    "start_time": "2023-03-30T06:41:02.166Z"
   },
   {
    "duration": 661,
    "start_time": "2023-03-30T06:41:09.922Z"
   },
   {
    "duration": 58,
    "start_time": "2023-03-30T06:44:05.709Z"
   },
   {
    "duration": 562,
    "start_time": "2023-03-30T06:44:17.846Z"
   },
   {
    "duration": 559,
    "start_time": "2023-03-30T06:44:40.604Z"
   },
   {
    "duration": 589,
    "start_time": "2023-03-30T06:45:22.636Z"
   },
   {
    "duration": 692,
    "start_time": "2023-03-30T06:46:00.342Z"
   },
   {
    "duration": 662,
    "start_time": "2023-03-30T06:46:58.274Z"
   },
   {
    "duration": 610,
    "start_time": "2023-03-30T06:48:52.888Z"
   },
   {
    "duration": 563,
    "start_time": "2023-03-30T06:49:02.140Z"
   },
   {
    "duration": 5,
    "start_time": "2023-03-30T06:49:09.468Z"
   },
   {
    "duration": 696,
    "start_time": "2023-03-30T06:49:36.865Z"
   },
   {
    "duration": 702,
    "start_time": "2023-03-30T06:51:44.311Z"
   },
   {
    "duration": 3,
    "start_time": "2023-03-30T06:56:07.932Z"
   },
   {
    "duration": 16,
    "start_time": "2023-03-30T07:24:17.436Z"
   },
   {
    "duration": 14,
    "start_time": "2023-03-30T07:29:39.493Z"
   },
   {
    "duration": 12,
    "start_time": "2023-03-30T07:30:15.793Z"
   },
   {
    "duration": 14,
    "start_time": "2023-03-30T07:30:28.036Z"
   },
   {
    "duration": 53,
    "start_time": "2023-03-30T07:31:48.186Z"
   },
   {
    "duration": 24,
    "start_time": "2023-03-30T07:32:08.823Z"
   },
   {
    "duration": 4,
    "start_time": "2023-03-30T07:32:31.495Z"
   },
   {
    "duration": 12,
    "start_time": "2023-03-30T07:32:54.748Z"
   },
   {
    "duration": 5,
    "start_time": "2023-03-30T07:32:58.812Z"
   },
   {
    "duration": 29,
    "start_time": "2023-03-30T07:33:08.730Z"
   },
   {
    "duration": 24,
    "start_time": "2023-03-30T07:33:50.887Z"
   },
   {
    "duration": 974,
    "start_time": "2023-03-30T07:38:45.900Z"
   },
   {
    "duration": 25,
    "start_time": "2023-03-30T07:39:21.117Z"
   },
   {
    "duration": 799,
    "start_time": "2023-03-30T07:39:35.035Z"
   },
   {
    "duration": 18,
    "start_time": "2023-03-30T07:39:46.482Z"
   },
   {
    "duration": 18,
    "start_time": "2023-03-30T07:40:01.827Z"
   },
   {
    "duration": 36,
    "start_time": "2023-03-30T07:40:33.012Z"
   },
   {
    "duration": 9,
    "start_time": "2023-03-30T07:40:41.102Z"
   },
   {
    "duration": 35,
    "start_time": "2023-03-30T07:41:47.067Z"
   },
   {
    "duration": 9,
    "start_time": "2023-03-30T07:41:48.168Z"
   },
   {
    "duration": 43,
    "start_time": "2023-03-30T07:42:04.862Z"
   },
   {
    "duration": 10,
    "start_time": "2023-03-30T07:42:05.494Z"
   },
   {
    "duration": 235,
    "start_time": "2023-03-30T07:43:03.446Z"
   },
   {
    "duration": 7,
    "start_time": "2023-03-30T07:43:04.116Z"
   },
   {
    "duration": 708,
    "start_time": "2023-03-30T07:47:01.052Z"
   },
   {
    "duration": 6,
    "start_time": "2023-03-30T07:47:30.341Z"
   },
   {
    "duration": 5,
    "start_time": "2023-03-30T07:47:40.733Z"
   },
   {
    "duration": 85,
    "start_time": "2023-03-30T07:47:47.047Z"
   },
   {
    "duration": 10,
    "start_time": "2023-03-30T07:47:48.278Z"
   },
   {
    "duration": 11,
    "start_time": "2023-03-30T07:48:07.759Z"
   },
   {
    "duration": 10,
    "start_time": "2023-03-30T07:52:38.917Z"
   },
   {
    "duration": 226,
    "start_time": "2023-03-30T07:52:45.286Z"
   },
   {
    "duration": 4,
    "start_time": "2023-03-30T07:53:04.181Z"
   },
   {
    "duration": 11,
    "start_time": "2023-03-30T07:53:13.076Z"
   },
   {
    "duration": 5,
    "start_time": "2023-03-30T07:54:21.646Z"
   },
   {
    "duration": 11,
    "start_time": "2023-03-30T07:54:22.255Z"
   },
   {
    "duration": 87,
    "start_time": "2023-03-30T07:55:06.002Z"
   },
   {
    "duration": 12,
    "start_time": "2023-03-30T07:55:17.772Z"
   },
   {
    "duration": 5,
    "start_time": "2023-03-30T07:55:38.661Z"
   },
   {
    "duration": 10,
    "start_time": "2023-03-30T07:55:41.154Z"
   },
   {
    "duration": 71,
    "start_time": "2023-03-30T07:56:53.383Z"
   },
   {
    "duration": 88,
    "start_time": "2023-03-30T07:57:00.712Z"
   },
   {
    "duration": 10,
    "start_time": "2023-03-30T07:57:04.086Z"
   },
   {
    "duration": 88,
    "start_time": "2023-03-30T07:57:47.906Z"
   },
   {
    "duration": 86,
    "start_time": "2023-03-30T07:58:09.267Z"
   },
   {
    "duration": 5,
    "start_time": "2023-03-30T07:58:12.799Z"
   },
   {
    "duration": 12,
    "start_time": "2023-03-30T07:58:13.308Z"
   },
   {
    "duration": 9,
    "start_time": "2023-03-30T07:58:29.828Z"
   },
   {
    "duration": 85,
    "start_time": "2023-03-30T07:58:39.232Z"
   },
   {
    "duration": 4,
    "start_time": "2023-03-30T07:58:39.737Z"
   },
   {
    "duration": 9,
    "start_time": "2023-03-30T07:58:52.627Z"
   },
   {
    "duration": 824,
    "start_time": "2023-03-30T07:59:37.525Z"
   },
   {
    "duration": 5,
    "start_time": "2023-03-30T07:59:48.407Z"
   },
   {
    "duration": 6,
    "start_time": "2023-03-30T08:00:30.459Z"
   },
   {
    "duration": 3,
    "start_time": "2023-03-30T08:00:33.879Z"
   },
   {
    "duration": 13,
    "start_time": "2023-03-30T08:02:13.620Z"
   },
   {
    "duration": 8,
    "start_time": "2023-03-30T08:02:17.383Z"
   },
   {
    "duration": 4,
    "start_time": "2023-03-30T08:02:23.052Z"
   },
   {
    "duration": 9,
    "start_time": "2023-03-30T08:02:43.238Z"
   },
   {
    "duration": 9,
    "start_time": "2023-03-30T08:02:58.290Z"
   },
   {
    "duration": 9,
    "start_time": "2023-03-30T08:03:14.460Z"
   },
   {
    "duration": 8,
    "start_time": "2023-03-30T08:04:47.689Z"
   },
   {
    "duration": 9,
    "start_time": "2023-03-30T08:05:53.558Z"
   },
   {
    "duration": 14,
    "start_time": "2023-03-30T08:06:34.924Z"
   },
   {
    "duration": 4,
    "start_time": "2023-03-30T08:06:36.994Z"
   },
   {
    "duration": 9,
    "start_time": "2023-03-30T08:06:42.777Z"
   },
   {
    "duration": 4,
    "start_time": "2023-03-30T08:06:46.028Z"
   },
   {
    "duration": 33,
    "start_time": "2023-03-30T08:11:16.255Z"
   },
   {
    "duration": 6,
    "start_time": "2023-03-30T08:11:41.016Z"
   },
   {
    "duration": 5,
    "start_time": "2023-03-30T08:11:47.042Z"
   },
   {
    "duration": 3,
    "start_time": "2023-03-30T08:11:54.725Z"
   },
   {
    "duration": 13,
    "start_time": "2023-03-30T08:13:51.911Z"
   },
   {
    "duration": 10,
    "start_time": "2023-03-30T08:14:09.480Z"
   },
   {
    "duration": 6,
    "start_time": "2023-03-30T08:14:27.194Z"
   },
   {
    "duration": 24,
    "start_time": "2023-03-30T08:15:02.810Z"
   },
   {
    "duration": 38,
    "start_time": "2023-03-30T08:20:41.328Z"
   },
   {
    "duration": 4,
    "start_time": "2023-03-30T08:20:52.316Z"
   },
   {
    "duration": 4,
    "start_time": "2023-03-30T08:21:06.874Z"
   },
   {
    "duration": 4,
    "start_time": "2023-03-30T08:21:11.214Z"
   },
   {
    "duration": 4,
    "start_time": "2023-03-30T08:21:19.179Z"
   },
   {
    "duration": 3,
    "start_time": "2023-03-30T08:21:25.549Z"
   },
   {
    "duration": 4,
    "start_time": "2023-03-30T08:21:30.041Z"
   },
   {
    "duration": 5,
    "start_time": "2023-03-30T08:21:52.858Z"
   },
   {
    "duration": 9,
    "start_time": "2023-03-30T08:22:12.208Z"
   },
   {
    "duration": 42,
    "start_time": "2023-03-30T08:22:13.948Z"
   },
   {
    "duration": 5,
    "start_time": "2023-03-30T08:22:14.444Z"
   },
   {
    "duration": 50,
    "start_time": "2023-03-30T08:24:54.516Z"
   },
   {
    "duration": 18,
    "start_time": "2023-03-30T08:36:00.801Z"
   },
   {
    "duration": 39,
    "start_time": "2023-03-30T08:36:18.515Z"
   },
   {
    "duration": 4,
    "start_time": "2023-03-30T08:36:24.099Z"
   },
   {
    "duration": 162,
    "start_time": "2023-03-30T08:36:26.528Z"
   },
   {
    "duration": 4942,
    "start_time": "2023-03-30T08:37:20.245Z"
   },
   {
    "duration": 4778,
    "start_time": "2023-03-30T08:37:44.304Z"
   },
   {
    "duration": 4922,
    "start_time": "2023-03-30T08:38:37.956Z"
   },
   {
    "duration": 86,
    "start_time": "2023-03-30T08:39:53.980Z"
   },
   {
    "duration": 87,
    "start_time": "2023-03-30T08:40:02.133Z"
   },
   {
    "duration": 82,
    "start_time": "2023-03-30T08:40:15.822Z"
   },
   {
    "duration": 78,
    "start_time": "2023-03-30T08:41:37.144Z"
   },
   {
    "duration": 6,
    "start_time": "2023-03-30T08:41:48.859Z"
   },
   {
    "duration": 6,
    "start_time": "2023-03-30T08:41:56.927Z"
   },
   {
    "duration": 5216,
    "start_time": "2023-03-30T08:42:28.863Z"
   },
   {
    "duration": 5197,
    "start_time": "2023-03-30T08:42:55.877Z"
   },
   {
    "duration": 5139,
    "start_time": "2023-03-30T08:44:03.484Z"
   },
   {
    "duration": 11,
    "start_time": "2023-03-30T08:45:00.827Z"
   },
   {
    "duration": 917,
    "start_time": "2023-03-30T08:45:13.365Z"
   },
   {
    "duration": 43,
    "start_time": "2023-03-30T08:45:18.125Z"
   },
   {
    "duration": 4916,
    "start_time": "2023-03-30T08:45:23.626Z"
   },
   {
    "duration": 5978,
    "start_time": "2023-03-30T08:45:50.075Z"
   },
   {
    "duration": 49,
    "start_time": "2023-03-30T08:47:52.283Z"
   },
   {
    "duration": 6448,
    "start_time": "2023-03-30T08:48:15.487Z"
   },
   {
    "duration": 21167,
    "start_time": "2023-03-30T08:50:22.604Z"
   },
   {
    "duration": 24660,
    "start_time": "2023-03-30T08:51:12.758Z"
   },
   {
    "duration": 53,
    "start_time": "2023-03-30T09:17:05.838Z"
   },
   {
    "duration": 0,
    "start_time": "2023-03-30T09:17:05.892Z"
   },
   {
    "duration": 566035,
    "start_time": "2023-03-30T09:17:14.199Z"
   },
   {
    "duration": 0,
    "start_time": "2023-03-30T09:26:40.236Z"
   },
   {
    "duration": 4,
    "start_time": "2023-03-30T09:26:48.807Z"
   },
   {
    "duration": 269,
    "start_time": "2023-03-30T09:26:48.812Z"
   },
   {
    "duration": 76,
    "start_time": "2023-03-30T09:26:49.082Z"
   },
   {
    "duration": 342,
    "start_time": "2023-03-30T09:26:49.160Z"
   },
   {
    "duration": 4,
    "start_time": "2023-03-30T09:26:49.504Z"
   },
   {
    "duration": 23,
    "start_time": "2023-03-30T09:26:49.509Z"
   },
   {
    "duration": 18,
    "start_time": "2023-03-30T09:26:49.534Z"
   },
   {
    "duration": 12,
    "start_time": "2023-03-30T09:26:49.554Z"
   },
   {
    "duration": 28,
    "start_time": "2023-03-30T09:26:49.568Z"
   },
   {
    "duration": 7,
    "start_time": "2023-03-30T09:26:49.597Z"
   },
   {
    "duration": 27,
    "start_time": "2023-03-30T09:26:49.606Z"
   },
   {
    "duration": 19,
    "start_time": "2023-03-30T09:26:49.635Z"
   },
   {
    "duration": 30,
    "start_time": "2023-03-30T09:26:49.656Z"
   },
   {
    "duration": 7,
    "start_time": "2023-03-30T09:26:49.689Z"
   },
   {
    "duration": 27,
    "start_time": "2023-03-30T09:26:49.697Z"
   },
   {
    "duration": 9,
    "start_time": "2023-03-30T09:26:49.732Z"
   },
   {
    "duration": 10,
    "start_time": "2023-03-30T09:26:49.744Z"
   },
   {
    "duration": 3,
    "start_time": "2023-03-30T09:26:49.756Z"
   },
   {
    "duration": 1318,
    "start_time": "2023-03-30T09:26:49.760Z"
   },
   {
    "duration": 54,
    "start_time": "2023-03-30T09:26:51.080Z"
   },
   {
    "duration": 1076,
    "start_time": "2023-03-30T09:26:51.137Z"
   },
   {
    "duration": 237,
    "start_time": "2023-03-30T09:26:52.215Z"
   },
   {
    "duration": 744,
    "start_time": "2023-03-30T09:26:52.454Z"
   },
   {
    "duration": 5,
    "start_time": "2023-03-30T09:26:53.199Z"
   },
   {
    "duration": 7,
    "start_time": "2023-03-30T09:26:53.206Z"
   },
   {
    "duration": 18,
    "start_time": "2023-03-30T09:26:53.214Z"
   },
   {
    "duration": 5,
    "start_time": "2023-03-30T09:26:53.236Z"
   },
   {
    "duration": 148,
    "start_time": "2023-03-30T09:26:53.242Z"
   },
   {
    "duration": 7,
    "start_time": "2023-03-30T09:26:53.392Z"
   },
   {
    "duration": 3,
    "start_time": "2023-03-30T09:26:53.401Z"
   },
   {
    "duration": 105,
    "start_time": "2023-03-30T09:26:53.406Z"
   },
   {
    "duration": 14,
    "start_time": "2023-03-30T09:26:53.513Z"
   },
   {
    "duration": 84,
    "start_time": "2023-03-30T09:26:53.528Z"
   },
   {
    "duration": 12,
    "start_time": "2023-03-30T09:26:53.614Z"
   },
   {
    "duration": 57,
    "start_time": "2023-03-30T09:26:53.627Z"
   },
   {
    "duration": 3,
    "start_time": "2023-03-30T09:26:53.686Z"
   },
   {
    "duration": 21383,
    "start_time": "2023-03-30T09:26:53.690Z"
   },
   {
    "duration": 24305,
    "start_time": "2023-03-30T09:27:15.075Z"
   },
   {
    "duration": 94126,
    "start_time": "2023-03-30T09:29:31.534Z"
   },
   {
    "duration": 4,
    "start_time": "2023-03-30T09:31:08.753Z"
   },
   {
    "duration": 273,
    "start_time": "2023-03-30T09:31:08.760Z"
   },
   {
    "duration": 69,
    "start_time": "2023-03-30T09:31:09.035Z"
   },
   {
    "duration": 331,
    "start_time": "2023-03-30T09:31:09.106Z"
   },
   {
    "duration": 4,
    "start_time": "2023-03-30T09:31:09.440Z"
   },
   {
    "duration": 19,
    "start_time": "2023-03-30T09:31:09.445Z"
   },
   {
    "duration": 19,
    "start_time": "2023-03-30T09:31:09.466Z"
   },
   {
    "duration": 17,
    "start_time": "2023-03-30T09:31:09.486Z"
   },
   {
    "duration": 24,
    "start_time": "2023-03-30T09:31:09.504Z"
   },
   {
    "duration": 13,
    "start_time": "2023-03-30T09:31:09.530Z"
   },
   {
    "duration": 23,
    "start_time": "2023-03-30T09:31:09.545Z"
   },
   {
    "duration": 19,
    "start_time": "2023-03-30T09:31:09.569Z"
   },
   {
    "duration": 21,
    "start_time": "2023-03-30T09:31:09.590Z"
   },
   {
    "duration": 6,
    "start_time": "2023-03-30T09:31:09.614Z"
   },
   {
    "duration": 21,
    "start_time": "2023-03-30T09:31:09.623Z"
   },
   {
    "duration": 15,
    "start_time": "2023-03-30T09:31:09.645Z"
   },
   {
    "duration": 9,
    "start_time": "2023-03-30T09:31:09.662Z"
   },
   {
    "duration": 8,
    "start_time": "2023-03-30T09:31:09.672Z"
   },
   {
    "duration": 1325,
    "start_time": "2023-03-30T09:31:09.682Z"
   },
   {
    "duration": 57,
    "start_time": "2023-03-30T09:31:11.009Z"
   },
   {
    "duration": 1044,
    "start_time": "2023-03-30T09:31:11.068Z"
   },
   {
    "duration": 216,
    "start_time": "2023-03-30T09:31:12.113Z"
   },
   {
    "duration": 738,
    "start_time": "2023-03-30T09:31:12.331Z"
   },
   {
    "duration": 5,
    "start_time": "2023-03-30T09:31:13.070Z"
   },
   {
    "duration": 19,
    "start_time": "2023-03-30T09:31:13.077Z"
   },
   {
    "duration": 12,
    "start_time": "2023-03-30T09:31:13.098Z"
   },
   {
    "duration": 18,
    "start_time": "2023-03-30T09:31:13.112Z"
   },
   {
    "duration": 158,
    "start_time": "2023-03-30T09:31:13.131Z"
   },
   {
    "duration": 8,
    "start_time": "2023-03-30T09:31:13.291Z"
   },
   {
    "duration": 3,
    "start_time": "2023-03-30T09:31:13.301Z"
   },
   {
    "duration": 102,
    "start_time": "2023-03-30T09:31:13.305Z"
   },
   {
    "duration": 4,
    "start_time": "2023-03-30T09:31:13.410Z"
   },
   {
    "duration": 87,
    "start_time": "2023-03-30T09:31:13.427Z"
   },
   {
    "duration": 12,
    "start_time": "2023-03-30T09:31:13.515Z"
   },
   {
    "duration": 52,
    "start_time": "2023-03-30T09:31:13.530Z"
   },
   {
    "duration": 3,
    "start_time": "2023-03-30T09:31:13.583Z"
   },
   {
    "duration": 20994,
    "start_time": "2023-03-30T09:31:13.588Z"
   },
   {
    "duration": 24192,
    "start_time": "2023-03-30T09:31:34.584Z"
   },
   {
    "duration": 6,
    "start_time": "2023-03-30T09:32:29.130Z"
   },
   {
    "duration": 24388,
    "start_time": "2023-03-30T09:32:43.489Z"
   },
   {
    "duration": 153770,
    "start_time": "2023-03-30T09:33:33.960Z"
   },
   {
    "duration": 135,
    "start_time": "2023-03-30T09:37:02.625Z"
   },
   {
    "duration": 175904,
    "start_time": "2023-03-30T09:37:22.194Z"
   },
   {
    "duration": 27,
    "start_time": "2023-03-30T09:43:22.008Z"
   },
   {
    "duration": 588,
    "start_time": "2023-03-30T09:44:55.065Z"
   },
   {
    "duration": 720,
    "start_time": "2023-03-30T09:45:13.791Z"
   },
   {
    "duration": 3,
    "start_time": "2023-03-30T09:46:23.782Z"
   },
   {
    "duration": 253,
    "start_time": "2023-03-30T09:46:23.787Z"
   },
   {
    "duration": 66,
    "start_time": "2023-03-30T09:46:24.041Z"
   },
   {
    "duration": 313,
    "start_time": "2023-03-30T09:46:24.109Z"
   },
   {
    "duration": 4,
    "start_time": "2023-03-30T09:46:24.424Z"
   },
   {
    "duration": 5,
    "start_time": "2023-03-30T09:46:24.430Z"
   },
   {
    "duration": 4,
    "start_time": "2023-03-30T09:46:24.437Z"
   },
   {
    "duration": 4,
    "start_time": "2023-03-30T09:46:24.443Z"
   },
   {
    "duration": 6,
    "start_time": "2023-03-30T09:46:24.448Z"
   },
   {
    "duration": 5,
    "start_time": "2023-03-30T09:46:24.456Z"
   },
   {
    "duration": 4,
    "start_time": "2023-03-30T09:46:24.462Z"
   },
   {
    "duration": 66,
    "start_time": "2023-03-30T09:46:24.468Z"
   },
   {
    "duration": 21,
    "start_time": "2023-03-30T09:46:24.536Z"
   },
   {
    "duration": 6,
    "start_time": "2023-03-30T09:46:24.560Z"
   },
   {
    "duration": 6,
    "start_time": "2023-03-30T09:46:24.568Z"
   },
   {
    "duration": 11,
    "start_time": "2023-03-30T09:46:24.576Z"
   },
   {
    "duration": 36,
    "start_time": "2023-03-30T09:46:24.588Z"
   },
   {
    "duration": 3,
    "start_time": "2023-03-30T09:46:24.626Z"
   },
   {
    "duration": 1245,
    "start_time": "2023-03-30T09:46:24.631Z"
   },
   {
    "duration": 52,
    "start_time": "2023-03-30T09:46:25.877Z"
   },
   {
    "duration": 1071,
    "start_time": "2023-03-30T09:46:25.931Z"
   },
   {
    "duration": 213,
    "start_time": "2023-03-30T09:46:27.004Z"
   },
   {
    "duration": 744,
    "start_time": "2023-03-30T09:46:27.219Z"
   },
   {
    "duration": 4,
    "start_time": "2023-03-30T09:46:27.965Z"
   },
   {
    "duration": 6,
    "start_time": "2023-03-30T09:46:27.971Z"
   },
   {
    "duration": 5,
    "start_time": "2023-03-30T09:46:27.979Z"
   },
   {
    "duration": 4,
    "start_time": "2023-03-30T09:46:27.985Z"
   },
   {
    "duration": 176,
    "start_time": "2023-03-30T09:46:27.991Z"
   },
   {
    "duration": 4,
    "start_time": "2023-03-30T09:46:28.169Z"
   },
   {
    "duration": 83,
    "start_time": "2023-03-30T09:46:29.524Z"
   },
   {
    "duration": 10,
    "start_time": "2023-03-30T09:46:34.872Z"
   },
   {
    "duration": 11,
    "start_time": "2023-03-30T09:47:45.786Z"
   },
   {
    "duration": 4,
    "start_time": "2023-03-30T09:48:19.914Z"
   },
   {
    "duration": 9,
    "start_time": "2023-03-30T09:48:21.212Z"
   },
   {
    "duration": 63,
    "start_time": "2023-03-30T11:51:13.351Z"
   },
   {
    "duration": 1591,
    "start_time": "2023-03-30T11:51:25.696Z"
   },
   {
    "duration": 1511,
    "start_time": "2023-03-30T11:51:27.289Z"
   },
   {
    "duration": 198,
    "start_time": "2023-03-30T11:51:28.801Z"
   },
   {
    "duration": 655,
    "start_time": "2023-03-30T11:51:29.000Z"
   },
   {
    "duration": 6,
    "start_time": "2023-03-30T11:51:29.657Z"
   },
   {
    "duration": 5,
    "start_time": "2023-03-30T11:51:29.664Z"
   },
   {
    "duration": 7,
    "start_time": "2023-03-30T11:51:29.670Z"
   },
   {
    "duration": 5,
    "start_time": "2023-03-30T11:51:29.678Z"
   },
   {
    "duration": 7,
    "start_time": "2023-03-30T11:51:29.684Z"
   },
   {
    "duration": 6,
    "start_time": "2023-03-30T11:51:29.693Z"
   },
   {
    "duration": 11,
    "start_time": "2023-03-30T11:51:29.701Z"
   },
   {
    "duration": 23,
    "start_time": "2023-03-30T11:51:29.713Z"
   },
   {
    "duration": 62,
    "start_time": "2023-03-30T11:51:29.737Z"
   },
   {
    "duration": 8,
    "start_time": "2023-03-30T11:51:29.802Z"
   },
   {
    "duration": 6,
    "start_time": "2023-03-30T11:51:29.811Z"
   },
   {
    "duration": 6,
    "start_time": "2023-03-30T11:51:29.819Z"
   },
   {
    "duration": 7,
    "start_time": "2023-03-30T11:51:29.827Z"
   },
   {
    "duration": 3,
    "start_time": "2023-03-30T11:51:29.836Z"
   },
   {
    "duration": 1180,
    "start_time": "2023-03-30T11:51:29.841Z"
   },
   {
    "duration": 51,
    "start_time": "2023-03-30T11:51:31.023Z"
   },
   {
    "duration": 985,
    "start_time": "2023-03-30T11:51:31.076Z"
   },
   {
    "duration": 214,
    "start_time": "2023-03-30T11:51:32.063Z"
   },
   {
    "duration": 736,
    "start_time": "2023-03-30T11:51:32.284Z"
   },
   {
    "duration": 5,
    "start_time": "2023-03-30T11:51:33.021Z"
   },
   {
    "duration": 4,
    "start_time": "2023-03-30T11:51:33.027Z"
   },
   {
    "duration": 4,
    "start_time": "2023-03-30T11:51:33.032Z"
   },
   {
    "duration": 18,
    "start_time": "2023-03-30T11:51:33.037Z"
   },
   {
    "duration": 148,
    "start_time": "2023-03-30T11:51:33.056Z"
   },
   {
    "duration": 3,
    "start_time": "2023-03-30T11:51:33.205Z"
   },
   {
    "duration": 152,
    "start_time": "2023-03-30T11:51:33.210Z"
   },
   {
    "duration": 26,
    "start_time": "2023-03-30T11:51:33.363Z"
   },
   {
    "duration": 72,
    "start_time": "2023-03-30T11:51:33.395Z"
   },
   {
    "duration": 6,
    "start_time": "2023-03-30T11:51:33.469Z"
   },
   {
    "duration": 119,
    "start_time": "2023-03-30T11:51:33.477Z"
   },
   {
    "duration": 10,
    "start_time": "2023-03-30T11:51:47.305Z"
   },
   {
    "duration": 671,
    "start_time": "2023-03-30T11:51:55.413Z"
   },
   {
    "duration": 973,
    "start_time": "2023-03-30T11:52:06.197Z"
   },
   {
    "duration": 1051,
    "start_time": "2023-03-30T11:52:08.059Z"
   },
   {
    "duration": 849,
    "start_time": "2023-03-30T11:53:58.139Z"
   },
   {
    "duration": 854,
    "start_time": "2023-03-30T11:54:03.126Z"
   },
   {
    "duration": 1532,
    "start_time": "2023-03-31T08:22:37.192Z"
   },
   {
    "duration": 4,
    "start_time": "2023-03-31T08:22:57.559Z"
   },
   {
    "duration": 1304,
    "start_time": "2023-03-31T08:22:57.564Z"
   },
   {
    "duration": 148,
    "start_time": "2023-03-31T08:22:58.870Z"
   },
   {
    "duration": 536,
    "start_time": "2023-03-31T08:22:59.019Z"
   },
   {
    "duration": 6,
    "start_time": "2023-03-31T08:22:59.557Z"
   },
   {
    "duration": 6,
    "start_time": "2023-03-31T08:22:59.564Z"
   },
   {
    "duration": 5,
    "start_time": "2023-03-31T08:22:59.572Z"
   },
   {
    "duration": 4,
    "start_time": "2023-03-31T08:22:59.578Z"
   },
   {
    "duration": 5,
    "start_time": "2023-03-31T08:22:59.583Z"
   },
   {
    "duration": 4,
    "start_time": "2023-03-31T08:22:59.589Z"
   },
   {
    "duration": 4,
    "start_time": "2023-03-31T08:22:59.595Z"
   },
   {
    "duration": 19,
    "start_time": "2023-03-31T08:22:59.600Z"
   },
   {
    "duration": 56,
    "start_time": "2023-03-31T08:22:59.620Z"
   },
   {
    "duration": 7,
    "start_time": "2023-03-31T08:22:59.680Z"
   },
   {
    "duration": 15,
    "start_time": "2023-03-31T08:22:59.689Z"
   },
   {
    "duration": 9,
    "start_time": "2023-03-31T08:22:59.706Z"
   },
   {
    "duration": 28,
    "start_time": "2023-03-31T08:22:59.717Z"
   },
   {
    "duration": 5,
    "start_time": "2023-03-31T08:22:59.746Z"
   },
   {
    "duration": 1011,
    "start_time": "2023-03-31T08:22:59.752Z"
   },
   {
    "duration": 37,
    "start_time": "2023-03-31T08:23:00.764Z"
   },
   {
    "duration": 876,
    "start_time": "2023-03-31T08:23:00.803Z"
   },
   {
    "duration": 210,
    "start_time": "2023-03-31T08:23:01.681Z"
   },
   {
    "duration": 475,
    "start_time": "2023-03-31T08:23:01.892Z"
   },
   {
    "duration": 4,
    "start_time": "2023-03-31T08:23:02.369Z"
   },
   {
    "duration": 23,
    "start_time": "2023-03-31T08:23:02.375Z"
   },
   {
    "duration": 16,
    "start_time": "2023-03-31T08:23:02.399Z"
   },
   {
    "duration": 14,
    "start_time": "2023-03-31T08:23:02.416Z"
   },
   {
    "duration": 150,
    "start_time": "2023-03-31T08:23:02.432Z"
   },
   {
    "duration": 3,
    "start_time": "2023-03-31T08:23:02.584Z"
   },
   {
    "duration": 83,
    "start_time": "2023-03-31T08:23:02.588Z"
   },
   {
    "duration": 3,
    "start_time": "2023-03-31T08:23:02.673Z"
   },
   {
    "duration": 79,
    "start_time": "2023-03-31T08:23:02.678Z"
   },
   {
    "duration": 3,
    "start_time": "2023-03-31T08:23:02.759Z"
   },
   {
    "duration": 167,
    "start_time": "2023-03-31T08:23:02.764Z"
   },
   {
    "duration": 18,
    "start_time": "2023-03-31T08:23:57.518Z"
   },
   {
    "duration": 4,
    "start_time": "2023-03-31T08:24:27.426Z"
   },
   {
    "duration": 26,
    "start_time": "2023-03-31T08:33:00.252Z"
   },
   {
    "duration": 20,
    "start_time": "2023-03-31T08:33:34.354Z"
   },
   {
    "duration": 9,
    "start_time": "2023-03-31T08:33:38.475Z"
   },
   {
    "duration": 5,
    "start_time": "2023-03-31T08:33:47.314Z"
   },
   {
    "duration": 10,
    "start_time": "2023-03-31T08:35:19.322Z"
   },
   {
    "duration": 10,
    "start_time": "2023-03-31T08:37:27.309Z"
   },
   {
    "duration": 10,
    "start_time": "2023-03-31T08:43:28.582Z"
   },
   {
    "duration": 10,
    "start_time": "2023-03-31T08:43:30.793Z"
   },
   {
    "duration": 12,
    "start_time": "2023-03-31T08:43:58.371Z"
   },
   {
    "duration": 4,
    "start_time": "2023-03-31T08:44:11.741Z"
   },
   {
    "duration": 4,
    "start_time": "2023-03-31T08:44:26.700Z"
   },
   {
    "duration": 13,
    "start_time": "2023-03-31T08:45:24.584Z"
   },
   {
    "duration": 10,
    "start_time": "2023-03-31T08:45:38.657Z"
   },
   {
    "duration": 44,
    "start_time": "2023-03-31T08:47:00.983Z"
   },
   {
    "duration": 16,
    "start_time": "2023-03-31T08:47:03.667Z"
   },
   {
    "duration": 19,
    "start_time": "2023-03-31T08:47:05.534Z"
   },
   {
    "duration": 21,
    "start_time": "2023-03-31T08:47:09.314Z"
   },
   {
    "duration": 8,
    "start_time": "2023-03-31T08:47:10.824Z"
   },
   {
    "duration": 45,
    "start_time": "2023-03-31T08:47:22.893Z"
   },
   {
    "duration": 4,
    "start_time": "2023-03-31T08:47:36.719Z"
   },
   {
    "duration": 16,
    "start_time": "2023-03-31T08:47:51.558Z"
   },
   {
    "duration": 25,
    "start_time": "2023-03-31T08:47:53.224Z"
   },
   {
    "duration": 8,
    "start_time": "2023-03-31T08:47:55.155Z"
   },
   {
    "duration": 38,
    "start_time": "2023-03-31T08:48:25.452Z"
   },
   {
    "duration": 29,
    "start_time": "2023-03-31T08:48:27.006Z"
   },
   {
    "duration": 15,
    "start_time": "2023-03-31T08:48:33.165Z"
   },
   {
    "duration": 31,
    "start_time": "2023-03-31T08:50:22.152Z"
   },
   {
    "duration": 8,
    "start_time": "2023-03-31T08:50:31.378Z"
   },
   {
    "duration": 9,
    "start_time": "2023-03-31T08:51:08.162Z"
   },
   {
    "duration": 35,
    "start_time": "2023-03-31T08:52:14.096Z"
   },
   {
    "duration": 9,
    "start_time": "2023-03-31T08:52:15.534Z"
   },
   {
    "duration": 8,
    "start_time": "2023-03-31T08:52:17.912Z"
   },
   {
    "duration": 4,
    "start_time": "2023-03-31T08:52:49.952Z"
   },
   {
    "duration": 254,
    "start_time": "2023-03-31T08:52:49.958Z"
   },
   {
    "duration": 69,
    "start_time": "2023-03-31T08:52:50.213Z"
   },
   {
    "duration": 333,
    "start_time": "2023-03-31T08:52:50.283Z"
   },
   {
    "duration": 3,
    "start_time": "2023-03-31T08:52:50.618Z"
   },
   {
    "duration": 18,
    "start_time": "2023-03-31T08:52:50.623Z"
   },
   {
    "duration": 11,
    "start_time": "2023-03-31T08:52:50.642Z"
   },
   {
    "duration": 17,
    "start_time": "2023-03-31T08:52:50.654Z"
   },
   {
    "duration": 17,
    "start_time": "2023-03-31T08:52:50.672Z"
   },
   {
    "duration": 9,
    "start_time": "2023-03-31T08:52:50.691Z"
   },
   {
    "duration": 17,
    "start_time": "2023-03-31T08:52:50.701Z"
   },
   {
    "duration": 16,
    "start_time": "2023-03-31T08:52:50.719Z"
   },
   {
    "duration": 24,
    "start_time": "2023-03-31T08:52:50.737Z"
   },
   {
    "duration": 5,
    "start_time": "2023-03-31T08:52:50.765Z"
   },
   {
    "duration": 12,
    "start_time": "2023-03-31T08:52:50.772Z"
   },
   {
    "duration": 11,
    "start_time": "2023-03-31T08:52:50.785Z"
   },
   {
    "duration": 9,
    "start_time": "2023-03-31T08:52:50.798Z"
   },
   {
    "duration": 4,
    "start_time": "2023-03-31T08:52:50.808Z"
   },
   {
    "duration": 1016,
    "start_time": "2023-03-31T08:52:50.840Z"
   },
   {
    "duration": 37,
    "start_time": "2023-03-31T08:52:51.858Z"
   },
   {
    "duration": 890,
    "start_time": "2023-03-31T08:52:51.896Z"
   },
   {
    "duration": 265,
    "start_time": "2023-03-31T08:52:52.787Z"
   },
   {
    "duration": 509,
    "start_time": "2023-03-31T08:52:53.055Z"
   },
   {
    "duration": 5,
    "start_time": "2023-03-31T08:52:53.565Z"
   },
   {
    "duration": 4,
    "start_time": "2023-03-31T08:52:53.572Z"
   },
   {
    "duration": 4,
    "start_time": "2023-03-31T08:52:53.577Z"
   },
   {
    "duration": 4,
    "start_time": "2023-03-31T08:52:53.582Z"
   },
   {
    "duration": 174,
    "start_time": "2023-03-31T08:52:53.588Z"
   },
   {
    "duration": 3,
    "start_time": "2023-03-31T08:52:53.764Z"
   },
   {
    "duration": 77,
    "start_time": "2023-03-31T08:52:55.527Z"
   },
   {
    "duration": 9,
    "start_time": "2023-03-31T08:53:10.175Z"
   },
   {
    "duration": 7,
    "start_time": "2023-03-31T08:53:32.157Z"
   },
   {
    "duration": 76,
    "start_time": "2023-03-31T08:53:38.237Z"
   },
   {
    "duration": 6,
    "start_time": "2023-03-31T08:53:39.725Z"
   },
   {
    "duration": 73,
    "start_time": "2023-03-31T08:53:48.583Z"
   },
   {
    "duration": 4,
    "start_time": "2023-03-31T08:53:49.649Z"
   },
   {
    "duration": 8,
    "start_time": "2023-03-31T08:53:50.429Z"
   },
   {
    "duration": 71,
    "start_time": "2023-03-31T08:53:51.801Z"
   },
   {
    "duration": 4,
    "start_time": "2023-03-31T08:53:53.159Z"
   },
   {
    "duration": 7,
    "start_time": "2023-03-31T08:53:53.661Z"
   },
   {
    "duration": 46,
    "start_time": "2023-03-31T08:54:00.627Z"
   },
   {
    "duration": 4,
    "start_time": "2023-03-31T08:54:03.512Z"
   },
   {
    "duration": 28,
    "start_time": "2023-03-31T08:54:11.843Z"
   },
   {
    "duration": 4,
    "start_time": "2023-03-31T08:55:37.379Z"
   },
   {
    "duration": 257,
    "start_time": "2023-03-31T08:55:37.385Z"
   },
   {
    "duration": 63,
    "start_time": "2023-03-31T08:55:37.644Z"
   },
   {
    "duration": 293,
    "start_time": "2023-03-31T08:55:37.709Z"
   },
   {
    "duration": 3,
    "start_time": "2023-03-31T08:55:38.005Z"
   },
   {
    "duration": 4,
    "start_time": "2023-03-31T08:55:38.010Z"
   },
   {
    "duration": 6,
    "start_time": "2023-03-31T08:55:38.016Z"
   },
   {
    "duration": 17,
    "start_time": "2023-03-31T08:55:38.024Z"
   },
   {
    "duration": 11,
    "start_time": "2023-03-31T08:55:38.042Z"
   },
   {
    "duration": 4,
    "start_time": "2023-03-31T08:55:38.055Z"
   },
   {
    "duration": 4,
    "start_time": "2023-03-31T08:55:38.060Z"
   },
   {
    "duration": 17,
    "start_time": "2023-03-31T08:55:38.065Z"
   },
   {
    "duration": 20,
    "start_time": "2023-03-31T08:55:38.083Z"
   },
   {
    "duration": 36,
    "start_time": "2023-03-31T08:55:38.106Z"
   },
   {
    "duration": 10,
    "start_time": "2023-03-31T08:55:38.143Z"
   },
   {
    "duration": 11,
    "start_time": "2023-03-31T08:55:38.154Z"
   },
   {
    "duration": 8,
    "start_time": "2023-03-31T08:55:38.166Z"
   },
   {
    "duration": 4,
    "start_time": "2023-03-31T08:55:38.175Z"
   },
   {
    "duration": 983,
    "start_time": "2023-03-31T08:55:38.180Z"
   },
   {
    "duration": 37,
    "start_time": "2023-03-31T08:55:39.165Z"
   },
   {
    "duration": 830,
    "start_time": "2023-03-31T08:55:39.204Z"
   },
   {
    "duration": 189,
    "start_time": "2023-03-31T08:55:40.035Z"
   },
   {
    "duration": 468,
    "start_time": "2023-03-31T08:55:40.226Z"
   },
   {
    "duration": 4,
    "start_time": "2023-03-31T08:55:40.696Z"
   },
   {
    "duration": 5,
    "start_time": "2023-03-31T08:55:40.701Z"
   },
   {
    "duration": 4,
    "start_time": "2023-03-31T08:55:40.707Z"
   },
   {
    "duration": 7,
    "start_time": "2023-03-31T08:55:40.712Z"
   },
   {
    "duration": 161,
    "start_time": "2023-03-31T08:55:40.720Z"
   },
   {
    "duration": 3,
    "start_time": "2023-03-31T08:55:40.883Z"
   },
   {
    "duration": 89,
    "start_time": "2023-03-31T08:55:40.887Z"
   },
   {
    "duration": 4,
    "start_time": "2023-03-31T08:55:40.977Z"
   },
   {
    "duration": 85,
    "start_time": "2023-03-31T08:55:40.983Z"
   },
   {
    "duration": 4,
    "start_time": "2023-03-31T08:55:41.070Z"
   },
   {
    "duration": 44,
    "start_time": "2023-03-31T08:55:41.076Z"
   },
   {
    "duration": 42,
    "start_time": "2023-03-31T08:55:41.121Z"
   },
   {
    "duration": 23527,
    "start_time": "2023-03-31T08:55:44.034Z"
   },
   {
    "duration": 27120,
    "start_time": "2023-03-31T08:56:11.877Z"
   },
   {
    "duration": 173364,
    "start_time": "2023-03-31T08:56:45.153Z"
   },
   {
    "duration": 4,
    "start_time": "2023-03-31T09:01:36.609Z"
   },
   {
    "duration": 204856,
    "start_time": "2023-03-31T09:01:38.076Z"
   },
   {
    "duration": 4,
    "start_time": "2023-03-31T09:05:23.716Z"
   },
   {
    "duration": 4,
    "start_time": "2023-03-31T09:05:33.896Z"
   },
   {
    "duration": 5,
    "start_time": "2023-03-31T09:05:36.259Z"
   },
   {
    "duration": 612,
    "start_time": "2023-03-31T09:05:38.035Z"
   },
   {
    "duration": 1078,
    "start_time": "2023-03-31T09:05:40.582Z"
   },
   {
    "duration": 20,
    "start_time": "2023-03-31T09:06:03.500Z"
   },
   {
    "duration": 8,
    "start_time": "2023-03-31T09:06:57.359Z"
   },
   {
    "duration": 8,
    "start_time": "2023-03-31T09:07:19.379Z"
   },
   {
    "duration": 8,
    "start_time": "2023-03-31T09:07:29.773Z"
   },
   {
    "duration": 108,
    "start_time": "2023-03-31T09:07:58.470Z"
   },
   {
    "duration": 11,
    "start_time": "2023-03-31T09:07:59.459Z"
   },
   {
    "duration": 12,
    "start_time": "2023-03-31T09:08:00.263Z"
   },
   {
    "duration": 16,
    "start_time": "2023-03-31T09:08:29.438Z"
   },
   {
    "duration": 13,
    "start_time": "2023-03-31T09:09:03.695Z"
   },
   {
    "duration": 4,
    "start_time": "2023-03-31T09:09:28.955Z"
   },
   {
    "duration": 11,
    "start_time": "2023-03-31T09:09:30.300Z"
   },
   {
    "duration": 9,
    "start_time": "2023-03-31T09:09:35.590Z"
   },
   {
    "duration": 7,
    "start_time": "2023-03-31T09:09:38.597Z"
   },
   {
    "duration": 5,
    "start_time": "2023-03-31T09:09:43.218Z"
   },
   {
    "duration": 8,
    "start_time": "2023-03-31T09:09:43.759Z"
   },
   {
    "duration": 9,
    "start_time": "2023-03-31T09:09:44.894Z"
   },
   {
    "duration": 84,
    "start_time": "2023-03-31T09:09:47.785Z"
   },
   {
    "duration": 88,
    "start_time": "2023-03-31T09:10:11.826Z"
   },
   {
    "duration": 4,
    "start_time": "2023-03-31T09:10:13.919Z"
   },
   {
    "duration": 16,
    "start_time": "2023-03-31T09:10:15.329Z"
   },
   {
    "duration": 8,
    "start_time": "2023-03-31T09:10:15.558Z"
   },
   {
    "duration": 79,
    "start_time": "2023-03-31T09:10:18.022Z"
   },
   {
    "duration": 4,
    "start_time": "2023-03-31T09:10:20.165Z"
   },
   {
    "duration": 7,
    "start_time": "2023-03-31T09:10:20.974Z"
   },
   {
    "duration": 7,
    "start_time": "2023-03-31T09:10:21.588Z"
   },
   {
    "duration": 40,
    "start_time": "2023-03-31T09:10:24.859Z"
   },
   {
    "duration": 20,
    "start_time": "2023-03-31T09:10:25.900Z"
   },
   {
    "duration": 470,
    "start_time": "2023-03-31T09:10:29.786Z"
   },
   {
    "duration": 4,
    "start_time": "2023-03-31T09:10:33.469Z"
   },
   {
    "duration": 136,
    "start_time": "2023-03-31T09:10:35.511Z"
   },
   {
    "duration": 5,
    "start_time": "2023-03-31T09:10:53.416Z"
   },
   {
    "duration": 4,
    "start_time": "2023-03-31T09:10:53.758Z"
   },
   {
    "duration": 6596,
    "start_time": "2023-03-31T09:10:56.492Z"
   },
   {
    "duration": 6732,
    "start_time": "2023-03-31T09:11:30.031Z"
   },
   {
    "duration": 46851,
    "start_time": "2023-03-31T09:12:07.430Z"
   },
   {
    "duration": 4,
    "start_time": "2023-03-31T09:16:53.974Z"
   },
   {
    "duration": 46046,
    "start_time": "2023-03-31T09:16:54.654Z"
   },
   {
    "duration": 48196,
    "start_time": "2023-03-31T09:20:49.362Z"
   },
   {
    "duration": 124017,
    "start_time": "2023-03-31T09:29:12.496Z"
   },
   {
    "duration": 10,
    "start_time": "2023-03-31T09:37:04.487Z"
   },
   {
    "duration": 15,
    "start_time": "2023-03-31T09:37:54.108Z"
   },
   {
    "duration": 78,
    "start_time": "2023-03-31T09:39:21.780Z"
   },
   {
    "duration": 19,
    "start_time": "2023-03-31T09:39:45.396Z"
   },
   {
    "duration": 15,
    "start_time": "2023-03-31T09:41:06.846Z"
   },
   {
    "duration": 18,
    "start_time": "2023-03-31T09:43:25.930Z"
   },
   {
    "duration": 11,
    "start_time": "2023-03-31T09:43:27.483Z"
   },
   {
    "duration": 9,
    "start_time": "2023-03-31T09:43:43.102Z"
   },
   {
    "duration": 11,
    "start_time": "2023-03-31T09:43:46.512Z"
   },
   {
    "duration": 4,
    "start_time": "2023-03-31T09:43:50.406Z"
   },
   {
    "duration": 6,
    "start_time": "2023-03-31T09:47:24.773Z"
   },
   {
    "duration": 4,
    "start_time": "2023-03-31T09:47:26.675Z"
   },
   {
    "duration": 64,
    "start_time": "2023-03-31T09:52:48.524Z"
   },
   {
    "duration": 4,
    "start_time": "2023-03-31T09:52:55.171Z"
   },
   {
    "duration": 71,
    "start_time": "2023-03-31T09:53:15.675Z"
   },
   {
    "duration": 4,
    "start_time": "2023-03-31T09:53:19.532Z"
   },
   {
    "duration": 81,
    "start_time": "2023-03-31T09:53:42.197Z"
   },
   {
    "duration": 5,
    "start_time": "2023-03-31T09:53:42.789Z"
   },
   {
    "duration": 39,
    "start_time": "2023-03-31T09:53:45.160Z"
   },
   {
    "duration": 34,
    "start_time": "2023-03-31T09:53:46.484Z"
   },
   {
    "duration": 1894,
    "start_time": "2023-03-31T09:53:52.377Z"
   },
   {
    "duration": 301,
    "start_time": "2023-03-31T09:54:02.357Z"
   },
   {
    "duration": 4,
    "start_time": "2023-03-31T09:54:11.581Z"
   },
   {
    "duration": 79,
    "start_time": "2023-03-31T09:54:26.842Z"
   },
   {
    "duration": 3,
    "start_time": "2023-03-31T09:54:27.296Z"
   },
   {
    "duration": 40,
    "start_time": "2023-03-31T09:54:28.306Z"
   },
   {
    "duration": 23,
    "start_time": "2023-03-31T09:54:29.423Z"
   },
   {
    "duration": 166,
    "start_time": "2023-03-31T09:54:33.078Z"
   },
   {
    "duration": 4,
    "start_time": "2023-03-31T10:06:34.362Z"
   },
   {
    "duration": 4,
    "start_time": "2023-03-31T10:06:46.902Z"
   },
   {
    "duration": 246,
    "start_time": "2023-03-31T10:06:46.909Z"
   },
   {
    "duration": 61,
    "start_time": "2023-03-31T10:06:47.157Z"
   },
   {
    "duration": 307,
    "start_time": "2023-03-31T10:06:47.220Z"
   },
   {
    "duration": 4,
    "start_time": "2023-03-31T10:06:47.530Z"
   },
   {
    "duration": 4,
    "start_time": "2023-03-31T10:06:47.540Z"
   },
   {
    "duration": 4,
    "start_time": "2023-03-31T10:06:47.546Z"
   },
   {
    "duration": 19,
    "start_time": "2023-03-31T10:06:47.551Z"
   },
   {
    "duration": 5,
    "start_time": "2023-03-31T10:06:47.572Z"
   },
   {
    "duration": 8,
    "start_time": "2023-03-31T10:06:47.578Z"
   },
   {
    "duration": 4,
    "start_time": "2023-03-31T10:06:47.588Z"
   },
   {
    "duration": 18,
    "start_time": "2023-03-31T10:06:47.594Z"
   },
   {
    "duration": 43,
    "start_time": "2023-03-31T10:06:47.614Z"
   },
   {
    "duration": 5,
    "start_time": "2023-03-31T10:06:47.661Z"
   },
   {
    "duration": 19,
    "start_time": "2023-03-31T10:06:47.668Z"
   },
   {
    "duration": 9,
    "start_time": "2023-03-31T10:06:47.689Z"
   },
   {
    "duration": 9,
    "start_time": "2023-03-31T10:06:47.699Z"
   },
   {
    "duration": 30,
    "start_time": "2023-03-31T10:06:47.710Z"
   },
   {
    "duration": 978,
    "start_time": "2023-03-31T10:06:47.742Z"
   },
   {
    "duration": 50,
    "start_time": "2023-03-31T10:06:48.722Z"
   },
   {
    "duration": 981,
    "start_time": "2023-03-31T10:06:48.774Z"
   },
   {
    "duration": 222,
    "start_time": "2023-03-31T10:06:49.756Z"
   },
   {
    "duration": 512,
    "start_time": "2023-03-31T10:06:49.979Z"
   },
   {
    "duration": 5,
    "start_time": "2023-03-31T10:06:50.493Z"
   },
   {
    "duration": 5,
    "start_time": "2023-03-31T10:06:50.499Z"
   },
   {
    "duration": 13,
    "start_time": "2023-03-31T10:06:50.506Z"
   },
   {
    "duration": 21,
    "start_time": "2023-03-31T10:06:50.521Z"
   },
   {
    "duration": 166,
    "start_time": "2023-03-31T10:06:50.544Z"
   },
   {
    "duration": 5,
    "start_time": "2023-03-31T10:06:54.398Z"
   },
   {
    "duration": 12,
    "start_time": "2023-03-31T10:35:57.612Z"
   },
   {
    "duration": 3,
    "start_time": "2023-03-31T10:36:09.207Z"
   },
   {
    "duration": 5,
    "start_time": "2023-03-31T10:37:05.927Z"
   },
   {
    "duration": 56,
    "start_time": "2023-03-31T10:37:28.424Z"
   },
   {
    "duration": 29,
    "start_time": "2023-03-31T10:37:33.195Z"
   },
   {
    "duration": 67,
    "start_time": "2023-03-31T10:37:42.588Z"
   },
   {
    "duration": 8,
    "start_time": "2023-03-31T10:39:18.522Z"
   },
   {
    "duration": 8,
    "start_time": "2023-03-31T10:39:32.664Z"
   },
   {
    "duration": 6,
    "start_time": "2023-03-31T10:40:43.879Z"
   },
   {
    "duration": 6,
    "start_time": "2023-03-31T10:40:59.835Z"
   },
   {
    "duration": 112,
    "start_time": "2023-03-31T10:43:42.070Z"
   },
   {
    "duration": 5,
    "start_time": "2023-03-31T10:43:49.681Z"
   },
   {
    "duration": 148,
    "start_time": "2023-03-31T10:44:02.796Z"
   },
   {
    "duration": 10,
    "start_time": "2023-03-31T10:44:03.405Z"
   },
   {
    "duration": 12,
    "start_time": "2023-03-31T10:44:27.139Z"
   },
   {
    "duration": 129,
    "start_time": "2023-03-31T10:44:46.491Z"
   },
   {
    "duration": 12,
    "start_time": "2023-03-31T10:44:46.976Z"
   },
   {
    "duration": 96,
    "start_time": "2023-03-31T10:45:06.702Z"
   },
   {
    "duration": 75,
    "start_time": "2023-03-31T10:45:22.442Z"
   },
   {
    "duration": 9,
    "start_time": "2023-03-31T10:45:23.358Z"
   },
   {
    "duration": 4,
    "start_time": "2023-03-31T10:45:26.160Z"
   },
   {
    "duration": 9,
    "start_time": "2023-03-31T10:45:27.617Z"
   },
   {
    "duration": 98,
    "start_time": "2023-03-31T10:46:31.134Z"
   },
   {
    "duration": 16,
    "start_time": "2023-03-31T10:46:31.715Z"
   },
   {
    "duration": 5,
    "start_time": "2023-03-31T10:47:27.601Z"
   },
   {
    "duration": 4,
    "start_time": "2023-03-31T10:47:38.795Z"
   },
   {
    "duration": 914,
    "start_time": "2023-03-31T10:48:06.545Z"
   },
   {
    "duration": 6,
    "start_time": "2023-03-31T10:48:21.372Z"
   },
   {
    "duration": 85,
    "start_time": "2023-03-31T10:49:35.084Z"
   },
   {
    "duration": 14,
    "start_time": "2023-03-31T10:49:36.778Z"
   },
   {
    "duration": 5,
    "start_time": "2023-03-31T10:57:03.198Z"
   },
   {
    "duration": 228,
    "start_time": "2023-03-31T10:57:03.205Z"
   },
   {
    "duration": 62,
    "start_time": "2023-03-31T10:57:03.434Z"
   },
   {
    "duration": 295,
    "start_time": "2023-03-31T10:57:03.498Z"
   },
   {
    "duration": 4,
    "start_time": "2023-03-31T10:57:03.796Z"
   },
   {
    "duration": 13,
    "start_time": "2023-03-31T10:57:03.802Z"
   },
   {
    "duration": 9,
    "start_time": "2023-03-31T10:57:03.817Z"
   },
   {
    "duration": 23,
    "start_time": "2023-03-31T10:57:03.828Z"
   },
   {
    "duration": 7,
    "start_time": "2023-03-31T10:57:03.853Z"
   },
   {
    "duration": 9,
    "start_time": "2023-03-31T10:57:03.862Z"
   },
   {
    "duration": 11,
    "start_time": "2023-03-31T10:57:03.872Z"
   },
   {
    "duration": 23,
    "start_time": "2023-03-31T10:57:03.885Z"
   },
   {
    "duration": 38,
    "start_time": "2023-03-31T10:57:03.910Z"
   },
   {
    "duration": 8,
    "start_time": "2023-03-31T10:57:03.952Z"
   },
   {
    "duration": 7,
    "start_time": "2023-03-31T10:57:03.962Z"
   },
   {
    "duration": 8,
    "start_time": "2023-03-31T10:57:03.971Z"
   },
   {
    "duration": 8,
    "start_time": "2023-03-31T10:57:03.980Z"
   },
   {
    "duration": 4,
    "start_time": "2023-03-31T10:57:03.990Z"
   },
   {
    "duration": 1031,
    "start_time": "2023-03-31T10:57:03.996Z"
   },
   {
    "duration": 66,
    "start_time": "2023-03-31T10:57:05.031Z"
   },
   {
    "duration": 979,
    "start_time": "2023-03-31T10:57:05.099Z"
   },
   {
    "duration": 227,
    "start_time": "2023-03-31T10:57:06.080Z"
   },
   {
    "duration": 582,
    "start_time": "2023-03-31T10:57:06.309Z"
   },
   {
    "duration": 7,
    "start_time": "2023-03-31T10:57:06.893Z"
   },
   {
    "duration": 32,
    "start_time": "2023-03-31T10:57:06.902Z"
   },
   {
    "duration": 12,
    "start_time": "2023-03-31T10:57:06.936Z"
   },
   {
    "duration": 21,
    "start_time": "2023-03-31T10:57:06.950Z"
   },
   {
    "duration": 233,
    "start_time": "2023-03-31T10:57:06.974Z"
   },
   {
    "duration": 6,
    "start_time": "2023-03-31T10:57:07.209Z"
   },
   {
    "duration": 105,
    "start_time": "2023-03-31T10:57:07.217Z"
   },
   {
    "duration": 4,
    "start_time": "2023-03-31T10:57:07.324Z"
   },
   {
    "duration": 17,
    "start_time": "2023-03-31T10:57:07.330Z"
   },
   {
    "duration": 107,
    "start_time": "2023-03-31T10:57:07.349Z"
   },
   {
    "duration": 4,
    "start_time": "2023-03-31T10:57:07.457Z"
   },
   {
    "duration": 29,
    "start_time": "2023-03-31T10:57:07.463Z"
   },
   {
    "duration": 72,
    "start_time": "2023-03-31T10:57:07.494Z"
   },
   {
    "duration": 27,
    "start_time": "2023-03-31T10:57:07.568Z"
   },
   {
    "duration": 6283,
    "start_time": "2023-03-31T10:57:07.597Z"
   },
   {
    "duration": 6815,
    "start_time": "2023-03-31T10:57:13.882Z"
   },
   {
    "duration": 122983,
    "start_time": "2023-03-31T10:57:20.698Z"
   },
   {
    "duration": 147919,
    "start_time": "2023-03-31T10:59:23.685Z"
   },
   {
    "duration": 439,
    "start_time": "2023-03-31T11:01:51.606Z"
   },
   {
    "duration": 407,
    "start_time": "2023-03-31T11:01:52.047Z"
   },
   {
    "duration": 39,
    "start_time": "2023-03-31T11:11:50.058Z"
   },
   {
    "duration": 1099,
    "start_time": "2023-03-31T11:38:23.271Z"
   },
   {
    "duration": 1170,
    "start_time": "2023-03-31T11:45:05.750Z"
   },
   {
    "duration": 179,
    "start_time": "2023-03-31T11:45:53.163Z"
   },
   {
    "duration": 11,
    "start_time": "2023-03-31T11:45:54.556Z"
   },
   {
    "duration": 5,
    "start_time": "2023-03-31T11:50:24.980Z"
   },
   {
    "duration": 7,
    "start_time": "2023-03-31T11:50:34.107Z"
   },
   {
    "duration": 7,
    "start_time": "2023-03-31T11:50:37.396Z"
   },
   {
    "duration": 2543,
    "start_time": "2023-04-01T13:33:56.068Z"
   },
   {
    "duration": 304,
    "start_time": "2023-04-01T13:33:58.613Z"
   },
   {
    "duration": 90,
    "start_time": "2023-04-01T13:33:58.918Z"
   },
   {
    "duration": 388,
    "start_time": "2023-04-01T13:33:59.010Z"
   },
   {
    "duration": 6,
    "start_time": "2023-04-01T13:33:59.400Z"
   },
   {
    "duration": 22,
    "start_time": "2023-04-01T13:33:59.408Z"
   },
   {
    "duration": 40,
    "start_time": "2023-04-01T13:33:59.433Z"
   },
   {
    "duration": 11,
    "start_time": "2023-04-01T13:33:59.474Z"
   },
   {
    "duration": 14,
    "start_time": "2023-04-01T13:33:59.487Z"
   },
   {
    "duration": 20,
    "start_time": "2023-04-01T13:33:59.503Z"
   },
   {
    "duration": 22,
    "start_time": "2023-04-01T13:33:59.525Z"
   },
   {
    "duration": 47,
    "start_time": "2023-04-01T13:33:59.549Z"
   },
   {
    "duration": 35,
    "start_time": "2023-04-01T13:33:59.598Z"
   },
   {
    "duration": 19,
    "start_time": "2023-04-01T13:33:59.636Z"
   },
   {
    "duration": 18,
    "start_time": "2023-04-01T13:33:59.657Z"
   },
   {
    "duration": 17,
    "start_time": "2023-04-01T13:33:59.677Z"
   },
   {
    "duration": 12,
    "start_time": "2023-04-01T13:33:59.696Z"
   },
   {
    "duration": 4,
    "start_time": "2023-04-01T13:33:59.709Z"
   },
   {
    "duration": 1273,
    "start_time": "2023-04-01T13:33:59.715Z"
   },
   {
    "duration": 54,
    "start_time": "2023-04-01T13:34:00.990Z"
   },
   {
    "duration": 1077,
    "start_time": "2023-04-01T13:34:01.051Z"
   },
   {
    "duration": 241,
    "start_time": "2023-04-01T13:34:02.129Z"
   },
   {
    "duration": 778,
    "start_time": "2023-04-01T13:34:02.372Z"
   },
   {
    "duration": 10,
    "start_time": "2023-04-01T13:34:03.154Z"
   },
   {
    "duration": 15,
    "start_time": "2023-04-01T13:34:03.167Z"
   },
   {
    "duration": 16,
    "start_time": "2023-04-01T13:34:03.185Z"
   },
   {
    "duration": 25,
    "start_time": "2023-04-01T13:34:03.203Z"
   },
   {
    "duration": 192,
    "start_time": "2023-04-01T13:34:03.230Z"
   },
   {
    "duration": 5,
    "start_time": "2023-04-01T13:34:03.423Z"
   },
   {
    "duration": 113,
    "start_time": "2023-04-01T13:34:03.430Z"
   },
   {
    "duration": 4,
    "start_time": "2023-04-01T13:34:03.545Z"
   },
   {
    "duration": 20,
    "start_time": "2023-04-01T13:34:03.551Z"
   },
   {
    "duration": 94,
    "start_time": "2023-04-01T13:34:03.573Z"
   },
   {
    "duration": 4,
    "start_time": "2023-04-01T13:34:03.669Z"
   },
   {
    "duration": 12,
    "start_time": "2023-04-01T13:34:03.675Z"
   },
   {
    "duration": 206,
    "start_time": "2023-04-01T13:34:03.689Z"
   },
   {
    "duration": 12,
    "start_time": "2023-04-01T13:34:03.896Z"
   },
   {
    "duration": 12,
    "start_time": "2023-04-01T13:34:48.496Z"
   },
   {
    "duration": 1650,
    "start_time": "2023-04-01T21:51:41.617Z"
   },
   {
    "duration": 940,
    "start_time": "2023-04-01T21:51:43.270Z"
   },
   {
    "duration": 472,
    "start_time": "2023-04-01T21:51:44.211Z"
   },
   {
    "duration": 2029,
    "start_time": "2023-04-01T21:51:44.685Z"
   },
   {
    "duration": 5,
    "start_time": "2023-04-01T21:51:46.716Z"
   },
   {
    "duration": 31,
    "start_time": "2023-04-01T21:51:46.723Z"
   },
   {
    "duration": 9,
    "start_time": "2023-04-01T21:51:46.756Z"
   },
   {
    "duration": 7,
    "start_time": "2023-04-01T21:51:46.767Z"
   },
   {
    "duration": 9,
    "start_time": "2023-04-01T21:51:46.775Z"
   },
   {
    "duration": 10,
    "start_time": "2023-04-01T21:51:46.786Z"
   },
   {
    "duration": 11,
    "start_time": "2023-04-01T21:51:46.798Z"
   },
   {
    "duration": 38,
    "start_time": "2023-04-01T21:51:46.811Z"
   },
   {
    "duration": 33,
    "start_time": "2023-04-01T21:51:46.853Z"
   },
   {
    "duration": 6,
    "start_time": "2023-04-01T21:51:46.888Z"
   },
   {
    "duration": 10,
    "start_time": "2023-04-01T21:51:46.896Z"
   },
   {
    "duration": 8,
    "start_time": "2023-04-01T21:51:46.907Z"
   },
   {
    "duration": 30,
    "start_time": "2023-04-01T21:51:46.916Z"
   },
   {
    "duration": 28,
    "start_time": "2023-04-01T21:52:04.709Z"
   },
   {
    "duration": 20,
    "start_time": "2023-04-01T21:52:55.451Z"
   },
   {
    "duration": 27,
    "start_time": "2023-04-01T21:53:34.261Z"
   },
   {
    "duration": 32,
    "start_time": "2023-04-01T21:54:00.216Z"
   },
   {
    "duration": 27,
    "start_time": "2023-04-01T21:54:11.760Z"
   },
   {
    "duration": 34,
    "start_time": "2023-04-01T21:55:08.905Z"
   },
   {
    "duration": 18,
    "start_time": "2023-04-01T21:55:56.613Z"
   },
   {
    "duration": 19,
    "start_time": "2023-04-01T21:56:09.304Z"
   },
   {
    "duration": 5,
    "start_time": "2023-04-01T21:56:32.108Z"
   },
   {
    "duration": 32,
    "start_time": "2023-04-01T21:56:34.534Z"
   },
   {
    "duration": 53,
    "start_time": "2023-04-01T21:57:16.932Z"
   },
   {
    "duration": 29,
    "start_time": "2023-04-01T21:57:17.128Z"
   },
   {
    "duration": 37,
    "start_time": "2023-04-01T21:57:17.304Z"
   },
   {
    "duration": 16,
    "start_time": "2023-04-01T21:57:25.635Z"
   },
   {
    "duration": 4,
    "start_time": "2023-04-01T21:57:31.431Z"
   },
   {
    "duration": 10,
    "start_time": "2023-04-01T21:57:36.217Z"
   },
   {
    "duration": 6,
    "start_time": "2023-04-01T21:57:39.116Z"
   },
   {
    "duration": 8,
    "start_time": "2023-04-01T21:57:39.866Z"
   },
   {
    "duration": 9,
    "start_time": "2023-04-01T21:57:40.626Z"
   },
   {
    "duration": 47,
    "start_time": "2023-04-02T08:34:27.886Z"
   },
   {
    "duration": 1519,
    "start_time": "2023-04-02T08:34:34.172Z"
   },
   {
    "duration": 1172,
    "start_time": "2023-04-02T08:34:35.693Z"
   },
   {
    "duration": 137,
    "start_time": "2023-04-02T08:34:36.867Z"
   },
   {
    "duration": 506,
    "start_time": "2023-04-02T08:34:37.005Z"
   },
   {
    "duration": 5,
    "start_time": "2023-04-02T08:34:37.513Z"
   },
   {
    "duration": 4,
    "start_time": "2023-04-02T08:34:37.520Z"
   },
   {
    "duration": 5,
    "start_time": "2023-04-02T08:34:37.525Z"
   },
   {
    "duration": 4,
    "start_time": "2023-04-02T08:34:37.532Z"
   },
   {
    "duration": 6,
    "start_time": "2023-04-02T08:34:37.537Z"
   },
   {
    "duration": 4,
    "start_time": "2023-04-02T08:34:37.544Z"
   },
   {
    "duration": 21,
    "start_time": "2023-04-02T08:34:37.549Z"
   },
   {
    "duration": 20,
    "start_time": "2023-04-02T08:34:37.572Z"
   },
   {
    "duration": 35,
    "start_time": "2023-04-02T08:34:37.594Z"
   },
   {
    "duration": 6,
    "start_time": "2023-04-02T08:34:37.631Z"
   },
   {
    "duration": 35,
    "start_time": "2023-04-02T08:34:37.638Z"
   },
   {
    "duration": 7,
    "start_time": "2023-04-02T08:34:37.675Z"
   },
   {
    "duration": 7,
    "start_time": "2023-04-02T08:34:37.683Z"
   },
   {
    "duration": 23,
    "start_time": "2023-04-02T08:34:37.692Z"
   },
   {
    "duration": 12,
    "start_time": "2023-04-02T08:34:37.716Z"
   },
   {
    "duration": 40,
    "start_time": "2023-04-02T08:34:37.730Z"
   },
   {
    "duration": 198,
    "start_time": "2023-04-02T08:34:37.772Z"
   },
   {
    "duration": 618,
    "start_time": "2023-04-02T08:34:37.972Z"
   },
   {
    "duration": 5,
    "start_time": "2023-04-02T08:34:38.592Z"
   },
   {
    "duration": 4,
    "start_time": "2023-04-02T08:34:38.598Z"
   },
   {
    "duration": 4,
    "start_time": "2023-04-02T08:34:38.603Z"
   },
   {
    "duration": 4,
    "start_time": "2023-04-02T08:34:38.608Z"
   },
   {
    "duration": 709,
    "start_time": "2023-04-02T08:34:43.285Z"
   },
   {
    "duration": 3,
    "start_time": "2023-04-02T08:40:22.080Z"
   },
   {
    "duration": 124,
    "start_time": "2023-04-02T08:40:28.241Z"
   },
   {
    "duration": 111,
    "start_time": "2023-04-02T08:40:34.423Z"
   },
   {
    "duration": 175,
    "start_time": "2023-04-02T08:40:56.338Z"
   },
   {
    "duration": 82,
    "start_time": "2023-04-02T08:41:31.334Z"
   },
   {
    "duration": 76,
    "start_time": "2023-04-02T08:41:35.024Z"
   },
   {
    "duration": 3,
    "start_time": "2023-04-02T08:43:12.306Z"
   },
   {
    "duration": 90,
    "start_time": "2023-04-02T08:43:13.125Z"
   },
   {
    "duration": 16,
    "start_time": "2023-04-02T08:43:30.012Z"
   },
   {
    "duration": 79,
    "start_time": "2023-04-02T08:43:41.746Z"
   },
   {
    "duration": 18,
    "start_time": "2023-04-02T08:45:18.728Z"
   },
   {
    "duration": 135,
    "start_time": "2023-04-02T08:46:03.659Z"
   },
   {
    "duration": 141,
    "start_time": "2023-04-02T08:46:21.776Z"
   },
   {
    "duration": 177,
    "start_time": "2023-04-02T08:46:43.103Z"
   },
   {
    "duration": 151,
    "start_time": "2023-04-02T08:47:31.264Z"
   },
   {
    "duration": 172,
    "start_time": "2023-04-02T08:47:52.572Z"
   },
   {
    "duration": 423,
    "start_time": "2023-04-02T08:48:34.447Z"
   },
   {
    "duration": 329,
    "start_time": "2023-04-02T08:48:46.405Z"
   },
   {
    "duration": 300,
    "start_time": "2023-04-02T08:48:57.535Z"
   },
   {
    "duration": 408,
    "start_time": "2023-04-02T08:50:52.412Z"
   },
   {
    "duration": 309,
    "start_time": "2023-04-02T08:52:26.189Z"
   },
   {
    "duration": 45,
    "start_time": "2023-04-02T08:52:33.388Z"
   },
   {
    "duration": 294,
    "start_time": "2023-04-02T08:52:40.372Z"
   },
   {
    "duration": 21,
    "start_time": "2023-04-02T08:55:06.457Z"
   },
   {
    "duration": 167,
    "start_time": "2023-04-02T08:55:29.253Z"
   },
   {
    "duration": 84,
    "start_time": "2023-04-02T08:57:18.160Z"
   },
   {
    "duration": 7,
    "start_time": "2023-04-02T08:57:35.252Z"
   },
   {
    "duration": 105,
    "start_time": "2023-04-02T08:58:17.191Z"
   },
   {
    "duration": 98,
    "start_time": "2023-04-02T08:59:14.408Z"
   },
   {
    "duration": 102,
    "start_time": "2023-04-02T09:00:43.157Z"
   },
   {
    "duration": 112,
    "start_time": "2023-04-02T09:01:35.021Z"
   },
   {
    "duration": 105,
    "start_time": "2023-04-02T09:02:06.546Z"
   },
   {
    "duration": 7,
    "start_time": "2023-04-02T09:16:13.577Z"
   },
   {
    "duration": 38,
    "start_time": "2023-04-02T09:16:19.947Z"
   },
   {
    "duration": 5,
    "start_time": "2023-04-02T09:16:27.034Z"
   },
   {
    "duration": 5,
    "start_time": "2023-04-02T09:16:31.918Z"
   },
   {
    "duration": 5,
    "start_time": "2023-04-02T09:16:53.976Z"
   },
   {
    "duration": 5,
    "start_time": "2023-04-02T09:17:50.200Z"
   },
   {
    "duration": 5,
    "start_time": "2023-04-02T09:18:36.075Z"
   },
   {
    "duration": 6,
    "start_time": "2023-04-02T09:19:09.382Z"
   },
   {
    "duration": 7,
    "start_time": "2023-04-02T09:19:15.327Z"
   },
   {
    "duration": 5,
    "start_time": "2023-04-02T09:19:20.993Z"
   },
   {
    "duration": 6,
    "start_time": "2023-04-02T09:19:31.771Z"
   },
   {
    "duration": 8,
    "start_time": "2023-04-02T09:48:17.022Z"
   },
   {
    "duration": 6,
    "start_time": "2023-04-02T09:48:29.987Z"
   },
   {
    "duration": 5,
    "start_time": "2023-04-02T09:48:44.109Z"
   },
   {
    "duration": 5,
    "start_time": "2023-04-02T09:48:54.230Z"
   },
   {
    "duration": 6,
    "start_time": "2023-04-02T09:49:36.266Z"
   },
   {
    "duration": 4,
    "start_time": "2023-04-02T09:58:40.318Z"
   },
   {
    "duration": 11,
    "start_time": "2023-04-02T09:59:44.705Z"
   },
   {
    "duration": 4,
    "start_time": "2023-04-02T09:59:57.966Z"
   },
   {
    "duration": 277,
    "start_time": "2023-04-02T09:59:57.972Z"
   },
   {
    "duration": 79,
    "start_time": "2023-04-02T09:59:58.251Z"
   },
   {
    "duration": 327,
    "start_time": "2023-04-02T09:59:58.332Z"
   },
   {
    "duration": 4,
    "start_time": "2023-04-02T09:59:58.668Z"
   },
   {
    "duration": 8,
    "start_time": "2023-04-02T09:59:58.674Z"
   },
   {
    "duration": 28,
    "start_time": "2023-04-02T09:59:58.684Z"
   },
   {
    "duration": 4,
    "start_time": "2023-04-02T09:59:58.714Z"
   },
   {
    "duration": 6,
    "start_time": "2023-04-02T09:59:58.720Z"
   },
   {
    "duration": 6,
    "start_time": "2023-04-02T09:59:58.727Z"
   },
   {
    "duration": 16,
    "start_time": "2023-04-02T09:59:58.735Z"
   },
   {
    "duration": 26,
    "start_time": "2023-04-02T09:59:58.769Z"
   },
   {
    "duration": 23,
    "start_time": "2023-04-02T09:59:58.797Z"
   },
   {
    "duration": 6,
    "start_time": "2023-04-02T09:59:58.822Z"
   },
   {
    "duration": 7,
    "start_time": "2023-04-02T09:59:58.830Z"
   },
   {
    "duration": 7,
    "start_time": "2023-04-02T09:59:58.868Z"
   },
   {
    "duration": 8,
    "start_time": "2023-04-02T09:59:58.877Z"
   },
   {
    "duration": 11,
    "start_time": "2023-04-02T09:59:58.886Z"
   },
   {
    "duration": 4,
    "start_time": "2023-04-02T09:59:58.898Z"
   },
   {
    "duration": 9,
    "start_time": "2023-04-02T09:59:58.903Z"
   },
   {
    "duration": 257,
    "start_time": "2023-04-02T09:59:58.914Z"
   },
   {
    "duration": 719,
    "start_time": "2023-04-02T09:59:59.173Z"
   },
   {
    "duration": 5,
    "start_time": "2023-04-02T09:59:59.894Z"
   },
   {
    "duration": 3,
    "start_time": "2023-04-02T09:59:59.901Z"
   },
   {
    "duration": 4,
    "start_time": "2023-04-02T09:59:59.905Z"
   },
   {
    "duration": 6,
    "start_time": "2023-04-02T09:59:59.910Z"
   },
   {
    "duration": 168,
    "start_time": "2023-04-02T09:59:59.918Z"
   },
   {
    "duration": 125,
    "start_time": "2023-04-02T10:00:00.088Z"
   },
   {
    "duration": 7,
    "start_time": "2023-04-02T10:00:00.214Z"
   },
   {
    "duration": 337,
    "start_time": "2023-04-02T10:00:00.223Z"
   },
   {
    "duration": 213,
    "start_time": "2023-04-02T10:00:00.562Z"
   },
   {
    "duration": 6,
    "start_time": "2023-04-02T10:00:00.776Z"
   },
   {
    "duration": 355,
    "start_time": "2023-04-02T10:00:00.783Z"
   },
   {
    "duration": 122,
    "start_time": "2023-04-02T10:00:01.139Z"
   },
   {
    "duration": 9,
    "start_time": "2023-04-02T10:00:01.262Z"
   },
   {
    "duration": 330,
    "start_time": "2023-04-02T10:00:01.272Z"
   },
   {
    "duration": 3,
    "start_time": "2023-04-02T10:00:01.604Z"
   },
   {
    "duration": 95,
    "start_time": "2023-04-02T10:00:01.609Z"
   },
   {
    "duration": 9,
    "start_time": "2023-04-02T10:00:01.706Z"
   },
   {
    "duration": 46,
    "start_time": "2023-04-02T10:00:01.717Z"
   },
   {
    "duration": 111,
    "start_time": "2023-04-02T10:00:01.766Z"
   },
   {
    "duration": 3,
    "start_time": "2023-04-02T10:00:01.879Z"
   },
   {
    "duration": 50,
    "start_time": "2023-04-02T10:00:01.883Z"
   },
   {
    "duration": 102,
    "start_time": "2023-04-02T10:00:01.935Z"
   },
   {
    "duration": 71,
    "start_time": "2023-04-02T10:00:02.039Z"
   },
   {
    "duration": 9,
    "start_time": "2023-04-02T10:00:03.613Z"
   },
   {
    "duration": 46,
    "start_time": "2023-04-02T10:00:52.382Z"
   },
   {
    "duration": 2,
    "start_time": "2023-04-02T10:00:55.531Z"
   },
   {
    "duration": 5125,
    "start_time": "2023-04-02T10:01:30.320Z"
   },
   {
    "duration": 4938,
    "start_time": "2023-04-02T10:02:02.174Z"
   },
   {
    "duration": 5208,
    "start_time": "2023-04-02T10:07:21.310Z"
   },
   {
    "duration": 3,
    "start_time": "2023-04-02T10:09:11.243Z"
   },
   {
    "duration": 5252,
    "start_time": "2023-04-02T10:09:19.018Z"
   },
   {
    "duration": 2,
    "start_time": "2023-04-02T10:12:02.378Z"
   },
   {
    "duration": 5386,
    "start_time": "2023-04-02T10:12:14.478Z"
   },
   {
    "duration": 5440,
    "start_time": "2023-04-02T10:14:46.154Z"
   },
   {
    "duration": 5107,
    "start_time": "2023-04-02T10:15:03.980Z"
   },
   {
    "duration": 5421,
    "start_time": "2023-04-02T10:15:13.698Z"
   },
   {
    "duration": 99278,
    "start_time": "2023-04-02T10:15:31.249Z"
   },
   {
    "duration": 117327,
    "start_time": "2023-04-02T10:17:59.598Z"
   },
   {
    "duration": 287,
    "start_time": "2023-04-02T10:21:49.682Z"
   },
   {
    "duration": 168,
    "start_time": "2023-04-02T10:21:53.004Z"
   },
   {
    "duration": 3,
    "start_time": "2023-04-02T10:23:06.930Z"
   },
   {
    "duration": 63,
    "start_time": "2023-04-02T10:28:57.656Z"
   },
   {
    "duration": 10,
    "start_time": "2023-04-02T10:29:01.837Z"
   },
   {
    "duration": 37,
    "start_time": "2023-04-02T10:29:19.119Z"
   },
   {
    "duration": 3,
    "start_time": "2023-04-02T10:32:29.995Z"
   },
   {
    "duration": 16,
    "start_time": "2023-04-02T10:32:54.759Z"
   },
   {
    "duration": 23,
    "start_time": "2023-04-02T10:33:22.475Z"
   },
   {
    "duration": 16,
    "start_time": "2023-04-02T10:34:01.097Z"
   },
   {
    "duration": 16,
    "start_time": "2023-04-02T10:35:00.227Z"
   },
   {
    "duration": 18,
    "start_time": "2023-04-02T10:35:00.837Z"
   },
   {
    "duration": 19,
    "start_time": "2023-04-02T10:35:24.587Z"
   },
   {
    "duration": 16,
    "start_time": "2023-04-02T10:38:21.103Z"
   },
   {
    "duration": 9,
    "start_time": "2023-04-02T10:38:27.198Z"
   },
   {
    "duration": 11,
    "start_time": "2023-04-02T10:39:19.024Z"
   },
   {
    "duration": 7,
    "start_time": "2023-04-02T10:40:06.712Z"
   },
   {
    "duration": 19,
    "start_time": "2023-04-02T10:42:07.234Z"
   },
   {
    "duration": 21,
    "start_time": "2023-04-02T10:42:07.756Z"
   },
   {
    "duration": 19,
    "start_time": "2023-04-02T10:42:49.226Z"
   },
   {
    "duration": 9,
    "start_time": "2023-04-02T10:43:25.207Z"
   },
   {
    "duration": 6,
    "start_time": "2023-04-02T10:43:58.357Z"
   },
   {
    "duration": 55,
    "start_time": "2023-04-02T10:49:11.166Z"
   },
   {
    "duration": 18,
    "start_time": "2023-04-02T10:53:25.375Z"
   },
   {
    "duration": 36,
    "start_time": "2023-04-02T10:54:05.505Z"
   },
   {
    "duration": 5,
    "start_time": "2023-04-02T10:55:04.071Z"
   },
   {
    "duration": 5,
    "start_time": "2023-04-02T10:55:12.069Z"
   },
   {
    "duration": 9,
    "start_time": "2023-04-02T10:55:21.729Z"
   },
   {
    "duration": 5,
    "start_time": "2023-04-02T10:56:37.911Z"
   },
   {
    "duration": 8,
    "start_time": "2023-04-02T10:56:48.060Z"
   },
   {
    "duration": 3,
    "start_time": "2023-04-02T10:57:30.390Z"
   },
   {
    "duration": 4,
    "start_time": "2023-04-02T10:57:34.684Z"
   },
   {
    "duration": 19,
    "start_time": "2023-04-02T10:58:05.883Z"
   },
   {
    "duration": 20,
    "start_time": "2023-04-02T10:58:28.108Z"
   },
   {
    "duration": 20,
    "start_time": "2023-04-02T10:58:38.087Z"
   },
   {
    "duration": 26,
    "start_time": "2023-04-02T11:00:02.686Z"
   },
   {
    "duration": 19,
    "start_time": "2023-04-02T11:00:23.212Z"
   },
   {
    "duration": 16,
    "start_time": "2023-04-02T11:02:23.110Z"
   },
   {
    "duration": 17,
    "start_time": "2023-04-02T11:02:23.620Z"
   },
   {
    "duration": 8,
    "start_time": "2023-04-02T11:02:30.422Z"
   },
   {
    "duration": 12,
    "start_time": "2023-04-02T11:02:50.644Z"
   },
   {
    "duration": 11,
    "start_time": "2023-04-02T11:02:51.564Z"
   },
   {
    "duration": 8,
    "start_time": "2023-04-02T11:04:20.429Z"
   },
   {
    "duration": 7,
    "start_time": "2023-04-02T11:10:50.576Z"
   },
   {
    "duration": 7,
    "start_time": "2023-04-02T11:10:50.798Z"
   },
   {
    "duration": 9,
    "start_time": "2023-04-02T11:11:18.483Z"
   },
   {
    "duration": 10,
    "start_time": "2023-04-02T11:18:42.893Z"
   },
   {
    "duration": 2355,
    "start_time": "2023-04-02T12:11:56.061Z"
   },
   {
    "duration": 264,
    "start_time": "2023-04-02T12:11:58.418Z"
   },
   {
    "duration": 75,
    "start_time": "2023-04-02T12:11:58.683Z"
   },
   {
    "duration": 320,
    "start_time": "2023-04-02T12:11:58.760Z"
   },
   {
    "duration": 5,
    "start_time": "2023-04-02T12:11:59.082Z"
   },
   {
    "duration": 4,
    "start_time": "2023-04-02T12:11:59.088Z"
   },
   {
    "duration": 6,
    "start_time": "2023-04-02T12:11:59.093Z"
   },
   {
    "duration": 4,
    "start_time": "2023-04-02T12:11:59.100Z"
   },
   {
    "duration": 5,
    "start_time": "2023-04-02T12:11:59.106Z"
   },
   {
    "duration": 11,
    "start_time": "2023-04-02T12:11:59.142Z"
   },
   {
    "duration": 6,
    "start_time": "2023-04-02T12:11:59.157Z"
   },
   {
    "duration": 23,
    "start_time": "2023-04-02T12:11:59.164Z"
   },
   {
    "duration": 27,
    "start_time": "2023-04-02T12:11:59.189Z"
   },
   {
    "duration": 24,
    "start_time": "2023-04-02T12:11:59.219Z"
   },
   {
    "duration": 12,
    "start_time": "2023-04-02T12:11:59.245Z"
   },
   {
    "duration": 10,
    "start_time": "2023-04-02T12:11:59.259Z"
   },
   {
    "duration": 12,
    "start_time": "2023-04-02T12:11:59.271Z"
   },
   {
    "duration": 13,
    "start_time": "2023-04-02T12:11:59.284Z"
   },
   {
    "duration": 4,
    "start_time": "2023-04-02T12:11:59.299Z"
   },
   {
    "duration": 40,
    "start_time": "2023-04-02T12:11:59.305Z"
   },
   {
    "duration": 269,
    "start_time": "2023-04-02T12:11:59.347Z"
   },
   {
    "duration": 515,
    "start_time": "2023-04-02T12:11:59.618Z"
   },
   {
    "duration": 14,
    "start_time": "2023-04-02T12:12:00.135Z"
   },
   {
    "duration": 30,
    "start_time": "2023-04-02T12:12:00.151Z"
   },
   {
    "duration": 27,
    "start_time": "2023-04-02T12:12:00.183Z"
   },
   {
    "duration": 45,
    "start_time": "2023-04-02T12:12:00.212Z"
   },
   {
    "duration": 179,
    "start_time": "2023-04-02T12:12:00.259Z"
   },
   {
    "duration": 143,
    "start_time": "2023-04-02T12:12:00.440Z"
   },
   {
    "duration": 11,
    "start_time": "2023-04-02T12:12:00.585Z"
   },
   {
    "duration": 467,
    "start_time": "2023-04-02T12:12:00.598Z"
   },
   {
    "duration": 124,
    "start_time": "2023-04-02T12:12:01.067Z"
   },
   {
    "duration": 6,
    "start_time": "2023-04-02T12:12:01.192Z"
   },
   {
    "duration": 362,
    "start_time": "2023-04-02T12:12:01.199Z"
   },
   {
    "duration": 133,
    "start_time": "2023-04-02T12:12:01.569Z"
   },
   {
    "duration": 5,
    "start_time": "2023-04-02T12:12:01.704Z"
   },
   {
    "duration": 355,
    "start_time": "2023-04-02T12:12:01.710Z"
   },
   {
    "duration": 4,
    "start_time": "2023-04-02T12:12:02.067Z"
   },
   {
    "duration": 116,
    "start_time": "2023-04-02T12:12:02.073Z"
   },
   {
    "duration": 4,
    "start_time": "2023-04-02T12:12:02.190Z"
   },
   {
    "duration": 10,
    "start_time": "2023-04-02T12:12:02.196Z"
   },
   {
    "duration": 82,
    "start_time": "2023-04-02T12:12:02.209Z"
   },
   {
    "duration": 3,
    "start_time": "2023-04-02T12:12:02.292Z"
   },
   {
    "duration": 22,
    "start_time": "2023-04-02T12:12:02.297Z"
   },
   {
    "duration": 180,
    "start_time": "2023-04-02T12:12:02.320Z"
   },
   {
    "duration": 23,
    "start_time": "2023-04-02T12:12:02.502Z"
   },
   {
    "duration": 3,
    "start_time": "2023-04-02T12:12:02.526Z"
   },
   {
    "duration": 15,
    "start_time": "2023-04-02T12:12:28.354Z"
   },
   {
    "duration": 14,
    "start_time": "2023-04-02T12:12:34.468Z"
   },
   {
    "duration": 6,
    "start_time": "2023-04-02T12:12:37.602Z"
   },
   {
    "duration": 18,
    "start_time": "2023-04-02T12:13:28.999Z"
   },
   {
    "duration": 16,
    "start_time": "2023-04-02T12:13:29.581Z"
   },
   {
    "duration": 16,
    "start_time": "2023-04-02T12:16:18.729Z"
   },
   {
    "duration": 18,
    "start_time": "2023-04-02T12:16:19.254Z"
   },
   {
    "duration": 7,
    "start_time": "2023-04-02T12:17:52.140Z"
   },
   {
    "duration": 6,
    "start_time": "2023-04-02T12:17:52.890Z"
   },
   {
    "duration": 26,
    "start_time": "2023-04-02T12:20:21.535Z"
   }
  ],
  "kernelspec": {
   "display_name": "Python 3 (ipykernel)",
   "language": "python",
   "name": "python3"
  },
  "language_info": {
   "codemirror_mode": {
    "name": "ipython",
    "version": 3
   },
   "file_extension": ".py",
   "mimetype": "text/x-python",
   "name": "python",
   "nbconvert_exporter": "python",
   "pygments_lexer": "ipython3",
   "version": "3.10.9"
  },
  "toc": {
   "base_numbering": 1,
   "nav_menu": {},
   "number_sections": true,
   "sideBar": true,
   "skip_h1_title": true,
   "title_cell": "Содержание",
   "title_sidebar": "Contents",
   "toc_cell": true,
   "toc_position": {},
   "toc_section_display": true,
   "toc_window_display": true
  }
 },
 "nbformat": 4,
 "nbformat_minor": 2
}
