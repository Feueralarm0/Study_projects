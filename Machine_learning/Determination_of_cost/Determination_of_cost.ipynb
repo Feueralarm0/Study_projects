{
 "cells": [
  {
   "cell_type": "markdown",
   "metadata": {},
   "source": [
    "# Определение стоимости автомобилей"
   ]
  },
  {
   "cell_type": "markdown",
   "metadata": {},
   "source": [
    "Сервис по продаже автомобилей с пробегом «Не бит, не крашен» разрабатывает приложение для привлечения новых клиентов. В нём можно быстро узнать рыночную стоимость своего автомобиля. В вашем распоряжении исторические данные: технические характеристики, комплектации и цены автомобилей. Вам нужно построить модель для определения стоимости. \n",
    "\n",
    "Заказчику важны:\n",
    "\n",
    "- качество предсказания;\n",
    "- скорость предсказания;\n",
    "- время обучения."
   ]
  },
  {
   "cell_type": "markdown",
   "metadata": {},
   "source": [
    "## Подготовка данных"
   ]
  },
  {
   "cell_type": "code",
   "execution_count": 103,
   "metadata": {},
   "outputs": [],
   "source": [
    "import numpy as np\n",
    "import pandas as pd\n",
    "import matplotlib.pyplot as plt\n",
    "import seaborn as sns\n",
    "\n",
    "import lightgbm as lgb\n",
    "from catboost import CatBoostClassifier, CatBoostRegressor\n",
    "from sklearn.linear_model import LinearRegression\n",
    "\n",
    "from sklearn.model_selection import train_test_split\n",
    "from sklearn.preprocessing import StandardScaler \n",
    "from sklearn.metrics import (accuracy_score, mean_squared_error)"
   ]
  },
  {
   "cell_type": "code",
   "execution_count": 105,
   "metadata": {},
   "outputs": [
    {
     "data": {
      "text/html": [
       "<div>\n",
       "<style scoped>\n",
       "    .dataframe tbody tr th:only-of-type {\n",
       "        vertical-align: middle;\n",
       "    }\n",
       "\n",
       "    .dataframe tbody tr th {\n",
       "        vertical-align: top;\n",
       "    }\n",
       "\n",
       "    .dataframe thead th {\n",
       "        text-align: right;\n",
       "    }\n",
       "</style>\n",
       "<table border=\"1\" class=\"dataframe\">\n",
       "  <thead>\n",
       "    <tr style=\"text-align: right;\">\n",
       "      <th></th>\n",
       "      <th>DateCrawled</th>\n",
       "      <th>Price</th>\n",
       "      <th>VehicleType</th>\n",
       "      <th>RegistrationYear</th>\n",
       "      <th>Gearbox</th>\n",
       "      <th>Power</th>\n",
       "      <th>Model</th>\n",
       "      <th>Kilometer</th>\n",
       "      <th>RegistrationMonth</th>\n",
       "      <th>FuelType</th>\n",
       "      <th>Brand</th>\n",
       "      <th>Repaired</th>\n",
       "      <th>DateCreated</th>\n",
       "      <th>NumberOfPictures</th>\n",
       "      <th>PostalCode</th>\n",
       "      <th>LastSeen</th>\n",
       "    </tr>\n",
       "  </thead>\n",
       "  <tbody>\n",
       "    <tr>\n",
       "      <th>0</th>\n",
       "      <td>2016-03-24 11:52:17</td>\n",
       "      <td>480</td>\n",
       "      <td>NaN</td>\n",
       "      <td>1993</td>\n",
       "      <td>manual</td>\n",
       "      <td>0</td>\n",
       "      <td>golf</td>\n",
       "      <td>150000</td>\n",
       "      <td>0</td>\n",
       "      <td>petrol</td>\n",
       "      <td>volkswagen</td>\n",
       "      <td>NaN</td>\n",
       "      <td>2016-03-24 00:00:00</td>\n",
       "      <td>0</td>\n",
       "      <td>70435</td>\n",
       "      <td>2016-04-07 03:16:57</td>\n",
       "    </tr>\n",
       "    <tr>\n",
       "      <th>1</th>\n",
       "      <td>2016-03-24 10:58:45</td>\n",
       "      <td>18300</td>\n",
       "      <td>coupe</td>\n",
       "      <td>2011</td>\n",
       "      <td>manual</td>\n",
       "      <td>190</td>\n",
       "      <td>NaN</td>\n",
       "      <td>125000</td>\n",
       "      <td>5</td>\n",
       "      <td>gasoline</td>\n",
       "      <td>audi</td>\n",
       "      <td>yes</td>\n",
       "      <td>2016-03-24 00:00:00</td>\n",
       "      <td>0</td>\n",
       "      <td>66954</td>\n",
       "      <td>2016-04-07 01:46:50</td>\n",
       "    </tr>\n",
       "    <tr>\n",
       "      <th>2</th>\n",
       "      <td>2016-03-14 12:52:21</td>\n",
       "      <td>9800</td>\n",
       "      <td>suv</td>\n",
       "      <td>2004</td>\n",
       "      <td>auto</td>\n",
       "      <td>163</td>\n",
       "      <td>grand</td>\n",
       "      <td>125000</td>\n",
       "      <td>8</td>\n",
       "      <td>gasoline</td>\n",
       "      <td>jeep</td>\n",
       "      <td>NaN</td>\n",
       "      <td>2016-03-14 00:00:00</td>\n",
       "      <td>0</td>\n",
       "      <td>90480</td>\n",
       "      <td>2016-04-05 12:47:46</td>\n",
       "    </tr>\n",
       "    <tr>\n",
       "      <th>3</th>\n",
       "      <td>2016-03-17 16:54:04</td>\n",
       "      <td>1500</td>\n",
       "      <td>small</td>\n",
       "      <td>2001</td>\n",
       "      <td>manual</td>\n",
       "      <td>75</td>\n",
       "      <td>golf</td>\n",
       "      <td>150000</td>\n",
       "      <td>6</td>\n",
       "      <td>petrol</td>\n",
       "      <td>volkswagen</td>\n",
       "      <td>no</td>\n",
       "      <td>2016-03-17 00:00:00</td>\n",
       "      <td>0</td>\n",
       "      <td>91074</td>\n",
       "      <td>2016-03-17 17:40:17</td>\n",
       "    </tr>\n",
       "    <tr>\n",
       "      <th>4</th>\n",
       "      <td>2016-03-31 17:25:20</td>\n",
       "      <td>3600</td>\n",
       "      <td>small</td>\n",
       "      <td>2008</td>\n",
       "      <td>manual</td>\n",
       "      <td>69</td>\n",
       "      <td>fabia</td>\n",
       "      <td>90000</td>\n",
       "      <td>7</td>\n",
       "      <td>gasoline</td>\n",
       "      <td>skoda</td>\n",
       "      <td>no</td>\n",
       "      <td>2016-03-31 00:00:00</td>\n",
       "      <td>0</td>\n",
       "      <td>60437</td>\n",
       "      <td>2016-04-06 10:17:21</td>\n",
       "    </tr>\n",
       "  </tbody>\n",
       "</table>\n",
       "</div>"
      ],
      "text/plain": [
       "           DateCrawled  Price VehicleType  RegistrationYear Gearbox  Power  \\\n",
       "0  2016-03-24 11:52:17    480         NaN              1993  manual      0   \n",
       "1  2016-03-24 10:58:45  18300       coupe              2011  manual    190   \n",
       "2  2016-03-14 12:52:21   9800         suv              2004    auto    163   \n",
       "3  2016-03-17 16:54:04   1500       small              2001  manual     75   \n",
       "4  2016-03-31 17:25:20   3600       small              2008  manual     69   \n",
       "\n",
       "   Model  Kilometer  RegistrationMonth  FuelType       Brand Repaired  \\\n",
       "0   golf     150000                  0    petrol  volkswagen      NaN   \n",
       "1    NaN     125000                  5  gasoline        audi      yes   \n",
       "2  grand     125000                  8  gasoline        jeep      NaN   \n",
       "3   golf     150000                  6    petrol  volkswagen       no   \n",
       "4  fabia      90000                  7  gasoline       skoda       no   \n",
       "\n",
       "           DateCreated  NumberOfPictures  PostalCode             LastSeen  \n",
       "0  2016-03-24 00:00:00                 0       70435  2016-04-07 03:16:57  \n",
       "1  2016-03-24 00:00:00                 0       66954  2016-04-07 01:46:50  \n",
       "2  2016-03-14 00:00:00                 0       90480  2016-04-05 12:47:46  \n",
       "3  2016-03-17 00:00:00                 0       91074  2016-03-17 17:40:17  \n",
       "4  2016-03-31 00:00:00                 0       60437  2016-04-06 10:17:21  "
      ]
     },
     "execution_count": 105,
     "metadata": {},
     "output_type": "execute_result"
    }
   ],
   "source": [
    "data.head()"
   ]
  },
  {
   "cell_type": "code",
   "execution_count": 106,
   "metadata": {
    "scrolled": true
   },
   "outputs": [
    {
     "name": "stdout",
     "output_type": "stream",
     "text": [
      "<class 'pandas.core.frame.DataFrame'>\n",
      "RangeIndex: 354369 entries, 0 to 354368\n",
      "Data columns (total 16 columns):\n",
      " #   Column             Non-Null Count   Dtype \n",
      "---  ------             --------------   ----- \n",
      " 0   DateCrawled        354369 non-null  object\n",
      " 1   Price              354369 non-null  int64 \n",
      " 2   VehicleType        316879 non-null  object\n",
      " 3   RegistrationYear   354369 non-null  int64 \n",
      " 4   Gearbox            334536 non-null  object\n",
      " 5   Power              354369 non-null  int64 \n",
      " 6   Model              334664 non-null  object\n",
      " 7   Kilometer          354369 non-null  int64 \n",
      " 8   RegistrationMonth  354369 non-null  int64 \n",
      " 9   FuelType           321474 non-null  object\n",
      " 10  Brand              354369 non-null  object\n",
      " 11  Repaired           283215 non-null  object\n",
      " 12  DateCreated        354369 non-null  object\n",
      " 13  NumberOfPictures   354369 non-null  int64 \n",
      " 14  PostalCode         354369 non-null  int64 \n",
      " 15  LastSeen           354369 non-null  object\n",
      "dtypes: int64(7), object(9)\n",
      "memory usage: 43.3+ MB\n"
     ]
    }
   ],
   "source": [
    "data.info()"
   ]
  },
  {
   "cell_type": "markdown",
   "metadata": {},
   "source": [
    "Есть пропуски в данных.\n",
    "\n",
    "Стоит заменить типы данных"
   ]
  },
  {
   "cell_type": "markdown",
   "metadata": {},
   "source": [
    "### Дубликаты"
   ]
  },
  {
   "cell_type": "code",
   "execution_count": 107,
   "metadata": {},
   "outputs": [],
   "source": [
    "full_cols=[]\n",
    "for col in data.columns:\n",
    "    if data[col].isna().sum()==0:\n",
    "        full_cols.append(col)"
   ]
  },
  {
   "cell_type": "code",
   "execution_count": 108,
   "metadata": {
    "scrolled": false
   },
   "outputs": [
    {
     "data": {
      "text/plain": [
       "['DateCrawled',\n",
       " 'Price',\n",
       " 'RegistrationYear',\n",
       " 'Power',\n",
       " 'Kilometer',\n",
       " 'RegistrationMonth',\n",
       " 'Brand',\n",
       " 'DateCreated',\n",
       " 'NumberOfPictures',\n",
       " 'PostalCode',\n",
       " 'LastSeen']"
      ]
     },
     "execution_count": 108,
     "metadata": {},
     "output_type": "execute_result"
    }
   ],
   "source": [
    "full_cols"
   ]
  },
  {
   "cell_type": "code",
   "execution_count": 109,
   "metadata": {},
   "outputs": [],
   "source": [
    "#удаляю DateCrawled, DateCreated, LastSeen - даты\n",
    "full_cols = full_cols[1:7]+full_cols[8:10]"
   ]
  },
  {
   "cell_type": "code",
   "execution_count": 110,
   "metadata": {
    "scrolled": true
   },
   "outputs": [
    {
     "data": {
      "text/plain": [
       "28901"
      ]
     },
     "execution_count": 110,
     "metadata": {},
     "output_type": "execute_result"
    }
   ],
   "source": [
    "data.duplicated(subset=full_cols).sum()"
   ]
  },
  {
   "cell_type": "code",
   "execution_count": 111,
   "metadata": {},
   "outputs": [],
   "source": [
    "data = data.drop_duplicates(subset=full_cols, keep='first')"
   ]
  },
  {
   "cell_type": "markdown",
   "metadata": {},
   "source": [
    "### Пропуски"
   ]
  },
  {
   "cell_type": "code",
   "execution_count": 112,
   "metadata": {},
   "outputs": [],
   "source": [
    "null_cols=[]\n",
    "for col in data.columns:\n",
    "    if data[col].isna().sum()>0:\n",
    "        null_cols.append(col)"
   ]
  },
  {
   "cell_type": "code",
   "execution_count": 113,
   "metadata": {
    "scrolled": false
   },
   "outputs": [
    {
     "data": {
      "text/plain": [
       "['VehicleType', 'Gearbox', 'Model', 'FuelType', 'Repaired']"
      ]
     },
     "execution_count": 113,
     "metadata": {},
     "output_type": "execute_result"
    }
   ],
   "source": [
    "null_cols"
   ]
  },
  {
   "cell_type": "markdown",
   "metadata": {},
   "source": [
    "**Отделение тестовой выборки**"
   ]
  },
  {
   "cell_type": "code",
   "execution_count": 114,
   "metadata": {},
   "outputs": [],
   "source": [
    "data_full = data[~((data['VehicleType'].isna())|(\n",
    "    data['Gearbox'].isna())|(data['Model'].isna())|(data['FuelType'].isna())|(data['Repaired'].isna()))]\n",
    "data_null = data[((data['VehicleType'].isna())|(\n",
    "    data['Gearbox'].isna())|(data['Model'].isna())|(data['FuelType'].isna())|(data['Repaired'].isna()))]\n",
    "data_test = data_full.sample(frac=0.25, random_state=12345)\n",
    "data = pd.concat([data_full.drop(data_test.index,axis=0), data_null])\n",
    "del data_null\n",
    "del data_full"
   ]
  },
  {
   "cell_type": "markdown",
   "metadata": {},
   "source": [
    "**VehicleType**"
   ]
  },
  {
   "cell_type": "code",
   "execution_count": 115,
   "metadata": {},
   "outputs": [
    {
     "data": {
      "text/plain": [
       "DateCrawled          2016-03-17 16:54:04\n",
       "Price                               1500\n",
       "VehicleType                        small\n",
       "RegistrationYear                    2001\n",
       "Gearbox                           manual\n",
       "Power                                 75\n",
       "Model                               golf\n",
       "Kilometer                         150000\n",
       "RegistrationMonth                      6\n",
       "FuelType                          petrol\n",
       "Brand                         volkswagen\n",
       "Repaired                              no\n",
       "DateCreated          2016-03-17 00:00:00\n",
       "NumberOfPictures                       0\n",
       "PostalCode                         91074\n",
       "LastSeen             2016-03-17 17:40:17\n",
       "Name: 3, dtype: object"
      ]
     },
     "execution_count": 115,
     "metadata": {},
     "output_type": "execute_result"
    }
   ],
   "source": [
    "data.loc[3]"
   ]
  },
  {
   "cell_type": "code",
   "execution_count": 116,
   "metadata": {},
   "outputs": [
    {
     "data": {
      "text/plain": [
       "array(['small', 'convertible', 'sedan', 'wagon', 'bus', 'coupe', 'other',\n",
       "       'suv', nan], dtype=object)"
      ]
     },
     "execution_count": 116,
     "metadata": {},
     "output_type": "execute_result"
    }
   ],
   "source": [
    "data['VehicleType'].unique()"
   ]
  },
  {
   "cell_type": "code",
   "execution_count": 117,
   "metadata": {
    "scrolled": false
   },
   "outputs": [],
   "source": [
    "features_train = data.loc[data[~data['VehicleType'].isna()].index][full_cols]\n",
    "target_train = data.dropna(subset=['VehicleType'])['VehicleType']\n",
    "\n",
    "features_test = data.loc[data[data['VehicleType'].isna()].index][full_cols]\n",
    "target_test = data[data['VehicleType'].isna()]['VehicleType']"
   ]
  },
  {
   "cell_type": "code",
   "execution_count": 118,
   "metadata": {},
   "outputs": [],
   "source": [
    "features_train, features_valid, target_train, target_valid = train_test_split(\n",
    "    features_train, target_train, test_size=0.20, random_state=12345)"
   ]
  },
  {
   "cell_type": "code",
   "execution_count": 119,
   "metadata": {
    "scrolled": true
   },
   "outputs": [
    {
     "data": {
      "text/plain": [
       "((186984, 8), (186984,))"
      ]
     },
     "execution_count": 119,
     "metadata": {},
     "output_type": "execute_result"
    }
   ],
   "source": [
    "features_train.shape, target_train.shape"
   ]
  },
  {
   "cell_type": "code",
   "execution_count": 120,
   "metadata": {},
   "outputs": [
    {
     "data": {
      "text/plain": [
       "((35626, 8), (35626,))"
      ]
     },
     "execution_count": 120,
     "metadata": {},
     "output_type": "execute_result"
    }
   ],
   "source": [
    "features_test.shape, target_test.shape"
   ]
  },
  {
   "cell_type": "code",
   "execution_count": 121,
   "metadata": {},
   "outputs": [
    {
     "data": {
      "text/plain": [
       "((46746, 8), (46746,))"
      ]
     },
     "execution_count": 121,
     "metadata": {},
     "output_type": "execute_result"
    }
   ],
   "source": [
    "features_valid.shape, target_valid.shape"
   ]
  },
  {
   "cell_type": "code",
   "execution_count": 122,
   "metadata": {
    "scrolled": false
   },
   "outputs": [
    {
     "name": "stdout",
     "output_type": "stream",
     "text": [
      "0:\tlearn: 1.5200848\ttotal: 660ms\tremaining: 32.4s\n",
      "10:\tlearn: 1.2241125\ttotal: 6.84s\tremaining: 24.3s\n",
      "20:\tlearn: 1.1729079\ttotal: 13.2s\tremaining: 18.3s\n",
      "30:\tlearn: 1.1380956\ttotal: 19.4s\tremaining: 11.9s\n",
      "40:\tlearn: 1.1130504\ttotal: 25.7s\tremaining: 5.64s\n",
      "49:\tlearn: 1.0967198\ttotal: 31.6s\tremaining: 0us\n"
     ]
    }
   ],
   "source": [
    "model = CatBoostClassifier(loss_function=\"MultiClass\", iterations=50 ,learning_rate=0.7)\n",
    "model.fit(features_train, target_train, cat_features=['Brand'], verbose=10)\n",
    "pred_valid = model.predict(features_valid) "
   ]
  },
  {
   "cell_type": "code",
   "execution_count": 123,
   "metadata": {
    "scrolled": true
   },
   "outputs": [
    {
     "data": {
      "text/plain": [
       "0.5718564155221837"
      ]
     },
     "execution_count": 123,
     "metadata": {},
     "output_type": "execute_result"
    }
   ],
   "source": [
    "accuracy_score(target_valid,pred_valid)"
   ]
  },
  {
   "cell_type": "code",
   "execution_count": 124,
   "metadata": {
    "scrolled": false
   },
   "outputs": [],
   "source": [
    "predictet_values = pd.DataFrame(model.predict(features_test),index=target_test.index)\n",
    "for i in target_test.index:\n",
    "    data['VehicleType'].loc[i]=predictet_values[0][i]"
   ]
  },
  {
   "cell_type": "markdown",
   "metadata": {},
   "source": [
    "**Gearbox**"
   ]
  },
  {
   "cell_type": "code",
   "execution_count": 125,
   "metadata": {},
   "outputs": [
    {
     "data": {
      "text/plain": [
       "array(['manual', 'auto', nan], dtype=object)"
      ]
     },
     "execution_count": 125,
     "metadata": {},
     "output_type": "execute_result"
    }
   ],
   "source": [
    "data['Gearbox'].unique()"
   ]
  },
  {
   "cell_type": "code",
   "execution_count": 126,
   "metadata": {
    "scrolled": false
   },
   "outputs": [],
   "source": [
    "features_train = data.loc[data[~data['Gearbox'].isna()].index][full_cols]\n",
    "target_train = data.dropna(subset=['Gearbox'])['Gearbox']\n",
    "\n",
    "features_test = data.loc[data[data['Gearbox'].isna()].index][full_cols]\n",
    "target_test = data[data['Gearbox'].isna()]['Gearbox']"
   ]
  },
  {
   "cell_type": "code",
   "execution_count": 127,
   "metadata": {},
   "outputs": [],
   "source": [
    "features_train, features_valid, target_train, target_valid = train_test_split(\n",
    "    features_train, target_train, test_size=0.20, random_state=12345)"
   ]
  },
  {
   "cell_type": "code",
   "execution_count": 128,
   "metadata": {
    "scrolled": true
   },
   "outputs": [
    {
     "data": {
      "text/plain": [
       "((200642, 8), (200642,))"
      ]
     },
     "execution_count": 128,
     "metadata": {},
     "output_type": "execute_result"
    }
   ],
   "source": [
    "features_train.shape, target_train.shape"
   ]
  },
  {
   "cell_type": "code",
   "execution_count": 129,
   "metadata": {},
   "outputs": [
    {
     "data": {
      "text/plain": [
       "((18553, 8), (18553,))"
      ]
     },
     "execution_count": 129,
     "metadata": {},
     "output_type": "execute_result"
    }
   ],
   "source": [
    "features_test.shape, target_test.shape"
   ]
  },
  {
   "cell_type": "code",
   "execution_count": 130,
   "metadata": {},
   "outputs": [
    {
     "data": {
      "text/plain": [
       "((50161, 8), (50161,))"
      ]
     },
     "execution_count": 130,
     "metadata": {},
     "output_type": "execute_result"
    }
   ],
   "source": [
    "features_valid.shape, target_valid.shape"
   ]
  },
  {
   "cell_type": "code",
   "execution_count": 131,
   "metadata": {
    "scrolled": false
   },
   "outputs": [
    {
     "name": "stdout",
     "output_type": "stream",
     "text": [
      "0:\tlearn: 0.4616954\ttotal: 48.4ms\tremaining: 2.37s\n",
      "10:\tlearn: 0.3460914\ttotal: 575ms\tremaining: 2.04s\n",
      "20:\tlearn: 0.3392182\ttotal: 1.12s\tremaining: 1.55s\n",
      "30:\tlearn: 0.3331223\ttotal: 1.66s\tremaining: 1.02s\n",
      "40:\tlearn: 0.3298010\ttotal: 2.21s\tremaining: 484ms\n",
      "49:\tlearn: 0.3285155\ttotal: 2.67s\tremaining: 0us\n"
     ]
    }
   ],
   "source": [
    "model = CatBoostClassifier(loss_function=\"Logloss\", iterations=50 ,learning_rate=0.7)\n",
    "model.fit(features_train, target_train, cat_features=['Brand'], verbose=10)\n",
    "pred_valid = model.predict(features_valid) "
   ]
  },
  {
   "cell_type": "code",
   "execution_count": 132,
   "metadata": {
    "scrolled": true
   },
   "outputs": [
    {
     "data": {
      "text/plain": [
       "0.8632603018281135"
      ]
     },
     "execution_count": 132,
     "metadata": {},
     "output_type": "execute_result"
    }
   ],
   "source": [
    "accuracy_score(target_valid,pred_valid)"
   ]
  },
  {
   "cell_type": "code",
   "execution_count": 133,
   "metadata": {},
   "outputs": [],
   "source": [
    "predictet_values = pd.DataFrame(model.predict(features_test),index=target_test.index)\n",
    "for i in target_test.index:\n",
    "    data['Gearbox'].loc[i]=predictet_values[0][i]"
   ]
  },
  {
   "cell_type": "markdown",
   "metadata": {},
   "source": [
    "**Model**"
   ]
  },
  {
   "cell_type": "code",
   "execution_count": 134,
   "metadata": {
    "scrolled": true
   },
   "outputs": [
    {
     "data": {
      "text/plain": [
       "array(['golf', 'fabia', '2_reihe', 'other', '3_reihe', 'passat', 'twingo',\n",
       "       'c_max', 'scirocco', 'civic', 'transporter', 'punto', 'e_klasse',\n",
       "       '3er', 'clio', '1er', '5er', 'b_klasse', 'astra', 'fortwo', 'a8',\n",
       "       'jetta', 'polo', 'c_klasse', 'micra', 'sprinter', '156',\n",
       "       'forester', 'fiesta', 'scenic', 'a1', 'combo', 'tt', 'a6', 'jazz',\n",
       "       'slk', 'focus', '80', '147', 'meriva', 'z_reihe', 'v40', 'ibiza',\n",
       "       'mustang', 'eos', 'a4', 'insignia', 'megane', 'a3', 'lupo', 'r19',\n",
       "       'corsa', 'berlingo', '7er', 'tiguan', 'sharan', '6_reihe', 'c4',\n",
       "       'panda', 'up', 'i_reihe', 'kangoo', '5_reihe', 'yeti', 'octavia',\n",
       "       'zafira', 'rx_reihe', 'mondeo', '6er', 'fox', 'vectra', 'beetle',\n",
       "       'a_klasse', 'rio', 'touareg', 'omega', 'cuore', 's_max', 'modus',\n",
       "       'a2', 'c3', 'getz', 'avensis', 'viano', 'roomster', 'sl', 'kaefer',\n",
       "       'vito', 'touran', 'cooper', 'leon', 'sportage', 'primera',\n",
       "       '4_reihe', 'espace', 'galaxy', 'exeo', 's_klasse', 'logan', 'clk',\n",
       "       'juke', '1_reihe', 'accord', 'corolla', 'grand', 'phaeton',\n",
       "       'x_reihe', 'cordoba', 'verso', 'swift', 'rav', 'colt', '159',\n",
       "       'picanto', 'boxster', 'stilo', 'alhambra', 'laguna', 'one',\n",
       "       'transit', 'roadster', 'ypsilon', 'galant', 'sirion', 'signum',\n",
       "       'crossfire', 'ka', 'agila', 'duster', 'caddy', 'sorento', 'v50',\n",
       "       'mx_reihe', '500', 'c_reihe', 'v_klasse', 'm_klasse', 'aygo', 'cc',\n",
       "       '911', 'forfour', 'a5', '100', 'cl', 'tigra', '300c', 'ptcruiser',\n",
       "       'bora', 'cr_reihe', 'xc_reihe', 'escort', 'spark', 'kuga',\n",
       "       'impreza', 'x_type', 'x_trail', 'toledo', 'altea', 'qashqai',\n",
       "       'arosa', 'voyager', 'carnival', 'almera', 'matiz', 'bravo', 'c5',\n",
       "       'ceed', 'yaris', 'carisma', 'antara', 'v70', 'c1', 'citigo',\n",
       "       'jimny', 'cayenne', 'wrangler', 'q7', 'lancer', 'captiva',\n",
       "       'fusion', 'discovery', 'note', 'kadett', 'spider', '90', 'mii',\n",
       "       'santa', 'navara', 'cherokee', 'seicento', 'clubman', 'ducato',\n",
       "       'defender', 'cx_reihe', 'sandero', 'legacy', 'pajero', 'c2',\n",
       "       'niva', 'nubira', 'vivaro', 'lanos', 'tucson', 'g_klasse',\n",
       "       'freelander', 's_type', 'lodgy', 'auris', '850', 'range_rover',\n",
       "       'superb', 'q3', 'justy', 'serie_2', 'glk', 'charade', 's60',\n",
       "       'outlander', 'doblo', '900', '601', 'kalos', 'musa', '200',\n",
       "       'lybra', 'm_reihe', 'b_max', 'calibra', '145', 'v60',\n",
       "       'range_rover_sport', 'terios', 'aveo', 'move', '9000', 'q5',\n",
       "       'range_rover_evoque', 'materia', 'croma', 'samara', 'elefantino',\n",
       "       'delta', 'gl', 'kalina', 'i3', 'amarok', 'rangerover', 'kappa',\n",
       "       nan, 'serie_3', 'serie_1'], dtype=object)"
      ]
     },
     "execution_count": 134,
     "metadata": {},
     "output_type": "execute_result"
    }
   ],
   "source": [
    "data['Model'].unique()"
   ]
  },
  {
   "cell_type": "markdown",
   "metadata": {},
   "source": [
    "Слишком много классов для предсказания"
   ]
  },
  {
   "cell_type": "code",
   "execution_count": 135,
   "metadata": {},
   "outputs": [],
   "source": [
    "data['Model'] = data['Model'].fillna('other')"
   ]
  },
  {
   "cell_type": "markdown",
   "metadata": {},
   "source": [
    "**FuelType**"
   ]
  },
  {
   "cell_type": "code",
   "execution_count": 136,
   "metadata": {
    "scrolled": true
   },
   "outputs": [
    {
     "data": {
      "text/plain": [
       "array(['petrol', 'gasoline', 'lpg', 'other', 'hybrid', 'cng', 'electric',\n",
       "       nan], dtype=object)"
      ]
     },
     "execution_count": 136,
     "metadata": {},
     "output_type": "execute_result"
    }
   ],
   "source": [
    "data['FuelType'].unique()"
   ]
  },
  {
   "cell_type": "code",
   "execution_count": 137,
   "metadata": {
    "scrolled": false
   },
   "outputs": [],
   "source": [
    "features_train = data.loc[data[~data['FuelType'].isna()].index][full_cols]\n",
    "target_train = data.dropna(subset=['FuelType'])['FuelType']\n",
    "\n",
    "features_test = data.loc[data[data['FuelType'].isna()].index][full_cols]\n",
    "target_test = data[data['FuelType'].isna()]['FuelType']"
   ]
  },
  {
   "cell_type": "code",
   "execution_count": 138,
   "metadata": {},
   "outputs": [],
   "source": [
    "features_train, features_valid, target_train, target_valid = train_test_split(\n",
    "    features_train, target_train, test_size=0.20, random_state=12345)"
   ]
  },
  {
   "cell_type": "code",
   "execution_count": 139,
   "metadata": {
    "scrolled": true
   },
   "outputs": [
    {
     "data": {
      "text/plain": [
       "((190665, 8), (190665,))"
      ]
     },
     "execution_count": 139,
     "metadata": {},
     "output_type": "execute_result"
    }
   ],
   "source": [
    "features_train.shape, target_train.shape"
   ]
  },
  {
   "cell_type": "code",
   "execution_count": 140,
   "metadata": {},
   "outputs": [
    {
     "data": {
      "text/plain": [
       "((31024, 8), (31024,))"
      ]
     },
     "execution_count": 140,
     "metadata": {},
     "output_type": "execute_result"
    }
   ],
   "source": [
    "features_test.shape, target_test.shape"
   ]
  },
  {
   "cell_type": "code",
   "execution_count": 141,
   "metadata": {},
   "outputs": [
    {
     "data": {
      "text/plain": [
       "((47667, 8), (47667,))"
      ]
     },
     "execution_count": 141,
     "metadata": {},
     "output_type": "execute_result"
    }
   ],
   "source": [
    "features_valid.shape, target_valid.shape"
   ]
  },
  {
   "cell_type": "code",
   "execution_count": 142,
   "metadata": {
    "scrolled": false
   },
   "outputs": [
    {
     "name": "stdout",
     "output_type": "stream",
     "text": [
      "0:\tlearn: 0.7267298\ttotal: 533ms\tremaining: 26.1s\n",
      "10:\tlearn: 0.4913758\ttotal: 5.79s\tremaining: 20.5s\n",
      "20:\tlearn: 0.4609716\ttotal: 11s\tremaining: 15.3s\n",
      "30:\tlearn: 0.4305414\ttotal: 16.7s\tremaining: 10.2s\n",
      "40:\tlearn: 0.4107348\ttotal: 22.2s\tremaining: 4.87s\n",
      "49:\tlearn: 0.3995566\ttotal: 27.3s\tremaining: 0us\n"
     ]
    }
   ],
   "source": [
    "model = CatBoostClassifier(loss_function=\"MultiClass\", iterations=50 ,learning_rate=0.7)\n",
    "model.fit(features_train, target_train, cat_features=['Brand'], verbose=10)\n",
    "pred_valid = model.predict(features_valid) "
   ]
  },
  {
   "cell_type": "code",
   "execution_count": 143,
   "metadata": {
    "scrolled": true
   },
   "outputs": [
    {
     "data": {
      "text/plain": [
       "0.8449451402437745"
      ]
     },
     "execution_count": 143,
     "metadata": {},
     "output_type": "execute_result"
    }
   ],
   "source": [
    "accuracy_score(target_valid,pred_valid)"
   ]
  },
  {
   "cell_type": "code",
   "execution_count": 144,
   "metadata": {},
   "outputs": [],
   "source": [
    "predictet_values = pd.DataFrame(model.predict(features_test),index=target_test.index)\n",
    "for i in target_test.index:\n",
    "    data['FuelType'].loc[i]=predictet_values[0][i]"
   ]
  },
  {
   "cell_type": "markdown",
   "metadata": {},
   "source": [
    "**Repaired**"
   ]
  },
  {
   "cell_type": "code",
   "execution_count": 145,
   "metadata": {},
   "outputs": [
    {
     "data": {
      "text/plain": [
       "array(['no', 'yes', nan], dtype=object)"
      ]
     },
     "execution_count": 145,
     "metadata": {},
     "output_type": "execute_result"
    }
   ],
   "source": [
    "data['Repaired'].unique()"
   ]
  },
  {
   "cell_type": "code",
   "execution_count": 146,
   "metadata": {
    "scrolled": false
   },
   "outputs": [],
   "source": [
    "features_train = data.loc[data[~data['Repaired'].isna()].index][full_cols]\n",
    "target_train = data.dropna(subset=['Repaired'])['Repaired']\n",
    "\n",
    "features_test = data.loc[data[data['Repaired'].isna()].index][full_cols]\n",
    "target_test = data[data['Repaired'].isna()]['Repaired']"
   ]
  },
  {
   "cell_type": "code",
   "execution_count": 147,
   "metadata": {},
   "outputs": [],
   "source": [
    "features_train, features_valid, target_train, target_valid = train_test_split(\n",
    "    features_train, target_train, test_size=0.20, random_state=12345)"
   ]
  },
  {
   "cell_type": "code",
   "execution_count": 148,
   "metadata": {
    "scrolled": true
   },
   "outputs": [
    {
     "data": {
      "text/plain": [
       "((162851, 8), (162851,))"
      ]
     },
     "execution_count": 148,
     "metadata": {},
     "output_type": "execute_result"
    }
   ],
   "source": [
    "features_train.shape, target_train.shape"
   ]
  },
  {
   "cell_type": "code",
   "execution_count": 149,
   "metadata": {},
   "outputs": [
    {
     "data": {
      "text/plain": [
       "((65792, 8), (65792,))"
      ]
     },
     "execution_count": 149,
     "metadata": {},
     "output_type": "execute_result"
    }
   ],
   "source": [
    "features_test.shape, target_test.shape"
   ]
  },
  {
   "cell_type": "code",
   "execution_count": 150,
   "metadata": {},
   "outputs": [
    {
     "data": {
      "text/plain": [
       "((40713, 8), (40713,))"
      ]
     },
     "execution_count": 150,
     "metadata": {},
     "output_type": "execute_result"
    }
   ],
   "source": [
    "features_valid.shape, target_valid.shape"
   ]
  },
  {
   "cell_type": "code",
   "execution_count": 151,
   "metadata": {
    "scrolled": false
   },
   "outputs": [
    {
     "name": "stdout",
     "output_type": "stream",
     "text": [
      "0:\tlearn: 0.4076138\ttotal: 38.3ms\tremaining: 1.88s\n",
      "10:\tlearn: 0.3033657\ttotal: 462ms\tremaining: 1.64s\n",
      "20:\tlearn: 0.2972465\ttotal: 888ms\tremaining: 1.23s\n",
      "30:\tlearn: 0.2937599\ttotal: 1.31s\tremaining: 801ms\n",
      "40:\tlearn: 0.2913857\ttotal: 1.74s\tremaining: 381ms\n",
      "49:\tlearn: 0.2899010\ttotal: 2.12s\tremaining: 0us\n"
     ]
    }
   ],
   "source": [
    "model = CatBoostClassifier(loss_function=\"Logloss\", iterations=50 ,learning_rate=0.7)\n",
    "model.fit(features_train, target_train, cat_features=['Brand'], verbose=10)\n",
    "pred_valid = model.predict(features_valid) "
   ]
  },
  {
   "cell_type": "code",
   "execution_count": 152,
   "metadata": {
    "scrolled": true
   },
   "outputs": [
    {
     "data": {
      "text/plain": [
       "0.8788838945791271"
      ]
     },
     "execution_count": 152,
     "metadata": {},
     "output_type": "execute_result"
    }
   ],
   "source": [
    "accuracy_score(target_valid,pred_valid)"
   ]
  },
  {
   "cell_type": "code",
   "execution_count": 153,
   "metadata": {
    "scrolled": true
   },
   "outputs": [],
   "source": [
    "predictet_values = pd.DataFrame(model.predict(features_test),index=target_test.index)\n",
    "for i in target_test.index:\n",
    "    data['Repaired'].loc[i]=predictet_values[0][i]"
   ]
  },
  {
   "cell_type": "code",
   "execution_count": 154,
   "metadata": {
    "scrolled": true
   },
   "outputs": [
    {
     "data": {
      "text/plain": [
       "DateCrawled          0\n",
       "Price                0\n",
       "VehicleType          0\n",
       "RegistrationYear     0\n",
       "Gearbox              0\n",
       "Power                0\n",
       "Model                0\n",
       "Kilometer            0\n",
       "RegistrationMonth    0\n",
       "FuelType             0\n",
       "Brand                0\n",
       "Repaired             0\n",
       "DateCreated          0\n",
       "NumberOfPictures     0\n",
       "PostalCode           0\n",
       "LastSeen             0\n",
       "dtype: int64"
      ]
     },
     "execution_count": 154,
     "metadata": {},
     "output_type": "execute_result"
    }
   ],
   "source": [
    "data.isna().sum()"
   ]
  },
  {
   "cell_type": "markdown",
   "metadata": {},
   "source": [
    "**Возвращаем тестовую выборку для обработки данных**"
   ]
  },
  {
   "cell_type": "code",
   "execution_count": 155,
   "metadata": {},
   "outputs": [],
   "source": [
    "data = pd.concat([data, data_test])"
   ]
  },
  {
   "cell_type": "markdown",
   "metadata": {},
   "source": [
    "### Типы данных"
   ]
  },
  {
   "cell_type": "code",
   "execution_count": 156,
   "metadata": {
    "scrolled": true
   },
   "outputs": [],
   "source": [
    "data = data.rename(columns={'Gearbox':'Gearbox_is_auto'})\n",
    "data = data.rename(columns={'Repaired':'Is_Repaired'})"
   ]
  },
  {
   "cell_type": "code",
   "execution_count": 157,
   "metadata": {},
   "outputs": [],
   "source": [
    "data['DateCrawled'] = pd.to_datetime(data['DateCrawled'], format='%Y.%m.%dT%H:%M:%S')\n",
    "data['DateCreated'] = pd.to_datetime(data['DateCreated'], format='%Y.%m.%dT%H:%M:%S')\n",
    "data['LastSeen'] = pd.to_datetime(data['LastSeen'], format='%Y.%m.%dT%H:%M:%S')\n",
    "\n",
    "data['Gearbox_is_auto'] = data['Gearbox_is_auto'].replace('manual',0)\n",
    "data['Gearbox_is_auto'] = data['Gearbox_is_auto'].replace('auto',1)\n",
    "data['Gearbox_is_auto']=data['Gearbox_is_auto'].astype('bool')\n",
    "\n",
    "data['Is_Repaired'] = data['Is_Repaired'].replace('no',0)\n",
    "data['Is_Repaired'] = data['Is_Repaired'].replace('yes',1)\n",
    "data['Is_Repaired']=data['Is_Repaired'].astype('bool')\n",
    "\n",
    "data['VehicleType']=data['VehicleType'].astype('category')\n",
    "data['Model']=data['Model'].astype('category')\n",
    "data['FuelType']=data['FuelType'].astype('category')\n",
    "data['Brand']=data['Brand'].astype('category')"
   ]
  },
  {
   "cell_type": "code",
   "execution_count": 158,
   "metadata": {
    "scrolled": false
   },
   "outputs": [
    {
     "name": "stdout",
     "output_type": "stream",
     "text": [
      "<class 'pandas.core.frame.DataFrame'>\n",
      "Int64Index: 325468 entries, 3 to 14413\n",
      "Data columns (total 16 columns):\n",
      " #   Column             Non-Null Count   Dtype         \n",
      "---  ------             --------------   -----         \n",
      " 0   DateCrawled        325468 non-null  datetime64[ns]\n",
      " 1   Price              325468 non-null  int64         \n",
      " 2   VehicleType        325468 non-null  category      \n",
      " 3   RegistrationYear   325468 non-null  int64         \n",
      " 4   Gearbox_is_auto    325468 non-null  bool          \n",
      " 5   Power              325468 non-null  int64         \n",
      " 6   Model              325468 non-null  category      \n",
      " 7   Kilometer          325468 non-null  int64         \n",
      " 8   RegistrationMonth  325468 non-null  int64         \n",
      " 9   FuelType           325468 non-null  category      \n",
      " 10  Brand              325468 non-null  category      \n",
      " 11  Is_Repaired        325468 non-null  bool          \n",
      " 12  DateCreated        325468 non-null  datetime64[ns]\n",
      " 13  NumberOfPictures   325468 non-null  int64         \n",
      " 14  PostalCode         325468 non-null  int64         \n",
      " 15  LastSeen           325468 non-null  datetime64[ns]\n",
      "dtypes: bool(2), category(4), datetime64[ns](3), int64(7)\n",
      "memory usage: 29.5 MB\n"
     ]
    }
   ],
   "source": [
    "data.info()"
   ]
  },
  {
   "cell_type": "markdown",
   "metadata": {},
   "source": [
    "Дубликаты удалены, пропуски заполнены, типы данных изменены."
   ]
  },
  {
   "cell_type": "markdown",
   "metadata": {},
   "source": [
    "###  Аномалии"
   ]
  },
  {
   "cell_type": "code",
   "execution_count": 159,
   "metadata": {},
   "outputs": [
    {
     "name": "stdout",
     "output_type": "stream",
     "text": [
      "<class 'pandas.core.frame.DataFrame'>\n",
      "Int64Index: 325468 entries, 3 to 14413\n",
      "Data columns (total 16 columns):\n",
      " #   Column             Non-Null Count   Dtype         \n",
      "---  ------             --------------   -----         \n",
      " 0   DateCrawled        325468 non-null  datetime64[ns]\n",
      " 1   Price              325468 non-null  int64         \n",
      " 2   VehicleType        325468 non-null  category      \n",
      " 3   RegistrationYear   325468 non-null  int64         \n",
      " 4   Gearbox_is_auto    325468 non-null  bool          \n",
      " 5   Power              325468 non-null  int64         \n",
      " 6   Model              325468 non-null  category      \n",
      " 7   Kilometer          325468 non-null  int64         \n",
      " 8   RegistrationMonth  325468 non-null  int64         \n",
      " 9   FuelType           325468 non-null  category      \n",
      " 10  Brand              325468 non-null  category      \n",
      " 11  Is_Repaired        325468 non-null  bool          \n",
      " 12  DateCreated        325468 non-null  datetime64[ns]\n",
      " 13  NumberOfPictures   325468 non-null  int64         \n",
      " 14  PostalCode         325468 non-null  int64         \n",
      " 15  LastSeen           325468 non-null  datetime64[ns]\n",
      "dtypes: bool(2), category(4), datetime64[ns](3), int64(7)\n",
      "memory usage: 29.5 MB\n"
     ]
    }
   ],
   "source": [
    "data.info()"
   ]
  },
  {
   "cell_type": "code",
   "execution_count": 160,
   "metadata": {
    "scrolled": true
   },
   "outputs": [
    {
     "name": "stderr",
     "output_type": "stream",
     "text": [
      "/opt/conda/lib/python3.9/site-packages/seaborn/_decorators.py:36: FutureWarning: Pass the following variable as a keyword arg: x. From version 0.12, the only valid positional argument will be `data`, and passing other arguments without an explicit keyword will result in an error or misinterpretation.\n",
      "  warnings.warn(\n"
     ]
    },
    {
     "data": {
      "image/png": "[encoded data removed]",
      "text/plain": [
       "<Figure size 1080x360 with 1 Axes>"
      ]
     },
     "metadata": {
      "needs_background": "light"
     },
     "output_type": "display_data"
    }
   ],
   "source": [
    "plt.figure(figsize=(15,5))\n",
    "sns.boxplot(data['Price'])\n",
    "plt.title('Диаграмма размаха цен');"
   ]
  },
  {
   "cell_type": "code",
   "execution_count": 161,
   "metadata": {
    "scrolled": true
   },
   "outputs": [],
   "source": [
    "data = data[data['Price']!=0]"
   ]
  },
  {
   "cell_type": "markdown",
   "metadata": {},
   "source": [
    "Цены варьируются в диапазодне до 20000, но поскольку это целевой признак удалим только нулевые значения"
   ]
  },
  {
   "cell_type": "code",
   "execution_count": 162,
   "metadata": {
    "scrolled": true
   },
   "outputs": [
    {
     "name": "stderr",
     "output_type": "stream",
     "text": [
      "/opt/conda/lib/python3.9/site-packages/seaborn/_decorators.py:36: FutureWarning: Pass the following variable as a keyword arg: x. From version 0.12, the only valid positional argument will be `data`, and passing other arguments without an explicit keyword will result in an error or misinterpretation.\n",
      "  warnings.warn(\n"
     ]
    },
    {
     "data": {
      "image/png": "[encoded data removed]",
      "text/plain": [
       "<Figure size 1080x360 with 1 Axes>"
      ]
     },
     "metadata": {
      "needs_background": "light"
     },
     "output_type": "display_data"
    }
   ],
   "source": [
    "plt.figure(figsize=(15,5))\n",
    "sns.countplot(data['RegistrationYear'])\n",
    "plt.xticks(rotation=45, fontsize=7)\n",
    "plt.title('Годы регистрации');"
   ]
  },
  {
   "cell_type": "code",
   "execution_count": 163,
   "metadata": {},
   "outputs": [
    {
     "data": {
      "text/plain": [
       "3038"
      ]
     },
     "execution_count": 163,
     "metadata": {},
     "output_type": "execute_result"
    }
   ],
   "source": [
    "data[data['RegistrationYear']<1980]['RegistrationYear'].count()"
   ]
  },
  {
   "cell_type": "code",
   "execution_count": 164,
   "metadata": {},
   "outputs": [
    {
     "data": {
      "text/plain": [
       "13008"
      ]
     },
     "execution_count": 164,
     "metadata": {},
     "output_type": "execute_result"
    }
   ],
   "source": [
    "data[data['RegistrationYear']>2016]['RegistrationYear'].count()"
   ]
  },
  {
   "cell_type": "code",
   "execution_count": 165,
   "metadata": {},
   "outputs": [],
   "source": [
    "data = data[(data['RegistrationYear']>1980)&(data['RegistrationYear']<2016)]"
   ]
  },
  {
   "cell_type": "code",
   "execution_count": 166,
   "metadata": {},
   "outputs": [
    {
     "data": {
      "text/plain": [
       "Timestamp('2016-04-07 14:58:51')"
      ]
     },
     "execution_count": 166,
     "metadata": {},
     "output_type": "execute_result"
    }
   ],
   "source": [
    "data['LastSeen'].max()"
   ]
  },
  {
   "cell_type": "markdown",
   "metadata": {},
   "source": [
    "Год регистрации не может быть больше даты последней активности пользователя, а автомобили старше 80-го года будем считать аномалией"
   ]
  },
  {
   "cell_type": "code",
   "execution_count": 167,
   "metadata": {
    "scrolled": true
   },
   "outputs": [
    {
     "data": {
      "text/plain": [
       "DateCrawled          6237\n",
       "Price                6237\n",
       "VehicleType          6237\n",
       "RegistrationYear     6237\n",
       "Gearbox_is_auto      6237\n",
       "Power                6237\n",
       "Model                6237\n",
       "Kilometer            6237\n",
       "RegistrationMonth    6237\n",
       "FuelType             6237\n",
       "Brand                6237\n",
       "Is_Repaired          6237\n",
       "DateCreated          6237\n",
       "NumberOfPictures     6237\n",
       "PostalCode           6237\n",
       "LastSeen             6237\n",
       "dtype: int64"
      ]
     },
     "execution_count": 167,
     "metadata": {},
     "output_type": "execute_result"
    }
   ],
   "source": [
    "data[data['Power']>250].count()"
   ]
  },
  {
   "cell_type": "code",
   "execution_count": 168,
   "metadata": {},
   "outputs": [
    {
     "data": {
      "text/plain": [
       "DateCrawled          32096\n",
       "Price                32096\n",
       "VehicleType          32096\n",
       "RegistrationYear     32096\n",
       "Gearbox_is_auto      32096\n",
       "Power                32096\n",
       "Model                32096\n",
       "Kilometer            32096\n",
       "RegistrationMonth    32096\n",
       "FuelType             32096\n",
       "Brand                32096\n",
       "Is_Repaired          32096\n",
       "DateCreated          32096\n",
       "NumberOfPictures     32096\n",
       "PostalCode           32096\n",
       "LastSeen             32096\n",
       "dtype: int64"
      ]
     },
     "execution_count": 168,
     "metadata": {},
     "output_type": "execute_result"
    }
   ],
   "source": [
    "data[data['Power']<50].count()"
   ]
  },
  {
   "cell_type": "code",
   "execution_count": 169,
   "metadata": {},
   "outputs": [],
   "source": [
    "data = data[(data['Power']<250)&(data['Power']>50)]"
   ]
  },
  {
   "cell_type": "code",
   "execution_count": 170,
   "metadata": {},
   "outputs": [
    {
     "name": "stderr",
     "output_type": "stream",
     "text": [
      "/opt/conda/lib/python3.9/site-packages/seaborn/_decorators.py:36: FutureWarning: Pass the following variable as a keyword arg: x. From version 0.12, the only valid positional argument will be `data`, and passing other arguments without an explicit keyword will result in an error or misinterpretation.\n",
      "  warnings.warn(\n"
     ]
    },
    {
     "data": {
      "image/png": "[encoded data removed]",
      "text/plain": [
       "<Figure size 1080x360 with 1 Axes>"
      ]
     },
     "metadata": {
      "needs_background": "light"
     },
     "output_type": "display_data"
    }
   ],
   "source": [
    "plt.figure(figsize=(15,5))\n",
    "sns.countplot(data['Kilometer'])\n",
    "plt.xticks(rotation=45, fontsize=20)\n",
    "plt.title('Величина пробега');"
   ]
  },
  {
   "cell_type": "code",
   "execution_count": 171,
   "metadata": {},
   "outputs": [
    {
     "data": {
      "text/plain": [
       "array([ 6,  7,  8, 12,  2,  4, 11,  3,  1,  5, 10,  0,  9])"
      ]
     },
     "execution_count": 171,
     "metadata": {},
     "output_type": "execute_result"
    }
   ],
   "source": [
    "data['RegistrationMonth'].unique()"
   ]
  },
  {
   "cell_type": "code",
   "execution_count": 172,
   "metadata": {},
   "outputs": [
    {
     "name": "stderr",
     "output_type": "stream",
     "text": [
      "/opt/conda/lib/python3.9/site-packages/seaborn/_decorators.py:36: FutureWarning: Pass the following variable as a keyword arg: x. From version 0.12, the only valid positional argument will be `data`, and passing other arguments without an explicit keyword will result in an error or misinterpretation.\n",
      "  warnings.warn(\n"
     ]
    },
    {
     "data": {
      "image/png": "[encoded data removed]",
      "text/plain": [
       "<Figure size 1080x360 with 1 Axes>"
      ]
     },
     "metadata": {
      "needs_background": "light"
     },
     "output_type": "display_data"
    }
   ],
   "source": [
    "plt.figure(figsize=(15,5))\n",
    "sns.countplot(data['RegistrationMonth'])\n",
    "plt.xticks(fontsize=20)\n",
    "plt.title('Месяц регистрации');"
   ]
  },
  {
   "cell_type": "markdown",
   "metadata": {},
   "source": [
    "Будем считать,что 0 - месяц не указан"
   ]
  },
  {
   "cell_type": "code",
   "execution_count": 173,
   "metadata": {},
   "outputs": [
    {
     "data": {
      "text/plain": [
       "0    247926\n",
       "Name: NumberOfPictures, dtype: int64"
      ]
     },
     "execution_count": 173,
     "metadata": {},
     "output_type": "execute_result"
    }
   ],
   "source": [
    "data['NumberOfPictures'].value_counts()"
   ]
  },
  {
   "cell_type": "markdown",
   "metadata": {},
   "source": [
    "Признак бесполезен"
   ]
  },
  {
   "cell_type": "markdown",
   "metadata": {},
   "source": [
    "### Выбор признаков"
   ]
  },
  {
   "cell_type": "code",
   "execution_count": 174,
   "metadata": {
    "scrolled": false
   },
   "outputs": [
    {
     "data": {
      "text/plain": [
       "['golf', 'fabia', '2_reihe', '3_reihe', 'passat', ..., 'rangerover', 'kappa', 'm_reihe', '911', 'serie_2']\n",
       "Length: 246\n",
       "Categories (246, object): ['golf', 'fabia', '2_reihe', '3_reihe', ..., 'kappa', 'm_reihe', '911', 'serie_2']"
      ]
     },
     "execution_count": 174,
     "metadata": {},
     "output_type": "execute_result"
    }
   ],
   "source": [
    "data['Model'].unique()"
   ]
  },
  {
   "cell_type": "code",
   "execution_count": 176,
   "metadata": {
    "scrolled": true
   },
   "outputs": [],
   "source": [
    "test_index =[]\n",
    "for i in data_test.index:\n",
    "    if i in data.index:\n",
    "        test_index.append(i)"
   ]
  },
  {
   "cell_type": "code",
   "execution_count": 178,
   "metadata": {},
   "outputs": [],
   "source": [
    "features_train = data.drop(test_index, axis=0)[['VehicleType','RegistrationYear','Gearbox_is_auto','Power',\\\n",
    "                'Kilometer','FuelType','Brand','Is_Repaired']]\n",
    "target_train = data.drop(test_index, axis=0)['Price']\n",
    "\n",
    "features_test = data.loc[test_index][['VehicleType','RegistrationYear','Gearbox_is_auto','Power',\\\n",
    "                'Kilometer','FuelType','Brand','Is_Repaired']]\n",
    "target_test = data.loc[test_index]['Price']"
   ]
  },
  {
   "cell_type": "code",
   "execution_count": 179,
   "metadata": {},
   "outputs": [],
   "source": [
    "features_train = pd.get_dummies(features_train, drop_first=True)\n",
    "features_test = pd.get_dummies(features_test, drop_first=True)"
   ]
  },
  {
   "cell_type": "code",
   "execution_count": 180,
   "metadata": {},
   "outputs": [],
   "source": [
    "features_train, features_valid, target_train, target_valid = train_test_split(\n",
    "    features_train, target_train, test_size=0.20, random_state=12345)"
   ]
  },
  {
   "cell_type": "code",
   "execution_count": 181,
   "metadata": {},
   "outputs": [
    {
     "data": {
      "text/plain": [
       "((158261, 57), (39566, 57), (50099, 57), (158261,), (39566,), (50099,))"
      ]
     },
     "execution_count": 181,
     "metadata": {},
     "output_type": "execute_result"
    }
   ],
   "source": [
    "features_train.shape, features_valid.shape, features_test.shape, target_train.shape, target_valid.shape, target_test.shape"
   ]
  },
  {
   "cell_type": "markdown",
   "metadata": {},
   "source": [
    "Дата скачивания анкеты,  месяц регистрации автомобиля, дата создания анкеты, количество фотографий, почтовый индекс, дата последней активности не должны оказывать ощутимого влияния на цену автомобиля.\n",
    "\n",
    "Тип кузова, год регистрации, тип коробки передач, мощность, модель, пробег, тип топлива, марка, была ли машина в ремонте могут влиять на цену автомобиля.\n",
    "\n",
    "Цена - целевой признак."
   ]
  },
  {
   "cell_type": "markdown",
   "metadata": {},
   "source": [
    "## Обучение моделей"
   ]
  },
  {
   "cell_type": "markdown",
   "metadata": {},
   "source": [
    "### **LightGBM**"
   ]
  },
  {
   "cell_type": "code",
   "execution_count": 190,
   "metadata": {},
   "outputs": [],
   "source": [
    "data_train = lgb.Dataset(features_train, label=target_train)\n",
    "data_valid = lgb.Dataset(features_valid, label=target_valid)\n",
    "data_test = lgb.Dataset(features_test, label=target_test)"
   ]
  },
  {
   "cell_type": "code",
   "execution_count": 191,
   "metadata": {},
   "outputs": [],
   "source": [
    "parameters = {'objective':'regression',\n",
    "              'metric':'rmse',\n",
    "             'learning_rate':'0.5',\n",
    "             'boosting':'gbdt'}"
   ]
  },
  {
   "cell_type": "code",
   "execution_count": 192,
   "metadata": {
    "scrolled": false
   },
   "outputs": [
    {
     "name": "stderr",
     "output_type": "stream",
     "text": [
      "/opt/conda/lib/python3.9/site-packages/lightgbm/engine.py:181: UserWarning: 'early_stopping_rounds' argument is deprecated and will be removed in a future release of LightGBM. Pass 'early_stopping()' callback via 'callbacks' argument instead.\n",
      "  _log_warning(\"'early_stopping_rounds' argument is deprecated and will be removed in a future release of LightGBM. \"\n",
      "/opt/conda/lib/python3.9/site-packages/lightgbm/engine.py:239: UserWarning: 'verbose_eval' argument is deprecated and will be removed in a future release of LightGBM. Pass 'log_evaluation()' callback via 'callbacks' argument instead.\n",
      "  _log_warning(\"'verbose_eval' argument is deprecated and will be removed in a future release of LightGBM. \"\n"
     ]
    },
    {
     "name": "stdout",
     "output_type": "stream",
     "text": [
      "[LightGBM] [Warning] Auto-choosing row-wise multi-threading, the overhead of testing was 0.719100 seconds.\n",
      "You can set `force_row_wise=true` to remove the overhead.\n",
      "And if memory is not enough, you can set `force_col_wise=true`.\n",
      "[LightGBM] [Info] Total Bins 350\n",
      "[LightGBM] [Info] Number of data points in the train set: 158261, number of used features: 55\n",
      "[LightGBM] [Info] Start training from score 4702.144091\n",
      "Training until validation scores don't improve for 4 rounds\n",
      "[10]\tvalid_0's rmse: 1681.51\n",
      "Did not meet early stopping. Best iteration is:\n",
      "[15]\tvalid_0's rmse: 1629.3\n",
      "CPU times: user 15.2 s, sys: 185 ms, total: 15.4 s\n",
      "Wall time: 15.4 s\n"
     ]
    }
   ],
   "source": [
    "%%time\n",
    "model_lgbm = lgb.train(parameters,data_train,valid_sets=data_valid, num_boost_round=15,\n",
    "                       verbose_eval=10, early_stopping_rounds=4)"
   ]
  },
  {
   "cell_type": "code",
   "execution_count": 193,
   "metadata": {},
   "outputs": [],
   "source": [
    "parameters = {'objective':'regression',\n",
    "              'metric':'rmse',\n",
    "             'learning_rate':'0.5',\n",
    "             'boosting':'goss'}"
   ]
  },
  {
   "cell_type": "code",
   "execution_count": 194,
   "metadata": {},
   "outputs": [
    {
     "name": "stdout",
     "output_type": "stream",
     "text": [
      "[LightGBM] [Warning] Auto-choosing row-wise multi-threading, the overhead of testing was 0.710855 seconds.\n",
      "You can set `force_row_wise=true` to remove the overhead.\n",
      "And if memory is not enough, you can set `force_col_wise=true`.\n",
      "[LightGBM] [Info] Total Bins 350\n",
      "[LightGBM] [Info] Number of data points in the train set: 158261, number of used features: 55\n",
      "[LightGBM] [Info] Using GOSS\n",
      "[LightGBM] [Info] Start training from score 4702.144091\n",
      "Training until validation scores don't improve for 4 rounds\n",
      "[10]\tvalid_0's rmse: 1673.8\n",
      "Did not meet early stopping. Best iteration is:\n",
      "[15]\tvalid_0's rmse: 1628.63\n",
      "CPU times: user 14.8 s, sys: 31 ms, total: 14.8 s\n",
      "Wall time: 14.8 s\n"
     ]
    }
   ],
   "source": [
    "%%time\n",
    "model_lgbm = lgb.train(parameters,data_train,valid_sets=data_valid, num_boost_round=15,\n",
    "                       verbose_eval=10, early_stopping_rounds=4)"
   ]
  },
  {
   "cell_type": "markdown",
   "metadata": {},
   "source": [
    "'boosting':'gbdt' быстрее и точнее"
   ]
  },
  {
   "cell_type": "code",
   "execution_count": 195,
   "metadata": {},
   "outputs": [],
   "source": [
    "parameters = {'objective':'regression',\n",
    "              'metric':'rmse',\n",
    "             'learning_rate':'0.2',\n",
    "             'boosting':'gbdt'}"
   ]
  },
  {
   "cell_type": "code",
   "execution_count": 196,
   "metadata": {
    "scrolled": false
   },
   "outputs": [
    {
     "name": "stdout",
     "output_type": "stream",
     "text": [
      "[LightGBM] [Warning] Auto-choosing col-wise multi-threading, the overhead of testing was 0.104747 seconds.\n",
      "You can set `force_col_wise=true` to remove the overhead.\n",
      "[LightGBM] [Info] Total Bins 350\n",
      "[LightGBM] [Info] Number of data points in the train set: 158261, number of used features: 55\n",
      "[LightGBM] [Info] Start training from score 4702.144091\n",
      "Training until validation scores don't improve for 4 rounds\n",
      "[10]\tvalid_0's rmse: 1910.23\n",
      "Did not meet early stopping. Best iteration is:\n",
      "[15]\tvalid_0's rmse: 1743.96\n",
      "CPU times: user 13.2 s, sys: 20.3 ms, total: 13.3 s\n",
      "Wall time: 13.3 s\n"
     ]
    }
   ],
   "source": [
    "%%time\n",
    "model_lgbm = lgb.train(parameters,data_train,valid_sets=data_valid, num_boost_round=15,\n",
    "                       verbose_eval=10, early_stopping_rounds=4)"
   ]
  },
  {
   "cell_type": "markdown",
   "metadata": {},
   "source": [
    "Снижение скорости обучения сильно замедлило алгоритм, разница в rmse - всего 3%"
   ]
  },
  {
   "cell_type": "markdown",
   "metadata": {},
   "source": [
    "### **LinearRegression**"
   ]
  },
  {
   "cell_type": "code",
   "execution_count": 197,
   "metadata": {
    "scrolled": true
   },
   "outputs": [
    {
     "name": "stdout",
     "output_type": "stream",
     "text": [
      "CPU times: user 1.47 s, sys: 920 ms, total: 2.39 s\n",
      "Wall time: 2.4 s\n"
     ]
    },
    {
     "data": {
      "text/plain": [
       "LinearRegression()"
      ]
     },
     "execution_count": 197,
     "metadata": {},
     "output_type": "execute_result"
    }
   ],
   "source": [
    "%%time\n",
    "model = LinearRegression()\n",
    "model.fit(features_train, target_train)"
   ]
  },
  {
   "cell_type": "code",
   "execution_count": 198,
   "metadata": {},
   "outputs": [
    {
     "data": {
      "text/plain": [
       "2408.6815607882795"
      ]
     },
     "execution_count": 198,
     "metadata": {},
     "output_type": "execute_result"
    }
   ],
   "source": [
    "predictions=model.predict(features_valid)\n",
    "mean_squared_error(target_valid, predictions, squared=False)"
   ]
  },
  {
   "cell_type": "markdown",
   "metadata": {},
   "source": [
    "Высокая скорость, но едва пройден порог метрики rmse в 2500"
   ]
  },
  {
   "cell_type": "markdown",
   "metadata": {},
   "source": [
    "### **CatBoostRegressor**"
   ]
  },
  {
   "cell_type": "code",
   "execution_count": 199,
   "metadata": {
    "scrolled": true
   },
   "outputs": [
    {
     "name": "stdout",
     "output_type": "stream",
     "text": [
      "0:\tlearn: 2938.7842889\ttotal: 34.2ms\tremaining: 3.39s\n",
      "10:\tlearn: 1647.4787374\ttotal: 422ms\tremaining: 3.42s\n",
      "20:\tlearn: 1573.9440478\ttotal: 818ms\tremaining: 3.08s\n",
      "30:\tlearn: 1525.7830733\ttotal: 1.21s\tremaining: 2.69s\n",
      "40:\tlearn: 1499.3806791\ttotal: 1.61s\tremaining: 2.31s\n",
      "50:\tlearn: 1472.5840806\ttotal: 2s\tremaining: 1.92s\n",
      "60:\tlearn: 1455.0451251\ttotal: 2.37s\tremaining: 1.52s\n",
      "70:\tlearn: 1435.2584527\ttotal: 2.76s\tremaining: 1.13s\n",
      "80:\tlearn: 1422.2461036\ttotal: 3.13s\tremaining: 735ms\n",
      "90:\tlearn: 1407.8956113\ttotal: 3.51s\tremaining: 348ms\n",
      "99:\tlearn: 1396.5789265\ttotal: 3.87s\tremaining: 0us\n",
      "CPU times: user 4.23 s, sys: 53.4 ms, total: 4.28 s\n",
      "Wall time: 4.97 s\n"
     ]
    },
    {
     "data": {
      "text/plain": [
       "<catboost.core.CatBoostRegressor at 0x7ffb14f8af70>"
      ]
     },
     "execution_count": 199,
     "metadata": {},
     "output_type": "execute_result"
    }
   ],
   "source": [
    "%%time\n",
    "model_catboost = CatBoostRegressor(iterations=100, \n",
    "                          depth=10, \n",
    "                          learning_rate=0.5, \n",
    "                          loss_function='RMSE')\n",
    "model_catboost.fit(features_train, target_train, verbose=10, early_stopping_rounds=4)"
   ]
  },
  {
   "cell_type": "code",
   "execution_count": 200,
   "metadata": {},
   "outputs": [
    {
     "name": "stdout",
     "output_type": "stream",
     "text": [
      "CPU times: user 56.9 ms, sys: 13 µs, total: 56.9 ms\n",
      "Wall time: 54.9 ms\n"
     ]
    }
   ],
   "source": [
    "%%time\n",
    "pred_valid = model_catboost.predict(features_valid)"
   ]
  },
  {
   "cell_type": "code",
   "execution_count": 201,
   "metadata": {},
   "outputs": [
    {
     "data": {
      "text/plain": [
       "1509.6723363638425"
      ]
     },
     "execution_count": 201,
     "metadata": {},
     "output_type": "execute_result"
    }
   ],
   "source": [
    "mean_squared_error(target_valid, pred_valid, squared=False)"
   ]
  },
  {
   "cell_type": "code",
   "execution_count": 202,
   "metadata": {
    "scrolled": true
   },
   "outputs": [
    {
     "name": "stdout",
     "output_type": "stream",
     "text": [
      "0:\tlearn: 4139.6483195\ttotal: 40.3ms\tremaining: 3.99s\n",
      "10:\tlearn: 2372.0897794\ttotal: 408ms\tremaining: 3.3s\n",
      "20:\tlearn: 1886.1909927\ttotal: 790ms\tremaining: 2.97s\n",
      "30:\tlearn: 1739.7131528\ttotal: 1.17s\tremaining: 2.6s\n",
      "40:\tlearn: 1674.5558844\ttotal: 1.53s\tremaining: 2.21s\n",
      "50:\tlearn: 1643.6447723\ttotal: 1.91s\tremaining: 1.83s\n",
      "60:\tlearn: 1620.3428249\ttotal: 2.27s\tremaining: 1.45s\n",
      "70:\tlearn: 1602.4605577\ttotal: 2.64s\tremaining: 1.08s\n",
      "80:\tlearn: 1587.9766542\ttotal: 3.02s\tremaining: 708ms\n",
      "90:\tlearn: 1574.3275192\ttotal: 3.4s\tremaining: 336ms\n",
      "99:\tlearn: 1562.2938258\ttotal: 3.75s\tremaining: 0us\n",
      "CPU times: user 4.15 s, sys: 20.3 ms, total: 4.17 s\n",
      "Wall time: 4.74 s\n"
     ]
    },
    {
     "data": {
      "text/plain": [
       "<catboost.core.CatBoostRegressor at 0x7ffb28c420d0>"
      ]
     },
     "execution_count": 202,
     "metadata": {},
     "output_type": "execute_result"
    }
   ],
   "source": [
    "%%time\n",
    "model_catboost = CatBoostRegressor(iterations=100, \n",
    "                          depth=10, \n",
    "                          learning_rate=0.1, \n",
    "                          loss_function='RMSE')\n",
    "model_catboost.fit(features_train, target_train, verbose=10, early_stopping_rounds=4)"
   ]
  },
  {
   "cell_type": "code",
   "execution_count": 203,
   "metadata": {},
   "outputs": [
    {
     "name": "stdout",
     "output_type": "stream",
     "text": [
      "CPU times: user 58.2 ms, sys: 0 ns, total: 58.2 ms\n",
      "Wall time: 57.5 ms\n"
     ]
    }
   ],
   "source": [
    "%%time\n",
    "pred_valid = model_catboost.predict(features_valid) "
   ]
  },
  {
   "cell_type": "code",
   "execution_count": 204,
   "metadata": {
    "scrolled": true
   },
   "outputs": [
    {
     "data": {
      "text/plain": [
       "1573.176250656124"
      ]
     },
     "execution_count": 204,
     "metadata": {},
     "output_type": "execute_result"
    }
   ],
   "source": [
    "mean_squared_error(target_valid, pred_valid, squared=False)"
   ]
  },
  {
   "cell_type": "markdown",
   "metadata": {},
   "source": [
    "похоже модель переобучилась"
   ]
  },
  {
   "cell_type": "code",
   "execution_count": 205,
   "metadata": {
    "scrolled": false
   },
   "outputs": [
    {
     "name": "stdout",
     "output_type": "stream",
     "text": [
      "0:\tlearn: 2316.9342174\ttotal: 555ms\tremaining: 54.9s\n",
      "10:\tlearn: 1493.6112448\ttotal: 5.79s\tremaining: 46.9s\n",
      "20:\tlearn: 1400.2313096\ttotal: 11s\tremaining: 41.3s\n",
      "30:\tlearn: 1337.6984588\ttotal: 16.3s\tremaining: 36.2s\n",
      "40:\tlearn: 1296.2970320\ttotal: 21.4s\tremaining: 30.8s\n",
      "50:\tlearn: 1266.7367010\ttotal: 26.4s\tremaining: 25.4s\n",
      "60:\tlearn: 1241.8139744\ttotal: 31.3s\tremaining: 20s\n",
      "70:\tlearn: 1223.0782854\ttotal: 35.9s\tremaining: 14.7s\n",
      "80:\tlearn: 1202.1527995\ttotal: 40.8s\tremaining: 9.58s\n",
      "90:\tlearn: 1188.3644301\ttotal: 45.8s\tremaining: 4.53s\n",
      "99:\tlearn: 1177.7186287\ttotal: 50.4s\tremaining: 0us\n",
      "CPU times: user 37.5 s, sys: 13.7 s, total: 51.2 s\n",
      "Wall time: 52 s\n"
     ]
    },
    {
     "data": {
      "text/plain": [
       "<catboost.core.CatBoostRegressor at 0x7ffb292365b0>"
      ]
     },
     "execution_count": 205,
     "metadata": {},
     "output_type": "execute_result"
    }
   ],
   "source": [
    "%%time\n",
    "model_catboost = CatBoostRegressor(iterations=100, \n",
    "                          depth=16, \n",
    "                          learning_rate=0.75, \n",
    "                          loss_function='RMSE')\n",
    "model_catboost.fit(features_train, target_train, verbose=10, early_stopping_rounds=4)"
   ]
  },
  {
   "cell_type": "code",
   "execution_count": 206,
   "metadata": {},
   "outputs": [
    {
     "name": "stdout",
     "output_type": "stream",
     "text": [
      "CPU times: user 71.4 ms, sys: 29 µs, total: 71.4 ms\n",
      "Wall time: 74.9 ms\n"
     ]
    }
   ],
   "source": [
    "%%time\n",
    "pred_valid = model_catboost.predict(features_valid) "
   ]
  },
  {
   "cell_type": "code",
   "execution_count": 207,
   "metadata": {
    "scrolled": true
   },
   "outputs": [
    {
     "data": {
      "text/plain": [
       "1533.8772998621544"
      ]
     },
     "execution_count": 207,
     "metadata": {},
     "output_type": "execute_result"
    }
   ],
   "source": [
    "mean_squared_error(target_valid, pred_valid, squared=False)"
   ]
  },
  {
   "cell_type": "markdown",
   "metadata": {},
   "source": [
    "Увеличение глубины слишком сильно замедлило модель"
   ]
  },
  {
   "cell_type": "markdown",
   "metadata": {},
   "source": [
    "## Анализ моделей"
   ]
  },
  {
   "cell_type": "code",
   "execution_count": 208,
   "metadata": {},
   "outputs": [],
   "source": [
    "parameters = {'objective':'regression',\n",
    "              'metric':'rmse',\n",
    "             'learning_rate':'0.5',\n",
    "             'boosting':'gbdt'}"
   ]
  },
  {
   "cell_type": "code",
   "execution_count": 215,
   "metadata": {},
   "outputs": [
    {
     "name": "stderr",
     "output_type": "stream",
     "text": [
      "/opt/conda/lib/python3.9/site-packages/lightgbm/engine.py:181: UserWarning: 'early_stopping_rounds' argument is deprecated and will be removed in a future release of LightGBM. Pass 'early_stopping()' callback via 'callbacks' argument instead.\n",
      "  _log_warning(\"'early_stopping_rounds' argument is deprecated and will be removed in a future release of LightGBM. \"\n",
      "/opt/conda/lib/python3.9/site-packages/lightgbm/engine.py:239: UserWarning: 'verbose_eval' argument is deprecated and will be removed in a future release of LightGBM. Pass 'log_evaluation()' callback via 'callbacks' argument instead.\n",
      "  _log_warning(\"'verbose_eval' argument is deprecated and will be removed in a future release of LightGBM. \"\n"
     ]
    },
    {
     "name": "stdout",
     "output_type": "stream",
     "text": [
      "[LightGBM] [Warning] Auto-choosing col-wise multi-threading, the overhead of testing was 0.260058 seconds.\n",
      "You can set `force_col_wise=true` to remove the overhead.\n",
      "[LightGBM] [Info] Total Bins 350\n",
      "[LightGBM] [Info] Number of data points in the train set: 158261, number of used features: 55\n",
      "[LightGBM] [Info] Start training from score 4702.144091\n",
      "Training until validation scores don't improve for 4 rounds\n",
      "[10]\tvalid_0's rmse: 1681.51\n",
      "Did not meet early stopping. Best iteration is:\n",
      "[15]\tvalid_0's rmse: 1629.3\n",
      "CPU times: user 15.8 s, sys: 0 ns, total: 15.8 s\n",
      "Wall time: 15.8 s\n"
     ]
    }
   ],
   "source": [
    "%%time\n",
    "model_best_lgbm = lgb.train(parameters,data_train,valid_sets=data_valid, num_boost_round=15,\n",
    "                       verbose_eval=10, early_stopping_rounds=4)"
   ]
  },
  {
   "cell_type": "code",
   "execution_count": 216,
   "metadata": {},
   "outputs": [
    {
     "name": "stdout",
     "output_type": "stream",
     "text": [
      "0:\tlearn: 2938.7842889\ttotal: 35.6ms\tremaining: 3.52s\n",
      "10:\tlearn: 1647.4787374\ttotal: 439ms\tremaining: 3.55s\n",
      "20:\tlearn: 1573.9440478\ttotal: 816ms\tremaining: 3.07s\n",
      "30:\tlearn: 1525.7830733\ttotal: 1.2s\tremaining: 2.66s\n",
      "40:\tlearn: 1499.3806791\ttotal: 1.57s\tremaining: 2.26s\n",
      "50:\tlearn: 1472.5840806\ttotal: 1.97s\tremaining: 1.89s\n",
      "60:\tlearn: 1455.0451251\ttotal: 2.35s\tremaining: 1.5s\n",
      "70:\tlearn: 1435.2584527\ttotal: 2.74s\tremaining: 1.12s\n",
      "80:\tlearn: 1422.2461036\ttotal: 3.12s\tremaining: 732ms\n",
      "90:\tlearn: 1407.8956113\ttotal: 3.5s\tremaining: 347ms\n",
      "99:\tlearn: 1396.5789265\ttotal: 3.85s\tremaining: 0us\n",
      "CPU times: user 4.22 s, sys: 10.9 ms, total: 4.23 s\n",
      "Wall time: 5.34 s\n"
     ]
    },
    {
     "data": {
      "text/plain": [
       "<catboost.core.CatBoostRegressor at 0x7ffb14f0ba90>"
      ]
     },
     "execution_count": 216,
     "metadata": {},
     "output_type": "execute_result"
    }
   ],
   "source": [
    "%%time\n",
    "model_best_catboost = CatBoostRegressor(iterations=100, \n",
    "                          depth=10, \n",
    "                          learning_rate=0.5, \n",
    "                          loss_function='RMSE')\n",
    "model_best_catboost.fit(features_train, target_train, verbose=10, early_stopping_rounds=4)"
   ]
  },
  {
   "cell_type": "code",
   "execution_count": 217,
   "metadata": {
    "scrolled": true
   },
   "outputs": [
    {
     "name": "stdout",
     "output_type": "stream",
     "text": [
      "CPU times: user 1.32 s, sys: 594 ms, total: 1.92 s\n",
      "Wall time: 1.89 s\n"
     ]
    },
    {
     "data": {
      "text/plain": [
       "LinearRegression()"
      ]
     },
     "execution_count": 217,
     "metadata": {},
     "output_type": "execute_result"
    }
   ],
   "source": [
    "%%time\n",
    "model_lr = LinearRegression()\n",
    "model_lr.fit(features_train, target_train)"
   ]
  },
  {
   "cell_type": "code",
   "execution_count": 218,
   "metadata": {
    "scrolled": true
   },
   "outputs": [
    {
     "name": "stdout",
     "output_type": "stream",
     "text": [
      "CPU times: user 373 ms, sys: 50.8 ms, total: 424 ms\n",
      "Wall time: 415 ms\n"
     ]
    }
   ],
   "source": [
    "%%time\n",
    "predictions_lgbm = model_best_lgbm.predict(features_test)"
   ]
  },
  {
   "cell_type": "code",
   "execution_count": 224,
   "metadata": {},
   "outputs": [
    {
     "name": "stdout",
     "output_type": "stream",
     "text": [
      "CPU times: user 99.4 ms, sys: 49 µs, total: 99.5 ms\n",
      "Wall time: 97.5 ms\n"
     ]
    }
   ],
   "source": [
    "%%time\n",
    "predictions_catboost = model_best_catboost.predict(features_test) "
   ]
  },
  {
   "cell_type": "code",
   "execution_count": 225,
   "metadata": {},
   "outputs": [
    {
     "name": "stdout",
     "output_type": "stream",
     "text": [
      "CPU times: user 166 ms, sys: 249 µs, total: 167 ms\n",
      "Wall time: 166 ms\n"
     ]
    }
   ],
   "source": [
    "%%time\n",
    "predictions_lr=model_lr.predict(features_test)"
   ]
  },
  {
   "cell_type": "code",
   "execution_count": 226,
   "metadata": {
    "scrolled": true
   },
   "outputs": [
    {
     "data": {
      "text/plain": [
       "('LightGBM', 1676.1943030900886)"
      ]
     },
     "execution_count": 226,
     "metadata": {},
     "output_type": "execute_result"
    }
   ],
   "source": [
    "'LightGBM', mean_squared_error(target_test, predictions_lgbm, squared=False)"
   ]
  },
  {
   "cell_type": "code",
   "execution_count": 227,
   "metadata": {
    "scrolled": false
   },
   "outputs": [
    {
     "data": {
      "text/plain": [
       "('CatBoostRegressor', 1552.6812185328777)"
      ]
     },
     "execution_count": 227,
     "metadata": {},
     "output_type": "execute_result"
    }
   ],
   "source": [
    "'CatBoostRegressor', mean_squared_error(target_test, predictions_catboost, squared=False)"
   ]
  },
  {
   "cell_type": "code",
   "execution_count": 228,
   "metadata": {
    "scrolled": false
   },
   "outputs": [
    {
     "data": {
      "text/plain": [
       "('LinearRegression', 2443.949961178505)"
      ]
     },
     "execution_count": 228,
     "metadata": {},
     "output_type": "execute_result"
    }
   ],
   "source": [
    "'LinearRegression', mean_squared_error(target_test, predictions_lr, squared=False)"
   ]
  },
  {
   "cell_type": "markdown",
   "metadata": {},
   "source": [
    "Лучшее Wall time - LinearRegression, но ее предсказания наименее точны.\n",
    "\n",
    "LightGBM имеет лучший показатель rmse: 1676\n",
    "\n",
    "CatBoost: показатель rmse: 1552\n",
    "\n",
    "Время предсказаний незначительно у всех моделей\n",
    "\n",
    "Лучшая модель - CatBoost"
   ]
  },
  {
   "cell_type": "code",
   "execution_count": null,
   "metadata": {},
   "outputs": [],
   "source": []
  }
 ],
 "metadata": {
  "ExecuteTimeLog": [
   {
    "duration": 1037,
    "start_time": "2023-04-21T09:03:40.383Z"
   },
   {
    "duration": 2900,
    "start_time": "2023-04-21T09:03:42.199Z"
   },
   {
    "duration": 20,
    "start_time": "2023-04-21T09:03:50.610Z"
   },
   {
    "duration": 105,
    "start_time": "2023-04-21T09:03:59.039Z"
   },
   {
    "duration": 14,
    "start_time": "2023-04-21T09:05:39.200Z"
   },
   {
    "duration": 13,
    "start_time": "2023-04-21T09:06:04.513Z"
   },
   {
    "duration": 423,
    "start_time": "2023-04-21T09:06:08.636Z"
   },
   {
    "duration": 474,
    "start_time": "2023-04-21T09:06:13.828Z"
   },
   {
    "duration": 414,
    "start_time": "2023-04-21T09:06:32.339Z"
   },
   {
    "duration": 121,
    "start_time": "2023-04-21T09:13:07.934Z"
   },
   {
    "duration": 4,
    "start_time": "2023-04-21T09:13:12.564Z"
   },
   {
    "duration": 48,
    "start_time": "2023-04-21T09:14:03.821Z"
   },
   {
    "duration": 95,
    "start_time": "2023-04-21T09:14:06.968Z"
   },
   {
    "duration": 4,
    "start_time": "2023-04-21T09:14:07.818Z"
   },
   {
    "duration": 297,
    "start_time": "2023-04-21T09:14:59.268Z"
   },
   {
    "duration": 299,
    "start_time": "2023-04-21T09:15:10.934Z"
   },
   {
    "duration": 306,
    "start_time": "2023-04-21T09:15:35.448Z"
   },
   {
    "duration": 296,
    "start_time": "2023-04-21T09:19:31.323Z"
   },
   {
    "duration": 93,
    "start_time": "2023-04-21T09:19:32.816Z"
   },
   {
    "duration": 349,
    "start_time": "2023-04-21T09:19:46.276Z"
   },
   {
    "duration": 324,
    "start_time": "2023-04-21T09:19:47.813Z"
   },
   {
    "duration": 102,
    "start_time": "2023-04-21T09:22:07.966Z"
   },
   {
    "duration": 97,
    "start_time": "2023-04-21T09:22:27.451Z"
   },
   {
    "duration": 97,
    "start_time": "2023-04-21T09:22:30.325Z"
   },
   {
    "duration": 3,
    "start_time": "2023-04-21T09:22:34.131Z"
   },
   {
    "duration": 86,
    "start_time": "2023-04-21T09:30:39.446Z"
   },
   {
    "duration": 51,
    "start_time": "2023-04-21T11:33:25.425Z"
   },
   {
    "duration": 1118,
    "start_time": "2023-04-21T11:33:31.566Z"
   },
   {
    "duration": 2791,
    "start_time": "2023-04-21T11:33:32.685Z"
   },
   {
    "duration": 18,
    "start_time": "2023-04-21T11:33:35.478Z"
   },
   {
    "duration": 130,
    "start_time": "2023-04-21T11:33:35.498Z"
   },
   {
    "duration": 114,
    "start_time": "2023-04-21T11:33:35.630Z"
   },
   {
    "duration": 296,
    "start_time": "2023-04-21T11:33:35.746Z"
   },
   {
    "duration": 316,
    "start_time": "2023-04-21T11:33:36.043Z"
   },
   {
    "duration": 119,
    "start_time": "2023-04-21T11:33:36.361Z"
   },
   {
    "duration": 4,
    "start_time": "2023-04-21T11:33:36.482Z"
   },
   {
    "duration": 207,
    "start_time": "2023-04-21T11:33:36.494Z"
   },
   {
    "duration": 182,
    "start_time": "2023-04-21T11:34:36.652Z"
   },
   {
    "duration": 214,
    "start_time": "2023-04-21T11:34:47.045Z"
   },
   {
    "duration": 58,
    "start_time": "2023-04-21T11:35:03.934Z"
   },
   {
    "duration": 184,
    "start_time": "2023-04-21T11:35:08.501Z"
   },
   {
    "duration": 34052,
    "start_time": "2023-04-21T11:37:57.005Z"
   },
   {
    "duration": 182,
    "start_time": "2023-04-21T11:39:36.852Z"
   },
   {
    "duration": 173,
    "start_time": "2023-04-21T11:45:38.571Z"
   },
   {
    "duration": 190,
    "start_time": "2023-04-21T11:47:08.347Z"
   },
   {
    "duration": 202,
    "start_time": "2023-04-21T11:47:21.569Z"
   },
   {
    "duration": 4,
    "start_time": "2023-04-21T11:47:29.972Z"
   },
   {
    "duration": 5,
    "start_time": "2023-04-21T11:47:39.268Z"
   },
   {
    "duration": 299,
    "start_time": "2023-04-21T11:48:53.399Z"
   },
   {
    "duration": 3,
    "start_time": "2023-04-21T11:48:54.455Z"
   },
   {
    "duration": 500,
    "start_time": "2023-04-21T11:51:11.611Z"
   },
   {
    "duration": 4,
    "start_time": "2023-04-21T11:51:28.851Z"
   },
   {
    "duration": 790,
    "start_time": "2023-04-21T11:52:48.959Z"
   },
   {
    "duration": 4,
    "start_time": "2023-04-21T11:52:50.180Z"
   },
   {
    "duration": 734,
    "start_time": "2023-04-21T11:54:01.027Z"
   },
   {
    "duration": 4,
    "start_time": "2023-04-21T11:54:02.040Z"
   },
   {
    "duration": 4,
    "start_time": "2023-04-21T11:54:03.738Z"
   },
   {
    "duration": 5,
    "start_time": "2023-04-21T11:54:16.785Z"
   },
   {
    "duration": 247,
    "start_time": "2023-04-21T11:54:26.557Z"
   },
   {
    "duration": 216,
    "start_time": "2023-04-21T11:55:04.803Z"
   },
   {
    "duration": 213,
    "start_time": "2023-04-21T11:55:13.041Z"
   },
   {
    "duration": 117,
    "start_time": "2023-04-21T11:55:17.798Z"
   },
   {
    "duration": 464,
    "start_time": "2023-04-21T12:00:51.893Z"
   },
   {
    "duration": 503,
    "start_time": "2023-04-21T12:01:00.878Z"
   },
   {
    "duration": 67,
    "start_time": "2023-04-21T12:09:02.690Z"
   },
   {
    "duration": 4,
    "start_time": "2023-04-21T12:09:14.296Z"
   },
   {
    "duration": 396,
    "start_time": "2023-04-21T12:09:30.268Z"
   },
   {
    "duration": 4,
    "start_time": "2023-04-21T12:09:32.000Z"
   },
   {
    "duration": 4,
    "start_time": "2023-04-21T12:09:32.872Z"
   },
   {
    "duration": 377,
    "start_time": "2023-04-21T12:10:49.969Z"
   },
   {
    "duration": 5,
    "start_time": "2023-04-21T12:10:50.613Z"
   },
   {
    "duration": 5,
    "start_time": "2023-04-21T12:10:51.447Z"
   },
   {
    "duration": 320,
    "start_time": "2023-04-21T12:13:29.300Z"
   },
   {
    "duration": 3,
    "start_time": "2023-04-21T12:13:29.622Z"
   },
   {
    "duration": 4,
    "start_time": "2023-04-21T12:13:29.685Z"
   },
   {
    "duration": 93,
    "start_time": "2023-04-21T12:13:51.927Z"
   },
   {
    "duration": 4,
    "start_time": "2023-04-21T12:14:24.150Z"
   },
   {
    "duration": 3,
    "start_time": "2023-04-21T12:14:26.628Z"
   },
   {
    "duration": 5,
    "start_time": "2023-04-21T12:14:28.952Z"
   },
   {
    "duration": 4,
    "start_time": "2023-04-21T12:14:57.922Z"
   },
   {
    "duration": 4,
    "start_time": "2023-04-21T12:14:58.093Z"
   },
   {
    "duration": 3,
    "start_time": "2023-04-21T12:14:58.236Z"
   },
   {
    "duration": 77,
    "start_time": "2023-04-21T12:20:11.807Z"
   },
   {
    "duration": 5,
    "start_time": "2023-04-21T12:20:16.467Z"
   },
   {
    "duration": 113,
    "start_time": "2023-04-21T12:20:33.359Z"
   },
   {
    "duration": 33,
    "start_time": "2023-04-21T12:22:38.054Z"
   },
   {
    "duration": 114,
    "start_time": "2023-04-21T12:25:15.715Z"
   },
   {
    "duration": 13,
    "start_time": "2023-04-21T12:25:52.569Z"
   },
   {
    "duration": 7,
    "start_time": "2023-04-21T12:26:02.853Z"
   },
   {
    "duration": 74,
    "start_time": "2023-04-21T12:26:08.223Z"
   },
   {
    "duration": 4,
    "start_time": "2023-04-21T12:40:27.856Z"
   },
   {
    "duration": 4,
    "start_time": "2023-04-21T12:41:15.143Z"
   },
   {
    "duration": 3,
    "start_time": "2023-04-21T12:41:23.380Z"
   },
   {
    "duration": 9,
    "start_time": "2023-04-21T12:43:58.432Z"
   },
   {
    "duration": 4,
    "start_time": "2023-04-21T12:44:33.338Z"
   },
   {
    "duration": 7,
    "start_time": "2023-04-21T12:44:57.838Z"
   },
   {
    "duration": 4,
    "start_time": "2023-04-21T12:46:02.030Z"
   },
   {
    "duration": 9,
    "start_time": "2023-04-21T12:46:04.989Z"
   },
   {
    "duration": 46,
    "start_time": "2023-04-21T12:46:10.427Z"
   },
   {
    "duration": 8,
    "start_time": "2023-04-21T12:46:22.908Z"
   },
   {
    "duration": 55,
    "start_time": "2023-04-21T12:46:34.154Z"
   },
   {
    "duration": 57,
    "start_time": "2023-04-21T12:46:53.189Z"
   },
   {
    "duration": 47,
    "start_time": "2023-04-21T12:46:55.404Z"
   },
   {
    "duration": 9,
    "start_time": "2023-04-21T12:47:00.632Z"
   },
   {
    "duration": 4,
    "start_time": "2023-04-21T12:48:09.552Z"
   },
   {
    "duration": 4,
    "start_time": "2023-04-21T12:48:33.751Z"
   },
   {
    "duration": 3,
    "start_time": "2023-04-21T12:48:56.954Z"
   },
   {
    "duration": 3,
    "start_time": "2023-04-21T12:48:59.123Z"
   },
   {
    "duration": 59,
    "start_time": "2023-04-21T12:49:01.110Z"
   },
   {
    "duration": 62,
    "start_time": "2023-04-21T12:49:22.167Z"
   },
   {
    "duration": 104,
    "start_time": "2023-04-21T12:49:26.811Z"
   },
   {
    "duration": 48,
    "start_time": "2023-04-21T12:51:36.235Z"
   },
   {
    "duration": 729,
    "start_time": "2023-04-21T12:51:36.285Z"
   },
   {
    "duration": 15,
    "start_time": "2023-04-21T12:51:37.016Z"
   },
   {
    "duration": 124,
    "start_time": "2023-04-21T12:51:37.032Z"
   },
   {
    "duration": 76,
    "start_time": "2023-04-21T12:51:37.158Z"
   },
   {
    "duration": 121,
    "start_time": "2023-04-21T12:51:37.237Z"
   },
   {
    "duration": 292,
    "start_time": "2023-04-21T12:51:37.360Z"
   },
   {
    "duration": 4,
    "start_time": "2023-04-21T12:51:37.653Z"
   },
   {
    "duration": 6,
    "start_time": "2023-04-21T12:51:37.659Z"
   },
   {
    "duration": 73,
    "start_time": "2023-04-21T12:51:37.666Z"
   },
   {
    "duration": 90,
    "start_time": "2023-04-21T12:51:37.740Z"
   },
   {
    "duration": 90,
    "start_time": "2023-04-21T12:51:37.832Z"
   },
   {
    "duration": 4,
    "start_time": "2023-04-21T12:51:37.924Z"
   },
   {
    "duration": 21,
    "start_time": "2023-04-21T12:51:37.931Z"
   },
   {
    "duration": 1116,
    "start_time": "2023-04-21T12:51:37.953Z"
   },
   {
    "duration": 0,
    "start_time": "2023-04-21T12:51:39.071Z"
   },
   {
    "duration": 0,
    "start_time": "2023-04-21T12:51:39.072Z"
   },
   {
    "duration": 0,
    "start_time": "2023-04-21T12:51:39.073Z"
   },
   {
    "duration": 0,
    "start_time": "2023-04-21T12:51:39.074Z"
   },
   {
    "duration": 0,
    "start_time": "2023-04-21T12:51:39.075Z"
   },
   {
    "duration": 928,
    "start_time": "2023-04-21T12:53:22.322Z"
   },
   {
    "duration": 762,
    "start_time": "2023-04-21T12:53:35.748Z"
   },
   {
    "duration": 21,
    "start_time": "2023-04-21T12:53:40.126Z"
   },
   {
    "duration": 4,
    "start_time": "2023-04-21T12:53:55.579Z"
   },
   {
    "duration": 8,
    "start_time": "2023-04-21T12:54:05.772Z"
   },
   {
    "duration": 8,
    "start_time": "2023-04-21T12:54:25.440Z"
   },
   {
    "duration": 8,
    "start_time": "2023-04-21T12:54:37.964Z"
   },
   {
    "duration": 3,
    "start_time": "2023-04-21T12:54:49.321Z"
   },
   {
    "duration": 3,
    "start_time": "2023-04-21T12:56:46.055Z"
   },
   {
    "duration": 5,
    "start_time": "2023-04-21T12:56:49.869Z"
   },
   {
    "duration": 4,
    "start_time": "2023-04-21T12:56:51.718Z"
   },
   {
    "duration": 4,
    "start_time": "2023-04-21T12:57:05.112Z"
   },
   {
    "duration": 79,
    "start_time": "2023-04-21T12:57:08.734Z"
   },
   {
    "duration": 3,
    "start_time": "2023-04-21T12:57:11.532Z"
   },
   {
    "duration": 4,
    "start_time": "2023-04-21T12:57:12.437Z"
   },
   {
    "duration": 11,
    "start_time": "2023-04-21T12:57:12.442Z"
   },
   {
    "duration": 12,
    "start_time": "2023-04-21T12:57:12.455Z"
   },
   {
    "duration": 5,
    "start_time": "2023-04-21T12:57:13.808Z"
   },
   {
    "duration": 4,
    "start_time": "2023-04-21T12:57:39.363Z"
   },
   {
    "duration": 3,
    "start_time": "2023-04-21T12:57:39.982Z"
   },
   {
    "duration": 4,
    "start_time": "2023-04-21T12:57:49.035Z"
   },
   {
    "duration": 2,
    "start_time": "2023-04-21T12:57:59.862Z"
   },
   {
    "duration": 4,
    "start_time": "2023-04-21T12:58:00.931Z"
   },
   {
    "duration": 76,
    "start_time": "2023-04-21T12:58:02.760Z"
   },
   {
    "duration": 3,
    "start_time": "2023-04-21T12:58:03.305Z"
   },
   {
    "duration": 3,
    "start_time": "2023-04-21T12:58:05.326Z"
   },
   {
    "duration": 4,
    "start_time": "2023-04-21T12:58:05.943Z"
   },
   {
    "duration": 4,
    "start_time": "2023-04-21T12:58:18.252Z"
   },
   {
    "duration": 50,
    "start_time": "2023-04-21T12:58:37.912Z"
   },
   {
    "duration": 3,
    "start_time": "2023-04-21T12:58:45.864Z"
   },
   {
    "duration": 660,
    "start_time": "2023-04-21T12:58:45.869Z"
   },
   {
    "duration": 12,
    "start_time": "2023-04-21T12:58:46.530Z"
   },
   {
    "duration": 116,
    "start_time": "2023-04-21T12:58:46.543Z"
   },
   {
    "duration": 80,
    "start_time": "2023-04-21T12:58:46.660Z"
   },
   {
    "duration": 98,
    "start_time": "2023-04-21T12:58:46.741Z"
   },
   {
    "duration": 93,
    "start_time": "2023-04-21T12:58:46.841Z"
   },
   {
    "duration": 3,
    "start_time": "2023-04-21T12:58:46.936Z"
   },
   {
    "duration": 7,
    "start_time": "2023-04-21T12:58:46.941Z"
   },
   {
    "duration": 68,
    "start_time": "2023-04-21T12:58:46.950Z"
   },
   {
    "duration": 91,
    "start_time": "2023-04-21T12:58:47.020Z"
   },
   {
    "duration": 96,
    "start_time": "2023-04-21T12:58:47.113Z"
   },
   {
    "duration": 3,
    "start_time": "2023-04-21T12:58:47.211Z"
   },
   {
    "duration": 10,
    "start_time": "2023-04-21T12:58:47.216Z"
   },
   {
    "duration": 32,
    "start_time": "2023-04-21T12:58:47.228Z"
   },
   {
    "duration": 285,
    "start_time": "2023-04-21T12:58:47.261Z"
   },
   {
    "duration": 304,
    "start_time": "2023-04-21T12:59:49.474Z"
   },
   {
    "duration": 62,
    "start_time": "2023-04-21T12:59:50.456Z"
   },
   {
    "duration": 4,
    "start_time": "2023-04-21T12:59:51.349Z"
   },
   {
    "duration": 3,
    "start_time": "2023-04-21T12:59:51.588Z"
   },
   {
    "duration": 4,
    "start_time": "2023-04-21T12:59:51.905Z"
   },
   {
    "duration": 266,
    "start_time": "2023-04-21T13:00:17.615Z"
   },
   {
    "duration": 38,
    "start_time": "2023-04-21T13:00:18.459Z"
   },
   {
    "duration": 4,
    "start_time": "2023-04-21T13:00:19.160Z"
   },
   {
    "duration": 5,
    "start_time": "2023-04-21T13:00:19.432Z"
   },
   {
    "duration": 4,
    "start_time": "2023-04-21T13:00:19.807Z"
   },
   {
    "duration": 24,
    "start_time": "2023-04-21T13:00:21.938Z"
   },
   {
    "duration": 874,
    "start_time": "2023-04-21T13:01:28.660Z"
   },
   {
    "duration": 6331,
    "start_time": "2023-04-21T13:04:20.011Z"
   },
   {
    "duration": 4,
    "start_time": "2023-04-21T13:05:44.016Z"
   },
   {
    "duration": 43,
    "start_time": "2023-04-21T13:06:08.206Z"
   },
   {
    "duration": 27213,
    "start_time": "2023-04-21T13:06:29.932Z"
   },
   {
    "duration": 41,
    "start_time": "2023-04-21T13:07:02.071Z"
   },
   {
    "duration": 26287,
    "start_time": "2023-04-21T13:16:40.481Z"
   },
   {
    "duration": 40,
    "start_time": "2023-04-21T13:17:24.924Z"
   },
   {
    "duration": 77410,
    "start_time": "2023-04-21T13:17:43.902Z"
   },
   {
    "duration": 48,
    "start_time": "2023-04-21T13:19:47.464Z"
   },
   {
    "duration": 9,
    "start_time": "2023-04-21T13:22:50.805Z"
   },
   {
    "duration": 77,
    "start_time": "2023-04-21T13:22:57.532Z"
   },
   {
    "duration": 313,
    "start_time": "2023-04-21T13:26:01.367Z"
   },
   {
    "duration": 4,
    "start_time": "2023-04-21T13:26:03.172Z"
   },
   {
    "duration": 3,
    "start_time": "2023-04-21T13:26:08.909Z"
   },
   {
    "duration": 3,
    "start_time": "2023-04-21T13:26:10.085Z"
   },
   {
    "duration": 50,
    "start_time": "2023-04-21T13:26:42.421Z"
   },
   {
    "duration": 3,
    "start_time": "2023-04-21T13:26:42.963Z"
   },
   {
    "duration": 4,
    "start_time": "2023-04-21T13:26:43.512Z"
   },
   {
    "duration": 4,
    "start_time": "2023-04-21T13:26:44.105Z"
   },
   {
    "duration": 3,
    "start_time": "2023-04-21T13:27:33.861Z"
   },
   {
    "duration": 718,
    "start_time": "2023-04-21T13:27:33.866Z"
   },
   {
    "duration": 11,
    "start_time": "2023-04-21T13:27:34.586Z"
   },
   {
    "duration": 108,
    "start_time": "2023-04-21T13:27:34.599Z"
   },
   {
    "duration": 64,
    "start_time": "2023-04-21T13:27:34.709Z"
   },
   {
    "duration": 101,
    "start_time": "2023-04-21T13:27:34.775Z"
   },
   {
    "duration": 99,
    "start_time": "2023-04-21T13:27:34.878Z"
   },
   {
    "duration": 3,
    "start_time": "2023-04-21T13:27:34.979Z"
   },
   {
    "duration": 12,
    "start_time": "2023-04-21T13:27:34.983Z"
   },
   {
    "duration": 59,
    "start_time": "2023-04-21T13:27:34.996Z"
   },
   {
    "duration": 93,
    "start_time": "2023-04-21T13:27:35.057Z"
   },
   {
    "duration": 87,
    "start_time": "2023-04-21T13:27:35.151Z"
   },
   {
    "duration": 3,
    "start_time": "2023-04-21T13:27:35.240Z"
   },
   {
    "duration": 15,
    "start_time": "2023-04-21T13:27:35.246Z"
   },
   {
    "duration": 333,
    "start_time": "2023-04-21T13:27:35.262Z"
   },
   {
    "duration": 56,
    "start_time": "2023-04-21T13:27:37.975Z"
   },
   {
    "duration": 4,
    "start_time": "2023-04-21T13:27:38.959Z"
   },
   {
    "duration": 3,
    "start_time": "2023-04-21T13:27:39.543Z"
   },
   {
    "duration": 26,
    "start_time": "2023-04-21T13:27:52.208Z"
   },
   {
    "duration": 4,
    "start_time": "2023-04-21T13:28:01.970Z"
   },
   {
    "duration": 4,
    "start_time": "2023-04-21T13:28:11.431Z"
   },
   {
    "duration": 128,
    "start_time": "2023-04-21T13:31:23.188Z"
   },
   {
    "duration": 165,
    "start_time": "2023-04-21T13:33:09.274Z"
   },
   {
    "duration": 950,
    "start_time": "2023-04-21T13:33:56.232Z"
   },
   {
    "duration": 271,
    "start_time": "2023-04-21T13:34:08.456Z"
   },
   {
    "duration": 11,
    "start_time": "2023-04-21T13:34:09.642Z"
   },
   {
    "duration": 4,
    "start_time": "2023-04-21T13:34:21.406Z"
   },
   {
    "duration": 4,
    "start_time": "2023-04-21T13:34:25.603Z"
   },
   {
    "duration": 43465,
    "start_time": "2023-04-21T13:34:56.055Z"
   },
   {
    "duration": 178,
    "start_time": "2023-04-21T13:35:48.814Z"
   },
   {
    "duration": 94,
    "start_time": "2023-04-21T13:36:39.577Z"
   },
   {
    "duration": 34,
    "start_time": "2023-04-21T13:36:40.131Z"
   },
   {
    "duration": 34,
    "start_time": "2023-04-21T13:37:00.981Z"
   },
   {
    "duration": 28,
    "start_time": "2023-04-21T13:37:06.226Z"
   },
   {
    "duration": 20,
    "start_time": "2023-04-21T13:37:11.012Z"
   },
   {
    "duration": 247,
    "start_time": "2023-04-21T13:38:36.383Z"
   },
   {
    "duration": 350,
    "start_time": "2023-04-21T13:38:55.830Z"
   },
   {
    "duration": 310,
    "start_time": "2023-04-21T13:39:27.713Z"
   },
   {
    "duration": 4,
    "start_time": "2023-04-21T13:39:36.684Z"
   },
   {
    "duration": 4,
    "start_time": "2023-04-21T13:39:37.388Z"
   },
   {
    "duration": 130,
    "start_time": "2023-04-21T13:40:36.158Z"
   },
   {
    "duration": 59,
    "start_time": "2023-04-21T13:40:59.778Z"
   },
   {
    "duration": 140,
    "start_time": "2023-04-21T13:41:09.866Z"
   },
   {
    "duration": 132,
    "start_time": "2023-04-21T13:41:16.395Z"
   },
   {
    "duration": 40,
    "start_time": "2023-04-21T13:43:04.890Z"
   },
   {
    "duration": 30,
    "start_time": "2023-04-21T13:43:22.430Z"
   },
   {
    "duration": 135,
    "start_time": "2023-04-21T13:43:47.048Z"
   },
   {
    "duration": 188,
    "start_time": "2023-04-21T13:45:16.567Z"
   },
   {
    "duration": 3,
    "start_time": "2023-04-21T13:46:22.877Z"
   },
   {
    "duration": 320,
    "start_time": "2023-04-21T13:47:14.098Z"
   },
   {
    "duration": 102,
    "start_time": "2023-04-21T13:48:38.940Z"
   },
   {
    "duration": 1057,
    "start_time": "2023-04-21T13:49:24.743Z"
   },
   {
    "duration": 2739,
    "start_time": "2023-04-21T13:49:25.802Z"
   },
   {
    "duration": 17,
    "start_time": "2023-04-21T13:49:28.543Z"
   },
   {
    "duration": 120,
    "start_time": "2023-04-21T13:49:28.562Z"
   },
   {
    "duration": 90,
    "start_time": "2023-04-21T13:49:28.684Z"
   },
   {
    "duration": 109,
    "start_time": "2023-04-21T13:49:28.776Z"
   },
   {
    "duration": 87,
    "start_time": "2023-04-21T13:49:28.894Z"
   },
   {
    "duration": 12,
    "start_time": "2023-04-21T13:49:28.983Z"
   },
   {
    "duration": 3,
    "start_time": "2023-04-21T13:49:28.997Z"
   },
   {
    "duration": 98,
    "start_time": "2023-04-21T13:49:29.001Z"
   },
   {
    "duration": 125,
    "start_time": "2023-04-21T13:49:29.101Z"
   },
   {
    "duration": 88,
    "start_time": "2023-04-21T13:49:29.228Z"
   },
   {
    "duration": 4,
    "start_time": "2023-04-21T13:49:29.318Z"
   },
   {
    "duration": 29,
    "start_time": "2023-04-21T13:49:29.324Z"
   },
   {
    "duration": 350,
    "start_time": "2023-04-21T13:49:29.355Z"
   },
   {
    "duration": 353,
    "start_time": "2023-04-21T13:49:29.707Z"
   },
   {
    "duration": 0,
    "start_time": "2023-04-21T13:49:30.061Z"
   },
   {
    "duration": 0,
    "start_time": "2023-04-21T13:49:30.063Z"
   },
   {
    "duration": 189,
    "start_time": "2023-04-21T13:49:36.252Z"
   },
   {
    "duration": 60,
    "start_time": "2023-04-21T13:49:54.227Z"
   },
   {
    "duration": 6,
    "start_time": "2023-04-21T13:50:06.719Z"
   },
   {
    "duration": 1190,
    "start_time": "2023-04-21T13:50:13.971Z"
   },
   {
    "duration": 60,
    "start_time": "2023-04-21T13:50:22.276Z"
   },
   {
    "duration": 1126,
    "start_time": "2023-04-21T13:50:41.886Z"
   },
   {
    "duration": 3074,
    "start_time": "2023-04-21T13:50:43.014Z"
   },
   {
    "duration": 19,
    "start_time": "2023-04-21T13:50:46.090Z"
   },
   {
    "duration": 112,
    "start_time": "2023-04-21T13:50:46.111Z"
   },
   {
    "duration": 97,
    "start_time": "2023-04-21T13:50:46.226Z"
   },
   {
    "duration": 92,
    "start_time": "2023-04-21T13:50:46.325Z"
   },
   {
    "duration": 94,
    "start_time": "2023-04-21T13:50:46.419Z"
   },
   {
    "duration": 3,
    "start_time": "2023-04-21T13:50:46.515Z"
   },
   {
    "duration": 6,
    "start_time": "2023-04-21T13:50:46.520Z"
   },
   {
    "duration": 87,
    "start_time": "2023-04-21T13:50:46.528Z"
   },
   {
    "duration": 117,
    "start_time": "2023-04-21T13:50:46.617Z"
   },
   {
    "duration": 81,
    "start_time": "2023-04-21T13:50:46.736Z"
   },
   {
    "duration": 3,
    "start_time": "2023-04-21T13:50:46.818Z"
   },
   {
    "duration": 299,
    "start_time": "2023-04-21T13:50:51.853Z"
   },
   {
    "duration": 69,
    "start_time": "2023-04-21T13:51:57.337Z"
   },
   {
    "duration": 1193,
    "start_time": "2023-04-21T13:52:11.182Z"
   },
   {
    "duration": 2841,
    "start_time": "2023-04-21T13:52:12.377Z"
   },
   {
    "duration": 20,
    "start_time": "2023-04-21T13:52:15.219Z"
   },
   {
    "duration": 186,
    "start_time": "2023-04-21T13:52:15.241Z"
   },
   {
    "duration": 102,
    "start_time": "2023-04-21T13:52:15.429Z"
   },
   {
    "duration": 107,
    "start_time": "2023-04-21T13:52:15.533Z"
   },
   {
    "duration": 98,
    "start_time": "2023-04-21T13:52:15.642Z"
   },
   {
    "duration": 4,
    "start_time": "2023-04-21T13:52:15.742Z"
   },
   {
    "duration": 8,
    "start_time": "2023-04-21T13:52:15.747Z"
   },
   {
    "duration": 99,
    "start_time": "2023-04-21T13:52:15.758Z"
   },
   {
    "duration": 123,
    "start_time": "2023-04-21T13:52:15.859Z"
   },
   {
    "duration": 89,
    "start_time": "2023-04-21T13:52:15.984Z"
   },
   {
    "duration": 79,
    "start_time": "2023-04-21T13:52:22.189Z"
   },
   {
    "duration": 4,
    "start_time": "2023-04-21T13:52:22.969Z"
   },
   {
    "duration": 224,
    "start_time": "2023-04-21T13:52:28.256Z"
   },
   {
    "duration": 30188,
    "start_time": "2023-04-21T13:52:30.618Z"
   },
   {
    "duration": 168,
    "start_time": "2023-04-21T13:54:29.404Z"
   },
   {
    "duration": 72,
    "start_time": "2023-04-21T13:54:32.489Z"
   },
   {
    "duration": 110,
    "start_time": "2023-04-21T13:54:46.951Z"
   },
   {
    "duration": 134,
    "start_time": "2023-04-21T13:54:56.328Z"
   },
   {
    "duration": 105,
    "start_time": "2023-04-21T13:54:58.510Z"
   },
   {
    "duration": 155,
    "start_time": "2023-04-21T13:55:03.904Z"
   },
   {
    "duration": 56,
    "start_time": "2023-04-21T13:55:59.236Z"
   },
   {
    "duration": 23,
    "start_time": "2023-04-21T13:56:08.120Z"
   },
   {
    "duration": 40631,
    "start_time": "2023-04-21T13:57:05.396Z"
   },
   {
    "duration": 41821,
    "start_time": "2023-04-21T13:58:15.657Z"
   },
   {
    "duration": 61,
    "start_time": "2023-04-21T13:59:30.242Z"
   },
   {
    "duration": 37,
    "start_time": "2023-04-21T13:59:33.891Z"
   },
   {
    "duration": 26,
    "start_time": "2023-04-21T13:59:38.185Z"
   },
   {
    "duration": 23,
    "start_time": "2023-04-21T13:59:40.555Z"
   },
   {
    "duration": 65,
    "start_time": "2023-04-21T13:59:45.541Z"
   },
   {
    "duration": 27,
    "start_time": "2023-04-21T13:59:54.119Z"
   },
   {
    "duration": 41,
    "start_time": "2023-04-21T14:00:05.624Z"
   },
   {
    "duration": 75,
    "start_time": "2023-04-21T14:00:26.335Z"
   },
   {
    "duration": 177,
    "start_time": "2023-04-21T14:00:32.212Z"
   },
   {
    "duration": 178,
    "start_time": "2023-04-21T14:00:42.308Z"
   },
   {
    "duration": 112,
    "start_time": "2023-04-21T14:00:52.056Z"
   },
   {
    "duration": 4,
    "start_time": "2023-04-21T14:03:12.898Z"
   },
   {
    "duration": 750,
    "start_time": "2023-04-21T14:03:12.903Z"
   },
   {
    "duration": 12,
    "start_time": "2023-04-21T14:03:13.654Z"
   },
   {
    "duration": 110,
    "start_time": "2023-04-21T14:03:13.668Z"
   },
   {
    "duration": 85,
    "start_time": "2023-04-21T14:03:13.780Z"
   },
   {
    "duration": 97,
    "start_time": "2023-04-21T14:03:13.867Z"
   },
   {
    "duration": 122,
    "start_time": "2023-04-21T14:03:13.966Z"
   },
   {
    "duration": 6,
    "start_time": "2023-04-21T14:03:14.093Z"
   },
   {
    "duration": 3,
    "start_time": "2023-04-21T14:03:14.102Z"
   },
   {
    "duration": 98,
    "start_time": "2023-04-21T14:03:14.107Z"
   },
   {
    "duration": 159,
    "start_time": "2023-04-21T14:03:14.208Z"
   },
   {
    "duration": 102,
    "start_time": "2023-04-21T14:03:14.369Z"
   },
   {
    "duration": 5,
    "start_time": "2023-04-21T14:03:14.473Z"
   },
   {
    "duration": 31,
    "start_time": "2023-04-21T14:03:14.481Z"
   },
   {
    "duration": 412,
    "start_time": "2023-04-21T14:03:14.514Z"
   },
   {
    "duration": 6,
    "start_time": "2023-04-21T14:03:14.927Z"
   },
   {
    "duration": 13,
    "start_time": "2023-04-21T14:03:14.935Z"
   },
   {
    "duration": 26,
    "start_time": "2023-04-21T14:03:14.950Z"
   },
   {
    "duration": 13,
    "start_time": "2023-04-21T14:04:10.154Z"
   },
   {
    "duration": 186,
    "start_time": "2023-04-21T14:05:00.508Z"
   },
   {
    "duration": 357,
    "start_time": "2023-04-21T14:05:11.669Z"
   },
   {
    "duration": 75,
    "start_time": "2023-04-21T14:05:13.447Z"
   },
   {
    "duration": 5,
    "start_time": "2023-04-21T14:05:14.325Z"
   },
   {
    "duration": 4,
    "start_time": "2023-04-21T14:05:15.272Z"
   },
   {
    "duration": 5,
    "start_time": "2023-04-21T14:05:16.195Z"
   },
   {
    "duration": 84886,
    "start_time": "2023-04-21T14:05:39.715Z"
   },
   {
    "duration": 302,
    "start_time": "2023-04-21T14:09:20.455Z"
   },
   {
    "duration": 3,
    "start_time": "2023-04-21T14:09:24.917Z"
   },
   {
    "duration": 1012,
    "start_time": "2023-04-21T14:09:28.580Z"
   },
   {
    "duration": 4,
    "start_time": "2023-04-21T14:10:52.940Z"
   },
   {
    "duration": 305,
    "start_time": "2023-04-21T14:11:14.223Z"
   },
   {
    "duration": 4,
    "start_time": "2023-04-21T14:13:17.868Z"
   },
   {
    "duration": 10,
    "start_time": "2023-04-21T14:13:25.895Z"
   },
   {
    "duration": 2,
    "start_time": "2023-04-21T14:13:33.209Z"
   },
   {
    "duration": 8,
    "start_time": "2023-04-21T14:13:35.010Z"
   },
   {
    "duration": 4,
    "start_time": "2023-04-21T14:13:43.891Z"
   },
   {
    "duration": 171,
    "start_time": "2023-04-21T14:14:28.713Z"
   },
   {
    "duration": 95,
    "start_time": "2023-04-21T14:15:11.452Z"
   },
   {
    "duration": 3,
    "start_time": "2023-04-21T14:15:12.081Z"
   },
   {
    "duration": 3,
    "start_time": "2023-04-21T14:15:14.973Z"
   },
   {
    "duration": 4,
    "start_time": "2023-04-21T14:15:18.684Z"
   },
   {
    "duration": 3,
    "start_time": "2023-04-21T14:15:20.917Z"
   },
   {
    "duration": 4,
    "start_time": "2023-04-21T14:15:21.984Z"
   },
   {
    "duration": 95,
    "start_time": "2023-04-21T14:16:00.545Z"
   },
   {
    "duration": 3,
    "start_time": "2023-04-21T14:16:02.337Z"
   },
   {
    "duration": 3,
    "start_time": "2023-04-21T14:16:02.927Z"
   },
   {
    "duration": 1565,
    "start_time": "2023-04-21T14:16:07.671Z"
   },
   {
    "duration": 3,
    "start_time": "2023-04-21T14:16:47.988Z"
   },
   {
    "duration": 5,
    "start_time": "2023-04-21T14:16:53.342Z"
   },
   {
    "duration": 5,
    "start_time": "2023-04-21T14:17:04.558Z"
   },
   {
    "duration": 90,
    "start_time": "2023-04-21T14:17:06.010Z"
   },
   {
    "duration": 2,
    "start_time": "2023-04-21T14:17:11.246Z"
   },
   {
    "duration": 5,
    "start_time": "2023-04-21T14:17:12.080Z"
   },
   {
    "duration": 93,
    "start_time": "2023-04-21T14:17:14.280Z"
   },
   {
    "duration": 4,
    "start_time": "2023-04-21T14:17:15.014Z"
   },
   {
    "duration": 169,
    "start_time": "2023-04-21T14:17:16.940Z"
   },
   {
    "duration": 4,
    "start_time": "2023-04-21T14:17:17.551Z"
   },
   {
    "duration": 2,
    "start_time": "2023-04-21T14:17:19.080Z"
   },
   {
    "duration": 4,
    "start_time": "2023-04-21T14:17:19.789Z"
   },
   {
    "duration": 5,
    "start_time": "2023-04-21T14:17:24.071Z"
   },
   {
    "duration": 2,
    "start_time": "2023-04-21T14:17:41.204Z"
   },
   {
    "duration": 4,
    "start_time": "2023-04-21T14:17:42.704Z"
   },
   {
    "duration": 6,
    "start_time": "2023-04-21T14:17:44.320Z"
   },
   {
    "duration": 3,
    "start_time": "2023-04-21T14:17:46.599Z"
   },
   {
    "duration": 2,
    "start_time": "2023-04-21T14:17:49.521Z"
   },
   {
    "duration": 3,
    "start_time": "2023-04-21T14:17:58.154Z"
   },
   {
    "duration": 5,
    "start_time": "2023-04-21T14:18:14.299Z"
   },
   {
    "duration": 91,
    "start_time": "2023-04-21T14:18:16.431Z"
   },
   {
    "duration": 2,
    "start_time": "2023-04-21T14:18:17.463Z"
   },
   {
    "duration": 3,
    "start_time": "2023-04-21T14:18:18.108Z"
   },
   {
    "duration": 3,
    "start_time": "2023-04-21T14:18:21.195Z"
   },
   {
    "duration": 4,
    "start_time": "2023-04-21T14:18:22.798Z"
   },
   {
    "duration": 6,
    "start_time": "2023-04-21T14:18:22.804Z"
   },
   {
    "duration": 4,
    "start_time": "2023-04-21T14:18:22.812Z"
   },
   {
    "duration": 4,
    "start_time": "2023-04-21T14:18:27.414Z"
   },
   {
    "duration": 10,
    "start_time": "2023-04-21T14:18:31.460Z"
   },
   {
    "duration": 3,
    "start_time": "2023-04-21T14:18:47.652Z"
   },
   {
    "duration": 4,
    "start_time": "2023-04-21T14:18:52.281Z"
   },
   {
    "duration": 3,
    "start_time": "2023-04-21T14:18:55.513Z"
   },
   {
    "duration": 3,
    "start_time": "2023-04-21T14:18:57.792Z"
   },
   {
    "duration": 4,
    "start_time": "2023-04-21T14:18:59.435Z"
   },
   {
    "duration": 4,
    "start_time": "2023-04-21T14:19:01.079Z"
   },
   {
    "duration": 3,
    "start_time": "2023-04-21T14:19:02.740Z"
   },
   {
    "duration": 3,
    "start_time": "2023-04-21T14:19:11.211Z"
   },
   {
    "duration": 4,
    "start_time": "2023-04-21T14:19:12.337Z"
   },
   {
    "duration": 7,
    "start_time": "2023-04-21T14:19:12.343Z"
   },
   {
    "duration": 6,
    "start_time": "2023-04-21T14:19:12.352Z"
   },
   {
    "duration": 2,
    "start_time": "2023-04-21T14:19:20.155Z"
   },
   {
    "duration": 3,
    "start_time": "2023-04-21T14:19:22.312Z"
   },
   {
    "duration": 3,
    "start_time": "2023-04-21T14:19:23.446Z"
   },
   {
    "duration": 3,
    "start_time": "2023-04-21T14:19:27.207Z"
   },
   {
    "duration": 2,
    "start_time": "2023-04-21T14:19:29.530Z"
   },
   {
    "duration": 3,
    "start_time": "2023-04-21T14:19:32.923Z"
   },
   {
    "duration": 5,
    "start_time": "2023-04-21T14:19:34.068Z"
   },
   {
    "duration": 3,
    "start_time": "2023-04-21T14:19:38.911Z"
   },
   {
    "duration": 3,
    "start_time": "2023-04-21T14:19:39.829Z"
   },
   {
    "duration": 4,
    "start_time": "2023-04-21T14:19:48.847Z"
   },
   {
    "duration": 3,
    "start_time": "2023-04-21T14:19:50.536Z"
   },
   {
    "duration": 4,
    "start_time": "2023-04-21T14:19:51.603Z"
   },
   {
    "duration": 3,
    "start_time": "2023-04-21T14:20:06.722Z"
   },
   {
    "duration": 4,
    "start_time": "2023-04-21T14:20:07.602Z"
   },
   {
    "duration": 4,
    "start_time": "2023-04-21T14:20:09.833Z"
   },
   {
    "duration": 4,
    "start_time": "2023-04-21T14:20:17.570Z"
   },
   {
    "duration": 8,
    "start_time": "2023-04-21T14:20:18.642Z"
   },
   {
    "duration": 4,
    "start_time": "2023-04-21T14:20:47.863Z"
   },
   {
    "duration": 4,
    "start_time": "2023-04-21T14:20:48.931Z"
   },
   {
    "duration": 3,
    "start_time": "2023-04-21T14:20:55.331Z"
   },
   {
    "duration": 3,
    "start_time": "2023-04-21T14:20:56.357Z"
   },
   {
    "duration": 3,
    "start_time": "2023-04-21T14:20:58.209Z"
   },
   {
    "duration": 4,
    "start_time": "2023-04-21T14:20:58.939Z"
   },
   {
    "duration": 79,
    "start_time": "2023-04-21T14:21:08.623Z"
   },
   {
    "duration": 2,
    "start_time": "2023-04-21T14:21:09.366Z"
   },
   {
    "duration": 4,
    "start_time": "2023-04-21T14:21:10.112Z"
   },
   {
    "duration": 3,
    "start_time": "2023-04-21T14:21:12.242Z"
   },
   {
    "duration": 2,
    "start_time": "2023-04-21T14:21:17.058Z"
   },
   {
    "duration": 4,
    "start_time": "2023-04-21T14:21:19.002Z"
   },
   {
    "duration": 2,
    "start_time": "2023-04-21T14:21:22.425Z"
   },
   {
    "duration": 4,
    "start_time": "2023-04-21T14:21:23.393Z"
   },
   {
    "duration": 4,
    "start_time": "2023-04-21T14:21:24.517Z"
   },
   {
    "duration": 5,
    "start_time": "2023-04-21T14:21:24.523Z"
   },
   {
    "duration": 3,
    "start_time": "2023-04-21T14:21:24.530Z"
   },
   {
    "duration": 10,
    "start_time": "2023-04-21T14:21:33.411Z"
   },
   {
    "duration": 2,
    "start_time": "2023-04-21T14:21:40.932Z"
   },
   {
    "duration": 2,
    "start_time": "2023-04-21T14:21:43.186Z"
   },
   {
    "duration": 4,
    "start_time": "2023-04-21T14:21:44.794Z"
   },
   {
    "duration": 2,
    "start_time": "2023-04-21T14:21:48.358Z"
   },
   {
    "duration": 4,
    "start_time": "2023-04-21T14:21:49.820Z"
   },
   {
    "duration": 4,
    "start_time": "2023-04-21T14:21:50.642Z"
   },
   {
    "duration": 3,
    "start_time": "2023-04-21T14:22:32.121Z"
   },
   {
    "duration": 660,
    "start_time": "2023-04-21T14:22:32.126Z"
   },
   {
    "duration": 16,
    "start_time": "2023-04-21T14:22:32.788Z"
   },
   {
    "duration": 115,
    "start_time": "2023-04-21T14:22:32.806Z"
   },
   {
    "duration": 72,
    "start_time": "2023-04-21T14:22:32.923Z"
   },
   {
    "duration": 99,
    "start_time": "2023-04-21T14:22:32.996Z"
   },
   {
    "duration": 109,
    "start_time": "2023-04-21T14:22:33.097Z"
   },
   {
    "duration": 4,
    "start_time": "2023-04-21T14:22:33.207Z"
   },
   {
    "duration": 5,
    "start_time": "2023-04-21T14:22:33.212Z"
   },
   {
    "duration": 56,
    "start_time": "2023-04-21T14:22:33.219Z"
   },
   {
    "duration": 86,
    "start_time": "2023-04-21T14:22:33.276Z"
   },
   {
    "duration": 85,
    "start_time": "2023-04-21T14:22:33.363Z"
   },
   {
    "duration": 4,
    "start_time": "2023-04-21T14:22:33.450Z"
   },
   {
    "duration": 326,
    "start_time": "2023-04-21T14:22:33.455Z"
   },
   {
    "duration": 353,
    "start_time": "2023-04-21T14:22:40.075Z"
   },
   {
    "duration": 73,
    "start_time": "2023-04-21T14:22:42.395Z"
   },
   {
    "duration": 4,
    "start_time": "2023-04-21T14:22:48.104Z"
   },
   {
    "duration": 4,
    "start_time": "2023-04-21T14:22:48.599Z"
   },
   {
    "duration": 4,
    "start_time": "2023-04-21T14:22:49.072Z"
   },
   {
    "duration": 17,
    "start_time": "2023-04-21T14:22:51.281Z"
   },
   {
    "duration": 1168,
    "start_time": "2023-04-21T14:24:20.461Z"
   },
   {
    "duration": 725,
    "start_time": "2023-04-21T14:24:21.631Z"
   },
   {
    "duration": 20,
    "start_time": "2023-04-21T14:24:22.357Z"
   },
   {
    "duration": 121,
    "start_time": "2023-04-21T14:24:22.378Z"
   },
   {
    "duration": 96,
    "start_time": "2023-04-21T14:24:22.501Z"
   },
   {
    "duration": 100,
    "start_time": "2023-04-21T14:24:22.598Z"
   },
   {
    "duration": 94,
    "start_time": "2023-04-21T14:24:22.700Z"
   },
   {
    "duration": 3,
    "start_time": "2023-04-21T14:24:22.796Z"
   },
   {
    "duration": 4,
    "start_time": "2023-04-21T14:24:22.800Z"
   },
   {
    "duration": 90,
    "start_time": "2023-04-21T14:24:22.805Z"
   },
   {
    "duration": 119,
    "start_time": "2023-04-21T14:24:22.897Z"
   },
   {
    "duration": 89,
    "start_time": "2023-04-21T14:24:23.018Z"
   },
   {
    "duration": 4,
    "start_time": "2023-04-21T14:24:23.108Z"
   },
   {
    "duration": 339,
    "start_time": "2023-04-21T14:24:23.115Z"
   },
   {
    "duration": 365,
    "start_time": "2023-04-21T14:24:23.457Z"
   },
   {
    "duration": 0,
    "start_time": "2023-04-21T14:24:23.823Z"
   },
   {
    "duration": 0,
    "start_time": "2023-04-21T14:24:23.825Z"
   },
   {
    "duration": 0,
    "start_time": "2023-04-21T14:24:23.826Z"
   },
   {
    "duration": 0,
    "start_time": "2023-04-21T14:24:23.827Z"
   },
   {
    "duration": 71,
    "start_time": "2023-04-21T14:25:06.421Z"
   },
   {
    "duration": 316,
    "start_time": "2023-04-21T14:25:11.344Z"
   },
   {
    "duration": 4,
    "start_time": "2023-04-21T14:25:13.353Z"
   },
   {
    "duration": 4,
    "start_time": "2023-04-21T14:25:13.680Z"
   },
   {
    "duration": 5,
    "start_time": "2023-04-21T14:25:14.021Z"
   },
   {
    "duration": 26543,
    "start_time": "2023-04-21T14:25:21.659Z"
   },
   {
    "duration": 68,
    "start_time": "2023-04-21T14:25:54.510Z"
   },
   {
    "duration": 27,
    "start_time": "2023-04-21T14:26:29.681Z"
   },
   {
    "duration": 1115,
    "start_time": "2023-04-21T14:31:50.498Z"
   },
   {
    "duration": 733,
    "start_time": "2023-04-21T14:31:51.615Z"
   },
   {
    "duration": 18,
    "start_time": "2023-04-21T14:31:52.350Z"
   },
   {
    "duration": 126,
    "start_time": "2023-04-21T14:31:52.370Z"
   },
   {
    "duration": 87,
    "start_time": "2023-04-21T14:31:52.498Z"
   },
   {
    "duration": 109,
    "start_time": "2023-04-21T14:31:52.586Z"
   },
   {
    "duration": 98,
    "start_time": "2023-04-21T14:31:52.696Z"
   },
   {
    "duration": 4,
    "start_time": "2023-04-21T14:31:52.795Z"
   },
   {
    "duration": 5,
    "start_time": "2023-04-21T14:31:52.800Z"
   },
   {
    "duration": 94,
    "start_time": "2023-04-21T14:31:52.807Z"
   },
   {
    "duration": 127,
    "start_time": "2023-04-21T14:31:52.903Z"
   },
   {
    "duration": 94,
    "start_time": "2023-04-21T14:31:53.032Z"
   },
   {
    "duration": 3,
    "start_time": "2023-04-21T14:31:53.128Z"
   },
   {
    "duration": 342,
    "start_time": "2023-04-21T14:31:53.133Z"
   },
   {
    "duration": 78,
    "start_time": "2023-04-21T14:31:53.476Z"
   },
   {
    "duration": 310,
    "start_time": "2023-04-21T14:31:53.555Z"
   },
   {
    "duration": 4,
    "start_time": "2023-04-21T14:31:53.866Z"
   },
   {
    "duration": 13,
    "start_time": "2023-04-21T14:31:53.871Z"
   },
   {
    "duration": 9,
    "start_time": "2023-04-21T14:31:53.885Z"
   },
   {
    "duration": 2999,
    "start_time": "2023-04-21T14:32:01.738Z"
   },
   {
    "duration": 8557,
    "start_time": "2023-04-21T14:32:18.765Z"
   },
   {
    "duration": 914,
    "start_time": "2023-04-21T14:32:33.898Z"
   },
   {
    "duration": 156,
    "start_time": "2023-04-21T14:33:34.829Z"
   },
   {
    "duration": 113,
    "start_time": "2023-04-21T14:33:38.796Z"
   },
   {
    "duration": 4,
    "start_time": "2023-04-21T14:33:40.772Z"
   },
   {
    "duration": 4,
    "start_time": "2023-04-21T14:33:43.634Z"
   },
   {
    "duration": 3,
    "start_time": "2023-04-21T14:33:45.053Z"
   },
   {
    "duration": 1850,
    "start_time": "2023-04-21T14:33:54.177Z"
   },
   {
    "duration": 1865,
    "start_time": "2023-04-21T14:34:10.382Z"
   },
   {
    "duration": 4,
    "start_time": "2023-04-21T14:34:21.969Z"
   },
   {
    "duration": 710,
    "start_time": "2023-04-21T14:34:21.976Z"
   },
   {
    "duration": 17,
    "start_time": "2023-04-21T14:34:22.687Z"
   },
   {
    "duration": 109,
    "start_time": "2023-04-21T14:34:22.706Z"
   },
   {
    "duration": 77,
    "start_time": "2023-04-21T14:34:22.818Z"
   },
   {
    "duration": 100,
    "start_time": "2023-04-21T14:34:22.897Z"
   },
   {
    "duration": 104,
    "start_time": "2023-04-21T14:34:22.999Z"
   },
   {
    "duration": 6,
    "start_time": "2023-04-21T14:34:23.104Z"
   },
   {
    "duration": 4,
    "start_time": "2023-04-21T14:34:23.111Z"
   },
   {
    "duration": 56,
    "start_time": "2023-04-21T14:34:23.117Z"
   },
   {
    "duration": 107,
    "start_time": "2023-04-21T14:34:23.175Z"
   },
   {
    "duration": 110,
    "start_time": "2023-04-21T14:34:23.284Z"
   },
   {
    "duration": 5,
    "start_time": "2023-04-21T14:34:23.396Z"
   },
   {
    "duration": 186,
    "start_time": "2023-04-21T14:34:23.403Z"
   },
   {
    "duration": 121,
    "start_time": "2023-04-21T14:34:23.591Z"
   },
   {
    "duration": 5,
    "start_time": "2023-04-21T14:34:23.713Z"
   },
   {
    "duration": 9,
    "start_time": "2023-04-21T14:34:23.720Z"
   },
   {
    "duration": 11,
    "start_time": "2023-04-21T14:34:23.731Z"
   },
   {
    "duration": 1848,
    "start_time": "2023-04-21T14:34:25.929Z"
   },
   {
    "duration": 88,
    "start_time": "2023-04-21T14:35:23.809Z"
   },
   {
    "duration": 79,
    "start_time": "2023-04-21T14:35:28.072Z"
   },
   {
    "duration": 173,
    "start_time": "2023-04-21T14:35:48.705Z"
   },
   {
    "duration": 56,
    "start_time": "2023-04-21T14:35:50.973Z"
   },
   {
    "duration": 5,
    "start_time": "2023-04-21T14:35:51.381Z"
   },
   {
    "duration": 4,
    "start_time": "2023-04-21T14:35:51.934Z"
   },
   {
    "duration": 4,
    "start_time": "2023-04-21T14:35:52.342Z"
   },
   {
    "duration": 204909,
    "start_time": "2023-04-21T14:35:55.530Z"
   },
   {
    "duration": 56,
    "start_time": "2023-04-21T14:39:30.300Z"
   },
   {
    "duration": 13,
    "start_time": "2023-04-21T14:40:58.235Z"
   },
   {
    "duration": 68922,
    "start_time": "2023-04-21T14:41:32.403Z"
   },
   {
    "duration": 51,
    "start_time": "2023-04-21T14:43:37.744Z"
   },
   {
    "duration": 61,
    "start_time": "2023-04-21T14:43:40.820Z"
   },
   {
    "duration": 4,
    "start_time": "2023-04-21T14:44:06.810Z"
   },
   {
    "duration": 41,
    "start_time": "2023-04-21T14:44:20.871Z"
   },
   {
    "duration": 43,
    "start_time": "2023-04-21T14:44:32.179Z"
   },
   {
    "duration": 49,
    "start_time": "2023-04-21T14:44:49.004Z"
   },
   {
    "duration": 8,
    "start_time": "2023-04-21T14:45:08.527Z"
   },
   {
    "duration": 50,
    "start_time": "2023-04-21T14:45:14.502Z"
   },
   {
    "duration": 43,
    "start_time": "2023-04-21T14:45:19.151Z"
   },
   {
    "duration": 37,
    "start_time": "2023-04-21T14:45:26.638Z"
   },
   {
    "duration": 80,
    "start_time": "2023-04-21T14:46:18.472Z"
   },
   {
    "duration": 44,
    "start_time": "2023-04-21T14:46:31.476Z"
   },
   {
    "duration": 43,
    "start_time": "2023-04-21T14:46:40.810Z"
   },
   {
    "duration": 46,
    "start_time": "2023-04-21T14:46:58.518Z"
   },
   {
    "duration": 47,
    "start_time": "2023-04-21T14:47:01.723Z"
   },
   {
    "duration": 6,
    "start_time": "2023-04-21T14:47:14.474Z"
   },
   {
    "duration": 6,
    "start_time": "2023-04-21T14:47:25.332Z"
   },
   {
    "duration": 1022,
    "start_time": "2023-04-21T14:47:56.905Z"
   },
   {
    "duration": 59,
    "start_time": "2023-04-21T14:48:21.960Z"
   },
   {
    "duration": 42,
    "start_time": "2023-04-21T14:48:34.669Z"
   },
   {
    "duration": 37,
    "start_time": "2023-04-21T14:48:49.759Z"
   },
   {
    "duration": 49,
    "start_time": "2023-04-21T14:49:12.940Z"
   },
   {
    "duration": 39,
    "start_time": "2023-04-21T14:49:19.919Z"
   },
   {
    "duration": 73,
    "start_time": "2023-04-21T14:49:35.932Z"
   },
   {
    "duration": 75,
    "start_time": "2023-04-21T14:49:59.742Z"
   },
   {
    "duration": 36,
    "start_time": "2023-04-21T14:50:30.610Z"
   },
   {
    "duration": 4,
    "start_time": "2023-04-21T14:50:35.927Z"
   },
   {
    "duration": 10,
    "start_time": "2023-04-21T14:50:54.301Z"
   },
   {
    "duration": 8,
    "start_time": "2023-04-21T14:51:27.915Z"
   },
   {
    "duration": 10,
    "start_time": "2023-04-21T14:51:31.452Z"
   },
   {
    "duration": 10,
    "start_time": "2023-04-21T14:51:38.777Z"
   },
   {
    "duration": 31,
    "start_time": "2023-04-21T14:52:53.953Z"
   },
   {
    "duration": 121,
    "start_time": "2023-04-21T14:53:31.430Z"
   },
   {
    "duration": 19,
    "start_time": "2023-04-21T14:53:51.422Z"
   },
   {
    "duration": 5,
    "start_time": "2023-04-21T14:53:58.629Z"
   },
   {
    "duration": 39,
    "start_time": "2023-04-21T14:54:22.316Z"
   },
   {
    "duration": 57,
    "start_time": "2023-04-21T14:55:52.489Z"
   },
   {
    "duration": 39,
    "start_time": "2023-04-21T14:56:37.839Z"
   },
   {
    "duration": 39,
    "start_time": "2023-04-21T14:56:46.470Z"
   },
   {
    "duration": 53,
    "start_time": "2023-04-21T14:57:10.248Z"
   },
   {
    "duration": 43,
    "start_time": "2023-04-21T14:57:13.385Z"
   },
   {
    "duration": 74,
    "start_time": "2023-04-21T14:57:31.042Z"
   },
   {
    "duration": 18,
    "start_time": "2023-04-21T14:57:41.689Z"
   },
   {
    "duration": 8,
    "start_time": "2023-04-21T14:59:25.198Z"
   },
   {
    "duration": 39,
    "start_time": "2023-04-21T14:59:29.228Z"
   },
   {
    "duration": 21,
    "start_time": "2023-04-21T14:59:50.002Z"
   },
   {
    "duration": 83,
    "start_time": "2023-04-21T15:00:12.059Z"
   },
   {
    "duration": 16,
    "start_time": "2023-04-21T15:01:36.438Z"
   },
   {
    "duration": 42,
    "start_time": "2023-04-21T15:01:48.955Z"
   },
   {
    "duration": 5,
    "start_time": "2023-04-21T15:03:57.868Z"
   },
   {
    "duration": 38,
    "start_time": "2023-04-21T15:04:04.837Z"
   },
   {
    "duration": 4,
    "start_time": "2023-04-21T15:04:10.386Z"
   },
   {
    "duration": 200,
    "start_time": "2023-04-21T15:04:28.471Z"
   },
   {
    "duration": 6,
    "start_time": "2023-04-21T15:04:31.147Z"
   },
   {
    "duration": 47,
    "start_time": "2023-04-21T15:04:33.660Z"
   },
   {
    "duration": 45,
    "start_time": "2023-04-21T15:04:57.445Z"
   },
   {
    "duration": 43,
    "start_time": "2023-04-21T15:05:12.060Z"
   },
   {
    "duration": 43,
    "start_time": "2023-04-21T15:05:20.015Z"
   },
   {
    "duration": 9,
    "start_time": "2023-04-21T15:05:23.748Z"
   },
   {
    "duration": 41,
    "start_time": "2023-04-21T15:05:44.775Z"
   },
   {
    "duration": 4,
    "start_time": "2023-04-21T15:05:45.861Z"
   },
   {
    "duration": 64,
    "start_time": "2023-04-21T15:05:55.520Z"
   },
   {
    "duration": 4,
    "start_time": "2023-04-21T15:05:57.028Z"
   },
   {
    "duration": 215,
    "start_time": "2023-04-21T15:06:27.022Z"
   },
   {
    "duration": 5,
    "start_time": "2023-04-21T15:06:35.790Z"
   },
   {
    "duration": 42,
    "start_time": "2023-04-21T15:06:37.023Z"
   },
   {
    "duration": 3,
    "start_time": "2023-04-21T15:06:37.865Z"
   },
   {
    "duration": 202,
    "start_time": "2023-04-21T15:06:58.351Z"
   },
   {
    "duration": 52,
    "start_time": "2023-04-21T15:07:04.114Z"
   },
   {
    "duration": 43,
    "start_time": "2023-04-21T15:07:06.311Z"
   },
   {
    "duration": 5,
    "start_time": "2023-04-21T15:07:25.463Z"
   },
   {
    "duration": 5,
    "start_time": "2023-04-21T15:07:29.608Z"
   },
   {
    "duration": 63,
    "start_time": "2023-04-21T15:07:31.335Z"
   },
   {
    "duration": 43,
    "start_time": "2023-04-21T15:07:44.966Z"
   },
   {
    "duration": 61,
    "start_time": "2023-04-21T15:08:39.635Z"
   },
   {
    "duration": 87,
    "start_time": "2023-04-21T15:09:00.306Z"
   },
   {
    "duration": 43,
    "start_time": "2023-04-21T15:11:23.575Z"
   },
   {
    "duration": 44,
    "start_time": "2023-04-21T15:11:50.322Z"
   },
   {
    "duration": 23,
    "start_time": "2023-04-21T15:14:04.128Z"
   },
   {
    "duration": 85,
    "start_time": "2023-04-21T15:14:16.401Z"
   },
   {
    "duration": 61,
    "start_time": "2023-04-21T15:14:23.882Z"
   },
   {
    "duration": 10,
    "start_time": "2023-04-21T15:17:41.708Z"
   },
   {
    "duration": 48,
    "start_time": "2023-04-21T15:18:31.252Z"
   },
   {
    "duration": 3,
    "start_time": "2023-04-21T15:19:29.747Z"
   },
   {
    "duration": 3,
    "start_time": "2023-04-21T15:19:32.023Z"
   },
   {
    "duration": 41,
    "start_time": "2023-04-21T15:19:48.648Z"
   },
   {
    "duration": 47,
    "start_time": "2023-04-21T15:20:00.156Z"
   },
   {
    "duration": 40,
    "start_time": "2023-04-21T15:20:06.537Z"
   },
   {
    "duration": 42,
    "start_time": "2023-04-21T15:20:30.720Z"
   },
   {
    "duration": 40,
    "start_time": "2023-04-21T15:20:38.909Z"
   },
   {
    "duration": 42,
    "start_time": "2023-04-21T15:20:49.518Z"
   },
   {
    "duration": 39,
    "start_time": "2023-04-21T15:20:59.453Z"
   },
   {
    "duration": 10,
    "start_time": "2023-04-21T15:21:27.824Z"
   },
   {
    "duration": 3,
    "start_time": "2023-04-21T15:21:30.249Z"
   },
   {
    "duration": 4,
    "start_time": "2023-04-21T15:21:33.717Z"
   },
   {
    "duration": 37,
    "start_time": "2023-04-21T15:21:55.220Z"
   },
   {
    "duration": 3336,
    "start_time": "2023-04-21T15:22:37.211Z"
   },
   {
    "duration": 43,
    "start_time": "2023-04-21T15:26:07.318Z"
   },
   {
    "duration": 55,
    "start_time": "2023-04-21T15:26:09.054Z"
   },
   {
    "duration": 40,
    "start_time": "2023-04-21T15:26:18.420Z"
   },
   {
    "duration": 62,
    "start_time": "2023-04-21T15:27:14.972Z"
   },
   {
    "duration": 56,
    "start_time": "2023-04-21T15:27:31.929Z"
   },
   {
    "duration": 46,
    "start_time": "2023-04-21T15:28:18.411Z"
   },
   {
    "duration": 51,
    "start_time": "2023-04-21T15:28:32.815Z"
   },
   {
    "duration": 49,
    "start_time": "2023-04-21T15:28:39.920Z"
   },
   {
    "duration": 3461,
    "start_time": "2023-04-21T15:28:46.269Z"
   },
   {
    "duration": 4,
    "start_time": "2023-04-21T15:29:09.985Z"
   },
   {
    "duration": 45,
    "start_time": "2023-04-21T15:29:20.555Z"
   },
   {
    "duration": 60,
    "start_time": "2023-04-21T15:30:05.661Z"
   },
   {
    "duration": 83,
    "start_time": "2023-04-21T15:30:17.873Z"
   },
   {
    "duration": 32550,
    "start_time": "2023-04-21T15:30:47.230Z"
   },
   {
    "duration": 7,
    "start_time": "2023-04-21T15:31:30.215Z"
   },
   {
    "duration": 4,
    "start_time": "2023-04-21T15:31:35.724Z"
   },
   {
    "duration": 3,
    "start_time": "2023-04-21T15:31:39.520Z"
   },
   {
    "duration": 4,
    "start_time": "2023-04-21T15:31:42.276Z"
   },
   {
    "duration": 5,
    "start_time": "2023-04-21T15:31:47.075Z"
   },
   {
    "duration": 13,
    "start_time": "2023-04-21T15:31:58.122Z"
   },
   {
    "duration": 16,
    "start_time": "2023-04-21T15:32:13.873Z"
   },
   {
    "duration": 8,
    "start_time": "2023-04-21T15:34:09.508Z"
   },
   {
    "duration": 28,
    "start_time": "2023-04-21T15:37:04.703Z"
   },
   {
    "duration": 58,
    "start_time": "2023-04-21T15:37:32.011Z"
   },
   {
    "duration": 29,
    "start_time": "2023-04-21T15:37:35.031Z"
   },
   {
    "duration": 28,
    "start_time": "2023-04-21T15:39:34.920Z"
   },
   {
    "duration": 17,
    "start_time": "2023-04-21T15:40:41.356Z"
   },
   {
    "duration": 5,
    "start_time": "2023-04-21T15:41:09.844Z"
   },
   {
    "duration": 803,
    "start_time": "2023-04-21T15:41:09.852Z"
   },
   {
    "duration": 14,
    "start_time": "2023-04-21T15:41:10.656Z"
   },
   {
    "duration": 140,
    "start_time": "2023-04-21T15:41:10.671Z"
   },
   {
    "duration": 85,
    "start_time": "2023-04-21T15:41:10.813Z"
   },
   {
    "duration": 111,
    "start_time": "2023-04-21T15:41:10.900Z"
   },
   {
    "duration": 132,
    "start_time": "2023-04-21T15:41:11.012Z"
   },
   {
    "duration": 4,
    "start_time": "2023-04-21T15:41:11.147Z"
   },
   {
    "duration": 3,
    "start_time": "2023-04-21T15:41:11.153Z"
   },
   {
    "duration": 93,
    "start_time": "2023-04-21T15:41:11.158Z"
   },
   {
    "duration": 111,
    "start_time": "2023-04-21T15:41:11.253Z"
   },
   {
    "duration": 141,
    "start_time": "2023-04-21T15:41:11.365Z"
   },
   {
    "duration": 5,
    "start_time": "2023-04-21T15:41:11.508Z"
   },
   {
    "duration": 236,
    "start_time": "2023-04-21T15:41:11.517Z"
   },
   {
    "duration": 65,
    "start_time": "2023-04-21T15:41:11.755Z"
   },
   {
    "duration": 6,
    "start_time": "2023-04-21T15:41:11.830Z"
   },
   {
    "duration": 12,
    "start_time": "2023-04-21T15:41:11.838Z"
   },
   {
    "duration": 10,
    "start_time": "2023-04-21T15:41:11.851Z"
   },
   {
    "duration": 76362,
    "start_time": "2023-04-21T15:41:11.862Z"
   },
   {
    "duration": 75,
    "start_time": "2023-04-21T15:42:28.231Z"
   },
   {
    "duration": 33135,
    "start_time": "2023-04-21T15:42:28.309Z"
   },
   {
    "duration": 194,
    "start_time": "2023-04-21T15:43:01.446Z"
   },
   {
    "duration": 71,
    "start_time": "2023-04-21T15:43:01.641Z"
   },
   {
    "duration": 14,
    "start_time": "2023-04-21T15:43:01.714Z"
   },
   {
    "duration": 26,
    "start_time": "2023-04-21T15:43:01.729Z"
   },
   {
    "duration": 34,
    "start_time": "2023-04-21T15:43:01.756Z"
   },
   {
    "duration": 7390,
    "start_time": "2023-04-21T15:43:01.792Z"
   },
   {
    "duration": 142,
    "start_time": "2023-04-21T15:43:09.184Z"
   },
   {
    "duration": 21380,
    "start_time": "2023-04-21T15:43:09.328Z"
   },
   {
    "duration": 202,
    "start_time": "2023-04-21T15:43:30.710Z"
   },
   {
    "duration": 57,
    "start_time": "2023-04-21T15:43:30.915Z"
   },
   {
    "duration": 3,
    "start_time": "2023-04-21T15:43:30.974Z"
   },
   {
    "duration": 18,
    "start_time": "2023-04-21T15:43:30.979Z"
   },
   {
    "duration": 24,
    "start_time": "2023-04-21T15:43:31.002Z"
   },
   {
    "duration": 46,
    "start_time": "2023-04-21T15:47:17.834Z"
   },
   {
    "duration": 12,
    "start_time": "2023-04-21T15:47:21.421Z"
   },
   {
    "duration": 1070,
    "start_time": "2023-04-21T15:48:22.164Z"
   },
   {
    "duration": 3022,
    "start_time": "2023-04-21T15:48:23.236Z"
   },
   {
    "duration": 18,
    "start_time": "2023-04-21T15:48:26.260Z"
   },
   {
    "duration": 125,
    "start_time": "2023-04-21T15:48:26.280Z"
   },
   {
    "duration": 92,
    "start_time": "2023-04-21T15:48:26.407Z"
   },
   {
    "duration": 105,
    "start_time": "2023-04-21T15:48:26.505Z"
   },
   {
    "duration": 90,
    "start_time": "2023-04-21T15:48:26.612Z"
   },
   {
    "duration": 10,
    "start_time": "2023-04-21T15:48:26.704Z"
   },
   {
    "duration": 9,
    "start_time": "2023-04-21T15:48:26.715Z"
   },
   {
    "duration": 95,
    "start_time": "2023-04-21T15:48:26.726Z"
   },
   {
    "duration": 132,
    "start_time": "2023-04-21T15:48:26.823Z"
   },
   {
    "duration": 93,
    "start_time": "2023-04-21T15:48:26.957Z"
   },
   {
    "duration": 4,
    "start_time": "2023-04-21T15:48:27.051Z"
   },
   {
    "duration": 211,
    "start_time": "2023-04-21T15:48:27.056Z"
   },
   {
    "duration": 60,
    "start_time": "2023-04-21T15:48:27.269Z"
   },
   {
    "duration": 4,
    "start_time": "2023-04-21T15:48:27.330Z"
   },
   {
    "duration": 9,
    "start_time": "2023-04-21T15:48:27.335Z"
   },
   {
    "duration": 5,
    "start_time": "2023-04-21T15:48:27.345Z"
   },
   {
    "duration": 36560,
    "start_time": "2023-04-21T15:48:27.352Z"
   },
   {
    "duration": 62,
    "start_time": "2023-04-21T15:49:03.914Z"
   },
   {
    "duration": 30533,
    "start_time": "2023-04-21T15:49:03.978Z"
   },
   {
    "duration": 171,
    "start_time": "2023-04-21T15:49:34.512Z"
   },
   {
    "duration": 59,
    "start_time": "2023-04-21T15:49:34.684Z"
   },
   {
    "duration": 3,
    "start_time": "2023-04-21T15:49:34.745Z"
   },
   {
    "duration": 16,
    "start_time": "2023-04-21T15:49:34.750Z"
   },
   {
    "duration": 17,
    "start_time": "2023-04-21T15:49:34.768Z"
   },
   {
    "duration": 3620,
    "start_time": "2023-04-21T15:49:34.787Z"
   },
   {
    "duration": 116,
    "start_time": "2023-04-21T15:49:38.414Z"
   },
   {
    "duration": 20882,
    "start_time": "2023-04-21T15:49:38.532Z"
   },
   {
    "duration": 178,
    "start_time": "2023-04-21T15:49:59.416Z"
   },
   {
    "duration": 58,
    "start_time": "2023-04-21T15:49:59.600Z"
   },
   {
    "duration": 4,
    "start_time": "2023-04-21T15:49:59.660Z"
   },
   {
    "duration": 6,
    "start_time": "2023-04-21T15:49:59.665Z"
   },
   {
    "duration": 5,
    "start_time": "2023-04-21T15:49:59.673Z"
   },
   {
    "duration": 1115,
    "start_time": "2023-04-21T15:53:41.855Z"
   },
   {
    "duration": 3074,
    "start_time": "2023-04-21T15:53:42.972Z"
   },
   {
    "duration": 22,
    "start_time": "2023-04-21T15:53:46.047Z"
   },
   {
    "duration": 135,
    "start_time": "2023-04-21T15:53:46.071Z"
   },
   {
    "duration": 101,
    "start_time": "2023-04-21T15:53:46.209Z"
   },
   {
    "duration": 106,
    "start_time": "2023-04-21T15:53:46.312Z"
   },
   {
    "duration": 103,
    "start_time": "2023-04-21T15:53:46.420Z"
   },
   {
    "duration": 4,
    "start_time": "2023-04-21T15:53:46.524Z"
   },
   {
    "duration": 6,
    "start_time": "2023-04-21T15:53:46.529Z"
   },
   {
    "duration": 95,
    "start_time": "2023-04-21T15:53:46.536Z"
   },
   {
    "duration": 122,
    "start_time": "2023-04-21T15:53:46.633Z"
   },
   {
    "duration": 94,
    "start_time": "2023-04-21T15:53:46.756Z"
   },
   {
    "duration": 3,
    "start_time": "2023-04-21T15:53:46.852Z"
   },
   {
    "duration": 208,
    "start_time": "2023-04-21T15:53:57.128Z"
   },
   {
    "duration": 62,
    "start_time": "2023-04-21T15:53:57.338Z"
   },
   {
    "duration": 4,
    "start_time": "2023-04-21T15:53:57.402Z"
   },
   {
    "duration": 4,
    "start_time": "2023-04-21T15:53:57.408Z"
   },
   {
    "duration": 12,
    "start_time": "2023-04-21T15:53:57.414Z"
   },
   {
    "duration": 46,
    "start_time": "2023-04-21T15:55:33.830Z"
   },
   {
    "duration": 1140,
    "start_time": "2023-04-21T15:55:51.143Z"
   },
   {
    "duration": 3065,
    "start_time": "2023-04-21T15:55:52.285Z"
   },
   {
    "duration": 18,
    "start_time": "2023-04-21T15:55:55.351Z"
   },
   {
    "duration": 128,
    "start_time": "2023-04-21T15:55:55.371Z"
   },
   {
    "duration": 96,
    "start_time": "2023-04-21T15:55:55.509Z"
   },
   {
    "duration": 103,
    "start_time": "2023-04-21T15:55:55.610Z"
   },
   {
    "duration": 101,
    "start_time": "2023-04-21T15:55:55.715Z"
   },
   {
    "duration": 4,
    "start_time": "2023-04-21T15:55:55.818Z"
   },
   {
    "duration": 3,
    "start_time": "2023-04-21T15:55:55.823Z"
   },
   {
    "duration": 87,
    "start_time": "2023-04-21T15:55:55.827Z"
   },
   {
    "duration": 134,
    "start_time": "2023-04-21T15:55:55.916Z"
   },
   {
    "duration": 115,
    "start_time": "2023-04-21T15:55:56.052Z"
   },
   {
    "duration": 3,
    "start_time": "2023-04-21T15:55:56.169Z"
   },
   {
    "duration": 18,
    "start_time": "2023-04-21T15:56:00.308Z"
   },
   {
    "duration": 13,
    "start_time": "2023-04-21T15:56:33.637Z"
   },
   {
    "duration": 12,
    "start_time": "2023-04-21T15:56:39.834Z"
   },
   {
    "duration": 16,
    "start_time": "2023-04-21T15:56:58.039Z"
   },
   {
    "duration": 21,
    "start_time": "2023-04-21T15:57:08.158Z"
   },
   {
    "duration": 14,
    "start_time": "2023-04-21T15:57:29.326Z"
   },
   {
    "duration": 61,
    "start_time": "2023-04-21T15:57:32.865Z"
   },
   {
    "duration": 12,
    "start_time": "2023-04-21T15:57:36.018Z"
   },
   {
    "duration": 20,
    "start_time": "2023-04-21T15:58:06.411Z"
   },
   {
    "duration": 18,
    "start_time": "2023-04-21T15:59:44.539Z"
   },
   {
    "duration": 17,
    "start_time": "2023-04-21T16:00:14.963Z"
   },
   {
    "duration": 17,
    "start_time": "2023-04-21T16:01:18.138Z"
   },
   {
    "duration": 22,
    "start_time": "2023-04-21T16:01:34.073Z"
   },
   {
    "duration": 1094,
    "start_time": "2023-04-21T16:02:02.331Z"
   },
   {
    "duration": 883,
    "start_time": "2023-04-21T16:02:03.427Z"
   },
   {
    "duration": 26,
    "start_time": "2023-04-21T16:02:04.314Z"
   },
   {
    "duration": 130,
    "start_time": "2023-04-21T16:02:04.343Z"
   },
   {
    "duration": 109,
    "start_time": "2023-04-21T16:02:04.474Z"
   },
   {
    "duration": 109,
    "start_time": "2023-04-21T16:02:04.600Z"
   },
   {
    "duration": 93,
    "start_time": "2023-04-21T16:02:04.712Z"
   },
   {
    "duration": 4,
    "start_time": "2023-04-21T16:02:04.807Z"
   },
   {
    "duration": 8,
    "start_time": "2023-04-21T16:02:04.813Z"
   },
   {
    "duration": 96,
    "start_time": "2023-04-21T16:02:04.824Z"
   },
   {
    "duration": 131,
    "start_time": "2023-04-21T16:02:04.921Z"
   },
   {
    "duration": 90,
    "start_time": "2023-04-21T16:02:05.054Z"
   },
   {
    "duration": 3,
    "start_time": "2023-04-21T16:02:05.146Z"
   },
   {
    "duration": 27,
    "start_time": "2023-04-21T16:02:05.151Z"
   },
   {
    "duration": 223,
    "start_time": "2023-04-21T16:02:05.180Z"
   },
   {
    "duration": 65,
    "start_time": "2023-04-21T16:02:05.409Z"
   },
   {
    "duration": 4,
    "start_time": "2023-04-21T16:02:05.476Z"
   },
   {
    "duration": 36,
    "start_time": "2023-04-21T16:02:05.481Z"
   },
   {
    "duration": 9,
    "start_time": "2023-04-21T16:02:05.518Z"
   },
   {
    "duration": 36730,
    "start_time": "2023-04-21T16:02:05.529Z"
   },
   {
    "duration": 61,
    "start_time": "2023-04-21T16:02:42.260Z"
   },
   {
    "duration": 30448,
    "start_time": "2023-04-21T16:02:42.322Z"
   },
   {
    "duration": 24,
    "start_time": "2023-04-21T16:03:12.771Z"
   },
   {
    "duration": 182,
    "start_time": "2023-04-21T16:03:12.800Z"
   },
   {
    "duration": 59,
    "start_time": "2023-04-21T16:03:12.984Z"
   },
   {
    "duration": 4,
    "start_time": "2023-04-21T16:03:13.045Z"
   },
   {
    "duration": 23,
    "start_time": "2023-04-21T16:03:13.050Z"
   },
   {
    "duration": 20,
    "start_time": "2023-04-21T16:03:13.077Z"
   },
   {
    "duration": 3874,
    "start_time": "2023-04-21T16:03:13.100Z"
   },
   {
    "duration": 125,
    "start_time": "2023-04-21T16:03:16.976Z"
   },
   {
    "duration": 9832,
    "start_time": "2023-04-21T16:03:17.108Z"
   },
   {
    "duration": 0,
    "start_time": "2023-04-21T16:03:26.942Z"
   },
   {
    "duration": 0,
    "start_time": "2023-04-21T16:03:26.943Z"
   },
   {
    "duration": 0,
    "start_time": "2023-04-21T16:03:26.944Z"
   },
   {
    "duration": 0,
    "start_time": "2023-04-21T16:03:26.945Z"
   },
   {
    "duration": 0,
    "start_time": "2023-04-21T16:03:26.946Z"
   },
   {
    "duration": 0,
    "start_time": "2023-04-21T16:03:26.947Z"
   },
   {
    "duration": 0,
    "start_time": "2023-04-21T16:03:26.948Z"
   },
   {
    "duration": 0,
    "start_time": "2023-04-21T16:03:26.949Z"
   },
   {
    "duration": 0,
    "start_time": "2023-04-21T16:03:26.951Z"
   },
   {
    "duration": 0,
    "start_time": "2023-04-21T16:03:26.951Z"
   },
   {
    "duration": 0,
    "start_time": "2023-04-21T16:03:26.953Z"
   },
   {
    "duration": 0,
    "start_time": "2023-04-21T16:03:26.954Z"
   },
   {
    "duration": 0,
    "start_time": "2023-04-21T16:03:26.955Z"
   },
   {
    "duration": 0,
    "start_time": "2023-04-21T16:03:26.956Z"
   },
   {
    "duration": 0,
    "start_time": "2023-04-21T16:03:26.957Z"
   },
   {
    "duration": 0,
    "start_time": "2023-04-21T16:03:26.958Z"
   },
   {
    "duration": 0,
    "start_time": "2023-04-21T16:03:26.960Z"
   },
   {
    "duration": 0,
    "start_time": "2023-04-21T16:03:26.960Z"
   },
   {
    "duration": 0,
    "start_time": "2023-04-21T16:03:26.961Z"
   },
   {
    "duration": 0,
    "start_time": "2023-04-21T16:03:26.998Z"
   },
   {
    "duration": 4,
    "start_time": "2023-04-21T16:03:47.827Z"
   },
   {
    "duration": 4,
    "start_time": "2023-04-21T16:03:58.761Z"
   },
   {
    "duration": 791,
    "start_time": "2023-04-21T16:04:34.113Z"
   },
   {
    "duration": 13,
    "start_time": "2023-04-21T16:04:49.392Z"
   },
   {
    "duration": 6,
    "start_time": "2023-04-21T16:05:28.553Z"
   },
   {
    "duration": 153,
    "start_time": "2023-04-21T16:06:23.925Z"
   },
   {
    "duration": 688,
    "start_time": "2023-04-21T16:06:29.705Z"
   },
   {
    "duration": 70,
    "start_time": "2023-04-21T16:06:42.081Z"
   },
   {
    "duration": 140,
    "start_time": "2023-04-21T16:06:43.895Z"
   },
   {
    "duration": 695,
    "start_time": "2023-04-21T16:07:41.416Z"
   },
   {
    "duration": 628,
    "start_time": "2023-04-21T16:07:59.013Z"
   },
   {
    "duration": 148,
    "start_time": "2023-04-21T16:08:14.426Z"
   },
   {
    "duration": 6,
    "start_time": "2023-04-21T16:09:01.763Z"
   },
   {
    "duration": 4,
    "start_time": "2023-04-21T16:09:13.333Z"
   },
   {
    "duration": 4,
    "start_time": "2023-04-21T16:09:54.339Z"
   },
   {
    "duration": 4,
    "start_time": "2023-04-21T16:10:01.840Z"
   },
   {
    "duration": 7,
    "start_time": "2023-04-21T16:10:23.182Z"
   },
   {
    "duration": 3,
    "start_time": "2023-04-21T16:10:41.808Z"
   },
   {
    "duration": 1115,
    "start_time": "2023-04-21T16:11:27.230Z"
   },
   {
    "duration": 818,
    "start_time": "2023-04-21T16:11:28.347Z"
   },
   {
    "duration": 39,
    "start_time": "2023-04-21T16:11:29.167Z"
   },
   {
    "duration": 144,
    "start_time": "2023-04-21T16:11:29.208Z"
   },
   {
    "duration": 159,
    "start_time": "2023-04-21T16:11:29.354Z"
   },
   {
    "duration": 115,
    "start_time": "2023-04-21T16:11:29.515Z"
   },
   {
    "duration": 109,
    "start_time": "2023-04-21T16:11:29.632Z"
   },
   {
    "duration": 4,
    "start_time": "2023-04-21T16:11:29.743Z"
   },
   {
    "duration": 4,
    "start_time": "2023-04-21T16:11:29.748Z"
   },
   {
    "duration": 107,
    "start_time": "2023-04-21T16:11:29.754Z"
   },
   {
    "duration": 143,
    "start_time": "2023-04-21T16:11:29.862Z"
   },
   {
    "duration": 95,
    "start_time": "2023-04-21T16:11:30.007Z"
   },
   {
    "duration": 8,
    "start_time": "2023-04-21T16:11:30.108Z"
   },
   {
    "duration": 26,
    "start_time": "2023-04-21T16:11:30.118Z"
   },
   {
    "duration": 241,
    "start_time": "2023-04-21T16:11:30.146Z"
   },
   {
    "duration": 67,
    "start_time": "2023-04-21T16:11:30.389Z"
   },
   {
    "duration": 17,
    "start_time": "2023-04-21T16:11:30.457Z"
   },
   {
    "duration": 39,
    "start_time": "2023-04-21T16:11:30.475Z"
   },
   {
    "duration": 39,
    "start_time": "2023-04-21T16:11:30.515Z"
   },
   {
    "duration": 38216,
    "start_time": "2023-04-21T16:11:30.556Z"
   },
   {
    "duration": 59,
    "start_time": "2023-04-21T16:12:08.774Z"
   },
   {
    "duration": 30497,
    "start_time": "2023-04-21T16:12:08.835Z"
   },
   {
    "duration": 3,
    "start_time": "2023-04-21T16:12:39.334Z"
   },
   {
    "duration": 773,
    "start_time": "2023-04-21T16:12:39.339Z"
   },
   {
    "duration": 198,
    "start_time": "2023-04-21T16:12:40.114Z"
   },
   {
    "duration": 64,
    "start_time": "2023-04-21T16:12:40.314Z"
   },
   {
    "duration": 3,
    "start_time": "2023-04-21T16:12:40.380Z"
   },
   {
    "duration": 13,
    "start_time": "2023-04-21T16:12:40.386Z"
   },
   {
    "duration": 7,
    "start_time": "2023-04-21T16:12:40.404Z"
   },
   {
    "duration": 1136,
    "start_time": "2023-04-21T16:16:28.007Z"
   },
   {
    "duration": 3040,
    "start_time": "2023-04-21T16:16:29.145Z"
   },
   {
    "duration": 29,
    "start_time": "2023-04-21T16:16:32.186Z"
   },
   {
    "duration": 112,
    "start_time": "2023-04-21T16:16:32.217Z"
   },
   {
    "duration": 96,
    "start_time": "2023-04-21T16:16:32.330Z"
   },
   {
    "duration": 109,
    "start_time": "2023-04-21T16:16:32.427Z"
   },
   {
    "duration": 103,
    "start_time": "2023-04-21T16:16:32.537Z"
   },
   {
    "duration": 4,
    "start_time": "2023-04-21T16:16:32.641Z"
   },
   {
    "duration": 4,
    "start_time": "2023-04-21T16:16:32.647Z"
   },
   {
    "duration": 100,
    "start_time": "2023-04-21T16:16:32.654Z"
   },
   {
    "duration": 144,
    "start_time": "2023-04-21T16:16:32.756Z"
   },
   {
    "duration": 122,
    "start_time": "2023-04-21T16:16:32.901Z"
   },
   {
    "duration": 4,
    "start_time": "2023-04-21T16:16:33.025Z"
   },
   {
    "duration": 33,
    "start_time": "2023-04-21T16:16:33.031Z"
   },
   {
    "duration": 241,
    "start_time": "2023-04-21T16:16:33.066Z"
   },
   {
    "duration": 51,
    "start_time": "2023-04-21T16:16:33.309Z"
   },
   {
    "duration": 4,
    "start_time": "2023-04-21T16:16:33.361Z"
   },
   {
    "duration": 7,
    "start_time": "2023-04-21T16:16:33.366Z"
   },
   {
    "duration": 8,
    "start_time": "2023-04-21T16:16:33.374Z"
   },
   {
    "duration": 37359,
    "start_time": "2023-04-21T16:16:33.384Z"
   },
   {
    "duration": 68,
    "start_time": "2023-04-21T16:17:10.744Z"
   },
   {
    "duration": 33464,
    "start_time": "2023-04-21T16:17:10.814Z"
   },
   {
    "duration": 28,
    "start_time": "2023-04-21T16:17:44.281Z"
   },
   {
    "duration": 215,
    "start_time": "2023-04-21T16:17:44.311Z"
   },
   {
    "duration": 53,
    "start_time": "2023-04-21T16:17:44.528Z"
   },
   {
    "duration": 13,
    "start_time": "2023-04-21T16:17:44.582Z"
   },
   {
    "duration": 15,
    "start_time": "2023-04-21T16:17:44.601Z"
   },
   {
    "duration": 10,
    "start_time": "2023-04-21T16:17:44.619Z"
   },
   {
    "duration": 3899,
    "start_time": "2023-04-21T16:17:44.630Z"
   },
   {
    "duration": 134,
    "start_time": "2023-04-21T16:17:48.531Z"
   },
   {
    "duration": 21818,
    "start_time": "2023-04-21T16:17:48.667Z"
   },
   {
    "duration": 26,
    "start_time": "2023-04-21T16:18:10.487Z"
   },
   {
    "duration": 15,
    "start_time": "2023-04-21T16:18:10.515Z"
   },
   {
    "duration": 25,
    "start_time": "2023-04-21T16:18:10.532Z"
   },
   {
    "duration": 193,
    "start_time": "2023-04-21T16:18:10.559Z"
   },
   {
    "duration": 58,
    "start_time": "2023-04-21T16:18:10.754Z"
   },
   {
    "duration": 4,
    "start_time": "2023-04-21T16:18:10.815Z"
   },
   {
    "duration": 6,
    "start_time": "2023-04-21T16:18:10.821Z"
   },
   {
    "duration": 4,
    "start_time": "2023-04-21T16:18:10.829Z"
   },
   {
    "duration": 32339,
    "start_time": "2023-04-21T16:18:10.834Z"
   },
   {
    "duration": 60,
    "start_time": "2023-04-21T16:18:43.174Z"
   },
   {
    "duration": 32397,
    "start_time": "2023-04-21T16:18:43.236Z"
   },
   {
    "duration": 18,
    "start_time": "2023-04-21T16:19:15.635Z"
   },
   {
    "duration": 221,
    "start_time": "2023-04-21T16:19:15.655Z"
   },
   {
    "duration": 63,
    "start_time": "2023-04-21T16:19:15.878Z"
   },
   {
    "duration": 4,
    "start_time": "2023-04-21T16:19:15.943Z"
   },
   {
    "duration": 9,
    "start_time": "2023-04-21T16:19:15.948Z"
   },
   {
    "duration": 7,
    "start_time": "2023-04-21T16:19:15.959Z"
   },
   {
    "duration": 3374,
    "start_time": "2023-04-21T16:19:15.967Z"
   },
   {
    "duration": 108,
    "start_time": "2023-04-21T16:19:19.343Z"
   },
   {
    "duration": 73385,
    "start_time": "2023-04-21T16:19:19.453Z"
   },
   {
    "duration": 107,
    "start_time": "2023-04-21T16:29:53.102Z"
   },
   {
    "duration": 82,
    "start_time": "2023-04-21T16:30:57.708Z"
   },
   {
    "duration": 82,
    "start_time": "2023-04-21T16:31:02.946Z"
   },
   {
    "duration": 6,
    "start_time": "2023-04-21T16:43:56.970Z"
   },
   {
    "duration": 89,
    "start_time": "2023-04-21T16:44:10.656Z"
   },
   {
    "duration": 19,
    "start_time": "2023-04-21T16:44:18.095Z"
   },
   {
    "duration": 120,
    "start_time": "2023-04-21T16:44:19.641Z"
   },
   {
    "duration": 5,
    "start_time": "2023-04-21T16:44:56.632Z"
   },
   {
    "duration": 6,
    "start_time": "2023-04-21T16:50:28.632Z"
   },
   {
    "duration": 13,
    "start_time": "2023-04-21T16:50:52.827Z"
   },
   {
    "duration": 88,
    "start_time": "2023-04-21T16:51:38.332Z"
   },
   {
    "duration": 15,
    "start_time": "2023-04-21T16:52:59.914Z"
   },
   {
    "duration": 57,
    "start_time": "2023-04-21T16:55:07.028Z"
   },
   {
    "duration": 90,
    "start_time": "2023-04-21T16:55:14.950Z"
   },
   {
    "duration": 88,
    "start_time": "2023-04-21T16:55:28.791Z"
   },
   {
    "duration": 236,
    "start_time": "2023-04-21T16:55:30.397Z"
   },
   {
    "duration": 72,
    "start_time": "2023-04-21T16:55:30.635Z"
   },
   {
    "duration": 45,
    "start_time": "2023-04-21T16:55:33.061Z"
   },
   {
    "duration": 56,
    "start_time": "2023-04-21T16:55:34.856Z"
   },
   {
    "duration": 128,
    "start_time": "2023-04-21T16:59:34.421Z"
   },
   {
    "duration": 188,
    "start_time": "2023-04-21T17:16:09.740Z"
   },
   {
    "duration": 25,
    "start_time": "2023-04-21T17:16:11.618Z"
   },
   {
    "duration": 9,
    "start_time": "2023-04-21T17:22:41.179Z"
   },
   {
    "duration": 390,
    "start_time": "2023-04-21T17:22:46.290Z"
   },
   {
    "duration": 23,
    "start_time": "2023-04-21T17:23:09.873Z"
   },
   {
    "duration": 173,
    "start_time": "2023-04-21T17:23:16.791Z"
   },
   {
    "duration": 37,
    "start_time": "2023-04-21T17:24:03.867Z"
   },
   {
    "duration": 38,
    "start_time": "2023-04-21T17:27:50.183Z"
   },
   {
    "duration": 31,
    "start_time": "2023-04-21T17:29:17.383Z"
   },
   {
    "duration": 40,
    "start_time": "2023-04-21T17:29:41.288Z"
   },
   {
    "duration": 8,
    "start_time": "2023-04-21T17:29:48.196Z"
   },
   {
    "duration": 26,
    "start_time": "2023-04-21T17:29:54.288Z"
   },
   {
    "duration": 6,
    "start_time": "2023-04-21T17:30:22.690Z"
   },
   {
    "duration": 4,
    "start_time": "2023-04-21T17:30:28.415Z"
   },
   {
    "duration": 6,
    "start_time": "2023-04-21T17:30:34.693Z"
   },
   {
    "duration": 5,
    "start_time": "2023-04-21T17:30:50.100Z"
   },
   {
    "duration": 4,
    "start_time": "2023-04-21T17:30:53.432Z"
   },
   {
    "duration": 3,
    "start_time": "2023-04-21T17:31:43.387Z"
   },
   {
    "duration": 830,
    "start_time": "2023-04-21T17:31:43.943Z"
   },
   {
    "duration": 24,
    "start_time": "2023-04-21T17:31:44.776Z"
   },
   {
    "duration": 122,
    "start_time": "2023-04-21T17:31:46.093Z"
   },
   {
    "duration": 880,
    "start_time": "2023-04-21T17:31:56.377Z"
   },
   {
    "duration": 48,
    "start_time": "2023-04-21T17:32:03.480Z"
   },
   {
    "duration": 282,
    "start_time": "2023-04-21T17:32:04.642Z"
   },
   {
    "duration": 25,
    "start_time": "2023-04-21T17:32:06.393Z"
   },
   {
    "duration": 5,
    "start_time": "2023-04-21T17:32:15.438Z"
   },
   {
    "duration": 5,
    "start_time": "2023-04-21T17:32:18.123Z"
   },
   {
    "duration": 5,
    "start_time": "2023-04-21T17:32:20.925Z"
   },
   {
    "duration": 10,
    "start_time": "2023-04-21T17:32:45.826Z"
   },
   {
    "duration": 3,
    "start_time": "2023-04-21T17:32:49.697Z"
   },
   {
    "duration": 4,
    "start_time": "2023-04-21T17:32:57.943Z"
   },
   {
    "duration": 4,
    "start_time": "2023-04-21T17:33:19.679Z"
   },
   {
    "duration": 4,
    "start_time": "2023-04-21T17:33:20.784Z"
   },
   {
    "duration": 10,
    "start_time": "2023-04-21T17:33:53.096Z"
   },
   {
    "duration": 3,
    "start_time": "2023-04-21T17:34:02.520Z"
   },
   {
    "duration": 5,
    "start_time": "2023-04-21T17:34:04.086Z"
   },
   {
    "duration": 10,
    "start_time": "2023-04-21T17:34:04.503Z"
   },
   {
    "duration": 12,
    "start_time": "2023-04-21T17:34:30.015Z"
   },
   {
    "duration": 14,
    "start_time": "2023-04-21T17:34:42.420Z"
   },
   {
    "duration": 13,
    "start_time": "2023-04-21T17:34:56.219Z"
   },
   {
    "duration": 4,
    "start_time": "2023-04-21T17:35:01.455Z"
   },
   {
    "duration": 3,
    "start_time": "2023-04-21T17:35:02.720Z"
   },
   {
    "duration": 10,
    "start_time": "2023-04-21T17:35:03.202Z"
   },
   {
    "duration": 5,
    "start_time": "2023-04-21T17:35:05.629Z"
   },
   {
    "duration": 9,
    "start_time": "2023-04-21T17:35:09.485Z"
   },
   {
    "duration": 4,
    "start_time": "2023-04-21T17:36:01.499Z"
   },
   {
    "duration": 665,
    "start_time": "2023-04-21T17:36:02.833Z"
   },
   {
    "duration": 17,
    "start_time": "2023-04-21T17:36:04.219Z"
   },
   {
    "duration": 96,
    "start_time": "2023-04-21T17:36:05.736Z"
   },
   {
    "duration": 67,
    "start_time": "2023-04-21T17:36:19.516Z"
   },
   {
    "duration": 435,
    "start_time": "2023-04-21T17:36:20.224Z"
   },
   {
    "duration": 25,
    "start_time": "2023-04-21T17:36:22.236Z"
   },
   {
    "duration": 5,
    "start_time": "2023-04-21T17:36:28.027Z"
   },
   {
    "duration": 5,
    "start_time": "2023-04-21T17:36:33.711Z"
   },
   {
    "duration": 4,
    "start_time": "2023-04-21T17:36:43.105Z"
   },
   {
    "duration": 26,
    "start_time": "2023-04-21T17:37:08.805Z"
   },
   {
    "duration": 24,
    "start_time": "2023-04-21T17:37:44.093Z"
   },
   {
    "duration": 11,
    "start_time": "2023-04-21T17:38:43.982Z"
   },
   {
    "duration": 13,
    "start_time": "2023-04-21T17:38:47.914Z"
   },
   {
    "duration": 25,
    "start_time": "2023-04-21T17:38:53.310Z"
   },
   {
    "duration": 22,
    "start_time": "2023-04-21T17:39:09.705Z"
   },
   {
    "duration": 13,
    "start_time": "2023-04-21T17:39:12.792Z"
   },
   {
    "duration": 115,
    "start_time": "2023-04-21T17:40:36.305Z"
   },
   {
    "duration": 11,
    "start_time": "2023-04-21T17:41:07.345Z"
   },
   {
    "duration": 1813,
    "start_time": "2023-04-21T17:41:14.737Z"
   },
   {
    "duration": 1963,
    "start_time": "2023-04-21T17:41:59.797Z"
   },
   {
    "duration": 1819,
    "start_time": "2023-04-21T17:42:38.284Z"
   },
   {
    "duration": 114,
    "start_time": "2023-04-21T17:43:56.485Z"
   },
   {
    "duration": 125,
    "start_time": "2023-04-21T17:44:02.449Z"
   },
   {
    "duration": 215,
    "start_time": "2023-04-21T17:44:07.883Z"
   },
   {
    "duration": 140,
    "start_time": "2023-04-21T17:45:45.416Z"
   },
   {
    "duration": 1765,
    "start_time": "2023-04-21T17:45:54.697Z"
   },
   {
    "duration": 1897,
    "start_time": "2023-04-21T17:46:07.490Z"
   },
   {
    "duration": 1912,
    "start_time": "2023-04-21T17:46:21.649Z"
   },
   {
    "duration": 1801,
    "start_time": "2023-04-21T17:46:55.812Z"
   },
   {
    "duration": 2030,
    "start_time": "2023-04-21T17:47:03.679Z"
   },
   {
    "duration": 1795,
    "start_time": "2023-04-21T17:47:09.731Z"
   },
   {
    "duration": 1934,
    "start_time": "2023-04-21T17:47:23.999Z"
   },
   {
    "duration": 30,
    "start_time": "2023-04-21T17:48:14.693Z"
   },
   {
    "duration": 26,
    "start_time": "2023-04-21T17:49:00.418Z"
   },
   {
    "duration": 30,
    "start_time": "2023-04-21T17:49:31.356Z"
   },
   {
    "duration": 18,
    "start_time": "2023-04-21T17:50:04.994Z"
   },
   {
    "duration": 29,
    "start_time": "2023-04-21T17:51:21.026Z"
   },
   {
    "duration": 8,
    "start_time": "2023-04-21T17:51:24.914Z"
   },
   {
    "duration": 8,
    "start_time": "2023-04-21T17:51:31.800Z"
   },
   {
    "duration": 6,
    "start_time": "2023-04-21T17:51:59.720Z"
   },
   {
    "duration": 7,
    "start_time": "2023-04-21T17:52:02.151Z"
   },
   {
    "duration": 8,
    "start_time": "2023-04-21T17:52:07.131Z"
   },
   {
    "duration": 7,
    "start_time": "2023-04-21T17:52:15.095Z"
   },
   {
    "duration": 10,
    "start_time": "2023-04-21T17:52:22.926Z"
   },
   {
    "duration": 6,
    "start_time": "2023-04-21T17:52:29.494Z"
   },
   {
    "duration": 6,
    "start_time": "2023-04-21T17:52:32.114Z"
   },
   {
    "duration": 8,
    "start_time": "2023-04-21T17:52:34.895Z"
   },
   {
    "duration": 5,
    "start_time": "2023-04-21T17:52:36.202Z"
   },
   {
    "duration": 8,
    "start_time": "2023-04-21T17:52:41.340Z"
   },
   {
    "duration": 10888,
    "start_time": "2023-04-21T17:54:37.927Z"
   },
   {
    "duration": 20441,
    "start_time": "2023-04-21T17:55:09.425Z"
   },
   {
    "duration": 8623,
    "start_time": "2023-04-21T17:55:37.497Z"
   },
   {
    "duration": 2466,
    "start_time": "2023-04-21T17:56:53.952Z"
   },
   {
    "duration": 38,
    "start_time": "2023-04-21T17:57:04.236Z"
   },
   {
    "duration": 24,
    "start_time": "2023-04-21T17:57:09.077Z"
   },
   {
    "duration": 1816,
    "start_time": "2023-04-21T17:58:18.928Z"
   },
   {
    "duration": 2170,
    "start_time": "2023-04-21T17:58:42.261Z"
   },
   {
    "duration": 11,
    "start_time": "2023-04-21T17:59:16.456Z"
   },
   {
    "duration": 119,
    "start_time": "2023-04-21T17:59:24.602Z"
   },
   {
    "duration": 12,
    "start_time": "2023-04-21T18:00:05.996Z"
   },
   {
    "duration": 15,
    "start_time": "2023-04-21T18:00:22.787Z"
   },
   {
    "duration": 1643,
    "start_time": "2023-04-21T18:00:31.251Z"
   },
   {
    "duration": 1754,
    "start_time": "2023-04-21T18:00:47.819Z"
   },
   {
    "duration": 1628,
    "start_time": "2023-04-21T18:02:31.125Z"
   },
   {
    "duration": 543,
    "start_time": "2023-04-21T18:02:49.485Z"
   },
   {
    "duration": 684,
    "start_time": "2023-04-21T18:03:06.784Z"
   },
   {
    "duration": 673,
    "start_time": "2023-04-21T18:03:28.285Z"
   },
   {
    "duration": 8365,
    "start_time": "2023-04-21T18:03:34.096Z"
   },
   {
    "duration": 33806,
    "start_time": "2023-04-21T18:03:49.587Z"
   },
   {
    "duration": 26,
    "start_time": "2023-04-21T18:04:37.844Z"
   },
   {
    "duration": 1713,
    "start_time": "2023-04-21T18:04:58.441Z"
   },
   {
    "duration": 2774,
    "start_time": "2023-04-21T18:08:29.784Z"
   },
   {
    "duration": 2250,
    "start_time": "2023-04-21T18:08:43.034Z"
   },
   {
    "duration": 2061,
    "start_time": "2023-04-21T18:08:50.910Z"
   },
   {
    "duration": 2175,
    "start_time": "2023-04-21T18:09:22.608Z"
   },
   {
    "duration": 2274,
    "start_time": "2023-04-21T18:10:21.022Z"
   },
   {
    "duration": 2245,
    "start_time": "2023-04-21T18:10:58.731Z"
   },
   {
    "duration": 2123,
    "start_time": "2023-04-21T18:11:38.674Z"
   },
   {
    "duration": 5,
    "start_time": "2023-04-21T18:11:48.324Z"
   },
   {
    "duration": 5,
    "start_time": "2023-04-21T18:11:52.328Z"
   },
   {
    "duration": 5,
    "start_time": "2023-04-21T18:12:02.648Z"
   },
   {
    "duration": 4,
    "start_time": "2023-04-21T18:14:11.232Z"
   },
   {
    "duration": 5,
    "start_time": "2023-04-21T18:14:21.793Z"
   },
   {
    "duration": 35,
    "start_time": "2023-04-21T18:15:30.623Z"
   },
   {
    "duration": 12,
    "start_time": "2023-04-21T18:15:43.891Z"
   },
   {
    "duration": 10,
    "start_time": "2023-04-21T18:15:49.671Z"
   },
   {
    "duration": 9,
    "start_time": "2023-04-21T18:15:53.621Z"
   },
   {
    "duration": 9,
    "start_time": "2023-04-21T18:15:56.696Z"
   },
   {
    "duration": 9,
    "start_time": "2023-04-21T18:15:59.968Z"
   },
   {
    "duration": 10,
    "start_time": "2023-04-21T18:16:04.018Z"
   },
   {
    "duration": 9,
    "start_time": "2023-04-21T18:16:05.744Z"
   },
   {
    "duration": 14,
    "start_time": "2023-04-21T18:16:22.273Z"
   },
   {
    "duration": 14,
    "start_time": "2023-04-21T18:16:35.471Z"
   },
   {
    "duration": 14,
    "start_time": "2023-04-21T18:16:40.510Z"
   },
   {
    "duration": 21,
    "start_time": "2023-04-21T18:17:55.293Z"
   },
   {
    "duration": 16,
    "start_time": "2023-04-21T18:20:07.120Z"
   },
   {
    "duration": 18,
    "start_time": "2023-04-21T18:20:12.146Z"
   },
   {
    "duration": 15,
    "start_time": "2023-04-21T18:20:13.342Z"
   },
   {
    "duration": 11,
    "start_time": "2023-04-21T18:20:15.415Z"
   },
   {
    "duration": 15,
    "start_time": "2023-04-21T18:21:54.146Z"
   },
   {
    "duration": 17,
    "start_time": "2023-04-21T18:22:55.825Z"
   },
   {
    "duration": 13,
    "start_time": "2023-04-21T18:22:58.499Z"
   },
   {
    "duration": 17,
    "start_time": "2023-04-21T18:23:02.191Z"
   },
   {
    "duration": 39,
    "start_time": "2023-04-21T18:23:18.093Z"
   },
   {
    "duration": 16,
    "start_time": "2023-04-21T18:23:31.780Z"
   },
   {
    "duration": 207,
    "start_time": "2023-04-21T18:23:59.160Z"
   },
   {
    "duration": 202,
    "start_time": "2023-04-21T18:24:21.762Z"
   },
   {
    "duration": 77,
    "start_time": "2023-04-21T18:25:01.991Z"
   },
   {
    "duration": 7,
    "start_time": "2023-04-21T18:25:10.078Z"
   },
   {
    "duration": 8,
    "start_time": "2023-04-21T18:25:24.378Z"
   },
   {
    "duration": 7,
    "start_time": "2023-04-21T18:27:11.711Z"
   },
   {
    "duration": 179,
    "start_time": "2023-04-21T18:28:55.458Z"
   },
   {
    "duration": 201,
    "start_time": "2023-04-21T18:29:14.523Z"
   },
   {
    "duration": 5,
    "start_time": "2023-04-21T18:32:02.284Z"
   },
   {
    "duration": 50,
    "start_time": "2023-04-21T18:32:20.727Z"
   },
   {
    "duration": 6,
    "start_time": "2023-04-21T18:32:23.512Z"
   },
   {
    "duration": 23,
    "start_time": "2023-04-21T18:33:03.227Z"
   },
   {
    "duration": 36,
    "start_time": "2023-04-21T18:41:41.414Z"
   },
   {
    "duration": 16,
    "start_time": "2023-04-21T18:49:01.634Z"
   },
   {
    "duration": 798,
    "start_time": "2023-04-21T18:51:02.837Z"
   },
   {
    "duration": 6,
    "start_time": "2023-04-21T18:52:12.620Z"
   },
   {
    "duration": 20,
    "start_time": "2023-04-21T18:52:16.270Z"
   },
   {
    "duration": 993,
    "start_time": "2023-04-21T18:54:15.922Z"
   },
   {
    "duration": 6,
    "start_time": "2023-04-21T18:54:21.827Z"
   },
   {
    "duration": 1446,
    "start_time": "2023-04-21T18:55:20.013Z"
   },
   {
    "duration": 800,
    "start_time": "2023-04-21T18:55:21.462Z"
   },
   {
    "duration": 15,
    "start_time": "2023-04-21T18:55:22.265Z"
   },
   {
    "duration": 125,
    "start_time": "2023-04-21T18:55:22.282Z"
   },
   {
    "duration": 106,
    "start_time": "2023-04-21T18:55:22.408Z"
   },
   {
    "duration": 5,
    "start_time": "2023-04-21T18:55:22.516Z"
   },
   {
    "duration": 4,
    "start_time": "2023-04-21T18:55:22.522Z"
   },
   {
    "duration": 88,
    "start_time": "2023-04-21T18:55:22.527Z"
   },
   {
    "duration": 114,
    "start_time": "2023-04-21T18:55:22.617Z"
   },
   {
    "duration": 94,
    "start_time": "2023-04-21T18:55:22.734Z"
   },
   {
    "duration": 4,
    "start_time": "2023-04-21T18:55:22.830Z"
   },
   {
    "duration": 23,
    "start_time": "2023-04-21T18:55:22.835Z"
   },
   {
    "duration": 240,
    "start_time": "2023-04-21T18:55:22.860Z"
   },
   {
    "duration": 56,
    "start_time": "2023-04-21T18:55:23.101Z"
   },
   {
    "duration": 4,
    "start_time": "2023-04-21T18:55:23.159Z"
   },
   {
    "duration": 4,
    "start_time": "2023-04-21T18:55:23.165Z"
   },
   {
    "duration": 24,
    "start_time": "2023-04-21T18:55:23.171Z"
   },
   {
    "duration": 35546,
    "start_time": "2023-04-21T18:55:23.197Z"
   },
   {
    "duration": 63,
    "start_time": "2023-04-21T18:55:58.745Z"
   },
   {
    "duration": 31980,
    "start_time": "2023-04-21T18:55:58.810Z"
   },
   {
    "duration": 17,
    "start_time": "2023-04-21T18:56:30.794Z"
   },
   {
    "duration": 229,
    "start_time": "2023-04-21T18:56:30.813Z"
   },
   {
    "duration": 66,
    "start_time": "2023-04-21T18:56:31.044Z"
   },
   {
    "duration": 3,
    "start_time": "2023-04-21T18:56:31.112Z"
   },
   {
    "duration": 20,
    "start_time": "2023-04-21T18:56:31.117Z"
   },
   {
    "duration": 28,
    "start_time": "2023-04-21T18:56:31.139Z"
   },
   {
    "duration": 3795,
    "start_time": "2023-04-21T18:56:31.170Z"
   },
   {
    "duration": 114,
    "start_time": "2023-04-21T18:56:34.972Z"
   },
   {
    "duration": 21734,
    "start_time": "2023-04-21T18:56:35.094Z"
   },
   {
    "duration": 18,
    "start_time": "2023-04-21T18:56:56.829Z"
   },
   {
    "duration": 19,
    "start_time": "2023-04-21T18:56:56.849Z"
   },
   {
    "duration": 28,
    "start_time": "2023-04-21T18:56:56.870Z"
   },
   {
    "duration": 202,
    "start_time": "2023-04-21T18:56:56.900Z"
   },
   {
    "duration": 57,
    "start_time": "2023-04-21T18:56:57.104Z"
   },
   {
    "duration": 5,
    "start_time": "2023-04-21T18:56:57.163Z"
   },
   {
    "duration": 12,
    "start_time": "2023-04-21T18:56:57.170Z"
   },
   {
    "duration": 4,
    "start_time": "2023-04-21T18:56:57.194Z"
   },
   {
    "duration": 30990,
    "start_time": "2023-04-21T18:56:57.200Z"
   },
   {
    "duration": 59,
    "start_time": "2023-04-21T18:57:28.192Z"
   },
   {
    "duration": 31813,
    "start_time": "2023-04-21T18:57:28.253Z"
   },
   {
    "duration": 18,
    "start_time": "2023-04-21T18:58:00.068Z"
   },
   {
    "duration": 250,
    "start_time": "2023-04-21T18:58:00.088Z"
   },
   {
    "duration": 56,
    "start_time": "2023-04-21T18:58:00.340Z"
   },
   {
    "duration": 19,
    "start_time": "2023-04-21T18:58:00.398Z"
   },
   {
    "duration": 30,
    "start_time": "2023-04-21T18:58:00.419Z"
   },
   {
    "duration": 23,
    "start_time": "2023-04-21T18:58:00.450Z"
   },
   {
    "duration": 3364,
    "start_time": "2023-04-21T18:58:00.475Z"
   },
   {
    "duration": 86,
    "start_time": "2023-04-21T18:58:03.841Z"
   },
   {
    "duration": 71346,
    "start_time": "2023-04-21T18:58:03.928Z"
   },
   {
    "duration": 92,
    "start_time": "2023-04-21T18:59:15.275Z"
   },
   {
    "duration": 122,
    "start_time": "2023-04-21T18:59:15.368Z"
   },
   {
    "duration": 408,
    "start_time": "2023-04-21T18:59:15.492Z"
   },
   {
    "duration": 25,
    "start_time": "2023-04-21T18:59:15.901Z"
   },
   {
    "duration": 23,
    "start_time": "2023-04-21T18:59:15.927Z"
   },
   {
    "duration": 179,
    "start_time": "2023-04-21T18:59:15.952Z"
   },
   {
    "duration": 21,
    "start_time": "2023-04-21T18:59:16.132Z"
   },
   {
    "duration": 1821,
    "start_time": "2023-04-21T18:59:16.155Z"
   },
   {
    "duration": 9,
    "start_time": "2023-04-21T18:59:17.978Z"
   },
   {
    "duration": 10,
    "start_time": "2023-04-21T18:59:17.995Z"
   },
   {
    "duration": 20,
    "start_time": "2023-04-21T18:59:18.006Z"
   },
   {
    "duration": 6,
    "start_time": "2023-04-21T18:59:18.028Z"
   },
   {
    "duration": 13,
    "start_time": "2023-04-21T18:59:18.035Z"
   },
   {
    "duration": 13,
    "start_time": "2023-04-21T18:59:18.049Z"
   },
   {
    "duration": 42,
    "start_time": "2023-04-21T18:59:18.064Z"
   },
   {
    "duration": 232,
    "start_time": "2023-04-21T18:59:18.110Z"
   },
   {
    "duration": 7,
    "start_time": "2023-04-21T18:59:18.344Z"
   },
   {
    "duration": 7,
    "start_time": "2023-04-21T18:59:18.353Z"
   },
   {
    "duration": 198,
    "start_time": "2023-04-21T18:59:18.361Z"
   },
   {
    "duration": 6,
    "start_time": "2023-04-21T18:59:18.560Z"
   },
   {
    "duration": 37,
    "start_time": "2023-04-21T18:59:18.568Z"
   },
   {
    "duration": 5,
    "start_time": "2023-04-21T18:59:18.608Z"
   },
   {
    "duration": 25,
    "start_time": "2023-04-21T18:59:18.615Z"
   },
   {
    "duration": 49,
    "start_time": "2023-04-21T19:12:27.404Z"
   },
   {
    "duration": 4,
    "start_time": "2023-04-21T19:14:43.870Z"
   },
   {
    "duration": 4,
    "start_time": "2023-04-21T19:15:13.508Z"
   },
   {
    "duration": 4,
    "start_time": "2023-04-21T19:15:21.507Z"
   },
   {
    "duration": 4,
    "start_time": "2023-04-21T19:15:32.449Z"
   },
   {
    "duration": 4,
    "start_time": "2023-04-21T19:15:36.841Z"
   },
   {
    "duration": 5,
    "start_time": "2023-04-21T19:15:43.586Z"
   },
   {
    "duration": 9,
    "start_time": "2023-04-21T19:15:51.191Z"
   },
   {
    "duration": 5,
    "start_time": "2023-04-21T19:42:15.949Z"
   },
   {
    "duration": 6,
    "start_time": "2023-04-21T19:42:34.135Z"
   },
   {
    "duration": 5,
    "start_time": "2023-04-21T19:42:56.253Z"
   },
   {
    "duration": 6,
    "start_time": "2023-04-21T19:42:56.259Z"
   },
   {
    "duration": 5,
    "start_time": "2023-04-21T19:42:56.266Z"
   },
   {
    "duration": 3717,
    "start_time": "2023-04-21T19:45:20.708Z"
   },
   {
    "duration": 3782,
    "start_time": "2023-04-21T19:45:34.238Z"
   },
   {
    "duration": 7717,
    "start_time": "2023-04-21T19:46:00.146Z"
   },
   {
    "duration": 7494,
    "start_time": "2023-04-21T19:46:08.820Z"
   },
   {
    "duration": 5,
    "start_time": "2023-04-21T19:48:58.052Z"
   },
   {
    "duration": 4,
    "start_time": "2023-04-21T19:49:09.656Z"
   },
   {
    "duration": 4,
    "start_time": "2023-04-21T19:49:11.620Z"
   },
   {
    "duration": 5,
    "start_time": "2023-04-21T19:49:15.410Z"
   },
   {
    "duration": 130,
    "start_time": "2023-04-21T20:01:12.508Z"
   },
   {
    "duration": 44,
    "start_time": "2023-04-21T20:01:48.712Z"
   },
   {
    "duration": 35,
    "start_time": "2023-04-21T20:02:13.476Z"
   },
   {
    "duration": 4,
    "start_time": "2023-04-21T20:03:37.724Z"
   },
   {
    "duration": 43,
    "start_time": "2023-04-21T20:05:23.608Z"
   },
   {
    "duration": 46,
    "start_time": "2023-04-21T20:07:16.463Z"
   },
   {
    "duration": 10,
    "start_time": "2023-04-21T20:07:38.609Z"
   },
   {
    "duration": 4,
    "start_time": "2023-04-21T20:08:01.782Z"
   },
   {
    "duration": 1748,
    "start_time": "2023-04-22T10:33:27.125Z"
   },
   {
    "duration": 1038,
    "start_time": "2023-04-22T10:33:28.875Z"
   },
   {
    "duration": 16,
    "start_time": "2023-04-22T10:33:29.914Z"
   },
   {
    "duration": 125,
    "start_time": "2023-04-22T10:33:29.931Z"
   },
   {
    "duration": 117,
    "start_time": "2023-04-22T10:33:30.058Z"
   },
   {
    "duration": 4,
    "start_time": "2023-04-22T10:33:30.176Z"
   },
   {
    "duration": 16,
    "start_time": "2023-04-22T10:33:30.182Z"
   },
   {
    "duration": 90,
    "start_time": "2023-04-22T10:33:30.200Z"
   },
   {
    "duration": 117,
    "start_time": "2023-04-22T10:33:30.291Z"
   },
   {
    "duration": 114,
    "start_time": "2023-04-22T10:33:30.410Z"
   },
   {
    "duration": 3,
    "start_time": "2023-04-22T10:33:30.526Z"
   },
   {
    "duration": 63,
    "start_time": "2023-04-22T10:33:30.530Z"
   },
   {
    "duration": 271,
    "start_time": "2023-04-22T10:33:30.595Z"
   },
   {
    "duration": 45,
    "start_time": "2023-04-22T10:33:30.869Z"
   },
   {
    "duration": 4,
    "start_time": "2023-04-22T10:33:30.916Z"
   },
   {
    "duration": 54,
    "start_time": "2023-04-22T10:33:30.921Z"
   },
   {
    "duration": 69,
    "start_time": "2023-04-22T10:33:30.977Z"
   },
   {
    "duration": 39046,
    "start_time": "2023-04-22T10:33:31.047Z"
   },
   {
    "duration": 71,
    "start_time": "2023-04-22T10:34:10.095Z"
   },
   {
    "duration": 35015,
    "start_time": "2023-04-22T10:34:10.168Z"
   },
   {
    "duration": 23,
    "start_time": "2023-04-22T10:34:45.185Z"
   },
   {
    "duration": 206,
    "start_time": "2023-04-22T10:34:45.209Z"
   },
   {
    "duration": 68,
    "start_time": "2023-04-22T10:34:45.416Z"
   },
   {
    "duration": 4,
    "start_time": "2023-04-22T10:34:45.486Z"
   },
   {
    "duration": 24,
    "start_time": "2023-04-22T10:34:45.492Z"
   },
   {
    "duration": 42,
    "start_time": "2023-04-22T10:34:45.517Z"
   },
   {
    "duration": 3771,
    "start_time": "2023-04-22T10:34:45.561Z"
   },
   {
    "duration": 131,
    "start_time": "2023-04-22T10:34:49.333Z"
   },
   {
    "duration": 32996,
    "start_time": "2023-04-22T10:34:49.466Z"
   },
   {
    "duration": 19,
    "start_time": "2023-04-22T10:35:22.464Z"
   },
   {
    "duration": 41,
    "start_time": "2023-04-22T10:35:22.485Z"
   },
   {
    "duration": 20,
    "start_time": "2023-04-22T10:35:22.527Z"
   },
   {
    "duration": 177,
    "start_time": "2023-04-22T10:35:22.549Z"
   },
   {
    "duration": 48,
    "start_time": "2023-04-22T10:35:22.727Z"
   },
   {
    "duration": 4,
    "start_time": "2023-04-22T10:35:22.777Z"
   },
   {
    "duration": 9,
    "start_time": "2023-04-22T10:35:22.782Z"
   },
   {
    "duration": 19,
    "start_time": "2023-04-22T10:35:22.792Z"
   },
   {
    "duration": 33920,
    "start_time": "2023-04-22T10:35:22.813Z"
   },
   {
    "duration": 63,
    "start_time": "2023-04-22T10:35:56.734Z"
   },
   {
    "duration": 47597,
    "start_time": "2023-04-22T10:35:56.799Z"
   },
   {
    "duration": 19,
    "start_time": "2023-04-22T10:36:44.400Z"
   },
   {
    "duration": 230,
    "start_time": "2023-04-22T10:36:44.420Z"
   },
   {
    "duration": 51,
    "start_time": "2023-04-22T10:36:44.652Z"
   },
   {
    "duration": 6,
    "start_time": "2023-04-22T10:36:44.704Z"
   },
   {
    "duration": 17,
    "start_time": "2023-04-22T10:36:44.712Z"
   },
   {
    "duration": 17,
    "start_time": "2023-04-22T10:36:44.731Z"
   },
   {
    "duration": 3490,
    "start_time": "2023-04-22T10:36:44.750Z"
   },
   {
    "duration": 107,
    "start_time": "2023-04-22T10:36:48.241Z"
   },
   {
    "duration": 111170,
    "start_time": "2023-04-22T10:36:48.350Z"
   },
   {
    "duration": 93,
    "start_time": "2023-04-22T10:38:39.522Z"
   },
   {
    "duration": 94,
    "start_time": "2023-04-22T10:38:39.616Z"
   },
   {
    "duration": 452,
    "start_time": "2023-04-22T10:38:39.711Z"
   },
   {
    "duration": 23,
    "start_time": "2023-04-22T10:38:40.165Z"
   },
   {
    "duration": 22,
    "start_time": "2023-04-22T10:38:40.189Z"
   },
   {
    "duration": 187,
    "start_time": "2023-04-22T10:38:40.213Z"
   },
   {
    "duration": 21,
    "start_time": "2023-04-22T10:38:40.401Z"
   },
   {
    "duration": 1710,
    "start_time": "2023-04-22T10:38:40.424Z"
   },
   {
    "duration": 13,
    "start_time": "2023-04-22T10:38:42.136Z"
   },
   {
    "duration": 10,
    "start_time": "2023-04-22T10:38:42.150Z"
   },
   {
    "duration": 42,
    "start_time": "2023-04-22T10:38:42.162Z"
   },
   {
    "duration": 4,
    "start_time": "2023-04-22T10:38:42.206Z"
   },
   {
    "duration": 10,
    "start_time": "2023-04-22T10:38:42.212Z"
   },
   {
    "duration": 26,
    "start_time": "2023-04-22T10:38:42.223Z"
   },
   {
    "duration": 22,
    "start_time": "2023-04-22T10:38:42.250Z"
   },
   {
    "duration": 222,
    "start_time": "2023-04-22T10:38:42.274Z"
   },
   {
    "duration": 5,
    "start_time": "2023-04-22T10:38:42.498Z"
   },
   {
    "duration": 199,
    "start_time": "2023-04-22T10:38:42.504Z"
   },
   {
    "duration": 8,
    "start_time": "2023-04-22T10:38:42.704Z"
   },
   {
    "duration": 15,
    "start_time": "2023-04-22T10:38:42.713Z"
   },
   {
    "duration": 52,
    "start_time": "2023-04-22T10:38:42.729Z"
   },
   {
    "duration": 4,
    "start_time": "2023-04-22T10:38:42.783Z"
   },
   {
    "duration": 3,
    "start_time": "2023-04-22T10:39:49.769Z"
   },
   {
    "duration": 3,
    "start_time": "2023-04-22T10:53:16.642Z"
   },
   {
    "duration": 2,
    "start_time": "2023-04-22T10:58:10.269Z"
   },
   {
    "duration": 196,
    "start_time": "2023-04-22T11:02:19.475Z"
   },
   {
    "duration": 93,
    "start_time": "2023-04-22T11:02:38.540Z"
   },
   {
    "duration": 252295,
    "start_time": "2023-04-22T11:02:46.054Z"
   },
   {
    "duration": 96,
    "start_time": "2023-04-22T11:30:33.609Z"
   },
   {
    "duration": 618906,
    "start_time": "2023-04-22T11:32:04.869Z"
   },
   {
    "duration": 2,
    "start_time": "2023-04-22T12:11:20.871Z"
   },
   {
    "duration": 6073,
    "start_time": "2023-04-22T12:11:21.882Z"
   },
   {
    "duration": 4,
    "start_time": "2023-04-22T12:40:28.842Z"
   },
   {
    "duration": 11644,
    "start_time": "2023-04-22T12:40:29.412Z"
   },
   {
    "duration": 4,
    "start_time": "2023-04-22T13:20:48.889Z"
   },
   {
    "duration": 120,
    "start_time": "2023-04-22T13:44:09.951Z"
   },
   {
    "duration": 21,
    "start_time": "2023-04-22T13:44:31.513Z"
   },
   {
    "duration": 14,
    "start_time": "2023-04-22T13:54:25.165Z"
   },
   {
    "duration": 101,
    "start_time": "2023-04-22T13:54:35.355Z"
   },
   {
    "duration": 97,
    "start_time": "2023-04-22T13:54:38.211Z"
   },
   {
    "duration": 15,
    "start_time": "2023-04-22T13:54:40.676Z"
   },
   {
    "duration": 10,
    "start_time": "2023-04-22T14:26:18.227Z"
   },
   {
    "duration": 7,
    "start_time": "2023-04-22T14:28:31.949Z"
   },
   {
    "duration": 8,
    "start_time": "2023-04-22T14:28:44.187Z"
   },
   {
    "duration": 1229,
    "start_time": "2023-04-22T14:28:51.807Z"
   },
   {
    "duration": 8,
    "start_time": "2023-04-22T14:28:54.536Z"
   },
   {
    "duration": 6,
    "start_time": "2023-04-22T14:29:15.462Z"
   },
   {
    "duration": 11,
    "start_time": "2023-04-22T14:29:24.520Z"
   },
   {
    "duration": 34,
    "start_time": "2023-04-22T14:29:35.185Z"
   },
   {
    "duration": 35,
    "start_time": "2023-04-22T14:29:38.660Z"
   },
   {
    "duration": 31,
    "start_time": "2023-04-22T14:29:53.846Z"
   },
   {
    "duration": 7,
    "start_time": "2023-04-22T14:30:49.947Z"
   },
   {
    "duration": 8,
    "start_time": "2023-04-22T14:31:00.153Z"
   },
   {
    "duration": 28,
    "start_time": "2023-04-22T14:32:35.308Z"
   },
   {
    "duration": 7,
    "start_time": "2023-04-22T14:38:40.495Z"
   },
   {
    "duration": 36,
    "start_time": "2023-04-22T14:38:40.966Z"
   },
   {
    "duration": 66,
    "start_time": "2023-04-22T14:38:41.607Z"
   },
   {
    "duration": 4,
    "start_time": "2023-04-22T14:38:58.345Z"
   },
   {
    "duration": 21,
    "start_time": "2023-04-22T14:39:34.745Z"
   },
   {
    "duration": 4,
    "start_time": "2023-04-22T14:39:36.758Z"
   },
   {
    "duration": 5,
    "start_time": "2023-04-22T14:39:43.944Z"
   },
   {
    "duration": 4,
    "start_time": "2023-04-22T14:39:48.582Z"
   },
   {
    "duration": 69,
    "start_time": "2023-04-22T14:40:08.856Z"
   },
   {
    "duration": 108,
    "start_time": "2023-04-22T14:40:10.998Z"
   },
   {
    "duration": 17,
    "start_time": "2023-04-22T14:40:19.265Z"
   },
   {
    "duration": 3,
    "start_time": "2023-04-22T14:40:33.935Z"
   },
   {
    "duration": 1917,
    "start_time": "2023-04-22T14:41:05.036Z"
   },
   {
    "duration": 2013,
    "start_time": "2023-04-22T14:41:18.080Z"
   },
   {
    "duration": 4,
    "start_time": "2023-04-22T14:41:30.266Z"
   },
   {
    "duration": 1873,
    "start_time": "2023-04-22T14:41:36.215Z"
   },
   {
    "duration": 4,
    "start_time": "2023-04-22T14:48:07.312Z"
   },
   {
    "duration": 11,
    "start_time": "2023-04-22T14:51:16.286Z"
   },
   {
    "duration": 86,
    "start_time": "2023-04-22T14:53:02.396Z"
   },
   {
    "duration": 8317,
    "start_time": "2023-04-22T14:54:59.248Z"
   },
   {
    "duration": 10,
    "start_time": "2023-04-22T14:57:14.225Z"
   },
   {
    "duration": 102,
    "start_time": "2023-04-22T14:57:27.901Z"
   },
   {
    "duration": 13,
    "start_time": "2023-04-22T14:57:30.461Z"
   },
   {
    "duration": 7,
    "start_time": "2023-04-22T14:57:44.583Z"
   },
   {
    "duration": 4,
    "start_time": "2023-04-22T14:57:52.724Z"
   },
   {
    "duration": 4,
    "start_time": "2023-04-22T14:57:59.118Z"
   },
   {
    "duration": 5,
    "start_time": "2023-04-22T14:58:04.568Z"
   },
   {
    "duration": 7,
    "start_time": "2023-04-22T14:58:14.189Z"
   },
   {
    "duration": 4,
    "start_time": "2023-04-22T14:58:21.574Z"
   },
   {
    "duration": 7,
    "start_time": "2023-04-22T14:58:29.365Z"
   },
   {
    "duration": 5,
    "start_time": "2023-04-22T14:58:38.765Z"
   },
   {
    "duration": 8097,
    "start_time": "2023-04-22T14:59:19.692Z"
   },
   {
    "duration": 4759,
    "start_time": "2023-04-22T15:07:26.994Z"
   },
   {
    "duration": 12925,
    "start_time": "2023-04-22T15:07:53.526Z"
   },
   {
    "duration": 43991,
    "start_time": "2023-04-22T15:08:58.363Z"
   },
   {
    "duration": 3,
    "start_time": "2023-04-22T15:10:38.994Z"
   },
   {
    "duration": 41937,
    "start_time": "2023-04-22T15:10:40.319Z"
   },
   {
    "duration": 3,
    "start_time": "2023-04-22T15:16:22.278Z"
   },
   {
    "duration": 2,
    "start_time": "2023-04-22T15:16:22.969Z"
   },
   {
    "duration": 3599,
    "start_time": "2023-04-22T15:16:24.160Z"
   },
   {
    "duration": 29,
    "start_time": "2023-04-22T15:16:38.746Z"
   },
   {
    "duration": 2,
    "start_time": "2023-04-22T15:16:55.292Z"
   },
   {
    "duration": 5932,
    "start_time": "2023-04-22T15:16:57.717Z"
   },
   {
    "duration": 2,
    "start_time": "2023-04-22T15:18:00.652Z"
   },
   {
    "duration": 12013,
    "start_time": "2023-04-22T15:18:01.243Z"
   },
   {
    "duration": 10,
    "start_time": "2023-04-22T15:22:20.592Z"
   },
   {
    "duration": 16,
    "start_time": "2023-04-22T15:22:20.604Z"
   },
   {
    "duration": 16,
    "start_time": "2023-04-22T15:22:20.622Z"
   },
   {
    "duration": 855,
    "start_time": "2023-04-22T15:22:39.629Z"
   },
   {
    "duration": 4701,
    "start_time": "2023-04-22T15:22:49.053Z"
   },
   {
    "duration": 5,
    "start_time": "2023-04-22T15:22:56.842Z"
   },
   {
    "duration": 4495,
    "start_time": "2023-04-22T15:24:48.158Z"
   },
   {
    "duration": 6,
    "start_time": "2023-04-22T15:24:53.393Z"
   },
   {
    "duration": 4525,
    "start_time": "2023-04-22T15:25:18.984Z"
   },
   {
    "duration": 4378,
    "start_time": "2023-04-22T15:25:24.580Z"
   },
   {
    "duration": 4509,
    "start_time": "2023-04-22T15:25:30.153Z"
   },
   {
    "duration": 5,
    "start_time": "2023-04-22T15:25:35.371Z"
   },
   {
    "duration": 4404,
    "start_time": "2023-04-22T15:25:36.133Z"
   },
   {
    "duration": 5,
    "start_time": "2023-04-22T15:25:41.831Z"
   },
   {
    "duration": 4279,
    "start_time": "2023-04-22T15:26:21.494Z"
   },
   {
    "duration": 5,
    "start_time": "2023-04-22T15:26:26.627Z"
   },
   {
    "duration": 4364,
    "start_time": "2023-04-22T15:27:38.822Z"
   },
   {
    "duration": 5,
    "start_time": "2023-04-22T15:27:48.673Z"
   },
   {
    "duration": 50666,
    "start_time": "2023-04-22T15:29:22.635Z"
   },
   {
    "duration": 5,
    "start_time": "2023-04-22T15:31:12.124Z"
   },
   {
    "duration": 4238,
    "start_time": "2023-04-22T15:36:48.939Z"
   },
   {
    "duration": 59,
    "start_time": "2023-04-22T15:36:53.179Z"
   },
   {
    "duration": 8,
    "start_time": "2023-04-22T15:36:53.239Z"
   },
   {
    "duration": 4320,
    "start_time": "2023-04-22T15:36:53.248Z"
   },
   {
    "duration": 58,
    "start_time": "2023-04-22T15:36:57.570Z"
   },
   {
    "duration": 4,
    "start_time": "2023-04-22T15:36:57.629Z"
   },
   {
    "duration": 49910,
    "start_time": "2023-04-22T15:36:57.635Z"
   },
   {
    "duration": 80,
    "start_time": "2023-04-22T15:37:47.547Z"
   },
   {
    "duration": 5,
    "start_time": "2023-04-22T15:37:47.628Z"
   },
   {
    "duration": 12,
    "start_time": "2023-04-22T15:42:32.689Z"
   },
   {
    "duration": 752,
    "start_time": "2023-04-22T15:42:53.911Z"
   },
   {
    "duration": 886,
    "start_time": "2023-04-22T15:43:00.664Z"
   },
   {
    "duration": 14789,
    "start_time": "2023-04-22T15:48:04.061Z"
   },
   {
    "duration": 4317,
    "start_time": "2023-04-22T15:48:18.852Z"
   },
   {
    "duration": 878,
    "start_time": "2023-04-22T15:48:23.171Z"
   },
   {
    "duration": 104,
    "start_time": "2023-04-22T15:48:24.051Z"
   },
   {
    "duration": 5,
    "start_time": "2023-04-22T15:48:24.157Z"
   },
   {
    "duration": 7,
    "start_time": "2023-04-22T15:48:24.163Z"
   },
   {
    "duration": 1461,
    "start_time": "2023-04-22T15:49:44.870Z"
   },
   {
    "duration": 793,
    "start_time": "2023-04-22T15:49:46.333Z"
   },
   {
    "duration": 22,
    "start_time": "2023-04-22T15:49:47.127Z"
   },
   {
    "duration": 115,
    "start_time": "2023-04-22T15:49:47.150Z"
   },
   {
    "duration": 110,
    "start_time": "2023-04-22T15:49:47.267Z"
   },
   {
    "duration": 3,
    "start_time": "2023-04-22T15:49:47.379Z"
   },
   {
    "duration": 16,
    "start_time": "2023-04-22T15:49:47.383Z"
   },
   {
    "duration": 86,
    "start_time": "2023-04-22T15:49:47.400Z"
   },
   {
    "duration": 114,
    "start_time": "2023-04-22T15:49:47.487Z"
   },
   {
    "duration": 105,
    "start_time": "2023-04-22T15:49:47.603Z"
   },
   {
    "duration": 3,
    "start_time": "2023-04-22T15:49:47.709Z"
   },
   {
    "duration": 19,
    "start_time": "2023-04-22T15:49:47.713Z"
   },
   {
    "duration": 240,
    "start_time": "2023-04-22T15:49:47.733Z"
   },
   {
    "duration": 41,
    "start_time": "2023-04-22T15:49:47.976Z"
   },
   {
    "duration": 4,
    "start_time": "2023-04-22T15:49:48.018Z"
   },
   {
    "duration": 8,
    "start_time": "2023-04-22T15:49:48.024Z"
   },
   {
    "duration": 4,
    "start_time": "2023-04-22T15:49:48.049Z"
   },
   {
    "duration": 39027,
    "start_time": "2023-04-22T15:49:48.054Z"
   },
   {
    "duration": 66,
    "start_time": "2023-04-22T15:50:27.083Z"
   },
   {
    "duration": 35028,
    "start_time": "2023-04-22T15:50:27.151Z"
   },
   {
    "duration": 18,
    "start_time": "2023-04-22T15:51:02.181Z"
   },
   {
    "duration": 234,
    "start_time": "2023-04-22T15:51:02.200Z"
   },
   {
    "duration": 49,
    "start_time": "2023-04-22T15:51:02.435Z"
   },
   {
    "duration": 4,
    "start_time": "2023-04-22T15:51:02.487Z"
   },
   {
    "duration": 25,
    "start_time": "2023-04-22T15:51:02.493Z"
   },
   {
    "duration": 28,
    "start_time": "2023-04-22T15:51:02.520Z"
   },
   {
    "duration": 4160,
    "start_time": "2023-04-22T15:51:02.550Z"
   },
   {
    "duration": 130,
    "start_time": "2023-04-22T15:51:06.711Z"
   },
   {
    "duration": 33711,
    "start_time": "2023-04-22T15:51:06.843Z"
   },
   {
    "duration": 21,
    "start_time": "2023-04-22T15:51:40.556Z"
   },
   {
    "duration": 22,
    "start_time": "2023-04-22T15:51:40.578Z"
   },
   {
    "duration": 19,
    "start_time": "2023-04-22T15:51:40.602Z"
   },
   {
    "duration": 202,
    "start_time": "2023-04-22T15:51:40.623Z"
   },
   {
    "duration": 50,
    "start_time": "2023-04-22T15:51:40.826Z"
   },
   {
    "duration": 4,
    "start_time": "2023-04-22T15:51:40.878Z"
   },
   {
    "duration": 20,
    "start_time": "2023-04-22T15:51:40.883Z"
   },
   {
    "duration": 5,
    "start_time": "2023-04-22T15:51:40.905Z"
   },
   {
    "duration": 33591,
    "start_time": "2023-04-22T15:51:40.911Z"
   },
   {
    "duration": 111,
    "start_time": "2023-04-22T15:52:14.505Z"
   },
   {
    "duration": 47260,
    "start_time": "2023-04-22T15:52:14.618Z"
   },
   {
    "duration": 17,
    "start_time": "2023-04-22T15:53:01.882Z"
   },
   {
    "duration": 225,
    "start_time": "2023-04-22T15:53:01.900Z"
   },
   {
    "duration": 43,
    "start_time": "2023-04-22T15:53:02.127Z"
   },
   {
    "duration": 4,
    "start_time": "2023-04-22T15:53:02.171Z"
   },
   {
    "duration": 14,
    "start_time": "2023-04-22T15:53:02.176Z"
   },
   {
    "duration": 13,
    "start_time": "2023-04-22T15:53:02.192Z"
   },
   {
    "duration": 3550,
    "start_time": "2023-04-22T15:53:02.207Z"
   },
   {
    "duration": 104,
    "start_time": "2023-04-22T15:53:05.759Z"
   },
   {
    "duration": 110740,
    "start_time": "2023-04-22T15:53:05.864Z"
   },
   {
    "duration": 97,
    "start_time": "2023-04-22T15:54:56.606Z"
   },
   {
    "duration": 92,
    "start_time": "2023-04-22T15:54:56.704Z"
   },
   {
    "duration": 452,
    "start_time": "2023-04-22T15:54:56.797Z"
   },
   {
    "duration": 26,
    "start_time": "2023-04-22T15:54:57.251Z"
   },
   {
    "duration": 26,
    "start_time": "2023-04-22T15:54:57.278Z"
   },
   {
    "duration": 192,
    "start_time": "2023-04-22T15:54:57.306Z"
   },
   {
    "duration": 23,
    "start_time": "2023-04-22T15:54:57.500Z"
   },
   {
    "duration": 1766,
    "start_time": "2023-04-22T15:54:57.525Z"
   },
   {
    "duration": 7,
    "start_time": "2023-04-22T15:54:59.293Z"
   },
   {
    "duration": 22,
    "start_time": "2023-04-22T15:54:59.301Z"
   },
   {
    "duration": 25,
    "start_time": "2023-04-22T15:54:59.324Z"
   },
   {
    "duration": 10,
    "start_time": "2023-04-22T15:54:59.350Z"
   },
   {
    "duration": 13,
    "start_time": "2023-04-22T15:54:59.361Z"
   },
   {
    "duration": 20,
    "start_time": "2023-04-22T15:54:59.375Z"
   },
   {
    "duration": 16,
    "start_time": "2023-04-22T15:54:59.397Z"
   },
   {
    "duration": 219,
    "start_time": "2023-04-22T15:54:59.414Z"
   },
   {
    "duration": 5,
    "start_time": "2023-04-22T15:54:59.634Z"
   },
   {
    "duration": 207,
    "start_time": "2023-04-22T15:54:59.648Z"
   },
   {
    "duration": 6,
    "start_time": "2023-04-22T15:54:59.857Z"
   },
   {
    "duration": 10,
    "start_time": "2023-04-22T15:54:59.864Z"
   },
   {
    "duration": 39,
    "start_time": "2023-04-22T15:54:59.876Z"
   },
   {
    "duration": 4,
    "start_time": "2023-04-22T15:54:59.917Z"
   },
   {
    "duration": 8,
    "start_time": "2023-04-22T15:54:59.922Z"
   },
   {
    "duration": 18,
    "start_time": "2023-04-22T15:54:59.931Z"
   },
   {
    "duration": 3602,
    "start_time": "2023-04-22T15:54:59.950Z"
   },
   {
    "duration": 3,
    "start_time": "2023-04-22T15:55:03.555Z"
   },
   {
    "duration": 26789,
    "start_time": "2023-04-22T15:55:03.560Z"
   },
   {
    "duration": 3,
    "start_time": "2023-04-22T15:55:30.351Z"
   },
   {
    "duration": 31206,
    "start_time": "2023-04-22T15:55:30.355Z"
   },
   {
    "duration": 7,
    "start_time": "2023-04-22T15:56:01.650Z"
   },
   {
    "duration": 79,
    "start_time": "2023-04-22T15:56:01.659Z"
   },
   {
    "duration": 10,
    "start_time": "2023-04-22T15:56:01.739Z"
   },
   {
    "duration": 103,
    "start_time": "2023-04-22T15:56:01.751Z"
   },
   {
    "duration": 113,
    "start_time": "2023-04-22T15:56:01.856Z"
   },
   {
    "duration": 2519,
    "start_time": "2023-04-22T15:56:01.971Z"
   },
   {
    "duration": 4315,
    "start_time": "2023-04-22T15:56:04.550Z"
   },
   {
    "duration": 61,
    "start_time": "2023-04-22T15:56:08.867Z"
   },
   {
    "duration": 5,
    "start_time": "2023-04-22T15:56:08.929Z"
   },
   {
    "duration": 4222,
    "start_time": "2023-04-22T15:56:08.936Z"
   },
   {
    "duration": 56,
    "start_time": "2023-04-22T15:56:13.159Z"
   },
   {
    "duration": 5,
    "start_time": "2023-04-22T15:56:13.216Z"
   },
   {
    "duration": 48364,
    "start_time": "2023-04-22T15:56:13.222Z"
   },
   {
    "duration": 97,
    "start_time": "2023-04-22T15:57:01.588Z"
   },
   {
    "duration": 5,
    "start_time": "2023-04-22T15:57:01.686Z"
   },
   {
    "duration": 34759,
    "start_time": "2023-04-22T15:57:01.692Z"
   },
   {
    "duration": 4295,
    "start_time": "2023-04-22T15:57:36.453Z"
   },
   {
    "duration": 900,
    "start_time": "2023-04-22T15:57:40.749Z"
   },
   {
    "duration": 58,
    "start_time": "2023-04-22T15:57:41.651Z"
   },
   {
    "duration": 157,
    "start_time": "2023-04-22T15:57:41.711Z"
   },
   {
    "duration": 0,
    "start_time": "2023-04-22T15:57:41.869Z"
   },
   {
    "duration": 3,
    "start_time": "2023-04-22T15:58:42.484Z"
   },
   {
    "duration": 4,
    "start_time": "2023-04-22T15:58:52.306Z"
   },
   {
    "duration": 4,
    "start_time": "2023-04-22T15:59:00.487Z"
   },
   {
    "duration": 4,
    "start_time": "2023-04-22T15:59:20.311Z"
   },
   {
    "duration": 3,
    "start_time": "2023-04-22T15:59:42.949Z"
   },
   {
    "duration": 4,
    "start_time": "2023-04-22T15:59:51.805Z"
   },
   {
    "duration": 6,
    "start_time": "2023-04-22T16:00:24.745Z"
   },
   {
    "duration": 5,
    "start_time": "2023-04-22T16:00:26.100Z"
   },
   {
    "duration": 3,
    "start_time": "2023-04-22T16:04:01.696Z"
   },
   {
    "duration": 3148,
    "start_time": "2023-04-22T16:04:01.701Z"
   },
   {
    "duration": 4411,
    "start_time": "2023-04-22T16:04:04.851Z"
   },
   {
    "duration": 196,
    "start_time": "2023-04-22T16:04:09.263Z"
   },
   {
    "duration": 104,
    "start_time": "2023-04-22T16:04:09.550Z"
   },
   {
    "duration": 4,
    "start_time": "2023-04-22T16:04:09.655Z"
   },
   {
    "duration": 7,
    "start_time": "2023-04-22T16:04:09.660Z"
   },
   {
    "duration": 6,
    "start_time": "2023-04-22T16:04:09.669Z"
   },
   {
    "duration": 3,
    "start_time": "2023-04-22T16:09:34.609Z"
   },
   {
    "duration": 15943,
    "start_time": "2023-04-22T16:09:34.614Z"
   },
   {
    "duration": 4751,
    "start_time": "2023-04-22T16:09:50.649Z"
   },
   {
    "duration": 1849,
    "start_time": "2023-04-22T16:09:55.401Z"
   },
   {
    "duration": 397,
    "start_time": "2023-04-22T16:09:57.253Z"
   },
   {
    "duration": 128,
    "start_time": "2023-04-22T16:09:57.652Z"
   },
   {
    "duration": 168,
    "start_time": "2023-04-22T16:09:57.782Z"
   },
   {
    "duration": 5,
    "start_time": "2023-04-22T16:09:57.951Z"
   },
   {
    "duration": 110,
    "start_time": "2023-04-22T16:09:57.958Z"
   },
   {
    "duration": 80,
    "start_time": "2023-04-22T16:09:58.070Z"
   },
   {
    "duration": 3,
    "start_time": "2023-04-22T16:13:13.377Z"
   },
   {
    "duration": 2574,
    "start_time": "2023-04-22T16:13:13.381Z"
   },
   {
    "duration": 4925,
    "start_time": "2023-04-22T16:13:15.958Z"
   },
   {
    "duration": 1568,
    "start_time": "2023-04-22T16:13:20.885Z"
   },
   {
    "duration": 392,
    "start_time": "2023-04-22T16:13:22.458Z"
   },
   {
    "duration": 103,
    "start_time": "2023-04-22T16:13:22.851Z"
   },
   {
    "duration": 195,
    "start_time": "2023-04-22T16:13:22.956Z"
   },
   {
    "duration": 5,
    "start_time": "2023-04-22T16:13:23.153Z"
   },
   {
    "duration": 4,
    "start_time": "2023-04-22T16:13:23.250Z"
   },
   {
    "duration": 22,
    "start_time": "2023-04-22T16:13:23.257Z"
   },
   {
    "duration": 70,
    "start_time": "2023-04-22T16:28:09.840Z"
   },
   {
    "duration": 80,
    "start_time": "2023-04-22T16:28:16.060Z"
   },
   {
    "duration": 73,
    "start_time": "2023-04-22T16:28:18.581Z"
   },
   {
    "duration": 77,
    "start_time": "2023-04-22T16:28:27.420Z"
   },
   {
    "duration": 1656,
    "start_time": "2023-04-24T10:20:55.367Z"
   },
   {
    "duration": 2997,
    "start_time": "2023-04-24T10:20:57.026Z"
   },
   {
    "duration": 20,
    "start_time": "2023-04-24T10:21:00.025Z"
   },
   {
    "duration": 150,
    "start_time": "2023-04-24T10:21:00.046Z"
   },
   {
    "duration": 116,
    "start_time": "2023-04-24T10:21:00.199Z"
   },
   {
    "duration": 7,
    "start_time": "2023-04-24T10:21:00.318Z"
   },
   {
    "duration": 62,
    "start_time": "2023-04-24T10:21:00.327Z"
   },
   {
    "duration": 156,
    "start_time": "2023-04-24T10:21:00.391Z"
   },
   {
    "duration": 0,
    "start_time": "2023-04-24T10:21:00.553Z"
   },
   {
    "duration": 0,
    "start_time": "2023-04-24T10:21:00.554Z"
   },
   {
    "duration": 0,
    "start_time": "2023-04-24T10:21:00.556Z"
   },
   {
    "duration": 0,
    "start_time": "2023-04-24T10:21:00.558Z"
   },
   {
    "duration": 0,
    "start_time": "2023-04-24T10:21:00.559Z"
   },
   {
    "duration": 0,
    "start_time": "2023-04-24T10:21:00.561Z"
   },
   {
    "duration": 0,
    "start_time": "2023-04-24T10:21:00.562Z"
   },
   {
    "duration": 0,
    "start_time": "2023-04-24T10:21:00.564Z"
   },
   {
    "duration": 0,
    "start_time": "2023-04-24T10:21:00.565Z"
   },
   {
    "duration": 0,
    "start_time": "2023-04-24T10:21:00.567Z"
   },
   {
    "duration": 0,
    "start_time": "2023-04-24T10:21:00.568Z"
   },
   {
    "duration": 0,
    "start_time": "2023-04-24T10:21:00.590Z"
   },
   {
    "duration": 0,
    "start_time": "2023-04-24T10:21:00.592Z"
   },
   {
    "duration": 0,
    "start_time": "2023-04-24T10:21:00.593Z"
   },
   {
    "duration": 0,
    "start_time": "2023-04-24T10:21:00.595Z"
   },
   {
    "duration": 0,
    "start_time": "2023-04-24T10:21:00.596Z"
   },
   {
    "duration": 0,
    "start_time": "2023-04-24T10:21:00.598Z"
   },
   {
    "duration": 0,
    "start_time": "2023-04-24T10:21:00.600Z"
   },
   {
    "duration": 0,
    "start_time": "2023-04-24T10:21:00.602Z"
   },
   {
    "duration": 0,
    "start_time": "2023-04-24T10:21:00.603Z"
   },
   {
    "duration": 0,
    "start_time": "2023-04-24T10:21:00.604Z"
   },
   {
    "duration": 0,
    "start_time": "2023-04-24T10:21:00.604Z"
   },
   {
    "duration": 0,
    "start_time": "2023-04-24T10:21:00.605Z"
   },
   {
    "duration": 0,
    "start_time": "2023-04-24T10:21:00.606Z"
   },
   {
    "duration": 0,
    "start_time": "2023-04-24T10:21:00.607Z"
   },
   {
    "duration": 0,
    "start_time": "2023-04-24T10:21:00.609Z"
   },
   {
    "duration": 0,
    "start_time": "2023-04-24T10:21:00.611Z"
   },
   {
    "duration": 0,
    "start_time": "2023-04-24T10:21:00.612Z"
   },
   {
    "duration": 0,
    "start_time": "2023-04-24T10:21:00.613Z"
   },
   {
    "duration": 0,
    "start_time": "2023-04-24T10:21:00.615Z"
   },
   {
    "duration": 0,
    "start_time": "2023-04-24T10:21:00.616Z"
   },
   {
    "duration": 0,
    "start_time": "2023-04-24T10:21:00.618Z"
   },
   {
    "duration": 0,
    "start_time": "2023-04-24T10:21:00.619Z"
   },
   {
    "duration": 0,
    "start_time": "2023-04-24T10:21:00.621Z"
   },
   {
    "duration": 0,
    "start_time": "2023-04-24T10:21:00.622Z"
   },
   {
    "duration": 0,
    "start_time": "2023-04-24T10:21:00.624Z"
   },
   {
    "duration": 0,
    "start_time": "2023-04-24T10:21:00.625Z"
   },
   {
    "duration": 0,
    "start_time": "2023-04-24T10:21:00.627Z"
   },
   {
    "duration": 0,
    "start_time": "2023-04-24T10:21:00.689Z"
   },
   {
    "duration": 0,
    "start_time": "2023-04-24T10:21:00.690Z"
   },
   {
    "duration": 0,
    "start_time": "2023-04-24T10:21:00.691Z"
   },
   {
    "duration": 0,
    "start_time": "2023-04-24T10:21:00.693Z"
   },
   {
    "duration": 0,
    "start_time": "2023-04-24T10:21:00.694Z"
   },
   {
    "duration": 0,
    "start_time": "2023-04-24T10:21:00.696Z"
   },
   {
    "duration": 0,
    "start_time": "2023-04-24T10:21:00.697Z"
   },
   {
    "duration": 0,
    "start_time": "2023-04-24T10:21:00.698Z"
   },
   {
    "duration": 1,
    "start_time": "2023-04-24T10:21:00.699Z"
   },
   {
    "duration": 0,
    "start_time": "2023-04-24T10:21:00.701Z"
   },
   {
    "duration": 0,
    "start_time": "2023-04-24T10:21:00.702Z"
   },
   {
    "duration": 1,
    "start_time": "2023-04-24T10:21:00.703Z"
   },
   {
    "duration": 0,
    "start_time": "2023-04-24T10:21:00.705Z"
   },
   {
    "duration": 0,
    "start_time": "2023-04-24T10:21:00.706Z"
   },
   {
    "duration": 0,
    "start_time": "2023-04-24T10:21:00.707Z"
   },
   {
    "duration": 0,
    "start_time": "2023-04-24T10:21:00.709Z"
   },
   {
    "duration": 0,
    "start_time": "2023-04-24T10:21:00.710Z"
   },
   {
    "duration": 0,
    "start_time": "2023-04-24T10:21:00.711Z"
   },
   {
    "duration": 0,
    "start_time": "2023-04-24T10:21:00.712Z"
   },
   {
    "duration": 0,
    "start_time": "2023-04-24T10:21:00.714Z"
   },
   {
    "duration": 0,
    "start_time": "2023-04-24T10:21:00.715Z"
   },
   {
    "duration": 0,
    "start_time": "2023-04-24T10:21:00.716Z"
   },
   {
    "duration": 0,
    "start_time": "2023-04-24T10:21:00.718Z"
   },
   {
    "duration": 0,
    "start_time": "2023-04-24T10:21:00.719Z"
   },
   {
    "duration": 0,
    "start_time": "2023-04-24T10:21:00.721Z"
   },
   {
    "duration": 0,
    "start_time": "2023-04-24T10:21:00.723Z"
   },
   {
    "duration": 0,
    "start_time": "2023-04-24T10:21:00.724Z"
   },
   {
    "duration": 0,
    "start_time": "2023-04-24T10:21:00.725Z"
   },
   {
    "duration": 0,
    "start_time": "2023-04-24T10:21:00.790Z"
   },
   {
    "duration": 0,
    "start_time": "2023-04-24T10:21:00.791Z"
   },
   {
    "duration": 0,
    "start_time": "2023-04-24T10:21:00.792Z"
   },
   {
    "duration": 0,
    "start_time": "2023-04-24T10:21:00.793Z"
   },
   {
    "duration": 0,
    "start_time": "2023-04-24T10:21:00.794Z"
   },
   {
    "duration": 0,
    "start_time": "2023-04-24T10:21:00.795Z"
   },
   {
    "duration": 0,
    "start_time": "2023-04-24T10:21:00.797Z"
   },
   {
    "duration": 0,
    "start_time": "2023-04-24T10:21:00.798Z"
   },
   {
    "duration": 0,
    "start_time": "2023-04-24T10:21:00.799Z"
   },
   {
    "duration": 0,
    "start_time": "2023-04-24T10:21:00.800Z"
   },
   {
    "duration": 0,
    "start_time": "2023-04-24T10:21:00.802Z"
   },
   {
    "duration": 0,
    "start_time": "2023-04-24T10:21:00.803Z"
   },
   {
    "duration": 0,
    "start_time": "2023-04-24T10:21:00.804Z"
   },
   {
    "duration": 0,
    "start_time": "2023-04-24T10:21:00.805Z"
   },
   {
    "duration": 0,
    "start_time": "2023-04-24T10:21:00.806Z"
   },
   {
    "duration": 0,
    "start_time": "2023-04-24T10:21:00.807Z"
   },
   {
    "duration": 0,
    "start_time": "2023-04-24T10:21:00.808Z"
   },
   {
    "duration": 0,
    "start_time": "2023-04-24T10:21:00.809Z"
   },
   {
    "duration": 0,
    "start_time": "2023-04-24T10:21:00.810Z"
   },
   {
    "duration": 0,
    "start_time": "2023-04-24T10:21:00.811Z"
   },
   {
    "duration": 0,
    "start_time": "2023-04-24T10:21:00.812Z"
   },
   {
    "duration": 0,
    "start_time": "2023-04-24T10:21:00.813Z"
   },
   {
    "duration": 0,
    "start_time": "2023-04-24T10:21:00.814Z"
   },
   {
    "duration": 0,
    "start_time": "2023-04-24T10:21:00.815Z"
   },
   {
    "duration": 0,
    "start_time": "2023-04-24T10:21:00.816Z"
   },
   {
    "duration": 0,
    "start_time": "2023-04-24T10:21:00.817Z"
   },
   {
    "duration": 0,
    "start_time": "2023-04-24T10:21:00.818Z"
   },
   {
    "duration": 0,
    "start_time": "2023-04-24T10:21:00.819Z"
   },
   {
    "duration": 0,
    "start_time": "2023-04-24T10:21:00.820Z"
   },
   {
    "duration": 0,
    "start_time": "2023-04-24T10:21:00.821Z"
   },
   {
    "duration": 0,
    "start_time": "2023-04-24T10:21:00.822Z"
   },
   {
    "duration": 4,
    "start_time": "2023-04-24T10:22:13.285Z"
   },
   {
    "duration": 904,
    "start_time": "2023-04-24T10:22:13.291Z"
   },
   {
    "duration": 14,
    "start_time": "2023-04-24T10:22:14.197Z"
   },
   {
    "duration": 132,
    "start_time": "2023-04-24T10:22:14.213Z"
   },
   {
    "duration": 146,
    "start_time": "2023-04-24T10:22:14.347Z"
   },
   {
    "duration": 4,
    "start_time": "2023-04-24T10:22:14.494Z"
   },
   {
    "duration": 6,
    "start_time": "2023-04-24T10:22:14.500Z"
   },
   {
    "duration": 87,
    "start_time": "2023-04-24T10:22:14.508Z"
   },
   {
    "duration": 130,
    "start_time": "2023-04-24T10:22:14.597Z"
   },
   {
    "duration": 119,
    "start_time": "2023-04-24T10:22:14.730Z"
   },
   {
    "duration": 4,
    "start_time": "2023-04-24T10:22:14.851Z"
   },
   {
    "duration": 37,
    "start_time": "2023-04-24T10:22:14.857Z"
   },
   {
    "duration": 272,
    "start_time": "2023-04-24T10:22:14.896Z"
   },
   {
    "duration": 69,
    "start_time": "2023-04-24T10:22:15.170Z"
   },
   {
    "duration": 4,
    "start_time": "2023-04-24T10:22:15.241Z"
   },
   {
    "duration": 9,
    "start_time": "2023-04-24T10:22:15.247Z"
   },
   {
    "duration": 19,
    "start_time": "2023-04-24T10:22:15.258Z"
   },
   {
    "duration": 43869,
    "start_time": "2023-04-24T10:22:15.279Z"
   },
   {
    "duration": 67,
    "start_time": "2023-04-24T10:22:59.150Z"
   },
   {
    "duration": 37293,
    "start_time": "2023-04-24T10:22:59.219Z"
   },
   {
    "duration": 19,
    "start_time": "2023-04-24T10:23:36.514Z"
   },
   {
    "duration": 232,
    "start_time": "2023-04-24T10:23:36.534Z"
   },
   {
    "duration": 65,
    "start_time": "2023-04-24T10:23:36.768Z"
   },
   {
    "duration": 4,
    "start_time": "2023-04-24T10:23:36.835Z"
   },
   {
    "duration": 7,
    "start_time": "2023-04-24T10:23:36.840Z"
   },
   {
    "duration": 6,
    "start_time": "2023-04-24T10:23:36.849Z"
   },
   {
    "duration": 4185,
    "start_time": "2023-04-24T10:23:36.856Z"
   },
   {
    "duration": 129,
    "start_time": "2023-04-24T10:23:41.046Z"
   },
   {
    "duration": 24887,
    "start_time": "2023-04-24T10:23:41.177Z"
   },
   {
    "duration": 25,
    "start_time": "2023-04-24T10:24:06.065Z"
   },
   {
    "duration": 26,
    "start_time": "2023-04-24T10:24:06.092Z"
   },
   {
    "duration": 23,
    "start_time": "2023-04-24T10:24:06.120Z"
   },
   {
    "duration": 206,
    "start_time": "2023-04-24T10:24:06.145Z"
   },
   {
    "duration": 64,
    "start_time": "2023-04-24T10:24:06.353Z"
   },
   {
    "duration": 4,
    "start_time": "2023-04-24T10:24:06.419Z"
   },
   {
    "duration": 6,
    "start_time": "2023-04-24T10:24:06.425Z"
   },
   {
    "duration": 5,
    "start_time": "2023-04-24T10:24:06.433Z"
   },
   {
    "duration": 34965,
    "start_time": "2023-04-24T10:24:06.440Z"
   },
   {
    "duration": 60,
    "start_time": "2023-04-24T10:24:41.407Z"
   },
   {
    "duration": 37307,
    "start_time": "2023-04-24T10:24:41.469Z"
   },
   {
    "duration": 26,
    "start_time": "2023-04-24T10:25:18.778Z"
   },
   {
    "duration": 233,
    "start_time": "2023-04-24T10:25:18.806Z"
   },
   {
    "duration": 61,
    "start_time": "2023-04-24T10:25:19.041Z"
   },
   {
    "duration": 4,
    "start_time": "2023-04-24T10:25:19.104Z"
   },
   {
    "duration": 7,
    "start_time": "2023-04-24T10:25:19.110Z"
   },
   {
    "duration": 13,
    "start_time": "2023-04-24T10:25:19.118Z"
   },
   {
    "duration": 3798,
    "start_time": "2023-04-24T10:25:19.132Z"
   },
   {
    "duration": 104,
    "start_time": "2023-04-24T10:25:22.932Z"
   },
   {
    "duration": 82959,
    "start_time": "2023-04-24T10:25:23.038Z"
   },
   {
    "duration": 101,
    "start_time": "2023-04-24T10:26:45.998Z"
   },
   {
    "duration": 100,
    "start_time": "2023-04-24T10:26:46.101Z"
   },
   {
    "duration": 473,
    "start_time": "2023-04-24T10:26:46.202Z"
   },
   {
    "duration": 35,
    "start_time": "2023-04-24T10:26:46.677Z"
   },
   {
    "duration": 29,
    "start_time": "2023-04-24T10:26:46.714Z"
   },
   {
    "duration": 205,
    "start_time": "2023-04-24T10:26:46.745Z"
   },
   {
    "duration": 23,
    "start_time": "2023-04-24T10:26:46.952Z"
   },
   {
    "duration": 2124,
    "start_time": "2023-04-24T10:26:46.977Z"
   },
   {
    "duration": 8,
    "start_time": "2023-04-24T10:26:49.103Z"
   },
   {
    "duration": 9,
    "start_time": "2023-04-24T10:26:49.113Z"
   },
   {
    "duration": 23,
    "start_time": "2023-04-24T10:26:49.123Z"
   },
   {
    "duration": 5,
    "start_time": "2023-04-24T10:26:49.148Z"
   },
   {
    "duration": 44,
    "start_time": "2023-04-24T10:26:49.155Z"
   },
   {
    "duration": 14,
    "start_time": "2023-04-24T10:26:49.200Z"
   },
   {
    "duration": 16,
    "start_time": "2023-04-24T10:26:49.216Z"
   },
   {
    "duration": 278,
    "start_time": "2023-04-24T10:26:49.234Z"
   },
   {
    "duration": 5,
    "start_time": "2023-04-24T10:26:49.514Z"
   },
   {
    "duration": 218,
    "start_time": "2023-04-24T10:26:49.521Z"
   },
   {
    "duration": 12,
    "start_time": "2023-04-24T10:26:49.740Z"
   },
   {
    "duration": 6,
    "start_time": "2023-04-24T10:26:49.754Z"
   },
   {
    "duration": 68,
    "start_time": "2023-04-24T10:26:49.762Z"
   },
   {
    "duration": 4,
    "start_time": "2023-04-24T10:26:49.832Z"
   },
   {
    "duration": 4,
    "start_time": "2023-04-24T10:26:49.838Z"
   },
   {
    "duration": 5,
    "start_time": "2023-04-24T10:26:49.843Z"
   },
   {
    "duration": 3848,
    "start_time": "2023-04-24T10:26:49.850Z"
   },
   {
    "duration": 3,
    "start_time": "2023-04-24T10:26:53.700Z"
   },
   {
    "duration": 5889,
    "start_time": "2023-04-24T10:26:53.706Z"
   },
   {
    "duration": 3,
    "start_time": "2023-04-24T10:26:59.598Z"
   },
   {
    "duration": 11086,
    "start_time": "2023-04-24T10:26:59.603Z"
   },
   {
    "duration": 9,
    "start_time": "2023-04-24T10:27:10.692Z"
   },
   {
    "duration": 41,
    "start_time": "2023-04-24T10:27:10.703Z"
   },
   {
    "duration": 5,
    "start_time": "2023-04-24T10:27:10.746Z"
   },
   {
    "duration": 111,
    "start_time": "2023-04-24T10:27:10.790Z"
   },
   {
    "duration": 123,
    "start_time": "2023-04-24T10:27:10.903Z"
   },
   {
    "duration": 2163,
    "start_time": "2023-04-24T10:27:11.028Z"
   },
   {
    "duration": 297,
    "start_time": "2023-04-24T10:27:13.193Z"
   },
   {
    "duration": 5014,
    "start_time": "2023-04-24T10:27:13.496Z"
   },
   {
    "duration": 69,
    "start_time": "2023-04-24T10:27:18.512Z"
   },
   {
    "duration": 5,
    "start_time": "2023-04-24T10:27:18.583Z"
   },
   {
    "duration": 5331,
    "start_time": "2023-04-24T10:27:18.589Z"
   },
   {
    "duration": 69,
    "start_time": "2023-04-24T10:27:23.922Z"
   },
   {
    "duration": 6,
    "start_time": "2023-04-24T10:27:23.993Z"
   },
   {
    "duration": 58386,
    "start_time": "2023-04-24T10:27:24.001Z"
   },
   {
    "duration": 128,
    "start_time": "2023-04-24T10:28:22.389Z"
   },
   {
    "duration": 6,
    "start_time": "2023-04-24T10:28:22.519Z"
   },
   {
    "duration": 7,
    "start_time": "2023-04-24T10:28:22.527Z"
   },
   {
    "duration": 22053,
    "start_time": "2023-04-24T10:28:22.537Z"
   },
   {
    "duration": 4646,
    "start_time": "2023-04-24T10:28:44.592Z"
   },
   {
    "duration": 2452,
    "start_time": "2023-04-24T10:28:49.239Z"
   },
   {
    "duration": 306,
    "start_time": "2023-04-24T10:28:51.693Z"
   },
   {
    "duration": 74,
    "start_time": "2023-04-24T10:28:52.090Z"
   },
   {
    "duration": 224,
    "start_time": "2023-04-24T10:28:52.166Z"
   },
   {
    "duration": 97,
    "start_time": "2023-04-24T10:28:52.393Z"
   },
   {
    "duration": 6,
    "start_time": "2023-04-24T10:28:52.492Z"
   },
   {
    "duration": 26,
    "start_time": "2023-04-24T10:28:52.500Z"
   },
   {
    "duration": 22,
    "start_time": "2023-04-24T10:29:43.740Z"
   },
   {
    "duration": 23,
    "start_time": "2023-04-24T10:30:30.061Z"
   },
   {
    "duration": 2476,
    "start_time": "2023-04-24T10:34:14.317Z"
   },
   {
    "duration": 2492,
    "start_time": "2023-04-24T10:35:11.799Z"
   },
   {
    "duration": 50,
    "start_time": "2023-04-24T14:20:57.564Z"
   },
   {
    "duration": 1657,
    "start_time": "2023-04-24T14:21:03.068Z"
   },
   {
    "duration": 994,
    "start_time": "2023-04-24T14:21:04.728Z"
   },
   {
    "duration": 17,
    "start_time": "2023-04-24T14:21:05.724Z"
   },
   {
    "duration": 120,
    "start_time": "2023-04-24T14:21:05.743Z"
   },
   {
    "duration": 112,
    "start_time": "2023-04-24T14:21:05.864Z"
   },
   {
    "duration": 4,
    "start_time": "2023-04-24T14:21:05.978Z"
   },
   {
    "duration": 11,
    "start_time": "2023-04-24T14:21:05.984Z"
   },
   {
    "duration": 78,
    "start_time": "2023-04-24T14:21:05.997Z"
   },
   {
    "duration": 111,
    "start_time": "2023-04-24T14:21:06.076Z"
   },
   {
    "duration": 104,
    "start_time": "2023-04-24T14:21:06.189Z"
   },
   {
    "duration": 3,
    "start_time": "2023-04-24T14:21:06.295Z"
   },
   {
    "duration": 37,
    "start_time": "2023-04-24T14:21:06.299Z"
   },
   {
    "duration": 227,
    "start_time": "2023-04-24T14:21:06.338Z"
   },
   {
    "duration": 42,
    "start_time": "2023-04-24T14:21:06.566Z"
   },
   {
    "duration": 3,
    "start_time": "2023-04-24T14:21:06.610Z"
   },
   {
    "duration": 6,
    "start_time": "2023-04-24T14:21:06.615Z"
   },
   {
    "duration": 19,
    "start_time": "2023-04-24T14:21:06.623Z"
   },
   {
    "duration": 38355,
    "start_time": "2023-04-24T14:21:06.643Z"
   },
   {
    "duration": 78,
    "start_time": "2023-04-24T14:21:44.999Z"
   },
   {
    "duration": 111,
    "start_time": "2023-04-24T14:21:49.077Z"
   },
   {
    "duration": 112,
    "start_time": "2023-04-24T14:21:57.945Z"
   },
   {
    "duration": 51,
    "start_time": "2023-04-24T14:22:10.401Z"
   },
   {
    "duration": 8,
    "start_time": "2023-04-24T14:29:49.418Z"
   },
   {
    "duration": 1920,
    "start_time": "2023-04-24T14:30:21.920Z"
   },
   {
    "duration": 14,
    "start_time": "2023-04-24T14:30:44.498Z"
   },
   {
    "duration": 5,
    "start_time": "2023-04-24T14:30:46.619Z"
   },
   {
    "duration": 2076,
    "start_time": "2023-04-24T14:30:59.697Z"
   },
   {
    "duration": 4,
    "start_time": "2023-04-24T14:31:09.842Z"
   },
   {
    "duration": 8,
    "start_time": "2023-04-24T14:31:10.576Z"
   },
   {
    "duration": 4,
    "start_time": "2023-04-24T14:31:27.776Z"
   },
   {
    "duration": 8,
    "start_time": "2023-04-24T14:32:09.639Z"
   },
   {
    "duration": 8,
    "start_time": "2023-04-24T14:32:10.703Z"
   },
   {
    "duration": 8,
    "start_time": "2023-04-24T14:32:16.706Z"
   },
   {
    "duration": 1675,
    "start_time": "2023-04-25T10:17:35.313Z"
   },
   {
    "duration": 1146,
    "start_time": "2023-04-25T10:17:36.990Z"
   },
   {
    "duration": 28,
    "start_time": "2023-04-25T10:17:38.137Z"
   },
   {
    "duration": 128,
    "start_time": "2023-04-25T10:17:38.169Z"
   },
   {
    "duration": 115,
    "start_time": "2023-04-25T10:17:38.298Z"
   },
   {
    "duration": 4,
    "start_time": "2023-04-25T10:17:38.415Z"
   },
   {
    "duration": 4,
    "start_time": "2023-04-25T10:17:38.420Z"
   },
   {
    "duration": 95,
    "start_time": "2023-04-25T10:17:38.425Z"
   },
   {
    "duration": 110,
    "start_time": "2023-04-25T10:17:38.522Z"
   },
   {
    "duration": 109,
    "start_time": "2023-04-25T10:17:38.634Z"
   },
   {
    "duration": 250,
    "start_time": "2023-04-25T10:18:56.394Z"
   },
   {
    "duration": 22,
    "start_time": "2023-04-25T10:19:05.013Z"
   },
   {
    "duration": 26,
    "start_time": "2023-04-25T10:19:17.548Z"
   },
   {
    "duration": 2839,
    "start_time": "2023-04-25T10:19:35.226Z"
   },
   {
    "duration": 28,
    "start_time": "2023-04-25T10:19:43.861Z"
   },
   {
    "duration": 79,
    "start_time": "2023-04-25T10:21:48.810Z"
   },
   {
    "duration": 20,
    "start_time": "2023-04-25T10:21:51.691Z"
   },
   {
    "duration": 143,
    "start_time": "2023-04-25T10:22:24.420Z"
   },
   {
    "duration": 5,
    "start_time": "2023-04-25T10:22:27.165Z"
   },
   {
    "duration": 8,
    "start_time": "2023-04-25T10:22:33.902Z"
   },
   {
    "duration": 5,
    "start_time": "2023-04-25T10:22:36.186Z"
   },
   {
    "duration": 133,
    "start_time": "2023-04-25T10:23:01.794Z"
   },
   {
    "duration": 81,
    "start_time": "2023-04-25T10:23:46.642Z"
   },
   {
    "duration": 4,
    "start_time": "2023-04-25T10:23:48.142Z"
   },
   {
    "duration": 5,
    "start_time": "2023-04-25T10:23:49.896Z"
   },
   {
    "duration": 109,
    "start_time": "2023-04-25T10:24:07.908Z"
   },
   {
    "duration": 71,
    "start_time": "2023-04-25T10:24:15.914Z"
   },
   {
    "duration": 13,
    "start_time": "2023-04-25T10:25:28.522Z"
   },
   {
    "duration": 13,
    "start_time": "2023-04-25T10:25:33.606Z"
   },
   {
    "duration": 19,
    "start_time": "2023-04-25T10:26:09.486Z"
   },
   {
    "duration": 21,
    "start_time": "2023-04-25T10:26:11.187Z"
   },
   {
    "duration": 46,
    "start_time": "2023-04-25T10:32:43.502Z"
   },
   {
    "duration": 72,
    "start_time": "2023-04-25T10:32:49.919Z"
   },
   {
    "duration": 3,
    "start_time": "2023-04-25T10:32:57.116Z"
   },
   {
    "duration": 4,
    "start_time": "2023-04-25T10:35:23.827Z"
   },
   {
    "duration": 226,
    "start_time": "2023-04-25T10:35:27.290Z"
   },
   {
    "duration": 238,
    "start_time": "2023-04-25T10:35:43.802Z"
   },
   {
    "duration": 189,
    "start_time": "2023-04-25T10:36:17.132Z"
   },
   {
    "duration": 4,
    "start_time": "2023-04-25T10:36:20.119Z"
   },
   {
    "duration": 5,
    "start_time": "2023-04-25T10:36:47.123Z"
   },
   {
    "duration": 5,
    "start_time": "2023-04-25T10:37:50.994Z"
   },
   {
    "duration": 11,
    "start_time": "2023-04-25T10:38:08.498Z"
   },
   {
    "duration": 9,
    "start_time": "2023-04-25T10:38:22.794Z"
   },
   {
    "duration": 12,
    "start_time": "2023-04-25T10:38:36.650Z"
   },
   {
    "duration": 56,
    "start_time": "2023-04-25T10:38:40.743Z"
   },
   {
    "duration": 27,
    "start_time": "2023-04-25T10:38:47.760Z"
   },
   {
    "duration": 904,
    "start_time": "2023-04-25T10:38:58.999Z"
   },
   {
    "duration": 10,
    "start_time": "2023-04-25T10:40:12.694Z"
   },
   {
    "duration": 6,
    "start_time": "2023-04-25T10:40:15.539Z"
   },
   {
    "duration": 9,
    "start_time": "2023-04-25T10:40:31.423Z"
   },
   {
    "duration": 8,
    "start_time": "2023-04-25T10:40:35.541Z"
   },
   {
    "duration": 8,
    "start_time": "2023-04-25T10:40:41.040Z"
   },
   {
    "duration": 7,
    "start_time": "2023-04-25T10:40:45.397Z"
   },
   {
    "duration": 3,
    "start_time": "2023-04-25T10:40:59.461Z"
   },
   {
    "duration": 6,
    "start_time": "2023-04-25T10:40:59.940Z"
   },
   {
    "duration": 12,
    "start_time": "2023-04-25T10:40:59.947Z"
   },
   {
    "duration": 6,
    "start_time": "2023-04-25T10:41:02.091Z"
   },
   {
    "duration": 7,
    "start_time": "2023-04-25T10:41:14.478Z"
   },
   {
    "duration": 9,
    "start_time": "2023-04-25T10:41:31.634Z"
   },
   {
    "duration": 50,
    "start_time": "2023-04-25T10:41:45.202Z"
   },
   {
    "duration": 265,
    "start_time": "2023-04-25T10:42:42.205Z"
   },
   {
    "duration": 300,
    "start_time": "2023-04-25T10:42:51.748Z"
   },
   {
    "duration": 5,
    "start_time": "2023-04-25T10:42:54.813Z"
   },
   {
    "duration": 4,
    "start_time": "2023-04-25T10:43:00.410Z"
   },
   {
    "duration": 4,
    "start_time": "2023-04-25T10:43:22.906Z"
   },
   {
    "duration": 5,
    "start_time": "2023-04-25T10:43:28.944Z"
   },
   {
    "duration": 14,
    "start_time": "2023-04-25T10:43:47.302Z"
   },
   {
    "duration": 12,
    "start_time": "2023-04-25T10:44:47.174Z"
   },
   {
    "duration": 338,
    "start_time": "2023-04-25T10:45:05.013Z"
   },
   {
    "duration": 8,
    "start_time": "2023-04-25T10:45:06.702Z"
   },
   {
    "duration": 102,
    "start_time": "2023-04-25T10:47:09.859Z"
   },
   {
    "duration": 8,
    "start_time": "2023-04-25T10:47:25.540Z"
   },
   {
    "duration": 4,
    "start_time": "2023-04-25T10:47:28.151Z"
   },
   {
    "duration": 5,
    "start_time": "2023-04-25T10:47:58.378Z"
   },
   {
    "duration": 5,
    "start_time": "2023-04-25T10:48:11.054Z"
   },
   {
    "duration": 4,
    "start_time": "2023-04-25T10:48:49.145Z"
   },
   {
    "duration": 801,
    "start_time": "2023-04-25T10:48:49.151Z"
   },
   {
    "duration": 19,
    "start_time": "2023-04-25T10:48:49.953Z"
   },
   {
    "duration": 145,
    "start_time": "2023-04-25T10:48:49.975Z"
   },
   {
    "duration": 115,
    "start_time": "2023-04-25T10:48:50.121Z"
   },
   {
    "duration": 12,
    "start_time": "2023-04-25T10:48:50.237Z"
   },
   {
    "duration": 26,
    "start_time": "2023-04-25T10:48:50.252Z"
   },
   {
    "duration": 100,
    "start_time": "2023-04-25T10:48:50.280Z"
   },
   {
    "duration": 94,
    "start_time": "2023-04-25T10:48:50.381Z"
   },
   {
    "duration": 114,
    "start_time": "2023-04-25T10:48:50.477Z"
   },
   {
    "duration": 3,
    "start_time": "2023-04-25T10:48:50.593Z"
   },
   {
    "duration": 3,
    "start_time": "2023-04-25T10:48:52.791Z"
   },
   {
    "duration": 3,
    "start_time": "2023-04-25T10:49:01.700Z"
   },
   {
    "duration": 312,
    "start_time": "2023-04-25T10:49:04.321Z"
   },
   {
    "duration": 3,
    "start_time": "2023-04-25T10:49:06.912Z"
   },
   {
    "duration": 4,
    "start_time": "2023-04-25T10:49:47.051Z"
   },
   {
    "duration": 11,
    "start_time": "2023-04-25T10:50:09.852Z"
   },
   {
    "duration": 31,
    "start_time": "2023-04-25T10:50:09.866Z"
   },
   {
    "duration": 4,
    "start_time": "2023-04-25T10:50:26.525Z"
   },
   {
    "duration": 4,
    "start_time": "2023-04-25T10:50:32.216Z"
   },
   {
    "duration": 120,
    "start_time": "2023-04-25T10:50:35.990Z"
   },
   {
    "duration": 3,
    "start_time": "2023-04-25T10:50:37.749Z"
   },
   {
    "duration": 5,
    "start_time": "2023-04-25T10:50:44.586Z"
   },
   {
    "duration": 4,
    "start_time": "2023-04-25T10:50:45.802Z"
   },
   {
    "duration": 3,
    "start_time": "2023-04-25T10:50:59.443Z"
   },
   {
    "duration": 391,
    "start_time": "2023-04-25T10:52:37.947Z"
   },
   {
    "duration": 14,
    "start_time": "2023-04-25T10:52:46.400Z"
   },
   {
    "duration": 38,
    "start_time": "2023-04-25T10:52:59.798Z"
   },
   {
    "duration": 107,
    "start_time": "2023-04-25T10:53:04.453Z"
   },
   {
    "duration": 4,
    "start_time": "2023-04-25T10:53:08.916Z"
   },
   {
    "duration": 2541,
    "start_time": "2023-04-25T10:53:10.279Z"
   },
   {
    "duration": 1743,
    "start_time": "2023-04-25T10:53:45.490Z"
   },
   {
    "duration": 1485,
    "start_time": "2023-04-25T10:53:52.880Z"
   },
   {
    "duration": 36,
    "start_time": "2023-04-25T10:53:59.034Z"
   },
   {
    "duration": 5,
    "start_time": "2023-04-25T10:54:35.337Z"
   },
   {
    "duration": 755,
    "start_time": "2023-04-25T10:54:35.344Z"
   },
   {
    "duration": 38,
    "start_time": "2023-04-25T10:54:36.101Z"
   },
   {
    "duration": 131,
    "start_time": "2023-04-25T10:54:36.141Z"
   },
   {
    "duration": 121,
    "start_time": "2023-04-25T10:54:36.276Z"
   },
   {
    "duration": 4,
    "start_time": "2023-04-25T10:54:36.398Z"
   },
   {
    "duration": 11,
    "start_time": "2023-04-25T10:54:36.403Z"
   },
   {
    "duration": 74,
    "start_time": "2023-04-25T10:54:36.415Z"
   },
   {
    "duration": 91,
    "start_time": "2023-04-25T10:54:36.491Z"
   },
   {
    "duration": 122,
    "start_time": "2023-04-25T10:54:36.585Z"
   },
   {
    "duration": 4,
    "start_time": "2023-04-25T10:54:36.709Z"
   },
   {
    "duration": 308,
    "start_time": "2023-04-25T10:54:36.714Z"
   },
   {
    "duration": 65,
    "start_time": "2023-04-25T10:54:37.024Z"
   },
   {
    "duration": 19,
    "start_time": "2023-04-25T10:54:37.091Z"
   },
   {
    "duration": 175,
    "start_time": "2023-04-25T10:54:37.111Z"
   },
   {
    "duration": 33,
    "start_time": "2023-04-25T10:54:37.288Z"
   },
   {
    "duration": 4,
    "start_time": "2023-04-25T10:54:37.323Z"
   },
   {
    "duration": 13,
    "start_time": "2023-04-25T10:54:37.328Z"
   },
   {
    "duration": 9,
    "start_time": "2023-04-25T10:54:37.342Z"
   },
   {
    "duration": 34515,
    "start_time": "2023-04-25T10:54:37.353Z"
   },
   {
    "duration": 60,
    "start_time": "2023-04-25T10:55:11.870Z"
   },
   {
    "duration": 33771,
    "start_time": "2023-04-25T10:55:11.932Z"
   },
   {
    "duration": 18,
    "start_time": "2023-04-25T10:55:45.704Z"
   },
   {
    "duration": 165,
    "start_time": "2023-04-25T10:55:45.723Z"
   },
   {
    "duration": 37,
    "start_time": "2023-04-25T10:55:45.889Z"
   },
   {
    "duration": 21,
    "start_time": "2023-04-25T10:55:45.928Z"
   },
   {
    "duration": 4,
    "start_time": "2023-04-25T10:55:45.950Z"
   },
   {
    "duration": 5,
    "start_time": "2023-04-25T10:55:45.958Z"
   },
   {
    "duration": 3572,
    "start_time": "2023-04-25T10:55:45.964Z"
   },
   {
    "duration": 116,
    "start_time": "2023-04-25T10:55:49.537Z"
   },
   {
    "duration": 29336,
    "start_time": "2023-04-25T10:55:49.654Z"
   },
   {
    "duration": 21,
    "start_time": "2023-04-25T10:56:18.992Z"
   },
   {
    "duration": 36,
    "start_time": "2023-04-25T10:56:19.015Z"
   },
   {
    "duration": 45,
    "start_time": "2023-04-25T10:56:19.053Z"
   },
   {
    "duration": 173,
    "start_time": "2023-04-25T10:56:19.101Z"
   },
   {
    "duration": 34,
    "start_time": "2023-04-25T10:56:19.276Z"
   },
   {
    "duration": 4,
    "start_time": "2023-04-25T10:56:19.311Z"
   },
   {
    "duration": 23,
    "start_time": "2023-04-25T10:56:19.317Z"
   },
   {
    "duration": 42,
    "start_time": "2023-04-25T10:56:19.341Z"
   },
   {
    "duration": 29320,
    "start_time": "2023-04-25T10:56:19.384Z"
   },
   {
    "duration": 55,
    "start_time": "2023-04-25T10:56:48.705Z"
   },
   {
    "duration": 42772,
    "start_time": "2023-04-25T10:56:48.761Z"
   },
   {
    "duration": 20,
    "start_time": "2023-04-25T10:57:31.534Z"
   },
   {
    "duration": 213,
    "start_time": "2023-04-25T10:57:31.556Z"
   },
   {
    "duration": 32,
    "start_time": "2023-04-25T10:57:31.771Z"
   },
   {
    "duration": 4,
    "start_time": "2023-04-25T10:57:31.805Z"
   },
   {
    "duration": 50,
    "start_time": "2023-04-25T10:57:31.810Z"
   },
   {
    "duration": 32,
    "start_time": "2023-04-25T10:57:31.863Z"
   },
   {
    "duration": 3492,
    "start_time": "2023-04-25T10:57:31.897Z"
   },
   {
    "duration": 130,
    "start_time": "2023-04-25T10:57:35.391Z"
   },
   {
    "duration": 106105,
    "start_time": "2023-04-25T10:57:35.522Z"
   },
   {
    "duration": 160,
    "start_time": "2023-04-25T10:59:21.628Z"
   },
   {
    "duration": 124,
    "start_time": "2023-04-25T10:59:21.790Z"
   },
   {
    "duration": 71,
    "start_time": "2023-04-25T10:59:21.916Z"
   },
   {
    "duration": 476,
    "start_time": "2023-04-25T10:59:21.989Z"
   },
   {
    "duration": 24,
    "start_time": "2023-04-25T10:59:22.466Z"
   },
   {
    "duration": 23,
    "start_time": "2023-04-25T10:59:22.492Z"
   },
   {
    "duration": 197,
    "start_time": "2023-04-25T10:59:22.516Z"
   },
   {
    "duration": 41,
    "start_time": "2023-04-25T10:59:22.715Z"
   },
   {
    "duration": 1899,
    "start_time": "2023-04-25T10:59:22.758Z"
   },
   {
    "duration": 7,
    "start_time": "2023-04-25T10:59:24.659Z"
   },
   {
    "duration": 24,
    "start_time": "2023-04-25T10:59:24.667Z"
   },
   {
    "duration": 23,
    "start_time": "2023-04-25T10:59:24.693Z"
   },
   {
    "duration": 6,
    "start_time": "2023-04-25T10:59:24.718Z"
   },
   {
    "duration": 24,
    "start_time": "2023-04-25T10:59:24.726Z"
   },
   {
    "duration": 18,
    "start_time": "2023-04-25T10:59:24.752Z"
   },
   {
    "duration": 28,
    "start_time": "2023-04-25T10:59:24.772Z"
   },
   {
    "duration": 391,
    "start_time": "2023-04-25T10:59:24.802Z"
   },
   {
    "duration": 6,
    "start_time": "2023-04-25T10:59:25.194Z"
   },
   {
    "duration": 202,
    "start_time": "2023-04-25T10:59:25.202Z"
   },
   {
    "duration": 8,
    "start_time": "2023-04-25T10:59:25.406Z"
   },
   {
    "duration": 16,
    "start_time": "2023-04-25T10:59:25.416Z"
   },
   {
    "duration": 49,
    "start_time": "2023-04-25T10:59:25.433Z"
   },
   {
    "duration": 14,
    "start_time": "2023-04-25T11:02:19.265Z"
   },
   {
    "duration": 11,
    "start_time": "2023-04-25T11:03:22.347Z"
   },
   {
    "duration": 5,
    "start_time": "2023-04-25T11:04:00.420Z"
   },
   {
    "duration": 876,
    "start_time": "2023-04-25T11:04:00.428Z"
   },
   {
    "duration": 15,
    "start_time": "2023-04-25T11:04:01.306Z"
   },
   {
    "duration": 170,
    "start_time": "2023-04-25T11:04:01.323Z"
   },
   {
    "duration": 143,
    "start_time": "2023-04-25T11:04:01.495Z"
   },
   {
    "duration": 10,
    "start_time": "2023-04-25T11:04:01.640Z"
   },
   {
    "duration": 40,
    "start_time": "2023-04-25T11:04:01.651Z"
   },
   {
    "duration": 95,
    "start_time": "2023-04-25T11:04:01.693Z"
   },
   {
    "duration": 96,
    "start_time": "2023-04-25T11:04:01.790Z"
   },
   {
    "duration": 110,
    "start_time": "2023-04-25T11:04:01.889Z"
   },
   {
    "duration": 7,
    "start_time": "2023-04-25T11:04:02.001Z"
   },
   {
    "duration": 375,
    "start_time": "2023-04-25T11:04:02.009Z"
   },
   {
    "duration": 64,
    "start_time": "2023-04-25T11:04:02.387Z"
   },
   {
    "duration": 36,
    "start_time": "2023-04-25T11:04:02.453Z"
   },
   {
    "duration": 191,
    "start_time": "2023-04-25T11:04:02.490Z"
   },
   {
    "duration": 34,
    "start_time": "2023-04-25T11:04:02.684Z"
   },
   {
    "duration": 5,
    "start_time": "2023-04-25T11:04:02.719Z"
   },
   {
    "duration": 19,
    "start_time": "2023-04-25T11:04:02.726Z"
   },
   {
    "duration": 23,
    "start_time": "2023-04-25T11:04:02.749Z"
   },
   {
    "duration": 36697,
    "start_time": "2023-04-25T11:04:02.774Z"
   },
   {
    "duration": 50,
    "start_time": "2023-04-25T11:04:39.473Z"
   },
   {
    "duration": 34087,
    "start_time": "2023-04-25T11:04:39.525Z"
   },
   {
    "duration": 18,
    "start_time": "2023-04-25T11:05:13.614Z"
   },
   {
    "duration": 172,
    "start_time": "2023-04-25T11:05:13.633Z"
   },
   {
    "duration": 43,
    "start_time": "2023-04-25T11:05:13.807Z"
   },
   {
    "duration": 9,
    "start_time": "2023-04-25T11:05:13.852Z"
   },
   {
    "duration": 17,
    "start_time": "2023-04-25T11:05:13.863Z"
   },
   {
    "duration": 12,
    "start_time": "2023-04-25T11:05:13.884Z"
   },
   {
    "duration": 3942,
    "start_time": "2023-04-25T11:05:13.898Z"
   },
   {
    "duration": 119,
    "start_time": "2023-04-25T11:05:17.842Z"
   },
   {
    "duration": 29762,
    "start_time": "2023-04-25T11:05:17.962Z"
   },
   {
    "duration": 26,
    "start_time": "2023-04-25T11:05:47.726Z"
   },
   {
    "duration": 32,
    "start_time": "2023-04-25T11:05:47.754Z"
   },
   {
    "duration": 26,
    "start_time": "2023-04-25T11:05:47.788Z"
   },
   {
    "duration": 167,
    "start_time": "2023-04-25T11:05:47.816Z"
   },
   {
    "duration": 36,
    "start_time": "2023-04-25T11:05:47.985Z"
   },
   {
    "duration": 4,
    "start_time": "2023-04-25T11:05:48.023Z"
   },
   {
    "duration": 23,
    "start_time": "2023-04-25T11:05:48.028Z"
   },
   {
    "duration": 12,
    "start_time": "2023-04-25T11:05:48.054Z"
   },
   {
    "duration": 28503,
    "start_time": "2023-04-25T11:05:48.068Z"
   },
   {
    "duration": 53,
    "start_time": "2023-04-25T11:06:16.573Z"
   },
   {
    "duration": 42315,
    "start_time": "2023-04-25T11:06:16.627Z"
   },
   {
    "duration": 27,
    "start_time": "2023-04-25T11:06:58.943Z"
   },
   {
    "duration": 189,
    "start_time": "2023-04-25T11:06:58.971Z"
   },
   {
    "duration": 33,
    "start_time": "2023-04-25T11:06:59.162Z"
   },
   {
    "duration": 4,
    "start_time": "2023-04-25T11:06:59.196Z"
   },
   {
    "duration": 38,
    "start_time": "2023-04-25T11:06:59.202Z"
   },
   {
    "duration": 41,
    "start_time": "2023-04-25T11:06:59.242Z"
   },
   {
    "duration": 4474,
    "start_time": "2023-04-25T11:06:59.285Z"
   },
   {
    "duration": 127,
    "start_time": "2023-04-25T11:07:03.761Z"
   },
   {
    "duration": 107066,
    "start_time": "2023-04-25T11:07:03.890Z"
   },
   {
    "duration": 116,
    "start_time": "2023-04-25T11:08:50.958Z"
   },
   {
    "duration": 102,
    "start_time": "2023-04-25T11:08:51.076Z"
   },
   {
    "duration": 54,
    "start_time": "2023-04-25T11:08:51.179Z"
   },
   {
    "duration": 424,
    "start_time": "2023-04-25T11:08:51.235Z"
   },
   {
    "duration": 25,
    "start_time": "2023-04-25T11:08:51.661Z"
   },
   {
    "duration": 24,
    "start_time": "2023-04-25T11:08:51.688Z"
   },
   {
    "duration": 181,
    "start_time": "2023-04-25T11:08:51.713Z"
   },
   {
    "duration": 26,
    "start_time": "2023-04-25T11:08:51.898Z"
   },
   {
    "duration": 1693,
    "start_time": "2023-04-25T11:08:51.926Z"
   },
   {
    "duration": 7,
    "start_time": "2023-04-25T11:08:53.621Z"
   },
   {
    "duration": 21,
    "start_time": "2023-04-25T11:08:53.630Z"
   },
   {
    "duration": 22,
    "start_time": "2023-04-25T11:08:53.653Z"
   },
   {
    "duration": 5,
    "start_time": "2023-04-25T11:08:53.677Z"
   },
   {
    "duration": 14,
    "start_time": "2023-04-25T11:08:53.684Z"
   },
   {
    "duration": 14,
    "start_time": "2023-04-25T11:08:53.699Z"
   },
   {
    "duration": 46,
    "start_time": "2023-04-25T11:08:53.715Z"
   },
   {
    "duration": 230,
    "start_time": "2023-04-25T11:08:53.763Z"
   },
   {
    "duration": 6,
    "start_time": "2023-04-25T11:08:53.994Z"
   },
   {
    "duration": 195,
    "start_time": "2023-04-25T11:08:54.001Z"
   },
   {
    "duration": 6,
    "start_time": "2023-04-25T11:08:54.198Z"
   },
   {
    "duration": 20,
    "start_time": "2023-04-25T11:09:25.439Z"
   },
   {
    "duration": 16,
    "start_time": "2023-04-25T11:09:34.066Z"
   },
   {
    "duration": 1404,
    "start_time": "2023-04-25T11:10:43.695Z"
   },
   {
    "duration": 18,
    "start_time": "2023-04-25T11:10:48.466Z"
   },
   {
    "duration": 15,
    "start_time": "2023-04-25T11:10:57.007Z"
   },
   {
    "duration": 20,
    "start_time": "2023-04-25T11:11:06.082Z"
   },
   {
    "duration": 12,
    "start_time": "2023-04-25T11:11:17.093Z"
   },
   {
    "duration": 13,
    "start_time": "2023-04-25T11:12:52.027Z"
   },
   {
    "duration": 30,
    "start_time": "2023-04-25T11:14:16.577Z"
   },
   {
    "duration": 3,
    "start_time": "2023-04-25T11:14:52.012Z"
   },
   {
    "duration": 3,
    "start_time": "2023-04-25T11:14:55.846Z"
   },
   {
    "duration": 208,
    "start_time": "2023-04-25T11:16:23.550Z"
   },
   {
    "duration": 96,
    "start_time": "2023-04-25T11:16:28.944Z"
   },
   {
    "duration": 124,
    "start_time": "2023-04-25T11:16:36.944Z"
   },
   {
    "duration": 6,
    "start_time": "2023-04-25T11:16:39.710Z"
   },
   {
    "duration": 5,
    "start_time": "2023-04-25T11:16:53.039Z"
   },
   {
    "duration": 161477,
    "start_time": "2023-04-25T11:17:51.071Z"
   },
   {
    "duration": 14,
    "start_time": "2023-04-25T11:20:46.130Z"
   },
   {
    "duration": 896,
    "start_time": "2023-04-25T11:20:51.068Z"
   },
   {
    "duration": 822,
    "start_time": "2023-04-25T11:21:04.980Z"
   },
   {
    "duration": 11,
    "start_time": "2023-04-25T11:23:14.104Z"
   },
   {
    "duration": 10,
    "start_time": "2023-04-25T11:23:26.740Z"
   },
   {
    "duration": 8,
    "start_time": "2023-04-25T11:26:06.777Z"
   },
   {
    "duration": 38,
    "start_time": "2023-04-25T11:26:11.989Z"
   },
   {
    "duration": 13,
    "start_time": "2023-04-25T11:26:17.111Z"
   },
   {
    "duration": 3,
    "start_time": "2023-04-25T11:26:24.129Z"
   },
   {
    "duration": 9,
    "start_time": "2023-04-25T11:26:30.694Z"
   },
   {
    "duration": 4,
    "start_time": "2023-04-25T11:26:39.427Z"
   },
   {
    "duration": 53,
    "start_time": "2023-04-25T11:27:58.428Z"
   },
   {
    "duration": 4,
    "start_time": "2023-04-25T11:28:43.327Z"
   },
   {
    "duration": 23,
    "start_time": "2023-04-25T11:29:25.062Z"
   },
   {
    "duration": 46,
    "start_time": "2023-04-25T11:30:32.102Z"
   },
   {
    "duration": 41,
    "start_time": "2023-04-25T11:31:20.466Z"
   },
   {
    "duration": 4,
    "start_time": "2023-04-25T11:31:27.681Z"
   },
   {
    "duration": 31,
    "start_time": "2023-04-25T11:34:39.151Z"
   },
   {
    "duration": 18,
    "start_time": "2023-04-25T11:34:59.762Z"
   },
   {
    "duration": 78,
    "start_time": "2023-04-25T11:36:03.225Z"
   },
   {
    "duration": 19,
    "start_time": "2023-04-25T11:36:03.305Z"
   },
   {
    "duration": 4,
    "start_time": "2023-04-25T11:36:03.325Z"
   },
   {
    "duration": 25,
    "start_time": "2023-04-25T11:36:03.331Z"
   },
   {
    "duration": 4,
    "start_time": "2023-04-25T11:36:03.358Z"
   },
   {
    "duration": 141586,
    "start_time": "2023-04-25T11:36:03.364Z"
   },
   {
    "duration": 8,
    "start_time": "2023-04-25T11:38:24.952Z"
   },
   {
    "duration": 176185,
    "start_time": "2023-04-25T11:38:24.968Z"
   },
   {
    "duration": 3,
    "start_time": "2023-04-25T11:41:21.154Z"
   },
   {
    "duration": 138198,
    "start_time": "2023-04-25T11:41:21.159Z"
   },
   {
    "duration": 9,
    "start_time": "2023-04-25T11:43:39.359Z"
   },
   {
    "duration": 0,
    "start_time": "2023-04-25T11:43:39.449Z"
   },
   {
    "duration": 0,
    "start_time": "2023-04-25T11:43:39.451Z"
   },
   {
    "duration": 0,
    "start_time": "2023-04-25T11:43:39.451Z"
   },
   {
    "duration": 0,
    "start_time": "2023-04-25T11:43:39.452Z"
   },
   {
    "duration": 0,
    "start_time": "2023-04-25T11:43:39.453Z"
   },
   {
    "duration": 0,
    "start_time": "2023-04-25T11:43:39.454Z"
   },
   {
    "duration": 0,
    "start_time": "2023-04-25T11:43:39.455Z"
   },
   {
    "duration": 0,
    "start_time": "2023-04-25T11:43:39.457Z"
   },
   {
    "duration": 1,
    "start_time": "2023-04-25T11:43:39.457Z"
   },
   {
    "duration": 0,
    "start_time": "2023-04-25T11:43:39.458Z"
   },
   {
    "duration": 0,
    "start_time": "2023-04-25T11:43:39.459Z"
   },
   {
    "duration": 0,
    "start_time": "2023-04-25T11:43:39.460Z"
   },
   {
    "duration": 0,
    "start_time": "2023-04-25T11:43:39.461Z"
   },
   {
    "duration": 0,
    "start_time": "2023-04-25T11:43:39.463Z"
   },
   {
    "duration": 0,
    "start_time": "2023-04-25T11:43:39.465Z"
   },
   {
    "duration": 0,
    "start_time": "2023-04-25T11:43:39.466Z"
   },
   {
    "duration": 0,
    "start_time": "2023-04-25T11:43:39.467Z"
   },
   {
    "duration": 0,
    "start_time": "2023-04-25T11:43:39.468Z"
   },
   {
    "duration": 0,
    "start_time": "2023-04-25T11:43:39.469Z"
   },
   {
    "duration": 0,
    "start_time": "2023-04-25T11:43:39.470Z"
   },
   {
    "duration": 0,
    "start_time": "2023-04-25T11:43:39.471Z"
   },
   {
    "duration": 0,
    "start_time": "2023-04-25T11:43:39.472Z"
   },
   {
    "duration": 0,
    "start_time": "2023-04-25T11:43:39.473Z"
   },
   {
    "duration": 0,
    "start_time": "2023-04-25T11:43:39.474Z"
   },
   {
    "duration": 0,
    "start_time": "2023-04-25T11:43:39.475Z"
   },
   {
    "duration": 9,
    "start_time": "2023-04-25T11:45:58.232Z"
   },
   {
    "duration": 35,
    "start_time": "2023-04-25T11:45:59.243Z"
   },
   {
    "duration": 8,
    "start_time": "2023-04-25T11:46:03.531Z"
   },
   {
    "duration": 6,
    "start_time": "2023-04-25T11:46:18.552Z"
   },
   {
    "duration": 9,
    "start_time": "2023-04-25T11:46:26.372Z"
   },
   {
    "duration": 44,
    "start_time": "2023-04-25T11:46:38.297Z"
   },
   {
    "duration": 102,
    "start_time": "2023-04-25T11:46:43.825Z"
   },
   {
    "duration": 1547,
    "start_time": "2023-04-25T11:46:45.829Z"
   },
   {
    "duration": 142,
    "start_time": "2023-04-25T11:46:56.447Z"
   },
   {
    "duration": 4068,
    "start_time": "2023-04-25T11:47:00.286Z"
   },
   {
    "duration": 47,
    "start_time": "2023-04-25T11:47:12.502Z"
   },
   {
    "duration": 6,
    "start_time": "2023-04-25T11:47:12.551Z"
   },
   {
    "duration": 4667,
    "start_time": "2023-04-25T11:47:12.558Z"
   },
   {
    "duration": 48,
    "start_time": "2023-04-25T11:47:17.227Z"
   },
   {
    "duration": 6,
    "start_time": "2023-04-25T11:47:17.277Z"
   },
   {
    "duration": 52461,
    "start_time": "2023-04-25T11:47:17.285Z"
   },
   {
    "duration": 94,
    "start_time": "2023-04-25T11:48:09.747Z"
   },
   {
    "duration": 5,
    "start_time": "2023-04-25T11:48:09.850Z"
   },
   {
    "duration": 16,
    "start_time": "2023-04-25T11:48:09.857Z"
   },
   {
    "duration": 706875,
    "start_time": "2023-04-25T11:48:09.876Z"
   },
   {
    "duration": 4185,
    "start_time": "2023-04-25T11:59:56.757Z"
   },
   {
    "duration": 1317,
    "start_time": "2023-04-25T12:00:00.944Z"
   },
   {
    "duration": 495,
    "start_time": "2023-04-25T12:00:02.263Z"
   },
   {
    "duration": 119,
    "start_time": "2023-04-25T12:00:02.760Z"
   },
   {
    "duration": 268,
    "start_time": "2023-04-25T12:00:02.881Z"
   },
   {
    "duration": 7,
    "start_time": "2023-04-25T12:00:03.150Z"
   },
   {
    "duration": 134,
    "start_time": "2023-04-25T12:00:03.159Z"
   },
   {
    "duration": 66,
    "start_time": "2023-04-25T12:00:03.294Z"
   },
   {
    "duration": 112723,
    "start_time": "2023-04-25T12:03:53.627Z"
   },
   {
    "duration": 3,
    "start_time": "2023-04-25T12:05:51.226Z"
   },
   {
    "duration": 3,
    "start_time": "2023-04-25T12:05:52.905Z"
   },
   {
    "duration": 249563,
    "start_time": "2023-04-25T12:05:53.496Z"
   },
   {
    "duration": 1521,
    "start_time": "2023-04-25T12:13:42.183Z"
   },
   {
    "duration": 832,
    "start_time": "2023-04-25T12:13:43.706Z"
   },
   {
    "duration": 33,
    "start_time": "2023-04-25T12:13:44.540Z"
   },
   {
    "duration": 188,
    "start_time": "2023-04-25T12:13:44.576Z"
   },
   {
    "duration": 156,
    "start_time": "2023-04-25T12:13:44.766Z"
   },
   {
    "duration": 4,
    "start_time": "2023-04-25T12:13:44.924Z"
   },
   {
    "duration": 15,
    "start_time": "2023-04-25T12:13:44.930Z"
   },
   {
    "duration": 81,
    "start_time": "2023-04-25T12:13:44.957Z"
   },
   {
    "duration": 130,
    "start_time": "2023-04-25T12:13:45.040Z"
   },
   {
    "duration": 119,
    "start_time": "2023-04-25T12:13:45.171Z"
   },
   {
    "duration": 4,
    "start_time": "2023-04-25T12:13:45.291Z"
   },
   {
    "duration": 380,
    "start_time": "2023-04-25T12:13:45.297Z"
   },
   {
    "duration": 112,
    "start_time": "2023-04-25T12:13:45.679Z"
   },
   {
    "duration": 18,
    "start_time": "2023-04-25T12:13:45.794Z"
   },
   {
    "duration": 189,
    "start_time": "2023-04-25T12:13:45.814Z"
   },
   {
    "duration": 37,
    "start_time": "2023-04-25T12:13:46.004Z"
   },
   {
    "duration": 17,
    "start_time": "2023-04-25T12:13:46.043Z"
   },
   {
    "duration": 32,
    "start_time": "2023-04-25T12:13:46.062Z"
   },
   {
    "duration": 25,
    "start_time": "2023-04-25T12:13:46.096Z"
   },
   {
    "duration": 34813,
    "start_time": "2023-04-25T12:13:46.122Z"
   },
   {
    "duration": 66,
    "start_time": "2023-04-25T12:14:20.936Z"
   },
   {
    "duration": 35152,
    "start_time": "2023-04-25T12:14:21.004Z"
   },
   {
    "duration": 21,
    "start_time": "2023-04-25T12:14:56.158Z"
   },
   {
    "duration": 194,
    "start_time": "2023-04-25T12:14:56.180Z"
   },
   {
    "duration": 38,
    "start_time": "2023-04-25T12:14:56.376Z"
   },
   {
    "duration": 4,
    "start_time": "2023-04-25T12:14:56.415Z"
   },
   {
    "duration": 15,
    "start_time": "2023-04-25T12:14:56.420Z"
   },
   {
    "duration": 33,
    "start_time": "2023-04-25T12:14:56.436Z"
   },
   {
    "duration": 3625,
    "start_time": "2023-04-25T12:14:56.471Z"
   },
   {
    "duration": 115,
    "start_time": "2023-04-25T12:15:00.098Z"
   },
   {
    "duration": 29991,
    "start_time": "2023-04-25T12:15:00.215Z"
   },
   {
    "duration": 19,
    "start_time": "2023-04-25T12:15:30.207Z"
   },
   {
    "duration": 64,
    "start_time": "2023-04-25T12:15:30.227Z"
   },
   {
    "duration": 44,
    "start_time": "2023-04-25T12:15:30.293Z"
   },
   {
    "duration": 216,
    "start_time": "2023-04-25T12:15:30.339Z"
   },
   {
    "duration": 40,
    "start_time": "2023-04-25T12:15:30.558Z"
   },
   {
    "duration": 8,
    "start_time": "2023-04-25T12:15:30.599Z"
   },
   {
    "duration": 57,
    "start_time": "2023-04-25T12:15:30.608Z"
   },
   {
    "duration": 65,
    "start_time": "2023-04-25T12:15:30.667Z"
   },
   {
    "duration": 29769,
    "start_time": "2023-04-25T12:15:30.734Z"
   },
   {
    "duration": 61,
    "start_time": "2023-04-25T12:16:00.508Z"
   },
   {
    "duration": 43074,
    "start_time": "2023-04-25T12:16:00.571Z"
   },
   {
    "duration": 40,
    "start_time": "2023-04-25T12:16:43.647Z"
   },
   {
    "duration": 192,
    "start_time": "2023-04-25T12:16:43.688Z"
   },
   {
    "duration": 33,
    "start_time": "2023-04-25T12:16:43.882Z"
   },
   {
    "duration": 4,
    "start_time": "2023-04-25T12:16:43.917Z"
   },
   {
    "duration": 17,
    "start_time": "2023-04-25T12:16:43.922Z"
   },
   {
    "duration": 21,
    "start_time": "2023-04-25T12:16:43.940Z"
   },
   {
    "duration": 3563,
    "start_time": "2023-04-25T12:16:43.963Z"
   },
   {
    "duration": 95,
    "start_time": "2023-04-25T12:16:47.528Z"
   },
   {
    "duration": 109368,
    "start_time": "2023-04-25T12:16:47.625Z"
   },
   {
    "duration": 111,
    "start_time": "2023-04-25T12:18:36.995Z"
   },
   {
    "duration": 114,
    "start_time": "2023-04-25T12:18:37.108Z"
   },
   {
    "duration": 67,
    "start_time": "2023-04-25T12:18:37.224Z"
   },
   {
    "duration": 468,
    "start_time": "2023-04-25T12:18:37.292Z"
   },
   {
    "duration": 35,
    "start_time": "2023-04-25T12:18:37.762Z"
   },
   {
    "duration": 25,
    "start_time": "2023-04-25T12:18:37.799Z"
   },
   {
    "duration": 189,
    "start_time": "2023-04-25T12:18:37.826Z"
   },
   {
    "duration": 26,
    "start_time": "2023-04-25T12:18:38.017Z"
   },
   {
    "duration": 1965,
    "start_time": "2023-04-25T12:18:38.045Z"
   },
   {
    "duration": 8,
    "start_time": "2023-04-25T12:18:40.012Z"
   },
   {
    "duration": 23,
    "start_time": "2023-04-25T12:18:40.021Z"
   },
   {
    "duration": 33,
    "start_time": "2023-04-25T12:18:40.046Z"
   },
   {
    "duration": 8,
    "start_time": "2023-04-25T12:18:40.080Z"
   },
   {
    "duration": 23,
    "start_time": "2023-04-25T12:18:40.090Z"
   },
   {
    "duration": 12,
    "start_time": "2023-04-25T12:18:40.114Z"
   },
   {
    "duration": 16,
    "start_time": "2023-04-25T12:18:40.128Z"
   },
   {
    "duration": 259,
    "start_time": "2023-04-25T12:18:40.145Z"
   },
   {
    "duration": 6,
    "start_time": "2023-04-25T12:18:40.406Z"
   },
   {
    "duration": 209,
    "start_time": "2023-04-25T12:18:40.414Z"
   },
   {
    "duration": 7,
    "start_time": "2023-04-25T12:18:40.625Z"
   },
   {
    "duration": 65,
    "start_time": "2023-04-25T12:18:40.633Z"
   },
   {
    "duration": 67,
    "start_time": "2023-04-25T12:18:40.700Z"
   },
   {
    "duration": 19,
    "start_time": "2023-04-25T12:18:40.769Z"
   },
   {
    "duration": 4,
    "start_time": "2023-04-25T12:18:40.790Z"
   },
   {
    "duration": 18,
    "start_time": "2023-04-25T12:18:40.795Z"
   },
   {
    "duration": 144,
    "start_time": "2023-04-25T12:18:40.815Z"
   },
   {
    "duration": 0,
    "start_time": "2023-04-25T12:18:40.961Z"
   },
   {
    "duration": 0,
    "start_time": "2023-04-25T12:18:40.962Z"
   },
   {
    "duration": 1,
    "start_time": "2023-04-25T12:18:40.962Z"
   },
   {
    "duration": 0,
    "start_time": "2023-04-25T12:18:40.963Z"
   },
   {
    "duration": 0,
    "start_time": "2023-04-25T12:18:40.964Z"
   },
   {
    "duration": 0,
    "start_time": "2023-04-25T12:18:40.965Z"
   },
   {
    "duration": 0,
    "start_time": "2023-04-25T12:18:40.966Z"
   },
   {
    "duration": 0,
    "start_time": "2023-04-25T12:18:40.967Z"
   },
   {
    "duration": 0,
    "start_time": "2023-04-25T12:18:40.969Z"
   },
   {
    "duration": 0,
    "start_time": "2023-04-25T12:18:40.971Z"
   },
   {
    "duration": 0,
    "start_time": "2023-04-25T12:18:40.972Z"
   },
   {
    "duration": 0,
    "start_time": "2023-04-25T12:18:40.974Z"
   },
   {
    "duration": 0,
    "start_time": "2023-04-25T12:18:40.975Z"
   },
   {
    "duration": 0,
    "start_time": "2023-04-25T12:18:40.977Z"
   },
   {
    "duration": 0,
    "start_time": "2023-04-25T12:18:40.979Z"
   },
   {
    "duration": 0,
    "start_time": "2023-04-25T12:18:40.981Z"
   },
   {
    "duration": 0,
    "start_time": "2023-04-25T12:18:40.982Z"
   },
   {
    "duration": 0,
    "start_time": "2023-04-25T12:18:40.984Z"
   },
   {
    "duration": 0,
    "start_time": "2023-04-25T12:18:40.985Z"
   },
   {
    "duration": 0,
    "start_time": "2023-04-25T12:18:40.986Z"
   },
   {
    "duration": 0,
    "start_time": "2023-04-25T12:18:40.987Z"
   },
   {
    "duration": 0,
    "start_time": "2023-04-25T12:18:40.990Z"
   },
   {
    "duration": 0,
    "start_time": "2023-04-25T12:18:40.992Z"
   },
   {
    "duration": 0,
    "start_time": "2023-04-25T12:18:40.993Z"
   },
   {
    "duration": 0,
    "start_time": "2023-04-25T12:18:40.994Z"
   },
   {
    "duration": 0,
    "start_time": "2023-04-25T12:18:40.996Z"
   },
   {
    "duration": 0,
    "start_time": "2023-04-25T12:18:40.997Z"
   },
   {
    "duration": 0,
    "start_time": "2023-04-25T12:18:40.998Z"
   },
   {
    "duration": 0,
    "start_time": "2023-04-25T12:18:41.000Z"
   },
   {
    "duration": 0,
    "start_time": "2023-04-25T12:18:41.001Z"
   },
   {
    "duration": 0,
    "start_time": "2023-04-25T12:18:41.057Z"
   },
   {
    "duration": 4,
    "start_time": "2023-04-25T12:20:53.289Z"
   },
   {
    "duration": 558068,
    "start_time": "2023-04-25T12:20:53.295Z"
   },
   {
    "duration": 8,
    "start_time": "2023-04-25T12:30:11.368Z"
   },
   {
    "duration": 241156,
    "start_time": "2023-04-25T12:30:11.377Z"
   },
   {
    "duration": 3,
    "start_time": "2023-04-25T12:34:12.535Z"
   },
   {
    "duration": 1631,
    "start_time": "2023-04-25T12:39:04.763Z"
   },
   {
    "duration": 872,
    "start_time": "2023-04-25T12:39:06.396Z"
   },
   {
    "duration": 21,
    "start_time": "2023-04-25T12:39:07.271Z"
   },
   {
    "duration": 192,
    "start_time": "2023-04-25T12:39:07.294Z"
   },
   {
    "duration": 126,
    "start_time": "2023-04-25T12:39:07.489Z"
   },
   {
    "duration": 4,
    "start_time": "2023-04-25T12:39:07.617Z"
   },
   {
    "duration": 39,
    "start_time": "2023-04-25T12:39:07.622Z"
   },
   {
    "duration": 92,
    "start_time": "2023-04-25T12:39:07.663Z"
   },
   {
    "duration": 117,
    "start_time": "2023-04-25T12:39:07.760Z"
   },
   {
    "duration": 116,
    "start_time": "2023-04-25T12:39:07.878Z"
   },
   {
    "duration": 4,
    "start_time": "2023-04-25T12:39:07.995Z"
   },
   {
    "duration": 413,
    "start_time": "2023-04-25T12:39:08.001Z"
   },
   {
    "duration": 86,
    "start_time": "2023-04-25T12:39:08.415Z"
   },
   {
    "duration": 17,
    "start_time": "2023-04-25T12:39:08.504Z"
   },
   {
    "duration": 222,
    "start_time": "2023-04-25T12:39:08.524Z"
   },
   {
    "duration": 46,
    "start_time": "2023-04-25T12:39:08.751Z"
   },
   {
    "duration": 5,
    "start_time": "2023-04-25T12:39:08.798Z"
   },
   {
    "duration": 25,
    "start_time": "2023-04-25T12:39:08.805Z"
   },
   {
    "duration": 34,
    "start_time": "2023-04-25T12:39:08.831Z"
   },
   {
    "duration": 36327,
    "start_time": "2023-04-25T12:39:08.867Z"
   },
   {
    "duration": 60,
    "start_time": "2023-04-25T12:39:45.195Z"
   },
   {
    "duration": 34867,
    "start_time": "2023-04-25T12:39:45.260Z"
   },
   {
    "duration": 31,
    "start_time": "2023-04-25T12:40:20.128Z"
   },
   {
    "duration": 183,
    "start_time": "2023-04-25T12:40:20.161Z"
   },
   {
    "duration": 46,
    "start_time": "2023-04-25T12:40:20.345Z"
   },
   {
    "duration": 5,
    "start_time": "2023-04-25T12:40:20.393Z"
   },
   {
    "duration": 23,
    "start_time": "2023-04-25T12:40:20.400Z"
   },
   {
    "duration": 23,
    "start_time": "2023-04-25T12:40:20.424Z"
   },
   {
    "duration": 3712,
    "start_time": "2023-04-25T12:40:20.460Z"
   },
   {
    "duration": 136,
    "start_time": "2023-04-25T12:40:24.174Z"
   },
   {
    "duration": 30064,
    "start_time": "2023-04-25T12:40:24.311Z"
   },
   {
    "duration": 21,
    "start_time": "2023-04-25T12:40:54.379Z"
   },
   {
    "duration": 23,
    "start_time": "2023-04-25T12:40:54.401Z"
   },
   {
    "duration": 48,
    "start_time": "2023-04-25T12:40:54.426Z"
   },
   {
    "duration": 188,
    "start_time": "2023-04-25T12:40:54.475Z"
   },
   {
    "duration": 50,
    "start_time": "2023-04-25T12:40:54.666Z"
   },
   {
    "duration": 4,
    "start_time": "2023-04-25T12:40:54.718Z"
   },
   {
    "duration": 44,
    "start_time": "2023-04-25T12:40:54.723Z"
   },
   {
    "duration": 26,
    "start_time": "2023-04-25T12:40:54.770Z"
   },
   {
    "duration": 29865,
    "start_time": "2023-04-25T12:40:54.798Z"
   },
   {
    "duration": 76,
    "start_time": "2023-04-25T12:41:24.671Z"
   },
   {
    "duration": 44529,
    "start_time": "2023-04-25T12:41:24.749Z"
   },
   {
    "duration": 17,
    "start_time": "2023-04-25T12:42:09.280Z"
   },
   {
    "duration": 199,
    "start_time": "2023-04-25T12:42:09.299Z"
   },
   {
    "duration": 38,
    "start_time": "2023-04-25T12:42:09.500Z"
   },
   {
    "duration": 4,
    "start_time": "2023-04-25T12:42:09.539Z"
   },
   {
    "duration": 14,
    "start_time": "2023-04-25T12:42:09.556Z"
   },
   {
    "duration": 26,
    "start_time": "2023-04-25T12:42:09.572Z"
   },
   {
    "duration": 3183,
    "start_time": "2023-04-25T12:42:09.600Z"
   },
   {
    "duration": 90,
    "start_time": "2023-04-25T12:42:12.785Z"
   },
   {
    "duration": 108469,
    "start_time": "2023-04-25T12:42:12.878Z"
   },
   {
    "duration": 110,
    "start_time": "2023-04-25T12:44:01.357Z"
   },
   {
    "duration": 102,
    "start_time": "2023-04-25T12:44:01.468Z"
   },
   {
    "duration": 64,
    "start_time": "2023-04-25T12:44:01.572Z"
   },
   {
    "duration": 457,
    "start_time": "2023-04-25T12:44:01.638Z"
   },
   {
    "duration": 23,
    "start_time": "2023-04-25T12:44:02.097Z"
   },
   {
    "duration": 46,
    "start_time": "2023-04-25T12:44:02.122Z"
   },
   {
    "duration": 185,
    "start_time": "2023-04-25T12:44:02.171Z"
   },
   {
    "duration": 26,
    "start_time": "2023-04-25T12:44:02.358Z"
   },
   {
    "duration": 1923,
    "start_time": "2023-04-25T12:44:02.386Z"
   },
   {
    "duration": 7,
    "start_time": "2023-04-25T12:44:04.311Z"
   },
   {
    "duration": 19,
    "start_time": "2023-04-25T12:44:04.319Z"
   },
   {
    "duration": 26,
    "start_time": "2023-04-25T12:44:04.340Z"
   },
   {
    "duration": 27,
    "start_time": "2023-04-25T12:44:04.368Z"
   },
   {
    "duration": 35,
    "start_time": "2023-04-25T12:44:04.397Z"
   },
   {
    "duration": 17,
    "start_time": "2023-04-25T12:44:04.434Z"
   },
   {
    "duration": 36,
    "start_time": "2023-04-25T12:44:04.453Z"
   },
   {
    "duration": 281,
    "start_time": "2023-04-25T12:44:04.490Z"
   },
   {
    "duration": 5,
    "start_time": "2023-04-25T12:44:04.773Z"
   },
   {
    "duration": 228,
    "start_time": "2023-04-25T12:44:04.780Z"
   },
   {
    "duration": 6,
    "start_time": "2023-04-25T12:44:05.010Z"
   },
   {
    "duration": 1595,
    "start_time": "2023-04-25T12:44:05.018Z"
   },
   {
    "duration": 0,
    "start_time": "2023-04-25T12:44:06.615Z"
   },
   {
    "duration": 0,
    "start_time": "2023-04-25T12:44:06.616Z"
   },
   {
    "duration": 0,
    "start_time": "2023-04-25T12:44:06.618Z"
   },
   {
    "duration": 0,
    "start_time": "2023-04-25T12:44:06.619Z"
   },
   {
    "duration": 0,
    "start_time": "2023-04-25T12:44:06.620Z"
   },
   {
    "duration": 0,
    "start_time": "2023-04-25T12:44:06.621Z"
   },
   {
    "duration": 0,
    "start_time": "2023-04-25T12:44:06.622Z"
   },
   {
    "duration": 0,
    "start_time": "2023-04-25T12:44:06.622Z"
   },
   {
    "duration": 0,
    "start_time": "2023-04-25T12:44:06.624Z"
   },
   {
    "duration": 0,
    "start_time": "2023-04-25T12:44:06.624Z"
   },
   {
    "duration": 0,
    "start_time": "2023-04-25T12:44:06.625Z"
   },
   {
    "duration": 0,
    "start_time": "2023-04-25T12:44:06.626Z"
   },
   {
    "duration": 0,
    "start_time": "2023-04-25T12:44:06.627Z"
   },
   {
    "duration": 0,
    "start_time": "2023-04-25T12:44:06.628Z"
   },
   {
    "duration": 0,
    "start_time": "2023-04-25T12:44:06.629Z"
   },
   {
    "duration": 0,
    "start_time": "2023-04-25T12:44:06.630Z"
   },
   {
    "duration": 0,
    "start_time": "2023-04-25T12:44:06.631Z"
   },
   {
    "duration": 0,
    "start_time": "2023-04-25T12:44:06.632Z"
   },
   {
    "duration": 0,
    "start_time": "2023-04-25T12:44:06.633Z"
   },
   {
    "duration": 0,
    "start_time": "2023-04-25T12:44:06.634Z"
   },
   {
    "duration": 0,
    "start_time": "2023-04-25T12:44:06.635Z"
   },
   {
    "duration": 0,
    "start_time": "2023-04-25T12:44:06.636Z"
   },
   {
    "duration": 0,
    "start_time": "2023-04-25T12:44:06.637Z"
   },
   {
    "duration": 0,
    "start_time": "2023-04-25T12:44:06.638Z"
   },
   {
    "duration": 0,
    "start_time": "2023-04-25T12:44:06.639Z"
   },
   {
    "duration": 0,
    "start_time": "2023-04-25T12:44:06.640Z"
   },
   {
    "duration": 0,
    "start_time": "2023-04-25T12:44:06.641Z"
   },
   {
    "duration": 0,
    "start_time": "2023-04-25T12:44:06.642Z"
   },
   {
    "duration": 0,
    "start_time": "2023-04-25T12:44:06.643Z"
   },
   {
    "duration": 0,
    "start_time": "2023-04-25T12:44:06.644Z"
   },
   {
    "duration": 0,
    "start_time": "2023-04-25T12:44:06.645Z"
   },
   {
    "duration": 0,
    "start_time": "2023-04-25T12:44:06.646Z"
   },
   {
    "duration": 0,
    "start_time": "2023-04-25T12:44:06.647Z"
   },
   {
    "duration": 0,
    "start_time": "2023-04-25T12:44:06.648Z"
   },
   {
    "duration": 0,
    "start_time": "2023-04-25T12:44:06.649Z"
   },
   {
    "duration": 16,
    "start_time": "2023-04-25T12:46:43.657Z"
   },
   {
    "duration": 39,
    "start_time": "2023-04-25T12:46:45.706Z"
   },
   {
    "duration": 81,
    "start_time": "2023-04-25T12:46:54.483Z"
   },
   {
    "duration": 21,
    "start_time": "2023-04-25T12:46:54.567Z"
   },
   {
    "duration": 31,
    "start_time": "2023-04-25T12:46:54.589Z"
   },
   {
    "duration": 36,
    "start_time": "2023-04-25T12:46:54.622Z"
   },
   {
    "duration": 25,
    "start_time": "2023-04-25T12:46:54.661Z"
   },
   {
    "duration": 769480,
    "start_time": "2023-04-25T12:46:54.688Z"
   },
   {
    "duration": 3,
    "start_time": "2023-04-25T12:59:44.169Z"
   },
   {
    "duration": 605605,
    "start_time": "2023-04-25T12:59:44.174Z"
   },
   {
    "duration": 11,
    "start_time": "2023-04-25T13:09:49.856Z"
   },
   {
    "duration": 1566,
    "start_time": "2023-04-25T13:33:36.332Z"
   },
   {
    "duration": 790,
    "start_time": "2023-04-25T13:33:37.900Z"
   },
   {
    "duration": 17,
    "start_time": "2023-04-25T13:33:38.692Z"
   },
   {
    "duration": 150,
    "start_time": "2023-04-25T13:33:38.711Z"
   },
   {
    "duration": 153,
    "start_time": "2023-04-25T13:33:38.863Z"
   },
   {
    "duration": 5,
    "start_time": "2023-04-25T13:33:39.018Z"
   },
   {
    "duration": 17,
    "start_time": "2023-04-25T13:33:39.025Z"
   },
   {
    "duration": 129,
    "start_time": "2023-04-25T13:33:39.044Z"
   },
   {
    "duration": 142,
    "start_time": "2023-04-25T13:33:39.175Z"
   },
   {
    "duration": 123,
    "start_time": "2023-04-25T13:33:39.318Z"
   },
   {
    "duration": 4,
    "start_time": "2023-04-25T13:33:39.442Z"
   },
   {
    "duration": 417,
    "start_time": "2023-04-25T13:33:39.448Z"
   },
   {
    "duration": 133,
    "start_time": "2023-04-25T13:33:39.868Z"
   },
   {
    "duration": 18,
    "start_time": "2023-04-25T13:33:40.005Z"
   },
   {
    "duration": 207,
    "start_time": "2023-04-25T13:33:40.025Z"
   },
   {
    "duration": 43,
    "start_time": "2023-04-25T13:33:40.234Z"
   },
   {
    "duration": 5,
    "start_time": "2023-04-25T13:33:40.278Z"
   },
   {
    "duration": 9,
    "start_time": "2023-04-25T13:33:40.284Z"
   },
   {
    "duration": 7,
    "start_time": "2023-04-25T13:33:40.295Z"
   },
   {
    "duration": 34210,
    "start_time": "2023-04-25T13:33:40.304Z"
   },
   {
    "duration": 56,
    "start_time": "2023-04-25T13:34:14.516Z"
   },
   {
    "duration": 34332,
    "start_time": "2023-04-25T13:34:14.573Z"
   },
   {
    "duration": 17,
    "start_time": "2023-04-25T13:34:48.907Z"
   },
   {
    "duration": 189,
    "start_time": "2023-04-25T13:34:48.925Z"
   },
   {
    "duration": 47,
    "start_time": "2023-04-25T13:34:49.116Z"
   },
   {
    "duration": 4,
    "start_time": "2023-04-25T13:34:49.165Z"
   },
   {
    "duration": 15,
    "start_time": "2023-04-25T13:34:49.171Z"
   },
   {
    "duration": 13,
    "start_time": "2023-04-25T13:34:49.187Z"
   },
   {
    "duration": 3798,
    "start_time": "2023-04-25T13:34:49.201Z"
   },
   {
    "duration": 133,
    "start_time": "2023-04-25T13:34:53.001Z"
   },
   {
    "duration": 29322,
    "start_time": "2023-04-25T13:34:53.136Z"
   },
   {
    "duration": 32,
    "start_time": "2023-04-25T13:35:22.462Z"
   },
   {
    "duration": 22,
    "start_time": "2023-04-25T13:35:22.496Z"
   },
   {
    "duration": 34,
    "start_time": "2023-04-25T13:35:22.520Z"
   },
   {
    "duration": 198,
    "start_time": "2023-04-25T13:35:22.556Z"
   },
   {
    "duration": 43,
    "start_time": "2023-04-25T13:35:22.757Z"
   },
   {
    "duration": 4,
    "start_time": "2023-04-25T13:35:22.802Z"
   },
   {
    "duration": 15,
    "start_time": "2023-04-25T13:35:22.808Z"
   },
   {
    "duration": 6,
    "start_time": "2023-04-25T13:35:22.824Z"
   },
   {
    "duration": 30038,
    "start_time": "2023-04-25T13:35:22.831Z"
   },
   {
    "duration": 51,
    "start_time": "2023-04-25T13:35:52.875Z"
   },
   {
    "duration": 42123,
    "start_time": "2023-04-25T13:35:52.928Z"
   },
   {
    "duration": 32,
    "start_time": "2023-04-25T13:36:35.053Z"
   },
   {
    "duration": 240,
    "start_time": "2023-04-25T13:36:35.087Z"
   },
   {
    "duration": 49,
    "start_time": "2023-04-25T13:36:35.329Z"
   },
   {
    "duration": 12,
    "start_time": "2023-04-25T13:36:35.380Z"
   },
   {
    "duration": 33,
    "start_time": "2023-04-25T13:36:35.394Z"
   },
   {
    "duration": 47,
    "start_time": "2023-04-25T13:36:35.429Z"
   },
   {
    "duration": 3509,
    "start_time": "2023-04-25T13:36:35.478Z"
   },
   {
    "duration": 151,
    "start_time": "2023-04-25T13:36:38.989Z"
   },
   {
    "duration": 110097,
    "start_time": "2023-04-25T13:36:39.142Z"
   },
   {
    "duration": 151,
    "start_time": "2023-04-25T13:38:29.241Z"
   },
   {
    "duration": 121,
    "start_time": "2023-04-25T13:38:29.394Z"
   },
   {
    "duration": 74,
    "start_time": "2023-04-25T13:38:29.517Z"
   },
   {
    "duration": 508,
    "start_time": "2023-04-25T13:38:29.593Z"
   },
   {
    "duration": 26,
    "start_time": "2023-04-25T13:38:30.103Z"
   },
   {
    "duration": 37,
    "start_time": "2023-04-25T13:38:30.131Z"
   },
   {
    "duration": 212,
    "start_time": "2023-04-25T13:38:30.170Z"
   },
   {
    "duration": 40,
    "start_time": "2023-04-25T13:38:30.384Z"
   },
   {
    "duration": 2170,
    "start_time": "2023-04-25T13:38:30.426Z"
   },
   {
    "duration": 10,
    "start_time": "2023-04-25T13:38:32.598Z"
   },
   {
    "duration": 45,
    "start_time": "2023-04-25T13:38:32.610Z"
   },
   {
    "duration": 70,
    "start_time": "2023-04-25T13:38:32.657Z"
   },
   {
    "duration": 6,
    "start_time": "2023-04-25T13:38:32.729Z"
   },
   {
    "duration": 33,
    "start_time": "2023-04-25T13:38:32.737Z"
   },
   {
    "duration": 38,
    "start_time": "2023-04-25T13:38:32.772Z"
   },
   {
    "duration": 25,
    "start_time": "2023-04-25T13:38:32.812Z"
   },
   {
    "duration": 268,
    "start_time": "2023-04-25T13:38:32.840Z"
   },
   {
    "duration": 5,
    "start_time": "2023-04-25T13:38:33.110Z"
   },
   {
    "duration": 217,
    "start_time": "2023-04-25T13:38:33.117Z"
   },
   {
    "duration": 8,
    "start_time": "2023-04-25T13:38:33.336Z"
   },
   {
    "duration": 29,
    "start_time": "2023-04-25T13:38:33.349Z"
   },
   {
    "duration": 44,
    "start_time": "2023-04-25T13:38:33.380Z"
   },
   {
    "duration": 78,
    "start_time": "2023-04-25T13:38:33.426Z"
   },
   {
    "duration": 29,
    "start_time": "2023-04-25T13:38:33.507Z"
   },
   {
    "duration": 17,
    "start_time": "2023-04-25T13:38:33.538Z"
   },
   {
    "duration": 4,
    "start_time": "2023-04-25T13:43:09.538Z"
   },
   {
    "duration": 28,
    "start_time": "2023-04-25T13:43:48.346Z"
   },
   {
    "duration": 62,
    "start_time": "2023-04-25T13:43:50.652Z"
   },
   {
    "duration": 127,
    "start_time": "2023-04-25T13:43:51.883Z"
   },
   {
    "duration": 23,
    "start_time": "2023-04-25T13:44:17.642Z"
   },
   {
    "duration": 6,
    "start_time": "2023-04-25T13:44:32.200Z"
   },
   {
    "duration": 32,
    "start_time": "2023-04-25T13:44:41.832Z"
   },
   {
    "duration": 3,
    "start_time": "2023-04-25T13:44:47.906Z"
   },
   {
    "duration": 230,
    "start_time": "2023-04-25T13:44:50.107Z"
   },
   {
    "duration": 2,
    "start_time": "2023-04-25T13:44:53.339Z"
   },
   {
    "duration": 363151,
    "start_time": "2023-04-25T13:44:54.398Z"
   },
   {
    "duration": 11,
    "start_time": "2023-04-25T13:51:50.820Z"
   },
   {
    "duration": 0,
    "start_time": "2023-04-25T13:51:50.833Z"
   },
   {
    "duration": 0,
    "start_time": "2023-04-25T13:51:50.834Z"
   },
   {
    "duration": 0,
    "start_time": "2023-04-25T13:51:50.835Z"
   },
   {
    "duration": 0,
    "start_time": "2023-04-25T13:51:50.836Z"
   },
   {
    "duration": 10,
    "start_time": "2023-04-25T13:52:07.736Z"
   },
   {
    "duration": 4,
    "start_time": "2023-04-25T13:52:13.483Z"
   },
   {
    "duration": 128,
    "start_time": "2023-04-25T13:52:28.034Z"
   },
   {
    "duration": 46,
    "start_time": "2023-04-25T13:52:28.164Z"
   },
   {
    "duration": 62,
    "start_time": "2023-04-25T13:52:28.211Z"
   },
   {
    "duration": 4,
    "start_time": "2023-04-25T13:52:28.275Z"
   },
   {
    "duration": 136,
    "start_time": "2023-04-25T13:52:55.040Z"
   },
   {
    "duration": 7,
    "start_time": "2023-04-25T13:53:00.062Z"
   },
   {
    "duration": 27,
    "start_time": "2023-04-25T13:53:05.686Z"
   },
   {
    "duration": 36,
    "start_time": "2023-04-25T13:53:13.020Z"
   },
   {
    "duration": 33,
    "start_time": "2023-04-25T13:53:25.617Z"
   },
   {
    "duration": 4,
    "start_time": "2023-04-25T13:53:30.634Z"
   },
   {
    "duration": 3,
    "start_time": "2023-04-25T13:53:57.313Z"
   },
   {
    "duration": 2260,
    "start_time": "2023-04-25T13:54:12.829Z"
   },
   {
    "duration": 4,
    "start_time": "2023-04-25T13:54:34.279Z"
   },
   {
    "duration": 817,
    "start_time": "2023-04-25T13:54:34.285Z"
   },
   {
    "duration": 12,
    "start_time": "2023-04-25T13:54:35.104Z"
   },
   {
    "duration": 122,
    "start_time": "2023-04-25T13:54:35.117Z"
   },
   {
    "duration": 125,
    "start_time": "2023-04-25T13:54:35.241Z"
   },
   {
    "duration": 3,
    "start_time": "2023-04-25T13:54:35.368Z"
   },
   {
    "duration": 13,
    "start_time": "2023-04-25T13:54:35.372Z"
   },
   {
    "duration": 81,
    "start_time": "2023-04-25T13:54:35.387Z"
   },
   {
    "duration": 98,
    "start_time": "2023-04-25T13:54:35.470Z"
   },
   {
    "duration": 115,
    "start_time": "2023-04-25T13:54:35.570Z"
   },
   {
    "duration": 4,
    "start_time": "2023-04-25T13:54:35.686Z"
   },
   {
    "duration": 327,
    "start_time": "2023-04-25T13:54:35.692Z"
   },
   {
    "duration": 63,
    "start_time": "2023-04-25T13:54:36.021Z"
   },
   {
    "duration": 19,
    "start_time": "2023-04-25T13:54:36.086Z"
   },
   {
    "duration": 174,
    "start_time": "2023-04-25T13:54:36.107Z"
   },
   {
    "duration": 35,
    "start_time": "2023-04-25T13:54:36.283Z"
   },
   {
    "duration": 4,
    "start_time": "2023-04-25T13:54:36.320Z"
   },
   {
    "duration": 7,
    "start_time": "2023-04-25T13:54:36.325Z"
   },
   {
    "duration": 28,
    "start_time": "2023-04-25T13:54:36.333Z"
   },
   {
    "duration": 32766,
    "start_time": "2023-04-25T13:54:36.364Z"
   },
   {
    "duration": 61,
    "start_time": "2023-04-25T13:55:09.131Z"
   },
   {
    "duration": 33688,
    "start_time": "2023-04-25T13:55:09.193Z"
   },
   {
    "duration": 17,
    "start_time": "2023-04-25T13:55:42.883Z"
   },
   {
    "duration": 177,
    "start_time": "2023-04-25T13:55:42.901Z"
   },
   {
    "duration": 38,
    "start_time": "2023-04-25T13:55:43.080Z"
   },
   {
    "duration": 4,
    "start_time": "2023-04-25T13:55:43.119Z"
   },
   {
    "duration": 7,
    "start_time": "2023-04-25T13:55:43.124Z"
   },
   {
    "duration": 20,
    "start_time": "2023-04-25T13:55:43.132Z"
   },
   {
    "duration": 3575,
    "start_time": "2023-04-25T13:55:43.154Z"
   },
   {
    "duration": 115,
    "start_time": "2023-04-25T13:55:46.730Z"
   },
   {
    "duration": 28938,
    "start_time": "2023-04-25T13:55:46.849Z"
   },
   {
    "duration": 20,
    "start_time": "2023-04-25T13:56:15.789Z"
   },
   {
    "duration": 45,
    "start_time": "2023-04-25T13:56:15.810Z"
   },
   {
    "duration": 34,
    "start_time": "2023-04-25T13:56:15.856Z"
   },
   {
    "duration": 180,
    "start_time": "2023-04-25T13:56:15.891Z"
   },
   {
    "duration": 36,
    "start_time": "2023-04-25T13:56:16.073Z"
   },
   {
    "duration": 5,
    "start_time": "2023-04-25T13:56:16.111Z"
   },
   {
    "duration": 23,
    "start_time": "2023-04-25T13:56:16.117Z"
   },
   {
    "duration": 6,
    "start_time": "2023-04-25T13:56:16.142Z"
   },
   {
    "duration": 28157,
    "start_time": "2023-04-25T13:56:16.150Z"
   },
   {
    "duration": 51,
    "start_time": "2023-04-25T13:56:44.311Z"
   },
   {
    "duration": 42233,
    "start_time": "2023-04-25T13:56:44.365Z"
   },
   {
    "duration": 18,
    "start_time": "2023-04-25T13:57:26.600Z"
   },
   {
    "duration": 174,
    "start_time": "2023-04-25T13:57:26.620Z"
   },
   {
    "duration": 31,
    "start_time": "2023-04-25T13:57:26.795Z"
   },
   {
    "duration": 4,
    "start_time": "2023-04-25T13:57:26.827Z"
   },
   {
    "duration": 17,
    "start_time": "2023-04-25T13:57:26.832Z"
   },
   {
    "duration": 12,
    "start_time": "2023-04-25T13:57:26.851Z"
   },
   {
    "duration": 2994,
    "start_time": "2023-04-25T13:57:26.865Z"
   },
   {
    "duration": 86,
    "start_time": "2023-04-25T13:57:29.863Z"
   },
   {
    "duration": 105628,
    "start_time": "2023-04-25T13:57:29.950Z"
   },
   {
    "duration": 102,
    "start_time": "2023-04-25T13:59:15.579Z"
   },
   {
    "duration": 96,
    "start_time": "2023-04-25T13:59:15.684Z"
   },
   {
    "duration": 72,
    "start_time": "2023-04-25T13:59:15.781Z"
   },
   {
    "duration": 458,
    "start_time": "2023-04-25T13:59:15.855Z"
   },
   {
    "duration": 25,
    "start_time": "2023-04-25T13:59:16.315Z"
   },
   {
    "duration": 28,
    "start_time": "2023-04-25T13:59:16.349Z"
   },
   {
    "duration": 176,
    "start_time": "2023-04-25T13:59:16.378Z"
   },
   {
    "duration": 27,
    "start_time": "2023-04-25T13:59:16.556Z"
   },
   {
    "duration": 1810,
    "start_time": "2023-04-25T13:59:16.584Z"
   },
   {
    "duration": 7,
    "start_time": "2023-04-25T13:59:18.396Z"
   },
   {
    "duration": 15,
    "start_time": "2023-04-25T13:59:18.404Z"
   },
   {
    "duration": 29,
    "start_time": "2023-04-25T13:59:18.421Z"
   },
   {
    "duration": 7,
    "start_time": "2023-04-25T13:59:18.452Z"
   },
   {
    "duration": 17,
    "start_time": "2023-04-25T13:59:18.460Z"
   },
   {
    "duration": 14,
    "start_time": "2023-04-25T13:59:18.479Z"
   },
   {
    "duration": 18,
    "start_time": "2023-04-25T13:59:18.495Z"
   },
   {
    "duration": 345,
    "start_time": "2023-04-25T13:59:18.514Z"
   },
   {
    "duration": 6,
    "start_time": "2023-04-25T13:59:18.861Z"
   },
   {
    "duration": 226,
    "start_time": "2023-04-25T13:59:18.869Z"
   },
   {
    "duration": 10,
    "start_time": "2023-04-25T13:59:19.097Z"
   },
   {
    "duration": 7,
    "start_time": "2023-04-25T14:00:55.098Z"
   },
   {
    "duration": 21,
    "start_time": "2023-04-25T14:00:56.678Z"
   },
   {
    "duration": 38,
    "start_time": "2023-04-25T14:00:59.978Z"
   },
   {
    "duration": 13,
    "start_time": "2023-04-25T14:01:04.182Z"
   },
   {
    "duration": 60,
    "start_time": "2023-04-25T14:01:09.682Z"
   },
   {
    "duration": 42,
    "start_time": "2023-04-25T14:01:11.278Z"
   },
   {
    "duration": 44,
    "start_time": "2023-04-25T14:01:12.731Z"
   },
   {
    "duration": 5,
    "start_time": "2023-04-25T14:01:13.678Z"
   },
   {
    "duration": 3,
    "start_time": "2023-04-25T14:01:31.698Z"
   },
   {
    "duration": 4,
    "start_time": "2023-04-25T14:01:35.834Z"
   },
   {
    "duration": 25,
    "start_time": "2023-04-25T14:01:41.702Z"
   },
   {
    "duration": 3,
    "start_time": "2023-04-25T14:01:57.875Z"
   },
   {
    "duration": 3,
    "start_time": "2023-04-25T14:01:58.534Z"
   },
   {
    "duration": 14729,
    "start_time": "2023-04-25T14:01:59.230Z"
   },
   {
    "duration": 2162,
    "start_time": "2023-04-25T14:05:39.394Z"
   },
   {
    "duration": 114,
    "start_time": "2023-04-25T14:05:43.074Z"
   },
   {
    "duration": 3,
    "start_time": "2023-04-25T14:06:48.076Z"
   },
   {
    "duration": 10,
    "start_time": "2023-04-25T14:06:48.081Z"
   },
   {
    "duration": 15464,
    "start_time": "2023-04-25T14:06:48.092Z"
   },
   {
    "duration": 6,
    "start_time": "2023-04-25T14:07:03.561Z"
   },
   {
    "duration": 14891,
    "start_time": "2023-04-25T14:07:03.572Z"
   },
   {
    "duration": 6,
    "start_time": "2023-04-25T14:07:18.466Z"
   },
   {
    "duration": 13378,
    "start_time": "2023-04-25T14:07:18.474Z"
   },
   {
    "duration": 2495,
    "start_time": "2023-04-25T14:07:31.855Z"
   },
   {
    "duration": 225,
    "start_time": "2023-04-25T14:07:34.351Z"
   },
   {
    "duration": 4973,
    "start_time": "2023-04-25T14:07:34.656Z"
   },
   {
    "duration": 60,
    "start_time": "2023-04-25T14:07:39.630Z"
   },
   {
    "duration": 5,
    "start_time": "2023-04-25T14:07:39.691Z"
   },
   {
    "duration": 4755,
    "start_time": "2023-04-25T14:07:39.697Z"
   },
   {
    "duration": 61,
    "start_time": "2023-04-25T14:07:44.456Z"
   },
   {
    "duration": 6,
    "start_time": "2023-04-25T14:07:44.519Z"
   },
   {
    "duration": 51988,
    "start_time": "2023-04-25T14:07:44.527Z"
   },
   {
    "duration": 79,
    "start_time": "2023-04-25T14:08:36.517Z"
   },
   {
    "duration": 5,
    "start_time": "2023-04-25T14:08:36.598Z"
   },
   {
    "duration": 8,
    "start_time": "2023-04-25T14:08:36.605Z"
   },
   {
    "duration": 5160,
    "start_time": "2023-04-25T14:08:36.614Z"
   },
   {
    "duration": 1887,
    "start_time": "2023-04-25T14:08:41.776Z"
   },
   {
    "duration": 113,
    "start_time": "2023-04-25T14:08:43.750Z"
   },
   {
    "duration": 62,
    "start_time": "2023-04-25T14:08:43.865Z"
   },
   {
    "duration": 155,
    "start_time": "2023-04-25T14:08:43.929Z"
   },
   {
    "duration": 163,
    "start_time": "2023-04-25T14:08:44.089Z"
   },
   {
    "duration": 0,
    "start_time": "2023-04-25T14:08:44.254Z"
   },
   {
    "duration": 0,
    "start_time": "2023-04-25T14:08:44.256Z"
   },
   {
    "duration": 15873,
    "start_time": "2023-04-25T14:09:46.175Z"
   },
   {
    "duration": 5341,
    "start_time": "2023-04-25T14:10:36.730Z"
   },
   {
    "duration": 1898,
    "start_time": "2023-04-25T14:10:42.072Z"
   },
   {
    "duration": 498,
    "start_time": "2023-04-25T14:10:44.059Z"
   },
   {
    "duration": 130,
    "start_time": "2023-04-25T14:10:44.560Z"
   },
   {
    "duration": 271,
    "start_time": "2023-04-25T14:10:44.692Z"
   },
   {
    "duration": 7,
    "start_time": "2023-04-25T14:10:44.965Z"
   },
   {
    "duration": 91,
    "start_time": "2023-04-25T14:10:44.974Z"
   },
   {
    "duration": 14,
    "start_time": "2023-04-25T14:10:45.067Z"
   },
   {
    "duration": 102,
    "start_time": "2023-04-25T14:12:51.107Z"
   },
   {
    "duration": 170,
    "start_time": "2023-04-25T14:12:51.730Z"
   },
   {
    "duration": 5,
    "start_time": "2023-04-25T14:12:54.428Z"
   },
   {
    "duration": 13,
    "start_time": "2023-04-25T14:12:54.435Z"
   },
   {
    "duration": 25,
    "start_time": "2023-04-25T14:12:54.457Z"
   }
  ],
  "kernelspec": {
   "display_name": "Python 3 (ipykernel)",
   "language": "python",
   "name": "python3"
  },
  "language_info": {
   "codemirror_mode": {
    "name": "ipython",
    "version": 3
   },
   "file_extension": ".py",
   "mimetype": "text/x-python",
   "name": "python",
   "nbconvert_exporter": "python",
   "pygments_lexer": "ipython3",
   "version": "3.10.9"
  },
  "toc": {
   "base_numbering": 1,
   "nav_menu": {},
   "number_sections": true,
   "sideBar": true,
   "skip_h1_title": true,
   "title_cell": "Table of Contents",
   "title_sidebar": "Contents",
   "toc_cell": false,
   "toc_position": {
    "height": "calc(100% - 180px)",
    "left": "10px",
    "top": "150px",
    "width": "262px"
   },
   "toc_section_display": true,
   "toc_window_display": true
  }
 },
 "nbformat": 4,
 "nbformat_minor": 2
}
