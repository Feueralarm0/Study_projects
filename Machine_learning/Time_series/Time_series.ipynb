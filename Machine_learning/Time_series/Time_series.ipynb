{
 "cells": [
  {
   "cell_type": "markdown",
   "metadata": {},
   "source": [
    "#  Прогнозирование заказов такси"
   ]
  },
  {
   "cell_type": "markdown",
   "metadata": {},
   "source": [
    "Нужно построить модель для предсказания количества заказов такси на следующий час, чтобы привлекать больше водителей в период пиковой нагрузки.\n",
    "\n",
    "Значение метрики *RMSE* на тестовой выборке должно быть не больше 48."
   ]
  },
  {
   "cell_type": "markdown",
   "metadata": {},
   "source": [
    "## Подготовка"
   ]
  },
  {
   "cell_type": "code",
   "execution_count": 64,
   "metadata": {},
   "outputs": [],
   "source": [
    "import pandas as pd\n",
    "import matplotlib.pyplot as plt\n",
    "import numpy as np\n",
    "\n",
    "from sklearn.model_selection import train_test_split\n",
    "\n",
    "from statsmodels.tsa.seasonal import seasonal_decompose\n",
    "\n",
    "from sklearn.tree import DecisionTreeRegressor\n",
    "from sklearn.linear_model import  LinearRegression\n",
    "from catboost import  CatBoostRegressor\n",
    "\n",
    "from sklearn.metrics import mean_squared_error"
   ]
  },
  {
   "cell_type": "code",
   "execution_count": 66,
   "metadata": {
    "scrolled": false
   },
   "outputs": [
    {
     "data": {
      "text/html": [
       "<div>\n",
       "<style scoped>\n",
       "    .dataframe tbody tr th:only-of-type {\n",
       "        vertical-align: middle;\n",
       "    }\n",
       "\n",
       "    .dataframe tbody tr th {\n",
       "        vertical-align: top;\n",
       "    }\n",
       "\n",
       "    .dataframe thead th {\n",
       "        text-align: right;\n",
       "    }\n",
       "</style>\n",
       "<table border=\"1\" class=\"dataframe\">\n",
       "  <thead>\n",
       "    <tr style=\"text-align: right;\">\n",
       "      <th></th>\n",
       "      <th>datetime</th>\n",
       "      <th>num_orders</th>\n",
       "    </tr>\n",
       "  </thead>\n",
       "  <tbody>\n",
       "    <tr>\n",
       "      <th>0</th>\n",
       "      <td>2018-03-01 00:00:00</td>\n",
       "      <td>9</td>\n",
       "    </tr>\n",
       "    <tr>\n",
       "      <th>1</th>\n",
       "      <td>2018-03-01 00:10:00</td>\n",
       "      <td>14</td>\n",
       "    </tr>\n",
       "    <tr>\n",
       "      <th>2</th>\n",
       "      <td>2018-03-01 00:20:00</td>\n",
       "      <td>28</td>\n",
       "    </tr>\n",
       "    <tr>\n",
       "      <th>3</th>\n",
       "      <td>2018-03-01 00:30:00</td>\n",
       "      <td>20</td>\n",
       "    </tr>\n",
       "    <tr>\n",
       "      <th>4</th>\n",
       "      <td>2018-03-01 00:40:00</td>\n",
       "      <td>32</td>\n",
       "    </tr>\n",
       "  </tbody>\n",
       "</table>\n",
       "</div>"
      ],
      "text/plain": [
       "              datetime  num_orders\n",
       "0  2018-03-01 00:00:00           9\n",
       "1  2018-03-01 00:10:00          14\n",
       "2  2018-03-01 00:20:00          28\n",
       "3  2018-03-01 00:30:00          20\n",
       "4  2018-03-01 00:40:00          32"
      ]
     },
     "execution_count": 66,
     "metadata": {},
     "output_type": "execute_result"
    }
   ],
   "source": [
    "data.head()"
   ]
  },
  {
   "cell_type": "code",
   "execution_count": 67,
   "metadata": {},
   "outputs": [
    {
     "name": "stdout",
     "output_type": "stream",
     "text": [
      "<class 'pandas.core.frame.DataFrame'>\n",
      "RangeIndex: 26496 entries, 0 to 26495\n",
      "Data columns (total 2 columns):\n",
      " #   Column      Non-Null Count  Dtype \n",
      "---  ------      --------------  ----- \n",
      " 0   datetime    26496 non-null  object\n",
      " 1   num_orders  26496 non-null  int64 \n",
      "dtypes: int64(1), object(1)\n",
      "memory usage: 414.1+ KB\n"
     ]
    }
   ],
   "source": [
    "data.info()"
   ]
  },
  {
   "cell_type": "code",
   "execution_count": 68,
   "metadata": {},
   "outputs": [],
   "source": [
    "data['datetime'] = pd.to_datetime(data['datetime'],format='%Y-%m-%d %H:%M:%S')"
   ]
  },
  {
   "cell_type": "code",
   "execution_count": 69,
   "metadata": {
    "scrolled": true
   },
   "outputs": [],
   "source": [
    "data = data.set_index('datetime')\n",
    "data = data.sort_index(ascending=True)"
   ]
  },
  {
   "cell_type": "code",
   "execution_count": 70,
   "metadata": {
    "scrolled": false
   },
   "outputs": [
    {
     "data": {
      "text/plain": [
       "True"
      ]
     },
     "execution_count": 70,
     "metadata": {},
     "output_type": "execute_result"
    }
   ],
   "source": [
    "data.index.is_monotonic"
   ]
  },
  {
   "cell_type": "code",
   "execution_count": 71,
   "metadata": {},
   "outputs": [],
   "source": [
    "data = data.resample('1H').sum()"
   ]
  },
  {
   "cell_type": "code",
   "execution_count": 72,
   "metadata": {
    "scrolled": true
   },
   "outputs": [
    {
     "data": {
      "text/html": [
       "<div>\n",
       "<style scoped>\n",
       "    .dataframe tbody tr th:only-of-type {\n",
       "        vertical-align: middle;\n",
       "    }\n",
       "\n",
       "    .dataframe tbody tr th {\n",
       "        vertical-align: top;\n",
       "    }\n",
       "\n",
       "    .dataframe thead th {\n",
       "        text-align: right;\n",
       "    }\n",
       "</style>\n",
       "<table border=\"1\" class=\"dataframe\">\n",
       "  <thead>\n",
       "    <tr style=\"text-align: right;\">\n",
       "      <th></th>\n",
       "      <th>num_orders</th>\n",
       "    </tr>\n",
       "    <tr>\n",
       "      <th>datetime</th>\n",
       "      <th></th>\n",
       "    </tr>\n",
       "  </thead>\n",
       "  <tbody>\n",
       "    <tr>\n",
       "      <th>2018-03-01 00:00:00</th>\n",
       "      <td>124</td>\n",
       "    </tr>\n",
       "    <tr>\n",
       "      <th>2018-03-01 01:00:00</th>\n",
       "      <td>85</td>\n",
       "    </tr>\n",
       "    <tr>\n",
       "      <th>2018-03-01 02:00:00</th>\n",
       "      <td>71</td>\n",
       "    </tr>\n",
       "    <tr>\n",
       "      <th>2018-03-01 03:00:00</th>\n",
       "      <td>66</td>\n",
       "    </tr>\n",
       "    <tr>\n",
       "      <th>2018-03-01 04:00:00</th>\n",
       "      <td>43</td>\n",
       "    </tr>\n",
       "  </tbody>\n",
       "</table>\n",
       "</div>"
      ],
      "text/plain": [
       "                     num_orders\n",
       "datetime                       \n",
       "2018-03-01 00:00:00         124\n",
       "2018-03-01 01:00:00          85\n",
       "2018-03-01 02:00:00          71\n",
       "2018-03-01 03:00:00          66\n",
       "2018-03-01 04:00:00          43"
      ]
     },
     "execution_count": 72,
     "metadata": {},
     "output_type": "execute_result"
    }
   ],
   "source": [
    "data.head()"
   ]
  },
  {
   "cell_type": "markdown",
   "metadata": {},
   "source": [
    "## Анализ"
   ]
  },
  {
   "cell_type": "code",
   "execution_count": 73,
   "metadata": {
    "scrolled": false
   },
   "outputs": [
    {
     "data": {
      "image/png": "[encoded data removed]",
      "text/plain": [
       "<Figure size 1080x720 with 1 Axes>"
      ]
     },
     "metadata": {
      "needs_background": "light"
     },
     "output_type": "display_data"
    }
   ],
   "source": [
    "plt.figure(figsize=(15, 10))\n",
    "plt.plot(data)\n",
    "plt.plot(data.rolling(10).mean())\n",
    "plt.title(\"Анализ временных рядов\")\n",
    "plt.legend(['Заказов в час','Скользящее среднее'])\n",
    "plt.show()"
   ]
  },
  {
   "cell_type": "code",
   "execution_count": 74,
   "metadata": {},
   "outputs": [],
   "source": [
    "decomposed = seasonal_decompose(data)"
   ]
  },
  {
   "cell_type": "code",
   "execution_count": 75,
   "metadata": {
    "scrolled": true
   },
   "outputs": [
    {
     "data": {
      "image/png": "[encoded data removed]",
      "text/plain": [
       "<Figure size 1080x720 with 1 Axes>"
      ]
     },
     "metadata": {
      "needs_background": "light"
     },
     "output_type": "display_data"
    }
   ],
   "source": [
    "plt.figure(figsize=(15, 10))\n",
    "plt.plot(decomposed.trend)\n",
    "plt.title(\"Анализ тренда\")\n",
    "plt.show()"
   ]
  },
  {
   "cell_type": "code",
   "execution_count": 76,
   "metadata": {},
   "outputs": [
    {
     "data": {
      "text/plain": [
       "<Figure size 1080x720 with 0 Axes>"
      ]
     },
     "metadata": {},
     "output_type": "display_data"
    },
    {
     "data": {
      "image/png": "[encoded data removed]",
      "text/plain": [
       "<Figure size 1080x720 with 1 Axes>"
      ]
     },
     "metadata": {
      "needs_background": "light"
     },
     "output_type": "display_data"
    },
    {
     "data": {
      "image/png": "[encoded data removed]",
      "text/plain": [
       "<Figure size 1080x720 with 1 Axes>"
      ]
     },
     "metadata": {
      "needs_background": "light"
     },
     "output_type": "display_data"
    },
    {
     "data": {
      "image/png": "[encoded data removed]",
      "text/plain": [
       "<Figure size 1080x720 with 1 Axes>"
      ]
     },
     "metadata": {
      "needs_background": "light"
     },
     "output_type": "display_data"
    },
    {
     "data": {
      "image/png": "[encoded data removed]",
      "text/plain": [
       "<Figure size 1080x720 with 1 Axes>"
      ]
     },
     "metadata": {
      "needs_background": "light"
     },
     "output_type": "display_data"
    },
    {
     "data": {
      "image/png": "[encoded data removed]",
      "text/plain": [
       "<Figure size 1080x720 with 1 Axes>"
      ]
     },
     "metadata": {
      "needs_background": "light"
     },
     "output_type": "display_data"
    },
    {
     "data": {
      "image/png": "[encoded data removed]",
      "text/plain": [
       "<Figure size 1080x720 with 1 Axes>"
      ]
     },
     "metadata": {
      "needs_background": "light"
     },
     "output_type": "display_data"
    },
    {
     "data": {
      "image/png": "[encoded data removed]",
      "text/plain": [
       "<Figure size 1080x720 with 1 Axes>"
      ]
     },
     "metadata": {
      "needs_background": "light"
     },
     "output_type": "display_data"
    }
   ],
   "source": [
    "plt.figure(figsize=(15, 10))\n",
    "dow_stat = []\n",
    "for dow in data.index.dayofweek.unique().sort_values():\n",
    "    dow_stat.append(data[data.index.dayofweek==dow]['num_orders'].mean())\n",
    "plt.figure(figsize=(15, 10))\n",
    "plt.bar(data.index.dayofweek.unique().sort_values(), dow_stat)\n",
    "plt.title(\"Среднее количество заказов. Март-Апрель\")\n",
    "plt.show();\n",
    "for month in data.index.month.unique().sort_values():\n",
    "    dow_stat = []\n",
    "    for dow in data.index.dayofweek.unique().sort_values():\n",
    "        dow_stat.append(data[(data.index.dayofweek==dow)&(data.index.month==month)]['num_orders'].mean())\n",
    "    plt.figure(figsize=(15, 10))\n",
    "    plt.bar(data.index.dayofweek.unique().sort_values(), dow_stat)\n",
    "    plt.title(\"Среднее количество заказов. Месяц: {}\".format(month))\n",
    "    plt.show();"
   ]
  },
  {
   "cell_type": "code",
   "execution_count": 77,
   "metadata": {
    "scrolled": true
   },
   "outputs": [
    {
     "data": {
      "image/png": "[encoded data removed]",
      "text/plain": [
       "<Figure size 1080x720 with 1 Axes>"
      ]
     },
     "metadata": {
      "needs_background": "light"
     },
     "output_type": "display_data"
    }
   ],
   "source": [
    "plt.figure(figsize=(15, 10))\n",
    "plt.plot(decomposed.seasonal[0:24])\n",
    "plt.grid(True)\n",
    "plt.title(\"Анализ сезонности: день\")\n",
    "plt.show()"
   ]
  },
  {
   "cell_type": "code",
   "execution_count": 78,
   "metadata": {},
   "outputs": [],
   "source": [
    "decomposed_d = seasonal_decompose(data.resample('1d').sum())"
   ]
  },
  {
   "cell_type": "code",
   "execution_count": 79,
   "metadata": {
    "scrolled": false
   },
   "outputs": [
    {
     "data": {
      "image/png": "[encoded data removed]",
      "text/plain": [
       "<Figure size 1080x720 with 1 Axes>"
      ]
     },
     "metadata": {
      "needs_background": "light"
     },
     "output_type": "display_data"
    }
   ],
   "source": [
    "plt.figure(figsize=(15, 10))\n",
    "plt.plot(decomposed_d.seasonal[0:30])\n",
    "plt.grid(True)\n",
    "plt.title(\"Анализ сезонности: месяц\")\n",
    "plt.show()"
   ]
  },
  {
   "cell_type": "code",
   "execution_count": 80,
   "metadata": {
    "scrolled": true
   },
   "outputs": [
    {
     "name": "stderr",
     "output_type": "stream",
     "text": [
      "/tmp/ipykernel_48/1045099484.py:1: FutureWarning: Indexing a DataFrame with a datetimelike index using a single string to slice the rows, like `frame[string]`, is deprecated and will be removed in a future version. Use `frame.loc[string]` instead.\n",
      "  data['2018-03-05'].index.dayofweek[0]\n"
     ]
    },
    {
     "data": {
      "text/plain": [
       "0"
      ]
     },
     "execution_count": 80,
     "metadata": {},
     "output_type": "execute_result"
    }
   ],
   "source": [
    "data['2018-03-05'].index.dayofweek[0]"
   ]
  },
  {
   "cell_type": "code",
   "execution_count": 81,
   "metadata": {},
   "outputs": [
    {
     "name": "stderr",
     "output_type": "stream",
     "text": [
      "/tmp/ipykernel_48/3343467835.py:1: FutureWarning: Indexing a DataFrame with a datetimelike index using a single string to slice the rows, like `frame[string]`, is deprecated and will be removed in a future version. Use `frame.loc[string]` instead.\n",
      "  data['2018-03-09'].index.dayofweek[0]\n"
     ]
    },
    {
     "data": {
      "text/plain": [
       "4"
      ]
     },
     "execution_count": 81,
     "metadata": {},
     "output_type": "execute_result"
    }
   ],
   "source": [
    "data['2018-03-09'].index.dayofweek[0]"
   ]
  },
  {
   "cell_type": "markdown",
   "metadata": {},
   "source": [
    "Количество заказов возрастает к концу лета\n",
    "\n",
    "Такси наименее востребовано по вторникам, лишь в августе средний показатель заказов в этот день выше, чем в воскресенье\n",
    "\n",
    "Больше всего заказов в 00 часов, в 06 - минимум.\n",
    "\n",
    "Понедельник и пятница имеют наибольший показатель сезонности. Вторник и воскресенье - наименьший"
   ]
  },
  {
   "cell_type": "markdown",
   "metadata": {},
   "source": [
    "## Обучение"
   ]
  },
  {
   "cell_type": "code",
   "execution_count": 84,
   "metadata": {},
   "outputs": [],
   "source": [
    "def make_features(data, max_lag, rolling_mean_size):\n",
    "    data['dayofweek'] = data.index.dayofweek\n",
    "    data['hour'] = data.index.hour\n",
    "    data['dayofweek'] = data['dayofweek'].astype('str')\n",
    "    data['hour'] = data['hour'].astype('str')\n",
    "\n",
    "    for lag in range(1, max_lag + 1):\n",
    "        data['lag_{}'.format(lag)] = data['num_orders'].shift(lag)\n",
    "\n",
    "    data['rolling_mean'] = data['num_orders'].shift().rolling(rolling_mean_size).mean()"
   ]
  },
  {
   "cell_type": "code",
   "execution_count": 85,
   "metadata": {},
   "outputs": [],
   "source": [
    "make_features(data, 9, 2)"
   ]
  },
  {
   "cell_type": "code",
   "execution_count": 86,
   "metadata": {},
   "outputs": [],
   "source": [
    "data = pd.get_dummies(data, drop_first=True)"
   ]
  },
  {
   "cell_type": "code",
   "execution_count": 87,
   "metadata": {
    "scrolled": true
   },
   "outputs": [
    {
     "data": {
      "text/plain": [
       "((3525, 39), (441, 39), (441, 39), (441,), (3525,), (441,))"
      ]
     },
     "execution_count": 87,
     "metadata": {},
     "output_type": "execute_result"
    }
   ],
   "source": [
    "data = data.dropna()\n",
    "train, test = train_test_split(data, shuffle=False, test_size=0.2)\n",
    "valid, test = train_test_split(test, shuffle=False, test_size=0.5)\n",
    "features_train = train.drop(['num_orders'], axis=1)\n",
    "features_valid = valid.drop(['num_orders'], axis=1)\n",
    "features_test = test.drop(['num_orders'], axis=1)\n",
    "target_train = train['num_orders']\n",
    "target_valid = valid['num_orders']\n",
    "target_test = test['num_orders']\n",
    "features_train.shape , features_test.shape, features_valid.shape, target_train.shape, target_valid.shape, target_test.shape"
   ]
  },
  {
   "cell_type": "markdown",
   "metadata": {},
   "source": [
    "**DecisionTreeRegressor**"
   ]
  },
  {
   "cell_type": "code",
   "execution_count": 102,
   "metadata": {
    "scrolled": true
   },
   "outputs": [
    {
     "name": "stdout",
     "output_type": "stream",
     "text": [
      "RMSE на валидационной выборке: 38.626571208412486\n"
     ]
    }
   ],
   "source": [
    "model_dtr = None\n",
    "best_res =1000\n",
    "\n",
    "for depth in range(1,20,3):\n",
    "    model = DecisionTreeRegressor(random_state=12345, max_depth=depth)\n",
    "    model.fit(features_train,target_train)\n",
    "    res = mean_squared_error(target_valid, model.predict(features_valid), squared=False)\n",
    "    if res < best_res:\n",
    "        best_res = res\n",
    "        model_dtr=model\n",
    "print('RMSE на валидационной выборке:', best_res)"
   ]
  },
  {
   "cell_type": "markdown",
   "metadata": {},
   "source": [
    "**LinearRegression**"
   ]
  },
  {
   "cell_type": "code",
   "execution_count": 103,
   "metadata": {},
   "outputs": [
    {
     "name": "stdout",
     "output_type": "stream",
     "text": [
      "RMSE на валидационной выборке: 48.66481803912207\n"
     ]
    }
   ],
   "source": [
    "model_lr = LinearRegression()\n",
    "model_lr.fit(features_train, target_train);\n",
    "print('RMSE на валидационной выборке:', mean_squared_error(target_valid, model.predict(features_valid), squared=False))"
   ]
  },
  {
   "cell_type": "markdown",
   "metadata": {},
   "source": [
    "**CatBoostRegressor**"
   ]
  },
  {
   "cell_type": "code",
   "execution_count": 104,
   "metadata": {
    "scrolled": true
   },
   "outputs": [
    {
     "name": "stdout",
     "output_type": "stream",
     "text": [
      "RMSE на валидационной выборке: 33.208782402981626\n"
     ]
    }
   ],
   "source": [
    "model_cb = None\n",
    "best_res =1000\n",
    "for depth in range(1,16,4):\n",
    "    for rate in np.arange(0.1,0.9,0.3):\n",
    "        model = CatBoostRegressor(iterations=50, depth=depth, learning_rate=rate, loss_function='RMSE')\n",
    "        model.fit(features_train, target_train, verbose=False, early_stopping_rounds=4);\n",
    "        res = mean_squared_error(target_valid, model.predict(features_valid), squared=False)\n",
    "        if res < best_res:\n",
    "            best_res = res\n",
    "            model_cb=model\n",
    "print('RMSE на валидационной выборке:', best_res)"
   ]
  },
  {
   "cell_type": "markdown",
   "metadata": {},
   "source": [
    "## Тестирование"
   ]
  },
  {
   "cell_type": "code",
   "execution_count": 105,
   "metadata": {
    "scrolled": true
   },
   "outputs": [
    {
     "data": {
      "text/plain": [
       "58.96104850322475"
      ]
     },
     "execution_count": 105,
     "metadata": {},
     "output_type": "execute_result"
    }
   ],
   "source": [
    "mean_squared_error(target_test, model_dtr.predict(features_test), squared=False)"
   ]
  },
  {
   "cell_type": "code",
   "execution_count": 106,
   "metadata": {
    "scrolled": true
   },
   "outputs": [
    {
     "data": {
      "text/plain": [
       "45.537386013422186"
      ]
     },
     "execution_count": 106,
     "metadata": {},
     "output_type": "execute_result"
    }
   ],
   "source": [
    "mean_squared_error(target_test, model_lr.predict(features_test), squared=False)"
   ]
  },
  {
   "cell_type": "code",
   "execution_count": 107,
   "metadata": {
    "scrolled": true
   },
   "outputs": [
    {
     "data": {
      "text/plain": [
       "52.82459746323097"
      ]
     },
     "execution_count": 107,
     "metadata": {},
     "output_type": "execute_result"
    }
   ],
   "source": [
    "mean_squared_error(target_test, model_cb.predict(features_test), squared=False)"
   ]
  },
  {
   "cell_type": "markdown",
   "metadata": {},
   "source": [
    "Вывод:\n",
    "\n",
    "Количество заказов возрастает к концу лета\n",
    "\n",
    "Такси наименее востребовано по вторникам, лишь в августе средний показатель заказов в этот день выше, чем в воскресенье\n",
    "\n",
    "Больше всего заказов в 00 часов, в 06 - минимум.\n",
    "\n",
    "Понедельник и пятница имеют наибольший показатель сезонности. Вторник и воскресенье - наименьший\n",
    "\n",
    "Предсказания линейной регрессии показали худший результат на валидационной выборке, но на тестовой только линейная регрессия имеет допустимую матрику RMSE"
   ]
  },
  {
   "cell_type": "code",
   "execution_count": null,
   "metadata": {},
   "outputs": [],
   "source": []
  }
 ],
 "metadata": {
  "ExecuteTimeLog": [
   {
    "duration": 433,
    "start_time": "2023-04-29T11:59:13.660Z"
   },
   {
    "duration": 115,
    "start_time": "2023-04-29T11:59:26.265Z"
   },
   {
    "duration": 13,
    "start_time": "2023-04-29T11:59:30.765Z"
   },
   {
    "duration": 12,
    "start_time": "2023-04-29T11:59:39.727Z"
   },
   {
    "duration": 6,
    "start_time": "2023-04-29T12:00:05.625Z"
   },
   {
    "duration": 10,
    "start_time": "2023-04-29T12:01:05.917Z"
   },
   {
    "duration": 11,
    "start_time": "2023-04-29T12:01:12.561Z"
   },
   {
    "duration": 4,
    "start_time": "2023-04-29T12:01:42.527Z"
   },
   {
    "duration": 8,
    "start_time": "2023-04-29T12:01:50.173Z"
   },
   {
    "duration": 75,
    "start_time": "2023-04-29T12:02:09.139Z"
   },
   {
    "duration": 2,
    "start_time": "2023-04-29T12:02:20.413Z"
   },
   {
    "duration": 51,
    "start_time": "2023-04-29T12:02:20.417Z"
   },
   {
    "duration": 7,
    "start_time": "2023-04-29T12:02:20.469Z"
   },
   {
    "duration": 16,
    "start_time": "2023-04-29T12:02:20.478Z"
   },
   {
    "duration": 8,
    "start_time": "2023-04-29T12:02:20.496Z"
   },
   {
    "duration": 10,
    "start_time": "2023-04-29T12:02:20.506Z"
   },
   {
    "duration": 7,
    "start_time": "2023-04-29T12:02:22.962Z"
   },
   {
    "duration": 4,
    "start_time": "2023-04-29T12:02:33.474Z"
   },
   {
    "duration": 10,
    "start_time": "2023-04-29T12:03:35.336Z"
   },
   {
    "duration": 3,
    "start_time": "2023-04-29T12:03:46.289Z"
   },
   {
    "duration": 8,
    "start_time": "2023-04-29T12:03:47.820Z"
   },
   {
    "duration": 7,
    "start_time": "2023-04-29T12:03:49.950Z"
   },
   {
    "duration": 32692,
    "start_time": "2023-04-29T12:04:08.626Z"
   },
   {
    "duration": 9,
    "start_time": "2023-04-29T12:04:43.413Z"
   },
   {
    "duration": 2,
    "start_time": "2023-04-29T12:04:49.572Z"
   },
   {
    "duration": 60,
    "start_time": "2023-04-29T12:04:49.576Z"
   },
   {
    "duration": 9,
    "start_time": "2023-04-29T12:04:49.638Z"
   },
   {
    "duration": 30,
    "start_time": "2023-04-29T12:04:49.650Z"
   },
   {
    "duration": 24,
    "start_time": "2023-04-29T12:04:49.683Z"
   },
   {
    "duration": 33,
    "start_time": "2023-04-29T12:04:49.709Z"
   },
   {
    "duration": 15,
    "start_time": "2023-04-29T12:04:49.744Z"
   },
   {
    "duration": 40,
    "start_time": "2023-04-29T12:04:49.760Z"
   },
   {
    "duration": 258,
    "start_time": "2023-04-29T12:04:52.689Z"
   },
   {
    "duration": 3,
    "start_time": "2023-04-29T12:05:16.045Z"
   },
   {
    "duration": 322,
    "start_time": "2023-04-29T12:05:44.189Z"
   },
   {
    "duration": 282,
    "start_time": "2023-04-29T12:06:29.758Z"
   },
   {
    "duration": 168,
    "start_time": "2023-04-29T12:08:16.501Z"
   },
   {
    "duration": 12,
    "start_time": "2023-04-29T12:08:20.166Z"
   },
   {
    "duration": 10,
    "start_time": "2023-04-29T12:08:23.567Z"
   },
   {
    "duration": 200,
    "start_time": "2023-04-29T12:08:33.698Z"
   },
   {
    "duration": 208,
    "start_time": "2023-04-29T12:08:46.363Z"
   },
   {
    "duration": 461,
    "start_time": "2023-04-29T12:09:35.160Z"
   },
   {
    "duration": 3,
    "start_time": "2023-04-29T12:10:00.223Z"
   },
   {
    "duration": 58,
    "start_time": "2023-04-29T12:10:00.228Z"
   },
   {
    "duration": 7,
    "start_time": "2023-04-29T12:10:00.288Z"
   },
   {
    "duration": 32,
    "start_time": "2023-04-29T12:10:00.297Z"
   },
   {
    "duration": 35,
    "start_time": "2023-04-29T12:10:00.332Z"
   },
   {
    "duration": 52,
    "start_time": "2023-04-29T12:10:00.369Z"
   },
   {
    "duration": 25,
    "start_time": "2023-04-29T12:10:00.423Z"
   },
   {
    "duration": 25,
    "start_time": "2023-04-29T12:10:00.449Z"
   },
   {
    "duration": 253,
    "start_time": "2023-04-29T12:10:00.475Z"
   },
   {
    "duration": 350,
    "start_time": "2023-04-29T12:10:00.733Z"
   },
   {
    "duration": 8,
    "start_time": "2023-04-29T12:10:18.736Z"
   },
   {
    "duration": 216,
    "start_time": "2023-04-29T12:10:50.623Z"
   },
   {
    "duration": 178,
    "start_time": "2023-04-29T12:10:51.559Z"
   },
   {
    "duration": 193,
    "start_time": "2023-04-29T12:11:06.747Z"
   },
   {
    "duration": 9,
    "start_time": "2023-04-29T12:17:40.137Z"
   },
   {
    "duration": 7,
    "start_time": "2023-04-29T12:19:19.953Z"
   },
   {
    "duration": 206,
    "start_time": "2023-04-29T12:19:22.140Z"
   },
   {
    "duration": 230,
    "start_time": "2023-04-29T12:19:29.973Z"
   },
   {
    "duration": 41,
    "start_time": "2023-04-29T12:19:32.015Z"
   },
   {
    "duration": 10,
    "start_time": "2023-04-29T12:19:46.422Z"
   },
   {
    "duration": 17,
    "start_time": "2023-04-29T12:20:06.539Z"
   },
   {
    "duration": 7,
    "start_time": "2023-04-29T12:20:44.229Z"
   },
   {
    "duration": 11,
    "start_time": "2023-04-29T12:20:47.135Z"
   },
   {
    "duration": 2,
    "start_time": "2023-04-29T12:21:04.005Z"
   },
   {
    "duration": 58,
    "start_time": "2023-04-29T12:21:04.009Z"
   },
   {
    "duration": 8,
    "start_time": "2023-04-29T12:21:04.068Z"
   },
   {
    "duration": 18,
    "start_time": "2023-04-29T12:21:04.078Z"
   },
   {
    "duration": 10,
    "start_time": "2023-04-29T12:21:04.098Z"
   },
   {
    "duration": 6,
    "start_time": "2023-04-29T12:21:04.109Z"
   },
   {
    "duration": 9,
    "start_time": "2023-04-29T12:21:07.338Z"
   },
   {
    "duration": 7,
    "start_time": "2023-04-29T12:21:20.848Z"
   },
   {
    "duration": 9,
    "start_time": "2023-04-29T12:21:21.411Z"
   },
   {
    "duration": 8,
    "start_time": "2023-04-29T12:21:28.879Z"
   },
   {
    "duration": 5,
    "start_time": "2023-04-29T12:21:33.811Z"
   },
   {
    "duration": 7,
    "start_time": "2023-04-29T12:21:36.842Z"
   },
   {
    "duration": 10,
    "start_time": "2023-04-29T12:21:38.013Z"
   },
   {
    "duration": 6,
    "start_time": "2023-04-29T12:21:39.144Z"
   },
   {
    "duration": 12,
    "start_time": "2023-04-29T12:21:50.327Z"
   },
   {
    "duration": 10,
    "start_time": "2023-04-29T12:22:08.221Z"
   },
   {
    "duration": 7,
    "start_time": "2023-04-29T12:22:14.501Z"
   },
   {
    "duration": 3,
    "start_time": "2023-04-29T12:22:40.817Z"
   },
   {
    "duration": 75,
    "start_time": "2023-04-29T12:22:40.822Z"
   },
   {
    "duration": 17,
    "start_time": "2023-04-29T12:22:40.898Z"
   },
   {
    "duration": 17,
    "start_time": "2023-04-29T12:22:40.916Z"
   },
   {
    "duration": 43,
    "start_time": "2023-04-29T12:22:40.935Z"
   },
   {
    "duration": 76,
    "start_time": "2023-04-29T12:22:40.979Z"
   },
   {
    "duration": 71,
    "start_time": "2023-04-29T12:22:41.056Z"
   },
   {
    "duration": 56,
    "start_time": "2023-04-29T12:22:41.128Z"
   },
   {
    "duration": 9,
    "start_time": "2023-04-29T12:22:48.341Z"
   },
   {
    "duration": 7,
    "start_time": "2023-04-29T12:22:56.940Z"
   },
   {
    "duration": 7,
    "start_time": "2023-04-29T12:23:03.570Z"
   },
   {
    "duration": 190,
    "start_time": "2023-04-29T12:23:13.857Z"
   },
   {
    "duration": 225,
    "start_time": "2023-04-29T12:23:14.050Z"
   },
   {
    "duration": 7,
    "start_time": "2023-04-29T12:23:14.276Z"
   },
   {
    "duration": 187,
    "start_time": "2023-04-29T12:23:14.285Z"
   },
   {
    "duration": 10,
    "start_time": "2023-04-29T12:23:14.473Z"
   },
   {
    "duration": 4,
    "start_time": "2023-04-29T12:32:22.370Z"
   },
   {
    "duration": 1263,
    "start_time": "2023-04-29T12:32:22.376Z"
   },
   {
    "duration": 0,
    "start_time": "2023-04-29T12:32:23.641Z"
   },
   {
    "duration": 4,
    "start_time": "2023-04-29T12:32:40.720Z"
   },
   {
    "duration": 15,
    "start_time": "2023-04-29T12:32:40.726Z"
   },
   {
    "duration": 10,
    "start_time": "2023-04-29T12:32:40.742Z"
   },
   {
    "duration": 304,
    "start_time": "2023-04-29T12:32:45.206Z"
   },
   {
    "duration": 11,
    "start_time": "2023-04-29T12:32:48.860Z"
   },
   {
    "duration": 77,
    "start_time": "2023-04-29T12:33:48.313Z"
   },
   {
    "duration": 4,
    "start_time": "2023-04-29T12:36:11.215Z"
   },
   {
    "duration": 29,
    "start_time": "2023-04-29T12:36:45.904Z"
   },
   {
    "duration": 12,
    "start_time": "2023-04-29T12:37:42.484Z"
   },
   {
    "duration": 13,
    "start_time": "2023-04-29T12:38:30.429Z"
   },
   {
    "duration": 17,
    "start_time": "2023-04-29T12:38:33.191Z"
   },
   {
    "duration": 5,
    "start_time": "2023-04-29T12:38:58.884Z"
   },
   {
    "duration": 4,
    "start_time": "2023-04-29T12:39:54.459Z"
   },
   {
    "duration": 9,
    "start_time": "2023-04-29T12:39:54.763Z"
   },
   {
    "duration": 10,
    "start_time": "2023-04-29T12:39:55.095Z"
   },
   {
    "duration": 6,
    "start_time": "2023-04-29T12:39:55.838Z"
   },
   {
    "duration": 6,
    "start_time": "2023-04-29T12:40:15.773Z"
   },
   {
    "duration": 7,
    "start_time": "2023-04-29T12:40:19.725Z"
   },
   {
    "duration": 6,
    "start_time": "2023-04-29T12:40:27.883Z"
   },
   {
    "duration": 4,
    "start_time": "2023-04-29T12:40:47.795Z"
   },
   {
    "duration": 11,
    "start_time": "2023-04-29T12:40:48.281Z"
   },
   {
    "duration": 12,
    "start_time": "2023-04-29T12:40:48.742Z"
   },
   {
    "duration": 6,
    "start_time": "2023-04-29T12:40:49.188Z"
   },
   {
    "duration": 11,
    "start_time": "2023-04-29T12:41:05.197Z"
   },
   {
    "duration": 5,
    "start_time": "2023-04-29T12:41:47.333Z"
   },
   {
    "duration": 9,
    "start_time": "2023-04-29T12:41:47.713Z"
   },
   {
    "duration": 18,
    "start_time": "2023-04-29T12:41:48.170Z"
   },
   {
    "duration": 17,
    "start_time": "2023-04-29T12:41:50.602Z"
   },
   {
    "duration": 13,
    "start_time": "2023-04-29T12:41:54.643Z"
   },
   {
    "duration": 13,
    "start_time": "2023-04-29T12:42:02.979Z"
   },
   {
    "duration": 13,
    "start_time": "2023-04-29T12:42:21.547Z"
   },
   {
    "duration": 16,
    "start_time": "2023-04-29T12:42:27.078Z"
   },
   {
    "duration": 1292,
    "start_time": "2023-04-29T12:43:25.891Z"
   },
   {
    "duration": 15,
    "start_time": "2023-04-29T12:49:32.756Z"
   },
   {
    "duration": 9,
    "start_time": "2023-04-29T12:49:32.773Z"
   },
   {
    "duration": 1067,
    "start_time": "2023-04-29T12:49:32.783Z"
   },
   {
    "duration": 3,
    "start_time": "2023-04-29T12:50:09.384Z"
   },
   {
    "duration": 19,
    "start_time": "2023-04-29T12:50:09.389Z"
   },
   {
    "duration": 12,
    "start_time": "2023-04-29T12:50:09.410Z"
   },
   {
    "duration": 3,
    "start_time": "2023-04-29T12:50:09.424Z"
   },
   {
    "duration": 19,
    "start_time": "2023-04-29T12:50:09.429Z"
   },
   {
    "duration": 11,
    "start_time": "2023-04-29T12:50:09.449Z"
   },
   {
    "duration": 1380,
    "start_time": "2023-04-29T12:50:09.462Z"
   },
   {
    "duration": 18,
    "start_time": "2023-04-29T12:50:10.844Z"
   },
   {
    "duration": 10,
    "start_time": "2023-04-29T12:50:10.863Z"
   },
   {
    "duration": 1394,
    "start_time": "2023-04-29T12:50:10.875Z"
   },
   {
    "duration": 4,
    "start_time": "2023-04-29T12:50:36.945Z"
   },
   {
    "duration": 11,
    "start_time": "2023-04-29T12:50:36.951Z"
   },
   {
    "duration": 13,
    "start_time": "2023-04-29T12:50:36.963Z"
   },
   {
    "duration": 4,
    "start_time": "2023-04-29T12:50:36.978Z"
   },
   {
    "duration": 26,
    "start_time": "2023-04-29T12:50:36.984Z"
   },
   {
    "duration": 10,
    "start_time": "2023-04-29T12:50:37.012Z"
   },
   {
    "duration": 1350,
    "start_time": "2023-04-29T12:50:37.034Z"
   },
   {
    "duration": 20,
    "start_time": "2023-04-29T12:50:38.386Z"
   },
   {
    "duration": 9,
    "start_time": "2023-04-29T12:50:38.407Z"
   },
   {
    "duration": 1405,
    "start_time": "2023-04-29T12:50:38.418Z"
   },
   {
    "duration": 15,
    "start_time": "2023-04-29T12:53:50.929Z"
   },
   {
    "duration": 4,
    "start_time": "2023-04-29T12:53:53.531Z"
   },
   {
    "duration": 13,
    "start_time": "2023-04-29T12:53:54.549Z"
   },
   {
    "duration": 13,
    "start_time": "2023-04-29T12:53:54.564Z"
   },
   {
    "duration": 5,
    "start_time": "2023-04-29T12:53:59.735Z"
   },
   {
    "duration": 11,
    "start_time": "2023-04-29T12:54:01.107Z"
   },
   {
    "duration": 14,
    "start_time": "2023-04-29T12:54:02.240Z"
   },
   {
    "duration": 7,
    "start_time": "2023-04-29T12:54:30.318Z"
   },
   {
    "duration": 21,
    "start_time": "2023-04-29T12:54:31.590Z"
   },
   {
    "duration": 13,
    "start_time": "2023-04-29T12:54:32.521Z"
   },
   {
    "duration": 21,
    "start_time": "2023-04-29T12:54:57.085Z"
   },
   {
    "duration": 13,
    "start_time": "2023-04-29T12:54:59.508Z"
   },
   {
    "duration": 16,
    "start_time": "2023-04-29T12:55:00.618Z"
   },
   {
    "duration": 5,
    "start_time": "2023-04-29T12:55:50.858Z"
   },
   {
    "duration": 13,
    "start_time": "2023-04-29T12:55:52.151Z"
   },
   {
    "duration": 21,
    "start_time": "2023-04-29T12:55:53.485Z"
   },
   {
    "duration": 15,
    "start_time": "2023-04-29T12:56:19.017Z"
   },
   {
    "duration": 6,
    "start_time": "2023-04-29T12:56:32.833Z"
   },
   {
    "duration": 16,
    "start_time": "2023-04-29T12:56:33.662Z"
   },
   {
    "duration": 23,
    "start_time": "2023-04-29T12:56:34.540Z"
   },
   {
    "duration": 17,
    "start_time": "2023-04-29T12:56:36.377Z"
   },
   {
    "duration": 11,
    "start_time": "2023-04-29T12:56:50.082Z"
   },
   {
    "duration": 14,
    "start_time": "2023-04-29T12:56:51.212Z"
   },
   {
    "duration": 21,
    "start_time": "2023-04-29T12:56:56.380Z"
   },
   {
    "duration": 10,
    "start_time": "2023-04-29T12:57:32.377Z"
   },
   {
    "duration": 9,
    "start_time": "2023-04-29T12:57:35.779Z"
   },
   {
    "duration": 4,
    "start_time": "2023-04-29T12:59:15.062Z"
   },
   {
    "duration": 8,
    "start_time": "2023-04-29T12:59:16.046Z"
   },
   {
    "duration": 11,
    "start_time": "2023-04-29T12:59:16.698Z"
   },
   {
    "duration": 3,
    "start_time": "2023-04-29T12:59:21.476Z"
   },
   {
    "duration": 5,
    "start_time": "2023-04-29T12:59:29.883Z"
   },
   {
    "duration": 6,
    "start_time": "2023-04-29T12:59:30.552Z"
   },
   {
    "duration": 3,
    "start_time": "2023-04-29T12:59:31.188Z"
   },
   {
    "duration": 13,
    "start_time": "2023-04-29T12:59:44.103Z"
   },
   {
    "duration": 19,
    "start_time": "2023-04-29T12:59:44.985Z"
   },
   {
    "duration": 98,
    "start_time": "2023-04-29T13:06:23.035Z"
   },
   {
    "duration": 14,
    "start_time": "2023-04-29T13:06:27.509Z"
   },
   {
    "duration": 3014,
    "start_time": "2023-04-29T13:06:39.914Z"
   },
   {
    "duration": 3127,
    "start_time": "2023-04-29T13:06:57.416Z"
   },
   {
    "duration": 3019,
    "start_time": "2023-04-29T13:07:14.209Z"
   },
   {
    "duration": 11,
    "start_time": "2023-04-29T13:16:48.527Z"
   },
   {
    "duration": 3,
    "start_time": "2023-04-29T13:17:38.147Z"
   },
   {
    "duration": 14640,
    "start_time": "2023-04-29T13:17:43.002Z"
   },
   {
    "duration": 576,
    "start_time": "2023-04-29T13:18:05.353Z"
   },
   {
    "duration": 4460,
    "start_time": "2023-04-29T13:18:13.281Z"
   },
   {
    "duration": 17477,
    "start_time": "2023-04-29T13:18:56.816Z"
   },
   {
    "duration": 3711,
    "start_time": "2023-04-29T13:19:15.869Z"
   },
   {
    "duration": 49395,
    "start_time": "2023-04-29T13:19:30.118Z"
   },
   {
    "duration": 14235,
    "start_time": "2023-04-29T13:20:22.940Z"
   },
   {
    "duration": 45557,
    "start_time": "2023-04-29T13:20:50.310Z"
   },
   {
    "duration": 7,
    "start_time": "2023-04-29T13:23:39.798Z"
   },
   {
    "duration": 8,
    "start_time": "2023-04-29T13:23:50.883Z"
   },
   {
    "duration": 10,
    "start_time": "2023-04-29T13:24:10.234Z"
   },
   {
    "duration": 7,
    "start_time": "2023-04-29T13:24:12.215Z"
   },
   {
    "duration": 5,
    "start_time": "2023-04-29T13:24:31.782Z"
   },
   {
    "duration": 5,
    "start_time": "2023-04-29T13:24:56.350Z"
   },
   {
    "duration": 16,
    "start_time": "2023-04-29T13:24:56.357Z"
   },
   {
    "duration": 13,
    "start_time": "2023-04-29T13:24:56.374Z"
   },
   {
    "duration": 3028,
    "start_time": "2023-04-29T13:24:56.389Z"
   },
   {
    "duration": 16,
    "start_time": "2023-04-29T13:24:59.419Z"
   },
   {
    "duration": 49549,
    "start_time": "2023-04-29T13:24:59.437Z"
   },
   {
    "duration": 7,
    "start_time": "2023-04-29T13:25:48.987Z"
   },
   {
    "duration": 10,
    "start_time": "2023-04-29T13:25:48.995Z"
   },
   {
    "duration": 12,
    "start_time": "2023-04-29T13:25:49.006Z"
   },
   {
    "duration": 4,
    "start_time": "2023-04-29T13:28:13.877Z"
   },
   {
    "duration": 18,
    "start_time": "2023-04-29T13:28:13.882Z"
   },
   {
    "duration": 20,
    "start_time": "2023-04-29T13:28:13.901Z"
   },
   {
    "duration": 3100,
    "start_time": "2023-04-29T13:28:13.923Z"
   },
   {
    "duration": 16,
    "start_time": "2023-04-29T13:28:17.025Z"
   },
   {
    "duration": 44438,
    "start_time": "2023-04-29T13:28:17.042Z"
   },
   {
    "duration": 6,
    "start_time": "2023-04-29T13:29:01.481Z"
   },
   {
    "duration": 22,
    "start_time": "2023-04-29T13:29:01.488Z"
   },
   {
    "duration": 49,
    "start_time": "2023-04-29T13:29:01.511Z"
   },
   {
    "duration": 13,
    "start_time": "2023-04-29T13:38:51.542Z"
   },
   {
    "duration": 13,
    "start_time": "2023-04-29T13:38:59.230Z"
   },
   {
    "duration": 4,
    "start_time": "2023-04-29T13:56:52.920Z"
   },
   {
    "duration": 15,
    "start_time": "2023-04-29T13:56:52.926Z"
   },
   {
    "duration": 10,
    "start_time": "2023-04-29T13:56:52.942Z"
   },
   {
    "duration": 3412,
    "start_time": "2023-04-29T13:56:52.953Z"
   },
   {
    "duration": 9,
    "start_time": "2023-04-29T13:56:56.368Z"
   },
   {
    "duration": 50371,
    "start_time": "2023-04-29T13:56:56.379Z"
   },
   {
    "duration": 418,
    "start_time": "2023-04-29T13:59:33.521Z"
   },
   {
    "duration": 115,
    "start_time": "2023-04-29T14:00:34.611Z"
   },
   {
    "duration": 434,
    "start_time": "2023-04-29T14:00:37.932Z"
   },
   {
    "duration": 53459,
    "start_time": "2023-04-29T14:03:10.729Z"
   },
   {
    "duration": 3,
    "start_time": "2023-04-29T14:05:25.863Z"
   },
   {
    "duration": 25,
    "start_time": "2023-04-29T14:05:25.868Z"
   },
   {
    "duration": 18,
    "start_time": "2023-04-29T14:05:25.894Z"
   },
   {
    "duration": 62,
    "start_time": "2023-04-29T14:05:25.913Z"
   },
   {
    "duration": 7,
    "start_time": "2023-04-29T14:05:25.977Z"
   },
   {
    "duration": 8827,
    "start_time": "2023-04-29T14:05:25.986Z"
   },
   {
    "duration": 7,
    "start_time": "2023-04-29T14:05:34.815Z"
   },
   {
    "duration": 10,
    "start_time": "2023-04-29T14:05:34.824Z"
   },
   {
    "duration": 19,
    "start_time": "2023-04-29T14:05:34.835Z"
   },
   {
    "duration": 38,
    "start_time": "2023-04-29T14:06:41.046Z"
   },
   {
    "duration": 6,
    "start_time": "2023-04-29T14:06:41.085Z"
   },
   {
    "duration": 8675,
    "start_time": "2023-04-29T14:06:41.092Z"
   },
   {
    "duration": 5,
    "start_time": "2023-04-29T14:06:49.769Z"
   },
   {
    "duration": 8,
    "start_time": "2023-04-29T14:06:49.776Z"
   },
   {
    "duration": 8,
    "start_time": "2023-04-29T14:06:49.786Z"
   },
   {
    "duration": 4,
    "start_time": "2023-04-29T14:07:45.711Z"
   },
   {
    "duration": 30,
    "start_time": "2023-04-29T14:07:45.717Z"
   },
   {
    "duration": 66,
    "start_time": "2023-04-29T14:07:45.749Z"
   },
   {
    "duration": 36,
    "start_time": "2023-04-29T14:07:45.817Z"
   },
   {
    "duration": 6,
    "start_time": "2023-04-29T14:07:45.855Z"
   },
   {
    "duration": 8322,
    "start_time": "2023-04-29T14:07:45.863Z"
   },
   {
    "duration": 6,
    "start_time": "2023-04-29T14:07:54.187Z"
   },
   {
    "duration": 24,
    "start_time": "2023-04-29T14:07:54.194Z"
   },
   {
    "duration": 21,
    "start_time": "2023-04-29T14:07:54.219Z"
   },
   {
    "duration": 4,
    "start_time": "2023-04-29T14:08:16.785Z"
   },
   {
    "duration": 45,
    "start_time": "2023-04-29T14:08:16.791Z"
   },
   {
    "duration": 7,
    "start_time": "2023-04-29T14:08:16.838Z"
   },
   {
    "duration": 19,
    "start_time": "2023-04-29T14:08:16.846Z"
   },
   {
    "duration": 11,
    "start_time": "2023-04-29T14:08:16.867Z"
   },
   {
    "duration": 8,
    "start_time": "2023-04-29T14:08:16.879Z"
   },
   {
    "duration": 12,
    "start_time": "2023-04-29T14:08:16.888Z"
   },
   {
    "duration": 8,
    "start_time": "2023-04-29T14:08:16.901Z"
   },
   {
    "duration": 6,
    "start_time": "2023-04-29T14:08:16.911Z"
   },
   {
    "duration": 242,
    "start_time": "2023-04-29T14:08:16.918Z"
   },
   {
    "duration": 243,
    "start_time": "2023-04-29T14:08:17.162Z"
   },
   {
    "duration": 6,
    "start_time": "2023-04-29T14:08:17.407Z"
   },
   {
    "duration": 186,
    "start_time": "2023-04-29T14:08:17.415Z"
   },
   {
    "duration": 4,
    "start_time": "2023-04-29T14:08:17.604Z"
   },
   {
    "duration": 23,
    "start_time": "2023-04-29T14:08:17.610Z"
   },
   {
    "duration": 11,
    "start_time": "2023-04-29T14:08:17.635Z"
   },
   {
    "duration": 16,
    "start_time": "2023-04-29T14:08:17.648Z"
   },
   {
    "duration": 6,
    "start_time": "2023-04-29T14:08:17.665Z"
   },
   {
    "duration": 2281,
    "start_time": "2023-04-29T14:08:17.672Z"
   },
   {
    "duration": 6,
    "start_time": "2023-04-29T14:08:19.954Z"
   },
   {
    "duration": 18,
    "start_time": "2023-04-29T14:08:19.962Z"
   },
   {
    "duration": 17,
    "start_time": "2023-04-29T14:08:19.982Z"
   },
   {
    "duration": 3,
    "start_time": "2023-04-29T14:08:36.154Z"
   },
   {
    "duration": 47,
    "start_time": "2023-04-29T14:08:36.158Z"
   },
   {
    "duration": 5,
    "start_time": "2023-04-29T14:08:36.207Z"
   },
   {
    "duration": 26,
    "start_time": "2023-04-29T14:08:36.213Z"
   },
   {
    "duration": 16,
    "start_time": "2023-04-29T14:08:36.241Z"
   },
   {
    "duration": 14,
    "start_time": "2023-04-29T14:08:36.259Z"
   },
   {
    "duration": 15,
    "start_time": "2023-04-29T14:08:36.274Z"
   },
   {
    "duration": 13,
    "start_time": "2023-04-29T14:08:36.291Z"
   },
   {
    "duration": 17,
    "start_time": "2023-04-29T14:08:36.305Z"
   },
   {
    "duration": 186,
    "start_time": "2023-04-29T14:08:36.323Z"
   },
   {
    "duration": 251,
    "start_time": "2023-04-29T14:08:36.510Z"
   },
   {
    "duration": 8,
    "start_time": "2023-04-29T14:08:36.763Z"
   },
   {
    "duration": 193,
    "start_time": "2023-04-29T14:08:36.773Z"
   },
   {
    "duration": 4,
    "start_time": "2023-04-29T14:08:36.968Z"
   },
   {
    "duration": 14,
    "start_time": "2023-04-29T14:08:36.973Z"
   },
   {
    "duration": 9,
    "start_time": "2023-04-29T14:08:36.989Z"
   },
   {
    "duration": 16,
    "start_time": "2023-04-29T14:08:37.000Z"
   },
   {
    "duration": 18,
    "start_time": "2023-04-29T14:08:37.017Z"
   },
   {
    "duration": 2662,
    "start_time": "2023-04-29T14:08:37.036Z"
   },
   {
    "duration": 6,
    "start_time": "2023-04-29T14:08:39.699Z"
   },
   {
    "duration": 8,
    "start_time": "2023-04-29T14:08:39.707Z"
   },
   {
    "duration": 13,
    "start_time": "2023-04-29T14:08:39.716Z"
   },
   {
    "duration": 4,
    "start_time": "2023-04-29T14:08:49.121Z"
   },
   {
    "duration": 18,
    "start_time": "2023-04-29T14:08:49.127Z"
   },
   {
    "duration": 11,
    "start_time": "2023-04-29T14:08:49.146Z"
   },
   {
    "duration": 27,
    "start_time": "2023-04-29T14:08:49.158Z"
   },
   {
    "duration": 6,
    "start_time": "2023-04-29T14:08:49.186Z"
   },
   {
    "duration": 5461,
    "start_time": "2023-04-29T14:08:49.193Z"
   },
   {
    "duration": 7,
    "start_time": "2023-04-29T14:08:54.656Z"
   },
   {
    "duration": 9,
    "start_time": "2023-04-29T14:08:54.664Z"
   },
   {
    "duration": 6,
    "start_time": "2023-04-29T14:08:54.674Z"
   },
   {
    "duration": 12,
    "start_time": "2023-04-29T14:09:37.841Z"
   },
   {
    "duration": 1361,
    "start_time": "2023-04-29T14:10:43.943Z"
   },
   {
    "duration": 43,
    "start_time": "2023-04-29T14:10:45.305Z"
   },
   {
    "duration": 84,
    "start_time": "2023-04-29T14:10:45.349Z"
   },
   {
    "duration": 11,
    "start_time": "2023-04-29T14:10:45.435Z"
   },
   {
    "duration": 7,
    "start_time": "2023-04-29T14:10:45.448Z"
   },
   {
    "duration": 17,
    "start_time": "2023-04-29T14:10:45.456Z"
   },
   {
    "duration": 6,
    "start_time": "2023-04-29T14:10:45.474Z"
   },
   {
    "duration": 12,
    "start_time": "2023-04-29T14:10:45.482Z"
   },
   {
    "duration": 5,
    "start_time": "2023-04-29T14:10:45.496Z"
   },
   {
    "duration": 258,
    "start_time": "2023-04-29T14:10:45.503Z"
   },
   {
    "duration": 206,
    "start_time": "2023-04-29T14:10:45.762Z"
   },
   {
    "duration": 8,
    "start_time": "2023-04-29T14:10:45.970Z"
   },
   {
    "duration": 193,
    "start_time": "2023-04-29T14:10:45.979Z"
   },
   {
    "duration": 3,
    "start_time": "2023-04-29T14:10:46.175Z"
   },
   {
    "duration": 15,
    "start_time": "2023-04-29T14:10:46.180Z"
   },
   {
    "duration": 183,
    "start_time": "2023-04-29T14:10:46.196Z"
   },
   {
    "duration": 0,
    "start_time": "2023-04-29T14:10:46.381Z"
   },
   {
    "duration": 0,
    "start_time": "2023-04-29T14:10:46.382Z"
   },
   {
    "duration": 0,
    "start_time": "2023-04-29T14:10:46.382Z"
   },
   {
    "duration": 0,
    "start_time": "2023-04-29T14:10:46.384Z"
   },
   {
    "duration": 0,
    "start_time": "2023-04-29T14:10:46.385Z"
   },
   {
    "duration": 0,
    "start_time": "2023-04-29T14:10:46.385Z"
   },
   {
    "duration": 0,
    "start_time": "2023-04-29T14:10:46.386Z"
   },
   {
    "duration": 11,
    "start_time": "2023-04-29T14:11:05.616Z"
   },
   {
    "duration": 11,
    "start_time": "2023-04-29T14:11:10.231Z"
   },
   {
    "duration": 34,
    "start_time": "2023-04-29T14:11:10.244Z"
   },
   {
    "duration": 5,
    "start_time": "2023-04-29T14:11:10.280Z"
   },
   {
    "duration": 5827,
    "start_time": "2023-04-29T14:11:10.287Z"
   },
   {
    "duration": 6,
    "start_time": "2023-04-29T14:11:16.116Z"
   },
   {
    "duration": 11,
    "start_time": "2023-04-29T14:11:16.123Z"
   },
   {
    "duration": 13,
    "start_time": "2023-04-29T14:11:16.135Z"
   },
   {
    "duration": 1867,
    "start_time": "2023-04-30T10:31:36.077Z"
   },
   {
    "duration": 165,
    "start_time": "2023-04-30T10:31:37.947Z"
   },
   {
    "duration": 11,
    "start_time": "2023-04-30T10:31:38.114Z"
   },
   {
    "duration": 13,
    "start_time": "2023-04-30T10:31:38.127Z"
   },
   {
    "duration": 9,
    "start_time": "2023-04-30T10:31:38.142Z"
   },
   {
    "duration": 12,
    "start_time": "2023-04-30T10:31:38.152Z"
   },
   {
    "duration": 14,
    "start_time": "2023-04-30T10:31:38.166Z"
   },
   {
    "duration": 28,
    "start_time": "2023-04-30T10:31:38.182Z"
   },
   {
    "duration": 13,
    "start_time": "2023-04-30T10:31:38.224Z"
   },
   {
    "duration": 393,
    "start_time": "2023-04-30T10:31:38.240Z"
   },
   {
    "duration": 266,
    "start_time": "2023-04-30T10:31:38.636Z"
   },
   {
    "duration": 16,
    "start_time": "2023-04-30T10:31:38.903Z"
   },
   {
    "duration": 220,
    "start_time": "2023-04-30T10:31:38.927Z"
   },
   {
    "duration": 4,
    "start_time": "2023-04-30T10:31:39.150Z"
   },
   {
    "duration": 15,
    "start_time": "2023-04-30T10:31:39.155Z"
   },
   {
    "duration": 106,
    "start_time": "2023-04-30T10:31:39.171Z"
   },
   {
    "duration": 31,
    "start_time": "2023-04-30T10:31:39.279Z"
   },
   {
    "duration": 32,
    "start_time": "2023-04-30T10:31:39.312Z"
   },
   {
    "duration": 8,
    "start_time": "2023-04-30T10:31:39.345Z"
   },
   {
    "duration": 7085,
    "start_time": "2023-04-30T10:31:39.354Z"
   },
   {
    "duration": 12,
    "start_time": "2023-04-30T10:31:46.441Z"
   },
   {
    "duration": 9,
    "start_time": "2023-04-30T10:31:46.455Z"
   },
   {
    "duration": 14,
    "start_time": "2023-04-30T10:31:46.466Z"
   },
   {
    "duration": 5,
    "start_time": "2023-04-30T10:35:44.843Z"
   },
   {
    "duration": 38,
    "start_time": "2023-04-30T10:35:44.850Z"
   },
   {
    "duration": 17,
    "start_time": "2023-04-30T10:35:44.892Z"
   },
   {
    "duration": 20,
    "start_time": "2023-04-30T10:35:44.914Z"
   },
   {
    "duration": 60,
    "start_time": "2023-04-30T10:35:44.937Z"
   },
   {
    "duration": 28,
    "start_time": "2023-04-30T10:35:45.001Z"
   },
   {
    "duration": 15009,
    "start_time": "2023-04-30T10:35:45.033Z"
   },
   {
    "duration": 7,
    "start_time": "2023-04-30T10:36:00.044Z"
   },
   {
    "duration": 31,
    "start_time": "2023-04-30T10:36:00.053Z"
   },
   {
    "duration": 37,
    "start_time": "2023-04-30T10:36:00.092Z"
   },
   {
    "duration": 4,
    "start_time": "2023-04-30T10:37:07.221Z"
   },
   {
    "duration": 9,
    "start_time": "2023-04-30T10:37:14.316Z"
   },
   {
    "duration": 4,
    "start_time": "2023-04-30T10:37:22.139Z"
   },
   {
    "duration": 81,
    "start_time": "2023-04-30T10:37:22.145Z"
   },
   {
    "duration": 8,
    "start_time": "2023-04-30T10:37:22.228Z"
   },
   {
    "duration": 24,
    "start_time": "2023-04-30T10:37:22.237Z"
   },
   {
    "duration": 9,
    "start_time": "2023-04-30T10:37:22.264Z"
   },
   {
    "duration": 8,
    "start_time": "2023-04-30T10:37:22.275Z"
   },
   {
    "duration": 11,
    "start_time": "2023-04-30T10:37:22.284Z"
   },
   {
    "duration": 32,
    "start_time": "2023-04-30T10:37:22.297Z"
   },
   {
    "duration": 23,
    "start_time": "2023-04-30T10:37:22.331Z"
   },
   {
    "duration": 271,
    "start_time": "2023-04-30T10:37:22.356Z"
   },
   {
    "duration": 291,
    "start_time": "2023-04-30T10:37:22.629Z"
   },
   {
    "duration": 8,
    "start_time": "2023-04-30T10:37:22.925Z"
   },
   {
    "duration": 297,
    "start_time": "2023-04-30T10:37:22.935Z"
   },
   {
    "duration": 4,
    "start_time": "2023-04-30T10:37:26.565Z"
   },
   {
    "duration": 10,
    "start_time": "2023-04-30T10:37:28.107Z"
   },
   {
    "duration": 8,
    "start_time": "2023-04-30T10:37:33.670Z"
   },
   {
    "duration": 18,
    "start_time": "2023-04-30T10:37:43.789Z"
   },
   {
    "duration": 14,
    "start_time": "2023-04-30T10:37:43.809Z"
   },
   {
    "duration": 9,
    "start_time": "2023-04-30T10:37:43.825Z"
   },
   {
    "duration": 6,
    "start_time": "2023-04-30T10:37:43.837Z"
   },
   {
    "duration": 812,
    "start_time": "2023-04-30T10:37:43.846Z"
   },
   {
    "duration": 9,
    "start_time": "2023-04-30T10:37:44.660Z"
   },
   {
    "duration": 8,
    "start_time": "2023-04-30T10:37:44.670Z"
   },
   {
    "duration": 26,
    "start_time": "2023-04-30T10:37:44.681Z"
   },
   {
    "duration": 5,
    "start_time": "2023-04-30T10:39:07.030Z"
   },
   {
    "duration": 44,
    "start_time": "2023-04-30T10:39:07.037Z"
   },
   {
    "duration": 19,
    "start_time": "2023-04-30T10:39:07.083Z"
   },
   {
    "duration": 18,
    "start_time": "2023-04-30T10:39:07.106Z"
   },
   {
    "duration": 9,
    "start_time": "2023-04-30T10:39:07.126Z"
   },
   {
    "duration": 5,
    "start_time": "2023-04-30T10:39:07.137Z"
   },
   {
    "duration": 5,
    "start_time": "2023-04-30T10:39:07.143Z"
   },
   {
    "duration": 7,
    "start_time": "2023-04-30T10:39:07.149Z"
   },
   {
    "duration": 34,
    "start_time": "2023-04-30T10:39:07.158Z"
   },
   {
    "duration": 277,
    "start_time": "2023-04-30T10:39:07.200Z"
   },
   {
    "duration": 288,
    "start_time": "2023-04-30T10:39:07.479Z"
   },
   {
    "duration": 20,
    "start_time": "2023-04-30T10:39:07.770Z"
   },
   {
    "duration": 212,
    "start_time": "2023-04-30T10:39:07.796Z"
   },
   {
    "duration": 7,
    "start_time": "2023-04-30T10:39:08.011Z"
   },
   {
    "duration": 18,
    "start_time": "2023-04-30T10:39:08.020Z"
   },
   {
    "duration": 14,
    "start_time": "2023-04-30T10:39:08.040Z"
   },
   {
    "duration": 49,
    "start_time": "2023-04-30T10:39:08.056Z"
   },
   {
    "duration": 48,
    "start_time": "2023-04-30T10:39:08.115Z"
   },
   {
    "duration": 7,
    "start_time": "2023-04-30T10:39:08.165Z"
   },
   {
    "duration": 14237,
    "start_time": "2023-04-30T10:39:08.176Z"
   },
   {
    "duration": 9,
    "start_time": "2023-04-30T10:39:22.417Z"
   },
   {
    "duration": 8,
    "start_time": "2023-04-30T10:39:22.428Z"
   },
   {
    "duration": 8,
    "start_time": "2023-04-30T10:39:22.439Z"
   },
   {
    "duration": 3,
    "start_time": "2023-04-30T10:40:03.319Z"
   },
   {
    "duration": 43,
    "start_time": "2023-04-30T10:40:03.324Z"
   },
   {
    "duration": 6,
    "start_time": "2023-04-30T10:40:03.369Z"
   },
   {
    "duration": 36,
    "start_time": "2023-04-30T10:40:03.377Z"
   },
   {
    "duration": 11,
    "start_time": "2023-04-30T10:40:03.415Z"
   },
   {
    "duration": 6,
    "start_time": "2023-04-30T10:40:03.427Z"
   },
   {
    "duration": 35,
    "start_time": "2023-04-30T10:40:03.435Z"
   },
   {
    "duration": 48,
    "start_time": "2023-04-30T10:40:03.472Z"
   },
   {
    "duration": 9,
    "start_time": "2023-04-30T10:40:03.523Z"
   },
   {
    "duration": 238,
    "start_time": "2023-04-30T10:40:21.017Z"
   },
   {
    "duration": 271,
    "start_time": "2023-04-30T10:40:21.258Z"
   },
   {
    "duration": 10,
    "start_time": "2023-04-30T10:40:21.531Z"
   },
   {
    "duration": 256,
    "start_time": "2023-04-30T10:40:21.543Z"
   },
   {
    "duration": 273,
    "start_time": "2023-04-30T10:40:49.322Z"
   },
   {
    "duration": 274,
    "start_time": "2023-04-30T10:41:00.028Z"
   },
   {
    "duration": 261,
    "start_time": "2023-04-30T10:46:20.022Z"
   },
   {
    "duration": 317,
    "start_time": "2023-04-30T10:46:41.120Z"
   },
   {
    "duration": 402,
    "start_time": "2023-04-30T10:46:59.806Z"
   },
   {
    "duration": 436,
    "start_time": "2023-04-30T10:49:47.909Z"
   },
   {
    "duration": 293,
    "start_time": "2023-04-30T10:50:40.138Z"
   },
   {
    "duration": 270,
    "start_time": "2023-04-30T10:55:11.989Z"
   },
   {
    "duration": 287,
    "start_time": "2023-04-30T10:56:04.187Z"
   },
   {
    "duration": 732,
    "start_time": "2023-04-30T11:01:51.413Z"
   },
   {
    "duration": 577,
    "start_time": "2023-04-30T11:02:04.709Z"
   },
   {
    "duration": 5,
    "start_time": "2023-04-30T11:02:17.907Z"
   },
   {
    "duration": 50,
    "start_time": "2023-04-30T11:02:17.914Z"
   },
   {
    "duration": 8,
    "start_time": "2023-04-30T11:02:17.966Z"
   },
   {
    "duration": 15,
    "start_time": "2023-04-30T11:02:17.977Z"
   },
   {
    "duration": 9,
    "start_time": "2023-04-30T11:02:17.993Z"
   },
   {
    "duration": 13,
    "start_time": "2023-04-30T11:02:18.004Z"
   },
   {
    "duration": 10,
    "start_time": "2023-04-30T11:02:18.019Z"
   },
   {
    "duration": 18,
    "start_time": "2023-04-30T11:02:18.031Z"
   },
   {
    "duration": 7,
    "start_time": "2023-04-30T11:02:18.051Z"
   },
   {
    "duration": 323,
    "start_time": "2023-04-30T11:02:18.062Z"
   },
   {
    "duration": 7,
    "start_time": "2023-04-30T11:02:18.387Z"
   },
   {
    "duration": 240,
    "start_time": "2023-04-30T11:02:18.396Z"
   },
   {
    "duration": 6,
    "start_time": "2023-04-30T11:02:26.904Z"
   },
   {
    "duration": 24,
    "start_time": "2023-04-30T11:02:26.913Z"
   },
   {
    "duration": 15,
    "start_time": "2023-04-30T11:02:26.940Z"
   },
   {
    "duration": 28,
    "start_time": "2023-04-30T11:02:30.122Z"
   },
   {
    "duration": 750,
    "start_time": "2023-04-30T11:02:34.007Z"
   },
   {
    "duration": 51,
    "start_time": "2023-04-30T11:04:54.202Z"
   },
   {
    "duration": 42,
    "start_time": "2023-04-30T11:04:59.538Z"
   },
   {
    "duration": 16,
    "start_time": "2023-04-30T11:05:08.734Z"
   },
   {
    "duration": 985870,
    "start_time": "2023-04-30T11:05:14.106Z"
   },
   {
    "duration": 154474,
    "start_time": "2023-04-30T11:22:01.947Z"
   },
   {
    "duration": 166227,
    "start_time": "2023-04-30T11:25:14.250Z"
   },
   {
    "duration": 53499,
    "start_time": "2023-04-30T11:28:10.239Z"
   },
   {
    "duration": 89260,
    "start_time": "2023-04-30T11:29:05.956Z"
   },
   {
    "duration": 6,
    "start_time": "2023-04-30T11:30:57.328Z"
   },
   {
    "duration": 9,
    "start_time": "2023-04-30T11:30:57.337Z"
   },
   {
    "duration": 7,
    "start_time": "2023-04-30T11:30:57.348Z"
   },
   {
    "duration": 14,
    "start_time": "2023-04-30T11:31:30.715Z"
   },
   {
    "duration": 18,
    "start_time": "2023-04-30T11:35:18.883Z"
   },
   {
    "duration": 5,
    "start_time": "2023-04-30T11:35:20.626Z"
   },
   {
    "duration": 23,
    "start_time": "2023-04-30T11:35:21.509Z"
   },
   {
    "duration": 18,
    "start_time": "2023-04-30T11:35:23.363Z"
   },
   {
    "duration": 14,
    "start_time": "2023-04-30T11:35:32.980Z"
   },
   {
    "duration": 18,
    "start_time": "2023-04-30T11:36:01.712Z"
   },
   {
    "duration": 10,
    "start_time": "2023-04-30T11:36:06.814Z"
   },
   {
    "duration": 22,
    "start_time": "2023-04-30T11:36:07.409Z"
   },
   {
    "duration": 14,
    "start_time": "2023-04-30T11:36:37.261Z"
   },
   {
    "duration": 6,
    "start_time": "2023-04-30T11:36:55.405Z"
   },
   {
    "duration": 48,
    "start_time": "2023-04-30T11:36:56.109Z"
   },
   {
    "duration": 21,
    "start_time": "2023-04-30T11:36:58.757Z"
   },
   {
    "duration": 3,
    "start_time": "2023-04-30T11:37:08.825Z"
   },
   {
    "duration": 41,
    "start_time": "2023-04-30T11:37:08.831Z"
   },
   {
    "duration": 7,
    "start_time": "2023-04-30T11:37:08.874Z"
   },
   {
    "duration": 16,
    "start_time": "2023-04-30T11:37:08.883Z"
   },
   {
    "duration": 9,
    "start_time": "2023-04-30T11:37:08.902Z"
   },
   {
    "duration": 9,
    "start_time": "2023-04-30T11:37:08.913Z"
   },
   {
    "duration": 23,
    "start_time": "2023-04-30T11:37:08.924Z"
   },
   {
    "duration": 8,
    "start_time": "2023-04-30T11:37:08.949Z"
   },
   {
    "duration": 12,
    "start_time": "2023-04-30T11:37:08.959Z"
   },
   {
    "duration": 286,
    "start_time": "2023-04-30T11:37:08.973Z"
   },
   {
    "duration": 9,
    "start_time": "2023-04-30T11:37:09.261Z"
   },
   {
    "duration": 227,
    "start_time": "2023-04-30T11:37:09.287Z"
   },
   {
    "duration": 5,
    "start_time": "2023-04-30T11:37:13.838Z"
   },
   {
    "duration": 38,
    "start_time": "2023-04-30T11:37:14.034Z"
   },
   {
    "duration": 9,
    "start_time": "2023-04-30T11:37:17.404Z"
   },
   {
    "duration": 12,
    "start_time": "2023-04-30T11:37:41.920Z"
   },
   {
    "duration": 7,
    "start_time": "2023-04-30T11:38:12.263Z"
   },
   {
    "duration": 37,
    "start_time": "2023-04-30T11:38:12.806Z"
   },
   {
    "duration": 4,
    "start_time": "2023-04-30T11:38:36.319Z"
   },
   {
    "duration": 29,
    "start_time": "2023-04-30T11:38:36.326Z"
   },
   {
    "duration": 22,
    "start_time": "2023-04-30T11:38:36.357Z"
   },
   {
    "duration": 29,
    "start_time": "2023-04-30T11:38:37.766Z"
   },
   {
    "duration": 13,
    "start_time": "2023-04-30T11:38:47.389Z"
   },
   {
    "duration": 14,
    "start_time": "2023-04-30T11:38:51.464Z"
   },
   {
    "duration": 64,
    "start_time": "2023-04-30T11:38:57.270Z"
   },
   {
    "duration": 9,
    "start_time": "2023-04-30T11:38:59.275Z"
   },
   {
    "duration": 81,
    "start_time": "2023-04-30T11:39:01.219Z"
   },
   {
    "duration": 19,
    "start_time": "2023-04-30T11:39:02.752Z"
   },
   {
    "duration": 4,
    "start_time": "2023-04-30T11:39:55.820Z"
   },
   {
    "duration": 52,
    "start_time": "2023-04-30T11:39:55.827Z"
   },
   {
    "duration": 9,
    "start_time": "2023-04-30T11:39:55.881Z"
   },
   {
    "duration": 22,
    "start_time": "2023-04-30T11:39:55.892Z"
   },
   {
    "duration": 27,
    "start_time": "2023-04-30T11:39:55.916Z"
   },
   {
    "duration": 9,
    "start_time": "2023-04-30T11:39:55.945Z"
   },
   {
    "duration": 17,
    "start_time": "2023-04-30T11:39:55.956Z"
   },
   {
    "duration": 20,
    "start_time": "2023-04-30T11:39:55.975Z"
   },
   {
    "duration": 16,
    "start_time": "2023-04-30T11:39:55.997Z"
   },
   {
    "duration": 292,
    "start_time": "2023-04-30T11:39:56.016Z"
   },
   {
    "duration": 8,
    "start_time": "2023-04-30T11:39:56.310Z"
   },
   {
    "duration": 234,
    "start_time": "2023-04-30T11:39:56.320Z"
   },
   {
    "duration": 5,
    "start_time": "2023-04-30T11:40:02.670Z"
   },
   {
    "duration": 15,
    "start_time": "2023-04-30T11:40:03.208Z"
   },
   {
    "duration": 9,
    "start_time": "2023-04-30T11:40:04.515Z"
   },
   {
    "duration": 12,
    "start_time": "2023-04-30T11:40:09.384Z"
   },
   {
    "duration": 44,
    "start_time": "2023-04-30T11:40:11.044Z"
   },
   {
    "duration": 8,
    "start_time": "2023-04-30T11:40:13.012Z"
   },
   {
    "duration": 6,
    "start_time": "2023-04-30T11:40:40.668Z"
   },
   {
    "duration": 20,
    "start_time": "2023-04-30T11:40:41.053Z"
   },
   {
    "duration": 11,
    "start_time": "2023-04-30T11:40:41.289Z"
   },
   {
    "duration": 15,
    "start_time": "2023-04-30T11:40:41.664Z"
   },
   {
    "duration": 79,
    "start_time": "2023-04-30T11:40:42.771Z"
   },
   {
    "duration": 105,
    "start_time": "2023-04-30T11:40:43.299Z"
   },
   {
    "duration": 9,
    "start_time": "2023-04-30T11:40:44.980Z"
   },
   {
    "duration": 12,
    "start_time": "2023-04-30T11:40:45.518Z"
   },
   {
    "duration": 4,
    "start_time": "2023-04-30T11:41:55.337Z"
   },
   {
    "duration": 42,
    "start_time": "2023-04-30T11:41:55.685Z"
   },
   {
    "duration": 8,
    "start_time": "2023-04-30T11:41:56.621Z"
   },
   {
    "duration": 12,
    "start_time": "2023-04-30T11:41:57.710Z"
   },
   {
    "duration": 10,
    "start_time": "2023-04-30T11:42:06.216Z"
   },
   {
    "duration": 8,
    "start_time": "2023-04-30T11:42:08.070Z"
   },
   {
    "duration": 5,
    "start_time": "2023-04-30T11:42:13.108Z"
   },
   {
    "duration": 8,
    "start_time": "2023-04-30T11:42:14.659Z"
   },
   {
    "duration": 5,
    "start_time": "2023-04-30T11:42:27.369Z"
   },
   {
    "duration": 9,
    "start_time": "2023-04-30T11:42:32.008Z"
   },
   {
    "duration": 7,
    "start_time": "2023-04-30T11:42:40.780Z"
   },
   {
    "duration": 6,
    "start_time": "2023-04-30T11:42:41.290Z"
   },
   {
    "duration": 7,
    "start_time": "2023-04-30T11:45:13.969Z"
   },
   {
    "duration": 5,
    "start_time": "2023-04-30T11:45:26.739Z"
   },
   {
    "duration": 4,
    "start_time": "2023-04-30T11:46:32.069Z"
   },
   {
    "duration": 65,
    "start_time": "2023-04-30T11:46:32.076Z"
   },
   {
    "duration": 8,
    "start_time": "2023-04-30T11:46:32.143Z"
   },
   {
    "duration": 15,
    "start_time": "2023-04-30T11:46:32.152Z"
   },
   {
    "duration": 10,
    "start_time": "2023-04-30T11:46:32.170Z"
   },
   {
    "duration": 10,
    "start_time": "2023-04-30T11:46:32.182Z"
   },
   {
    "duration": 7,
    "start_time": "2023-04-30T11:46:32.195Z"
   },
   {
    "duration": 11,
    "start_time": "2023-04-30T11:46:32.204Z"
   },
   {
    "duration": 9,
    "start_time": "2023-04-30T11:46:32.217Z"
   },
   {
    "duration": 329,
    "start_time": "2023-04-30T11:46:32.228Z"
   },
   {
    "duration": 8,
    "start_time": "2023-04-30T11:46:32.559Z"
   },
   {
    "duration": 244,
    "start_time": "2023-04-30T11:46:32.569Z"
   },
   {
    "duration": 6,
    "start_time": "2023-04-30T11:46:32.815Z"
   },
   {
    "duration": 5,
    "start_time": "2023-04-30T11:46:35.579Z"
   },
   {
    "duration": 4,
    "start_time": "2023-04-30T11:46:40.447Z"
   },
   {
    "duration": 13,
    "start_time": "2023-04-30T11:46:41.635Z"
   },
   {
    "duration": 7,
    "start_time": "2023-04-30T11:46:42.312Z"
   },
   {
    "duration": 15,
    "start_time": "2023-04-30T11:46:44.213Z"
   },
   {
    "duration": 47,
    "start_time": "2023-04-30T11:46:48.362Z"
   },
   {
    "duration": 7,
    "start_time": "2023-04-30T11:46:49.084Z"
   },
   {
    "duration": 6,
    "start_time": "2023-04-30T11:46:50.847Z"
   },
   {
    "duration": 6,
    "start_time": "2023-04-30T11:46:51.403Z"
   },
   {
    "duration": 9,
    "start_time": "2023-04-30T11:47:07.172Z"
   },
   {
    "duration": 17,
    "start_time": "2023-04-30T11:47:11.650Z"
   },
   {
    "duration": 5,
    "start_time": "2023-04-30T11:48:18.944Z"
   },
   {
    "duration": 52,
    "start_time": "2023-04-30T11:48:18.952Z"
   },
   {
    "duration": 7,
    "start_time": "2023-04-30T11:48:19.006Z"
   },
   {
    "duration": 15,
    "start_time": "2023-04-30T11:48:19.015Z"
   },
   {
    "duration": 8,
    "start_time": "2023-04-30T11:48:19.033Z"
   },
   {
    "duration": 6,
    "start_time": "2023-04-30T11:48:19.043Z"
   },
   {
    "duration": 5,
    "start_time": "2023-04-30T11:48:19.051Z"
   },
   {
    "duration": 159,
    "start_time": "2023-04-30T11:48:19.058Z"
   },
   {
    "duration": 7,
    "start_time": "2023-04-30T11:48:19.218Z"
   },
   {
    "duration": 308,
    "start_time": "2023-04-30T11:48:19.227Z"
   },
   {
    "duration": 7,
    "start_time": "2023-04-30T11:48:19.537Z"
   },
   {
    "duration": 234,
    "start_time": "2023-04-30T11:48:19.546Z"
   },
   {
    "duration": 5,
    "start_time": "2023-04-30T11:48:19.782Z"
   },
   {
    "duration": 4,
    "start_time": "2023-04-30T11:48:29.356Z"
   },
   {
    "duration": 42,
    "start_time": "2023-04-30T11:48:29.362Z"
   },
   {
    "duration": 9,
    "start_time": "2023-04-30T11:48:29.406Z"
   },
   {
    "duration": 12,
    "start_time": "2023-04-30T11:48:29.418Z"
   },
   {
    "duration": 32,
    "start_time": "2023-04-30T11:48:29.434Z"
   },
   {
    "duration": 18,
    "start_time": "2023-04-30T11:48:29.485Z"
   },
   {
    "duration": 50732,
    "start_time": "2023-04-30T11:48:29.506Z"
   },
   {
    "duration": 14,
    "start_time": "2023-04-30T11:49:20.240Z"
   },
   {
    "duration": 18,
    "start_time": "2023-04-30T11:49:20.257Z"
   },
   {
    "duration": 24,
    "start_time": "2023-04-30T11:49:20.277Z"
   },
   {
    "duration": 10,
    "start_time": "2023-04-30T11:49:20.303Z"
   },
   {
    "duration": 22,
    "start_time": "2023-04-30T11:50:13.371Z"
   },
   {
    "duration": 3,
    "start_time": "2023-04-30T11:50:34.923Z"
   },
   {
    "duration": 45,
    "start_time": "2023-04-30T11:50:34.929Z"
   },
   {
    "duration": 6,
    "start_time": "2023-04-30T11:50:34.976Z"
   },
   {
    "duration": 25,
    "start_time": "2023-04-30T11:50:34.984Z"
   },
   {
    "duration": 9,
    "start_time": "2023-04-30T11:50:35.011Z"
   },
   {
    "duration": 17,
    "start_time": "2023-04-30T11:50:35.021Z"
   },
   {
    "duration": 18,
    "start_time": "2023-04-30T11:50:35.040Z"
   },
   {
    "duration": 17,
    "start_time": "2023-04-30T11:50:35.060Z"
   },
   {
    "duration": 23,
    "start_time": "2023-04-30T11:50:35.079Z"
   },
   {
    "duration": 305,
    "start_time": "2023-04-30T11:50:35.104Z"
   },
   {
    "duration": 11,
    "start_time": "2023-04-30T11:50:35.410Z"
   },
   {
    "duration": 243,
    "start_time": "2023-04-30T11:50:35.424Z"
   },
   {
    "duration": 5,
    "start_time": "2023-04-30T11:50:35.668Z"
   },
   {
    "duration": 7,
    "start_time": "2023-04-30T11:50:46.959Z"
   },
   {
    "duration": 3,
    "start_time": "2023-04-30T11:51:54.372Z"
   },
   {
    "duration": 21,
    "start_time": "2023-04-30T11:51:54.377Z"
   },
   {
    "duration": 11,
    "start_time": "2023-04-30T11:51:54.401Z"
   },
   {
    "duration": 18,
    "start_time": "2023-04-30T11:51:54.414Z"
   },
   {
    "duration": 10,
    "start_time": "2023-04-30T11:51:55.851Z"
   },
   {
    "duration": 23,
    "start_time": "2023-04-30T11:52:09.403Z"
   },
   {
    "duration": 7,
    "start_time": "2023-04-30T11:52:10.567Z"
   },
   {
    "duration": 7,
    "start_time": "2023-04-30T11:52:12.111Z"
   },
   {
    "duration": 13,
    "start_time": "2023-04-30T11:52:13.282Z"
   },
   {
    "duration": 6,
    "start_time": "2023-04-30T11:52:54.306Z"
   },
   {
    "duration": 15,
    "start_time": "2023-04-30T11:52:56.173Z"
   },
   {
    "duration": 8,
    "start_time": "2023-04-30T11:53:18.554Z"
   },
   {
    "duration": 12,
    "start_time": "2023-04-30T11:53:19.725Z"
   },
   {
    "duration": 14,
    "start_time": "2023-04-30T11:53:22.965Z"
   },
   {
    "duration": 14,
    "start_time": "2023-04-30T11:53:25.407Z"
   },
   {
    "duration": 18,
    "start_time": "2023-04-30T11:53:42.138Z"
   },
   {
    "duration": 9,
    "start_time": "2023-04-30T11:53:42.519Z"
   },
   {
    "duration": 10,
    "start_time": "2023-04-30T11:53:44.076Z"
   },
   {
    "duration": 9,
    "start_time": "2023-04-30T11:53:44.256Z"
   },
   {
    "duration": 5,
    "start_time": "2023-04-30T11:54:27.753Z"
   },
   {
    "duration": 12,
    "start_time": "2023-04-30T11:54:28.158Z"
   },
   {
    "duration": 10,
    "start_time": "2023-04-30T11:54:28.545Z"
   },
   {
    "duration": 15,
    "start_time": "2023-04-30T11:54:30.351Z"
   },
   {
    "duration": 29,
    "start_time": "2023-04-30T11:54:31.007Z"
   },
   {
    "duration": 31,
    "start_time": "2023-04-30T11:54:34.204Z"
   },
   {
    "duration": 84,
    "start_time": "2023-04-30T11:54:34.710Z"
   },
   {
    "duration": 10,
    "start_time": "2023-04-30T11:54:35.979Z"
   },
   {
    "duration": 73,
    "start_time": "2023-04-30T11:54:36.417Z"
   },
   {
    "duration": 783,
    "start_time": "2023-04-30T11:54:46.041Z"
   },
   {
    "duration": 9,
    "start_time": "2023-04-30T11:54:49.019Z"
   },
   {
    "duration": 6,
    "start_time": "2023-04-30T11:55:25.404Z"
   },
   {
    "duration": 24,
    "start_time": "2023-04-30T11:55:26.150Z"
   },
   {
    "duration": 20,
    "start_time": "2023-04-30T11:55:26.578Z"
   },
   {
    "duration": 18,
    "start_time": "2023-04-30T11:55:28.175Z"
   },
   {
    "duration": 17,
    "start_time": "2023-04-30T11:55:28.816Z"
   },
   {
    "duration": 40,
    "start_time": "2023-04-30T11:55:30.983Z"
   },
   {
    "duration": 115,
    "start_time": "2023-04-30T11:55:31.577Z"
   },
   {
    "duration": 655,
    "start_time": "2023-04-30T11:55:32.301Z"
   },
   {
    "duration": 8,
    "start_time": "2023-04-30T11:55:36.945Z"
   },
   {
    "duration": 78,
    "start_time": "2023-04-30T11:55:37.611Z"
   },
   {
    "duration": 3,
    "start_time": "2023-04-30T11:56:17.728Z"
   },
   {
    "duration": 50,
    "start_time": "2023-04-30T11:56:17.733Z"
   },
   {
    "duration": 7,
    "start_time": "2023-04-30T11:56:17.784Z"
   },
   {
    "duration": 16,
    "start_time": "2023-04-30T11:56:17.792Z"
   },
   {
    "duration": 9,
    "start_time": "2023-04-30T11:56:17.810Z"
   },
   {
    "duration": 5,
    "start_time": "2023-04-30T11:56:17.821Z"
   },
   {
    "duration": 5,
    "start_time": "2023-04-30T11:56:17.827Z"
   },
   {
    "duration": 8,
    "start_time": "2023-04-30T11:56:17.834Z"
   },
   {
    "duration": 7,
    "start_time": "2023-04-30T11:56:17.844Z"
   },
   {
    "duration": 296,
    "start_time": "2023-04-30T11:56:17.852Z"
   },
   {
    "duration": 7,
    "start_time": "2023-04-30T11:56:18.151Z"
   },
   {
    "duration": 247,
    "start_time": "2023-04-30T11:56:18.159Z"
   },
   {
    "duration": 5,
    "start_time": "2023-04-30T11:56:18.408Z"
   },
   {
    "duration": 4,
    "start_time": "2023-04-30T11:56:23.371Z"
   },
   {
    "duration": 20,
    "start_time": "2023-04-30T11:56:23.377Z"
   },
   {
    "duration": 10,
    "start_time": "2023-04-30T11:56:23.399Z"
   },
   {
    "duration": 13,
    "start_time": "2023-04-30T11:56:23.411Z"
   },
   {
    "duration": 25,
    "start_time": "2023-04-30T11:56:23.426Z"
   },
   {
    "duration": 39,
    "start_time": "2023-04-30T11:56:26.787Z"
   },
   {
    "duration": 187,
    "start_time": "2023-04-30T11:56:27.303Z"
   },
   {
    "duration": 914,
    "start_time": "2023-04-30T11:56:27.985Z"
   },
   {
    "duration": 7,
    "start_time": "2023-04-30T11:56:29.959Z"
   },
   {
    "duration": 15,
    "start_time": "2023-04-30T11:56:30.564Z"
   },
   {
    "duration": 8,
    "start_time": "2023-04-30T11:56:31.038Z"
   },
   {
    "duration": 4,
    "start_time": "2023-04-30T11:57:21.752Z"
   },
   {
    "duration": 44,
    "start_time": "2023-04-30T11:57:21.758Z"
   },
   {
    "duration": 8,
    "start_time": "2023-04-30T11:57:21.804Z"
   },
   {
    "duration": 22,
    "start_time": "2023-04-30T11:57:21.814Z"
   },
   {
    "duration": 11,
    "start_time": "2023-04-30T11:57:21.838Z"
   },
   {
    "duration": 23,
    "start_time": "2023-04-30T11:57:21.851Z"
   },
   {
    "duration": 6,
    "start_time": "2023-04-30T11:57:21.876Z"
   },
   {
    "duration": 22,
    "start_time": "2023-04-30T11:57:21.884Z"
   },
   {
    "duration": 16,
    "start_time": "2023-04-30T11:57:21.907Z"
   },
   {
    "duration": 261,
    "start_time": "2023-04-30T11:57:21.924Z"
   },
   {
    "duration": 7,
    "start_time": "2023-04-30T11:57:22.187Z"
   },
   {
    "duration": 220,
    "start_time": "2023-04-30T11:57:22.196Z"
   },
   {
    "duration": 4,
    "start_time": "2023-04-30T11:57:22.418Z"
   },
   {
    "duration": 4,
    "start_time": "2023-04-30T11:57:27.307Z"
   },
   {
    "duration": 14,
    "start_time": "2023-04-30T11:57:27.313Z"
   },
   {
    "duration": 6,
    "start_time": "2023-04-30T11:57:27.329Z"
   },
   {
    "duration": 12,
    "start_time": "2023-04-30T11:57:27.337Z"
   },
   {
    "duration": 10,
    "start_time": "2023-04-30T11:57:27.351Z"
   },
   {
    "duration": 32,
    "start_time": "2023-04-30T11:57:27.363Z"
   },
   {
    "duration": 6,
    "start_time": "2023-04-30T11:57:27.398Z"
   },
   {
    "duration": 829,
    "start_time": "2023-04-30T11:57:27.406Z"
   },
   {
    "duration": 8,
    "start_time": "2023-04-30T11:57:28.236Z"
   },
   {
    "duration": 8,
    "start_time": "2023-04-30T11:57:28.245Z"
   },
   {
    "duration": 9,
    "start_time": "2023-04-30T11:57:28.255Z"
   },
   {
    "duration": 5,
    "start_time": "2023-04-30T11:58:33.770Z"
   },
   {
    "duration": 31,
    "start_time": "2023-04-30T11:58:33.778Z"
   },
   {
    "duration": 15,
    "start_time": "2023-04-30T11:58:33.812Z"
   },
   {
    "duration": 18,
    "start_time": "2023-04-30T11:58:33.829Z"
   },
   {
    "duration": 39,
    "start_time": "2023-04-30T11:58:33.849Z"
   },
   {
    "duration": 70,
    "start_time": "2023-04-30T11:58:42.576Z"
   },
   {
    "duration": 149,
    "start_time": "2023-04-30T11:58:42.648Z"
   },
   {
    "duration": 1757,
    "start_time": "2023-04-30T11:58:42.799Z"
   },
   {
    "duration": 8,
    "start_time": "2023-04-30T11:58:44.558Z"
   },
   {
    "duration": 12,
    "start_time": "2023-04-30T11:58:44.568Z"
   },
   {
    "duration": 19,
    "start_time": "2023-04-30T11:58:44.582Z"
   },
   {
    "duration": 5,
    "start_time": "2023-04-30T12:02:31.228Z"
   },
   {
    "duration": 80,
    "start_time": "2023-04-30T12:02:31.236Z"
   },
   {
    "duration": 12,
    "start_time": "2023-04-30T12:02:31.319Z"
   },
   {
    "duration": 45,
    "start_time": "2023-04-30T12:02:31.334Z"
   },
   {
    "duration": 16,
    "start_time": "2023-04-30T12:02:31.382Z"
   },
   {
    "duration": 27,
    "start_time": "2023-04-30T12:02:31.401Z"
   },
   {
    "duration": 22,
    "start_time": "2023-04-30T12:02:31.431Z"
   },
   {
    "duration": 35,
    "start_time": "2023-04-30T12:02:31.456Z"
   },
   {
    "duration": 20,
    "start_time": "2023-04-30T12:02:31.494Z"
   },
   {
    "duration": 315,
    "start_time": "2023-04-30T12:02:31.516Z"
   },
   {
    "duration": 8,
    "start_time": "2023-04-30T12:02:31.833Z"
   },
   {
    "duration": 228,
    "start_time": "2023-04-30T12:02:31.843Z"
   },
   {
    "duration": 13,
    "start_time": "2023-04-30T12:02:32.073Z"
   },
   {
    "duration": 54,
    "start_time": "2023-04-30T12:03:39.254Z"
   },
   {
    "duration": 32938,
    "start_time": "2023-04-30T12:07:39.854Z"
   },
   {
    "duration": 6,
    "start_time": "2023-04-30T12:08:21.259Z"
   },
   {
    "duration": 64,
    "start_time": "2023-04-30T12:08:21.268Z"
   },
   {
    "duration": 10,
    "start_time": "2023-04-30T12:08:21.334Z"
   },
   {
    "duration": 31,
    "start_time": "2023-04-30T12:08:21.346Z"
   },
   {
    "duration": 29,
    "start_time": "2023-04-30T12:08:21.381Z"
   },
   {
    "duration": 9,
    "start_time": "2023-04-30T12:08:21.412Z"
   },
   {
    "duration": 5,
    "start_time": "2023-04-30T12:08:21.424Z"
   },
   {
    "duration": 11,
    "start_time": "2023-04-30T12:08:21.431Z"
   },
   {
    "duration": 13,
    "start_time": "2023-04-30T12:08:21.444Z"
   },
   {
    "duration": 312,
    "start_time": "2023-04-30T12:08:21.460Z"
   },
   {
    "duration": 16,
    "start_time": "2023-04-30T12:08:21.775Z"
   },
   {
    "duration": 342,
    "start_time": "2023-04-30T12:08:21.793Z"
   },
   {
    "duration": 7,
    "start_time": "2023-04-30T12:08:22.137Z"
   },
   {
    "duration": 2,
    "start_time": "2023-04-30T12:08:22.149Z"
   },
   {
    "duration": 5,
    "start_time": "2023-04-30T12:08:36.206Z"
   },
   {
    "duration": 7952,
    "start_time": "2023-04-30T12:10:49.260Z"
   },
   {
    "duration": 32384,
    "start_time": "2023-04-30T12:12:58.204Z"
   },
   {
    "duration": 6,
    "start_time": "2023-04-30T12:14:21.240Z"
   },
   {
    "duration": 54,
    "start_time": "2023-04-30T12:14:21.251Z"
   },
   {
    "duration": 10,
    "start_time": "2023-04-30T12:14:21.307Z"
   },
   {
    "duration": 24,
    "start_time": "2023-04-30T12:14:21.320Z"
   },
   {
    "duration": 17,
    "start_time": "2023-04-30T12:14:21.348Z"
   },
   {
    "duration": 9,
    "start_time": "2023-04-30T12:14:21.385Z"
   },
   {
    "duration": 7,
    "start_time": "2023-04-30T12:14:21.396Z"
   },
   {
    "duration": 23,
    "start_time": "2023-04-30T12:14:21.406Z"
   },
   {
    "duration": 10,
    "start_time": "2023-04-30T12:14:21.432Z"
   },
   {
    "duration": 422,
    "start_time": "2023-04-30T12:14:21.444Z"
   },
   {
    "duration": 22,
    "start_time": "2023-04-30T12:14:21.869Z"
   },
   {
    "duration": 329,
    "start_time": "2023-04-30T12:14:21.894Z"
   },
   {
    "duration": 6,
    "start_time": "2023-04-30T12:14:22.225Z"
   },
   {
    "duration": 26,
    "start_time": "2023-04-30T12:14:22.234Z"
   },
   {
    "duration": 38,
    "start_time": "2023-04-30T12:14:22.262Z"
   },
   {
    "duration": 24,
    "start_time": "2023-04-30T12:14:22.303Z"
   },
   {
    "duration": 55,
    "start_time": "2023-04-30T12:14:22.330Z"
   },
   {
    "duration": 1601,
    "start_time": "2023-04-30T12:14:22.388Z"
   },
   {
    "duration": 1285,
    "start_time": "2023-04-30T12:14:23.993Z"
   },
   {
    "duration": 12,
    "start_time": "2023-04-30T12:14:25.281Z"
   },
   {
    "duration": 91,
    "start_time": "2023-04-30T12:14:25.295Z"
   },
   {
    "duration": 96,
    "start_time": "2023-04-30T12:14:25.391Z"
   },
   {
    "duration": 24,
    "start_time": "2023-04-30T12:16:36.627Z"
   },
   {
    "duration": 5,
    "start_time": "2023-04-30T12:17:28.573Z"
   },
   {
    "duration": 61,
    "start_time": "2023-04-30T12:17:28.582Z"
   },
   {
    "duration": 11,
    "start_time": "2023-04-30T12:17:28.646Z"
   },
   {
    "duration": 23,
    "start_time": "2023-04-30T12:17:28.660Z"
   },
   {
    "duration": 39,
    "start_time": "2023-04-30T12:17:28.687Z"
   },
   {
    "duration": 18,
    "start_time": "2023-04-30T12:17:28.729Z"
   },
   {
    "duration": 12,
    "start_time": "2023-04-30T12:17:28.749Z"
   },
   {
    "duration": 35,
    "start_time": "2023-04-30T12:17:28.763Z"
   },
   {
    "duration": 22,
    "start_time": "2023-04-30T12:17:28.800Z"
   },
   {
    "duration": 329,
    "start_time": "2023-04-30T12:17:28.824Z"
   },
   {
    "duration": 11,
    "start_time": "2023-04-30T12:17:29.155Z"
   },
   {
    "duration": 246,
    "start_time": "2023-04-30T12:17:29.168Z"
   },
   {
    "duration": 7,
    "start_time": "2023-04-30T12:17:39.245Z"
   },
   {
    "duration": 31709,
    "start_time": "2023-04-30T12:18:22.182Z"
   },
   {
    "duration": 5,
    "start_time": "2023-04-30T12:19:12.054Z"
   },
   {
    "duration": 19,
    "start_time": "2023-04-30T12:19:13.009Z"
   },
   {
    "duration": 16,
    "start_time": "2023-04-30T12:19:13.989Z"
   },
   {
    "duration": 20,
    "start_time": "2023-04-30T12:19:14.674Z"
   },
   {
    "duration": 61,
    "start_time": "2023-04-30T12:19:16.704Z"
   },
   {
    "duration": 17,
    "start_time": "2023-04-30T12:19:20.069Z"
   },
   {
    "duration": 1840,
    "start_time": "2023-04-30T12:19:21.022Z"
   },
   {
    "duration": 7,
    "start_time": "2023-04-30T12:19:22.864Z"
   },
   {
    "duration": 14,
    "start_time": "2023-04-30T12:19:22.873Z"
   },
   {
    "duration": 91,
    "start_time": "2023-04-30T12:19:22.896Z"
   },
   {
    "duration": 5,
    "start_time": "2023-04-30T12:19:37.135Z"
   },
   {
    "duration": 49,
    "start_time": "2023-04-30T12:19:37.143Z"
   },
   {
    "duration": 9,
    "start_time": "2023-04-30T12:19:37.193Z"
   },
   {
    "duration": 22,
    "start_time": "2023-04-30T12:19:37.204Z"
   },
   {
    "duration": 16,
    "start_time": "2023-04-30T12:19:37.229Z"
   },
   {
    "duration": 26,
    "start_time": "2023-04-30T12:19:37.247Z"
   },
   {
    "duration": 13,
    "start_time": "2023-04-30T12:19:37.276Z"
   },
   {
    "duration": 16,
    "start_time": "2023-04-30T12:19:37.292Z"
   },
   {
    "duration": 25,
    "start_time": "2023-04-30T12:19:37.311Z"
   },
   {
    "duration": 286,
    "start_time": "2023-04-30T12:19:37.338Z"
   },
   {
    "duration": 8,
    "start_time": "2023-04-30T12:19:37.626Z"
   },
   {
    "duration": 229,
    "start_time": "2023-04-30T12:19:37.636Z"
   },
   {
    "duration": 5,
    "start_time": "2023-04-30T12:19:37.867Z"
   },
   {
    "duration": 36,
    "start_time": "2023-04-30T12:19:37.875Z"
   },
   {
    "duration": 11,
    "start_time": "2023-04-30T12:19:37.913Z"
   },
   {
    "duration": 18,
    "start_time": "2023-04-30T12:19:37.926Z"
   },
   {
    "duration": 91,
    "start_time": "2023-04-30T12:19:37.946Z"
   },
   {
    "duration": 146,
    "start_time": "2023-04-30T12:19:38.039Z"
   },
   {
    "duration": 1789,
    "start_time": "2023-04-30T12:19:38.189Z"
   },
   {
    "duration": 7,
    "start_time": "2023-04-30T12:19:39.980Z"
   },
   {
    "duration": 100,
    "start_time": "2023-04-30T12:19:39.989Z"
   },
   {
    "duration": 102,
    "start_time": "2023-04-30T12:19:40.091Z"
   },
   {
    "duration": 195,
    "start_time": "2023-04-30T12:23:11.009Z"
   },
   {
    "duration": 192,
    "start_time": "2023-04-30T12:23:22.238Z"
   },
   {
    "duration": 209,
    "start_time": "2023-04-30T12:24:02.834Z"
   },
   {
    "duration": 240,
    "start_time": "2023-04-30T12:24:32.360Z"
   },
   {
    "duration": 8,
    "start_time": "2023-04-30T12:24:46.788Z"
   },
   {
    "duration": 7,
    "start_time": "2023-04-30T12:25:00.868Z"
   },
   {
    "duration": 12,
    "start_time": "2023-04-30T12:25:27.242Z"
   },
   {
    "duration": 7,
    "start_time": "2023-04-30T12:25:36.597Z"
   },
   {
    "duration": 6,
    "start_time": "2023-04-30T12:25:43.264Z"
   },
   {
    "duration": 1030,
    "start_time": "2023-04-30T12:26:27.534Z"
   },
   {
    "duration": 18,
    "start_time": "2023-04-30T12:26:32.556Z"
   },
   {
    "duration": 9,
    "start_time": "2023-04-30T12:26:41.834Z"
   },
   {
    "duration": 7,
    "start_time": "2023-04-30T12:26:50.799Z"
   },
   {
    "duration": 12,
    "start_time": "2023-04-30T12:27:10.746Z"
   },
   {
    "duration": 13,
    "start_time": "2023-04-30T12:27:15.456Z"
   },
   {
    "duration": 8,
    "start_time": "2023-04-30T12:29:00.154Z"
   },
   {
    "duration": 6,
    "start_time": "2023-04-30T12:29:09.541Z"
   },
   {
    "duration": 7,
    "start_time": "2023-04-30T12:29:28.321Z"
   },
   {
    "duration": 6,
    "start_time": "2023-04-30T12:29:31.599Z"
   },
   {
    "duration": 5,
    "start_time": "2023-04-30T12:30:15.861Z"
   },
   {
    "duration": 5,
    "start_time": "2023-04-30T12:30:19.723Z"
   },
   {
    "duration": 5,
    "start_time": "2023-04-30T12:30:22.919Z"
   },
   {
    "duration": 5,
    "start_time": "2023-04-30T12:30:28.619Z"
   },
   {
    "duration": 5,
    "start_time": "2023-04-30T12:30:42.762Z"
   },
   {
    "duration": 5,
    "start_time": "2023-04-30T12:30:55.718Z"
   },
   {
    "duration": 5,
    "start_time": "2023-04-30T12:30:58.021Z"
   },
   {
    "duration": 5,
    "start_time": "2023-04-30T12:31:02.878Z"
   },
   {
    "duration": 5,
    "start_time": "2023-04-30T12:31:05.120Z"
   },
   {
    "duration": 6,
    "start_time": "2023-04-30T12:31:08.229Z"
   },
   {
    "duration": 6,
    "start_time": "2023-04-30T12:31:10.432Z"
   },
   {
    "duration": 847,
    "start_time": "2023-04-30T12:32:52.111Z"
   },
   {
    "duration": 29,
    "start_time": "2023-04-30T12:33:03.619Z"
   },
   {
    "duration": 6,
    "start_time": "2023-04-30T12:33:45.080Z"
   },
   {
    "duration": 5,
    "start_time": "2023-04-30T12:33:51.373Z"
   },
   {
    "duration": 10,
    "start_time": "2023-04-30T12:33:57.775Z"
   },
   {
    "duration": 5,
    "start_time": "2023-04-30T12:34:03.567Z"
   },
   {
    "duration": 4029,
    "start_time": "2023-04-30T12:36:16.219Z"
   },
   {
    "duration": 1378,
    "start_time": "2023-04-30T12:37:07.663Z"
   },
   {
    "duration": 255,
    "start_time": "2023-04-30T12:37:33.622Z"
   },
   {
    "duration": 1044,
    "start_time": "2023-04-30T12:38:24.821Z"
   },
   {
    "duration": 12,
    "start_time": "2023-04-30T12:39:07.329Z"
   },
   {
    "duration": 13,
    "start_time": "2023-04-30T12:39:42.103Z"
   },
   {
    "duration": 210,
    "start_time": "2023-04-30T12:40:23.440Z"
   },
   {
    "duration": 224,
    "start_time": "2023-04-30T12:43:07.523Z"
   },
   {
    "duration": 18,
    "start_time": "2023-04-30T12:43:20.963Z"
   },
   {
    "duration": 13,
    "start_time": "2023-04-30T12:43:26.361Z"
   },
   {
    "duration": 4,
    "start_time": "2023-04-30T12:43:34.231Z"
   },
   {
    "duration": 55,
    "start_time": "2023-04-30T12:43:34.238Z"
   },
   {
    "duration": 10,
    "start_time": "2023-04-30T12:43:34.295Z"
   },
   {
    "duration": 16,
    "start_time": "2023-04-30T12:43:34.307Z"
   },
   {
    "duration": 16,
    "start_time": "2023-04-30T12:43:34.325Z"
   },
   {
    "duration": 11,
    "start_time": "2023-04-30T12:43:34.343Z"
   },
   {
    "duration": 9,
    "start_time": "2023-04-30T12:43:34.356Z"
   },
   {
    "duration": 29,
    "start_time": "2023-04-30T12:43:34.366Z"
   },
   {
    "duration": 10,
    "start_time": "2023-04-30T12:43:34.398Z"
   },
   {
    "duration": 337,
    "start_time": "2023-04-30T12:43:34.410Z"
   },
   {
    "duration": 9,
    "start_time": "2023-04-30T12:43:34.749Z"
   },
   {
    "duration": 255,
    "start_time": "2023-04-30T12:43:34.761Z"
   },
   {
    "duration": 344,
    "start_time": "2023-04-30T12:43:35.017Z"
   },
   {
    "duration": 7,
    "start_time": "2023-04-30T12:43:35.364Z"
   },
   {
    "duration": 18,
    "start_time": "2023-04-30T12:43:35.373Z"
   },
   {
    "duration": 182,
    "start_time": "2023-04-30T12:43:35.393Z"
   },
   {
    "duration": 13,
    "start_time": "2023-04-30T12:43:48.220Z"
   },
   {
    "duration": 19,
    "start_time": "2023-04-30T12:43:54.102Z"
   },
   {
    "duration": 10,
    "start_time": "2023-04-30T12:43:54.891Z"
   },
   {
    "duration": 167,
    "start_time": "2023-04-30T12:44:05.735Z"
   },
   {
    "duration": 12,
    "start_time": "2023-04-30T12:44:32.120Z"
   },
   {
    "duration": 12,
    "start_time": "2023-04-30T12:44:36.028Z"
   },
   {
    "duration": 7,
    "start_time": "2023-04-30T12:44:44.785Z"
   },
   {
    "duration": 9,
    "start_time": "2023-04-30T12:45:12.360Z"
   },
   {
    "duration": 12,
    "start_time": "2023-04-30T12:45:25.321Z"
   },
   {
    "duration": 12,
    "start_time": "2023-04-30T12:45:28.943Z"
   },
   {
    "duration": 22,
    "start_time": "2023-04-30T12:45:43.667Z"
   },
   {
    "duration": 5,
    "start_time": "2023-04-30T12:45:49.562Z"
   },
   {
    "duration": 5,
    "start_time": "2023-04-30T12:45:52.576Z"
   },
   {
    "duration": 23,
    "start_time": "2023-04-30T12:46:15.178Z"
   },
   {
    "duration": 10,
    "start_time": "2023-04-30T12:46:31.865Z"
   },
   {
    "duration": 9,
    "start_time": "2023-04-30T12:46:47.128Z"
   },
   {
    "duration": 27,
    "start_time": "2023-04-30T12:47:00.773Z"
   },
   {
    "duration": 15,
    "start_time": "2023-04-30T12:47:04.407Z"
   },
   {
    "duration": 5,
    "start_time": "2023-04-30T12:47:07.560Z"
   },
   {
    "duration": 144,
    "start_time": "2023-04-30T12:47:10.908Z"
   },
   {
    "duration": 316,
    "start_time": "2023-04-30T12:51:42.730Z"
   },
   {
    "duration": 450,
    "start_time": "2023-04-30T12:51:55.774Z"
   },
   {
    "duration": 1534,
    "start_time": "2023-04-30T12:52:10.061Z"
   },
   {
    "duration": 462,
    "start_time": "2023-04-30T12:52:35.523Z"
   },
   {
    "duration": 452,
    "start_time": "2023-04-30T12:53:08.571Z"
   },
   {
    "duration": 298,
    "start_time": "2023-04-30T12:53:22.026Z"
   },
   {
    "duration": 537,
    "start_time": "2023-04-30T12:54:19.136Z"
   },
   {
    "duration": 574,
    "start_time": "2023-04-30T12:54:26.643Z"
   },
   {
    "duration": 1352,
    "start_time": "2023-04-30T12:54:33.426Z"
   },
   {
    "duration": 285,
    "start_time": "2023-04-30T12:55:25.237Z"
   },
   {
    "duration": 279,
    "start_time": "2023-04-30T12:55:34.937Z"
   },
   {
    "duration": 411,
    "start_time": "2023-04-30T12:56:18.574Z"
   },
   {
    "duration": 1226,
    "start_time": "2023-04-30T12:56:31.468Z"
   },
   {
    "duration": 1507,
    "start_time": "2023-04-30T12:56:46.343Z"
   },
   {
    "duration": 1322,
    "start_time": "2023-04-30T13:05:18.650Z"
   },
   {
    "duration": 5,
    "start_time": "2023-04-30T13:07:34.776Z"
   },
   {
    "duration": 56,
    "start_time": "2023-04-30T13:07:34.783Z"
   },
   {
    "duration": 7,
    "start_time": "2023-04-30T13:07:34.841Z"
   },
   {
    "duration": 13,
    "start_time": "2023-04-30T13:07:34.849Z"
   },
   {
    "duration": 9,
    "start_time": "2023-04-30T13:07:34.865Z"
   },
   {
    "duration": 5,
    "start_time": "2023-04-30T13:07:34.876Z"
   },
   {
    "duration": 4,
    "start_time": "2023-04-30T13:07:34.883Z"
   },
   {
    "duration": 9,
    "start_time": "2023-04-30T13:07:34.889Z"
   },
   {
    "duration": 8,
    "start_time": "2023-04-30T13:07:34.899Z"
   },
   {
    "duration": 288,
    "start_time": "2023-04-30T13:07:34.909Z"
   },
   {
    "duration": 9,
    "start_time": "2023-04-30T13:07:35.199Z"
   },
   {
    "duration": 237,
    "start_time": "2023-04-30T13:07:35.210Z"
   },
   {
    "duration": 1218,
    "start_time": "2023-04-30T13:07:35.449Z"
   },
   {
    "duration": 5,
    "start_time": "2023-04-30T13:07:36.670Z"
   },
   {
    "duration": 22,
    "start_time": "2023-04-30T13:07:36.685Z"
   },
   {
    "duration": 10,
    "start_time": "2023-04-30T13:07:36.709Z"
   },
   {
    "duration": 14,
    "start_time": "2023-04-30T13:07:36.721Z"
   },
   {
    "duration": 85,
    "start_time": "2023-04-30T13:07:36.737Z"
   },
   {
    "duration": 64,
    "start_time": "2023-04-30T13:07:36.823Z"
   },
   {
    "duration": 2074,
    "start_time": "2023-04-30T13:07:36.889Z"
   },
   {
    "duration": 9,
    "start_time": "2023-04-30T13:07:38.965Z"
   },
   {
    "duration": 111,
    "start_time": "2023-04-30T13:07:38.976Z"
   },
   {
    "duration": 98,
    "start_time": "2023-04-30T13:07:39.089Z"
   },
   {
    "duration": 2567,
    "start_time": "2023-05-01T16:05:17.408Z"
   },
   {
    "duration": 126,
    "start_time": "2023-05-01T16:05:19.977Z"
   },
   {
    "duration": 11,
    "start_time": "2023-05-01T16:05:20.105Z"
   },
   {
    "duration": 16,
    "start_time": "2023-05-01T16:05:20.118Z"
   },
   {
    "duration": 10,
    "start_time": "2023-05-01T16:05:20.136Z"
   },
   {
    "duration": 9,
    "start_time": "2023-05-01T16:05:20.147Z"
   },
   {
    "duration": 5,
    "start_time": "2023-05-01T16:05:20.158Z"
   },
   {
    "duration": 27,
    "start_time": "2023-05-01T16:05:20.164Z"
   },
   {
    "duration": 8,
    "start_time": "2023-05-01T16:05:20.193Z"
   },
   {
    "duration": 447,
    "start_time": "2023-05-01T16:05:20.203Z"
   },
   {
    "duration": 15,
    "start_time": "2023-05-01T16:05:20.651Z"
   },
   {
    "duration": 232,
    "start_time": "2023-05-01T16:05:20.667Z"
   },
   {
    "duration": 1395,
    "start_time": "2023-05-01T16:05:20.901Z"
   },
   {
    "duration": 4,
    "start_time": "2023-05-01T16:05:22.299Z"
   },
   {
    "duration": 26,
    "start_time": "2023-05-01T16:05:22.305Z"
   },
   {
    "duration": 28,
    "start_time": "2023-05-01T16:05:22.333Z"
   },
   {
    "duration": 12,
    "start_time": "2023-05-01T16:05:50.108Z"
   },
   {
    "duration": 29,
    "start_time": "2023-05-01T16:05:55.067Z"
   },
   {
    "duration": 15,
    "start_time": "2023-05-01T16:06:26.867Z"
   },
   {
    "duration": 60,
    "start_time": "2023-05-01T16:06:28.508Z"
   },
   {
    "duration": 17,
    "start_time": "2023-05-01T16:06:29.648Z"
   },
   {
    "duration": 2159,
    "start_time": "2023-05-01T16:06:30.615Z"
   },
   {
    "duration": 7,
    "start_time": "2023-05-01T16:06:32.776Z"
   },
   {
    "duration": 63,
    "start_time": "2023-05-01T16:06:36.526Z"
   },
   {
    "duration": 12,
    "start_time": "2023-05-01T16:06:38.707Z"
   },
   {
    "duration": 1615,
    "start_time": "2023-05-02T08:29:24.356Z"
   },
   {
    "duration": 131,
    "start_time": "2023-05-02T08:29:25.973Z"
   },
   {
    "duration": 12,
    "start_time": "2023-05-02T08:29:26.105Z"
   },
   {
    "duration": 14,
    "start_time": "2023-05-02T08:29:26.118Z"
   },
   {
    "duration": 8,
    "start_time": "2023-05-02T08:29:26.134Z"
   },
   {
    "duration": 5,
    "start_time": "2023-05-02T08:29:26.144Z"
   },
   {
    "duration": 9,
    "start_time": "2023-05-02T08:29:26.150Z"
   },
   {
    "duration": 11,
    "start_time": "2023-05-02T08:29:26.160Z"
   },
   {
    "duration": 7,
    "start_time": "2023-05-02T08:29:26.172Z"
   },
   {
    "duration": 461,
    "start_time": "2023-05-02T08:29:26.180Z"
   },
   {
    "duration": 28,
    "start_time": "2023-05-02T08:29:30.764Z"
   },
   {
    "duration": 259,
    "start_time": "2023-05-02T08:30:04.004Z"
   },
   {
    "duration": 115,
    "start_time": "2023-05-02T08:30:20.551Z"
   },
   {
    "duration": 281,
    "start_time": "2023-05-02T08:30:50.403Z"
   },
   {
    "duration": 202,
    "start_time": "2023-05-02T08:30:58.661Z"
   },
   {
    "duration": 189,
    "start_time": "2023-05-02T08:32:12.520Z"
   },
   {
    "duration": 204,
    "start_time": "2023-05-02T08:32:34.251Z"
   },
   {
    "duration": 204,
    "start_time": "2023-05-02T08:34:26.914Z"
   },
   {
    "duration": 229,
    "start_time": "2023-05-02T08:35:14.361Z"
   },
   {
    "duration": 63,
    "start_time": "2023-05-02T08:36:37.402Z"
   },
   {
    "duration": 221,
    "start_time": "2023-05-02T08:36:41.452Z"
   },
   {
    "duration": 137,
    "start_time": "2023-05-02T08:37:34.348Z"
   },
   {
    "duration": 127,
    "start_time": "2023-05-02T08:37:48.555Z"
   },
   {
    "duration": 268,
    "start_time": "2023-05-02T08:39:01.805Z"
   },
   {
    "duration": 208,
    "start_time": "2023-05-02T08:41:13.956Z"
   },
   {
    "duration": 222,
    "start_time": "2023-05-02T08:41:44.344Z"
   },
   {
    "duration": 10,
    "start_time": "2023-05-02T08:42:59.166Z"
   },
   {
    "duration": 191,
    "start_time": "2023-05-02T08:43:05.150Z"
   },
   {
    "duration": 332,
    "start_time": "2023-05-02T08:43:40.938Z"
   },
   {
    "duration": 212,
    "start_time": "2023-05-02T08:45:38.891Z"
   },
   {
    "duration": 206,
    "start_time": "2023-05-02T08:45:56.388Z"
   },
   {
    "duration": 210,
    "start_time": "2023-05-02T08:47:42.910Z"
   },
   {
    "duration": 4,
    "start_time": "2023-05-02T08:49:16.490Z"
   },
   {
    "duration": 38,
    "start_time": "2023-05-02T08:49:16.496Z"
   },
   {
    "duration": 7,
    "start_time": "2023-05-02T08:49:16.536Z"
   },
   {
    "duration": 13,
    "start_time": "2023-05-02T08:49:16.544Z"
   },
   {
    "duration": 9,
    "start_time": "2023-05-02T08:49:16.559Z"
   },
   {
    "duration": 5,
    "start_time": "2023-05-02T08:49:16.569Z"
   },
   {
    "duration": 5,
    "start_time": "2023-05-02T08:49:16.576Z"
   },
   {
    "duration": 8,
    "start_time": "2023-05-02T08:49:16.592Z"
   },
   {
    "duration": 7,
    "start_time": "2023-05-02T08:49:16.602Z"
   },
   {
    "duration": 281,
    "start_time": "2023-05-02T08:49:16.611Z"
   },
   {
    "duration": 7,
    "start_time": "2023-05-02T08:49:16.894Z"
   },
   {
    "duration": 212,
    "start_time": "2023-05-02T08:49:16.903Z"
   },
   {
    "duration": 1208,
    "start_time": "2023-05-02T08:49:17.117Z"
   },
   {
    "duration": 311,
    "start_time": "2023-05-02T08:49:18.327Z"
   },
   {
    "duration": 8,
    "start_time": "2023-05-02T08:49:18.640Z"
   },
   {
    "duration": 205,
    "start_time": "2023-05-02T08:49:26.035Z"
   },
   {
    "duration": 192,
    "start_time": "2023-05-02T08:49:39.486Z"
   },
   {
    "duration": 219,
    "start_time": "2023-05-02T08:49:53.341Z"
   },
   {
    "duration": 11,
    "start_time": "2023-05-02T08:51:22.121Z"
   },
   {
    "duration": 4,
    "start_time": "2023-05-02T08:52:10.430Z"
   },
   {
    "duration": 17,
    "start_time": "2023-05-02T08:52:15.069Z"
   },
   {
    "duration": 8,
    "start_time": "2023-05-02T08:52:49.018Z"
   },
   {
    "duration": 1154,
    "start_time": "2023-05-02T08:53:07.806Z"
   },
   {
    "duration": 6,
    "start_time": "2023-05-02T08:53:18.932Z"
   },
   {
    "duration": 769,
    "start_time": "2023-05-02T08:53:31.562Z"
   },
   {
    "duration": 738,
    "start_time": "2023-05-02T08:53:43.021Z"
   },
   {
    "duration": 7,
    "start_time": "2023-05-02T08:54:34.930Z"
   },
   {
    "duration": 6,
    "start_time": "2023-05-02T08:54:41.459Z"
   },
   {
    "duration": 7,
    "start_time": "2023-05-02T08:54:56.618Z"
   },
   {
    "duration": 7,
    "start_time": "2023-05-02T08:55:13.327Z"
   },
   {
    "duration": 14,
    "start_time": "2023-05-02T09:03:32.081Z"
   },
   {
    "duration": 4,
    "start_time": "2023-05-02T09:10:55.658Z"
   },
   {
    "duration": 49,
    "start_time": "2023-05-02T09:10:55.663Z"
   },
   {
    "duration": 6,
    "start_time": "2023-05-02T09:10:55.714Z"
   },
   {
    "duration": 16,
    "start_time": "2023-05-02T09:10:55.722Z"
   },
   {
    "duration": 9,
    "start_time": "2023-05-02T09:10:55.741Z"
   },
   {
    "duration": 13,
    "start_time": "2023-05-02T09:10:55.751Z"
   },
   {
    "duration": 25,
    "start_time": "2023-05-02T09:10:55.766Z"
   },
   {
    "duration": 12,
    "start_time": "2023-05-02T09:10:55.793Z"
   },
   {
    "duration": 7,
    "start_time": "2023-05-02T09:10:55.807Z"
   },
   {
    "duration": 264,
    "start_time": "2023-05-02T09:10:55.816Z"
   },
   {
    "duration": 12,
    "start_time": "2023-05-02T09:10:56.082Z"
   },
   {
    "duration": 215,
    "start_time": "2023-05-02T09:10:56.096Z"
   },
   {
    "duration": 1384,
    "start_time": "2023-05-02T09:10:56.314Z"
   },
   {
    "duration": 333,
    "start_time": "2023-05-02T09:10:57.702Z"
   },
   {
    "duration": 11,
    "start_time": "2023-05-02T09:10:58.037Z"
   },
   {
    "duration": 232,
    "start_time": "2023-05-02T09:10:58.049Z"
   },
   {
    "duration": 13,
    "start_time": "2023-05-02T09:10:58.282Z"
   },
   {
    "duration": 9,
    "start_time": "2023-05-02T09:10:58.296Z"
   },
   {
    "duration": 5,
    "start_time": "2023-05-02T09:10:58.306Z"
   },
   {
    "duration": 792,
    "start_time": "2023-05-02T09:10:58.312Z"
   },
   {
    "duration": 0,
    "start_time": "2023-05-02T09:10:59.106Z"
   },
   {
    "duration": 0,
    "start_time": "2023-05-02T09:10:59.107Z"
   },
   {
    "duration": 0,
    "start_time": "2023-05-02T09:10:59.108Z"
   },
   {
    "duration": 0,
    "start_time": "2023-05-02T09:10:59.109Z"
   },
   {
    "duration": 0,
    "start_time": "2023-05-02T09:10:59.110Z"
   },
   {
    "duration": 0,
    "start_time": "2023-05-02T09:10:59.112Z"
   },
   {
    "duration": 0,
    "start_time": "2023-05-02T09:10:59.112Z"
   },
   {
    "duration": 0,
    "start_time": "2023-05-02T09:10:59.114Z"
   },
   {
    "duration": 7,
    "start_time": "2023-05-02T09:11:21.429Z"
   },
   {
    "duration": 40,
    "start_time": "2023-05-02T09:11:21.440Z"
   },
   {
    "duration": 19,
    "start_time": "2023-05-02T09:11:21.483Z"
   },
   {
    "duration": 22,
    "start_time": "2023-05-02T09:11:21.504Z"
   },
   {
    "duration": 181,
    "start_time": "2023-05-02T09:11:21.529Z"
   },
   {
    "duration": 85,
    "start_time": "2023-05-02T09:11:21.712Z"
   },
   {
    "duration": 194,
    "start_time": "2023-05-02T09:11:21.799Z"
   },
   {
    "duration": 0,
    "start_time": "2023-05-02T09:11:21.995Z"
   },
   {
    "duration": 0,
    "start_time": "2023-05-02T09:11:21.996Z"
   },
   {
    "duration": 0,
    "start_time": "2023-05-02T09:11:21.997Z"
   },
   {
    "duration": 11,
    "start_time": "2023-05-02T09:11:30.877Z"
   },
   {
    "duration": 0,
    "start_time": "2023-05-02T09:11:30.890Z"
   },
   {
    "duration": 0,
    "start_time": "2023-05-02T09:11:30.891Z"
   },
   {
    "duration": 0,
    "start_time": "2023-05-02T09:11:30.892Z"
   },
   {
    "duration": 36765,
    "start_time": "2023-05-02T09:11:42.818Z"
   },
   {
    "duration": 9,
    "start_time": "2023-05-02T09:12:19.586Z"
   },
   {
    "duration": 64,
    "start_time": "2023-05-02T09:12:19.597Z"
   },
   {
    "duration": 40,
    "start_time": "2023-05-02T09:12:19.664Z"
   },
   {
    "duration": 184,
    "start_time": "2023-05-02T09:16:19.348Z"
   },
   {
    "duration": 67,
    "start_time": "2023-05-02T09:16:19.535Z"
   },
   {
    "duration": 38478,
    "start_time": "2023-05-02T09:16:19.605Z"
   },
   {
    "duration": 9,
    "start_time": "2023-05-02T09:16:58.086Z"
   },
   {
    "duration": 16,
    "start_time": "2023-05-02T09:16:58.098Z"
   },
   {
    "duration": 11,
    "start_time": "2023-05-02T09:16:58.193Z"
   },
   {
    "duration": 178,
    "start_time": "2023-05-02T09:17:08.950Z"
   },
   {
    "duration": 41,
    "start_time": "2023-05-02T09:17:15.257Z"
   },
   {
    "duration": 38733,
    "start_time": "2023-05-02T09:17:27.230Z"
   },
   {
    "duration": 8,
    "start_time": "2023-05-02T09:18:46.520Z"
   },
   {
    "duration": 62,
    "start_time": "2023-05-02T09:18:46.531Z"
   },
   {
    "duration": 99,
    "start_time": "2023-05-02T09:18:46.595Z"
   }
  ],
  "kernelspec": {
   "display_name": "Python 3 (ipykernel)",
   "language": "python",
   "name": "python3"
  },
  "language_info": {
   "codemirror_mode": {
    "name": "ipython",
    "version": 3
   },
   "file_extension": ".py",
   "mimetype": "text/x-python",
   "name": "python",
   "nbconvert_exporter": "python",
   "pygments_lexer": "ipython3",
   "version": "3.10.9"
  },
  "toc": {
   "base_numbering": 1,
   "nav_menu": {},
   "number_sections": true,
   "sideBar": true,
   "skip_h1_title": true,
   "title_cell": "Содержание",
   "title_sidebar": "Contents",
   "toc_cell": true,
   "toc_position": {
    "height": "calc(100% - 180px)",
    "left": "10px",
    "top": "150px",
    "width": "165px"
   },
   "toc_section_display": true,
   "toc_window_display": true
  }
 },
 "nbformat": 4,
 "nbformat_minor": 2
}
