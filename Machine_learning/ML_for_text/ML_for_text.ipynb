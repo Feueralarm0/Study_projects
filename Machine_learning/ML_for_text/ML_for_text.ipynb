{
 "cells": [
  {
   "cell_type": "markdown",
   "metadata": {},
   "source": [
    "# Проект: обработка комментариев"
   ]
  },
  {
   "cell_type": "markdown",
   "metadata": {},
   "source": [
    "## Подготовка"
   ]
  },
  {
   "cell_type": "code",
   "execution_count": 72,
   "metadata": {},
   "outputs": [],
   "source": [
    "import pandas as pd\n",
    "import numpy as np\n",
    "\n",
    "import re\n",
    "import spacy\n",
    "import nltk\n",
    "from nltk.corpus import stopwords as nltk_stopwords\n",
    "\n",
    "from sklearn.model_selection import train_test_split\n",
    "from sklearn.feature_extraction.text import TfidfVectorizer\n",
    "from sklearn.feature_extraction.text import CountVectorizer \n",
    "\n",
    "from sklearn.linear_model import LogisticRegression\n",
    "from catboost import CatBoostClassifier\n",
    "\n",
    "from sklearn.metrics import f1_score"
   ]
  },
  {
   "cell_type": "code",
   "execution_count": 74,
   "metadata": {},
   "outputs": [
    {
     "name": "stdout",
     "output_type": "stream",
     "text": [
      "<class 'pandas.core.frame.DataFrame'>\n",
      "RangeIndex: 159292 entries, 0 to 159291\n",
      "Data columns (total 3 columns):\n",
      " #   Column      Non-Null Count   Dtype \n",
      "---  ------      --------------   ----- \n",
      " 0   Unnamed: 0  159292 non-null  int64 \n",
      " 1   text        159292 non-null  object\n",
      " 2   toxic       159292 non-null  int64 \n",
      "dtypes: int64(2), object(1)\n",
      "memory usage: 3.6+ MB\n"
     ]
    }
   ],
   "source": [
    "data.info()"
   ]
  },
  {
   "cell_type": "code",
   "execution_count": 75,
   "metadata": {},
   "outputs": [],
   "source": [
    "data = data.rename(columns={'Unnamed: 0':'index'})\n",
    "data = data.set_index('index')"
   ]
  },
  {
   "cell_type": "code",
   "execution_count": 76,
   "metadata": {
    "scrolled": false
   },
   "outputs": [
    {
     "data": {
      "text/plain": [
       "0"
      ]
     },
     "execution_count": 76,
     "metadata": {},
     "output_type": "execute_result"
    }
   ],
   "source": [
    "data.duplicated(subset=['text']).sum()"
   ]
  },
  {
   "cell_type": "markdown",
   "metadata": {},
   "source": [
    "Дубликатов нет"
   ]
  },
  {
   "cell_type": "markdown",
   "metadata": {},
   "source": [
    "Сделаем выборку, чтобы не обучаться слишком долго"
   ]
  },
  {
   "cell_type": "code",
   "execution_count": 77,
   "metadata": {},
   "outputs": [],
   "source": [
    "sample = data.sample(n=8000, random_state=12345).reset_index(drop=True)"
   ]
  },
  {
   "cell_type": "code",
   "execution_count": null,
   "metadata": {},
   "outputs": [],
   "source": [
    "m = spacy.load('en_core_web_sm', disable=['parser', 'ner'])\n",
    "def lemmatize(text):\n",
    "    return \"\".join(str(m(text)))"
   ]
  },
  {
   "cell_type": "code",
   "execution_count": 79,
   "metadata": {},
   "outputs": [],
   "source": [
    "m = spacy.load('en_core_web_sm')\n",
    "def lemmatize(text):\n",
    "    return \" \".join([token.lemma_ for token in m(text)])"
   ]
  },
  {
   "cell_type": "code",
   "execution_count": 80,
   "metadata": {},
   "outputs": [],
   "source": [
    "def clear_text(text):\n",
    "    return \" \".join(re.sub(r'[^a-zA-Z]', ' ', text).lower().split()).replace('\\n',' ')"
   ]
  },
  {
   "cell_type": "code",
   "execution_count": 81,
   "metadata": {
    "scrolled": true
   },
   "outputs": [],
   "source": [
    "sample['lemm'] = sample['text'].apply(\n",
    "    lambda x: lemmatize(clear_text(x)))"
   ]
  },
  {
   "cell_type": "code",
   "execution_count": 83,
   "metadata": {},
   "outputs": [],
   "source": [
    "#nltk.download('stopwords')\n",
    "stopwords = set(nltk_stopwords.words('english'))"
   ]
  },
  {
   "cell_type": "code",
   "execution_count": 84,
   "metadata": {},
   "outputs": [
    {
     "data": {
      "text/plain": [
       "0    7182\n",
       "1     818\n",
       "Name: toxic, dtype: int64"
      ]
     },
     "execution_count": 84,
     "metadata": {},
     "output_type": "execute_result"
    }
   ],
   "source": [
    "sample['toxic'].value_counts()"
   ]
  },
  {
   "cell_type": "code",
   "execution_count": 85,
   "metadata": {},
   "outputs": [],
   "source": [
    "corpus_train, corpus_test, target_train, target_test = train_test_split(\n",
    "    sample['lemm'], sample['toxic'], test_size=0.1, random_state=12345)"
   ]
  },
  {
   "cell_type": "code",
   "execution_count": 86,
   "metadata": {},
   "outputs": [],
   "source": [
    "corpus_train, corpus_valid, target_train, target_valid = train_test_split(\n",
    "    corpus_train, target_train, test_size=0.11, random_state=12345)"
   ]
  },
  {
   "cell_type": "code",
   "execution_count": 87,
   "metadata": {
    "scrolled": true
   },
   "outputs": [
    {
     "data": {
      "text/plain": [
       "0    5782\n",
       "1     626\n",
       "Name: toxic, dtype: int64"
      ]
     },
     "execution_count": 87,
     "metadata": {},
     "output_type": "execute_result"
    }
   ],
   "source": [
    "target_train.value_counts()"
   ]
  },
  {
   "cell_type": "code",
   "execution_count": 88,
   "metadata": {},
   "outputs": [
    {
     "data": {
      "text/plain": [
       "0    706\n",
       "1     86\n",
       "Name: toxic, dtype: int64"
      ]
     },
     "execution_count": 88,
     "metadata": {},
     "output_type": "execute_result"
    }
   ],
   "source": [
    "target_valid.value_counts()"
   ]
  },
  {
   "cell_type": "code",
   "execution_count": 89,
   "metadata": {},
   "outputs": [
    {
     "data": {
      "text/plain": [
       "0    694\n",
       "1    106\n",
       "Name: toxic, dtype: int64"
      ]
     },
     "execution_count": 89,
     "metadata": {},
     "output_type": "execute_result"
    }
   ],
   "source": [
    "target_test.value_counts()"
   ]
  },
  {
   "cell_type": "code",
   "execution_count": 90,
   "metadata": {},
   "outputs": [],
   "source": [
    "corpus_train = corpus_train.values\n",
    "corpus_test = corpus_test.values\n",
    "corpus_valid = corpus_valid.values"
   ]
  },
  {
   "cell_type": "code",
   "execution_count": 91,
   "metadata": {},
   "outputs": [],
   "source": [
    "vectorizer = TfidfVectorizer(stop_words=stopwords, analyzer='word', ngram_range=(1,1))\n",
    "features_train = vectorizer.fit_transform(corpus_train)\n",
    "features_valid = vectorizer.transform(corpus_valid)\n",
    "features_test = vectorizer.transform(corpus_test)"
   ]
  },
  {
   "cell_type": "markdown",
   "metadata": {},
   "source": [
    "## Обучение моделей"
   ]
  },
  {
   "cell_type": "code",
   "execution_count": 92,
   "metadata": {},
   "outputs": [
    {
     "name": "stdout",
     "output_type": "stream",
     "text": [
      "0.20000000000000004 0.7471264367816092\n"
     ]
    }
   ],
   "source": [
    "bst=0\n",
    "scr=0\n",
    "for i in np.arange(0.1,0.9,0.05):\n",
    "    model_lr = LogisticRegression(max_iter=1000, solver='liblinear', class_weight='balanced',C=i, penalty='l2')\n",
    "    model_lr.fit(features_train,target_train)\n",
    "    s = f1_score(model_lr.predict(features_valid),target_valid)\n",
    "    if s>scr:\n",
    "        scr=s\n",
    "        bst=i\n",
    "print(bst,scr)"
   ]
  },
  {
   "cell_type": "code",
   "execution_count": 99,
   "metadata": {},
   "outputs": [],
   "source": [
    "model_lr = LogisticRegression(max_iter=1000, solver='liblinear', class_weight='balanced',C=0.2, penalty='l2')\n",
    "model_lr.fit(features_train,target_train);"
   ]
  },
  {
   "cell_type": "code",
   "execution_count": 94,
   "metadata": {
    "scrolled": false
   },
   "outputs": [
    {
     "name": "stdout",
     "output_type": "stream",
     "text": [
      "0:\tlearn: 0.6096746\ttotal: 375ms\tremaining: 37.1s\n",
      "99:\tlearn: 0.1425397\ttotal: 19.8s\tremaining: 0us\n"
     ]
    },
    {
     "data": {
      "text/plain": [
       "0.609375"
      ]
     },
     "execution_count": 94,
     "metadata": {},
     "output_type": "execute_result"
    }
   ],
   "source": [
    "model_cb = CatBoostClassifier(loss_function=\"Logloss\", iterations=100 ,learning_rate=0.1)\n",
    "model_cb.fit(features_train, target_train, verbose=100)\n",
    "f1_score(model_cb.predict(features_valid),target_valid)"
   ]
  },
  {
   "cell_type": "markdown",
   "metadata": {},
   "source": [
    "## Тестирование"
   ]
  },
  {
   "cell_type": "code",
   "execution_count": 98,
   "metadata": {
    "scrolled": false
   },
   "outputs": [
    {
     "data": {
      "text/plain": [
       "0.7735849056603775"
      ]
     },
     "execution_count": 98,
     "metadata": {},
     "output_type": "execute_result"
    }
   ],
   "source": [
    "f1_score(model_lr.predict(features_test),target_test)"
   ]
  },
  {
   "cell_type": "code",
   "execution_count": 96,
   "metadata": {
    "scrolled": false
   },
   "outputs": [
    {
     "data": {
      "text/plain": [
       "0.6455696202531646"
      ]
     },
     "execution_count": 96,
     "metadata": {},
     "output_type": "execute_result"
    }
   ],
   "source": [
    "f1_score(model_cb.predict(features_test),target_test)"
   ]
  },
  {
   "cell_type": "markdown",
   "metadata": {},
   "source": [
    "## Выводы"
   ]
  },
  {
   "cell_type": "markdown",
   "metadata": {},
   "source": [
    "В данной работе была решена задача распознавания токсичных комментариев\n",
    "\n",
    "В данных нет дубликатов.\n",
    "\n",
    "Для обучения модели была сделана выборка из 8000 значений. Она разбита на тренировочную, валидационную и тестовую выборку.\n",
    "\n",
    "Для создания признаков были исползованы лемматизация, регулярные выражения, TfidfVectorizer.\n",
    "\n",
    "Выбраны модели LogisticRegression и CatBoostClassifier\n",
    "\n",
    "Метрика f1 LogisticRegression на валидационной выборке: 0.75\n",
    "\n",
    "Метрика f1 CatBoostClassifier на валидационной выборке: 0.61\n",
    "\n",
    "Метрика f1 LogisticRegression на тестовой выборке: 0.77\n",
    "\n",
    "Метрика f1 CatBoostClassifier на тестовой выборке: 0.65\n",
    "\n",
    "Модель LogisticRegression достигла требуемого значения на тестовой выборке"
   ]
  },
  {
   "cell_type": "code",
   "execution_count": null,
   "metadata": {},
   "outputs": [],
   "source": []
  }
 ],
 "metadata": {
  "ExecuteTimeLog": [
   {
    "duration": 3545,
    "start_time": "2023-05-07T16:14:09.138Z"
   },
   {
    "duration": 176,
    "start_time": "2023-05-07T16:14:58.323Z"
   },
   {
    "duration": 2259,
    "start_time": "2023-05-07T16:15:06.675Z"
   },
   {
    "duration": 24,
    "start_time": "2023-05-07T16:15:11.294Z"
   },
   {
    "duration": 11,
    "start_time": "2023-05-07T16:15:12.020Z"
   },
   {
    "duration": 216,
    "start_time": "2023-05-07T16:15:13.310Z"
   },
   {
    "duration": 4,
    "start_time": "2023-05-07T16:16:16.392Z"
   },
   {
    "duration": 45,
    "start_time": "2023-05-07T16:17:26.283Z"
   },
   {
    "duration": 2624,
    "start_time": "2023-05-07T16:17:30.792Z"
   },
   {
    "duration": 5,
    "start_time": "2023-05-07T16:17:33.419Z"
   },
   {
    "duration": 2472,
    "start_time": "2023-05-07T16:17:33.426Z"
   },
   {
    "duration": 27,
    "start_time": "2023-05-07T16:17:35.901Z"
   },
   {
    "duration": 14,
    "start_time": "2023-05-07T16:17:35.930Z"
   },
   {
    "duration": 284,
    "start_time": "2023-05-07T16:17:35.945Z"
   },
   {
    "duration": 11,
    "start_time": "2023-05-07T16:17:38.779Z"
   },
   {
    "duration": 15,
    "start_time": "2023-05-07T16:17:48.871Z"
   },
   {
    "duration": 102,
    "start_time": "2023-05-07T16:18:43.950Z"
   },
   {
    "duration": 4,
    "start_time": "2023-05-07T16:18:46.148Z"
   },
   {
    "duration": 18,
    "start_time": "2023-05-07T16:18:46.711Z"
   },
   {
    "duration": 660,
    "start_time": "2023-05-07T16:19:11.345Z"
   },
   {
    "duration": 3,
    "start_time": "2023-05-07T16:20:12.868Z"
   },
   {
    "duration": 19,
    "start_time": "2023-05-07T16:20:14.569Z"
   },
   {
    "duration": 3,
    "start_time": "2023-05-07T16:20:39.053Z"
   },
   {
    "duration": 2,
    "start_time": "2023-05-07T16:20:42.490Z"
   },
   {
    "duration": 3,
    "start_time": "2023-05-07T16:20:43.566Z"
   },
   {
    "duration": 3,
    "start_time": "2023-05-07T16:21:01.258Z"
   },
   {
    "duration": 5,
    "start_time": "2023-05-07T16:21:02.433Z"
   },
   {
    "duration": 227,
    "start_time": "2023-05-07T16:22:54.891Z"
   },
   {
    "duration": 131,
    "start_time": "2023-05-07T16:23:15.765Z"
   },
   {
    "duration": 11,
    "start_time": "2023-05-07T16:23:23.598Z"
   },
   {
    "duration": 3,
    "start_time": "2023-05-07T16:23:31.665Z"
   },
   {
    "duration": 69,
    "start_time": "2023-05-07T16:24:11.690Z"
   },
   {
    "duration": 27,
    "start_time": "2023-05-07T16:25:55.217Z"
   },
   {
    "duration": 53,
    "start_time": "2023-05-07T16:25:58.387Z"
   },
   {
    "duration": 10,
    "start_time": "2023-05-07T16:26:10.972Z"
   },
   {
    "duration": 869,
    "start_time": "2023-05-07T16:28:08.482Z"
   },
   {
    "duration": 10,
    "start_time": "2023-05-07T16:28:11.864Z"
   },
   {
    "duration": 53,
    "start_time": "2023-05-07T16:32:35.658Z"
   },
   {
    "duration": 4,
    "start_time": "2023-05-07T16:33:09.472Z"
   },
   {
    "duration": 3,
    "start_time": "2023-05-07T16:34:22.349Z"
   },
   {
    "duration": 5,
    "start_time": "2023-05-07T16:34:22.353Z"
   },
   {
    "duration": 768,
    "start_time": "2023-05-07T16:34:22.359Z"
   },
   {
    "duration": 21,
    "start_time": "2023-05-07T16:34:23.129Z"
   },
   {
    "duration": 21,
    "start_time": "2023-05-07T16:34:23.151Z"
   },
   {
    "duration": 212,
    "start_time": "2023-05-07T16:34:23.173Z"
   },
   {
    "duration": 6,
    "start_time": "2023-05-07T16:34:23.387Z"
   },
   {
    "duration": 20,
    "start_time": "2023-05-07T16:34:23.394Z"
   },
   {
    "duration": 3,
    "start_time": "2023-05-07T16:34:23.415Z"
   },
   {
    "duration": 1342,
    "start_time": "2023-05-07T16:34:23.419Z"
   },
   {
    "duration": 9,
    "start_time": "2023-05-07T16:34:24.763Z"
   },
   {
    "duration": 18,
    "start_time": "2023-05-07T16:34:24.774Z"
   },
   {
    "duration": 20,
    "start_time": "2023-05-07T16:34:24.793Z"
   },
   {
    "duration": 59,
    "start_time": "2023-05-07T16:34:24.815Z"
   },
   {
    "duration": 4,
    "start_time": "2023-05-07T16:34:29.809Z"
   },
   {
    "duration": 3,
    "start_time": "2023-05-07T16:34:37.791Z"
   },
   {
    "duration": 17,
    "start_time": "2023-05-07T16:35:03.019Z"
   },
   {
    "duration": 2,
    "start_time": "2023-05-07T16:35:41.607Z"
   },
   {
    "duration": 34,
    "start_time": "2023-05-07T16:35:43.538Z"
   },
   {
    "duration": 34,
    "start_time": "2023-05-07T16:35:51.994Z"
   },
   {
    "duration": 5,
    "start_time": "2023-05-07T16:36:03.006Z"
   },
   {
    "duration": 12,
    "start_time": "2023-05-07T16:36:03.611Z"
   },
   {
    "duration": 24,
    "start_time": "2023-05-07T16:36:04.044Z"
   },
   {
    "duration": 3,
    "start_time": "2023-05-07T16:36:11.674Z"
   },
   {
    "duration": 5,
    "start_time": "2023-05-07T16:36:11.678Z"
   },
   {
    "duration": 830,
    "start_time": "2023-05-07T16:36:11.684Z"
   },
   {
    "duration": 24,
    "start_time": "2023-05-07T16:36:12.516Z"
   },
   {
    "duration": 15,
    "start_time": "2023-05-07T16:36:12.543Z"
   },
   {
    "duration": 236,
    "start_time": "2023-05-07T16:36:12.560Z"
   },
   {
    "duration": 7,
    "start_time": "2023-05-07T16:36:12.798Z"
   },
   {
    "duration": 21,
    "start_time": "2023-05-07T16:36:12.806Z"
   },
   {
    "duration": 3,
    "start_time": "2023-05-07T16:36:12.828Z"
   },
   {
    "duration": 1460,
    "start_time": "2023-05-07T16:36:12.832Z"
   },
   {
    "duration": 3,
    "start_time": "2023-05-07T16:36:14.294Z"
   },
   {
    "duration": 7,
    "start_time": "2023-05-07T16:36:14.298Z"
   },
   {
    "duration": 14,
    "start_time": "2023-05-07T16:36:14.307Z"
   },
   {
    "duration": 27,
    "start_time": "2023-05-07T16:36:14.323Z"
   },
   {
    "duration": 0,
    "start_time": "2023-05-07T16:36:14.352Z"
   },
   {
    "duration": 73,
    "start_time": "2023-05-07T16:36:39.069Z"
   },
   {
    "duration": 105,
    "start_time": "2023-05-07T16:36:40.467Z"
   },
   {
    "duration": 2,
    "start_time": "2023-05-07T16:36:53.847Z"
   },
   {
    "duration": 4,
    "start_time": "2023-05-07T16:37:09.365Z"
   },
   {
    "duration": 27,
    "start_time": "2023-05-07T16:38:40.529Z"
   },
   {
    "duration": 5,
    "start_time": "2023-05-07T16:39:04.813Z"
   },
   {
    "duration": 5,
    "start_time": "2023-05-07T16:39:13.294Z"
   },
   {
    "duration": 9,
    "start_time": "2023-05-07T16:40:30.058Z"
   },
   {
    "duration": 7,
    "start_time": "2023-05-07T16:40:41.669Z"
   },
   {
    "duration": 7,
    "start_time": "2023-05-07T16:40:53.880Z"
   },
   {
    "duration": 9,
    "start_time": "2023-05-07T16:41:06.274Z"
   },
   {
    "duration": 10,
    "start_time": "2023-05-07T16:41:46.888Z"
   },
   {
    "duration": 239,
    "start_time": "2023-05-07T16:42:57.734Z"
   },
   {
    "duration": 257,
    "start_time": "2023-05-07T16:43:25.720Z"
   },
   {
    "duration": 232,
    "start_time": "2023-05-07T16:43:30.343Z"
   },
   {
    "duration": 20,
    "start_time": "2023-05-07T16:44:37.176Z"
   },
   {
    "duration": 82,
    "start_time": "2023-05-07T16:45:24.501Z"
   },
   {
    "duration": 68,
    "start_time": "2023-05-07T16:45:30.406Z"
   },
   {
    "duration": 17,
    "start_time": "2023-05-07T16:45:39.478Z"
   },
   {
    "duration": 17,
    "start_time": "2023-05-07T16:46:17.106Z"
   },
   {
    "duration": 96,
    "start_time": "2023-05-07T16:46:26.993Z"
   },
   {
    "duration": 98,
    "start_time": "2023-05-07T16:46:31.091Z"
   },
   {
    "duration": 16,
    "start_time": "2023-05-07T16:46:38.350Z"
   },
   {
    "duration": 13,
    "start_time": "2023-05-07T16:47:33.098Z"
   },
   {
    "duration": 11,
    "start_time": "2023-05-07T16:47:56.270Z"
   },
   {
    "duration": 4,
    "start_time": "2023-05-07T16:48:20.401Z"
   },
   {
    "duration": 10,
    "start_time": "2023-05-07T16:48:24.564Z"
   },
   {
    "duration": 3,
    "start_time": "2023-05-07T16:48:37.734Z"
   },
   {
    "duration": 10,
    "start_time": "2023-05-07T16:48:40.417Z"
   },
   {
    "duration": 10,
    "start_time": "2023-05-07T16:48:45.875Z"
   },
   {
    "duration": 2,
    "start_time": "2023-05-07T16:49:50.310Z"
   },
   {
    "duration": 11,
    "start_time": "2023-05-07T16:50:41.668Z"
   },
   {
    "duration": 11,
    "start_time": "2023-05-07T16:51:12.580Z"
   },
   {
    "duration": 2,
    "start_time": "2023-05-07T16:51:42.835Z"
   },
   {
    "duration": 4,
    "start_time": "2023-05-07T16:52:16.171Z"
   },
   {
    "duration": 246,
    "start_time": "2023-05-07T16:52:34.234Z"
   },
   {
    "duration": 6,
    "start_time": "2023-05-07T16:52:57.152Z"
   },
   {
    "duration": 6,
    "start_time": "2023-05-07T16:53:06.975Z"
   },
   {
    "duration": 2,
    "start_time": "2023-05-07T16:57:12.944Z"
   },
   {
    "duration": 2593,
    "start_time": "2023-05-07T16:58:20.154Z"
   },
   {
    "duration": 2392,
    "start_time": "2023-05-07T16:58:40.944Z"
   },
   {
    "duration": 4,
    "start_time": "2023-05-07T16:58:57.291Z"
   },
   {
    "duration": 7642,
    "start_time": "2023-05-07T16:59:09.987Z"
   },
   {
    "duration": 36794,
    "start_time": "2023-05-07T16:59:22.811Z"
   },
   {
    "duration": 9,
    "start_time": "2023-05-07T17:00:28.760Z"
   },
   {
    "duration": 6,
    "start_time": "2023-05-07T17:04:36.512Z"
   },
   {
    "duration": 7,
    "start_time": "2023-05-07T17:04:49.190Z"
   },
   {
    "duration": 11,
    "start_time": "2023-05-07T17:05:13.193Z"
   },
   {
    "duration": 4,
    "start_time": "2023-05-07T17:05:41.671Z"
   },
   {
    "duration": 71,
    "start_time": "2023-05-07T17:07:50.080Z"
   },
   {
    "duration": 134,
    "start_time": "2023-05-07T17:07:56.260Z"
   },
   {
    "duration": 88,
    "start_time": "2023-05-07T17:07:58.484Z"
   },
   {
    "duration": 62,
    "start_time": "2023-05-07T17:08:10.523Z"
   },
   {
    "duration": 10,
    "start_time": "2023-05-07T17:08:11.221Z"
   },
   {
    "duration": 124,
    "start_time": "2023-05-07T17:08:16.155Z"
   },
   {
    "duration": 53,
    "start_time": "2023-05-07T17:08:16.919Z"
   },
   {
    "duration": 15,
    "start_time": "2023-05-07T17:08:22.101Z"
   },
   {
    "duration": 197,
    "start_time": "2023-05-07T17:08:33.249Z"
   },
   {
    "duration": 27,
    "start_time": "2023-05-07T17:08:34.749Z"
   },
   {
    "duration": 118,
    "start_time": "2023-05-07T17:08:38.017Z"
   },
   {
    "duration": 168,
    "start_time": "2023-05-07T17:08:38.807Z"
   },
   {
    "duration": 275,
    "start_time": "2023-05-07T17:08:42.689Z"
   },
   {
    "duration": 203,
    "start_time": "2023-05-07T17:08:43.975Z"
   },
   {
    "duration": 487,
    "start_time": "2023-05-07T17:08:47.999Z"
   },
   {
    "duration": 384,
    "start_time": "2023-05-07T17:08:48.489Z"
   },
   {
    "duration": 444,
    "start_time": "2023-05-07T17:08:54.686Z"
   },
   {
    "duration": 340,
    "start_time": "2023-05-07T17:08:55.133Z"
   },
   {
    "duration": 388,
    "start_time": "2023-05-07T17:08:59.906Z"
   },
   {
    "duration": 154,
    "start_time": "2023-05-07T17:09:00.719Z"
   },
   {
    "duration": 754,
    "start_time": "2023-05-07T17:09:06.167Z"
   },
   {
    "duration": 210,
    "start_time": "2023-05-07T17:09:07.077Z"
   },
   {
    "duration": 10,
    "start_time": "2023-05-07T17:09:49.772Z"
   },
   {
    "duration": 11,
    "start_time": "2023-05-07T17:10:00.662Z"
   },
   {
    "duration": 10,
    "start_time": "2023-05-07T17:10:03.539Z"
   },
   {
    "duration": 69,
    "start_time": "2023-05-07T17:10:30.216Z"
   },
   {
    "duration": 7,
    "start_time": "2023-05-07T17:10:31.207Z"
   },
   {
    "duration": 58,
    "start_time": "2023-05-07T17:10:33.661Z"
   },
   {
    "duration": 7,
    "start_time": "2023-05-07T17:10:34.169Z"
   },
   {
    "duration": 57,
    "start_time": "2023-05-07T17:10:38.011Z"
   },
   {
    "duration": 6,
    "start_time": "2023-05-07T17:10:38.439Z"
   },
   {
    "duration": 58,
    "start_time": "2023-05-07T17:10:41.783Z"
   },
   {
    "duration": 8,
    "start_time": "2023-05-07T17:10:42.385Z"
   },
   {
    "duration": 62,
    "start_time": "2023-05-07T17:11:12.968Z"
   },
   {
    "duration": 11,
    "start_time": "2023-05-07T17:11:14.099Z"
   },
   {
    "duration": 11,
    "start_time": "2023-05-07T17:11:31.090Z"
   },
   {
    "duration": 71,
    "start_time": "2023-05-07T17:11:47.812Z"
   },
   {
    "duration": 4,
    "start_time": "2023-05-07T17:11:51.475Z"
   },
   {
    "duration": 5,
    "start_time": "2023-05-07T17:12:02.978Z"
   },
   {
    "duration": 14,
    "start_time": "2023-05-07T17:12:09.374Z"
   },
   {
    "duration": 19,
    "start_time": "2023-05-07T17:12:10.857Z"
   },
   {
    "duration": 3,
    "start_time": "2023-05-07T17:12:11.275Z"
   },
   {
    "duration": 8211,
    "start_time": "2023-05-07T17:12:11.635Z"
   },
   {
    "duration": 4,
    "start_time": "2023-05-07T17:12:19.848Z"
   },
   {
    "duration": 8,
    "start_time": "2023-05-07T17:12:19.853Z"
   },
   {
    "duration": 99,
    "start_time": "2023-05-07T17:12:21.157Z"
   },
   {
    "duration": 495,
    "start_time": "2023-05-07T17:12:21.855Z"
   },
   {
    "duration": 504,
    "start_time": "2023-05-07T17:12:23.469Z"
   },
   {
    "duration": 16,
    "start_time": "2023-05-07T17:12:26.117Z"
   },
   {
    "duration": 2,
    "start_time": "2023-05-07T17:12:34.219Z"
   },
   {
    "duration": 13,
    "start_time": "2023-05-07T17:12:34.999Z"
   },
   {
    "duration": 3,
    "start_time": "2023-05-07T17:12:46.116Z"
   },
   {
    "duration": 5274,
    "start_time": "2023-05-07T17:12:47.216Z"
   },
   {
    "duration": 4330,
    "start_time": "2023-05-07T17:12:56.073Z"
   },
   {
    "duration": 13,
    "start_time": "2023-05-07T17:13:02.588Z"
   },
   {
    "duration": 217513,
    "start_time": "2023-05-07T17:13:06.119Z"
   },
   {
    "duration": 13,
    "start_time": "2023-05-07T17:16:52.616Z"
   },
   {
    "duration": 5,
    "start_time": "2023-05-07T17:17:00.173Z"
   },
   {
    "duration": 4,
    "start_time": "2023-05-07T17:17:53.338Z"
   },
   {
    "duration": 11,
    "start_time": "2023-05-07T17:19:29.112Z"
   },
   {
    "duration": 8,
    "start_time": "2023-05-07T17:20:35.571Z"
   },
   {
    "duration": 12,
    "start_time": "2023-05-07T17:21:21.074Z"
   },
   {
    "duration": 6,
    "start_time": "2023-05-07T17:21:23.139Z"
   },
   {
    "duration": 12,
    "start_time": "2023-05-07T17:21:23.827Z"
   },
   {
    "duration": 100,
    "start_time": "2023-05-07T17:21:26.058Z"
   },
   {
    "duration": 377,
    "start_time": "2023-05-07T17:21:26.592Z"
   },
   {
    "duration": 293,
    "start_time": "2023-05-07T17:21:27.486Z"
   },
   {
    "duration": 212,
    "start_time": "2023-05-07T17:21:57.070Z"
   },
   {
    "duration": 4,
    "start_time": "2023-05-07T17:27:16.469Z"
   },
   {
    "duration": 765,
    "start_time": "2023-05-07T17:27:16.475Z"
   },
   {
    "duration": 18,
    "start_time": "2023-05-07T17:27:17.244Z"
   },
   {
    "duration": 16,
    "start_time": "2023-05-07T17:27:17.264Z"
   },
   {
    "duration": 217,
    "start_time": "2023-05-07T17:27:17.282Z"
   },
   {
    "duration": 8,
    "start_time": "2023-05-07T17:27:17.500Z"
   },
   {
    "duration": 32,
    "start_time": "2023-05-07T17:27:17.510Z"
   },
   {
    "duration": 10,
    "start_time": "2023-05-07T17:27:17.543Z"
   },
   {
    "duration": 8468,
    "start_time": "2023-05-07T17:27:17.554Z"
   },
   {
    "duration": 4,
    "start_time": "2023-05-07T17:27:26.024Z"
   },
   {
    "duration": 12,
    "start_time": "2023-05-07T17:27:26.030Z"
   },
   {
    "duration": 11,
    "start_time": "2023-05-07T17:27:26.044Z"
   },
   {
    "duration": 21,
    "start_time": "2023-05-07T17:27:26.057Z"
   },
   {
    "duration": 13,
    "start_time": "2023-05-07T17:27:26.082Z"
   },
   {
    "duration": 8,
    "start_time": "2023-05-07T17:27:26.097Z"
   },
   {
    "duration": 120,
    "start_time": "2023-05-07T17:27:26.107Z"
   },
   {
    "duration": 378,
    "start_time": "2023-05-07T17:27:26.229Z"
   },
   {
    "duration": 265,
    "start_time": "2023-05-07T17:27:26.608Z"
   },
   {
    "duration": 2902,
    "start_time": "2023-05-07T17:27:26.874Z"
   },
   {
    "duration": 120783,
    "start_time": "2023-05-07T17:27:29.777Z"
   },
   {
    "duration": 5,
    "start_time": "2023-05-07T17:29:30.562Z"
   },
   {
    "duration": 47,
    "start_time": "2023-05-07T17:29:30.568Z"
   },
   {
    "duration": 75,
    "start_time": "2023-05-07T17:29:30.617Z"
   },
   {
    "duration": 1264,
    "start_time": "2023-05-07T17:31:58.728Z"
   },
   {
    "duration": 805,
    "start_time": "2023-05-07T17:31:59.994Z"
   },
   {
    "duration": 25,
    "start_time": "2023-05-07T17:32:00.800Z"
   },
   {
    "duration": 23,
    "start_time": "2023-05-07T17:32:00.827Z"
   },
   {
    "duration": 229,
    "start_time": "2023-05-07T17:32:00.852Z"
   },
   {
    "duration": 9,
    "start_time": "2023-05-07T17:32:01.083Z"
   },
   {
    "duration": 48,
    "start_time": "2023-05-07T17:32:01.094Z"
   },
   {
    "duration": 61,
    "start_time": "2023-05-07T17:32:01.144Z"
   },
   {
    "duration": 7945,
    "start_time": "2023-05-07T17:32:01.206Z"
   },
   {
    "duration": 3,
    "start_time": "2023-05-07T17:32:09.153Z"
   },
   {
    "duration": 17,
    "start_time": "2023-05-07T17:32:09.157Z"
   },
   {
    "duration": 6,
    "start_time": "2023-05-07T17:32:09.175Z"
   },
   {
    "duration": 7,
    "start_time": "2023-05-07T17:32:09.182Z"
   },
   {
    "duration": 8,
    "start_time": "2023-05-07T17:32:09.191Z"
   },
   {
    "duration": 4,
    "start_time": "2023-05-07T17:32:09.200Z"
   },
   {
    "duration": 75,
    "start_time": "2023-05-07T17:32:09.205Z"
   },
   {
    "duration": 0,
    "start_time": "2023-05-07T17:32:09.281Z"
   },
   {
    "duration": 0,
    "start_time": "2023-05-07T17:32:09.282Z"
   },
   {
    "duration": 0,
    "start_time": "2023-05-07T17:32:09.283Z"
   },
   {
    "duration": 0,
    "start_time": "2023-05-07T17:32:09.284Z"
   },
   {
    "duration": 0,
    "start_time": "2023-05-07T17:32:09.285Z"
   },
   {
    "duration": 0,
    "start_time": "2023-05-07T17:32:09.286Z"
   },
   {
    "duration": 0,
    "start_time": "2023-05-07T17:32:09.287Z"
   },
   {
    "duration": 0,
    "start_time": "2023-05-07T17:32:09.288Z"
   },
   {
    "duration": 5,
    "start_time": "2023-05-07T17:32:17.377Z"
   },
   {
    "duration": 90,
    "start_time": "2023-05-07T17:32:18.103Z"
   },
   {
    "duration": 374,
    "start_time": "2023-05-07T17:32:18.833Z"
   },
   {
    "duration": 181,
    "start_time": "2023-05-07T17:32:20.693Z"
   },
   {
    "duration": 5787,
    "start_time": "2023-05-07T17:32:23.185Z"
   },
   {
    "duration": 12082,
    "start_time": "2023-05-07T17:32:31.744Z"
   },
   {
    "duration": 5,
    "start_time": "2023-05-07T17:32:47.759Z"
   },
   {
    "duration": 65,
    "start_time": "2023-05-07T17:32:48.408Z"
   },
   {
    "duration": 27,
    "start_time": "2023-05-07T17:32:48.982Z"
   },
   {
    "duration": 6,
    "start_time": "2023-05-07T17:34:06.800Z"
   },
   {
    "duration": 756,
    "start_time": "2023-05-07T17:34:06.808Z"
   },
   {
    "duration": 28,
    "start_time": "2023-05-07T17:34:07.567Z"
   },
   {
    "duration": 11,
    "start_time": "2023-05-07T17:34:07.597Z"
   },
   {
    "duration": 212,
    "start_time": "2023-05-07T17:34:07.610Z"
   },
   {
    "duration": 12,
    "start_time": "2023-05-07T17:34:07.823Z"
   },
   {
    "duration": 20,
    "start_time": "2023-05-07T17:34:07.837Z"
   },
   {
    "duration": 2,
    "start_time": "2023-05-07T17:34:07.872Z"
   },
   {
    "duration": 7862,
    "start_time": "2023-05-07T17:34:07.876Z"
   },
   {
    "duration": 3,
    "start_time": "2023-05-07T17:34:15.740Z"
   },
   {
    "duration": 32,
    "start_time": "2023-05-07T17:34:15.745Z"
   },
   {
    "duration": 12,
    "start_time": "2023-05-07T17:34:15.779Z"
   },
   {
    "duration": 26,
    "start_time": "2023-05-07T17:34:15.792Z"
   },
   {
    "duration": 131,
    "start_time": "2023-05-07T17:34:15.821Z"
   },
   {
    "duration": 0,
    "start_time": "2023-05-07T17:34:15.953Z"
   },
   {
    "duration": 0,
    "start_time": "2023-05-07T17:34:15.954Z"
   },
   {
    "duration": 0,
    "start_time": "2023-05-07T17:34:15.955Z"
   },
   {
    "duration": 0,
    "start_time": "2023-05-07T17:34:15.956Z"
   },
   {
    "duration": 0,
    "start_time": "2023-05-07T17:34:15.957Z"
   },
   {
    "duration": 0,
    "start_time": "2023-05-07T17:34:15.958Z"
   },
   {
    "duration": 0,
    "start_time": "2023-05-07T17:34:15.959Z"
   },
   {
    "duration": 0,
    "start_time": "2023-05-07T17:34:15.960Z"
   },
   {
    "duration": 0,
    "start_time": "2023-05-07T17:34:15.960Z"
   },
   {
    "duration": 0,
    "start_time": "2023-05-07T17:34:15.972Z"
   },
   {
    "duration": 6,
    "start_time": "2023-05-07T17:38:15.834Z"
   },
   {
    "duration": 10,
    "start_time": "2023-05-07T17:38:18.974Z"
   },
   {
    "duration": 20,
    "start_time": "2023-05-07T17:38:18.986Z"
   },
   {
    "duration": 41,
    "start_time": "2023-05-07T17:38:19.008Z"
   },
   {
    "duration": 22,
    "start_time": "2023-05-07T17:38:19.051Z"
   },
   {
    "duration": 0,
    "start_time": "2023-05-07T17:38:19.074Z"
   },
   {
    "duration": 0,
    "start_time": "2023-05-07T17:38:19.075Z"
   },
   {
    "duration": 0,
    "start_time": "2023-05-07T17:38:19.077Z"
   },
   {
    "duration": 0,
    "start_time": "2023-05-07T17:38:19.078Z"
   },
   {
    "duration": 0,
    "start_time": "2023-05-07T17:38:19.079Z"
   },
   {
    "duration": 0,
    "start_time": "2023-05-07T17:38:19.080Z"
   },
   {
    "duration": 3,
    "start_time": "2023-05-07T17:38:44.492Z"
   },
   {
    "duration": 8,
    "start_time": "2023-05-07T17:40:31.850Z"
   },
   {
    "duration": 7,
    "start_time": "2023-05-07T17:40:32.385Z"
   },
   {
    "duration": 10,
    "start_time": "2023-05-07T17:40:32.772Z"
   },
   {
    "duration": 16,
    "start_time": "2023-05-07T17:40:33.122Z"
   },
   {
    "duration": 10,
    "start_time": "2023-05-07T17:41:07.499Z"
   },
   {
    "duration": 20,
    "start_time": "2023-05-07T17:41:07.510Z"
   },
   {
    "duration": 2,
    "start_time": "2023-05-07T17:41:07.532Z"
   },
   {
    "duration": 7704,
    "start_time": "2023-05-07T17:41:07.535Z"
   },
   {
    "duration": 3,
    "start_time": "2023-05-07T17:41:15.242Z"
   },
   {
    "duration": 17,
    "start_time": "2023-05-07T17:41:15.246Z"
   },
   {
    "duration": 8,
    "start_time": "2023-05-07T17:41:15.265Z"
   },
   {
    "duration": 6,
    "start_time": "2023-05-07T17:41:15.275Z"
   },
   {
    "duration": 12,
    "start_time": "2023-05-07T17:41:15.283Z"
   },
   {
    "duration": 0,
    "start_time": "2023-05-07T17:41:15.296Z"
   },
   {
    "duration": 0,
    "start_time": "2023-05-07T17:41:15.297Z"
   },
   {
    "duration": 5,
    "start_time": "2023-05-07T17:41:32.435Z"
   },
   {
    "duration": 7,
    "start_time": "2023-05-07T17:41:34.602Z"
   },
   {
    "duration": 5,
    "start_time": "2023-05-07T17:41:35.641Z"
   },
   {
    "duration": 5,
    "start_time": "2023-05-07T17:41:48.864Z"
   },
   {
    "duration": 4,
    "start_time": "2023-05-07T17:41:55.031Z"
   },
   {
    "duration": 5,
    "start_time": "2023-05-07T17:42:08.474Z"
   },
   {
    "duration": 99,
    "start_time": "2023-05-07T17:42:12.675Z"
   },
   {
    "duration": 418,
    "start_time": "2023-05-07T17:42:13.486Z"
   },
   {
    "duration": 4,
    "start_time": "2023-05-07T17:42:15.840Z"
   },
   {
    "duration": 14,
    "start_time": "2023-05-07T17:42:17.861Z"
   },
   {
    "duration": 351,
    "start_time": "2023-05-07T17:42:38.069Z"
   },
   {
    "duration": 15,
    "start_time": "2023-05-07T17:42:39.328Z"
   },
   {
    "duration": 3,
    "start_time": "2023-05-07T17:43:08.199Z"
   },
   {
    "duration": 5,
    "start_time": "2023-05-07T17:43:09.356Z"
   },
   {
    "duration": 5,
    "start_time": "2023-05-07T17:43:13.434Z"
   },
   {
    "duration": 247,
    "start_time": "2023-05-07T17:43:17.026Z"
   },
   {
    "duration": 14087,
    "start_time": "2023-05-07T17:43:26.586Z"
   },
   {
    "duration": 8,
    "start_time": "2023-05-07T17:44:14.197Z"
   },
   {
    "duration": 5,
    "start_time": "2023-05-07T17:44:14.207Z"
   },
   {
    "duration": 9,
    "start_time": "2023-05-07T17:44:14.214Z"
   },
   {
    "duration": 3,
    "start_time": "2023-05-07T17:44:14.225Z"
   },
   {
    "duration": 8,
    "start_time": "2023-05-07T17:44:14.230Z"
   },
   {
    "duration": 129,
    "start_time": "2023-05-07T17:44:14.239Z"
   },
   {
    "duration": 452,
    "start_time": "2023-05-07T17:44:14.370Z"
   },
   {
    "duration": 359,
    "start_time": "2023-05-07T17:44:14.823Z"
   },
   {
    "duration": 17,
    "start_time": "2023-05-07T17:44:25.054Z"
   },
   {
    "duration": 6,
    "start_time": "2023-05-07T17:44:25.073Z"
   },
   {
    "duration": 33,
    "start_time": "2023-05-07T17:44:25.080Z"
   },
   {
    "duration": 2,
    "start_time": "2023-05-07T17:44:25.116Z"
   },
   {
    "duration": 18,
    "start_time": "2023-05-07T17:44:25.121Z"
   },
   {
    "duration": 150,
    "start_time": "2023-05-07T17:44:25.141Z"
   },
   {
    "duration": 601,
    "start_time": "2023-05-07T17:44:25.293Z"
   },
   {
    "duration": 278,
    "start_time": "2023-05-07T17:44:25.895Z"
   },
   {
    "duration": 6,
    "start_time": "2023-05-07T17:44:40.314Z"
   },
   {
    "duration": 16,
    "start_time": "2023-05-07T17:44:56.171Z"
   },
   {
    "duration": 15,
    "start_time": "2023-05-07T17:44:56.189Z"
   },
   {
    "duration": 47,
    "start_time": "2023-05-07T17:44:56.205Z"
   },
   {
    "duration": 50,
    "start_time": "2023-05-07T17:44:56.254Z"
   },
   {
    "duration": 24,
    "start_time": "2023-05-07T17:44:56.306Z"
   },
   {
    "duration": 170,
    "start_time": "2023-05-07T17:44:56.331Z"
   },
   {
    "duration": 527,
    "start_time": "2023-05-07T17:44:56.503Z"
   },
   {
    "duration": 353,
    "start_time": "2023-05-07T17:44:57.031Z"
   },
   {
    "duration": 15,
    "start_time": "2023-05-07T17:45:27.855Z"
   },
   {
    "duration": 149,
    "start_time": "2023-05-07T17:45:27.871Z"
   },
   {
    "duration": 6,
    "start_time": "2023-05-07T17:45:28.022Z"
   },
   {
    "duration": 3,
    "start_time": "2023-05-07T17:45:28.030Z"
   },
   {
    "duration": 8,
    "start_time": "2023-05-07T17:45:28.035Z"
   },
   {
    "duration": 4,
    "start_time": "2023-05-07T17:45:42.821Z"
   },
   {
    "duration": 4,
    "start_time": "2023-05-07T17:46:24.433Z"
   },
   {
    "duration": 4,
    "start_time": "2023-05-07T17:46:31.068Z"
   },
   {
    "duration": 7,
    "start_time": "2023-05-07T17:46:43.696Z"
   },
   {
    "duration": 30,
    "start_time": "2023-05-07T17:46:43.705Z"
   },
   {
    "duration": 12,
    "start_time": "2023-05-07T17:46:43.737Z"
   },
   {
    "duration": 6,
    "start_time": "2023-05-07T17:46:43.750Z"
   },
   {
    "duration": 9,
    "start_time": "2023-05-07T17:46:43.758Z"
   },
   {
    "duration": 5,
    "start_time": "2023-05-07T17:46:55.690Z"
   },
   {
    "duration": 4,
    "start_time": "2023-05-07T17:47:05.643Z"
   },
   {
    "duration": 5,
    "start_time": "2023-05-07T17:47:28.836Z"
   },
   {
    "duration": 25,
    "start_time": "2023-05-07T17:47:28.843Z"
   },
   {
    "duration": 13,
    "start_time": "2023-05-07T17:47:28.870Z"
   },
   {
    "duration": 3,
    "start_time": "2023-05-07T17:47:28.884Z"
   },
   {
    "duration": 7,
    "start_time": "2023-05-07T17:47:28.888Z"
   },
   {
    "duration": 4,
    "start_time": "2023-05-07T17:47:34.839Z"
   },
   {
    "duration": 107,
    "start_time": "2023-05-07T17:47:38.351Z"
   },
   {
    "duration": 427,
    "start_time": "2023-05-07T17:47:38.736Z"
   },
   {
    "duration": 491,
    "start_time": "2023-05-07T17:47:39.982Z"
   },
   {
    "duration": 78,
    "start_time": "2023-05-07T17:47:53.616Z"
   },
   {
    "duration": 7,
    "start_time": "2023-05-07T17:48:01.679Z"
   },
   {
    "duration": 51,
    "start_time": "2023-05-07T17:48:01.688Z"
   },
   {
    "duration": 70,
    "start_time": "2023-05-07T17:48:01.740Z"
   },
   {
    "duration": 54,
    "start_time": "2023-05-07T17:48:01.811Z"
   },
   {
    "duration": 37,
    "start_time": "2023-05-07T17:48:01.867Z"
   },
   {
    "duration": 187,
    "start_time": "2023-05-07T17:48:01.906Z"
   },
   {
    "duration": 461,
    "start_time": "2023-05-07T17:48:02.095Z"
   },
   {
    "duration": 323,
    "start_time": "2023-05-07T17:48:02.558Z"
   },
   {
    "duration": 12,
    "start_time": "2023-05-07T17:48:13.794Z"
   },
   {
    "duration": 7,
    "start_time": "2023-05-07T17:48:13.808Z"
   },
   {
    "duration": 8,
    "start_time": "2023-05-07T17:48:13.816Z"
   },
   {
    "duration": 2,
    "start_time": "2023-05-07T17:48:13.826Z"
   },
   {
    "duration": 5,
    "start_time": "2023-05-07T17:48:13.830Z"
   },
   {
    "duration": 151,
    "start_time": "2023-05-07T17:48:13.837Z"
   },
   {
    "duration": 508,
    "start_time": "2023-05-07T17:48:13.990Z"
   },
   {
    "duration": 283,
    "start_time": "2023-05-07T17:48:14.499Z"
   },
   {
    "duration": 22,
    "start_time": "2023-05-07T17:48:35.720Z"
   },
   {
    "duration": 9,
    "start_time": "2023-05-07T17:48:35.746Z"
   },
   {
    "duration": 16,
    "start_time": "2023-05-07T17:48:35.757Z"
   },
   {
    "duration": 38,
    "start_time": "2023-05-07T17:48:35.775Z"
   },
   {
    "duration": 18,
    "start_time": "2023-05-07T17:48:35.816Z"
   },
   {
    "duration": 161,
    "start_time": "2023-05-07T17:48:35.836Z"
   },
   {
    "duration": 605,
    "start_time": "2023-05-07T17:48:35.998Z"
   },
   {
    "duration": 669,
    "start_time": "2023-05-07T17:48:36.605Z"
   },
   {
    "duration": 3811,
    "start_time": "2023-05-07T17:48:49.865Z"
   },
   {
    "duration": 4,
    "start_time": "2023-05-07T17:52:31.752Z"
   },
   {
    "duration": 10156,
    "start_time": "2023-05-07T17:52:59.221Z"
   },
   {
    "duration": 11257,
    "start_time": "2023-05-07T17:53:22.914Z"
   },
   {
    "duration": 21547,
    "start_time": "2023-05-07T17:53:54.934Z"
   },
   {
    "duration": 12036,
    "start_time": "2023-05-07T17:54:36.647Z"
   },
   {
    "duration": 92656,
    "start_time": "2023-05-07T18:00:00.395Z"
   },
   {
    "duration": 6,
    "start_time": "2023-05-07T18:02:54.905Z"
   },
   {
    "duration": 68,
    "start_time": "2023-05-07T18:02:54.912Z"
   },
   {
    "duration": 111,
    "start_time": "2023-05-07T18:02:54.981Z"
   },
   {
    "duration": 1266,
    "start_time": "2023-05-07T18:13:32.609Z"
   },
   {
    "duration": 818,
    "start_time": "2023-05-07T18:13:35.513Z"
   },
   {
    "duration": 29,
    "start_time": "2023-05-07T18:13:37.089Z"
   },
   {
    "duration": 17,
    "start_time": "2023-05-07T18:13:38.380Z"
   },
   {
    "duration": 244,
    "start_time": "2023-05-07T18:13:39.775Z"
   },
   {
    "duration": 3,
    "start_time": "2023-05-07T18:13:44.525Z"
   },
   {
    "duration": 27,
    "start_time": "2023-05-07T18:13:47.621Z"
   },
   {
    "duration": 3,
    "start_time": "2023-05-07T18:14:01.317Z"
   },
   {
    "duration": 756,
    "start_time": "2023-05-07T18:14:03.316Z"
   },
   {
    "duration": 25,
    "start_time": "2023-05-07T18:14:04.699Z"
   },
   {
    "duration": 12,
    "start_time": "2023-05-07T18:14:30.240Z"
   },
   {
    "duration": 232,
    "start_time": "2023-05-07T18:14:31.822Z"
   },
   {
    "duration": 4,
    "start_time": "2023-05-07T18:14:32.493Z"
   },
   {
    "duration": 27,
    "start_time": "2023-05-07T18:14:33.970Z"
   },
   {
    "duration": 7,
    "start_time": "2023-05-07T18:14:38.929Z"
   },
   {
    "duration": 3,
    "start_time": "2023-05-07T18:14:40.250Z"
   },
   {
    "duration": 2,
    "start_time": "2023-05-07T18:14:40.937Z"
   },
   {
    "duration": 1549,
    "start_time": "2023-05-07T18:14:41.577Z"
   },
   {
    "duration": 3,
    "start_time": "2023-05-07T18:14:43.128Z"
   },
   {
    "duration": 5,
    "start_time": "2023-05-07T18:14:44.147Z"
   },
   {
    "duration": 4,
    "start_time": "2023-05-07T18:14:45.990Z"
   },
   {
    "duration": 4,
    "start_time": "2023-05-07T18:14:46.742Z"
   },
   {
    "duration": 4,
    "start_time": "2023-05-07T18:14:47.360Z"
   },
   {
    "duration": 7,
    "start_time": "2023-05-07T18:14:47.731Z"
   },
   {
    "duration": 3,
    "start_time": "2023-05-07T18:14:48.701Z"
   },
   {
    "duration": 6,
    "start_time": "2023-05-07T18:14:49.193Z"
   },
   {
    "duration": 17,
    "start_time": "2023-05-07T18:14:50.145Z"
   },
   {
    "duration": 66,
    "start_time": "2023-05-07T18:14:50.715Z"
   },
   {
    "duration": 11,
    "start_time": "2023-05-07T18:14:51.718Z"
   },
   {
    "duration": 46,
    "start_time": "2023-05-07T18:14:52.674Z"
   },
   {
    "duration": 179,
    "start_time": "2023-05-07T18:14:53.634Z"
   },
   {
    "duration": 170535,
    "start_time": "2023-05-07T18:14:55.105Z"
   },
   {
    "duration": 57334,
    "start_time": "2023-05-07T18:17:50.849Z"
   },
   {
    "duration": 7,
    "start_time": "2023-05-07T18:18:50.737Z"
   },
   {
    "duration": 17,
    "start_time": "2023-05-07T18:19:02.501Z"
   },
   {
    "duration": 27,
    "start_time": "2023-05-07T18:19:02.519Z"
   },
   {
    "duration": 30,
    "start_time": "2023-05-07T18:19:02.548Z"
   },
   {
    "duration": 12571,
    "start_time": "2023-05-07T18:19:02.580Z"
   },
   {
    "duration": 3,
    "start_time": "2023-05-07T18:19:15.153Z"
   },
   {
    "duration": 15,
    "start_time": "2023-05-07T18:19:15.157Z"
   },
   {
    "duration": 3,
    "start_time": "2023-05-07T18:19:15.174Z"
   },
   {
    "duration": 8,
    "start_time": "2023-05-07T18:19:15.179Z"
   },
   {
    "duration": 4,
    "start_time": "2023-05-07T18:19:15.189Z"
   },
   {
    "duration": 7,
    "start_time": "2023-05-07T18:19:15.194Z"
   },
   {
    "duration": 4,
    "start_time": "2023-05-07T18:19:15.202Z"
   },
   {
    "duration": 7,
    "start_time": "2023-05-07T18:19:15.207Z"
   },
   {
    "duration": 239,
    "start_time": "2023-05-07T18:19:15.215Z"
   },
   {
    "duration": 857,
    "start_time": "2023-05-07T18:19:15.456Z"
   },
   {
    "duration": 567,
    "start_time": "2023-05-07T18:19:16.314Z"
   },
   {
    "duration": 5,
    "start_time": "2023-05-07T18:19:21.546Z"
   },
   {
    "duration": 4466,
    "start_time": "2023-05-07T18:19:48.506Z"
   },
   {
    "duration": 7,
    "start_time": "2023-05-07T18:19:57.962Z"
   },
   {
    "duration": 4568,
    "start_time": "2023-05-07T18:20:05.805Z"
   },
   {
    "duration": 7,
    "start_time": "2023-05-07T18:20:21.118Z"
   },
   {
    "duration": 35765,
    "start_time": "2023-05-07T18:20:25.807Z"
   },
   {
    "duration": 580,
    "start_time": "2023-05-07T18:21:18.092Z"
   },
   {
    "duration": 596,
    "start_time": "2023-05-07T18:21:28.980Z"
   },
   {
    "duration": 1447,
    "start_time": "2023-05-07T18:22:28.318Z"
   },
   {
    "duration": 1910,
    "start_time": "2023-05-07T18:22:31.062Z"
   },
   {
    "duration": 1997,
    "start_time": "2023-05-07T18:23:25.664Z"
   },
   {
    "duration": 2171,
    "start_time": "2023-05-07T18:23:30.202Z"
   },
   {
    "duration": 6,
    "start_time": "2023-05-07T18:23:36.548Z"
   },
   {
    "duration": 5,
    "start_time": "2023-05-07T18:24:14.690Z"
   },
   {
    "duration": 8,
    "start_time": "2023-05-07T18:24:24.877Z"
   },
   {
    "duration": 4,
    "start_time": "2023-05-07T18:24:47.579Z"
   },
   {
    "duration": 4,
    "start_time": "2023-05-07T18:24:54.227Z"
   },
   {
    "duration": 4,
    "start_time": "2023-05-07T18:24:58.943Z"
   },
   {
    "duration": 4,
    "start_time": "2023-05-07T18:26:35.148Z"
   },
   {
    "duration": 3,
    "start_time": "2023-05-07T18:26:38.156Z"
   },
   {
    "duration": 3,
    "start_time": "2023-05-07T18:26:40.652Z"
   },
   {
    "duration": 2,
    "start_time": "2023-05-07T18:26:52.028Z"
   },
   {
    "duration": 4,
    "start_time": "2023-05-07T18:26:57.116Z"
   },
   {
    "duration": 4,
    "start_time": "2023-05-07T18:26:59.588Z"
   },
   {
    "duration": 4,
    "start_time": "2023-05-07T18:27:12.076Z"
   },
   {
    "duration": 9,
    "start_time": "2023-05-07T18:28:06.336Z"
   },
   {
    "duration": 4,
    "start_time": "2023-05-07T18:28:17.381Z"
   },
   {
    "duration": 4,
    "start_time": "2023-05-07T18:28:40.292Z"
   },
   {
    "duration": 773,
    "start_time": "2023-05-07T18:28:40.297Z"
   },
   {
    "duration": 29,
    "start_time": "2023-05-07T18:28:41.072Z"
   },
   {
    "duration": 13,
    "start_time": "2023-05-07T18:28:41.103Z"
   },
   {
    "duration": 219,
    "start_time": "2023-05-07T18:28:41.119Z"
   },
   {
    "duration": 3,
    "start_time": "2023-05-07T18:28:41.340Z"
   },
   {
    "duration": 31,
    "start_time": "2023-05-07T18:28:41.344Z"
   },
   {
    "duration": 32,
    "start_time": "2023-05-07T18:28:41.376Z"
   },
   {
    "duration": 15,
    "start_time": "2023-05-07T18:28:41.409Z"
   },
   {
    "duration": 7,
    "start_time": "2023-05-07T18:28:41.425Z"
   },
   {
    "duration": 4,
    "start_time": "2023-05-07T18:28:41.433Z"
   },
   {
    "duration": 12,
    "start_time": "2023-05-07T18:28:41.438Z"
   },
   {
    "duration": 19,
    "start_time": "2023-05-07T18:28:41.451Z"
   },
   {
    "duration": 4,
    "start_time": "2023-05-07T18:28:41.472Z"
   },
   {
    "duration": 5,
    "start_time": "2023-05-07T18:28:55.958Z"
   },
   {
    "duration": 12347,
    "start_time": "2023-05-07T18:29:07.613Z"
   },
   {
    "duration": 4,
    "start_time": "2023-05-07T18:29:29.316Z"
   },
   {
    "duration": 5,
    "start_time": "2023-05-07T18:29:31.135Z"
   },
   {
    "duration": 4,
    "start_time": "2023-05-07T18:30:15.087Z"
   },
   {
    "duration": 10,
    "start_time": "2023-05-07T18:30:19.510Z"
   },
   {
    "duration": 16,
    "start_time": "2023-05-07T18:30:24.345Z"
   },
   {
    "duration": 7,
    "start_time": "2023-05-07T18:30:40.465Z"
   },
   {
    "duration": 5,
    "start_time": "2023-05-07T18:30:58.310Z"
   },
   {
    "duration": 4,
    "start_time": "2023-05-07T18:31:09.625Z"
   },
   {
    "duration": 737,
    "start_time": "2023-05-07T18:31:09.630Z"
   },
   {
    "duration": 24,
    "start_time": "2023-05-07T18:31:10.371Z"
   },
   {
    "duration": 18,
    "start_time": "2023-05-07T18:31:10.396Z"
   },
   {
    "duration": 219,
    "start_time": "2023-05-07T18:31:10.417Z"
   },
   {
    "duration": 3,
    "start_time": "2023-05-07T18:31:10.638Z"
   },
   {
    "duration": 7,
    "start_time": "2023-05-07T18:31:10.642Z"
   },
   {
    "duration": 8,
    "start_time": "2023-05-07T18:31:10.651Z"
   },
   {
    "duration": 2,
    "start_time": "2023-05-07T18:31:10.672Z"
   },
   {
    "duration": 8,
    "start_time": "2023-05-07T18:31:10.676Z"
   },
   {
    "duration": 16,
    "start_time": "2023-05-07T18:31:10.686Z"
   },
   {
    "duration": 5,
    "start_time": "2023-05-07T18:31:10.703Z"
   },
   {
    "duration": 8,
    "start_time": "2023-05-07T18:31:10.710Z"
   },
   {
    "duration": 19,
    "start_time": "2023-05-07T18:31:10.721Z"
   },
   {
    "duration": 3,
    "start_time": "2023-05-07T18:31:10.741Z"
   },
   {
    "duration": 12410,
    "start_time": "2023-05-07T18:31:10.746Z"
   },
   {
    "duration": 5,
    "start_time": "2023-05-07T18:31:23.158Z"
   },
   {
    "duration": 6,
    "start_time": "2023-05-07T18:31:35.707Z"
   },
   {
    "duration": 3,
    "start_time": "2023-05-07T18:34:57.531Z"
   },
   {
    "duration": 11,
    "start_time": "2023-05-07T18:35:00.182Z"
   },
   {
    "duration": 4,
    "start_time": "2023-05-07T18:35:06.062Z"
   },
   {
    "duration": 1317,
    "start_time": "2023-05-07T18:35:52.175Z"
   },
   {
    "duration": 784,
    "start_time": "2023-05-07T18:35:53.494Z"
   },
   {
    "duration": 18,
    "start_time": "2023-05-07T18:35:54.279Z"
   },
   {
    "duration": 11,
    "start_time": "2023-05-07T18:35:54.299Z"
   },
   {
    "duration": 232,
    "start_time": "2023-05-07T18:35:54.312Z"
   },
   {
    "duration": 4,
    "start_time": "2023-05-07T18:35:54.545Z"
   },
   {
    "duration": 18,
    "start_time": "2023-05-07T18:35:54.550Z"
   },
   {
    "duration": 34,
    "start_time": "2023-05-07T18:35:54.569Z"
   },
   {
    "duration": 14,
    "start_time": "2023-05-07T18:35:54.604Z"
   },
   {
    "duration": 12472,
    "start_time": "2023-05-07T18:35:54.620Z"
   },
   {
    "duration": 4,
    "start_time": "2023-05-07T18:36:07.094Z"
   },
   {
    "duration": 24,
    "start_time": "2023-05-07T18:36:07.099Z"
   },
   {
    "duration": 20,
    "start_time": "2023-05-07T18:36:07.124Z"
   },
   {
    "duration": 16,
    "start_time": "2023-05-07T18:36:07.146Z"
   },
   {
    "duration": 34,
    "start_time": "2023-05-07T18:36:07.163Z"
   },
   {
    "duration": 48,
    "start_time": "2023-05-07T18:36:07.198Z"
   },
   {
    "duration": 26,
    "start_time": "2023-05-07T18:36:07.247Z"
   },
   {
    "duration": 16,
    "start_time": "2023-05-07T18:36:07.274Z"
   },
   {
    "duration": 163,
    "start_time": "2023-05-07T18:36:07.292Z"
   },
   {
    "duration": 591,
    "start_time": "2023-05-07T18:36:07.456Z"
   },
   {
    "duration": 4,
    "start_time": "2023-05-07T18:36:08.048Z"
   },
   {
    "duration": 518,
    "start_time": "2023-05-07T18:36:08.054Z"
   },
   {
    "duration": 5,
    "start_time": "2023-05-07T18:36:21.028Z"
   },
   {
    "duration": 232,
    "start_time": "2023-05-07T18:36:46.878Z"
   },
   {
    "duration": 0,
    "start_time": "2023-05-07T18:36:47.112Z"
   },
   {
    "duration": 0,
    "start_time": "2023-05-07T18:36:47.113Z"
   },
   {
    "duration": 0,
    "start_time": "2023-05-07T18:36:47.114Z"
   },
   {
    "duration": 0,
    "start_time": "2023-05-07T18:36:47.115Z"
   },
   {
    "duration": 0,
    "start_time": "2023-05-07T18:36:47.115Z"
   },
   {
    "duration": 0,
    "start_time": "2023-05-07T18:36:47.116Z"
   },
   {
    "duration": 144,
    "start_time": "2023-05-07T18:37:05.692Z"
   },
   {
    "duration": 3,
    "start_time": "2023-05-07T18:38:34.533Z"
   },
   {
    "duration": 11,
    "start_time": "2023-05-07T18:38:35.986Z"
   },
   {
    "duration": 7,
    "start_time": "2023-05-07T18:38:36.356Z"
   },
   {
    "duration": 6,
    "start_time": "2023-05-07T18:38:36.777Z"
   },
   {
    "duration": 2,
    "start_time": "2023-05-07T18:38:38.763Z"
   },
   {
    "duration": 5,
    "start_time": "2023-05-07T18:38:39.405Z"
   },
   {
    "duration": 18,
    "start_time": "2023-05-07T18:38:57.680Z"
   },
   {
    "duration": 209,
    "start_time": "2023-05-07T18:39:13.494Z"
   },
   {
    "duration": 797,
    "start_time": "2023-05-07T18:39:13.704Z"
   },
   {
    "duration": 4,
    "start_time": "2023-05-07T18:39:14.503Z"
   },
   {
    "duration": 426,
    "start_time": "2023-05-07T18:39:15.755Z"
   },
   {
    "duration": 8,
    "start_time": "2023-05-07T18:39:20.640Z"
   },
   {
    "duration": 27975,
    "start_time": "2023-05-07T18:39:21.570Z"
   },
   {
    "duration": 5,
    "start_time": "2023-05-07T18:40:15.411Z"
   },
   {
    "duration": 816,
    "start_time": "2023-05-07T18:40:15.418Z"
   },
   {
    "duration": 21,
    "start_time": "2023-05-07T18:40:16.238Z"
   },
   {
    "duration": 28,
    "start_time": "2023-05-07T18:40:16.260Z"
   },
   {
    "duration": 205,
    "start_time": "2023-05-07T18:40:16.290Z"
   },
   {
    "duration": 8,
    "start_time": "2023-05-07T18:40:16.496Z"
   },
   {
    "duration": 27,
    "start_time": "2023-05-07T18:40:16.506Z"
   },
   {
    "duration": 3,
    "start_time": "2023-05-07T18:40:16.535Z"
   },
   {
    "duration": 12467,
    "start_time": "2023-05-07T18:40:16.540Z"
   },
   {
    "duration": 4,
    "start_time": "2023-05-07T18:40:29.009Z"
   },
   {
    "duration": 9,
    "start_time": "2023-05-07T18:40:29.014Z"
   },
   {
    "duration": 6,
    "start_time": "2023-05-07T18:40:29.024Z"
   },
   {
    "duration": 25,
    "start_time": "2023-05-07T18:40:29.032Z"
   },
   {
    "duration": 16,
    "start_time": "2023-05-07T18:40:29.060Z"
   },
   {
    "duration": 20,
    "start_time": "2023-05-07T18:40:29.078Z"
   },
   {
    "duration": 2,
    "start_time": "2023-05-07T18:40:29.100Z"
   },
   {
    "duration": 8,
    "start_time": "2023-05-07T18:40:29.105Z"
   },
   {
    "duration": 220,
    "start_time": "2023-05-07T18:40:29.114Z"
   },
   {
    "duration": 800,
    "start_time": "2023-05-07T18:40:29.335Z"
   },
   {
    "duration": 3,
    "start_time": "2023-05-07T18:40:30.137Z"
   },
   {
    "duration": 639,
    "start_time": "2023-05-07T18:40:30.142Z"
   },
   {
    "duration": 8389,
    "start_time": "2023-05-07T18:40:30.783Z"
   },
   {
    "duration": 1399,
    "start_time": "2023-05-07T18:47:45.501Z"
   },
   {
    "duration": 844,
    "start_time": "2023-05-07T18:47:46.903Z"
   },
   {
    "duration": 31,
    "start_time": "2023-05-07T18:47:47.748Z"
   },
   {
    "duration": 19,
    "start_time": "2023-05-07T18:47:47.780Z"
   },
   {
    "duration": 231,
    "start_time": "2023-05-07T18:47:47.802Z"
   },
   {
    "duration": 9,
    "start_time": "2023-05-07T18:47:48.034Z"
   },
   {
    "duration": 5,
    "start_time": "2023-05-07T18:47:48.044Z"
   },
   {
    "duration": 27,
    "start_time": "2023-05-07T18:47:48.051Z"
   },
   {
    "duration": 12553,
    "start_time": "2023-05-07T18:47:48.082Z"
   },
   {
    "duration": 6,
    "start_time": "2023-05-07T18:48:00.637Z"
   },
   {
    "duration": 42,
    "start_time": "2023-05-07T18:48:00.644Z"
   },
   {
    "duration": 41,
    "start_time": "2023-05-07T18:48:00.688Z"
   },
   {
    "duration": 33,
    "start_time": "2023-05-07T18:48:00.731Z"
   },
   {
    "duration": 37,
    "start_time": "2023-05-07T18:48:00.767Z"
   },
   {
    "duration": 45,
    "start_time": "2023-05-07T18:48:00.806Z"
   },
   {
    "duration": 39,
    "start_time": "2023-05-07T18:48:00.853Z"
   },
   {
    "duration": 49,
    "start_time": "2023-05-07T18:48:00.894Z"
   },
   {
    "duration": 264,
    "start_time": "2023-05-07T18:48:00.945Z"
   },
   {
    "duration": 909,
    "start_time": "2023-05-07T18:48:01.210Z"
   },
   {
    "duration": 4,
    "start_time": "2023-05-07T18:48:02.120Z"
   },
   {
    "duration": 349,
    "start_time": "2023-05-07T18:48:02.126Z"
   },
   {
    "duration": 7698,
    "start_time": "2023-05-07T18:48:02.476Z"
   },
   {
    "duration": 2,
    "start_time": "2023-05-07T18:48:14.855Z"
   },
   {
    "duration": 123,
    "start_time": "2023-05-07T18:49:33.298Z"
   },
   {
    "duration": 1319,
    "start_time": "2023-05-07T18:56:37.879Z"
   },
   {
    "duration": 798,
    "start_time": "2023-05-07T18:56:39.199Z"
   },
   {
    "duration": 17,
    "start_time": "2023-05-07T18:56:39.999Z"
   },
   {
    "duration": 14,
    "start_time": "2023-05-07T18:56:40.017Z"
   },
   {
    "duration": 254,
    "start_time": "2023-05-07T18:56:40.034Z"
   },
   {
    "duration": 4,
    "start_time": "2023-05-07T18:56:40.289Z"
   },
   {
    "duration": 10,
    "start_time": "2023-05-07T18:56:40.294Z"
   },
   {
    "duration": 4,
    "start_time": "2023-05-07T18:56:40.305Z"
   },
   {
    "duration": 5,
    "start_time": "2023-05-07T18:56:40.311Z"
   },
   {
    "duration": 13894,
    "start_time": "2023-05-07T18:56:40.317Z"
   },
   {
    "duration": 3,
    "start_time": "2023-05-07T18:56:54.213Z"
   },
   {
    "duration": 12,
    "start_time": "2023-05-07T18:56:54.218Z"
   },
   {
    "duration": 5,
    "start_time": "2023-05-07T18:56:54.231Z"
   },
   {
    "duration": 10,
    "start_time": "2023-05-07T18:56:54.238Z"
   },
   {
    "duration": 4,
    "start_time": "2023-05-07T18:56:54.249Z"
   },
   {
    "duration": 31,
    "start_time": "2023-05-07T18:56:54.254Z"
   },
   {
    "duration": 5,
    "start_time": "2023-05-07T18:56:54.287Z"
   },
   {
    "duration": 12,
    "start_time": "2023-05-07T18:56:54.294Z"
   },
   {
    "duration": 213,
    "start_time": "2023-05-07T18:56:54.307Z"
   },
   {
    "duration": 815,
    "start_time": "2023-05-07T18:56:54.522Z"
   },
   {
    "duration": 4,
    "start_time": "2023-05-07T18:56:55.339Z"
   },
   {
    "duration": 1937,
    "start_time": "2023-05-07T18:56:55.344Z"
   },
   {
    "duration": 2,
    "start_time": "2023-05-07T18:57:15.927Z"
   },
   {
    "duration": 2,
    "start_time": "2023-05-07T18:59:19.930Z"
   },
   {
    "duration": 1244,
    "start_time": "2023-05-07T19:04:54.682Z"
   },
   {
    "duration": 907,
    "start_time": "2023-05-07T19:04:55.929Z"
   },
   {
    "duration": 18,
    "start_time": "2023-05-07T19:04:56.838Z"
   },
   {
    "duration": 27,
    "start_time": "2023-05-07T19:04:56.857Z"
   },
   {
    "duration": 219,
    "start_time": "2023-05-07T19:04:56.886Z"
   },
   {
    "duration": 3,
    "start_time": "2023-05-07T19:04:57.107Z"
   },
   {
    "duration": 38,
    "start_time": "2023-05-07T19:04:57.111Z"
   },
   {
    "duration": 38,
    "start_time": "2023-05-07T19:04:57.151Z"
   },
   {
    "duration": 31,
    "start_time": "2023-05-07T19:04:57.190Z"
   },
   {
    "duration": 12962,
    "start_time": "2023-05-07T19:04:57.223Z"
   },
   {
    "duration": 5,
    "start_time": "2023-05-07T19:05:10.187Z"
   },
   {
    "duration": 9,
    "start_time": "2023-05-07T19:05:10.193Z"
   },
   {
    "duration": 5,
    "start_time": "2023-05-07T19:05:10.203Z"
   },
   {
    "duration": 8,
    "start_time": "2023-05-07T19:05:10.211Z"
   },
   {
    "duration": 9,
    "start_time": "2023-05-07T19:05:10.220Z"
   },
   {
    "duration": 9,
    "start_time": "2023-05-07T19:05:10.230Z"
   },
   {
    "duration": 2,
    "start_time": "2023-05-07T19:05:10.240Z"
   },
   {
    "duration": 6,
    "start_time": "2023-05-07T19:05:10.244Z"
   },
   {
    "duration": 261,
    "start_time": "2023-05-07T19:05:10.251Z"
   },
   {
    "duration": 825,
    "start_time": "2023-05-07T19:05:10.514Z"
   },
   {
    "duration": 1339,
    "start_time": "2023-05-07T19:05:11.340Z"
   },
   {
    "duration": 267788,
    "start_time": "2023-05-07T19:05:12.681Z"
   },
   {
    "duration": 0,
    "start_time": "2023-05-07T19:09:40.470Z"
   },
   {
    "duration": 0,
    "start_time": "2023-05-07T19:09:40.472Z"
   },
   {
    "duration": 0,
    "start_time": "2023-05-07T19:09:40.473Z"
   },
   {
    "duration": 4,
    "start_time": "2023-05-07T19:10:30.644Z"
   },
   {
    "duration": 850,
    "start_time": "2023-05-07T19:10:30.650Z"
   },
   {
    "duration": 23,
    "start_time": "2023-05-07T19:10:31.503Z"
   },
   {
    "duration": 24,
    "start_time": "2023-05-07T19:10:31.528Z"
   },
   {
    "duration": 236,
    "start_time": "2023-05-07T19:10:31.554Z"
   },
   {
    "duration": 13,
    "start_time": "2023-05-07T19:10:31.792Z"
   },
   {
    "duration": 24,
    "start_time": "2023-05-07T19:10:31.807Z"
   },
   {
    "duration": 17,
    "start_time": "2023-05-07T19:10:31.832Z"
   },
   {
    "duration": 12411,
    "start_time": "2023-05-07T19:10:31.851Z"
   },
   {
    "duration": 8,
    "start_time": "2023-05-07T19:10:44.265Z"
   },
   {
    "duration": 8,
    "start_time": "2023-05-07T19:10:44.274Z"
   },
   {
    "duration": 9,
    "start_time": "2023-05-07T19:10:44.283Z"
   },
   {
    "duration": 24,
    "start_time": "2023-05-07T19:10:44.294Z"
   },
   {
    "duration": 7,
    "start_time": "2023-05-07T19:10:44.319Z"
   },
   {
    "duration": 11,
    "start_time": "2023-05-07T19:10:44.328Z"
   },
   {
    "duration": 2,
    "start_time": "2023-05-07T19:10:44.341Z"
   },
   {
    "duration": 6,
    "start_time": "2023-05-07T19:10:44.345Z"
   },
   {
    "duration": 224,
    "start_time": "2023-05-07T19:10:44.372Z"
   },
   {
    "duration": 757,
    "start_time": "2023-05-07T19:10:44.598Z"
   },
   {
    "duration": 627,
    "start_time": "2023-05-07T19:10:45.357Z"
   },
   {
    "duration": 4986,
    "start_time": "2023-05-07T19:10:45.986Z"
   },
   {
    "duration": 2,
    "start_time": "2023-05-07T19:12:29.961Z"
   },
   {
    "duration": 12,
    "start_time": "2023-05-07T19:12:31.171Z"
   },
   {
    "duration": 96,
    "start_time": "2023-05-07T19:12:36.136Z"
   },
   {
    "duration": 3,
    "start_time": "2023-05-07T19:12:39.057Z"
   },
   {
    "duration": 1440,
    "start_time": "2023-05-07T21:22:27.255Z"
   },
   {
    "duration": 2530,
    "start_time": "2023-05-07T21:22:28.697Z"
   },
   {
    "duration": 38,
    "start_time": "2023-05-07T21:22:31.229Z"
   },
   {
    "duration": 43,
    "start_time": "2023-05-07T21:22:31.269Z"
   },
   {
    "duration": 244,
    "start_time": "2023-05-07T21:22:31.314Z"
   },
   {
    "duration": 13,
    "start_time": "2023-05-07T21:22:31.560Z"
   },
   {
    "duration": 71,
    "start_time": "2023-05-07T21:22:31.574Z"
   },
   {
    "duration": 58,
    "start_time": "2023-05-07T21:22:31.647Z"
   },
   {
    "duration": 13563,
    "start_time": "2023-05-07T21:22:31.707Z"
   },
   {
    "duration": 5,
    "start_time": "2023-05-07T21:22:45.272Z"
   },
   {
    "duration": 60,
    "start_time": "2023-05-07T21:22:45.279Z"
   },
   {
    "duration": 38,
    "start_time": "2023-05-07T21:22:45.340Z"
   },
   {
    "duration": 38,
    "start_time": "2023-05-07T21:22:45.380Z"
   },
   {
    "duration": 45,
    "start_time": "2023-05-07T21:22:45.420Z"
   },
   {
    "duration": 51,
    "start_time": "2023-05-07T21:22:45.467Z"
   },
   {
    "duration": 23,
    "start_time": "2023-05-07T21:22:45.519Z"
   },
   {
    "duration": 86,
    "start_time": "2023-05-07T21:22:45.544Z"
   },
   {
    "duration": 258,
    "start_time": "2023-05-07T21:22:45.632Z"
   },
   {
    "duration": 792,
    "start_time": "2023-05-07T21:22:45.893Z"
   },
   {
    "duration": 763,
    "start_time": "2023-05-07T21:22:46.687Z"
   },
   {
    "duration": 4913,
    "start_time": "2023-05-07T21:22:47.542Z"
   },
   {
    "duration": 7,
    "start_time": "2023-05-07T21:22:52.456Z"
   },
   {
    "duration": 125,
    "start_time": "2023-05-07T21:22:52.465Z"
   },
   {
    "duration": 0,
    "start_time": "2023-05-07T21:22:52.591Z"
   },
   {
    "duration": 46,
    "start_time": "2023-05-07T21:23:02.635Z"
   },
   {
    "duration": 3,
    "start_time": "2023-05-07T21:23:54.955Z"
   },
   {
    "duration": 13,
    "start_time": "2023-05-07T21:26:36.425Z"
   },
   {
    "duration": 3,
    "start_time": "2023-05-07T21:26:53.454Z"
   },
   {
    "duration": 1610,
    "start_time": "2023-05-07T21:26:54.561Z"
   },
   {
    "duration": 11,
    "start_time": "2023-05-07T21:27:12.730Z"
   },
   {
    "duration": 11945,
    "start_time": "2023-05-07T21:27:20.906Z"
   },
   {
    "duration": 4,
    "start_time": "2023-05-07T21:31:11.478Z"
   },
   {
    "duration": 25,
    "start_time": "2023-05-07T21:31:18.304Z"
   },
   {
    "duration": 21,
    "start_time": "2023-05-07T21:31:18.331Z"
   },
   {
    "duration": 138930,
    "start_time": "2023-05-07T21:31:18.354Z"
   },
   {
    "duration": 3,
    "start_time": "2023-05-07T21:33:37.286Z"
   },
   {
    "duration": 14,
    "start_time": "2023-05-07T21:33:37.291Z"
   },
   {
    "duration": 10,
    "start_time": "2023-05-07T21:33:37.307Z"
   },
   {
    "duration": 66,
    "start_time": "2023-05-07T21:33:37.319Z"
   },
   {
    "duration": 39,
    "start_time": "2023-05-07T21:33:37.387Z"
   },
   {
    "duration": 55,
    "start_time": "2023-05-07T21:33:37.428Z"
   },
   {
    "duration": 3,
    "start_time": "2023-05-07T21:33:37.485Z"
   },
   {
    "duration": 10,
    "start_time": "2023-05-07T21:33:37.489Z"
   },
   {
    "duration": 2018,
    "start_time": "2023-05-07T21:33:37.501Z"
   },
   {
    "duration": 7726,
    "start_time": "2023-05-07T21:33:39.521Z"
   },
   {
    "duration": 11409,
    "start_time": "2023-05-07T21:33:47.250Z"
   },
   {
    "duration": 1633,
    "start_time": "2023-05-07T21:34:55.604Z"
   },
   {
    "duration": 3,
    "start_time": "2023-05-07T21:34:57.239Z"
   },
   {
    "duration": 2305,
    "start_time": "2023-05-07T21:34:57.243Z"
   },
   {
    "duration": 38,
    "start_time": "2023-05-07T21:34:59.551Z"
   },
   {
    "duration": 23,
    "start_time": "2023-05-07T21:34:59.591Z"
   },
   {
    "duration": 267,
    "start_time": "2023-05-07T21:34:59.616Z"
   },
   {
    "duration": 15,
    "start_time": "2023-05-07T21:34:59.885Z"
   },
   {
    "duration": 4,
    "start_time": "2023-05-07T21:34:59.902Z"
   },
   {
    "duration": 8,
    "start_time": "2023-05-07T21:34:59.908Z"
   },
   {
    "duration": 23375,
    "start_time": "2023-05-07T21:34:59.917Z"
   },
   {
    "duration": 6,
    "start_time": "2023-05-07T21:35:23.294Z"
   },
   {
    "duration": 13,
    "start_time": "2023-05-07T21:35:23.302Z"
   },
   {
    "duration": 7,
    "start_time": "2023-05-07T21:35:23.317Z"
   },
   {
    "duration": 26,
    "start_time": "2023-05-07T21:35:23.328Z"
   },
   {
    "duration": 16,
    "start_time": "2023-05-07T21:35:23.357Z"
   },
   {
    "duration": 12,
    "start_time": "2023-05-07T21:35:23.376Z"
   },
   {
    "duration": 14,
    "start_time": "2023-05-07T21:35:23.389Z"
   },
   {
    "duration": 13,
    "start_time": "2023-05-07T21:35:23.404Z"
   },
   {
    "duration": 361,
    "start_time": "2023-05-07T21:35:23.418Z"
   },
   {
    "duration": 1494,
    "start_time": "2023-05-07T21:35:23.781Z"
   },
   {
    "duration": 1368,
    "start_time": "2023-05-07T21:35:25.277Z"
   },
   {
    "duration": 7719,
    "start_time": "2023-05-07T21:35:26.647Z"
   },
   {
    "duration": 7,
    "start_time": "2023-05-07T21:35:34.368Z"
   },
   {
    "duration": 61,
    "start_time": "2023-05-07T21:35:34.376Z"
   },
   {
    "duration": 1380,
    "start_time": "2023-05-07T21:36:32.160Z"
   },
   {
    "duration": 10,
    "start_time": "2023-05-07T21:36:45.127Z"
   },
   {
    "duration": 1171,
    "start_time": "2023-05-07T21:36:49.847Z"
   },
   {
    "duration": 11,
    "start_time": "2023-05-07T21:36:55.166Z"
   },
   {
    "duration": 5,
    "start_time": "2023-05-07T21:37:06.537Z"
   },
   {
    "duration": 4,
    "start_time": "2023-05-07T21:37:14.772Z"
   },
   {
    "duration": 11,
    "start_time": "2023-05-07T21:37:19.987Z"
   },
   {
    "duration": 10,
    "start_time": "2023-05-07T21:37:28.200Z"
   },
   {
    "duration": 11,
    "start_time": "2023-05-07T21:37:45.114Z"
   },
   {
    "duration": 5,
    "start_time": "2023-05-07T21:38:53.159Z"
   },
   {
    "duration": 5,
    "start_time": "2023-05-07T21:39:01.423Z"
   },
   {
    "duration": 17,
    "start_time": "2023-05-07T21:39:15.159Z"
   },
   {
    "duration": 8,
    "start_time": "2023-05-07T21:39:49.463Z"
   },
   {
    "duration": 28,
    "start_time": "2023-05-07T21:39:49.473Z"
   },
   {
    "duration": 3,
    "start_time": "2023-05-07T21:39:49.503Z"
   },
   {
    "duration": 1772,
    "start_time": "2023-05-07T21:39:49.508Z"
   },
   {
    "duration": 4,
    "start_time": "2023-05-07T21:39:51.282Z"
   },
   {
    "duration": 31,
    "start_time": "2023-05-07T21:39:51.287Z"
   },
   {
    "duration": 23,
    "start_time": "2023-05-07T21:40:01.242Z"
   },
   {
    "duration": 22,
    "start_time": "2023-05-07T21:40:32.573Z"
   },
   {
    "duration": 29,
    "start_time": "2023-05-07T21:40:32.598Z"
   },
   {
    "duration": 3,
    "start_time": "2023-05-07T21:40:32.630Z"
   },
   {
    "duration": 11016,
    "start_time": "2023-05-07T21:40:32.635Z"
   },
   {
    "duration": 4,
    "start_time": "2023-05-07T21:40:43.655Z"
   },
   {
    "duration": 11,
    "start_time": "2023-05-07T21:40:43.662Z"
   },
   {
    "duration": 9,
    "start_time": "2023-05-07T21:40:43.675Z"
   },
   {
    "duration": 41,
    "start_time": "2023-05-07T21:40:43.685Z"
   },
   {
    "duration": 28,
    "start_time": "2023-05-07T21:40:43.728Z"
   },
   {
    "duration": 24,
    "start_time": "2023-05-07T21:40:43.758Z"
   },
   {
    "duration": 4,
    "start_time": "2023-05-07T21:40:43.785Z"
   },
   {
    "duration": 11,
    "start_time": "2023-05-07T21:40:43.791Z"
   },
   {
    "duration": 40,
    "start_time": "2023-05-07T21:40:43.804Z"
   },
   {
    "duration": 0,
    "start_time": "2023-05-07T21:40:43.846Z"
   },
   {
    "duration": 0,
    "start_time": "2023-05-07T21:40:43.847Z"
   },
   {
    "duration": 0,
    "start_time": "2023-05-07T21:40:43.848Z"
   },
   {
    "duration": 0,
    "start_time": "2023-05-07T21:40:43.850Z"
   },
   {
    "duration": 0,
    "start_time": "2023-05-07T21:40:43.851Z"
   },
   {
    "duration": 8,
    "start_time": "2023-05-07T21:41:13.714Z"
   },
   {
    "duration": 10,
    "start_time": "2023-05-07T21:41:57.741Z"
   },
   {
    "duration": 37,
    "start_time": "2023-05-07T21:41:57.753Z"
   },
   {
    "duration": 4,
    "start_time": "2023-05-07T21:41:57.791Z"
   },
   {
    "duration": 811,
    "start_time": "2023-05-07T21:41:57.797Z"
   },
   {
    "duration": 4,
    "start_time": "2023-05-07T21:41:58.611Z"
   },
   {
    "duration": 25,
    "start_time": "2023-05-07T21:41:58.617Z"
   },
   {
    "duration": 6,
    "start_time": "2023-05-07T21:41:58.644Z"
   },
   {
    "duration": 13,
    "start_time": "2023-05-07T21:41:58.652Z"
   },
   {
    "duration": 8,
    "start_time": "2023-05-07T21:41:58.667Z"
   },
   {
    "duration": 10,
    "start_time": "2023-05-07T21:41:58.677Z"
   },
   {
    "duration": 6,
    "start_time": "2023-05-07T21:41:58.689Z"
   },
   {
    "duration": 8,
    "start_time": "2023-05-07T21:41:58.697Z"
   },
   {
    "duration": 45,
    "start_time": "2023-05-07T21:41:58.707Z"
   },
   {
    "duration": 0,
    "start_time": "2023-05-07T21:41:58.755Z"
   },
   {
    "duration": 0,
    "start_time": "2023-05-07T21:41:58.757Z"
   },
   {
    "duration": 0,
    "start_time": "2023-05-07T21:41:58.758Z"
   },
   {
    "duration": 0,
    "start_time": "2023-05-07T21:41:58.760Z"
   },
   {
    "duration": 0,
    "start_time": "2023-05-07T21:41:58.761Z"
   },
   {
    "duration": 4,
    "start_time": "2023-05-07T21:42:20.909Z"
   },
   {
    "duration": 8,
    "start_time": "2023-05-07T21:42:34.552Z"
   },
   {
    "duration": 68,
    "start_time": "2023-05-07T21:42:34.562Z"
   },
   {
    "duration": 11,
    "start_time": "2023-05-07T21:42:34.632Z"
   },
   {
    "duration": 811,
    "start_time": "2023-05-07T21:42:34.645Z"
   },
   {
    "duration": 6,
    "start_time": "2023-05-07T21:42:35.460Z"
   },
   {
    "duration": 11,
    "start_time": "2023-05-07T21:42:35.468Z"
   },
   {
    "duration": 27,
    "start_time": "2023-05-07T21:42:35.481Z"
   },
   {
    "duration": 9,
    "start_time": "2023-05-07T21:42:35.510Z"
   },
   {
    "duration": 16,
    "start_time": "2023-05-07T21:42:35.520Z"
   },
   {
    "duration": 16,
    "start_time": "2023-05-07T21:42:35.538Z"
   },
   {
    "duration": 9,
    "start_time": "2023-05-07T21:42:35.556Z"
   },
   {
    "duration": 7,
    "start_time": "2023-05-07T21:42:35.568Z"
   },
   {
    "duration": 9,
    "start_time": "2023-05-07T21:42:35.577Z"
   },
   {
    "duration": 11,
    "start_time": "2023-05-07T21:42:35.589Z"
   },
   {
    "duration": 23,
    "start_time": "2023-05-07T21:42:35.602Z"
   },
   {
    "duration": 15,
    "start_time": "2023-05-07T21:42:35.627Z"
   },
   {
    "duration": 681,
    "start_time": "2023-05-07T21:42:35.644Z"
   },
   {
    "duration": 9,
    "start_time": "2023-05-07T21:42:36.327Z"
   },
   {
    "duration": 15,
    "start_time": "2023-05-07T21:42:36.338Z"
   },
   {
    "duration": 5,
    "start_time": "2023-05-07T21:43:01.295Z"
   },
   {
    "duration": 9,
    "start_time": "2023-05-07T21:44:19.574Z"
   },
   {
    "duration": 34,
    "start_time": "2023-05-07T21:44:19.585Z"
   },
   {
    "duration": 3,
    "start_time": "2023-05-07T21:44:19.621Z"
   },
   {
    "duration": 818,
    "start_time": "2023-05-07T21:44:19.627Z"
   },
   {
    "duration": 5,
    "start_time": "2023-05-07T21:44:20.448Z"
   },
   {
    "duration": 20,
    "start_time": "2023-05-07T21:44:20.456Z"
   },
   {
    "duration": 24,
    "start_time": "2023-05-07T21:44:20.478Z"
   },
   {
    "duration": 107,
    "start_time": "2023-05-07T21:44:20.504Z"
   },
   {
    "duration": 3,
    "start_time": "2023-05-07T21:44:34.626Z"
   },
   {
    "duration": 4,
    "start_time": "2023-05-07T21:44:41.367Z"
   },
   {
    "duration": 15,
    "start_time": "2023-05-07T21:46:02.420Z"
   },
   {
    "duration": 9,
    "start_time": "2023-05-07T21:46:16.310Z"
   },
   {
    "duration": 36,
    "start_time": "2023-05-07T21:46:16.321Z"
   },
   {
    "duration": 3,
    "start_time": "2023-05-07T21:46:16.359Z"
   },
   {
    "duration": 909,
    "start_time": "2023-05-07T21:46:16.364Z"
   },
   {
    "duration": 5,
    "start_time": "2023-05-07T21:46:17.277Z"
   },
   {
    "duration": 37,
    "start_time": "2023-05-07T21:46:17.284Z"
   },
   {
    "duration": 14,
    "start_time": "2023-05-07T21:46:17.323Z"
   },
   {
    "duration": 5,
    "start_time": "2023-05-07T21:46:27.205Z"
   },
   {
    "duration": 8,
    "start_time": "2023-05-07T21:46:56.572Z"
   },
   {
    "duration": 31,
    "start_time": "2023-05-07T21:46:57.500Z"
   },
   {
    "duration": 4,
    "start_time": "2023-05-07T21:47:00.356Z"
   },
   {
    "duration": 769,
    "start_time": "2023-05-07T21:47:01.601Z"
   },
   {
    "duration": 4,
    "start_time": "2023-05-07T21:47:04.956Z"
   },
   {
    "duration": 8,
    "start_time": "2023-05-07T21:47:08.080Z"
   },
   {
    "duration": 6,
    "start_time": "2023-05-07T21:47:09.024Z"
   },
   {
    "duration": 4,
    "start_time": "2023-05-07T21:47:14.756Z"
   },
   {
    "duration": 18,
    "start_time": "2023-05-07T21:47:17.896Z"
   },
   {
    "duration": 1248,
    "start_time": "2023-05-08T08:25:55.051Z"
   },
   {
    "duration": 2,
    "start_time": "2023-05-08T08:25:56.301Z"
   },
   {
    "duration": 3546,
    "start_time": "2023-05-08T08:25:56.305Z"
   },
   {
    "duration": 25,
    "start_time": "2023-05-08T08:25:59.853Z"
   },
   {
    "duration": 14,
    "start_time": "2023-05-08T08:25:59.880Z"
   },
   {
    "duration": 193,
    "start_time": "2023-05-08T08:25:59.896Z"
   },
   {
    "duration": 6,
    "start_time": "2023-05-08T08:26:00.094Z"
   },
   {
    "duration": 8,
    "start_time": "2023-05-08T08:26:00.101Z"
   },
   {
    "duration": 16,
    "start_time": "2023-05-08T08:26:00.110Z"
   },
   {
    "duration": 854,
    "start_time": "2023-05-08T08:26:00.127Z"
   },
   {
    "duration": 4,
    "start_time": "2023-05-08T08:26:00.983Z"
   },
   {
    "duration": 22,
    "start_time": "2023-05-08T08:26:00.989Z"
   },
   {
    "duration": 42,
    "start_time": "2023-05-08T08:26:01.013Z"
   },
   {
    "duration": 28,
    "start_time": "2023-05-08T08:26:01.058Z"
   },
   {
    "duration": 43,
    "start_time": "2023-05-08T08:26:01.088Z"
   },
   {
    "duration": 33,
    "start_time": "2023-05-08T08:26:01.133Z"
   },
   {
    "duration": 25,
    "start_time": "2023-05-08T08:26:01.167Z"
   },
   {
    "duration": 47,
    "start_time": "2023-05-08T08:26:01.193Z"
   },
   {
    "duration": 40,
    "start_time": "2023-05-08T08:26:01.242Z"
   },
   {
    "duration": 27,
    "start_time": "2023-05-08T08:26:01.283Z"
   },
   {
    "duration": 657,
    "start_time": "2023-05-08T08:26:01.312Z"
   },
   {
    "duration": 5,
    "start_time": "2023-05-08T08:26:01.971Z"
   },
   {
    "duration": 14,
    "start_time": "2023-05-08T08:26:01.977Z"
   },
   {
    "duration": 5,
    "start_time": "2023-05-08T08:26:37.885Z"
   },
   {
    "duration": 7,
    "start_time": "2023-05-08T08:27:30.105Z"
   },
   {
    "duration": 22,
    "start_time": "2023-05-08T08:27:33.317Z"
   },
   {
    "duration": 3,
    "start_time": "2023-05-08T08:27:33.341Z"
   },
   {
    "duration": 1006,
    "start_time": "2023-05-08T08:27:33.346Z"
   },
   {
    "duration": 3,
    "start_time": "2023-05-08T08:27:34.354Z"
   },
   {
    "duration": 12,
    "start_time": "2023-05-08T08:27:34.360Z"
   },
   {
    "duration": 6,
    "start_time": "2023-05-08T08:27:34.373Z"
   },
   {
    "duration": 4,
    "start_time": "2023-05-08T08:27:34.395Z"
   },
   {
    "duration": 10,
    "start_time": "2023-05-08T08:27:34.401Z"
   },
   {
    "duration": 10,
    "start_time": "2023-05-08T08:27:34.412Z"
   },
   {
    "duration": 3,
    "start_time": "2023-05-08T08:27:34.424Z"
   },
   {
    "duration": 7,
    "start_time": "2023-05-08T08:27:34.429Z"
   },
   {
    "duration": 11,
    "start_time": "2023-05-08T08:27:34.437Z"
   },
   {
    "duration": 54,
    "start_time": "2023-05-08T08:27:34.450Z"
   },
   {
    "duration": 8,
    "start_time": "2023-05-08T08:27:34.506Z"
   },
   {
    "duration": 8,
    "start_time": "2023-05-08T08:27:46.788Z"
   },
   {
    "duration": 30,
    "start_time": "2023-05-08T08:27:46.798Z"
   },
   {
    "duration": 2,
    "start_time": "2023-05-08T08:27:46.830Z"
   },
   {
    "duration": 1578,
    "start_time": "2023-05-08T08:27:46.834Z"
   },
   {
    "duration": 4,
    "start_time": "2023-05-08T08:27:48.414Z"
   },
   {
    "duration": 8,
    "start_time": "2023-05-08T08:27:48.419Z"
   },
   {
    "duration": 5,
    "start_time": "2023-05-08T08:27:48.428Z"
   },
   {
    "duration": 7,
    "start_time": "2023-05-08T08:27:48.434Z"
   },
   {
    "duration": 6,
    "start_time": "2023-05-08T08:27:48.443Z"
   },
   {
    "duration": 6,
    "start_time": "2023-05-08T08:27:48.451Z"
   },
   {
    "duration": 2,
    "start_time": "2023-05-08T08:27:48.459Z"
   },
   {
    "duration": 31,
    "start_time": "2023-05-08T08:27:48.463Z"
   },
   {
    "duration": 14,
    "start_time": "2023-05-08T08:27:48.496Z"
   },
   {
    "duration": 58,
    "start_time": "2023-05-08T08:27:48.512Z"
   },
   {
    "duration": 25,
    "start_time": "2023-05-08T08:27:48.571Z"
   },
   {
    "duration": 16,
    "start_time": "2023-05-08T08:28:04.572Z"
   },
   {
    "duration": 22,
    "start_time": "2023-05-08T08:28:04.589Z"
   },
   {
    "duration": 3,
    "start_time": "2023-05-08T08:28:04.612Z"
   },
   {
    "duration": 8167,
    "start_time": "2023-05-08T08:28:04.616Z"
   },
   {
    "duration": 9,
    "start_time": "2023-05-08T08:28:12.786Z"
   },
   {
    "duration": 11,
    "start_time": "2023-05-08T08:28:12.797Z"
   },
   {
    "duration": 22,
    "start_time": "2023-05-08T08:28:12.809Z"
   },
   {
    "duration": 10,
    "start_time": "2023-05-08T08:28:12.832Z"
   },
   {
    "duration": 6,
    "start_time": "2023-05-08T08:28:12.844Z"
   },
   {
    "duration": 12,
    "start_time": "2023-05-08T08:28:12.851Z"
   },
   {
    "duration": 2,
    "start_time": "2023-05-08T08:28:12.865Z"
   },
   {
    "duration": 8,
    "start_time": "2023-05-08T08:28:12.868Z"
   },
   {
    "duration": 135,
    "start_time": "2023-05-08T08:28:12.878Z"
   },
   {
    "duration": 455,
    "start_time": "2023-05-08T08:28:13.015Z"
   },
   {
    "duration": 332,
    "start_time": "2023-05-08T08:28:13.471Z"
   },
   {
    "duration": 15,
    "start_time": "2023-05-08T08:28:24.659Z"
   },
   {
    "duration": 21,
    "start_time": "2023-05-08T08:28:24.675Z"
   },
   {
    "duration": 3,
    "start_time": "2023-05-08T08:28:24.697Z"
   },
   {
    "duration": 15110,
    "start_time": "2023-05-08T08:28:24.702Z"
   },
   {
    "duration": 3,
    "start_time": "2023-05-08T08:28:39.814Z"
   },
   {
    "duration": 11,
    "start_time": "2023-05-08T08:28:39.819Z"
   },
   {
    "duration": 8,
    "start_time": "2023-05-08T08:28:39.831Z"
   },
   {
    "duration": 17,
    "start_time": "2023-05-08T08:28:39.841Z"
   },
   {
    "duration": 7,
    "start_time": "2023-05-08T08:28:39.860Z"
   },
   {
    "duration": 9,
    "start_time": "2023-05-08T08:28:39.869Z"
   },
   {
    "duration": 15,
    "start_time": "2023-05-08T08:28:39.879Z"
   },
   {
    "duration": 12,
    "start_time": "2023-05-08T08:28:39.896Z"
   },
   {
    "duration": 252,
    "start_time": "2023-05-08T08:28:39.910Z"
   },
   {
    "duration": 809,
    "start_time": "2023-05-08T08:28:40.164Z"
   },
   {
    "duration": 919,
    "start_time": "2023-05-08T08:28:40.974Z"
   },
   {
    "duration": 66771,
    "start_time": "2023-05-08T08:29:05.377Z"
   },
   {
    "duration": 6,
    "start_time": "2023-05-08T08:30:23.325Z"
   },
   {
    "duration": 59,
    "start_time": "2023-05-08T08:30:24.062Z"
   },
   {
    "duration": 278,
    "start_time": "2023-05-08T08:31:02.911Z"
   },
   {
    "duration": 0,
    "start_time": "2023-05-08T08:31:03.191Z"
   },
   {
    "duration": 0,
    "start_time": "2023-05-08T08:31:03.194Z"
   },
   {
    "duration": 0,
    "start_time": "2023-05-08T08:31:03.195Z"
   },
   {
    "duration": 0,
    "start_time": "2023-05-08T08:31:03.196Z"
   },
   {
    "duration": 0,
    "start_time": "2023-05-08T08:31:03.198Z"
   },
   {
    "duration": 14,
    "start_time": "2023-05-08T08:31:32.028Z"
   },
   {
    "duration": 21,
    "start_time": "2023-05-08T08:31:32.045Z"
   },
   {
    "duration": 16,
    "start_time": "2023-05-08T08:31:32.067Z"
   },
   {
    "duration": 15954,
    "start_time": "2023-05-08T08:31:32.085Z"
   },
   {
    "duration": 3,
    "start_time": "2023-05-08T08:31:48.041Z"
   },
   {
    "duration": 14,
    "start_time": "2023-05-08T08:31:48.045Z"
   },
   {
    "duration": 5,
    "start_time": "2023-05-08T08:31:48.061Z"
   },
   {
    "duration": 38,
    "start_time": "2023-05-08T08:31:48.067Z"
   },
   {
    "duration": 16,
    "start_time": "2023-05-08T08:31:48.107Z"
   },
   {
    "duration": 13,
    "start_time": "2023-05-08T08:31:48.125Z"
   },
   {
    "duration": 4,
    "start_time": "2023-05-08T08:31:48.140Z"
   },
   {
    "duration": 29,
    "start_time": "2023-05-08T08:31:48.146Z"
   },
   {
    "duration": 356,
    "start_time": "2023-05-08T08:31:48.177Z"
   },
   {
    "duration": 1058,
    "start_time": "2023-05-08T08:31:48.536Z"
   },
   {
    "duration": 900,
    "start_time": "2023-05-08T08:31:49.595Z"
   },
   {
    "duration": 6,
    "start_time": "2023-05-08T08:31:58.086Z"
   },
   {
    "duration": 667,
    "start_time": "2023-05-08T08:51:05.869Z"
   },
   {
    "duration": 702,
    "start_time": "2023-05-08T08:51:30.763Z"
   },
   {
    "duration": 1090,
    "start_time": "2023-05-08T08:51:38.176Z"
   },
   {
    "duration": 24,
    "start_time": "2023-05-08T08:51:41.949Z"
   },
   {
    "duration": 1114,
    "start_time": "2023-05-08T08:51:53.936Z"
   },
   {
    "duration": 872,
    "start_time": "2023-05-08T08:51:56.628Z"
   },
   {
    "duration": 1195,
    "start_time": "2023-05-08T08:52:04.293Z"
   },
   {
    "duration": 833,
    "start_time": "2023-05-08T08:52:10.869Z"
   },
   {
    "duration": 1234,
    "start_time": "2023-05-08T08:52:16.663Z"
   },
   {
    "duration": 3773,
    "start_time": "2023-05-08T08:52:18.830Z"
   },
   {
    "duration": 1116,
    "start_time": "2023-05-08T08:52:29.554Z"
   },
   {
    "duration": 679,
    "start_time": "2023-05-08T08:52:31.825Z"
   },
   {
    "duration": 1292,
    "start_time": "2023-05-08T08:52:36.129Z"
   },
   {
    "duration": 1481,
    "start_time": "2023-05-08T08:52:38.414Z"
   },
   {
    "duration": 1123,
    "start_time": "2023-05-08T08:52:43.583Z"
   },
   {
    "duration": 855,
    "start_time": "2023-05-08T08:52:46.347Z"
   },
   {
    "duration": 1069,
    "start_time": "2023-05-08T08:52:54.215Z"
   },
   {
    "duration": 723,
    "start_time": "2023-05-08T08:52:56.080Z"
   },
   {
    "duration": 1080,
    "start_time": "2023-05-08T08:53:01.632Z"
   },
   {
    "duration": 1436,
    "start_time": "2023-05-08T08:53:02.863Z"
   },
   {
    "duration": 1153,
    "start_time": "2023-05-08T08:53:07.903Z"
   },
   {
    "duration": 1079,
    "start_time": "2023-05-08T08:53:10.124Z"
   },
   {
    "duration": 1092,
    "start_time": "2023-05-08T08:53:16.256Z"
   },
   {
    "duration": 869,
    "start_time": "2023-05-08T08:53:18.227Z"
   },
   {
    "duration": 11,
    "start_time": "2023-05-08T09:00:11.848Z"
   },
   {
    "duration": 27,
    "start_time": "2023-05-08T09:00:11.861Z"
   },
   {
    "duration": 3,
    "start_time": "2023-05-08T09:00:11.889Z"
   },
   {
    "duration": 8754,
    "start_time": "2023-05-08T09:00:11.893Z"
   },
   {
    "duration": 2,
    "start_time": "2023-05-08T09:00:20.650Z"
   },
   {
    "duration": 24,
    "start_time": "2023-05-08T09:00:20.653Z"
   },
   {
    "duration": 37,
    "start_time": "2023-05-08T09:00:20.678Z"
   },
   {
    "duration": 48,
    "start_time": "2023-05-08T09:00:20.717Z"
   },
   {
    "duration": 10,
    "start_time": "2023-05-08T09:00:20.767Z"
   },
   {
    "duration": 7,
    "start_time": "2023-05-08T09:00:20.778Z"
   },
   {
    "duration": 4,
    "start_time": "2023-05-08T09:00:20.787Z"
   },
   {
    "duration": 6,
    "start_time": "2023-05-08T09:00:20.792Z"
   },
   {
    "duration": 171,
    "start_time": "2023-05-08T09:00:20.800Z"
   },
   {
    "duration": 586,
    "start_time": "2023-05-08T09:00:20.974Z"
   },
   {
    "duration": 441,
    "start_time": "2023-05-08T09:00:21.562Z"
   },
   {
    "duration": 644,
    "start_time": "2023-05-08T09:20:16.236Z"
   },
   {
    "duration": 21,
    "start_time": "2023-05-08T09:20:18.456Z"
   },
   {
    "duration": 539,
    "start_time": "2023-05-08T09:20:22.167Z"
   },
   {
    "duration": 26,
    "start_time": "2023-05-08T09:20:23.541Z"
   },
   {
    "duration": 583,
    "start_time": "2023-05-08T09:20:28.184Z"
   },
   {
    "duration": 34,
    "start_time": "2023-05-08T09:20:29.480Z"
   },
   {
    "duration": 563,
    "start_time": "2023-05-08T09:20:33.117Z"
   },
   {
    "duration": 35,
    "start_time": "2023-05-08T09:20:34.371Z"
   },
   {
    "duration": 591,
    "start_time": "2023-05-08T09:20:38.268Z"
   },
   {
    "duration": 42,
    "start_time": "2023-05-08T09:20:39.522Z"
   },
   {
    "duration": 671,
    "start_time": "2023-05-08T09:20:49.873Z"
   },
   {
    "duration": 43,
    "start_time": "2023-05-08T09:20:51.099Z"
   },
   {
    "duration": 5,
    "start_time": "2023-05-08T09:20:56.665Z"
   },
   {
    "duration": 14,
    "start_time": "2023-05-08T09:21:40.845Z"
   },
   {
    "duration": 22,
    "start_time": "2023-05-08T09:21:40.860Z"
   },
   {
    "duration": 4,
    "start_time": "2023-05-08T09:21:40.884Z"
   },
   {
    "duration": 12710,
    "start_time": "2023-05-08T09:21:40.889Z"
   },
   {
    "duration": 3,
    "start_time": "2023-05-08T09:21:53.601Z"
   },
   {
    "duration": 11,
    "start_time": "2023-05-08T09:21:53.605Z"
   },
   {
    "duration": 4,
    "start_time": "2023-05-08T09:21:53.617Z"
   },
   {
    "duration": 23,
    "start_time": "2023-05-08T09:21:53.622Z"
   },
   {
    "duration": 7,
    "start_time": "2023-05-08T09:21:53.647Z"
   },
   {
    "duration": 8,
    "start_time": "2023-05-08T09:21:53.656Z"
   },
   {
    "duration": 2,
    "start_time": "2023-05-08T09:21:53.665Z"
   },
   {
    "duration": 5,
    "start_time": "2023-05-08T09:21:53.693Z"
   },
   {
    "duration": 207,
    "start_time": "2023-05-08T09:21:53.700Z"
   },
   {
    "duration": 754,
    "start_time": "2023-05-08T09:21:53.910Z"
   },
   {
    "duration": 43,
    "start_time": "2023-05-08T09:21:54.666Z"
   },
   {
    "duration": 6,
    "start_time": "2023-05-08T09:22:01.846Z"
   },
   {
    "duration": 688,
    "start_time": "2023-05-08T09:22:07.979Z"
   },
   {
    "duration": 295,
    "start_time": "2023-05-08T09:22:10.815Z"
   },
   {
    "duration": 5,
    "start_time": "2023-05-08T09:22:13.105Z"
   },
   {
    "duration": 3,
    "start_time": "2023-05-08T09:22:47.516Z"
   },
   {
    "duration": 13,
    "start_time": "2023-05-08T09:23:00.637Z"
   },
   {
    "duration": 64,
    "start_time": "2023-05-08T09:23:00.652Z"
   },
   {
    "duration": 4,
    "start_time": "2023-05-08T09:23:00.718Z"
   },
   {
    "duration": 12956,
    "start_time": "2023-05-08T09:23:00.725Z"
   },
   {
    "duration": 3,
    "start_time": "2023-05-08T09:23:13.683Z"
   },
   {
    "duration": 10,
    "start_time": "2023-05-08T09:23:13.695Z"
   },
   {
    "duration": 17,
    "start_time": "2023-05-08T09:23:13.707Z"
   },
   {
    "duration": 45,
    "start_time": "2023-05-08T09:23:13.726Z"
   },
   {
    "duration": 10,
    "start_time": "2023-05-08T09:23:13.773Z"
   },
   {
    "duration": 13,
    "start_time": "2023-05-08T09:23:13.785Z"
   },
   {
    "duration": 5,
    "start_time": "2023-05-08T09:23:13.800Z"
   },
   {
    "duration": 26,
    "start_time": "2023-05-08T09:23:13.807Z"
   },
   {
    "duration": 202,
    "start_time": "2023-05-08T09:23:13.835Z"
   },
   {
    "duration": 755,
    "start_time": "2023-05-08T09:23:14.039Z"
   },
   {
    "duration": 709,
    "start_time": "2023-05-08T09:23:14.795Z"
   },
   {
    "duration": 6,
    "start_time": "2023-05-08T09:23:18.516Z"
   },
   {
    "duration": 640,
    "start_time": "2023-05-08T09:23:28.854Z"
   },
   {
    "duration": 47,
    "start_time": "2023-05-08T09:23:29.730Z"
   },
   {
    "duration": 6,
    "start_time": "2023-05-08T09:23:31.579Z"
   },
   {
    "duration": 697,
    "start_time": "2023-05-08T09:35:24.412Z"
   },
   {
    "duration": 710,
    "start_time": "2023-05-08T09:35:27.088Z"
   },
   {
    "duration": 6,
    "start_time": "2023-05-08T09:35:30.939Z"
   },
   {
    "duration": 679,
    "start_time": "2023-05-08T09:36:21.964Z"
   },
   {
    "duration": 413,
    "start_time": "2023-05-08T09:36:24.482Z"
   },
   {
    "duration": 1726,
    "start_time": "2023-05-08T09:36:27.818Z"
   },
   {
    "duration": 1849,
    "start_time": "2023-05-08T09:36:29.546Z"
   },
   {
    "duration": 7,
    "start_time": "2023-05-08T09:36:34.392Z"
   },
   {
    "duration": 1462,
    "start_time": "2023-05-08T09:36:38.259Z"
   },
   {
    "duration": 629,
    "start_time": "2023-05-08T09:36:40.472Z"
   },
   {
    "duration": 7,
    "start_time": "2023-05-08T09:36:43.725Z"
   },
   {
    "duration": 2634,
    "start_time": "2023-05-08T09:36:47.127Z"
   },
   {
    "duration": 2007,
    "start_time": "2023-05-08T09:36:50.590Z"
   },
   {
    "duration": 7,
    "start_time": "2023-05-08T09:36:54.397Z"
   },
   {
    "duration": 2991,
    "start_time": "2023-05-08T09:36:57.303Z"
   },
   {
    "duration": 2424,
    "start_time": "2023-05-08T09:37:00.877Z"
   },
   {
    "duration": 6,
    "start_time": "2023-05-08T09:37:05.184Z"
   },
   {
    "duration": 5631,
    "start_time": "2023-05-08T09:44:53.227Z"
   },
   {
    "duration": 2471,
    "start_time": "2023-05-08T09:45:23.326Z"
   },
   {
    "duration": 6,
    "start_time": "2023-05-08T09:45:28.092Z"
   },
   {
    "duration": 13,
    "start_time": "2023-05-08T09:47:06.516Z"
   },
   {
    "duration": 28,
    "start_time": "2023-05-08T09:47:06.531Z"
   },
   {
    "duration": 3,
    "start_time": "2023-05-08T09:47:06.560Z"
   },
   {
    "duration": 14264,
    "start_time": "2023-05-08T09:47:06.565Z"
   },
   {
    "duration": 3,
    "start_time": "2023-05-08T09:47:20.831Z"
   },
   {
    "duration": 13,
    "start_time": "2023-05-08T09:47:20.836Z"
   },
   {
    "duration": 4,
    "start_time": "2023-05-08T09:47:20.851Z"
   },
   {
    "duration": 36,
    "start_time": "2023-05-08T09:47:20.856Z"
   },
   {
    "duration": 11,
    "start_time": "2023-05-08T09:47:20.893Z"
   },
   {
    "duration": 10,
    "start_time": "2023-05-08T09:47:20.906Z"
   },
   {
    "duration": 202,
    "start_time": "2023-05-08T09:47:20.917Z"
   },
   {
    "duration": 3382,
    "start_time": "2023-05-08T09:47:21.121Z"
   },
   {
    "duration": 2398,
    "start_time": "2023-05-08T09:47:24.504Z"
   },
   {
    "duration": 45,
    "start_time": "2023-05-08T09:47:44.925Z"
   },
   {
    "duration": 2893,
    "start_time": "2023-05-08T09:47:49.405Z"
   },
   {
    "duration": 26,
    "start_time": "2023-05-08T09:48:12.430Z"
   },
   {
    "duration": 11,
    "start_time": "2023-05-08T09:48:12.458Z"
   },
   {
    "duration": 10,
    "start_time": "2023-05-08T09:48:12.471Z"
   },
   {
    "duration": 3,
    "start_time": "2023-05-08T09:48:12.483Z"
   },
   {
    "duration": 5,
    "start_time": "2023-05-08T09:48:12.488Z"
   },
   {
    "duration": 6,
    "start_time": "2023-05-08T09:48:12.495Z"
   },
   {
    "duration": 311,
    "start_time": "2023-05-08T09:48:12.503Z"
   },
   {
    "duration": 4159,
    "start_time": "2023-05-08T09:48:12.816Z"
   },
   {
    "duration": 2818,
    "start_time": "2023-05-08T09:48:16.977Z"
   },
   {
    "duration": 6,
    "start_time": "2023-05-08T09:48:22.512Z"
   },
   {
    "duration": 2807,
    "start_time": "2023-05-08T09:51:37.788Z"
   },
   {
    "duration": 0,
    "start_time": "2023-05-08T09:53:12.898Z"
   },
   {
    "duration": 11297,
    "start_time": "2023-05-08T09:53:45.398Z"
   },
   {
    "duration": 4690,
    "start_time": "2023-05-08T10:06:14.211Z"
   },
   {
    "duration": 12,
    "start_time": "2023-05-08T10:07:15.878Z"
   },
   {
    "duration": 12,
    "start_time": "2023-05-08T10:07:26.016Z"
   },
   {
    "duration": 771,
    "start_time": "2023-05-08T10:07:39.884Z"
   },
   {
    "duration": 32942,
    "start_time": "2023-05-08T10:07:44.118Z"
   },
   {
    "duration": 9250,
    "start_time": "2023-05-08T10:08:56.282Z"
   },
   {
    "duration": 4138,
    "start_time": "2023-05-08T10:09:11.664Z"
   },
   {
    "duration": 306639,
    "start_time": "2023-05-08T10:09:34.307Z"
   },
   {
    "duration": 21,
    "start_time": "2023-05-08T10:15:07.086Z"
   },
   {
    "duration": 39261,
    "start_time": "2023-05-08T10:15:21.417Z"
   },
   {
    "duration": 18554,
    "start_time": "2023-05-08T10:16:07.256Z"
   },
   {
    "duration": 18794,
    "start_time": "2023-05-08T10:16:42.020Z"
   },
   {
    "duration": 2999,
    "start_time": "2023-05-08T10:17:07.013Z"
   },
   {
    "duration": 1068,
    "start_time": "2023-05-08T10:17:13.842Z"
   },
   {
    "duration": 40997,
    "start_time": "2023-05-08T10:18:43.108Z"
   },
   {
    "duration": 33744,
    "start_time": "2023-05-08T10:20:47.051Z"
   },
   {
    "duration": 4140,
    "start_time": "2023-05-08T10:23:38.464Z"
   },
   {
    "duration": 1100,
    "start_time": "2023-05-08T10:24:04.923Z"
   },
   {
    "duration": 2710,
    "start_time": "2023-05-08T10:25:15.884Z"
   },
   {
    "duration": 3097,
    "start_time": "2023-05-08T10:25:26.318Z"
   },
   {
    "duration": 2601,
    "start_time": "2023-05-08T10:25:47.093Z"
   },
   {
    "duration": 101689,
    "start_time": "2023-05-08T10:26:03.432Z"
   },
   {
    "duration": 612718,
    "start_time": "2023-05-08T10:27:52.345Z"
   },
   {
    "duration": 7,
    "start_time": "2023-05-08T10:38:56.234Z"
   },
   {
    "duration": 490,
    "start_time": "2023-05-08T10:38:56.862Z"
   },
   {
    "duration": 615873,
    "start_time": "2023-05-08T10:39:04.467Z"
   },
   {
    "duration": 507,
    "start_time": "2023-05-08T10:56:07.745Z"
   },
   {
    "duration": 10,
    "start_time": "2023-05-08T10:56:34.406Z"
   },
   {
    "duration": 6,
    "start_time": "2023-05-08T10:56:34.418Z"
   },
   {
    "duration": 7,
    "start_time": "2023-05-08T10:56:34.425Z"
   },
   {
    "duration": 9482,
    "start_time": "2023-05-08T10:56:34.434Z"
   },
   {
    "duration": 4,
    "start_time": "2023-05-08T10:56:43.919Z"
   },
   {
    "duration": 20,
    "start_time": "2023-05-08T10:56:43.924Z"
   },
   {
    "duration": 7,
    "start_time": "2023-05-08T10:56:43.946Z"
   },
   {
    "duration": 30,
    "start_time": "2023-05-08T10:56:43.955Z"
   },
   {
    "duration": 12,
    "start_time": "2023-05-08T10:56:43.987Z"
   },
   {
    "duration": 35,
    "start_time": "2023-05-08T10:56:44.001Z"
   },
   {
    "duration": 3,
    "start_time": "2023-05-08T10:56:44.038Z"
   },
   {
    "duration": 14,
    "start_time": "2023-05-08T10:56:44.043Z"
   },
   {
    "duration": 15,
    "start_time": "2023-05-08T10:56:44.059Z"
   },
   {
    "duration": 123,
    "start_time": "2023-05-08T10:56:44.077Z"
   },
   {
    "duration": 1414,
    "start_time": "2023-05-08T10:56:44.202Z"
   },
   {
    "duration": 677,
    "start_time": "2023-05-08T10:56:45.618Z"
   },
   {
    "duration": 482,
    "start_time": "2023-05-08T11:39:36.458Z"
   },
   {
    "duration": 402,
    "start_time": "2023-05-08T11:39:37.592Z"
   },
   {
    "duration": 36199,
    "start_time": "2023-05-08T11:39:39.059Z"
   },
   {
    "duration": 28,
    "start_time": "2023-05-08T11:40:22.830Z"
   },
   {
    "duration": 28,
    "start_time": "2023-05-08T11:40:30.207Z"
   },
   {
    "duration": 66,
    "start_time": "2023-05-08T11:41:25.753Z"
   },
   {
    "duration": 1338,
    "start_time": "2023-05-08T11:42:55.364Z"
   },
   {
    "duration": 10,
    "start_time": "2023-05-08T11:44:58.541Z"
   },
   {
    "duration": 39,
    "start_time": "2023-05-08T11:44:58.553Z"
   },
   {
    "duration": 5,
    "start_time": "2023-05-08T11:44:58.596Z"
   },
   {
    "duration": 8991,
    "start_time": "2023-05-08T11:44:58.607Z"
   },
   {
    "duration": 3,
    "start_time": "2023-05-08T11:45:07.601Z"
   },
   {
    "duration": 8,
    "start_time": "2023-05-08T11:45:07.607Z"
   },
   {
    "duration": 5,
    "start_time": "2023-05-08T11:45:07.617Z"
   },
   {
    "duration": 18,
    "start_time": "2023-05-08T11:45:07.624Z"
   },
   {
    "duration": 9,
    "start_time": "2023-05-08T11:45:07.644Z"
   },
   {
    "duration": 9,
    "start_time": "2023-05-08T11:45:07.654Z"
   },
   {
    "duration": 31,
    "start_time": "2023-05-08T11:45:07.664Z"
   },
   {
    "duration": 7,
    "start_time": "2023-05-08T11:45:07.706Z"
   },
   {
    "duration": 6,
    "start_time": "2023-05-08T11:45:07.716Z"
   },
   {
    "duration": 125,
    "start_time": "2023-05-08T11:45:07.725Z"
   },
   {
    "duration": 545,
    "start_time": "2023-05-08T11:45:07.852Z"
   },
   {
    "duration": 495,
    "start_time": "2023-05-08T11:45:08.403Z"
   },
   {
    "duration": 6,
    "start_time": "2023-05-08T11:45:37.723Z"
   },
   {
    "duration": 11,
    "start_time": "2023-05-08T11:46:14.864Z"
   },
   {
    "duration": 29,
    "start_time": "2023-05-08T11:46:14.878Z"
   },
   {
    "duration": 4,
    "start_time": "2023-05-08T11:46:14.909Z"
   },
   {
    "duration": 9309,
    "start_time": "2023-05-08T11:46:14.915Z"
   },
   {
    "duration": 4,
    "start_time": "2023-05-08T11:46:24.227Z"
   },
   {
    "duration": 14,
    "start_time": "2023-05-08T11:46:24.232Z"
   },
   {
    "duration": 6,
    "start_time": "2023-05-08T11:46:24.247Z"
   },
   {
    "duration": 21,
    "start_time": "2023-05-08T11:46:24.255Z"
   },
   {
    "duration": 6,
    "start_time": "2023-05-08T11:46:24.278Z"
   },
   {
    "duration": 31,
    "start_time": "2023-05-08T11:46:24.286Z"
   },
   {
    "duration": 8,
    "start_time": "2023-05-08T11:46:24.319Z"
   },
   {
    "duration": 22,
    "start_time": "2023-05-08T11:46:24.329Z"
   },
   {
    "duration": 8,
    "start_time": "2023-05-08T11:46:24.353Z"
   },
   {
    "duration": 140,
    "start_time": "2023-05-08T11:46:24.363Z"
   },
   {
    "duration": 557,
    "start_time": "2023-05-08T11:46:24.509Z"
   },
   {
    "duration": 346,
    "start_time": "2023-05-08T11:46:25.068Z"
   },
   {
    "duration": 6,
    "start_time": "2023-05-08T11:46:28.035Z"
   },
   {
    "duration": 77871,
    "start_time": "2023-05-08T11:46:36.858Z"
   },
   {
    "duration": 39,
    "start_time": "2023-05-08T11:48:13.737Z"
   },
   {
    "duration": 5,
    "start_time": "2023-05-08T11:48:44.726Z"
   },
   {
    "duration": 5,
    "start_time": "2023-05-08T11:48:44.931Z"
   },
   {
    "duration": 6,
    "start_time": "2023-05-08T11:48:55.249Z"
   },
   {
    "duration": 17938,
    "start_time": "2023-05-08T11:51:24.283Z"
   },
   {
    "duration": 10793,
    "start_time": "2023-05-08T11:51:52.720Z"
   },
   {
    "duration": 935,
    "start_time": "2023-05-08T11:52:46.681Z"
   },
   {
    "duration": 5,
    "start_time": "2023-05-08T11:52:49.829Z"
   },
   {
    "duration": 14,
    "start_time": "2023-05-08T11:53:01.822Z"
   },
   {
    "duration": 46,
    "start_time": "2023-05-08T11:53:01.839Z"
   },
   {
    "duration": 4,
    "start_time": "2023-05-08T11:53:01.888Z"
   },
   {
    "duration": 15382,
    "start_time": "2023-05-08T11:53:01.893Z"
   },
   {
    "duration": 3,
    "start_time": "2023-05-08T11:53:17.277Z"
   },
   {
    "duration": 35,
    "start_time": "2023-05-08T11:53:17.281Z"
   },
   {
    "duration": 8,
    "start_time": "2023-05-08T11:53:17.317Z"
   },
   {
    "duration": 19,
    "start_time": "2023-05-08T11:53:17.327Z"
   },
   {
    "duration": 5,
    "start_time": "2023-05-08T11:53:17.348Z"
   },
   {
    "duration": 11,
    "start_time": "2023-05-08T11:53:17.355Z"
   },
   {
    "duration": 3,
    "start_time": "2023-05-08T11:53:17.367Z"
   },
   {
    "duration": 8,
    "start_time": "2023-05-08T11:53:17.371Z"
   },
   {
    "duration": 7,
    "start_time": "2023-05-08T11:53:17.380Z"
   },
   {
    "duration": 10,
    "start_time": "2023-05-08T11:53:17.398Z"
   },
   {
    "duration": 6,
    "start_time": "2023-05-08T11:53:17.411Z"
   },
   {
    "duration": 196,
    "start_time": "2023-05-08T11:53:17.419Z"
   },
   {
    "duration": 928,
    "start_time": "2023-05-08T11:53:17.617Z"
   },
   {
    "duration": 855,
    "start_time": "2023-05-08T11:53:18.547Z"
   },
   {
    "duration": 7,
    "start_time": "2023-05-08T11:53:23.415Z"
   },
   {
    "duration": 1089,
    "start_time": "2023-05-08T11:53:37.909Z"
   },
   {
    "duration": 844,
    "start_time": "2023-05-08T11:53:47.251Z"
   },
   {
    "duration": 13,
    "start_time": "2023-05-08T11:54:18.418Z"
   },
   {
    "duration": 24,
    "start_time": "2023-05-08T11:54:18.434Z"
   },
   {
    "duration": 3,
    "start_time": "2023-05-08T11:54:18.460Z"
   },
   {
    "duration": 13462,
    "start_time": "2023-05-08T11:54:18.464Z"
   },
   {
    "duration": 4,
    "start_time": "2023-05-08T11:54:31.929Z"
   },
   {
    "duration": 15,
    "start_time": "2023-05-08T11:54:31.934Z"
   },
   {
    "duration": 24,
    "start_time": "2023-05-08T11:54:31.951Z"
   },
   {
    "duration": 54,
    "start_time": "2023-05-08T11:54:31.976Z"
   },
   {
    "duration": 7,
    "start_time": "2023-05-08T11:54:32.032Z"
   },
   {
    "duration": 22,
    "start_time": "2023-05-08T11:54:32.040Z"
   },
   {
    "duration": 13,
    "start_time": "2023-05-08T11:54:32.063Z"
   },
   {
    "duration": 24,
    "start_time": "2023-05-08T11:54:32.078Z"
   },
   {
    "duration": 12,
    "start_time": "2023-05-08T11:54:32.104Z"
   },
   {
    "duration": 19,
    "start_time": "2023-05-08T11:54:32.118Z"
   },
   {
    "duration": 27,
    "start_time": "2023-05-08T11:54:32.138Z"
   },
   {
    "duration": 263,
    "start_time": "2023-05-08T11:54:32.167Z"
   },
   {
    "duration": 1151,
    "start_time": "2023-05-08T11:54:32.432Z"
   },
   {
    "duration": 2229,
    "start_time": "2023-05-08T11:54:33.585Z"
   },
   {
    "duration": 1894,
    "start_time": "2023-05-08T11:54:35.816Z"
   },
   {
    "duration": 14,
    "start_time": "2023-05-08T11:55:29.623Z"
   },
   {
    "duration": 23,
    "start_time": "2023-05-08T11:55:29.638Z"
   },
   {
    "duration": 3,
    "start_time": "2023-05-08T11:55:29.662Z"
   },
   {
    "duration": 17535,
    "start_time": "2023-05-08T11:55:29.667Z"
   },
   {
    "duration": 3,
    "start_time": "2023-05-08T11:55:47.207Z"
   },
   {
    "duration": 32,
    "start_time": "2023-05-08T11:55:47.211Z"
   },
   {
    "duration": 36,
    "start_time": "2023-05-08T11:55:47.245Z"
   },
   {
    "duration": 8,
    "start_time": "2023-05-08T11:55:47.283Z"
   },
   {
    "duration": 16,
    "start_time": "2023-05-08T11:55:47.292Z"
   },
   {
    "duration": 25,
    "start_time": "2023-05-08T11:55:47.310Z"
   },
   {
    "duration": 22,
    "start_time": "2023-05-08T11:55:47.336Z"
   },
   {
    "duration": 26,
    "start_time": "2023-05-08T11:55:47.359Z"
   },
   {
    "duration": 22,
    "start_time": "2023-05-08T11:55:47.386Z"
   },
   {
    "duration": 296,
    "start_time": "2023-05-08T11:55:47.412Z"
   },
   {
    "duration": 1243,
    "start_time": "2023-05-08T11:55:47.710Z"
   },
   {
    "duration": 1158,
    "start_time": "2023-05-08T11:55:48.955Z"
   },
   {
    "duration": 1089,
    "start_time": "2023-05-08T11:56:24.013Z"
   },
   {
    "duration": 6,
    "start_time": "2023-05-08T11:56:36.054Z"
   },
   {
    "duration": 20213,
    "start_time": "2023-05-08T11:57:04.587Z"
   },
   {
    "duration": 919,
    "start_time": "2023-05-08T11:57:59.883Z"
   },
   {
    "duration": 1425,
    "start_time": "2023-05-08T11:58:07.279Z"
   },
   {
    "duration": 6,
    "start_time": "2023-05-08T11:58:18.136Z"
   },
   {
    "duration": 22,
    "start_time": "2023-05-08T11:59:18.691Z"
   },
   {
    "duration": 23,
    "start_time": "2023-05-08T11:59:18.715Z"
   },
   {
    "duration": 2,
    "start_time": "2023-05-08T11:59:18.740Z"
   },
   {
    "duration": 16676,
    "start_time": "2023-05-08T11:59:18.744Z"
   },
   {
    "duration": 3,
    "start_time": "2023-05-08T11:59:35.422Z"
   },
   {
    "duration": 20,
    "start_time": "2023-05-08T11:59:35.426Z"
   },
   {
    "duration": 33,
    "start_time": "2023-05-08T11:59:35.447Z"
   },
   {
    "duration": 6,
    "start_time": "2023-05-08T11:59:35.482Z"
   },
   {
    "duration": 12,
    "start_time": "2023-05-08T11:59:35.498Z"
   },
   {
    "duration": 5,
    "start_time": "2023-05-08T11:59:35.511Z"
   },
   {
    "duration": 13,
    "start_time": "2023-05-08T11:59:35.517Z"
   },
   {
    "duration": 245,
    "start_time": "2023-05-08T11:59:35.533Z"
   },
   {
    "duration": 1156,
    "start_time": "2023-05-08T11:59:35.780Z"
   },
   {
    "duration": 2365,
    "start_time": "2023-05-08T11:59:36.939Z"
   },
   {
    "duration": 1703,
    "start_time": "2023-05-08T11:59:39.306Z"
   },
   {
    "duration": 26115,
    "start_time": "2023-05-08T11:59:50.893Z"
   },
   {
    "duration": 8,
    "start_time": "2023-05-08T12:00:30.774Z"
   },
   {
    "duration": 7,
    "start_time": "2023-05-08T12:04:18.331Z"
   },
   {
    "duration": 4,
    "start_time": "2023-05-08T12:04:37.185Z"
   },
   {
    "duration": 5,
    "start_time": "2023-05-08T12:05:07.837Z"
   },
   {
    "duration": 4,
    "start_time": "2023-05-08T12:05:13.363Z"
   },
   {
    "duration": 4,
    "start_time": "2023-05-08T12:05:18.346Z"
   },
   {
    "duration": 4,
    "start_time": "2023-05-08T12:05:50.026Z"
   },
   {
    "duration": 5,
    "start_time": "2023-05-08T12:05:54.275Z"
   },
   {
    "duration": 4,
    "start_time": "2023-05-08T12:06:57.652Z"
   },
   {
    "duration": 3,
    "start_time": "2023-05-08T12:07:01.817Z"
   },
   {
    "duration": 4,
    "start_time": "2023-05-08T12:07:32.204Z"
   },
   {
    "duration": 15,
    "start_time": "2023-05-08T12:09:07.084Z"
   },
   {
    "duration": 25,
    "start_time": "2023-05-08T12:09:07.101Z"
   },
   {
    "duration": 2,
    "start_time": "2023-05-08T12:09:07.128Z"
   },
   {
    "duration": 9293,
    "start_time": "2023-05-08T12:09:07.132Z"
   },
   {
    "duration": 4,
    "start_time": "2023-05-08T12:09:16.427Z"
   },
   {
    "duration": 8,
    "start_time": "2023-05-08T12:09:16.432Z"
   },
   {
    "duration": 27,
    "start_time": "2023-05-08T12:09:16.441Z"
   },
   {
    "duration": 5,
    "start_time": "2023-05-08T12:09:16.469Z"
   },
   {
    "duration": 20,
    "start_time": "2023-05-08T12:09:16.476Z"
   },
   {
    "duration": 17,
    "start_time": "2023-05-08T12:09:16.500Z"
   },
   {
    "duration": 5,
    "start_time": "2023-05-08T12:09:16.519Z"
   },
   {
    "duration": 129,
    "start_time": "2023-05-08T12:09:16.525Z"
   },
   {
    "duration": 568,
    "start_time": "2023-05-08T12:09:16.656Z"
   },
   {
    "duration": 573,
    "start_time": "2023-05-08T12:09:17.226Z"
   },
   {
    "duration": 615,
    "start_time": "2023-05-08T12:09:17.803Z"
   },
   {
    "duration": 5,
    "start_time": "2023-05-08T12:09:28.456Z"
   },
   {
    "duration": 455,
    "start_time": "2023-05-08T12:09:30.244Z"
   },
   {
    "duration": 6,
    "start_time": "2023-05-08T12:09:32.726Z"
   },
   {
    "duration": 13494,
    "start_time": "2023-05-08T12:09:37.304Z"
   },
   {
    "duration": 10653,
    "start_time": "2023-05-08T12:16:07.859Z"
   },
   {
    "duration": 7428,
    "start_time": "2023-05-08T12:19:30.367Z"
   },
   {
    "duration": 3245,
    "start_time": "2023-05-08T12:19:49.658Z"
   },
   {
    "duration": 1917,
    "start_time": "2023-05-08T12:20:29.980Z"
   },
   {
    "duration": 42539,
    "start_time": "2023-05-08T12:20:58.356Z"
   },
   {
    "duration": 17,
    "start_time": "2023-05-08T12:33:48.761Z"
   },
   {
    "duration": 24,
    "start_time": "2023-05-08T12:33:48.780Z"
   },
   {
    "duration": 9,
    "start_time": "2023-05-08T12:33:48.805Z"
   },
   {
    "duration": 15812,
    "start_time": "2023-05-08T12:33:48.816Z"
   },
   {
    "duration": 4,
    "start_time": "2023-05-08T12:34:04.630Z"
   },
   {
    "duration": 7,
    "start_time": "2023-05-08T12:34:04.635Z"
   },
   {
    "duration": 19,
    "start_time": "2023-05-08T12:34:04.644Z"
   },
   {
    "duration": 7,
    "start_time": "2023-05-08T12:34:04.665Z"
   },
   {
    "duration": 25,
    "start_time": "2023-05-08T12:34:04.674Z"
   },
   {
    "duration": 6,
    "start_time": "2023-05-08T12:34:04.702Z"
   },
   {
    "duration": 6,
    "start_time": "2023-05-08T12:34:04.710Z"
   },
   {
    "duration": 267,
    "start_time": "2023-05-08T12:34:04.718Z"
   },
   {
    "duration": 1180,
    "start_time": "2023-05-08T12:34:04.987Z"
   },
   {
    "duration": 936,
    "start_time": "2023-05-08T12:34:06.169Z"
   },
   {
    "duration": 8,
    "start_time": "2023-05-08T12:36:08.511Z"
   },
   {
    "duration": 2406,
    "start_time": "2023-05-08T12:36:44.195Z"
   },
   {
    "duration": 14,
    "start_time": "2023-05-08T12:36:50.344Z"
   },
   {
    "duration": 23,
    "start_time": "2023-05-08T12:36:50.360Z"
   },
   {
    "duration": 4,
    "start_time": "2023-05-08T12:36:50.385Z"
   },
   {
    "duration": 12754,
    "start_time": "2023-05-08T12:36:50.391Z"
   },
   {
    "duration": 2,
    "start_time": "2023-05-08T12:37:03.148Z"
   },
   {
    "duration": 10,
    "start_time": "2023-05-08T12:37:03.152Z"
   },
   {
    "duration": 31,
    "start_time": "2023-05-08T12:37:03.163Z"
   },
   {
    "duration": 6,
    "start_time": "2023-05-08T12:37:03.196Z"
   },
   {
    "duration": 5,
    "start_time": "2023-05-08T12:37:03.203Z"
   },
   {
    "duration": 8,
    "start_time": "2023-05-08T12:37:03.209Z"
   },
   {
    "duration": 4,
    "start_time": "2023-05-08T12:37:03.218Z"
   },
   {
    "duration": 203,
    "start_time": "2023-05-08T12:37:03.224Z"
   },
   {
    "duration": 854,
    "start_time": "2023-05-08T12:37:03.429Z"
   },
   {
    "duration": 717,
    "start_time": "2023-05-08T12:37:04.286Z"
   },
   {
    "duration": 12,
    "start_time": "2023-05-08T12:37:17.277Z"
   },
   {
    "duration": 26,
    "start_time": "2023-05-08T12:37:17.292Z"
   },
   {
    "duration": 3,
    "start_time": "2023-05-08T12:37:17.319Z"
   },
   {
    "duration": 8752,
    "start_time": "2023-05-08T12:37:17.323Z"
   },
   {
    "duration": 4,
    "start_time": "2023-05-08T12:37:26.077Z"
   },
   {
    "duration": 16,
    "start_time": "2023-05-08T12:37:26.083Z"
   },
   {
    "duration": 23,
    "start_time": "2023-05-08T12:37:26.100Z"
   },
   {
    "duration": 5,
    "start_time": "2023-05-08T12:37:26.125Z"
   },
   {
    "duration": 6,
    "start_time": "2023-05-08T12:37:26.131Z"
   },
   {
    "duration": 7,
    "start_time": "2023-05-08T12:37:26.138Z"
   },
   {
    "duration": 5,
    "start_time": "2023-05-08T12:37:26.147Z"
   },
   {
    "duration": 156,
    "start_time": "2023-05-08T12:37:26.153Z"
   },
   {
    "duration": 559,
    "start_time": "2023-05-08T12:37:26.312Z"
   },
   {
    "duration": 422,
    "start_time": "2023-05-08T12:37:26.873Z"
   },
   {
    "duration": 12,
    "start_time": "2023-05-08T12:37:36.317Z"
   },
   {
    "duration": 39,
    "start_time": "2023-05-08T12:37:36.331Z"
   },
   {
    "duration": 4,
    "start_time": "2023-05-08T12:37:36.371Z"
   },
   {
    "duration": 7590,
    "start_time": "2023-05-08T12:37:36.376Z"
   },
   {
    "duration": 4,
    "start_time": "2023-05-08T12:37:43.969Z"
   },
   {
    "duration": 15,
    "start_time": "2023-05-08T12:37:43.974Z"
   },
   {
    "duration": 21,
    "start_time": "2023-05-08T12:37:43.995Z"
   },
   {
    "duration": 5,
    "start_time": "2023-05-08T12:37:44.018Z"
   },
   {
    "duration": 26,
    "start_time": "2023-05-08T12:37:44.025Z"
   },
   {
    "duration": 39,
    "start_time": "2023-05-08T12:37:44.053Z"
   },
   {
    "duration": 26,
    "start_time": "2023-05-08T12:37:44.094Z"
   },
   {
    "duration": 123,
    "start_time": "2023-05-08T12:37:44.121Z"
   },
   {
    "duration": 507,
    "start_time": "2023-05-08T12:37:44.246Z"
   },
   {
    "duration": 540,
    "start_time": "2023-05-08T12:37:44.756Z"
   },
   {
    "duration": 279,
    "start_time": "2023-05-08T12:37:54.416Z"
   },
   {
    "duration": 10765,
    "start_time": "2023-05-08T12:38:16.330Z"
   },
   {
    "duration": 246,
    "start_time": "2023-05-08T12:39:19.349Z"
   },
   {
    "duration": 5,
    "start_time": "2023-05-08T12:39:22.217Z"
   },
   {
    "duration": 5260,
    "start_time": "2023-05-08T12:39:36.036Z"
   },
   {
    "duration": 307,
    "start_time": "2023-05-08T12:40:49.791Z"
   },
   {
    "duration": 6,
    "start_time": "2023-05-08T12:40:52.780Z"
   },
   {
    "duration": 166551,
    "start_time": "2023-05-08T12:44:35.429Z"
   },
   {
    "duration": 20605,
    "start_time": "2023-05-08T12:47:49.849Z"
   },
   {
    "duration": 6,
    "start_time": "2023-05-08T12:48:32.012Z"
   },
   {
    "duration": 29,
    "start_time": "2023-05-08T12:48:32.451Z"
   },
   {
    "duration": 3,
    "start_time": "2023-05-08T12:49:02.134Z"
   },
   {
    "duration": 12,
    "start_time": "2023-05-08T12:49:02.139Z"
   },
   {
    "duration": 682,
    "start_time": "2023-05-08T12:49:02.152Z"
   },
   {
    "duration": 25,
    "start_time": "2023-05-08T12:49:02.836Z"
   },
   {
    "duration": 13,
    "start_time": "2023-05-08T12:49:02.862Z"
   },
   {
    "duration": 197,
    "start_time": "2023-05-08T12:49:02.877Z"
   },
   {
    "duration": 18,
    "start_time": "2023-05-08T12:49:03.076Z"
   },
   {
    "duration": 26,
    "start_time": "2023-05-08T12:49:03.096Z"
   },
   {
    "duration": 4,
    "start_time": "2023-05-08T12:49:03.123Z"
   },
   {
    "duration": 6873,
    "start_time": "2023-05-08T12:49:03.128Z"
   },
   {
    "duration": 4,
    "start_time": "2023-05-08T12:49:10.003Z"
   },
   {
    "duration": 18,
    "start_time": "2023-05-08T12:49:10.008Z"
   },
   {
    "duration": 16,
    "start_time": "2023-05-08T12:49:10.028Z"
   },
   {
    "duration": 6,
    "start_time": "2023-05-08T12:49:10.047Z"
   },
   {
    "duration": 5,
    "start_time": "2023-05-08T12:49:10.055Z"
   },
   {
    "duration": 5,
    "start_time": "2023-05-08T12:49:10.062Z"
   },
   {
    "duration": 26,
    "start_time": "2023-05-08T12:49:10.069Z"
   },
   {
    "duration": 108,
    "start_time": "2023-05-08T12:49:10.097Z"
   },
   {
    "duration": 464,
    "start_time": "2023-05-08T12:49:10.207Z"
   },
   {
    "duration": 5326,
    "start_time": "2023-05-08T12:49:10.673Z"
   },
   {
    "duration": 394,
    "start_time": "2023-05-08T12:49:16.001Z"
   },
   {
    "duration": 20081,
    "start_time": "2023-05-08T12:49:16.397Z"
   },
   {
    "duration": 5,
    "start_time": "2023-05-08T12:49:36.480Z"
   },
   {
    "duration": 29,
    "start_time": "2023-05-08T12:49:36.487Z"
   },
   {
    "duration": 2118,
    "start_time": "2023-05-09T06:15:36.232Z"
   },
   {
    "duration": 860,
    "start_time": "2023-05-09T06:15:38.352Z"
   },
   {
    "duration": 35,
    "start_time": "2023-05-09T06:15:39.214Z"
   },
   {
    "duration": 19,
    "start_time": "2023-05-09T06:15:39.251Z"
   },
   {
    "duration": 243,
    "start_time": "2023-05-09T06:15:39.273Z"
   },
   {
    "duration": 16,
    "start_time": "2023-05-09T06:15:39.518Z"
   },
   {
    "duration": 12,
    "start_time": "2023-05-09T06:15:39.536Z"
   },
   {
    "duration": 18,
    "start_time": "2023-05-09T06:15:39.549Z"
   },
   {
    "duration": 681,
    "start_time": "2023-05-09T06:15:39.569Z"
   },
   {
    "duration": 11,
    "start_time": "2023-05-09T06:15:40.252Z"
   },
   {
    "duration": 9,
    "start_time": "2023-05-09T06:16:48.098Z"
   },
   {
    "duration": 11,
    "start_time": "2023-05-09T06:16:59.846Z"
   },
   {
    "duration": 969,
    "start_time": "2023-05-09T06:19:11.425Z"
   },
   {
    "duration": 1461,
    "start_time": "2023-05-09T06:19:34.178Z"
   },
   {
    "duration": 6,
    "start_time": "2023-05-09T06:20:31.081Z"
   },
   {
    "duration": 4,
    "start_time": "2023-05-09T06:21:29.675Z"
   },
   {
    "duration": 5,
    "start_time": "2023-05-09T06:21:40.354Z"
   },
   {
    "duration": 5,
    "start_time": "2023-05-09T06:27:43.157Z"
   },
   {
    "duration": 867,
    "start_time": "2023-05-09T06:27:43.164Z"
   },
   {
    "duration": 32,
    "start_time": "2023-05-09T06:27:44.036Z"
   },
   {
    "duration": 30,
    "start_time": "2023-05-09T06:27:44.070Z"
   },
   {
    "duration": 242,
    "start_time": "2023-05-09T06:27:44.104Z"
   },
   {
    "duration": 9,
    "start_time": "2023-05-09T06:27:44.348Z"
   },
   {
    "duration": 28,
    "start_time": "2023-05-09T06:27:44.359Z"
   },
   {
    "duration": 3,
    "start_time": "2023-05-09T06:27:44.389Z"
   },
   {
    "duration": 745,
    "start_time": "2023-05-09T06:27:44.394Z"
   },
   {
    "duration": 7,
    "start_time": "2023-05-09T06:27:45.141Z"
   },
   {
    "duration": 20,
    "start_time": "2023-05-09T06:27:45.150Z"
   },
   {
    "duration": 30,
    "start_time": "2023-05-09T06:27:45.172Z"
   },
   {
    "duration": 23,
    "start_time": "2023-05-09T06:27:45.204Z"
   },
   {
    "duration": 8,
    "start_time": "2023-05-09T06:27:45.229Z"
   },
   {
    "duration": 11,
    "start_time": "2023-05-09T06:27:45.238Z"
   },
   {
    "duration": 10,
    "start_time": "2023-05-09T06:27:45.250Z"
   },
   {
    "duration": 11,
    "start_time": "2023-05-09T06:27:45.262Z"
   },
   {
    "duration": 11,
    "start_time": "2023-05-09T06:27:45.275Z"
   },
   {
    "duration": 29,
    "start_time": "2023-05-09T06:27:45.287Z"
   },
   {
    "duration": 2282,
    "start_time": "2023-05-09T06:28:19.576Z"
   },
   {
    "duration": 869,
    "start_time": "2023-05-09T06:28:21.860Z"
   },
   {
    "duration": 31,
    "start_time": "2023-05-09T06:28:22.731Z"
   },
   {
    "duration": 18,
    "start_time": "2023-05-09T06:28:22.764Z"
   },
   {
    "duration": 234,
    "start_time": "2023-05-09T06:28:22.785Z"
   },
   {
    "duration": 20,
    "start_time": "2023-05-09T06:28:23.021Z"
   },
   {
    "duration": 10,
    "start_time": "2023-05-09T06:28:23.042Z"
   },
   {
    "duration": 11,
    "start_time": "2023-05-09T06:28:23.053Z"
   },
   {
    "duration": 7873,
    "start_time": "2023-05-09T06:28:23.066Z"
   },
   {
    "duration": 6,
    "start_time": "2023-05-09T06:28:30.940Z"
   },
   {
    "duration": 73,
    "start_time": "2023-05-09T06:28:30.948Z"
   },
   {
    "duration": 35,
    "start_time": "2023-05-09T06:28:31.022Z"
   },
   {
    "duration": 32,
    "start_time": "2023-05-09T06:28:31.059Z"
   },
   {
    "duration": 26,
    "start_time": "2023-05-09T06:28:31.094Z"
   },
   {
    "duration": 23,
    "start_time": "2023-05-09T06:28:31.122Z"
   },
   {
    "duration": 22,
    "start_time": "2023-05-09T06:28:31.147Z"
   },
   {
    "duration": 36,
    "start_time": "2023-05-09T06:28:31.171Z"
   },
   {
    "duration": 145,
    "start_time": "2023-05-09T06:28:31.209Z"
   },
   {
    "duration": 468,
    "start_time": "2023-05-09T06:28:31.356Z"
   },
   {
    "duration": 140,
    "start_time": "2023-05-09T06:28:43.810Z"
   },
   {
    "duration": 7,
    "start_time": "2023-05-09T06:28:46.927Z"
   },
   {
    "duration": 1503,
    "start_time": "2023-05-09T09:46:25.858Z"
   },
   {
    "duration": 2488,
    "start_time": "2023-05-09T09:46:27.364Z"
   },
   {
    "duration": 44,
    "start_time": "2023-05-09T09:46:29.855Z"
   },
   {
    "duration": 20,
    "start_time": "2023-05-09T09:46:29.901Z"
   },
   {
    "duration": 275,
    "start_time": "2023-05-09T09:46:29.923Z"
   },
   {
    "duration": 12,
    "start_time": "2023-05-09T09:46:30.201Z"
   },
   {
    "duration": 10,
    "start_time": "2023-05-09T09:46:30.215Z"
   },
   {
    "duration": 20,
    "start_time": "2023-05-09T09:46:30.227Z"
   },
   {
    "duration": 9841,
    "start_time": "2023-05-09T09:46:30.248Z"
   },
   {
    "duration": 6,
    "start_time": "2023-05-09T09:46:40.091Z"
   },
   {
    "duration": 4369,
    "start_time": "2023-05-09T09:46:43.768Z"
   },
   {
    "duration": 495,
    "start_time": "2023-05-09T09:47:22.910Z"
   },
   {
    "duration": 831,
    "start_time": "2023-05-09T09:47:42.616Z"
   },
   {
    "duration": 26,
    "start_time": "2023-05-09T09:48:08.629Z"
   },
   {
    "duration": 34,
    "start_time": "2023-05-09T09:48:32.591Z"
   },
   {
    "duration": 18,
    "start_time": "2023-05-09T09:49:10.799Z"
   },
   {
    "duration": 13,
    "start_time": "2023-05-09T09:49:41.125Z"
   },
   {
    "duration": 482,
    "start_time": "2023-05-09T09:49:41.141Z"
   },
   {
    "duration": 4,
    "start_time": "2023-05-09T09:49:41.626Z"
   },
   {
    "duration": 354,
    "start_time": "2023-05-09T09:49:41.632Z"
   },
   {
    "duration": 0,
    "start_time": "2023-05-09T09:49:41.988Z"
   },
   {
    "duration": 12,
    "start_time": "2023-05-09T09:50:00.158Z"
   },
   {
    "duration": 760,
    "start_time": "2023-05-09T09:50:00.173Z"
   },
   {
    "duration": 4,
    "start_time": "2023-05-09T09:50:00.936Z"
   },
   {
    "duration": 424,
    "start_time": "2023-05-09T09:50:00.942Z"
   },
   {
    "duration": 10,
    "start_time": "2023-05-09T09:50:39.491Z"
   },
   {
    "duration": 515,
    "start_time": "2023-05-09T09:50:39.503Z"
   },
   {
    "duration": 3,
    "start_time": "2023-05-09T09:50:40.021Z"
   },
   {
    "duration": 385,
    "start_time": "2023-05-09T09:50:40.025Z"
   },
   {
    "duration": 12,
    "start_time": "2023-05-09T09:51:38.980Z"
   },
   {
    "duration": 582,
    "start_time": "2023-05-09T09:51:38.994Z"
   },
   {
    "duration": 6,
    "start_time": "2023-05-09T09:51:39.578Z"
   },
   {
    "duration": 118891,
    "start_time": "2023-05-09T09:51:39.586Z"
   },
   {
    "duration": 9,
    "start_time": "2023-05-09T09:53:45.025Z"
   },
   {
    "duration": 37,
    "start_time": "2023-05-09T09:54:12.027Z"
   },
   {
    "duration": 532,
    "start_time": "2023-05-09T09:54:12.069Z"
   },
   {
    "duration": 3,
    "start_time": "2023-05-09T09:54:12.603Z"
   },
   {
    "duration": 417,
    "start_time": "2023-05-09T09:54:12.609Z"
   },
   {
    "duration": 17,
    "start_time": "2023-05-09T09:59:45.523Z"
   },
   {
    "duration": 13,
    "start_time": "2023-05-09T10:00:18.656Z"
   },
   {
    "duration": 10,
    "start_time": "2023-05-09T10:00:23.688Z"
   },
   {
    "duration": 497,
    "start_time": "2023-05-09T10:00:23.701Z"
   },
   {
    "duration": 4,
    "start_time": "2023-05-09T10:00:24.199Z"
   },
   {
    "duration": 375,
    "start_time": "2023-05-09T10:00:24.204Z"
   },
   {
    "duration": 11,
    "start_time": "2023-05-09T10:00:52.751Z"
   },
   {
    "duration": 443,
    "start_time": "2023-05-09T10:00:52.765Z"
   },
   {
    "duration": 3,
    "start_time": "2023-05-09T10:00:53.210Z"
   },
   {
    "duration": 416,
    "start_time": "2023-05-09T10:00:53.215Z"
   },
   {
    "duration": 12,
    "start_time": "2023-05-09T10:01:21.431Z"
   },
   {
    "duration": 480,
    "start_time": "2023-05-09T10:01:21.446Z"
   },
   {
    "duration": 3,
    "start_time": "2023-05-09T10:01:21.927Z"
   },
   {
    "duration": 134330,
    "start_time": "2023-05-09T10:01:21.932Z"
   },
   {
    "duration": 10,
    "start_time": "2023-05-09T10:03:41.825Z"
   },
   {
    "duration": 7,
    "start_time": "2023-05-09T10:03:52.362Z"
   },
   {
    "duration": 8,
    "start_time": "2023-05-09T10:04:06.936Z"
   },
   {
    "duration": 15,
    "start_time": "2023-05-09T10:04:40.288Z"
   },
   {
    "duration": 652,
    "start_time": "2023-05-09T10:04:40.305Z"
   },
   {
    "duration": 701,
    "start_time": "2023-05-09T10:04:40.959Z"
   },
   {
    "duration": 4,
    "start_time": "2023-05-09T10:04:41.662Z"
   },
   {
    "duration": 133440,
    "start_time": "2023-05-09T10:04:41.682Z"
   },
   {
    "duration": 8,
    "start_time": "2023-05-09T10:06:55.126Z"
   },
   {
    "duration": 38,
    "start_time": "2023-05-09T10:07:56.624Z"
   },
   {
    "duration": 529,
    "start_time": "2023-05-09T10:07:56.666Z"
   },
   {
    "duration": 519,
    "start_time": "2023-05-09T10:07:57.197Z"
   },
   {
    "duration": 3,
    "start_time": "2023-05-09T10:07:57.717Z"
   },
   {
    "duration": 398,
    "start_time": "2023-05-09T10:07:57.723Z"
   },
   {
    "duration": 0,
    "start_time": "2023-05-09T10:07:58.122Z"
   },
   {
    "duration": 10,
    "start_time": "2023-05-09T10:08:10.001Z"
   },
   {
    "duration": 556,
    "start_time": "2023-05-09T10:08:10.013Z"
   },
   {
    "duration": 543,
    "start_time": "2023-05-09T10:08:10.571Z"
   },
   {
    "duration": 5,
    "start_time": "2023-05-09T10:08:11.116Z"
   },
   {
    "duration": 123677,
    "start_time": "2023-05-09T10:08:11.123Z"
   },
   {
    "duration": 8,
    "start_time": "2023-05-09T10:10:40.581Z"
   },
   {
    "duration": 4,
    "start_time": "2023-05-09T10:11:09.015Z"
   },
   {
    "duration": 989,
    "start_time": "2023-05-09T10:11:09.022Z"
   },
   {
    "duration": 41,
    "start_time": "2023-05-09T10:11:10.016Z"
   },
   {
    "duration": 47,
    "start_time": "2023-05-09T10:11:10.059Z"
   },
   {
    "duration": 265,
    "start_time": "2023-05-09T10:11:10.109Z"
   },
   {
    "duration": 24,
    "start_time": "2023-05-09T10:11:10.376Z"
   },
   {
    "duration": 524,
    "start_time": "2023-05-09T10:11:10.403Z"
   },
   {
    "duration": 497,
    "start_time": "2023-05-09T10:11:10.929Z"
   },
   {
    "duration": 5,
    "start_time": "2023-05-09T10:11:11.428Z"
   },
   {
    "duration": 123611,
    "start_time": "2023-05-09T10:11:11.435Z"
   },
   {
    "duration": 7,
    "start_time": "2023-05-09T10:13:15.049Z"
   },
   {
    "duration": 38,
    "start_time": "2023-05-09T10:13:15.058Z"
   },
   {
    "duration": 28,
    "start_time": "2023-05-09T10:13:15.098Z"
   },
   {
    "duration": 16,
    "start_time": "2023-05-09T10:13:15.131Z"
   },
   {
    "duration": 30,
    "start_time": "2023-05-09T10:13:15.149Z"
   },
   {
    "duration": 46,
    "start_time": "2023-05-09T10:13:15.181Z"
   },
   {
    "duration": 24,
    "start_time": "2023-05-09T10:13:15.229Z"
   },
   {
    "duration": 28,
    "start_time": "2023-05-09T10:13:15.255Z"
   },
   {
    "duration": 38,
    "start_time": "2023-05-09T10:13:15.285Z"
   },
   {
    "duration": 343,
    "start_time": "2023-05-09T10:13:15.325Z"
   },
   {
    "duration": 3631,
    "start_time": "2023-05-09T10:13:15.670Z"
   },
   {
    "duration": 280,
    "start_time": "2023-05-09T10:13:19.303Z"
   },
   {
    "duration": 21865,
    "start_time": "2023-05-09T10:13:19.586Z"
   },
   {
    "duration": 7,
    "start_time": "2023-05-09T10:13:41.453Z"
   },
   {
    "duration": 50,
    "start_time": "2023-05-09T10:13:41.462Z"
   },
   {
    "duration": 473,
    "start_time": "2023-05-09T10:14:20.524Z"
   },
   {
    "duration": 8,
    "start_time": "2023-05-09T10:14:23.390Z"
   },
   {
    "duration": 237,
    "start_time": "2023-05-09T10:14:27.257Z"
   }
  ],
  "kernelspec": {
   "display_name": "Python 3 (ipykernel)",
   "language": "python",
   "name": "python3"
  },
  "language_info": {
   "codemirror_mode": {
    "name": "ipython",
    "version": 3
   },
   "file_extension": ".py",
   "mimetype": "text/x-python",
   "name": "python",
   "nbconvert_exporter": "python",
   "pygments_lexer": "ipython3",
   "version": "3.10.9"
  },
  "toc": {
   "base_numbering": 1,
   "nav_menu": {},
   "number_sections": true,
   "sideBar": true,
   "skip_h1_title": true,
   "title_cell": "Содержание",
   "title_sidebar": "Contents",
   "toc_cell": true,
   "toc_position": {
    "height": "calc(100% - 180px)",
    "left": "10px",
    "top": "150px",
    "width": "302.391px"
   },
   "toc_section_display": true,
   "toc_window_display": true
  }
 },
 "nbformat": 4,
 "nbformat_minor": 2
}
