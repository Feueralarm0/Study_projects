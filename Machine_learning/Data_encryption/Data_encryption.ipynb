{
 "cells": [
  {
   "cell_type": "markdown",
   "metadata": {},
   "source": [
    "# Защита персональных данных клиентов"
   ]
  },
  {
   "cell_type": "markdown",
   "metadata": {},
   "source": [
    "Вам нужно защитить данные клиентов страховой компании «Хоть потоп». Разработайте такой метод преобразования данных, чтобы по ним было сложно восстановить персональную информацию. Обоснуйте корректность его работы.\n",
    "\n",
    "Нужно защитить данные, чтобы при преобразовании качество моделей машинного обучения не ухудшилось. Подбирать наилучшую модель не требуется."
   ]
  },
  {
   "cell_type": "markdown",
   "metadata": {},
   "source": [
    "## Загрузка данных"
   ]
  },
  {
   "cell_type": "code",
   "execution_count": 1,
   "metadata": {},
   "outputs": [],
   "source": [
    "import numpy as np\n",
    "import pandas as pd\n",
    "from sklearn.linear_model import LinearRegression\n",
    "from sklearn.model_selection import train_test_split\n",
    "from sklearn.metrics import r2_score"
   ]
  },
  {
   "cell_type": "code",
   "execution_count": 12,
   "metadata": {},
   "outputs": [
    {
     "name": "stdout",
     "output_type": "stream",
     "text": [
      "CPU times: user 164 µs, sys: 0 ns, total: 164 µs\n",
      "Wall time: 168 µs\n"
     ]
    },
    {
     "data": {
      "text/html": [
       "<div>\n",
       "<style scoped>\n",
       "    .dataframe tbody tr th:only-of-type {\n",
       "        vertical-align: middle;\n",
       "    }\n",
       "\n",
       "    .dataframe tbody tr th {\n",
       "        vertical-align: top;\n",
       "    }\n",
       "\n",
       "    .dataframe thead th {\n",
       "        text-align: right;\n",
       "    }\n",
       "</style>\n",
       "<table border=\"1\" class=\"dataframe\">\n",
       "  <thead>\n",
       "    <tr style=\"text-align: right;\">\n",
       "      <th></th>\n",
       "      <th>Пол</th>\n",
       "      <th>Возраст</th>\n",
       "      <th>Зарплата</th>\n",
       "      <th>Члены семьи</th>\n",
       "      <th>Страховые выплаты</th>\n",
       "    </tr>\n",
       "  </thead>\n",
       "  <tbody>\n",
       "    <tr>\n",
       "      <th>0</th>\n",
       "      <td>1</td>\n",
       "      <td>41.0</td>\n",
       "      <td>49600.0</td>\n",
       "      <td>1</td>\n",
       "      <td>0</td>\n",
       "    </tr>\n",
       "    <tr>\n",
       "      <th>1</th>\n",
       "      <td>0</td>\n",
       "      <td>46.0</td>\n",
       "      <td>38000.0</td>\n",
       "      <td>1</td>\n",
       "      <td>1</td>\n",
       "    </tr>\n",
       "    <tr>\n",
       "      <th>2</th>\n",
       "      <td>0</td>\n",
       "      <td>29.0</td>\n",
       "      <td>21000.0</td>\n",
       "      <td>0</td>\n",
       "      <td>0</td>\n",
       "    </tr>\n",
       "    <tr>\n",
       "      <th>3</th>\n",
       "      <td>0</td>\n",
       "      <td>21.0</td>\n",
       "      <td>41700.0</td>\n",
       "      <td>2</td>\n",
       "      <td>0</td>\n",
       "    </tr>\n",
       "    <tr>\n",
       "      <th>4</th>\n",
       "      <td>1</td>\n",
       "      <td>28.0</td>\n",
       "      <td>26100.0</td>\n",
       "      <td>0</td>\n",
       "      <td>0</td>\n",
       "    </tr>\n",
       "  </tbody>\n",
       "</table>\n",
       "</div>"
      ],
      "text/plain": [
       "   Пол  Возраст  Зарплата  Члены семьи  Страховые выплаты\n",
       "0    1     41.0   49600.0            1                  0\n",
       "1    0     46.0   38000.0            1                  1\n",
       "2    0     29.0   21000.0            0                  0\n",
       "3    0     21.0   41700.0            2                  0\n",
       "4    1     28.0   26100.0            0                  0"
      ]
     },
     "execution_count": 12,
     "metadata": {},
     "output_type": "execute_result"
    }
   ],
   "source": [
    "%%time\n",
    "\n",
    "data.head()"
   ]
  },
  {
   "cell_type": "code",
   "execution_count": 4,
   "metadata": {},
   "outputs": [
    {
     "name": "stdout",
     "output_type": "stream",
     "text": [
      "<class 'pandas.core.frame.DataFrame'>\n",
      "RangeIndex: 5000 entries, 0 to 4999\n",
      "Data columns (total 5 columns):\n",
      " #   Column             Non-Null Count  Dtype  \n",
      "---  ------             --------------  -----  \n",
      " 0   Пол                5000 non-null   int64  \n",
      " 1   Возраст            5000 non-null   float64\n",
      " 2   Зарплата           5000 non-null   float64\n",
      " 3   Члены семьи        5000 non-null   int64  \n",
      " 4   Страховые выплаты  5000 non-null   int64  \n",
      "dtypes: float64(2), int64(3)\n",
      "memory usage: 195.4 KB\n"
     ]
    }
   ],
   "source": [
    "data.info()"
   ]
  },
  {
   "cell_type": "markdown",
   "metadata": {},
   "source": [
    "## Умножение матриц"
   ]
  },
  {
   "cell_type": "markdown",
   "metadata": {},
   "source": [
    "Обозначения:\n",
    "\n",
    "- $X$ — матрица признаков (нулевой столбец состоит из единиц)\n",
    "\n",
    "- $y$ — вектор целевого признака\n",
    "\n",
    "- $P$ — матрица, на которую умножаются признаки\n",
    "\n",
    "- $w$ — вектор весов линейной регрессии (нулевой элемент равен сдвигу)"
   ]
  },
  {
   "cell_type": "markdown",
   "metadata": {},
   "source": [
    "Предсказания:\n",
    "\n",
    "$$\n",
    "a = Xw\n",
    "$$\n",
    "\n",
    "Задача обучения:\n",
    "\n",
    "$$\n",
    "w = \\arg\\min_w MSE(Xw, y)\n",
    "$$\n",
    "\n",
    "Формула обучения:\n",
    "\n",
    "$$\n",
    "w = (X^T X)^{-1} X^T y\n",
    "$$"
   ]
  },
  {
   "cell_type": "markdown",
   "metadata": {},
   "source": [
    "Признаки умножают на обратимую матрицу. Качество линейной регрессии не изменится\n",
    "\n",
    "**Обоснование:** "
   ]
  },
  {
   "cell_type": "markdown",
   "metadata": {},
   "source": [
    "$$w = (X^T X)^{-1} X^T y$$"
   ]
  },
  {
   "cell_type": "markdown",
   "metadata": {},
   "source": [
    "$$\n",
    "w' = (P^T X^T X P)^{-1} (XP)^T y\n",
    "$$"
   ]
  },
  {
   "cell_type": "markdown",
   "metadata": {},
   "source": [
    "$$\n",
    "w' = (P^T (X^T X) P)^{-1} P^T X^T y\n",
    "$$    "
   ]
  },
  {
   "cell_type": "markdown",
   "metadata": {},
   "source": [
    "$$\n",
    "w' = P^{-1} (X^T X)^{-1} (P^T)^{-1} P^T X^T y\n",
    "$$    "
   ]
  },
  {
   "cell_type": "markdown",
   "metadata": {},
   "source": [
    "$$\n",
    "w' = P^{-1} (X^T X)^{-1} X^T y\n",
    "$$    "
   ]
  },
  {
   "cell_type": "markdown",
   "metadata": {},
   "source": [
    "$$\n",
    "a_P = X P P^{-1} (X^T X)^{-1} X^T y\n",
    "$$    "
   ]
  },
  {
   "cell_type": "markdown",
   "metadata": {},
   "source": [
    "$$\n",
    "a_P = X (X^T X)^{-1} X^T y\n",
    "$$  "
   ]
  },
  {
   "cell_type": "markdown",
   "metadata": {},
   "source": [
    "$$a = X(X^T X)^{-1} X^T y$$"
   ]
  },
  {
   "cell_type": "markdown",
   "metadata": {},
   "source": [
    "$$ (X^T X)^{-1} X^T y \\neq  P^{-1} (X^T X)^{-1} X^T y $$\n",
    "\n",
    "$$ w \\neq w_P $$\n",
    "\n",
    "соотношение между  𝑤\n",
    "  и  𝑤𝑝\n",
    " \n",
    "\n",
    "$$ P^{-1} w = w_P $$"
   ]
  },
  {
   "cell_type": "markdown",
   "metadata": {},
   "source": [
    "$$a=a_p$$"
   ]
  },
  {
   "cell_type": "code",
   "execution_count": 5,
   "metadata": {},
   "outputs": [],
   "source": [
    "features = data.drop('Страховые выплаты', axis=1)\n",
    "target = data['Страховые выплаты']"
   ]
  },
  {
   "cell_type": "code",
   "execution_count": 6,
   "metadata": {},
   "outputs": [],
   "source": [
    "features_train, features_valid, target_train, target_valid = train_test_split(\n",
    "    features, target, test_size=0.25, random_state=12345)"
   ]
  },
  {
   "cell_type": "code",
   "execution_count": 15,
   "metadata": {},
   "outputs": [
    {
     "name": "stdout",
     "output_type": "stream",
     "text": [
      "0.43522757127026546\n"
     ]
    }
   ],
   "source": [
    "model = LinearRegression()\n",
    "model.fit(features_train, target_train)\n",
    "predictions = model.predict(features_valid)\n",
    "print(r2_score(target_valid, predictions))"
   ]
  },
  {
   "cell_type": "code",
   "execution_count": 8,
   "metadata": {},
   "outputs": [
    {
     "name": "stdout",
     "output_type": "stream",
     "text": [
      "1.3729262171580103e-10\n"
     ]
    }
   ],
   "source": [
    "scores = []\n",
    "for i in range(100):\n",
    "    matrix = np.random.normal(size=[features_train.shape[1],features_train.shape[1]])\n",
    "    features_mm = features_train@matrix\n",
    "    model.fit(features_mm, target_train)\n",
    "    scores.append(r2_score(target_valid, predictions) - r2_score(target_valid, model.predict(features_valid@matrix)))\n",
    "print(pd.Series(scores).max())"
   ]
  },
  {
   "cell_type": "markdown",
   "metadata": {},
   "source": [
    "## Алгоритм преобразования"
   ]
  },
  {
   "cell_type": "markdown",
   "metadata": {},
   "source": [
    "**Алгоритм**\n",
    "\n",
    "Создадим обратимую квадратную матрицу размером количества столбцов признаков\n",
    "\n",
    "Умножим признаки на эту матрицу\n",
    "\n",
    "Сохраним обратную матрицу, для восстановления данных"
   ]
  },
  {
   "cell_type": "code",
   "execution_count": 413,
   "metadata": {},
   "outputs": [],
   "source": [
    "def converter(features):\n",
    "    det = 0\n",
    "    while det == 0:\n",
    "        lock = np.random.normal(size=[features.shape[1],features.shape[1]])\n",
    "        det = np.linalg.det(lock)\n",
    "    key = np.linalg.inv(lock)\n",
    "    return pd.DataFrame(features.values@lock,columns= features.columns), key\n",
    "\n",
    "def unlock(features,key):\n",
    "    return pd.DataFrame(np.round(features.values@key,0),columns= features.columns)"
   ]
  },
  {
   "cell_type": "markdown",
   "metadata": {},
   "source": [
    "**Обоснование**\n",
    "\n",
    "Предсказания модели равны матрице признаков умноженой на веса +сдвиг.\n",
    "\n",
    "Предсказания модели, признаки которой умножены на ту же матрицу, на которую умножались признаки при обучении будут равны предсказаниям модели до преобразования"
   ]
  },
  {
   "cell_type": "markdown",
   "metadata": {},
   "source": [
    "## Проверка алгоритма"
   ]
  },
  {
   "cell_type": "code",
   "execution_count": 323,
   "metadata": {},
   "outputs": [],
   "source": [
    "features_inv = data.drop('Страховые выплаты', axis=1)\n",
    "target_inv = data['Страховые выплаты']"
   ]
  },
  {
   "cell_type": "code",
   "execution_count": 324,
   "metadata": {},
   "outputs": [],
   "source": [
    "features_inv, key = converter(features_inv)"
   ]
  },
  {
   "cell_type": "code",
   "execution_count": 325,
   "metadata": {},
   "outputs": [],
   "source": [
    "features_train_inv, features_valid_inv, target_train_inv, target_valid_inv = train_test_split(\n",
    "    features_inv, target_inv, test_size=0.25, random_state=12345)"
   ]
  },
  {
   "cell_type": "code",
   "execution_count": 326,
   "metadata": {
    "scrolled": true
   },
   "outputs": [
    {
     "name": "stdout",
     "output_type": "stream",
     "text": [
      "0.435227571270258\n"
     ]
    }
   ],
   "source": [
    "model = LinearRegression()\n",
    "model.fit(features_train_inv, target_train_inv)\n",
    "predictions_inv = model.predict(features_valid_inv)\n",
    "print(r2_score(target_valid_inv, predictions_inv))"
   ]
  },
  {
   "cell_type": "code",
   "execution_count": 327,
   "metadata": {
    "scrolled": false
   },
   "outputs": [
    {
     "name": "stdout",
     "output_type": "stream",
     "text": [
      "7.438494264988549e-15\n"
     ]
    }
   ],
   "source": [
    "print(r2_score(target_valid, predictions) - r2_score(target_valid_inv, predictions_inv))"
   ]
  },
  {
   "cell_type": "markdown",
   "metadata": {},
   "source": [
    "Разница r2_score незначительна"
   ]
  },
  {
   "cell_type": "code",
   "execution_count": 328,
   "metadata": {},
   "outputs": [],
   "source": [
    "features_recover = unlock(features_inv, key)"
   ]
  },
  {
   "cell_type": "code",
   "execution_count": 329,
   "metadata": {},
   "outputs": [],
   "source": [
    "features_train_rec, features_valid_rec, target_train_rec, target_valid_rec = train_test_split(\n",
    "    features_recover, target_inv, test_size=0.25, random_state=12345)"
   ]
  },
  {
   "cell_type": "code",
   "execution_count": 330,
   "metadata": {},
   "outputs": [
    {
     "name": "stdout",
     "output_type": "stream",
     "text": [
      "0.43522757127026546\n"
     ]
    }
   ],
   "source": [
    "model = LinearRegression()\n",
    "model.fit(features_train_rec, target_train_rec)\n",
    "predictions_rec = model.predict(features_valid_rec)\n",
    "print(r2_score(target_valid_rec, predictions_rec))"
   ]
  },
  {
   "cell_type": "code",
   "execution_count": 331,
   "metadata": {
    "scrolled": true
   },
   "outputs": [
    {
     "name": "stdout",
     "output_type": "stream",
     "text": [
      "0.0\n"
     ]
    }
   ],
   "source": [
    "print(r2_score(target_valid, predictions) - r2_score(target_valid_rec, predictions_rec))"
   ]
  },
  {
   "cell_type": "markdown",
   "metadata": {},
   "source": [
    "Разницы в r2_score по изначальным и восстановленным признакам нет"
   ]
  },
  {
   "cell_type": "markdown",
   "metadata": {},
   "source": [
    "Так же можно хранить преобразованными и целевые признаки"
   ]
  },
  {
   "cell_type": "code",
   "execution_count": 332,
   "metadata": {},
   "outputs": [],
   "source": [
    "def converter_full(data):\n",
    "    lock = np.random.normal(size=[data.shape[1],data.shape[1]])\n",
    "    key = np.linalg.inv(lock)\n",
    "    return pd.DataFrame(data.values@lock,columns= data.columns), key\n",
    "\n",
    "def unlock_2(data,key):\n",
    "    return pd.DataFrame(np.round(data.values@key,0),columns= data.columns)"
   ]
  },
  {
   "cell_type": "code",
   "execution_count": 333,
   "metadata": {},
   "outputs": [],
   "source": [
    "data_inv, key_2 = converter_full(data)"
   ]
  },
  {
   "cell_type": "code",
   "execution_count": 334,
   "metadata": {
    "scrolled": true
   },
   "outputs": [],
   "source": [
    "data_inv_rec = unlock(data_inv, key_2)"
   ]
  },
  {
   "cell_type": "code",
   "execution_count": 335,
   "metadata": {},
   "outputs": [],
   "source": [
    "features_rec_2 = data_inv_rec.drop('Страховые выплаты', axis=1)\n",
    "target_rec_2 = data_inv_rec['Страховые выплаты']"
   ]
  },
  {
   "cell_type": "code",
   "execution_count": 336,
   "metadata": {},
   "outputs": [],
   "source": [
    "features_train_rec_2, features_valid_rec_2, target_train_rec_2, target_valid_rec_2 = train_test_split(\n",
    "    features_rec_2, target_rec_2, test_size=0.25, random_state=12345)"
   ]
  },
  {
   "cell_type": "code",
   "execution_count": 337,
   "metadata": {
    "scrolled": true
   },
   "outputs": [
    {
     "name": "stdout",
     "output_type": "stream",
     "text": [
      "0.43522757127026546\n"
     ]
    }
   ],
   "source": [
    "model = LinearRegression()\n",
    "model.fit(features_train_rec_2, target_train_rec_2)\n",
    "predictions_rec_2 = model.predict(features_valid_rec_2)\n",
    "print(r2_score(target_valid_rec_2, predictions_rec_2))"
   ]
  },
  {
   "cell_type": "code",
   "execution_count": 338,
   "metadata": {
    "scrolled": true
   },
   "outputs": [
    {
     "name": "stdout",
     "output_type": "stream",
     "text": [
      "0.0\n"
     ]
    }
   ],
   "source": [
    "print(r2_score(target_valid, predictions) - r2_score(target_valid_rec_2, predictions_rec_2))"
   ]
  },
  {
   "cell_type": "markdown",
   "metadata": {},
   "source": [
    "Признаки умножают на обратимую матрицу P - интерпретировать такие данные невозможно, но метрика r2 линейной регрессии таких данных будут совпадать с r2 непреобразованых данных.\n",
    "\n",
    "Для успешного преобразования необходимо создать обратимую квадратную матрицу размером количества столбцов признаков\n",
    "\n",
    "Умножим признаки на эту матрицу\n",
    "\n",
    "Сохраним обратную матрицу, для восстановления данных\n",
    "\n",
    "Проверка алгоритма показывает , что метрика r2 не меняется как для предсказаний по преобразованным данным, так и по восстановленным"
   ]
  },
  {
   "cell_type": "code",
   "execution_count": null,
   "metadata": {},
   "outputs": [],
   "source": []
  }
 ],
 "metadata": {
  "ExecuteTimeLog": [
   {
    "duration": 369,
    "start_time": "2023-04-16T17:35:11.512Z"
   },
   {
    "duration": 86,
    "start_time": "2023-04-16T17:35:43.820Z"
   },
   {
    "duration": 14,
    "start_time": "2023-04-16T17:35:50.512Z"
   },
   {
    "duration": 11,
    "start_time": "2023-04-16T17:36:49.031Z"
   },
   {
    "duration": 64,
    "start_time": "2023-04-16T17:37:03.212Z"
   },
   {
    "duration": 4,
    "start_time": "2023-04-16T17:37:07.300Z"
   },
   {
    "duration": 8,
    "start_time": "2023-04-16T17:38:06.523Z"
   },
   {
    "duration": 6,
    "start_time": "2023-04-16T17:38:13.536Z"
   },
   {
    "duration": 619,
    "start_time": "2023-04-16T17:41:43.827Z"
   },
   {
    "duration": 10,
    "start_time": "2023-04-16T17:44:43.036Z"
   },
   {
    "duration": 11,
    "start_time": "2023-04-16T17:45:10.644Z"
   },
   {
    "duration": 26,
    "start_time": "2023-04-16T17:45:27.435Z"
   },
   {
    "duration": 17,
    "start_time": "2023-04-16T17:45:42.741Z"
   },
   {
    "duration": 12,
    "start_time": "2023-04-16T17:46:11.753Z"
   },
   {
    "duration": 2,
    "start_time": "2023-04-16T17:46:24.246Z"
   },
   {
    "duration": 48,
    "start_time": "2023-04-16T18:06:54.202Z"
   },
   {
    "duration": 59,
    "start_time": "2023-04-16T18:07:01.222Z"
   },
   {
    "duration": 3,
    "start_time": "2023-04-16T18:14:39.098Z"
   },
   {
    "duration": 3,
    "start_time": "2023-04-16T18:14:46.055Z"
   },
   {
    "duration": 3,
    "start_time": "2023-04-16T18:16:48.793Z"
   },
   {
    "duration": 4,
    "start_time": "2023-04-16T18:16:49.502Z"
   },
   {
    "duration": 4,
    "start_time": "2023-04-16T18:16:56.616Z"
   },
   {
    "duration": 5,
    "start_time": "2023-04-16T18:17:02.193Z"
   },
   {
    "duration": 54,
    "start_time": "2023-04-16T18:17:17.302Z"
   },
   {
    "duration": 5,
    "start_time": "2023-04-16T18:17:24.401Z"
   },
   {
    "duration": 2,
    "start_time": "2023-04-16T18:19:28.450Z"
   },
   {
    "duration": 4,
    "start_time": "2023-04-16T18:19:29.113Z"
   },
   {
    "duration": 3,
    "start_time": "2023-04-16T18:19:51.044Z"
   },
   {
    "duration": 3,
    "start_time": "2023-04-16T18:19:52.699Z"
   },
   {
    "duration": 5,
    "start_time": "2023-04-16T18:20:04.810Z"
   },
   {
    "duration": 4,
    "start_time": "2023-04-16T18:20:09.998Z"
   },
   {
    "duration": 3,
    "start_time": "2023-04-16T18:20:39.315Z"
   },
   {
    "duration": 3,
    "start_time": "2023-04-16T18:20:39.821Z"
   },
   {
    "duration": 3,
    "start_time": "2023-04-16T18:20:46.096Z"
   },
   {
    "duration": 5,
    "start_time": "2023-04-16T18:20:58.191Z"
   },
   {
    "duration": 4,
    "start_time": "2023-04-16T18:21:19.002Z"
   },
   {
    "duration": 3,
    "start_time": "2023-04-16T18:21:24.597Z"
   },
   {
    "duration": 3,
    "start_time": "2023-04-16T18:21:24.790Z"
   },
   {
    "duration": 5,
    "start_time": "2023-04-16T18:21:24.984Z"
   },
   {
    "duration": 2,
    "start_time": "2023-04-16T18:21:50.794Z"
   },
   {
    "duration": 4,
    "start_time": "2023-04-16T18:21:50.989Z"
   },
   {
    "duration": 5,
    "start_time": "2023-04-16T18:21:51.157Z"
   },
   {
    "duration": 5,
    "start_time": "2023-04-16T18:22:09.087Z"
   },
   {
    "duration": 11,
    "start_time": "2023-04-16T18:25:44.709Z"
   },
   {
    "duration": 15,
    "start_time": "2023-04-16T18:26:41.231Z"
   },
   {
    "duration": 2,
    "start_time": "2023-04-16T18:41:09.558Z"
   },
   {
    "duration": 10,
    "start_time": "2023-04-16T18:41:32.949Z"
   },
   {
    "duration": 11,
    "start_time": "2023-04-16T18:41:33.848Z"
   },
   {
    "duration": 386,
    "start_time": "2023-04-16T18:44:18.222Z"
   },
   {
    "duration": 3,
    "start_time": "2023-04-16T18:44:44.336Z"
   },
   {
    "duration": 4,
    "start_time": "2023-04-16T18:44:44.638Z"
   },
   {
    "duration": 6,
    "start_time": "2023-04-16T18:44:45.316Z"
   },
   {
    "duration": 362,
    "start_time": "2023-04-16T18:45:03.455Z"
   },
   {
    "duration": 9,
    "start_time": "2023-04-16T18:46:39.526Z"
   },
   {
    "duration": 9,
    "start_time": "2023-04-16T18:47:08.530Z"
   },
   {
    "duration": 9,
    "start_time": "2023-04-16T18:47:20.952Z"
   },
   {
    "duration": 10,
    "start_time": "2023-04-16T18:47:31.826Z"
   },
   {
    "duration": 402,
    "start_time": "2023-04-16T18:48:08.406Z"
   },
   {
    "duration": 351,
    "start_time": "2023-04-16T18:48:24.653Z"
   },
   {
    "duration": 10,
    "start_time": "2023-04-16T18:50:31.458Z"
   },
   {
    "duration": 9,
    "start_time": "2023-04-16T18:50:41.952Z"
   },
   {
    "duration": 5,
    "start_time": "2023-04-16T18:50:49.525Z"
   },
   {
    "duration": 5,
    "start_time": "2023-04-16T18:50:52.885Z"
   },
   {
    "duration": 5,
    "start_time": "2023-04-16T18:50:55.433Z"
   },
   {
    "duration": 4,
    "start_time": "2023-04-16T18:50:58.922Z"
   },
   {
    "duration": 4,
    "start_time": "2023-04-16T18:51:00.385Z"
   },
   {
    "duration": 1474,
    "start_time": "2023-04-16T18:52:05.834Z"
   },
   {
    "duration": 562,
    "start_time": "2023-04-16T18:52:13.848Z"
   },
   {
    "duration": 924,
    "start_time": "2023-04-16T18:52:32.080Z"
   },
   {
    "duration": 545,
    "start_time": "2023-04-16T18:52:42.257Z"
   },
   {
    "duration": 12,
    "start_time": "2023-04-16T19:00:37.814Z"
   },
   {
    "duration": 8,
    "start_time": "2023-04-16T19:00:58.566Z"
   },
   {
    "duration": 20,
    "start_time": "2023-04-16T19:01:06.387Z"
   },
   {
    "duration": 7,
    "start_time": "2023-04-16T19:01:17.566Z"
   },
   {
    "duration": 10,
    "start_time": "2023-04-16T19:01:28.526Z"
   },
   {
    "duration": 9,
    "start_time": "2023-04-16T19:01:30.954Z"
   },
   {
    "duration": 4,
    "start_time": "2023-04-16T20:03:12.157Z"
   },
   {
    "duration": 11,
    "start_time": "2023-04-16T20:03:16.474Z"
   },
   {
    "duration": 706,
    "start_time": "2023-04-16T20:03:35.268Z"
   },
   {
    "duration": 39,
    "start_time": "2023-04-16T20:03:39.829Z"
   },
   {
    "duration": 675,
    "start_time": "2023-04-16T20:03:45.830Z"
   },
   {
    "duration": 8,
    "start_time": "2023-04-16T20:05:01.767Z"
   },
   {
    "duration": 3,
    "start_time": "2023-04-16T20:05:04.941Z"
   },
   {
    "duration": 6,
    "start_time": "2023-04-16T20:05:06.610Z"
   },
   {
    "duration": 10,
    "start_time": "2023-04-16T20:05:14.041Z"
   },
   {
    "duration": 7,
    "start_time": "2023-04-16T20:06:21.026Z"
   },
   {
    "duration": 74,
    "start_time": "2023-04-16T20:08:36.027Z"
   },
   {
    "duration": 46,
    "start_time": "2023-04-16T20:09:30.514Z"
   },
   {
    "duration": 54,
    "start_time": "2023-04-16T20:10:45.192Z"
   },
   {
    "duration": 17,
    "start_time": "2023-04-16T20:10:48.334Z"
   },
   {
    "duration": 14,
    "start_time": "2023-04-16T20:10:49.655Z"
   },
   {
    "duration": 15,
    "start_time": "2023-04-16T20:10:56.341Z"
   },
   {
    "duration": 14,
    "start_time": "2023-04-16T20:11:14.824Z"
   },
   {
    "duration": 8,
    "start_time": "2023-04-16T20:11:27.453Z"
   },
   {
    "duration": 42,
    "start_time": "2023-04-16T20:11:28.268Z"
   },
   {
    "duration": 42,
    "start_time": "2023-04-16T20:11:30.130Z"
   },
   {
    "duration": 62,
    "start_time": "2023-04-16T20:11:31.442Z"
   },
   {
    "duration": 47,
    "start_time": "2023-04-16T20:11:32.462Z"
   },
   {
    "duration": 10,
    "start_time": "2023-04-16T20:11:35.432Z"
   },
   {
    "duration": 57,
    "start_time": "2023-04-16T20:11:36.218Z"
   },
   {
    "duration": 384,
    "start_time": "2023-04-16T20:11:47.327Z"
   },
   {
    "duration": 18,
    "start_time": "2023-04-16T20:11:49.117Z"
   },
   {
    "duration": 8,
    "start_time": "2023-04-16T20:11:50.718Z"
   },
   {
    "duration": 399,
    "start_time": "2023-04-16T20:11:51.230Z"
   },
   {
    "duration": 416,
    "start_time": "2023-04-16T20:11:54.136Z"
   },
   {
    "duration": 374,
    "start_time": "2023-04-16T20:12:00.734Z"
   },
   {
    "duration": 3582,
    "start_time": "2023-04-16T20:12:16.353Z"
   },
   {
    "duration": 366,
    "start_time": "2023-04-16T20:12:24.349Z"
   },
   {
    "duration": 1194,
    "start_time": "2023-04-17T09:00:51.771Z"
   },
   {
    "duration": 116,
    "start_time": "2023-04-17T09:00:54.410Z"
   },
   {
    "duration": 15,
    "start_time": "2023-04-17T09:00:59.548Z"
   },
   {
    "duration": 3,
    "start_time": "2023-04-17T09:01:23.157Z"
   },
   {
    "duration": 13,
    "start_time": "2023-04-17T09:01:24.058Z"
   },
   {
    "duration": 13,
    "start_time": "2023-04-17T09:01:56.262Z"
   },
   {
    "duration": 229,
    "start_time": "2023-04-17T09:03:34.888Z"
   },
   {
    "duration": 22,
    "start_time": "2023-04-17T09:03:37.484Z"
   },
   {
    "duration": 10,
    "start_time": "2023-04-17T09:03:39.745Z"
   },
   {
    "duration": 4,
    "start_time": "2023-04-17T09:04:17.402Z"
   },
   {
    "duration": 8,
    "start_time": "2023-04-17T09:04:25.910Z"
   },
   {
    "duration": 239,
    "start_time": "2023-04-17T09:04:43.669Z"
   },
   {
    "duration": 5,
    "start_time": "2023-04-17T09:04:48.147Z"
   },
   {
    "duration": 4,
    "start_time": "2023-04-17T09:04:55.498Z"
   },
   {
    "duration": 3,
    "start_time": "2023-04-17T09:04:57.283Z"
   },
   {
    "duration": 6,
    "start_time": "2023-04-17T09:05:27.807Z"
   },
   {
    "duration": 3,
    "start_time": "2023-04-17T09:05:37.718Z"
   },
   {
    "duration": 4,
    "start_time": "2023-04-17T09:05:39.989Z"
   },
   {
    "duration": 5,
    "start_time": "2023-04-17T09:05:46.443Z"
   },
   {
    "duration": 11,
    "start_time": "2023-04-17T09:06:24.857Z"
   },
   {
    "duration": 14,
    "start_time": "2023-04-17T09:06:34.737Z"
   },
   {
    "duration": 3,
    "start_time": "2023-04-17T09:07:07.145Z"
   },
   {
    "duration": 20,
    "start_time": "2023-04-17T09:07:16.457Z"
   },
   {
    "duration": 210,
    "start_time": "2023-04-17T09:08:28.054Z"
   },
   {
    "duration": 3,
    "start_time": "2023-04-17T09:10:42.623Z"
   },
   {
    "duration": 5,
    "start_time": "2023-04-17T09:11:28.149Z"
   },
   {
    "duration": 12,
    "start_time": "2023-04-17T09:11:38.196Z"
   },
   {
    "duration": 15,
    "start_time": "2023-04-17T09:11:49.057Z"
   },
   {
    "duration": 12,
    "start_time": "2023-04-17T09:12:16.105Z"
   },
   {
    "duration": 4,
    "start_time": "2023-04-17T09:13:15.318Z"
   },
   {
    "duration": 3,
    "start_time": "2023-04-17T09:13:24.702Z"
   },
   {
    "duration": 28,
    "start_time": "2023-04-17T09:13:25.259Z"
   },
   {
    "duration": 3,
    "start_time": "2023-04-17T09:14:33.519Z"
   },
   {
    "duration": 4,
    "start_time": "2023-04-17T09:14:33.779Z"
   },
   {
    "duration": 4,
    "start_time": "2023-04-17T09:14:34.041Z"
   },
   {
    "duration": 3,
    "start_time": "2023-04-17T09:15:45.470Z"
   },
   {
    "duration": 12,
    "start_time": "2023-04-17T09:15:46.344Z"
   },
   {
    "duration": 11,
    "start_time": "2023-04-17T09:15:51.886Z"
   },
   {
    "duration": 11,
    "start_time": "2023-04-17T09:15:55.622Z"
   },
   {
    "duration": 5,
    "start_time": "2023-04-17T09:16:08.489Z"
   },
   {
    "duration": 11,
    "start_time": "2023-04-17T09:16:19.619Z"
   },
   {
    "duration": 4,
    "start_time": "2023-04-17T09:16:59.894Z"
   },
   {
    "duration": 2,
    "start_time": "2023-04-17T09:17:14.103Z"
   },
   {
    "duration": 11,
    "start_time": "2023-04-17T09:17:19.230Z"
   },
   {
    "duration": 12,
    "start_time": "2023-04-17T09:17:29.121Z"
   },
   {
    "duration": 12,
    "start_time": "2023-04-17T09:17:49.081Z"
   },
   {
    "duration": 12,
    "start_time": "2023-04-17T09:17:52.523Z"
   },
   {
    "duration": 12,
    "start_time": "2023-04-17T09:17:55.385Z"
   },
   {
    "duration": 12,
    "start_time": "2023-04-17T09:18:00.257Z"
   },
   {
    "duration": 5,
    "start_time": "2023-04-17T09:18:08.360Z"
   },
   {
    "duration": 10,
    "start_time": "2023-04-17T09:18:29.660Z"
   },
   {
    "duration": 12,
    "start_time": "2023-04-17T09:18:34.305Z"
   },
   {
    "duration": 14,
    "start_time": "2023-04-17T09:18:56.678Z"
   },
   {
    "duration": 14,
    "start_time": "2023-04-17T09:19:19.885Z"
   },
   {
    "duration": 13,
    "start_time": "2023-04-17T09:19:27.790Z"
   },
   {
    "duration": 3,
    "start_time": "2023-04-17T09:19:44.003Z"
   },
   {
    "duration": 5,
    "start_time": "2023-04-17T09:19:44.481Z"
   },
   {
    "duration": 13,
    "start_time": "2023-04-17T09:19:47.926Z"
   },
   {
    "duration": 4,
    "start_time": "2023-04-17T09:20:52.480Z"
   },
   {
    "duration": 9,
    "start_time": "2023-04-17T09:20:53.056Z"
   },
   {
    "duration": 5,
    "start_time": "2023-04-17T09:21:41.723Z"
   },
   {
    "duration": 9,
    "start_time": "2023-04-17T09:21:43.361Z"
   },
   {
    "duration": 3,
    "start_time": "2023-04-17T09:22:58.059Z"
   },
   {
    "duration": 4,
    "start_time": "2023-04-17T09:23:01.531Z"
   },
   {
    "duration": 3,
    "start_time": "2023-04-17T09:23:02.555Z"
   },
   {
    "duration": 5,
    "start_time": "2023-04-17T09:23:03.071Z"
   },
   {
    "duration": 8,
    "start_time": "2023-04-17T09:23:03.633Z"
   },
   {
    "duration": 4,
    "start_time": "2023-04-17T09:23:41.349Z"
   },
   {
    "duration": 4,
    "start_time": "2023-04-17T09:23:41.930Z"
   },
   {
    "duration": 9,
    "start_time": "2023-04-17T09:23:42.414Z"
   },
   {
    "duration": 11,
    "start_time": "2023-04-17T09:24:59.635Z"
   },
   {
    "duration": 9,
    "start_time": "2023-04-17T09:25:05.765Z"
   },
   {
    "duration": 3,
    "start_time": "2023-04-17T09:26:14.099Z"
   },
   {
    "duration": 5,
    "start_time": "2023-04-17T09:26:33.580Z"
   },
   {
    "duration": 5,
    "start_time": "2023-04-17T09:26:35.332Z"
   },
   {
    "duration": 9,
    "start_time": "2023-04-17T09:26:35.646Z"
   },
   {
    "duration": 14,
    "start_time": "2023-04-17T09:26:47.715Z"
   },
   {
    "duration": 4,
    "start_time": "2023-04-17T09:28:18.413Z"
   },
   {
    "duration": 5,
    "start_time": "2023-04-17T09:28:23.656Z"
   },
   {
    "duration": 4,
    "start_time": "2023-04-17T09:28:24.066Z"
   },
   {
    "duration": 9,
    "start_time": "2023-04-17T09:28:25.818Z"
   },
   {
    "duration": 14,
    "start_time": "2023-04-17T09:28:27.248Z"
   },
   {
    "duration": 4,
    "start_time": "2023-04-17T09:29:50.747Z"
   },
   {
    "duration": 10,
    "start_time": "2023-04-17T09:29:50.753Z"
   },
   {
    "duration": 19,
    "start_time": "2023-04-17T09:29:50.764Z"
   },
   {
    "duration": 18,
    "start_time": "2023-04-17T09:29:50.785Z"
   },
   {
    "duration": 13,
    "start_time": "2023-04-17T09:29:50.806Z"
   },
   {
    "duration": 70,
    "start_time": "2023-04-17T09:29:50.820Z"
   },
   {
    "duration": 14,
    "start_time": "2023-04-17T09:29:50.893Z"
   },
   {
    "duration": 86,
    "start_time": "2023-04-17T09:29:50.908Z"
   },
   {
    "duration": 5,
    "start_time": "2023-04-17T09:32:20.616Z"
   },
   {
    "duration": 4,
    "start_time": "2023-04-17T09:32:22.182Z"
   },
   {
    "duration": 6,
    "start_time": "2023-04-17T09:33:31.435Z"
   },
   {
    "duration": 6,
    "start_time": "2023-04-17T09:33:33.086Z"
   },
   {
    "duration": 4,
    "start_time": "2023-04-17T09:33:57.990Z"
   },
   {
    "duration": 7,
    "start_time": "2023-04-17T09:34:00.979Z"
   },
   {
    "duration": 3,
    "start_time": "2023-04-17T09:34:22.086Z"
   },
   {
    "duration": 13,
    "start_time": "2023-04-17T09:34:22.091Z"
   },
   {
    "duration": 14,
    "start_time": "2023-04-17T09:34:22.105Z"
   },
   {
    "duration": 7,
    "start_time": "2023-04-17T09:34:22.121Z"
   },
   {
    "duration": 10,
    "start_time": "2023-04-17T09:34:22.130Z"
   },
   {
    "duration": 49,
    "start_time": "2023-04-17T09:34:22.142Z"
   },
   {
    "duration": 93,
    "start_time": "2023-04-17T09:34:22.194Z"
   },
   {
    "duration": 10,
    "start_time": "2023-04-17T09:34:22.289Z"
   },
   {
    "duration": 5,
    "start_time": "2023-04-17T09:34:28.500Z"
   },
   {
    "duration": 19,
    "start_time": "2023-04-17T09:34:28.507Z"
   },
   {
    "duration": 11,
    "start_time": "2023-04-17T09:34:28.528Z"
   },
   {
    "duration": 6,
    "start_time": "2023-04-17T09:34:28.542Z"
   },
   {
    "duration": 8,
    "start_time": "2023-04-17T09:34:28.551Z"
   },
   {
    "duration": 127,
    "start_time": "2023-04-17T09:34:28.561Z"
   },
   {
    "duration": 6,
    "start_time": "2023-04-17T09:34:28.689Z"
   },
   {
    "duration": 27,
    "start_time": "2023-04-17T09:34:28.697Z"
   },
   {
    "duration": 4,
    "start_time": "2023-04-17T09:34:31.937Z"
   },
   {
    "duration": 41,
    "start_time": "2023-04-17T09:34:31.943Z"
   },
   {
    "duration": 18,
    "start_time": "2023-04-17T09:34:31.986Z"
   },
   {
    "duration": 18,
    "start_time": "2023-04-17T09:34:32.006Z"
   },
   {
    "duration": 13,
    "start_time": "2023-04-17T09:34:32.026Z"
   },
   {
    "duration": 48,
    "start_time": "2023-04-17T09:34:32.040Z"
   },
   {
    "duration": 97,
    "start_time": "2023-04-17T09:34:32.090Z"
   },
   {
    "duration": 39,
    "start_time": "2023-04-17T09:34:32.189Z"
   },
   {
    "duration": 5,
    "start_time": "2023-04-17T09:37:03.886Z"
   },
   {
    "duration": 3,
    "start_time": "2023-04-17T09:37:49.866Z"
   },
   {
    "duration": 3,
    "start_time": "2023-04-17T09:38:34.879Z"
   },
   {
    "duration": 7,
    "start_time": "2023-04-17T09:38:34.884Z"
   },
   {
    "duration": 35,
    "start_time": "2023-04-17T09:38:34.893Z"
   },
   {
    "duration": 17,
    "start_time": "2023-04-17T09:38:34.929Z"
   },
   {
    "duration": 12,
    "start_time": "2023-04-17T09:38:34.948Z"
   },
   {
    "duration": 27,
    "start_time": "2023-04-17T09:38:34.963Z"
   },
   {
    "duration": 95,
    "start_time": "2023-04-17T09:38:34.993Z"
   },
   {
    "duration": 12,
    "start_time": "2023-04-17T09:38:35.089Z"
   },
   {
    "duration": 17,
    "start_time": "2023-04-17T09:38:35.103Z"
   },
   {
    "duration": 3,
    "start_time": "2023-04-17T09:39:40.218Z"
   },
   {
    "duration": 13,
    "start_time": "2023-04-17T09:39:40.223Z"
   },
   {
    "duration": 13,
    "start_time": "2023-04-17T09:39:40.237Z"
   },
   {
    "duration": 4,
    "start_time": "2023-04-17T09:39:40.252Z"
   },
   {
    "duration": 8,
    "start_time": "2023-04-17T09:39:40.258Z"
   },
   {
    "duration": 19,
    "start_time": "2023-04-17T09:39:40.268Z"
   },
   {
    "duration": 5,
    "start_time": "2023-04-17T09:39:40.290Z"
   },
   {
    "duration": 93,
    "start_time": "2023-04-17T09:39:40.297Z"
   },
   {
    "duration": 20,
    "start_time": "2023-04-17T09:39:40.392Z"
   },
   {
    "duration": 8,
    "start_time": "2023-04-17T09:42:32.400Z"
   },
   {
    "duration": 4,
    "start_time": "2023-04-17T09:42:42.775Z"
   },
   {
    "duration": 5,
    "start_time": "2023-04-17T09:42:43.355Z"
   },
   {
    "duration": 5,
    "start_time": "2023-04-17T09:42:47.595Z"
   },
   {
    "duration": 4,
    "start_time": "2023-04-17T09:43:34.598Z"
   },
   {
    "duration": 14,
    "start_time": "2023-04-17T09:43:34.603Z"
   },
   {
    "duration": 13,
    "start_time": "2023-04-17T09:43:34.619Z"
   },
   {
    "duration": 7,
    "start_time": "2023-04-17T09:43:34.633Z"
   },
   {
    "duration": 8,
    "start_time": "2023-04-17T09:43:34.642Z"
   },
   {
    "duration": 37,
    "start_time": "2023-04-17T09:43:34.652Z"
   },
   {
    "duration": 98,
    "start_time": "2023-04-17T09:43:34.692Z"
   },
   {
    "duration": 9,
    "start_time": "2023-04-17T09:43:34.792Z"
   },
   {
    "duration": 6,
    "start_time": "2023-04-17T09:44:26.903Z"
   },
   {
    "duration": 7,
    "start_time": "2023-04-17T09:44:44.943Z"
   },
   {
    "duration": 4,
    "start_time": "2023-04-17T09:45:05.869Z"
   },
   {
    "duration": 4,
    "start_time": "2023-04-17T09:45:06.659Z"
   },
   {
    "duration": 4,
    "start_time": "2023-04-17T09:45:08.664Z"
   },
   {
    "duration": 5,
    "start_time": "2023-04-17T09:45:08.924Z"
   },
   {
    "duration": 8,
    "start_time": "2023-04-17T09:45:09.397Z"
   },
   {
    "duration": 4,
    "start_time": "2023-04-17T09:48:53.571Z"
   },
   {
    "duration": 4,
    "start_time": "2023-04-17T09:48:54.180Z"
   },
   {
    "duration": 5,
    "start_time": "2023-04-17T09:49:58.455Z"
   },
   {
    "duration": 5,
    "start_time": "2023-04-17T09:49:59.775Z"
   },
   {
    "duration": 5,
    "start_time": "2023-04-17T09:50:00.699Z"
   },
   {
    "duration": 6,
    "start_time": "2023-04-17T09:50:01.095Z"
   },
   {
    "duration": 8,
    "start_time": "2023-04-17T09:50:01.890Z"
   },
   {
    "duration": 4,
    "start_time": "2023-04-17T09:50:13.436Z"
   },
   {
    "duration": 4,
    "start_time": "2023-04-17T09:50:13.716Z"
   },
   {
    "duration": 5,
    "start_time": "2023-04-17T09:50:14.794Z"
   },
   {
    "duration": 10,
    "start_time": "2023-04-17T09:50:15.570Z"
   },
   {
    "duration": 4,
    "start_time": "2023-04-17T09:51:12.613Z"
   },
   {
    "duration": 9,
    "start_time": "2023-04-17T09:51:24.657Z"
   },
   {
    "duration": 4,
    "start_time": "2023-04-17T09:51:28.040Z"
   },
   {
    "duration": 4,
    "start_time": "2023-04-17T09:51:34.867Z"
   },
   {
    "duration": 4,
    "start_time": "2023-04-17T09:52:10.199Z"
   },
   {
    "duration": 13,
    "start_time": "2023-04-17T09:52:12.831Z"
   },
   {
    "duration": 10,
    "start_time": "2023-04-17T09:52:13.112Z"
   },
   {
    "duration": 15,
    "start_time": "2023-04-17T09:52:22.764Z"
   },
   {
    "duration": 4,
    "start_time": "2023-04-17T09:52:33.427Z"
   },
   {
    "duration": 5,
    "start_time": "2023-04-17T09:52:35.599Z"
   },
   {
    "duration": 5,
    "start_time": "2023-04-17T09:52:36.159Z"
   },
   {
    "duration": 12,
    "start_time": "2023-04-17T09:52:37.357Z"
   },
   {
    "duration": 9,
    "start_time": "2023-04-17T09:52:44.204Z"
   },
   {
    "duration": 13,
    "start_time": "2023-04-17T09:52:57.843Z"
   },
   {
    "duration": 5,
    "start_time": "2023-04-17T09:53:01.428Z"
   },
   {
    "duration": 5,
    "start_time": "2023-04-17T09:53:01.777Z"
   },
   {
    "duration": 11,
    "start_time": "2023-04-17T09:53:02.671Z"
   },
   {
    "duration": 6,
    "start_time": "2023-04-17T09:53:04.169Z"
   },
   {
    "duration": 9,
    "start_time": "2023-04-17T09:53:04.977Z"
   },
   {
    "duration": 8,
    "start_time": "2023-04-17T09:53:37.123Z"
   },
   {
    "duration": 13,
    "start_time": "2023-04-17T09:53:46.981Z"
   },
   {
    "duration": 4,
    "start_time": "2023-04-17T09:54:57.589Z"
   },
   {
    "duration": 12,
    "start_time": "2023-04-17T09:54:57.595Z"
   },
   {
    "duration": 6,
    "start_time": "2023-04-17T09:54:57.609Z"
   },
   {
    "duration": 74,
    "start_time": "2023-04-17T09:54:57.618Z"
   },
   {
    "duration": 6,
    "start_time": "2023-04-17T09:55:00.465Z"
   },
   {
    "duration": 53,
    "start_time": "2023-04-17T09:55:00.474Z"
   },
   {
    "duration": 159,
    "start_time": "2023-04-17T09:55:00.529Z"
   },
   {
    "duration": 47,
    "start_time": "2023-04-17T09:55:00.691Z"
   },
   {
    "duration": 116,
    "start_time": "2023-04-17T09:59:51.970Z"
   },
   {
    "duration": 4,
    "start_time": "2023-04-17T09:59:52.129Z"
   },
   {
    "duration": 3,
    "start_time": "2023-04-17T10:05:06.135Z"
   },
   {
    "duration": 42,
    "start_time": "2023-04-17T10:05:06.141Z"
   },
   {
    "duration": 9,
    "start_time": "2023-04-17T10:05:06.185Z"
   },
   {
    "duration": 11,
    "start_time": "2023-04-17T10:05:06.197Z"
   },
   {
    "duration": 5,
    "start_time": "2023-04-17T10:05:06.211Z"
   },
   {
    "duration": 27,
    "start_time": "2023-04-17T10:05:06.218Z"
   },
   {
    "duration": 22,
    "start_time": "2023-04-17T10:05:06.247Z"
   },
   {
    "duration": 441,
    "start_time": "2023-04-17T10:05:06.271Z"
   },
   {
    "duration": 3,
    "start_time": "2023-04-17T10:05:06.714Z"
   },
   {
    "duration": 9,
    "start_time": "2023-04-17T10:05:06.720Z"
   },
   {
    "duration": 13,
    "start_time": "2023-04-17T10:05:06.731Z"
   },
   {
    "duration": 48,
    "start_time": "2023-04-17T10:05:06.747Z"
   },
   {
    "duration": 91,
    "start_time": "2023-04-17T10:05:06.797Z"
   },
   {
    "duration": 5,
    "start_time": "2023-04-17T10:05:43.273Z"
   },
   {
    "duration": 8,
    "start_time": "2023-04-17T10:05:56.363Z"
   },
   {
    "duration": 9,
    "start_time": "2023-04-17T10:05:57.783Z"
   },
   {
    "duration": 5,
    "start_time": "2023-04-17T10:06:06.436Z"
   },
   {
    "duration": 4,
    "start_time": "2023-04-17T10:06:09.782Z"
   },
   {
    "duration": 5,
    "start_time": "2023-04-17T10:06:21.926Z"
   },
   {
    "duration": 8,
    "start_time": "2023-04-17T10:06:25.620Z"
   },
   {
    "duration": 6,
    "start_time": "2023-04-17T10:06:27.589Z"
   },
   {
    "duration": 3,
    "start_time": "2023-04-17T10:06:47.577Z"
   },
   {
    "duration": 47,
    "start_time": "2023-04-17T10:06:47.582Z"
   },
   {
    "duration": 9,
    "start_time": "2023-04-17T10:06:47.631Z"
   },
   {
    "duration": 23,
    "start_time": "2023-04-17T10:06:47.642Z"
   },
   {
    "duration": 4,
    "start_time": "2023-04-17T10:06:47.667Z"
   },
   {
    "duration": 9,
    "start_time": "2023-04-17T10:06:47.672Z"
   },
   {
    "duration": 9,
    "start_time": "2023-04-17T10:06:47.682Z"
   },
   {
    "duration": 422,
    "start_time": "2023-04-17T10:06:47.693Z"
   },
   {
    "duration": 5,
    "start_time": "2023-04-17T10:06:48.117Z"
   },
   {
    "duration": 7,
    "start_time": "2023-04-17T10:06:48.123Z"
   },
   {
    "duration": 11,
    "start_time": "2023-04-17T10:06:48.132Z"
   },
   {
    "duration": 43,
    "start_time": "2023-04-17T10:06:48.145Z"
   },
   {
    "duration": 98,
    "start_time": "2023-04-17T10:06:48.191Z"
   },
   {
    "duration": 4,
    "start_time": "2023-04-17T10:06:48.291Z"
   },
   {
    "duration": 5,
    "start_time": "2023-04-17T10:07:25.059Z"
   },
   {
    "duration": 3,
    "start_time": "2023-04-17T10:07:30.074Z"
   },
   {
    "duration": 43,
    "start_time": "2023-04-17T10:07:30.079Z"
   },
   {
    "duration": 9,
    "start_time": "2023-04-17T10:07:30.124Z"
   },
   {
    "duration": 21,
    "start_time": "2023-04-17T10:07:30.134Z"
   },
   {
    "duration": 9,
    "start_time": "2023-04-17T10:07:30.158Z"
   },
   {
    "duration": 21,
    "start_time": "2023-04-17T10:07:30.169Z"
   },
   {
    "duration": 28,
    "start_time": "2023-04-17T10:07:30.192Z"
   },
   {
    "duration": 459,
    "start_time": "2023-04-17T10:07:30.223Z"
   },
   {
    "duration": 6,
    "start_time": "2023-04-17T10:07:30.684Z"
   },
   {
    "duration": 33,
    "start_time": "2023-04-17T10:07:30.692Z"
   },
   {
    "duration": 44,
    "start_time": "2023-04-17T10:07:30.727Z"
   },
   {
    "duration": 118,
    "start_time": "2023-04-17T10:07:30.774Z"
   },
   {
    "duration": 52,
    "start_time": "2023-04-17T10:07:30.894Z"
   },
   {
    "duration": 108,
    "start_time": "2023-04-17T10:07:30.949Z"
   },
   {
    "duration": 6,
    "start_time": "2023-04-17T10:07:44.529Z"
   },
   {
    "duration": 5,
    "start_time": "2023-04-17T10:07:48.218Z"
   },
   {
    "duration": 139,
    "start_time": "2023-04-17T10:07:48.226Z"
   },
   {
    "duration": 35,
    "start_time": "2023-04-17T10:07:48.367Z"
   },
   {
    "duration": 86,
    "start_time": "2023-04-17T10:07:48.407Z"
   },
   {
    "duration": 13,
    "start_time": "2023-04-17T10:07:48.495Z"
   },
   {
    "duration": 4,
    "start_time": "2023-04-17T10:07:51.328Z"
   },
   {
    "duration": 13,
    "start_time": "2023-04-17T10:07:51.334Z"
   },
   {
    "duration": 10,
    "start_time": "2023-04-17T10:07:51.349Z"
   },
   {
    "duration": 41,
    "start_time": "2023-04-17T10:07:51.361Z"
   },
   {
    "duration": 85,
    "start_time": "2023-04-17T10:07:51.406Z"
   },
   {
    "duration": 14,
    "start_time": "2023-04-17T10:09:13.212Z"
   },
   {
    "duration": 6,
    "start_time": "2023-04-17T10:10:04.271Z"
   },
   {
    "duration": 9,
    "start_time": "2023-04-17T10:11:10.432Z"
   },
   {
    "duration": 12,
    "start_time": "2023-04-17T10:11:16.473Z"
   },
   {
    "duration": 7,
    "start_time": "2023-04-17T10:11:25.379Z"
   },
   {
    "duration": 8,
    "start_time": "2023-04-17T10:11:26.540Z"
   },
   {
    "duration": 6,
    "start_time": "2023-04-17T10:11:34.917Z"
   },
   {
    "duration": 5,
    "start_time": "2023-04-17T10:11:52.361Z"
   },
   {
    "duration": 5,
    "start_time": "2023-04-17T10:11:54.255Z"
   },
   {
    "duration": 129,
    "start_time": "2023-04-17T10:13:08.449Z"
   },
   {
    "duration": 4,
    "start_time": "2023-04-17T10:15:20.026Z"
   },
   {
    "duration": 4,
    "start_time": "2023-04-17T10:15:28.839Z"
   },
   {
    "duration": 4,
    "start_time": "2023-04-17T10:15:31.823Z"
   },
   {
    "duration": 3,
    "start_time": "2023-04-17T10:15:33.174Z"
   },
   {
    "duration": 11,
    "start_time": "2023-04-17T10:15:40.877Z"
   },
   {
    "duration": 5,
    "start_time": "2023-04-17T10:16:08.842Z"
   },
   {
    "duration": 12,
    "start_time": "2023-04-17T10:16:13.986Z"
   },
   {
    "duration": 13,
    "start_time": "2023-04-17T10:16:37.523Z"
   },
   {
    "duration": 4,
    "start_time": "2023-04-17T10:17:22.251Z"
   },
   {
    "duration": 4,
    "start_time": "2023-04-17T10:18:35.119Z"
   },
   {
    "duration": 23,
    "start_time": "2023-04-17T10:18:35.125Z"
   },
   {
    "duration": 38,
    "start_time": "2023-04-17T10:18:35.150Z"
   },
   {
    "duration": 98,
    "start_time": "2023-04-17T10:18:35.190Z"
   },
   {
    "duration": 14,
    "start_time": "2023-04-17T10:18:35.290Z"
   },
   {
    "duration": 16,
    "start_time": "2023-04-17T10:18:35.306Z"
   },
   {
    "duration": 6,
    "start_time": "2023-04-17T10:21:26.644Z"
   },
   {
    "duration": 3,
    "start_time": "2023-04-17T10:21:37.357Z"
   },
   {
    "duration": 148,
    "start_time": "2023-04-17T10:21:37.363Z"
   },
   {
    "duration": 11,
    "start_time": "2023-04-17T10:21:37.513Z"
   },
   {
    "duration": 32,
    "start_time": "2023-04-17T10:21:37.526Z"
   },
   {
    "duration": 21,
    "start_time": "2023-04-17T10:21:37.561Z"
   },
   {
    "duration": 17,
    "start_time": "2023-04-17T10:21:37.584Z"
   },
   {
    "duration": 23,
    "start_time": "2023-04-17T10:21:37.603Z"
   },
   {
    "duration": 451,
    "start_time": "2023-04-17T10:21:37.628Z"
   },
   {
    "duration": 7,
    "start_time": "2023-04-17T10:21:38.081Z"
   },
   {
    "duration": 21,
    "start_time": "2023-04-17T10:21:38.090Z"
   },
   {
    "duration": 11,
    "start_time": "2023-04-17T10:21:38.112Z"
   },
   {
    "duration": 63,
    "start_time": "2023-04-17T10:21:38.125Z"
   },
   {
    "duration": 11,
    "start_time": "2023-04-17T10:21:38.191Z"
   },
   {
    "duration": 111,
    "start_time": "2023-04-17T10:21:38.205Z"
   },
   {
    "duration": 5,
    "start_time": "2023-04-17T10:21:38.317Z"
   },
   {
    "duration": 14,
    "start_time": "2023-04-17T10:21:38.324Z"
   },
   {
    "duration": 19,
    "start_time": "2023-04-17T10:21:38.340Z"
   },
   {
    "duration": 28,
    "start_time": "2023-04-17T10:21:38.361Z"
   },
   {
    "duration": 26,
    "start_time": "2023-04-17T10:21:38.391Z"
   },
   {
    "duration": 19,
    "start_time": "2023-04-17T10:21:38.419Z"
   },
   {
    "duration": 9,
    "start_time": "2023-04-17T10:21:38.440Z"
   },
   {
    "duration": 7,
    "start_time": "2023-04-17T10:21:38.487Z"
   },
   {
    "duration": 93,
    "start_time": "2023-04-17T10:21:38.497Z"
   },
   {
    "duration": 9,
    "start_time": "2023-04-17T10:21:38.591Z"
   },
   {
    "duration": 10,
    "start_time": "2023-04-17T10:21:38.602Z"
   },
   {
    "duration": 2577,
    "start_time": "2023-04-17T10:57:26.606Z"
   },
   {
    "duration": 27,
    "start_time": "2023-04-17T10:57:29.185Z"
   },
   {
    "duration": 15,
    "start_time": "2023-04-17T10:57:29.214Z"
   },
   {
    "duration": 10,
    "start_time": "2023-04-17T10:57:29.231Z"
   },
   {
    "duration": 16,
    "start_time": "2023-04-17T10:57:29.243Z"
   },
   {
    "duration": 7,
    "start_time": "2023-04-17T10:57:29.261Z"
   },
   {
    "duration": 9,
    "start_time": "2023-04-17T10:57:29.269Z"
   },
   {
    "duration": 404,
    "start_time": "2023-04-17T10:57:29.285Z"
   },
   {
    "duration": 4,
    "start_time": "2023-04-17T10:57:29.690Z"
   },
   {
    "duration": 4,
    "start_time": "2023-04-17T10:57:29.697Z"
   },
   {
    "duration": 13,
    "start_time": "2023-04-17T10:57:29.702Z"
   },
   {
    "duration": 72,
    "start_time": "2023-04-17T10:57:29.718Z"
   },
   {
    "duration": 11,
    "start_time": "2023-04-17T10:57:29.792Z"
   },
   {
    "duration": 7,
    "start_time": "2023-04-17T10:57:29.886Z"
   },
   {
    "duration": 6,
    "start_time": "2023-04-17T10:57:29.895Z"
   },
   {
    "duration": 11,
    "start_time": "2023-04-17T10:57:29.904Z"
   },
   {
    "duration": 8,
    "start_time": "2023-04-17T10:57:29.917Z"
   },
   {
    "duration": 6,
    "start_time": "2023-04-17T10:57:29.926Z"
   },
   {
    "duration": 10,
    "start_time": "2023-04-17T10:57:29.934Z"
   },
   {
    "duration": 41,
    "start_time": "2023-04-17T10:57:29.945Z"
   },
   {
    "duration": 5,
    "start_time": "2023-04-17T10:57:29.988Z"
   },
   {
    "duration": 91,
    "start_time": "2023-04-17T10:57:29.994Z"
   },
   {
    "duration": 11,
    "start_time": "2023-04-17T10:57:30.087Z"
   },
   {
    "duration": 33,
    "start_time": "2023-04-17T10:57:30.099Z"
   },
   {
    "duration": 31,
    "start_time": "2023-04-17T10:57:30.133Z"
   },
   {
    "duration": 3,
    "start_time": "2023-04-17T12:55:14.424Z"
   },
   {
    "duration": 44,
    "start_time": "2023-04-17T12:55:14.429Z"
   },
   {
    "duration": 9,
    "start_time": "2023-04-17T12:55:14.475Z"
   },
   {
    "duration": 16,
    "start_time": "2023-04-17T12:55:14.486Z"
   },
   {
    "duration": 22,
    "start_time": "2023-04-17T12:55:14.504Z"
   },
   {
    "duration": 46,
    "start_time": "2023-04-17T12:55:14.528Z"
   },
   {
    "duration": 20,
    "start_time": "2023-04-17T12:55:14.575Z"
   },
   {
    "duration": 453,
    "start_time": "2023-04-17T12:55:14.596Z"
   },
   {
    "duration": 5,
    "start_time": "2023-04-17T12:55:15.051Z"
   },
   {
    "duration": 28,
    "start_time": "2023-04-17T12:55:15.057Z"
   },
   {
    "duration": 22,
    "start_time": "2023-04-17T12:55:15.087Z"
   },
   {
    "duration": 78,
    "start_time": "2023-04-17T12:55:15.111Z"
   },
   {
    "duration": 12,
    "start_time": "2023-04-17T12:55:15.191Z"
   },
   {
    "duration": 7,
    "start_time": "2023-04-17T12:55:15.287Z"
   },
   {
    "duration": 8,
    "start_time": "2023-04-17T12:55:15.295Z"
   },
   {
    "duration": 19,
    "start_time": "2023-04-17T12:55:15.305Z"
   },
   {
    "duration": 13,
    "start_time": "2023-04-17T12:55:15.327Z"
   },
   {
    "duration": 6,
    "start_time": "2023-04-17T12:55:15.342Z"
   },
   {
    "duration": 14,
    "start_time": "2023-04-17T12:55:15.350Z"
   },
   {
    "duration": 22,
    "start_time": "2023-04-17T12:55:15.366Z"
   },
   {
    "duration": 13,
    "start_time": "2023-04-17T12:55:15.391Z"
   },
   {
    "duration": 97,
    "start_time": "2023-04-17T12:55:15.406Z"
   },
   {
    "duration": 14,
    "start_time": "2023-04-17T12:55:15.504Z"
   },
   {
    "duration": 21,
    "start_time": "2023-04-17T12:55:15.520Z"
   },
   {
    "duration": 5,
    "start_time": "2023-04-17T12:55:15.588Z"
   },
   {
    "duration": 5,
    "start_time": "2023-04-17T12:56:16.936Z"
   },
   {
    "duration": 3,
    "start_time": "2023-04-17T12:56:42.233Z"
   },
   {
    "duration": 8,
    "start_time": "2023-04-17T12:56:47.657Z"
   },
   {
    "duration": 3,
    "start_time": "2023-04-17T12:56:51.618Z"
   },
   {
    "duration": 4,
    "start_time": "2023-04-17T12:56:52.819Z"
   },
   {
    "duration": 3,
    "start_time": "2023-04-17T12:57:34.907Z"
   },
   {
    "duration": 4,
    "start_time": "2023-04-17T12:57:35.374Z"
   },
   {
    "duration": 3,
    "start_time": "2023-04-17T12:57:42.372Z"
   },
   {
    "duration": 5,
    "start_time": "2023-04-17T12:57:43.667Z"
   },
   {
    "duration": 3,
    "start_time": "2023-04-17T12:58:11.421Z"
   },
   {
    "duration": 5,
    "start_time": "2023-04-17T12:58:11.768Z"
   },
   {
    "duration": 3,
    "start_time": "2023-04-17T12:58:25.547Z"
   },
   {
    "duration": 4,
    "start_time": "2023-04-17T12:58:25.833Z"
   },
   {
    "duration": 2,
    "start_time": "2023-04-17T12:59:44.276Z"
   },
   {
    "duration": 4,
    "start_time": "2023-04-17T12:59:45.102Z"
   },
   {
    "duration": 4,
    "start_time": "2023-04-17T13:00:06.056Z"
   },
   {
    "duration": 5,
    "start_time": "2023-04-17T13:00:06.740Z"
   },
   {
    "duration": 3,
    "start_time": "2023-04-17T13:00:10.240Z"
   },
   {
    "duration": 4,
    "start_time": "2023-04-17T13:00:10.550Z"
   },
   {
    "duration": 4,
    "start_time": "2023-04-17T13:00:15.344Z"
   },
   {
    "duration": 4,
    "start_time": "2023-04-17T13:00:15.548Z"
   },
   {
    "duration": 3,
    "start_time": "2023-04-17T13:00:26.036Z"
   },
   {
    "duration": 5,
    "start_time": "2023-04-17T13:00:26.737Z"
   },
   {
    "duration": 3,
    "start_time": "2023-04-17T13:00:54.677Z"
   },
   {
    "duration": 4,
    "start_time": "2023-04-17T13:00:55.226Z"
   },
   {
    "duration": 4,
    "start_time": "2023-04-17T13:02:06.752Z"
   },
   {
    "duration": 4,
    "start_time": "2023-04-17T13:03:11.046Z"
   },
   {
    "duration": 3,
    "start_time": "2023-04-17T13:03:11.414Z"
   },
   {
    "duration": 3,
    "start_time": "2023-04-17T13:03:17.702Z"
   },
   {
    "duration": 4,
    "start_time": "2023-04-17T13:03:17.971Z"
   },
   {
    "duration": 4,
    "start_time": "2023-04-17T13:03:52.395Z"
   },
   {
    "duration": 3,
    "start_time": "2023-04-17T13:03:53.217Z"
   },
   {
    "duration": 3,
    "start_time": "2023-04-17T13:03:53.871Z"
   },
   {
    "duration": 17,
    "start_time": "2023-04-17T13:03:53.876Z"
   },
   {
    "duration": 4,
    "start_time": "2023-04-17T13:03:55.216Z"
   },
   {
    "duration": 3,
    "start_time": "2023-04-17T13:04:20.132Z"
   },
   {
    "duration": 4,
    "start_time": "2023-04-17T13:04:20.382Z"
   },
   {
    "duration": 3,
    "start_time": "2023-04-17T13:04:27.605Z"
   },
   {
    "duration": 5,
    "start_time": "2023-04-17T13:04:27.815Z"
   },
   {
    "duration": 3,
    "start_time": "2023-04-17T13:04:38.214Z"
   },
   {
    "duration": 3,
    "start_time": "2023-04-17T13:04:38.410Z"
   },
   {
    "duration": 5,
    "start_time": "2023-04-17T13:04:38.809Z"
   },
   {
    "duration": 4,
    "start_time": "2023-04-17T13:04:53.426Z"
   },
   {
    "duration": 42,
    "start_time": "2023-04-17T13:04:53.604Z"
   },
   {
    "duration": 5,
    "start_time": "2023-04-17T13:04:53.920Z"
   },
   {
    "duration": 5,
    "start_time": "2023-04-17T13:05:03.222Z"
   },
   {
    "duration": 4,
    "start_time": "2023-04-17T13:05:03.421Z"
   },
   {
    "duration": 3,
    "start_time": "2023-04-17T13:05:11.319Z"
   },
   {
    "duration": 5,
    "start_time": "2023-04-17T13:05:11.539Z"
   },
   {
    "duration": 3,
    "start_time": "2023-04-17T13:05:29.302Z"
   },
   {
    "duration": 3,
    "start_time": "2023-04-17T13:05:29.510Z"
   },
   {
    "duration": 4,
    "start_time": "2023-04-17T13:05:29.975Z"
   },
   {
    "duration": 3,
    "start_time": "2023-04-17T13:05:41.355Z"
   },
   {
    "duration": 3,
    "start_time": "2023-04-17T13:05:41.880Z"
   },
   {
    "duration": 5,
    "start_time": "2023-04-17T13:05:43.346Z"
   },
   {
    "duration": 4,
    "start_time": "2023-04-17T13:05:46.901Z"
   },
   {
    "duration": 3,
    "start_time": "2023-04-17T13:05:47.185Z"
   },
   {
    "duration": 4,
    "start_time": "2023-04-17T13:05:47.503Z"
   },
   {
    "duration": 114,
    "start_time": "2023-04-17T14:00:45.058Z"
   },
   {
    "duration": 3,
    "start_time": "2023-04-17T14:08:21.080Z"
   },
   {
    "duration": 4,
    "start_time": "2023-04-17T14:08:31.484Z"
   },
   {
    "duration": 3,
    "start_time": "2023-04-17T14:08:33.256Z"
   },
   {
    "duration": 4,
    "start_time": "2023-04-17T14:08:33.628Z"
   },
   {
    "duration": 3,
    "start_time": "2023-04-17T14:09:25.062Z"
   },
   {
    "duration": 4,
    "start_time": "2023-04-17T14:09:25.775Z"
   },
   {
    "duration": 3,
    "start_time": "2023-04-17T14:09:30.002Z"
   },
   {
    "duration": 4,
    "start_time": "2023-04-17T14:09:30.271Z"
   },
   {
    "duration": 3,
    "start_time": "2023-04-17T14:09:34.069Z"
   },
   {
    "duration": 4,
    "start_time": "2023-04-17T14:09:34.366Z"
   },
   {
    "duration": 3,
    "start_time": "2023-04-17T14:09:39.533Z"
   },
   {
    "duration": 4,
    "start_time": "2023-04-17T14:09:39.702Z"
   },
   {
    "duration": 3,
    "start_time": "2023-04-17T14:09:43.830Z"
   },
   {
    "duration": 4,
    "start_time": "2023-04-17T14:09:44.360Z"
   },
   {
    "duration": 87,
    "start_time": "2023-04-17T14:11:00.599Z"
   },
   {
    "duration": 4,
    "start_time": "2023-04-17T14:11:06.982Z"
   },
   {
    "duration": 990,
    "start_time": "2023-04-17T20:34:43.398Z"
   },
   {
    "duration": 124,
    "start_time": "2023-04-17T20:34:44.389Z"
   },
   {
    "duration": 14,
    "start_time": "2023-04-17T20:34:44.515Z"
   },
   {
    "duration": 15,
    "start_time": "2023-04-17T20:34:44.531Z"
   },
   {
    "duration": 4,
    "start_time": "2023-04-17T20:34:44.548Z"
   },
   {
    "duration": 6,
    "start_time": "2023-04-17T20:34:44.553Z"
   },
   {
    "duration": 9,
    "start_time": "2023-04-17T20:34:44.561Z"
   },
   {
    "duration": 414,
    "start_time": "2023-04-17T20:34:44.571Z"
   },
   {
    "duration": 8,
    "start_time": "2023-04-17T20:35:02.886Z"
   },
   {
    "duration": 13,
    "start_time": "2023-04-17T20:35:22.653Z"
   },
   {
    "duration": 4,
    "start_time": "2023-04-17T20:35:39.223Z"
   },
   {
    "duration": 5,
    "start_time": "2023-04-17T20:35:44.248Z"
   },
   {
    "duration": 4,
    "start_time": "2023-04-17T20:35:45.203Z"
   },
   {
    "duration": 4,
    "start_time": "2023-04-17T20:35:50.795Z"
   },
   {
    "duration": 7,
    "start_time": "2023-04-17T20:36:10.986Z"
   },
   {
    "duration": 1221,
    "start_time": "2023-04-18T09:42:41.680Z"
   },
   {
    "duration": 75,
    "start_time": "2023-04-18T09:42:43.694Z"
   },
   {
    "duration": 4,
    "start_time": "2023-04-18T09:42:52.945Z"
   },
   {
    "duration": 3,
    "start_time": "2023-04-18T09:42:59.941Z"
   },
   {
    "duration": 2,
    "start_time": "2023-04-18T09:44:31.658Z"
   },
   {
    "duration": 1931,
    "start_time": "2023-04-18T09:44:34.780Z"
   },
   {
    "duration": 15,
    "start_time": "2023-04-18T09:45:20.236Z"
   },
   {
    "duration": 3,
    "start_time": "2023-04-18T09:45:26.528Z"
   },
   {
    "duration": 1840,
    "start_time": "2023-04-18T09:45:29.891Z"
   },
   {
    "duration": 9,
    "start_time": "2023-04-18T09:45:37.624Z"
   },
   {
    "duration": 9,
    "start_time": "2023-04-18T09:45:43.795Z"
   },
   {
    "duration": 9,
    "start_time": "2023-04-18T09:45:52.124Z"
   }
  ],
  "kernelspec": {
   "display_name": "Python 3 (ipykernel)",
   "language": "python",
   "name": "python3"
  },
  "language_info": {
   "codemirror_mode": {
    "name": "ipython",
    "version": 3
   },
   "file_extension": ".py",
   "mimetype": "text/x-python",
   "name": "python",
   "nbconvert_exporter": "python",
   "pygments_lexer": "ipython3",
   "version": "3.10.9"
  },
  "toc": {
   "base_numbering": 1,
   "nav_menu": {},
   "number_sections": true,
   "sideBar": true,
   "skip_h1_title": true,
   "title_cell": "Содержание",
   "title_sidebar": "Contents",
   "toc_cell": true,
   "toc_position": {
    "height": "calc(100% - 180px)",
    "left": "10px",
    "top": "150px",
    "width": "722.326px"
   },
   "toc_section_display": true,
   "toc_window_display": false
  }
 },
 "nbformat": 4,
 "nbformat_minor": 2
}
