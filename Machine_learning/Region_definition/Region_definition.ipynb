{
 "cells": [
  {
   "cell_type": "markdown",
   "metadata": {},
   "source": [
    "# Выбор локации для скважины"
   ]
  },
  {
   "cell_type": "markdown",
   "metadata": {},
   "source": [
    "## Загрузка и подготовка данных"
   ]
  },
  {
   "cell_type": "code",
   "execution_count": 2,
   "metadata": {},
   "outputs": [],
   "source": [
    "import pandas as pd\n",
    "import numpy as np\n",
    "from scipy import stats as st\n",
    "from sklearn.model_selection import train_test_split\n",
    "from sklearn.linear_model import LinearRegression\n",
    "from sklearn.metrics import mean_squared_error\n",
    "import matplotlib.pyplot as plt\n",
    "import seaborn as sns"
   ]
  },
  {
   "cell_type": "code",
   "execution_count": 76,
   "metadata": {},
   "outputs": [
    {
     "name": "stdout",
     "output_type": "stream",
     "text": [
      "<class 'pandas.core.frame.DataFrame'>\n",
      "RangeIndex: 100000 entries, 0 to 99999\n",
      "Data columns (total 5 columns):\n",
      " #   Column   Non-Null Count   Dtype  \n",
      "---  ------   --------------   -----  \n",
      " 0   id       100000 non-null  object \n",
      " 1   f0       100000 non-null  float64\n",
      " 2   f1       100000 non-null  float64\n",
      " 3   f2       100000 non-null  float64\n",
      " 4   product  100000 non-null  float64\n",
      "dtypes: float64(4), object(1)\n",
      "memory usage: 3.8+ MB\n"
     ]
    }
   ],
   "source": [
    "data_1.info()"
   ]
  },
  {
   "cell_type": "code",
   "execution_count": 77,
   "metadata": {},
   "outputs": [
    {
     "name": "stdout",
     "output_type": "stream",
     "text": [
      "<class 'pandas.core.frame.DataFrame'>\n",
      "RangeIndex: 100000 entries, 0 to 99999\n",
      "Data columns (total 5 columns):\n",
      " #   Column   Non-Null Count   Dtype  \n",
      "---  ------   --------------   -----  \n",
      " 0   id       100000 non-null  object \n",
      " 1   f0       100000 non-null  float64\n",
      " 2   f1       100000 non-null  float64\n",
      " 3   f2       100000 non-null  float64\n",
      " 4   product  100000 non-null  float64\n",
      "dtypes: float64(4), object(1)\n",
      "memory usage: 3.8+ MB\n"
     ]
    }
   ],
   "source": [
    "data_2.info()"
   ]
  },
  {
   "cell_type": "code",
   "execution_count": 78,
   "metadata": {},
   "outputs": [
    {
     "name": "stdout",
     "output_type": "stream",
     "text": [
      "<class 'pandas.core.frame.DataFrame'>\n",
      "RangeIndex: 100000 entries, 0 to 99999\n",
      "Data columns (total 5 columns):\n",
      " #   Column   Non-Null Count   Dtype  \n",
      "---  ------   --------------   -----  \n",
      " 0   id       100000 non-null  object \n",
      " 1   f0       100000 non-null  float64\n",
      " 2   f1       100000 non-null  float64\n",
      " 3   f2       100000 non-null  float64\n",
      " 4   product  100000 non-null  float64\n",
      "dtypes: float64(4), object(1)\n",
      "memory usage: 3.8+ MB\n"
     ]
    }
   ],
   "source": [
    "data_3.info()"
   ]
  },
  {
   "cell_type": "code",
   "execution_count": 79,
   "metadata": {},
   "outputs": [
    {
     "data": {
      "text/plain": [
       "0"
      ]
     },
     "execution_count": 79,
     "metadata": {},
     "output_type": "execute_result"
    }
   ],
   "source": [
    "data_1.duplicated().sum()"
   ]
  },
  {
   "cell_type": "code",
   "execution_count": 80,
   "metadata": {},
   "outputs": [
    {
     "data": {
      "text/plain": [
       "0"
      ]
     },
     "execution_count": 80,
     "metadata": {},
     "output_type": "execute_result"
    }
   ],
   "source": [
    "data_2.duplicated().sum()"
   ]
  },
  {
   "cell_type": "code",
   "execution_count": 81,
   "metadata": {},
   "outputs": [
    {
     "data": {
      "text/plain": [
       "0"
      ]
     },
     "execution_count": 81,
     "metadata": {},
     "output_type": "execute_result"
    }
   ],
   "source": [
    "data_3.duplicated().sum()"
   ]
  },
  {
   "cell_type": "markdown",
   "metadata": {},
   "source": [
    "Пропусков и явных дубликотов не обнаружено"
   ]
  },
  {
   "cell_type": "code",
   "execution_count": 132,
   "metadata": {},
   "outputs": [
    {
     "name": "stdout",
     "output_type": "stream",
     "text": [
      "Район 1, корреляция объема запасов с признаком 'f0': 0.14\n",
      "Район 1, корреляция объема запасов с признаком 'f1': -0.19\n",
      "Район 1, корреляция объема запасов с признаком 'f2': 0.48\n",
      "Район 2, корреляция объема запасов с признаком 'f0': -0.03\n",
      "Район 2, корреляция объема запасов с признаком 'f1': -0.01\n",
      "Район 2, корреляция объема запасов с признаком 'f2': 0.99939697\n",
      "Район 3, корреляция объема запасов с признаком 'f0': -0.0\n",
      "Район 3, корреляция объема запасов с признаком 'f1': -0.0\n",
      "Район 3, корреляция объема запасов с признаком 'f2': 0.45\n"
     ]
    }
   ],
   "source": [
    "print('Район 1, корреляция объема запасов с признаком \\'f0\\':', data_1['f0'].corr(data_1['product']).round(2))\n",
    "print('Район 1, корреляция объема запасов с признаком \\'f1\\':', data_1['f1'].corr(data_1['product']).round(2))\n",
    "print('Район 1, корреляция объема запасов с признаком \\'f2\\':', data_1['f2'].corr(data_1['product']).round(2))\n",
    "print('Район 2, корреляция объема запасов с признаком \\'f0\\':', data_2['f0'].corr(data_2['product']).round(2))\n",
    "print('Район 2, корреляция объема запасов с признаком \\'f1\\':', data_2['f1'].corr(data_2['product']).round(2))\n",
    "print('Район 2, корреляция объема запасов с признаком \\'f2\\':', data_2['f2'].corr(data_2['product']).round(8))\n",
    "print('Район 3, корреляция объема запасов с признаком \\'f0\\':', data_3['f0'].corr(data_3['product']).round(2))\n",
    "print('Район 3, корреляция объема запасов с признаком \\'f1\\':', data_3['f1'].corr(data_3['product']).round(2))\n",
    "print('Район 3, корреляция объема запасов с признаком \\'f2\\':', data_3['f2'].corr(data_3['product']).round(2))"
   ]
  },
  {
   "cell_type": "markdown",
   "metadata": {},
   "source": [
    "'f2' влияет на объем больше остальных признаков.\n",
    "\n",
    "Для второго региона корелляция объема с 'f2' ~100%"
   ]
  },
  {
   "cell_type": "code",
   "execution_count": 83,
   "metadata": {},
   "outputs": [],
   "source": [
    "features_1=data_1.drop(['product','id'], axis=1)\n",
    "target_1=data_1['product']\n",
    "features_2=data_2.drop(['product','id'], axis=1)\n",
    "target_2=data_2['product']\n",
    "features_3=data_3.drop(['product','id'], axis=1)\n",
    "target_3=data_3['product']\n",
    "\n",
    "features_train_1, features_valid_1, target_train_1, target_valid_1 = train_test_split(\n",
    "    features_1, target_1, test_size=0.25, random_state=12345)\n",
    "\n",
    "features_train_2, features_valid_2, target_train_2, target_valid_2 = train_test_split(\n",
    "    features_2, target_2, test_size=0.25, random_state=12345)\n",
    "\n",
    "features_train_3, features_valid_3, target_train_3, target_valid_3 = train_test_split(\n",
    "    features_3, target_3, test_size=0.25, random_state=12345)"
   ]
  },
  {
   "cell_type": "code",
   "execution_count": 84,
   "metadata": {},
   "outputs": [
    {
     "name": "stdout",
     "output_type": "stream",
     "text": [
      "(75000, 3) (25000, 3) (75000,) (25000,)\n",
      "(75000, 3) (25000, 3) (75000,) (25000,)\n",
      "(75000, 3) (25000, 3) (75000,) (25000,)\n"
     ]
    }
   ],
   "source": [
    "print(features_train_1.shape, features_valid_1.shape, target_train_1.shape, target_valid_1.shape)\n",
    "print(features_train_2.shape, features_valid_2.shape, target_train_2.shape, target_valid_2.shape)\n",
    "print(features_train_3.shape, features_valid_3.shape, target_train_3.shape, target_valid_3.shape)"
   ]
  },
  {
   "cell_type": "markdown",
   "metadata": {},
   "source": [
    "Выборки разделены корректно"
   ]
  },
  {
   "cell_type": "markdown",
   "metadata": {},
   "source": [
    "## Обучение и проверка модели"
   ]
  },
  {
   "cell_type": "code",
   "execution_count": 85,
   "metadata": {},
   "outputs": [
    {
     "name": "stdout",
     "output_type": "stream",
     "text": [
      "Cредний запас предсказанного сырья первого региона: 92.59256778438035 RMSE : 37.5794217150813\n"
     ]
    }
   ],
   "source": [
    "model_1 = LinearRegression()\n",
    "model_1.fit(features_train_1,target_train_1)\n",
    "predictions_1 = model_1.predict(features_valid_1)\n",
    "rmse_1 = mean_squared_error(target_valid_1, predictions_1, squared=False)\n",
    "print('Cредний запас предсказанного сырья первого региона:', predictions_1.mean(),'RMSE :',rmse_1)"
   ]
  },
  {
   "cell_type": "code",
   "execution_count": 86,
   "metadata": {},
   "outputs": [
    {
     "name": "stdout",
     "output_type": "stream",
     "text": [
      "Cредний запас предсказанного сырья второго региона: 68.728546895446 RMSE : 0.893099286775617\n"
     ]
    }
   ],
   "source": [
    "model_2 = LinearRegression()\n",
    "model_2.fit(features_train_2,target_train_2)\n",
    "predictions_2 = model_2.predict(features_valid_2)\n",
    "rmse_2 = mean_squared_error(target_valid_2, predictions_2, squared=False)\n",
    "print('Cредний запас предсказанного сырья второго региона:', predictions_2.mean(),'RMSE :',rmse_2)"
   ]
  },
  {
   "cell_type": "code",
   "execution_count": 87,
   "metadata": {},
   "outputs": [
    {
     "name": "stdout",
     "output_type": "stream",
     "text": [
      "Cредний запас предсказанного сырья третьего региона: 94.96504596800489 RMSE : 40.02970873393434\n"
     ]
    }
   ],
   "source": [
    "model_3 = LinearRegression()\n",
    "model_3.fit(features_train_3,target_train_3)\n",
    "predictions_3 = model_3.predict(features_valid_3)\n",
    "rmse_3 = mean_squared_error(target_valid_3, predictions_3, squared=False)\n",
    "print('Cредний запас предсказанного сырья третьего региона:', predictions_3.mean(),'RMSE :',rmse_3)"
   ]
  },
  {
   "cell_type": "markdown",
   "metadata": {},
   "source": [
    "Первый и третий регион похожи по предсказаным значениям и RMSE, а второй имеет меньший показатель предсказанного сырья и подозрительно низкий RMSE"
   ]
  },
  {
   "cell_type": "code",
   "execution_count": 88,
   "metadata": {
    "scrolled": false
   },
   "outputs": [
    {
     "data": {
      "image/png": "[encoded data removed]",
      "text/plain": [
       "<Figure size 432x288 with 1 Axes>"
      ]
     },
     "metadata": {
      "needs_background": "light"
     },
     "output_type": "display_data"
    }
   ],
   "source": [
    "sns.histplot(data=data_1, x=\"product\")\n",
    "plt.title('Район 1');"
   ]
  },
  {
   "cell_type": "code",
   "execution_count": 89,
   "metadata": {},
   "outputs": [
    {
     "data": {
      "image/png": "[encoded data removed]",
      "text/plain": [
       "<Figure size 432x288 with 1 Axes>"
      ]
     },
     "metadata": {
      "needs_background": "light"
     },
     "output_type": "display_data"
    }
   ],
   "source": [
    "sns.histplot(data=data_2, x=\"product\", bins=50)\n",
    "plt.title('Район 2');"
   ]
  },
  {
   "cell_type": "code",
   "execution_count": 90,
   "metadata": {
    "scrolled": true
   },
   "outputs": [
    {
     "data": {
      "image/png": "[encoded data removed]",
      "text/plain": [
       "<Figure size 432x288 with 1 Axes>"
      ]
     },
     "metadata": {
      "needs_background": "light"
     },
     "output_type": "display_data"
    }
   ],
   "source": [
    "sns.histplot(data=data_3, x=\"product\")\n",
    "plt.title('Район 3');"
   ]
  },
  {
   "cell_type": "code",
   "execution_count": 91,
   "metadata": {
    "scrolled": true
   },
   "outputs": [
    {
     "data": {
      "text/plain": [
       "53.906522     8472\n",
       "26.953261     8468\n",
       "84.038886     8431\n",
       "57.085625     8390\n",
       "3.179103      8337\n",
       "80.859783     8320\n",
       "30.132364     8306\n",
       "134.766305    8304\n",
       "110.992147    8303\n",
       "0.000000      8235\n",
       "137.945408    8233\n",
       "107.813044    8201\n",
       "Name: product, dtype: int64"
      ]
     },
     "execution_count": 91,
     "metadata": {},
     "output_type": "execute_result"
    }
   ],
   "source": [
    "data_2['product'].value_counts()"
   ]
  },
  {
   "cell_type": "markdown",
   "metadata": {},
   "source": [
    "Всего 12 уникальных значений 'product' отсюда и низкий показатель ошибки"
   ]
  },
  {
   "cell_type": "markdown",
   "metadata": {},
   "source": [
    "## Подготовка к расчёту прибыли"
   ]
  },
  {
   "cell_type": "code",
   "execution_count": 92,
   "metadata": {},
   "outputs": [],
   "source": [
    "EXPLORING_POINTS = 500\n",
    "MOST_VALUEBLE_POINTS = 200\n",
    "BUDGET = 10_000_000_000\n",
    "BARREL_UNIT_COST = 450_000\n",
    "LOSS_PROB = 0.025"
   ]
  },
  {
   "cell_type": "code",
   "execution_count": 93,
   "metadata": {},
   "outputs": [],
   "source": [
    "threshold = BUDGET/(BARREL_UNIT_COST*most_valueble_points)"
   ]
  },
  {
   "cell_type": "code",
   "execution_count": 94,
   "metadata": {},
   "outputs": [
    {
     "data": {
      "text/plain": [
       "111.11111111111111"
      ]
     },
     "execution_count": 94,
     "metadata": {},
     "output_type": "execute_result"
    }
   ],
   "source": [
    "threshold"
   ]
  },
  {
   "cell_type": "markdown",
   "metadata": {},
   "source": [
    "Для безубыточной разработки новой скважины она должна производить не менее 111.11 тыс. баррелей сырья, что больше чем средний запас предсказанного сырья любого региона."
   ]
  },
  {
   "cell_type": "code",
   "execution_count": 95,
   "metadata": {},
   "outputs": [],
   "source": [
    "def revenue(target, predictions, count):\n",
    "    predictions_sorted = pd.DataFrame()\n",
    "    predictions_sorted['target'] = target\n",
    "    predictions_sorted['predictions']=predictions\n",
    "    predictions_sorted = predictions_sorted.sort_values(by='predictions', ascending=False)\n",
    "    return predictions_sorted['target'][0:count].sum()*BARREL_UNIT_COST-BUDGET"
   ]
  },
  {
   "cell_type": "code",
   "execution_count": 96,
   "metadata": {},
   "outputs": [
    {
     "data": {
      "text/plain": [
       "3320826043.1398506"
      ]
     },
     "execution_count": 96,
     "metadata": {},
     "output_type": "execute_result"
    }
   ],
   "source": [
    "pd.options.mode.chained_assignment = None\n",
    "revenue(target_valid_1, predictions_1, MOST_VALUEBLE_POINTS)"
   ]
  },
  {
   "cell_type": "code",
   "execution_count": 97,
   "metadata": {},
   "outputs": [
    {
     "data": {
      "text/plain": [
       "2415086696.681511"
      ]
     },
     "execution_count": 97,
     "metadata": {},
     "output_type": "execute_result"
    }
   ],
   "source": [
    "revenue(target_valid_2, predictions_2, MOST_VALUEBLE_POINTS)"
   ]
  },
  {
   "cell_type": "code",
   "execution_count": 98,
   "metadata": {
    "scrolled": true
   },
   "outputs": [
    {
     "data": {
      "text/plain": [
       "2710349963.5998325"
      ]
     },
     "execution_count": 98,
     "metadata": {},
     "output_type": "execute_result"
    }
   ],
   "source": [
    "revenue(target_valid_3, predictions_3, MOST_VALUEBLE_POINTS)"
   ]
  },
  {
   "cell_type": "markdown",
   "metadata": {},
   "source": [
    "## Расчёт прибыли и рисков "
   ]
  },
  {
   "cell_type": "code",
   "execution_count": 128,
   "metadata": {},
   "outputs": [],
   "source": [
    "state = np.random.RandomState(12345)\n",
    "def bootstrap (target, predictions):\n",
    "    values = []\n",
    "    for i in range(1000):\n",
    "        target_subsample = target.sample(n=EXPLORING_POINTS, replace=True, random_state=state)\n",
    "        probs_subsample = pd.Series(predictions, index=(target.index))[target_subsample.index]\n",
    "        \n",
    "        values.append(revenue(target_subsample,probs_subsample,MOST_VALUEBLE_POINTS))\n",
    "\n",
    "    values = pd.Series(values)\n",
    "    loss =values.quantile(q=LOSS_PROB)\n",
    "    mean = values.mean()\n",
    "    \n",
    "    risk=1\n",
    "    for j in np.arange(0,0.5,0.005):\n",
    "        if abs(values.quantile(q=j))==values.quantile(q=j) and risk>j:\n",
    "            risk=j\n",
    "            \n",
    "    print(\"95%-ый доверительный интервал:\", (loss/1_000_000).round(1),'млн.р.',(\n",
    "        values.quantile(q=0.975)/1_000_000).round(1),'млн.р.')\n",
    "    print(\"Средняя прибыль:\", (mean/1_000_000).round(1),'млн.р.')\n",
    "    print('Риск убытка',(risk*100).round(1),'%')"
   ]
  },
  {
   "cell_type": "code",
   "execution_count": 129,
   "metadata": {
    "scrolled": true
   },
   "outputs": [
    {
     "name": "stdout",
     "output_type": "stream",
     "text": [
      "95%-ый доверительный интервал: -111.2 млн.р. 909.8 млн.р.\n",
      "Средняя прибыль: 396.2 млн.р.\n",
      "Риск убытка 7.0 %\n"
     ]
    }
   ],
   "source": [
    "bootstrap(target_valid_1,predictions_1)"
   ]
  },
  {
   "cell_type": "code",
   "execution_count": 130,
   "metadata": {
    "scrolled": false
   },
   "outputs": [
    {
     "name": "stdout",
     "output_type": "stream",
     "text": [
      "95%-ый доверительный интервал: 78.1 млн.р. 863.0 млн.р.\n",
      "Средняя прибыль: 461.2 млн.р.\n",
      "Риск убытка 1.0 %\n"
     ]
    }
   ],
   "source": [
    "bootstrap(target_valid_2,predictions_2)"
   ]
  },
  {
   "cell_type": "code",
   "execution_count": 131,
   "metadata": {
    "scrolled": true
   },
   "outputs": [
    {
     "name": "stdout",
     "output_type": "stream",
     "text": [
      "95%-ый доверительный интервал: -112.2 млн.р. 934.6 млн.р.\n",
      "Средняя прибыль: 393.0 млн.р.\n",
      "Риск убытка 6.5 %\n"
     ]
    }
   ],
   "source": [
    "bootstrap(target_valid_3,predictions_3)"
   ]
  },
  {
   "cell_type": "markdown",
   "metadata": {},
   "source": [
    "Cогласно заданию после оценки рисков нужно оставить лишь те регионы, в которых вероятность убытков меньше 2.5% \n",
    "\n",
    "Подходит только второй регион"
   ]
  },
  {
   "cell_type": "code",
   "execution_count": null,
   "metadata": {},
   "outputs": [],
   "source": []
  }
 ],
 "metadata": {
  "ExecuteTimeLog": [
   {
    "duration": 448,
    "start_time": "2023-03-22T13:54:16.174Z"
   },
   {
    "duration": 823,
    "start_time": "2023-03-22T13:54:57.842Z"
   },
   {
    "duration": 25,
    "start_time": "2023-03-22T13:55:07.056Z"
   },
   {
    "duration": 18,
    "start_time": "2023-03-22T13:55:24.883Z"
   },
   {
    "duration": 105,
    "start_time": "2023-03-22T13:55:39.340Z"
   },
   {
    "duration": 33,
    "start_time": "2023-03-22T13:55:51.453Z"
   },
   {
    "duration": 33,
    "start_time": "2023-03-22T13:56:01.146Z"
   },
   {
    "duration": 27,
    "start_time": "2023-03-22T13:56:20.744Z"
   },
   {
    "duration": 860,
    "start_time": "2023-03-22T13:58:29.389Z"
   },
   {
    "duration": 806,
    "start_time": "2023-03-22T13:58:30.257Z"
   },
   {
    "duration": 11,
    "start_time": "2023-03-22T13:58:36.074Z"
   },
   {
    "duration": 10,
    "start_time": "2023-03-22T13:58:39.479Z"
   },
   {
    "duration": 16,
    "start_time": "2023-03-22T13:58:43.479Z"
   },
   {
    "duration": 16,
    "start_time": "2023-03-22T13:58:46.164Z"
   },
   {
    "duration": 17,
    "start_time": "2023-03-22T13:59:23.330Z"
   },
   {
    "duration": 200,
    "start_time": "2023-03-22T13:59:25.798Z"
   },
   {
    "duration": 21,
    "start_time": "2023-03-22T13:59:27.154Z"
   },
   {
    "duration": 37,
    "start_time": "2023-03-22T13:59:27.894Z"
   },
   {
    "duration": 16,
    "start_time": "2023-03-22T13:59:28.261Z"
   },
   {
    "duration": 9,
    "start_time": "2023-03-22T14:07:09.564Z"
   },
   {
    "duration": 14,
    "start_time": "2023-03-22T14:07:18.848Z"
   },
   {
    "duration": 914,
    "start_time": "2023-03-22T14:10:22.853Z"
   },
   {
    "duration": 58,
    "start_time": "2023-03-22T14:12:25.641Z"
   },
   {
    "duration": 5,
    "start_time": "2023-03-22T14:13:10.568Z"
   },
   {
    "duration": 1193,
    "start_time": "2023-03-23T08:12:54.746Z"
   },
   {
    "duration": 363,
    "start_time": "2023-03-23T08:12:55.941Z"
   },
   {
    "duration": 248,
    "start_time": "2023-03-23T08:12:56.306Z"
   },
   {
    "duration": 224,
    "start_time": "2023-03-23T08:12:56.556Z"
   },
   {
    "duration": 63,
    "start_time": "2023-03-23T08:13:12.846Z"
   },
   {
    "duration": 42,
    "start_time": "2023-03-23T08:13:19.574Z"
   },
   {
    "duration": 59,
    "start_time": "2023-03-23T08:13:25.369Z"
   },
   {
    "duration": 50,
    "start_time": "2023-03-23T08:13:28.598Z"
   },
   {
    "duration": 51,
    "start_time": "2023-03-23T08:13:32.098Z"
   },
   {
    "duration": 48,
    "start_time": "2023-03-23T08:13:41.462Z"
   },
   {
    "duration": 43,
    "start_time": "2023-03-23T08:13:41.657Z"
   },
   {
    "duration": 62,
    "start_time": "2023-03-23T08:13:41.758Z"
   },
   {
    "duration": 991,
    "start_time": "2023-03-23T10:49:03.094Z"
   },
   {
    "duration": 1375,
    "start_time": "2023-03-23T10:49:04.087Z"
   },
   {
    "duration": 781,
    "start_time": "2023-03-23T10:49:05.464Z"
   },
   {
    "duration": 683,
    "start_time": "2023-03-23T10:49:06.247Z"
   },
   {
    "duration": 14,
    "start_time": "2023-03-23T10:49:06.932Z"
   },
   {
    "duration": 11,
    "start_time": "2023-03-23T10:49:06.948Z"
   },
   {
    "duration": 12,
    "start_time": "2023-03-23T10:49:06.961Z"
   },
   {
    "duration": 42,
    "start_time": "2023-03-23T10:49:06.975Z"
   },
   {
    "duration": 50,
    "start_time": "2023-03-23T10:49:07.019Z"
   },
   {
    "duration": 39,
    "start_time": "2023-03-23T10:49:07.080Z"
   },
   {
    "duration": 33,
    "start_time": "2023-03-23T10:49:13.427Z"
   },
   {
    "duration": 5,
    "start_time": "2023-03-23T10:49:13.888Z"
   },
   {
    "duration": 4,
    "start_time": "2023-03-23T10:58:20.964Z"
   },
   {
    "duration": 91,
    "start_time": "2023-03-23T11:06:20.943Z"
   },
   {
    "duration": 102,
    "start_time": "2023-03-23T11:06:30.467Z"
   },
   {
    "duration": 20,
    "start_time": "2023-03-23T11:07:37.171Z"
   },
   {
    "duration": 19,
    "start_time": "2023-03-23T11:07:38.045Z"
   },
   {
    "duration": 14,
    "start_time": "2023-03-23T11:09:40.237Z"
   },
   {
    "duration": 13,
    "start_time": "2023-03-23T11:09:40.672Z"
   },
   {
    "duration": 5,
    "start_time": "2023-03-23T11:16:49.743Z"
   },
   {
    "duration": 5,
    "start_time": "2023-03-23T11:48:16.904Z"
   },
   {
    "duration": 4,
    "start_time": "2023-03-23T11:48:20.274Z"
   },
   {
    "duration": 410,
    "start_time": "2023-03-23T11:53:29.374Z"
   },
   {
    "duration": 114,
    "start_time": "2023-03-23T11:56:35.574Z"
   },
   {
    "duration": 90,
    "start_time": "2023-03-23T11:57:08.670Z"
   },
   {
    "duration": 94,
    "start_time": "2023-03-23T11:57:34.175Z"
   },
   {
    "duration": 251,
    "start_time": "2023-03-23T12:02:27.991Z"
   },
   {
    "duration": 162,
    "start_time": "2023-03-23T12:02:47.188Z"
   },
   {
    "duration": 159,
    "start_time": "2023-03-23T12:02:54.844Z"
   },
   {
    "duration": 229,
    "start_time": "2023-03-23T12:04:51.269Z"
   },
   {
    "duration": 254,
    "start_time": "2023-03-23T12:04:57.440Z"
   },
   {
    "duration": 254,
    "start_time": "2023-03-23T12:05:26.773Z"
   },
   {
    "duration": 199,
    "start_time": "2023-03-23T12:11:18.883Z"
   },
   {
    "duration": 171,
    "start_time": "2023-03-23T12:11:26.821Z"
   },
   {
    "duration": 252,
    "start_time": "2023-03-23T12:11:35.193Z"
   },
   {
    "duration": 188,
    "start_time": "2023-03-23T12:11:39.142Z"
   },
   {
    "duration": 167,
    "start_time": "2023-03-23T12:11:48.796Z"
   },
   {
    "duration": 166,
    "start_time": "2023-03-23T12:12:14.522Z"
   },
   {
    "duration": 177,
    "start_time": "2023-03-23T12:12:26.310Z"
   },
   {
    "duration": 168,
    "start_time": "2023-03-23T12:12:26.502Z"
   },
   {
    "duration": 180,
    "start_time": "2023-03-23T12:12:26.671Z"
   },
   {
    "duration": 4,
    "start_time": "2023-03-23T12:13:20.184Z"
   },
   {
    "duration": 10,
    "start_time": "2023-03-23T12:13:29.871Z"
   },
   {
    "duration": 9,
    "start_time": "2023-03-23T12:13:32.823Z"
   },
   {
    "duration": 7,
    "start_time": "2023-03-23T12:13:37.837Z"
   },
   {
    "duration": 12,
    "start_time": "2023-03-23T12:13:54.079Z"
   },
   {
    "duration": 13,
    "start_time": "2023-03-23T12:13:57.307Z"
   },
   {
    "duration": 8,
    "start_time": "2023-03-23T12:14:11.477Z"
   },
   {
    "duration": 14,
    "start_time": "2023-03-23T12:14:16.189Z"
   },
   {
    "duration": 8,
    "start_time": "2023-03-23T12:14:20.814Z"
   },
   {
    "duration": 4,
    "start_time": "2023-03-23T12:14:26.296Z"
   },
   {
    "duration": 159,
    "start_time": "2023-03-23T12:28:48.675Z"
   },
   {
    "duration": 187,
    "start_time": "2023-03-23T12:28:53.927Z"
   },
   {
    "duration": 286,
    "start_time": "2023-03-23T12:29:15.804Z"
   },
   {
    "duration": 171,
    "start_time": "2023-03-23T12:29:19.368Z"
   },
   {
    "duration": 172,
    "start_time": "2023-03-23T12:29:22.219Z"
   },
   {
    "duration": 4,
    "start_time": "2023-03-23T13:23:16.281Z"
   },
   {
    "duration": 40,
    "start_time": "2023-03-23T13:23:59.107Z"
   },
   {
    "duration": 3,
    "start_time": "2023-03-23T13:24:02.532Z"
   },
   {
    "duration": 48,
    "start_time": "2023-03-23T13:24:18.216Z"
   },
   {
    "duration": 4,
    "start_time": "2023-03-23T13:24:23.137Z"
   },
   {
    "duration": 3,
    "start_time": "2023-03-23T13:25:18.764Z"
   },
   {
    "duration": 3,
    "start_time": "2023-03-23T13:25:26.784Z"
   },
   {
    "duration": 5,
    "start_time": "2023-03-23T13:25:38.346Z"
   },
   {
    "duration": 3,
    "start_time": "2023-03-23T13:25:43.044Z"
   },
   {
    "duration": 4,
    "start_time": "2023-03-23T13:25:52.325Z"
   },
   {
    "duration": 2,
    "start_time": "2023-03-23T13:27:28.884Z"
   },
   {
    "duration": 2,
    "start_time": "2023-03-23T13:27:31.576Z"
   },
   {
    "duration": 4,
    "start_time": "2023-03-23T13:27:32.230Z"
   },
   {
    "duration": 10,
    "start_time": "2023-03-23T13:36:31.361Z"
   },
   {
    "duration": 3,
    "start_time": "2023-03-23T13:38:06.802Z"
   },
   {
    "duration": 4,
    "start_time": "2023-03-23T13:38:07.597Z"
   },
   {
    "duration": 9,
    "start_time": "2023-03-23T14:06:04.063Z"
   },
   {
    "duration": 45,
    "start_time": "2023-03-23T14:08:29.157Z"
   },
   {
    "duration": 3,
    "start_time": "2023-03-23T14:15:56.514Z"
   },
   {
    "duration": 52,
    "start_time": "2023-03-23T14:16:18.974Z"
   },
   {
    "duration": 45,
    "start_time": "2023-03-23T14:16:25.802Z"
   },
   {
    "duration": 49,
    "start_time": "2023-03-23T14:21:28.067Z"
   },
   {
    "duration": 9,
    "start_time": "2023-03-23T14:21:34.068Z"
   },
   {
    "duration": 3,
    "start_time": "2023-03-23T14:27:35.339Z"
   },
   {
    "duration": 53,
    "start_time": "2023-03-23T14:27:59.872Z"
   },
   {
    "duration": 3,
    "start_time": "2023-03-23T14:28:02.949Z"
   },
   {
    "duration": 59,
    "start_time": "2023-03-23T14:28:14.256Z"
   },
   {
    "duration": 50,
    "start_time": "2023-03-23T14:29:28.623Z"
   },
   {
    "duration": 49,
    "start_time": "2023-03-23T14:29:33.153Z"
   },
   {
    "duration": 9,
    "start_time": "2023-03-23T14:29:46.747Z"
   },
   {
    "duration": 8,
    "start_time": "2023-03-23T14:32:37.727Z"
   },
   {
    "duration": 9,
    "start_time": "2023-03-23T14:32:49.537Z"
   },
   {
    "duration": 3,
    "start_time": "2023-03-23T14:33:23.285Z"
   },
   {
    "duration": 8,
    "start_time": "2023-03-23T14:33:38.920Z"
   },
   {
    "duration": 2,
    "start_time": "2023-03-23T14:34:04.785Z"
   },
   {
    "duration": 3,
    "start_time": "2023-03-23T14:34:06.478Z"
   },
   {
    "duration": 3,
    "start_time": "2023-03-23T14:34:17.716Z"
   },
   {
    "duration": 3,
    "start_time": "2023-03-23T14:34:22.847Z"
   },
   {
    "duration": 3,
    "start_time": "2023-03-23T14:34:42.863Z"
   },
   {
    "duration": 3,
    "start_time": "2023-03-23T14:34:46.814Z"
   },
   {
    "duration": 10,
    "start_time": "2023-03-23T15:43:11.216Z"
   },
   {
    "duration": 3,
    "start_time": "2023-03-23T15:43:14.161Z"
   },
   {
    "duration": 3,
    "start_time": "2023-03-23T15:43:14.724Z"
   },
   {
    "duration": 3,
    "start_time": "2023-03-23T15:43:59.854Z"
   },
   {
    "duration": 3,
    "start_time": "2023-03-23T15:44:09.522Z"
   },
   {
    "duration": 49,
    "start_time": "2023-03-24T10:05:15.339Z"
   },
   {
    "duration": 1473,
    "start_time": "2023-03-24T10:05:21.490Z"
   },
   {
    "duration": 964,
    "start_time": "2023-03-24T10:05:22.965Z"
   },
   {
    "duration": 520,
    "start_time": "2023-03-24T10:05:23.930Z"
   },
   {
    "duration": 529,
    "start_time": "2023-03-24T10:05:24.452Z"
   },
   {
    "duration": 15,
    "start_time": "2023-03-24T10:05:24.984Z"
   },
   {
    "duration": 13,
    "start_time": "2023-03-24T10:05:25.001Z"
   },
   {
    "duration": 13,
    "start_time": "2023-03-24T10:05:25.016Z"
   },
   {
    "duration": 41,
    "start_time": "2023-03-24T10:05:25.040Z"
   },
   {
    "duration": 36,
    "start_time": "2023-03-24T10:05:25.082Z"
   },
   {
    "duration": 54,
    "start_time": "2023-03-24T10:05:25.120Z"
   },
   {
    "duration": 31,
    "start_time": "2023-03-24T10:05:25.176Z"
   },
   {
    "duration": 4,
    "start_time": "2023-03-24T10:05:25.209Z"
   },
   {
    "duration": 126,
    "start_time": "2023-03-24T10:05:25.215Z"
   },
   {
    "duration": 102,
    "start_time": "2023-03-24T10:05:25.344Z"
   },
   {
    "duration": 96,
    "start_time": "2023-03-24T10:05:25.447Z"
   },
   {
    "duration": 380,
    "start_time": "2023-03-24T10:05:25.544Z"
   },
   {
    "duration": 190,
    "start_time": "2023-03-24T10:05:25.926Z"
   },
   {
    "duration": 279,
    "start_time": "2023-03-24T10:05:26.118Z"
   },
   {
    "duration": 5,
    "start_time": "2023-03-24T10:05:26.399Z"
   },
   {
    "duration": 4,
    "start_time": "2023-03-24T10:05:26.406Z"
   },
   {
    "duration": 4,
    "start_time": "2023-03-24T10:05:26.411Z"
   },
   {
    "duration": 4,
    "start_time": "2023-03-24T10:05:26.417Z"
   },
   {
    "duration": 79,
    "start_time": "2023-03-24T10:05:30.953Z"
   },
   {
    "duration": 3,
    "start_time": "2023-03-24T10:05:41.290Z"
   },
   {
    "duration": 7,
    "start_time": "2023-03-24T10:06:56.938Z"
   },
   {
    "duration": 13,
    "start_time": "2023-03-24T10:07:04.822Z"
   },
   {
    "duration": 854,
    "start_time": "2023-03-24T10:09:32.175Z"
   },
   {
    "duration": 12,
    "start_time": "2023-03-24T10:09:54.979Z"
   },
   {
    "duration": 4,
    "start_time": "2023-03-24T10:10:11.283Z"
   },
   {
    "duration": 10,
    "start_time": "2023-03-24T10:10:24.526Z"
   },
   {
    "duration": 5,
    "start_time": "2023-03-24T10:10:33.973Z"
   },
   {
    "duration": 13,
    "start_time": "2023-03-24T10:16:51.759Z"
   },
   {
    "duration": 13,
    "start_time": "2023-03-24T10:17:19.428Z"
   },
   {
    "duration": 12,
    "start_time": "2023-03-24T10:17:31.602Z"
   },
   {
    "duration": 5,
    "start_time": "2023-03-24T10:19:36.613Z"
   },
   {
    "duration": 3,
    "start_time": "2023-03-24T10:40:01.602Z"
   },
   {
    "duration": 14,
    "start_time": "2023-03-24T10:40:27.023Z"
   },
   {
    "duration": 3,
    "start_time": "2023-03-24T10:40:59.556Z"
   },
   {
    "duration": 3,
    "start_time": "2023-03-24T10:41:00.054Z"
   },
   {
    "duration": 8,
    "start_time": "2023-03-24T10:41:02.869Z"
   },
   {
    "duration": 3,
    "start_time": "2023-03-24T10:47:28.768Z"
   },
   {
    "duration": 3,
    "start_time": "2023-03-24T10:47:30.679Z"
   },
   {
    "duration": 8,
    "start_time": "2023-03-24T10:48:35.788Z"
   },
   {
    "duration": 16,
    "start_time": "2023-03-24T10:48:56.546Z"
   },
   {
    "duration": 9,
    "start_time": "2023-03-24T10:49:43.632Z"
   },
   {
    "duration": 4,
    "start_time": "2023-03-24T10:50:50.683Z"
   },
   {
    "duration": 125,
    "start_time": "2023-03-24T10:50:50.688Z"
   },
   {
    "duration": 107,
    "start_time": "2023-03-24T10:50:50.814Z"
   },
   {
    "duration": 109,
    "start_time": "2023-03-24T10:50:50.922Z"
   },
   {
    "duration": 16,
    "start_time": "2023-03-24T10:50:51.034Z"
   },
   {
    "duration": 13,
    "start_time": "2023-03-24T10:50:51.052Z"
   },
   {
    "duration": 12,
    "start_time": "2023-03-24T10:50:51.066Z"
   },
   {
    "duration": 67,
    "start_time": "2023-03-24T10:50:51.079Z"
   },
   {
    "duration": 37,
    "start_time": "2023-03-24T10:50:51.148Z"
   },
   {
    "duration": 54,
    "start_time": "2023-03-24T10:50:51.187Z"
   },
   {
    "duration": 33,
    "start_time": "2023-03-24T10:50:51.243Z"
   },
   {
    "duration": 6,
    "start_time": "2023-03-24T10:50:51.277Z"
   },
   {
    "duration": 63,
    "start_time": "2023-03-24T10:50:51.284Z"
   },
   {
    "duration": 96,
    "start_time": "2023-03-24T10:50:51.350Z"
   },
   {
    "duration": 95,
    "start_time": "2023-03-24T10:50:51.448Z"
   },
   {
    "duration": 379,
    "start_time": "2023-03-24T10:50:51.544Z"
   },
   {
    "duration": 196,
    "start_time": "2023-03-24T10:50:51.925Z"
   },
   {
    "duration": 200,
    "start_time": "2023-03-24T10:50:52.123Z"
   },
   {
    "duration": 6,
    "start_time": "2023-03-24T10:50:52.325Z"
   },
   {
    "duration": 13,
    "start_time": "2023-03-24T10:50:52.339Z"
   },
   {
    "duration": 5,
    "start_time": "2023-03-24T10:50:52.353Z"
   },
   {
    "duration": 25,
    "start_time": "2023-03-24T10:50:52.360Z"
   },
   {
    "duration": 9,
    "start_time": "2023-03-24T10:50:52.386Z"
   },
   {
    "duration": 16,
    "start_time": "2023-03-24T10:50:52.396Z"
   },
   {
    "duration": 10,
    "start_time": "2023-03-24T10:50:52.414Z"
   },
   {
    "duration": 10,
    "start_time": "2023-03-24T10:51:00.025Z"
   },
   {
    "duration": 11,
    "start_time": "2023-03-24T10:51:02.386Z"
   },
   {
    "duration": 2,
    "start_time": "2023-03-24T10:51:51.331Z"
   },
   {
    "duration": 2,
    "start_time": "2023-03-24T10:51:52.069Z"
   },
   {
    "duration": 3,
    "start_time": "2023-03-24T10:51:52.728Z"
   },
   {
    "duration": 3,
    "start_time": "2023-03-24T10:52:06.201Z"
   },
   {
    "duration": 3,
    "start_time": "2023-03-24T10:52:08.014Z"
   },
   {
    "duration": 2,
    "start_time": "2023-03-24T10:52:18.737Z"
   },
   {
    "duration": 3,
    "start_time": "2023-03-24T10:52:18.937Z"
   },
   {
    "duration": 3,
    "start_time": "2023-03-24T10:53:45.770Z"
   },
   {
    "duration": 9,
    "start_time": "2023-03-24T10:53:46.186Z"
   },
   {
    "duration": 9,
    "start_time": "2023-03-24T10:53:47.071Z"
   },
   {
    "duration": 8,
    "start_time": "2023-03-24T10:53:47.488Z"
   },
   {
    "duration": 3,
    "start_time": "2023-03-24T10:54:37.836Z"
   },
   {
    "duration": 8,
    "start_time": "2023-03-24T10:54:38.151Z"
   },
   {
    "duration": 7,
    "start_time": "2023-03-24T10:54:38.561Z"
   },
   {
    "duration": 8,
    "start_time": "2023-03-24T10:54:39.004Z"
   },
   {
    "duration": 3,
    "start_time": "2023-03-24T10:54:47.187Z"
   },
   {
    "duration": 9,
    "start_time": "2023-03-24T10:54:47.519Z"
   },
   {
    "duration": 7,
    "start_time": "2023-03-24T10:54:47.957Z"
   },
   {
    "duration": 9,
    "start_time": "2023-03-24T10:54:48.329Z"
   },
   {
    "duration": 3,
    "start_time": "2023-03-24T10:54:54.475Z"
   },
   {
    "duration": 8,
    "start_time": "2023-03-24T10:54:54.895Z"
   },
   {
    "duration": 9,
    "start_time": "2023-03-24T10:54:55.556Z"
   },
   {
    "duration": 8,
    "start_time": "2023-03-24T10:54:55.936Z"
   },
   {
    "duration": 8,
    "start_time": "2023-03-24T10:55:29.643Z"
   },
   {
    "duration": 7,
    "start_time": "2023-03-24T10:55:36.169Z"
   },
   {
    "duration": 11,
    "start_time": "2023-03-24T10:55:40.935Z"
   },
   {
    "duration": 4,
    "start_time": "2023-03-24T10:56:16.846Z"
   },
   {
    "duration": 8,
    "start_time": "2023-03-24T10:56:17.594Z"
   },
   {
    "duration": 8,
    "start_time": "2023-03-24T10:56:18.516Z"
   },
   {
    "duration": 8,
    "start_time": "2023-03-24T10:56:18.927Z"
   },
   {
    "duration": 3,
    "start_time": "2023-03-24T10:56:35.977Z"
   },
   {
    "duration": 8,
    "start_time": "2023-03-24T10:56:36.458Z"
   },
   {
    "duration": 8,
    "start_time": "2023-03-24T10:56:37.207Z"
   },
   {
    "duration": 8,
    "start_time": "2023-03-24T10:56:38.122Z"
   },
   {
    "duration": 3,
    "start_time": "2023-03-24T10:56:48.446Z"
   },
   {
    "duration": 8,
    "start_time": "2023-03-24T10:56:48.937Z"
   },
   {
    "duration": 7,
    "start_time": "2023-03-24T10:56:49.126Z"
   },
   {
    "duration": 8,
    "start_time": "2023-03-24T10:56:49.614Z"
   },
   {
    "duration": 47,
    "start_time": "2023-03-24T11:03:07.883Z"
   },
   {
    "duration": 8,
    "start_time": "2023-03-24T11:03:17.847Z"
   },
   {
    "duration": 10,
    "start_time": "2023-03-24T11:03:21.682Z"
   },
   {
    "duration": 9,
    "start_time": "2023-03-24T13:06:45.792Z"
   },
   {
    "duration": 3,
    "start_time": "2023-03-24T13:06:48.753Z"
   },
   {
    "duration": 12,
    "start_time": "2023-03-24T13:06:49.639Z"
   },
   {
    "duration": 3,
    "start_time": "2023-03-24T13:09:47.181Z"
   },
   {
    "duration": 12,
    "start_time": "2023-03-24T13:09:48.478Z"
   },
   {
    "duration": 4,
    "start_time": "2023-03-24T13:10:40.191Z"
   },
   {
    "duration": 17,
    "start_time": "2023-03-24T13:10:41.779Z"
   },
   {
    "duration": 4,
    "start_time": "2023-03-24T13:10:57.641Z"
   },
   {
    "duration": 3,
    "start_time": "2023-03-24T13:11:00.677Z"
   },
   {
    "duration": 18,
    "start_time": "2023-03-24T13:11:01.628Z"
   },
   {
    "duration": 4,
    "start_time": "2023-03-24T13:11:10.779Z"
   },
   {
    "duration": 11,
    "start_time": "2023-03-24T13:11:11.932Z"
   },
   {
    "duration": 15,
    "start_time": "2023-03-24T13:11:11.945Z"
   },
   {
    "duration": 10,
    "start_time": "2023-03-24T13:11:13.534Z"
   },
   {
    "duration": 15,
    "start_time": "2023-03-24T13:11:14.175Z"
   },
   {
    "duration": 14,
    "start_time": "2023-03-24T13:11:49.040Z"
   },
   {
    "duration": 15,
    "start_time": "2023-03-24T13:11:49.707Z"
   },
   {
    "duration": 3,
    "start_time": "2023-03-24T13:25:22.188Z"
   },
   {
    "duration": 11,
    "start_time": "2023-03-24T13:27:46.174Z"
   },
   {
    "duration": 3,
    "start_time": "2023-03-24T13:27:59.199Z"
   },
   {
    "duration": 5,
    "start_time": "2023-03-24T13:28:02.443Z"
   },
   {
    "duration": 16,
    "start_time": "2023-03-24T13:28:27.876Z"
   },
   {
    "duration": 12,
    "start_time": "2023-03-24T13:29:08.275Z"
   },
   {
    "duration": 5,
    "start_time": "2023-03-24T13:29:10.134Z"
   },
   {
    "duration": 19,
    "start_time": "2023-03-24T13:29:10.734Z"
   },
   {
    "duration": 4,
    "start_time": "2023-03-24T13:29:53.903Z"
   },
   {
    "duration": 19,
    "start_time": "2023-03-24T13:29:54.973Z"
   },
   {
    "duration": 7,
    "start_time": "2023-03-24T13:30:17.030Z"
   },
   {
    "duration": 6,
    "start_time": "2023-03-24T13:30:53.509Z"
   },
   {
    "duration": 6,
    "start_time": "2023-03-24T13:30:54.241Z"
   },
   {
    "duration": 13,
    "start_time": "2023-03-24T13:30:55.538Z"
   },
   {
    "duration": 6,
    "start_time": "2023-03-24T13:32:57.782Z"
   },
   {
    "duration": 10,
    "start_time": "2023-03-24T13:34:55.203Z"
   },
   {
    "duration": 11,
    "start_time": "2023-03-24T13:35:01.883Z"
   },
   {
    "duration": 10,
    "start_time": "2023-03-24T13:35:13.812Z"
   },
   {
    "duration": 9,
    "start_time": "2023-03-24T13:36:32.841Z"
   },
   {
    "duration": 3,
    "start_time": "2023-03-24T13:37:31.430Z"
   },
   {
    "duration": 3,
    "start_time": "2023-03-24T13:37:37.210Z"
   },
   {
    "duration": 9,
    "start_time": "2023-03-24T13:37:46.510Z"
   },
   {
    "duration": 9,
    "start_time": "2023-03-24T13:37:49.450Z"
   },
   {
    "duration": 4,
    "start_time": "2023-03-24T13:37:56.738Z"
   },
   {
    "duration": 4,
    "start_time": "2023-03-24T13:38:24.076Z"
   },
   {
    "duration": 9,
    "start_time": "2023-03-24T13:39:03.248Z"
   },
   {
    "duration": 4,
    "start_time": "2023-03-24T13:39:15.689Z"
   },
   {
    "duration": 9,
    "start_time": "2023-03-24T13:44:49.378Z"
   },
   {
    "duration": 9,
    "start_time": "2023-03-24T13:45:00.054Z"
   },
   {
    "duration": 9,
    "start_time": "2023-03-24T13:48:26.486Z"
   },
   {
    "duration": 15,
    "start_time": "2023-03-24T13:49:27.641Z"
   },
   {
    "duration": 11,
    "start_time": "2023-03-24T13:49:54.139Z"
   },
   {
    "duration": 11,
    "start_time": "2023-03-24T13:50:04.208Z"
   },
   {
    "duration": 11,
    "start_time": "2023-03-24T13:50:06.333Z"
   },
   {
    "duration": 7,
    "start_time": "2023-03-24T13:50:14.610Z"
   },
   {
    "duration": 4,
    "start_time": "2023-03-24T13:58:41.581Z"
   },
   {
    "duration": 3,
    "start_time": "2023-03-24T13:58:57.501Z"
   },
   {
    "duration": 6,
    "start_time": "2023-03-24T13:59:09.022Z"
   },
   {
    "duration": 4,
    "start_time": "2023-03-24T13:59:27.881Z"
   },
   {
    "duration": 10,
    "start_time": "2023-03-24T13:59:38.240Z"
   },
   {
    "duration": 6,
    "start_time": "2023-03-24T13:59:46.283Z"
   },
   {
    "duration": 16,
    "start_time": "2023-03-24T13:59:56.928Z"
   },
   {
    "duration": 4,
    "start_time": "2023-03-24T14:00:14.385Z"
   },
   {
    "duration": 7,
    "start_time": "2023-03-24T14:00:21.697Z"
   },
   {
    "duration": 8,
    "start_time": "2023-03-24T14:00:49.401Z"
   },
   {
    "duration": 9,
    "start_time": "2023-03-24T14:00:58.409Z"
   },
   {
    "duration": 4,
    "start_time": "2023-03-24T14:01:03.512Z"
   },
   {
    "duration": 5,
    "start_time": "2023-03-24T14:02:17.715Z"
   },
   {
    "duration": 5,
    "start_time": "2023-03-24T14:04:37.509Z"
   },
   {
    "duration": 13,
    "start_time": "2023-03-24T14:05:00.042Z"
   },
   {
    "duration": 5,
    "start_time": "2023-03-24T14:05:25.793Z"
   },
   {
    "duration": 2387,
    "start_time": "2023-03-24T14:05:26.415Z"
   },
   {
    "duration": 5,
    "start_time": "2023-03-24T14:06:08.293Z"
   },
   {
    "duration": 2369,
    "start_time": "2023-03-24T14:06:09.455Z"
   },
   {
    "duration": 15,
    "start_time": "2023-03-24T14:08:23.839Z"
   },
   {
    "duration": 4,
    "start_time": "2023-03-24T14:08:59.922Z"
   },
   {
    "duration": 3,
    "start_time": "2023-03-24T14:09:14.392Z"
   },
   {
    "duration": 135,
    "start_time": "2023-03-24T14:09:14.396Z"
   },
   {
    "duration": 113,
    "start_time": "2023-03-24T14:09:14.532Z"
   },
   {
    "duration": 109,
    "start_time": "2023-03-24T14:09:14.647Z"
   },
   {
    "duration": 13,
    "start_time": "2023-03-24T14:09:14.758Z"
   },
   {
    "duration": 18,
    "start_time": "2023-03-24T14:09:14.772Z"
   },
   {
    "duration": 11,
    "start_time": "2023-03-24T14:09:14.792Z"
   },
   {
    "duration": 56,
    "start_time": "2023-03-24T14:09:14.805Z"
   },
   {
    "duration": 37,
    "start_time": "2023-03-24T14:09:14.862Z"
   },
   {
    "duration": 53,
    "start_time": "2023-03-24T14:09:14.901Z"
   },
   {
    "duration": 23,
    "start_time": "2023-03-24T14:09:14.956Z"
   },
   {
    "duration": 4,
    "start_time": "2023-03-24T14:09:14.980Z"
   },
   {
    "duration": 59,
    "start_time": "2023-03-24T14:09:14.985Z"
   },
   {
    "duration": 102,
    "start_time": "2023-03-24T14:09:15.047Z"
   },
   {
    "duration": 202,
    "start_time": "2023-03-24T14:09:15.151Z"
   },
   {
    "duration": 285,
    "start_time": "2023-03-24T14:09:15.441Z"
   },
   {
    "duration": 191,
    "start_time": "2023-03-24T14:09:15.728Z"
   },
   {
    "duration": 268,
    "start_time": "2023-03-24T14:09:15.921Z"
   },
   {
    "duration": 8,
    "start_time": "2023-03-24T14:09:16.191Z"
   },
   {
    "duration": 3,
    "start_time": "2023-03-24T14:09:16.201Z"
   },
   {
    "duration": 4,
    "start_time": "2023-03-24T14:09:16.206Z"
   },
   {
    "duration": 11,
    "start_time": "2023-03-24T14:09:16.212Z"
   },
   {
    "duration": 5,
    "start_time": "2023-03-24T14:09:16.240Z"
   },
   {
    "duration": 14,
    "start_time": "2023-03-24T14:09:16.247Z"
   },
   {
    "duration": 13,
    "start_time": "2023-03-24T14:09:16.263Z"
   },
   {
    "duration": 14,
    "start_time": "2023-03-24T14:09:16.278Z"
   },
   {
    "duration": 1037,
    "start_time": "2023-03-24T14:09:16.293Z"
   },
   {
    "duration": 8,
    "start_time": "2023-03-24T14:09:17.332Z"
   },
   {
    "duration": 1270,
    "start_time": "2023-03-24T14:09:17.342Z"
   },
   {
    "duration": 1278,
    "start_time": "2023-03-24T14:09:18.613Z"
   },
   {
    "duration": 1311,
    "start_time": "2023-03-24T14:09:19.893Z"
   },
   {
    "duration": 6,
    "start_time": "2023-03-24T14:12:28.780Z"
   },
   {
    "duration": 1274,
    "start_time": "2023-03-24T14:12:29.452Z"
   },
   {
    "duration": 1269,
    "start_time": "2023-03-24T14:12:49.524Z"
   },
   {
    "duration": 1418,
    "start_time": "2023-03-24T14:12:56.309Z"
   },
   {
    "duration": 1366,
    "start_time": "2023-03-24T14:16:06.341Z"
   },
   {
    "duration": 6,
    "start_time": "2023-03-24T14:27:06.397Z"
   },
   {
    "duration": 1323,
    "start_time": "2023-03-24T14:27:08.291Z"
   },
   {
    "duration": 6,
    "start_time": "2023-03-24T14:42:50.809Z"
   },
   {
    "duration": 1263,
    "start_time": "2023-03-24T14:42:51.692Z"
   },
   {
    "duration": 1307,
    "start_time": "2023-03-24T14:42:57.094Z"
   },
   {
    "duration": 1317,
    "start_time": "2023-03-24T14:43:01.880Z"
   },
   {
    "duration": 3387,
    "start_time": "2023-03-25T18:13:21.604Z"
   },
   {
    "duration": 600,
    "start_time": "2023-03-25T18:13:24.993Z"
   },
   {
    "duration": 537,
    "start_time": "2023-03-25T18:13:25.595Z"
   },
   {
    "duration": 560,
    "start_time": "2023-03-25T18:13:26.133Z"
   },
   {
    "duration": 15,
    "start_time": "2023-03-25T18:13:26.695Z"
   },
   {
    "duration": 13,
    "start_time": "2023-03-25T18:13:26.712Z"
   },
   {
    "duration": 27,
    "start_time": "2023-03-25T18:13:26.727Z"
   },
   {
    "duration": 47,
    "start_time": "2023-03-25T18:13:26.755Z"
   },
   {
    "duration": 53,
    "start_time": "2023-03-25T18:13:26.804Z"
   },
   {
    "duration": 41,
    "start_time": "2023-03-25T18:13:26.859Z"
   },
   {
    "duration": 60,
    "start_time": "2023-03-25T18:13:26.902Z"
   },
   {
    "duration": 5,
    "start_time": "2023-03-25T18:13:26.964Z"
   },
   {
    "duration": 175,
    "start_time": "2023-03-25T18:13:26.971Z"
   },
   {
    "duration": 117,
    "start_time": "2023-03-25T18:13:27.151Z"
   },
   {
    "duration": 178,
    "start_time": "2023-03-25T18:13:27.270Z"
   },
   {
    "duration": 313,
    "start_time": "2023-03-25T18:13:27.455Z"
   },
   {
    "duration": 220,
    "start_time": "2023-03-25T18:13:27.770Z"
   },
   {
    "duration": 312,
    "start_time": "2023-03-25T18:13:27.992Z"
   },
   {
    "duration": 7,
    "start_time": "2023-03-25T18:13:28.305Z"
   },
   {
    "duration": 5,
    "start_time": "2023-03-25T18:13:28.314Z"
   },
   {
    "duration": 5,
    "start_time": "2023-03-25T18:13:28.321Z"
   },
   {
    "duration": 5,
    "start_time": "2023-03-25T18:13:28.341Z"
   },
   {
    "duration": 4,
    "start_time": "2023-03-25T18:13:28.354Z"
   },
   {
    "duration": 13,
    "start_time": "2023-03-25T18:13:28.359Z"
   },
   {
    "duration": 10,
    "start_time": "2023-03-25T18:13:28.374Z"
   },
   {
    "duration": 11,
    "start_time": "2023-03-25T18:13:28.386Z"
   },
   {
    "duration": 6,
    "start_time": "2023-03-25T18:13:28.399Z"
   },
   {
    "duration": 2651,
    "start_time": "2023-03-25T18:13:28.406Z"
   },
   {
    "duration": 2638,
    "start_time": "2023-03-25T18:13:31.059Z"
   },
   {
    "duration": 2614,
    "start_time": "2023-03-25T18:13:33.698Z"
   },
   {
    "duration": 54,
    "start_time": "2023-03-26T09:31:42.031Z"
   },
   {
    "duration": 1507,
    "start_time": "2023-03-26T09:31:45.944Z"
   },
   {
    "duration": 575,
    "start_time": "2023-03-26T09:31:47.542Z"
   },
   {
    "duration": 529,
    "start_time": "2023-03-26T09:31:48.120Z"
   },
   {
    "duration": 536,
    "start_time": "2023-03-26T09:31:48.651Z"
   },
   {
    "duration": 15,
    "start_time": "2023-03-26T09:31:50.230Z"
   },
   {
    "duration": 14,
    "start_time": "2023-03-26T09:31:50.909Z"
   },
   {
    "duration": 13,
    "start_time": "2023-03-26T09:31:51.451Z"
   },
   {
    "duration": 46,
    "start_time": "2023-03-26T09:31:52.650Z"
   },
   {
    "duration": 42,
    "start_time": "2023-03-26T09:31:53.177Z"
   },
   {
    "duration": 49,
    "start_time": "2023-03-26T09:31:53.660Z"
   },
   {
    "duration": 11,
    "start_time": "2023-03-26T09:31:56.659Z"
   },
   {
    "duration": 87,
    "start_time": "2023-03-26T09:33:19.948Z"
   },
   {
    "duration": 8,
    "start_time": "2023-03-26T09:33:43.874Z"
   },
   {
    "duration": 11,
    "start_time": "2023-03-26T09:35:40.593Z"
   },
   {
    "duration": 7,
    "start_time": "2023-03-26T09:35:45.436Z"
   },
   {
    "duration": 1130,
    "start_time": "2023-03-26T09:36:26.887Z"
   },
   {
    "duration": 29,
    "start_time": "2023-03-26T09:36:58.884Z"
   },
   {
    "duration": 28,
    "start_time": "2023-03-26T09:37:22.050Z"
   },
   {
    "duration": 7,
    "start_time": "2023-03-26T09:39:16.520Z"
   },
   {
    "duration": 8,
    "start_time": "2023-03-26T09:39:26.920Z"
   },
   {
    "duration": 7,
    "start_time": "2023-03-26T09:39:33.191Z"
   },
   {
    "duration": 954,
    "start_time": "2023-03-26T09:39:38.620Z"
   },
   {
    "duration": 7,
    "start_time": "2023-03-26T09:39:43.044Z"
   },
   {
    "duration": 23,
    "start_time": "2023-03-26T09:39:49.550Z"
   },
   {
    "duration": 23,
    "start_time": "2023-03-26T09:39:56.566Z"
   },
   {
    "duration": 21,
    "start_time": "2023-03-26T09:44:14.319Z"
   },
   {
    "duration": 31,
    "start_time": "2023-03-26T09:56:35.929Z"
   },
   {
    "duration": 14,
    "start_time": "2023-03-26T09:56:47.877Z"
   },
   {
    "duration": 37,
    "start_time": "2023-03-26T09:57:00.726Z"
   },
   {
    "duration": 6,
    "start_time": "2023-03-26T09:57:01.132Z"
   },
   {
    "duration": 12,
    "start_time": "2023-03-26T10:01:14.675Z"
   },
   {
    "duration": 17,
    "start_time": "2023-03-26T10:01:17.158Z"
   },
   {
    "duration": 11,
    "start_time": "2023-03-26T10:01:17.973Z"
   },
   {
    "duration": 5,
    "start_time": "2023-03-26T10:03:51.519Z"
   },
   {
    "duration": 9,
    "start_time": "2023-03-26T10:04:18.790Z"
   },
   {
    "duration": 11,
    "start_time": "2023-03-26T10:04:21.716Z"
   },
   {
    "duration": 40,
    "start_time": "2023-03-26T10:04:24.160Z"
   },
   {
    "duration": 6,
    "start_time": "2023-03-26T10:04:24.556Z"
   },
   {
    "duration": 20,
    "start_time": "2023-03-26T10:04:25.643Z"
   },
   {
    "duration": 13,
    "start_time": "2023-03-26T10:04:31.068Z"
   },
   {
    "duration": 9,
    "start_time": "2023-03-26T10:04:34.047Z"
   },
   {
    "duration": 3,
    "start_time": "2023-03-26T10:04:38.773Z"
   },
   {
    "duration": 16,
    "start_time": "2023-03-26T10:04:42.224Z"
   },
   {
    "duration": 12,
    "start_time": "2023-03-26T10:04:55.220Z"
   },
   {
    "duration": 9,
    "start_time": "2023-03-26T10:06:14.344Z"
   },
   {
    "duration": 10,
    "start_time": "2023-03-26T10:06:53.393Z"
   },
   {
    "duration": 10,
    "start_time": "2023-03-26T10:06:58.494Z"
   },
   {
    "duration": 53,
    "start_time": "2023-03-26T10:07:15.595Z"
   },
   {
    "duration": 45,
    "start_time": "2023-03-26T10:07:21.980Z"
   },
   {
    "duration": 43,
    "start_time": "2023-03-26T10:10:21.018Z"
   },
   {
    "duration": 13,
    "start_time": "2023-03-26T10:10:25.222Z"
   },
   {
    "duration": 9,
    "start_time": "2023-03-26T10:10:30.938Z"
   },
   {
    "duration": 60,
    "start_time": "2023-03-26T10:11:12.597Z"
   },
   {
    "duration": 61,
    "start_time": "2023-03-26T10:11:57.774Z"
   },
   {
    "duration": 12,
    "start_time": "2023-03-26T10:12:10.073Z"
   },
   {
    "duration": 3,
    "start_time": "2023-03-26T10:24:15.683Z"
   },
   {
    "duration": 3,
    "start_time": "2023-03-26T10:24:42.436Z"
   },
   {
    "duration": 6,
    "start_time": "2023-03-26T10:41:52.547Z"
   },
   {
    "duration": 2286,
    "start_time": "2023-03-26T10:41:54.691Z"
   },
   {
    "duration": 5,
    "start_time": "2023-03-26T10:44:53.095Z"
   },
   {
    "duration": 2290,
    "start_time": "2023-03-26T10:44:55.166Z"
   },
   {
    "duration": 9,
    "start_time": "2023-03-26T10:46:03.328Z"
   },
   {
    "duration": 21,
    "start_time": "2023-03-26T10:46:09.800Z"
   },
   {
    "duration": 0,
    "start_time": "2023-03-26T10:46:09.824Z"
   },
   {
    "duration": 0,
    "start_time": "2023-03-26T10:46:09.826Z"
   },
   {
    "duration": 0,
    "start_time": "2023-03-26T10:46:09.827Z"
   },
   {
    "duration": 1,
    "start_time": "2023-03-26T10:46:09.828Z"
   },
   {
    "duration": 0,
    "start_time": "2023-03-26T10:46:09.830Z"
   },
   {
    "duration": 0,
    "start_time": "2023-03-26T10:46:09.831Z"
   },
   {
    "duration": 0,
    "start_time": "2023-03-26T10:46:09.833Z"
   },
   {
    "duration": 0,
    "start_time": "2023-03-26T10:46:09.835Z"
   },
   {
    "duration": 0,
    "start_time": "2023-03-26T10:46:09.836Z"
   },
   {
    "duration": 0,
    "start_time": "2023-03-26T10:46:09.838Z"
   },
   {
    "duration": 1,
    "start_time": "2023-03-26T10:46:09.839Z"
   },
   {
    "duration": 0,
    "start_time": "2023-03-26T10:46:09.841Z"
   },
   {
    "duration": 0,
    "start_time": "2023-03-26T10:46:09.843Z"
   },
   {
    "duration": 0,
    "start_time": "2023-03-26T10:46:09.844Z"
   },
   {
    "duration": 0,
    "start_time": "2023-03-26T10:46:09.846Z"
   },
   {
    "duration": 0,
    "start_time": "2023-03-26T10:46:09.848Z"
   },
   {
    "duration": 0,
    "start_time": "2023-03-26T10:46:09.849Z"
   },
   {
    "duration": 0,
    "start_time": "2023-03-26T10:46:09.851Z"
   },
   {
    "duration": 0,
    "start_time": "2023-03-26T10:46:09.851Z"
   },
   {
    "duration": 0,
    "start_time": "2023-03-26T10:46:09.853Z"
   },
   {
    "duration": 4,
    "start_time": "2023-03-26T10:46:09.855Z"
   },
   {
    "duration": 61,
    "start_time": "2023-03-26T10:46:09.860Z"
   },
   {
    "duration": 25,
    "start_time": "2023-03-26T10:46:09.923Z"
   },
   {
    "duration": 16,
    "start_time": "2023-03-26T10:46:09.950Z"
   },
   {
    "duration": 9,
    "start_time": "2023-03-26T10:46:09.968Z"
   },
   {
    "duration": 0,
    "start_time": "2023-03-26T10:46:09.979Z"
   },
   {
    "duration": 0,
    "start_time": "2023-03-26T10:46:09.979Z"
   },
   {
    "duration": 0,
    "start_time": "2023-03-26T10:46:09.981Z"
   },
   {
    "duration": 2305,
    "start_time": "2023-03-26T10:46:12.360Z"
   },
   {
    "duration": 13,
    "start_time": "2023-03-26T10:46:15.503Z"
   },
   {
    "duration": 4,
    "start_time": "2023-03-26T10:46:44.122Z"
   },
   {
    "duration": 159,
    "start_time": "2023-03-26T10:46:44.127Z"
   },
   {
    "duration": 152,
    "start_time": "2023-03-26T10:46:44.288Z"
   },
   {
    "duration": 138,
    "start_time": "2023-03-26T10:46:44.441Z"
   },
   {
    "duration": 14,
    "start_time": "2023-03-26T10:46:44.581Z"
   },
   {
    "duration": 22,
    "start_time": "2023-03-26T10:46:44.609Z"
   },
   {
    "duration": 23,
    "start_time": "2023-03-26T10:46:44.633Z"
   },
   {
    "duration": 84,
    "start_time": "2023-03-26T10:46:44.658Z"
   },
   {
    "duration": 74,
    "start_time": "2023-03-26T10:46:44.744Z"
   },
   {
    "duration": 69,
    "start_time": "2023-03-26T10:46:44.820Z"
   },
   {
    "duration": 45,
    "start_time": "2023-03-26T10:46:44.891Z"
   },
   {
    "duration": 36,
    "start_time": "2023-03-26T10:46:44.938Z"
   },
   {
    "duration": 5,
    "start_time": "2023-03-26T10:46:44.976Z"
   },
   {
    "duration": 125,
    "start_time": "2023-03-26T10:46:44.985Z"
   },
   {
    "duration": 121,
    "start_time": "2023-03-26T10:46:45.114Z"
   },
   {
    "duration": 174,
    "start_time": "2023-03-26T10:46:45.240Z"
   },
   {
    "duration": 333,
    "start_time": "2023-03-26T10:46:45.418Z"
   },
   {
    "duration": 308,
    "start_time": "2023-03-26T10:46:45.753Z"
   },
   {
    "duration": 262,
    "start_time": "2023-03-26T10:46:46.063Z"
   },
   {
    "duration": 7,
    "start_time": "2023-03-26T10:46:46.327Z"
   },
   {
    "duration": 3,
    "start_time": "2023-03-26T10:46:46.336Z"
   },
   {
    "duration": 4,
    "start_time": "2023-03-26T10:46:46.342Z"
   },
   {
    "duration": 5,
    "start_time": "2023-03-26T10:46:46.348Z"
   },
   {
    "duration": 4,
    "start_time": "2023-03-26T10:46:46.355Z"
   },
   {
    "duration": 54,
    "start_time": "2023-03-26T10:46:46.361Z"
   },
   {
    "duration": 14,
    "start_time": "2023-03-26T10:46:46.421Z"
   },
   {
    "duration": 13,
    "start_time": "2023-03-26T10:46:46.437Z"
   },
   {
    "duration": 8,
    "start_time": "2023-03-26T10:46:46.452Z"
   },
   {
    "duration": 2520,
    "start_time": "2023-03-26T10:46:46.462Z"
   },
   {
    "duration": 2296,
    "start_time": "2023-03-26T10:46:48.983Z"
   },
   {
    "duration": 2308,
    "start_time": "2023-03-26T10:46:51.280Z"
   },
   {
    "duration": 6,
    "start_time": "2023-03-26T10:52:17.522Z"
   },
   {
    "duration": 2431,
    "start_time": "2023-03-26T10:52:19.394Z"
   },
   {
    "duration": 5,
    "start_time": "2023-03-26T10:53:14.575Z"
   },
   {
    "duration": 2388,
    "start_time": "2023-03-26T10:53:15.960Z"
   },
   {
    "duration": 7,
    "start_time": "2023-03-26T10:54:17.060Z"
   },
   {
    "duration": 2750,
    "start_time": "2023-03-26T10:54:19.639Z"
   },
   {
    "duration": 2748,
    "start_time": "2023-03-26T10:54:29.071Z"
   },
   {
    "duration": 2926,
    "start_time": "2023-03-26T10:54:32.739Z"
   },
   {
    "duration": 7,
    "start_time": "2023-03-26T10:55:24.922Z"
   },
   {
    "duration": 2612,
    "start_time": "2023-03-26T10:55:26.760Z"
   },
   {
    "duration": 54,
    "start_time": "2023-03-26T10:55:50.338Z"
   },
   {
    "duration": 6,
    "start_time": "2023-03-26T10:55:57.220Z"
   },
   {
    "duration": 2685,
    "start_time": "2023-03-26T10:55:58.924Z"
   },
   {
    "duration": 2699,
    "start_time": "2023-03-26T10:56:03.002Z"
   },
   {
    "duration": 2343,
    "start_time": "2023-03-26T10:56:06.794Z"
   },
   {
    "duration": 8,
    "start_time": "2023-03-26T11:03:49.083Z"
   },
   {
    "duration": 2440,
    "start_time": "2023-03-26T11:03:50.797Z"
   },
   {
    "duration": 6,
    "start_time": "2023-03-26T11:04:16.018Z"
   },
   {
    "duration": 2319,
    "start_time": "2023-03-26T11:04:17.614Z"
   },
   {
    "duration": 2275,
    "start_time": "2023-03-26T11:04:23.011Z"
   },
   {
    "duration": 2327,
    "start_time": "2023-03-26T11:04:26.343Z"
   },
   {
    "duration": 8,
    "start_time": "2023-03-26T11:07:31.632Z"
   },
   {
    "duration": 2321,
    "start_time": "2023-03-26T11:07:33.773Z"
   },
   {
    "duration": 6,
    "start_time": "2023-03-26T11:10:30.865Z"
   },
   {
    "duration": 2382,
    "start_time": "2023-03-26T11:10:32.538Z"
   },
   {
    "duration": 6,
    "start_time": "2023-03-26T11:10:39.091Z"
   },
   {
    "duration": 2294,
    "start_time": "2023-03-26T11:10:44.416Z"
   },
   {
    "duration": 2377,
    "start_time": "2023-03-26T11:10:46.713Z"
   },
   {
    "duration": 2331,
    "start_time": "2023-03-26T11:10:49.091Z"
   },
   {
    "duration": 26,
    "start_time": "2023-03-26T11:13:28.179Z"
   },
   {
    "duration": 73,
    "start_time": "2023-03-26T21:19:11.589Z"
   },
   {
    "duration": 1776,
    "start_time": "2023-03-26T21:19:15.197Z"
   },
   {
    "duration": 737,
    "start_time": "2023-03-26T21:19:16.976Z"
   },
   {
    "duration": 91,
    "start_time": "2023-03-26T21:19:18.976Z"
   }
  ],
  "kernelspec": {
   "display_name": "Python 3 (ipykernel)",
   "language": "python",
   "name": "python3"
  },
  "language_info": {
   "codemirror_mode": {
    "name": "ipython",
    "version": 3
   },
   "file_extension": ".py",
   "mimetype": "text/x-python",
   "name": "python",
   "nbconvert_exporter": "python",
   "pygments_lexer": "ipython3",
   "version": "3.10.9"
  },
  "toc": {
   "base_numbering": 1,
   "nav_menu": {},
   "number_sections": true,
   "sideBar": true,
   "skip_h1_title": true,
   "title_cell": "Table of Contents",
   "title_sidebar": "Contents",
   "toc_cell": false,
   "toc_position": {
    "height": "calc(100% - 180px)",
    "left": "10px",
    "top": "150px",
    "width": "531.594px"
   },
   "toc_section_display": true,
   "toc_window_display": true
  }
 },
 "nbformat": 4,
 "nbformat_minor": 2
}
